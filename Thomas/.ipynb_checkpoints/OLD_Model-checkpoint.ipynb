{
 "cells": [
  {
   "cell_type": "code",
   "execution_count": null,
   "id": "a83d2731",
   "metadata": {},
   "outputs": [],
   "source": [
    "import pandas as pd\n",
    "import numpy as np\n",
    "import seaborn as sns\n",
    "import matplotlib as mpl\n",
    "import matplotlib.pyplot as plt\n",
    "\n",
    "import datetime as dt\n",
    "from datetime import datetime, timedelta\n",
    "from dateutil.relativedelta import relativedelta\n",
    "\n",
    "from sklearn import preprocessing\n",
    "from sklearn.model_selection import train_test_split\n",
    "from sklearn.compose import ColumnTransformer\n",
    "from sklearn.preprocessing import OneHotEncoder\n",
    "from sklearn.preprocessing import StandardScaler\n",
    "from sklearn.preprocessing import LabelEncoder\n",
    "from sklearn.preprocessing import Normalizer"
   ]
  },
  {
   "cell_type": "code",
   "execution_count": null,
   "id": "e0eb17b4",
   "metadata": {},
   "outputs": [],
   "source": [
    "df_airlines = pd.read_csv('airlines.csv', na_values=' ')\n",
    "df_airlines.head()"
   ]
  },
  {
   "cell_type": "code",
   "execution_count": null,
   "id": "2a8a10a4",
   "metadata": {},
   "outputs": [],
   "source": [
    "df_airports = pd.read_csv('airports.csv', na_values=' ')\n",
    "df_airports.head()"
   ]
  },
  {
   "cell_type": "code",
   "execution_count": null,
   "id": "b38ddc37",
   "metadata": {},
   "outputs": [],
   "source": [
    "df_hdata = pd.read_csv('historic_data.csv', low_memory = False, na_values=' ', on_bad_lines='skip')\n",
    "df_hdata.head()"
   ]
  },
  {
   "cell_type": "code",
   "execution_count": null,
   "id": "fea18306",
   "metadata": {},
   "outputs": [],
   "source": [
    "df_fdata = pd.read_csv('future_data.csv', low_memory = False, na_values=' ')\n",
    "df_fdata.head()"
   ]
  },
  {
   "cell_type": "code",
   "execution_count": null,
   "id": "21722bd9",
   "metadata": {},
   "outputs": [],
   "source": [
    "df_air_or = df_airports.rename(columns={'IATA_CODE':'ORIGIN_AIRPORT', 'CITY': 'OR_CITY', 'STATE': 'OR_STATE', 'COUNTRY': 'OR_COUNTRY', 'LATITUDE': 'OR_LATITUDE', 'LONGITUDE': 'OR_LONGITUDE'}, index={'ONE': 'Row_1'})\n",
    "df_air_des = df_airports.rename(columns={'IATA_CODE':'DESTINATION_AIRPORT', 'CITY': 'DES_CITY', 'STATE': 'DES_STATE', 'COUNTRY': 'DES_COUNTRY', 'LATITUDE': 'DES_LATITUDE', 'LONGITUDE': 'DES_LONGITUDE'}, index={'ONE': 'Row_1'})"
   ]
  },
  {
   "cell_type": "code",
   "execution_count": null,
   "id": "1c93e711",
   "metadata": {},
   "outputs": [],
   "source": [
    "df_final1 = df_hdata.merge(df_air_or, how='left', on='ORIGIN_AIRPORT', left_index=False, right_index=False, sort=False, suffixes=('_x', '_y'), copy=True, indicator=False, validate=None)\n",
    "df_final2 = df_final1.merge(df_air_des, how='left', on='DESTINATION_AIRPORT', left_index=False, right_index=False, sort=False, suffixes=('_x', '_y'), copy=True, indicator=False, validate=None)"
   ]
  },
  {
   "cell_type": "code",
   "execution_count": null,
   "id": "9adbbe76",
   "metadata": {},
   "outputs": [],
   "source": [
    "df_final = df_final2.drop(['AIRPORT_y','AIRPORT_x'], axis = 1)\n",
    "df_final.head()"
   ]
  },
  {
   "cell_type": "code",
   "execution_count": null,
   "id": "e6a8063d",
   "metadata": {},
   "outputs": [],
   "source": [
    "df_final['SCHEDULED_DEPARTURE'] = pd.to_datetime(df_final['SCHEDULED_DEPARTURE'], format='%Y-%m-%d %H:%M:%S')\n",
    "df_final['SCHEDULED_ARRIVAL'] = pd.to_datetime(df_final['SCHEDULED_ARRIVAL'], format='%H:%M:%S')\n",
    "df_final['TIME_AR'] = df_final['SCHEDULED_ARRIVAL'].dt.time\n",
    "df_final['TIME_DE'] = df_final['SCHEDULED_DEPARTURE'].dt.time\n",
    "df_final['YEAR_DE'] = df_final['SCHEDULED_DEPARTURE'].dt.year\n",
    "df_final['MONTH_DE'] = df_final['SCHEDULED_DEPARTURE'].dt.month\n",
    "df_final['DAY_DE'] = df_final['SCHEDULED_DEPARTURE'].dt.day\n",
    "\n",
    "df_final['WEEKDAY_DE'] = df_final['SCHEDULED_DEPARTURE'].dt.weekday\n",
    "# Weekend dummy maybe more relavent.\n",
    "df_final['WEEKEND_DE'] = df_final['WEEKDAY_DE'].apply(lambda x: 1 if x >= 6 else 0)\n",
    "\n",
    "df_final['HOUR_DE'] = df_final['SCHEDULED_DEPARTURE'].dt.hour"
   ]
  },
  {
   "cell_type": "code",
   "execution_count": null,
   "id": "dae4182b",
   "metadata": {},
   "outputs": [],
   "source": [
    "max_departure = max(df_final['DEPARTURE_DELAY'])\n",
    "max_schedule = max(df_final['SCHEDULED_TIME'])"
   ]
  },
  {
   "cell_type": "code",
   "execution_count": null,
   "id": "35cc58c9",
   "metadata": {},
   "outputs": [],
   "source": [
    "fmt=\"%Y/%m/%d %H:%M:%S\"\n",
    "fmt2=\"%H:%M:%S\""
   ]
  },
  {
   "cell_type": "code",
   "execution_count": null,
   "id": "284a27b2",
   "metadata": {},
   "outputs": [],
   "source": [
    "df_final['DEP_DATE_TIME']=pd.to_datetime(df_final['SCHEDULED_DEPARTURE'], format = fmt) + pd.to_timedelta(df_final['DEPARTURE_DELAY'], 'm')\n",
    "df_final['ARR_DATE_TIME']=df_final['DEP_DATE_TIME']+ pd.to_timedelta(df_final['TAXI_IN'],'m') + pd.to_timedelta(df_final['TAXI_OUT'], 'm') + pd.to_timedelta(df_final['AIR_TIME'], 'm')\n",
    "df_final['SCH_ARR_DATE_TIME']=pd.to_datetime(df_final['SCHEDULED_DEPARTURE'], format = fmt) + pd.to_timedelta(df_final['SCHEDULED_TIME'], 'm')\n",
    "df_final['ARRIVAL_DELAY_v1']=(df_final['ARR_DATE_TIME'] - df_final['SCH_ARR_DATE_TIME']).astype('timedelta64[m]')\n",
    "df_final['ARRIVAL_DELAY_v2']=(pd.to_datetime(df_final['ARRIVAL_TIME'], format=fmt2) - pd.to_datetime(df_final['SCHEDULED_ARRIVAL'], format = fmt2)).astype('timedelta64[m]')\n",
    "df_final['ARRIVAL_DELAY'] = (df_final['ARRIVAL_DELAY_v1'] > 15).astype(int)\n",
    "df_final['SPEED'] = df_final['DISTANCE']/df_final['SCHEDULED_TIME']\n",
    "df_final = df_final.drop(['SCHEDULED_DEPARTURE','DEPARTURE_TIME','SCHEDULED_ARRIVAL','ARRIVAL_TIME','TAXI_OUT','WHEELS_OFF','ELAPSED_TIME','AIR_TIME','WHEELS_ON','TAXI_IN','OR_COUNTRY','DES_COUNTRY','YEAR_DE','WEEKDAY_DE','DEP_DATE_TIME','ARR_DATE_TIME','SCH_ARR_DATE_TIME','ARRIVAL_DELAY_v2'], axis = 1)\n",
    "df_final['DEPARTURE_DELAY'] = df_final['DEPARTURE_DELAY'].fillna(0)\n",
    "df_final['CANCELLATION_REASON'] = df_final['CANCELLATION_REASON'].fillna(0)\n",
    "df_final['AIR_SYSTEM_DELAY'] = df_final['AIR_SYSTEM_DELAY'].fillna(0)\n",
    "df_final['SECURITY_DELAY'] = df_final['SECURITY_DELAY'].fillna(0)\n",
    "df_final['AIRLINE_DELAY'] = df_final['AIRLINE_DELAY'].fillna(0)\n",
    "df_final['LATE_AIRCRAFT_DELAY'] = df_final['LATE_AIRCRAFT_DELAY'].fillna(0)\n",
    "df_final['WEATHER_DELAY'] = df_final['WEATHER_DELAY'].fillna(0)\n",
    "df_final['ARRIVAL_DELAY_v1'] = df_final['ARRIVAL_DELAY_v1'].fillna(0)"
   ]
  },
  {
   "cell_type": "code",
   "execution_count": null,
   "id": "3543da30",
   "metadata": {},
   "outputs": [],
   "source": [
    "df_final = df_final.dropna(axis=0, how='any')\n"
   ]
  },
  {
   "cell_type": "code",
   "execution_count": null,
   "id": "c2b6e842",
   "metadata": {},
   "outputs": [],
   "source": [
    "memory_usage = df_final.memory_usage(deep=True) / 1024 ** 2\n",
    "memory_usage.sum()"
   ]
  },
  {
   "cell_type": "code",
   "execution_count": null,
   "id": "2bf78c93",
   "metadata": {},
   "outputs": [],
   "source": [
    "\n",
    "def reduce_memory_usage(df, verbose=True):\n",
    "    numerics = [\"int8\", \"int16\", \"int32\", \"int64\", \"float16\", \"float32\", \"float64\"]\n",
    "    start_mem = df.memory_usage().sum() / 1024 ** 2\n",
    "    for col in df.columns:\n",
    "        col_type = df[col].dtypes\n",
    "        if col_type in numerics:\n",
    "            c_min = df[col].min()\n",
    "            c_max = df[col].max()\n",
    "            if str(col_type)[:3] == \"int\":\n",
    "                if c_min > np.iinfo(np.int8).min and c_max < np.iinfo(np.int8).max:\n",
    "                    df[col] = df[col].astype(np.int8)\n",
    "                elif c_min > np.iinfo(np.int16).min and c_max < np.iinfo(np.int16).max:\n",
    "                    df[col] = df[col].astype(np.int16)\n",
    "                elif c_min > np.iinfo(np.int32).min and c_max < np.iinfo(np.int32).max:\n",
    "                    df[col] = df[col].astype(np.int32)\n",
    "                elif c_min > np.iinfo(np.int64).min and c_max < np.iinfo(np.int64).max:\n",
    "                    df[col] = df[col].astype(np.int64)\n",
    "            else:\n",
    "                if (\n",
    "                    c_min > np.finfo(np.float16).min\n",
    "                    and c_max < np.finfo(np.float16).max\n",
    "                ):\n",
    "                    df[col] = df[col].astype(np.float16)\n",
    "                elif (\n",
    "                    c_min > np.finfo(np.float32).min\n",
    "                    and c_max < np.finfo(np.float32).max\n",
    "                ):\n",
    "                    df[col] = df[col].astype(np.float32)\n",
    "                else:\n",
    "                    df[col] = df[col].astype(np.float64)\n",
    "    end_mem = df.memory_usage().sum() / 1024 ** 2\n",
    "    if verbose:\n",
    "        print(\n",
    "            \"Mem. usage decreased to {:.2f} Mb ({:.1f}% reduction)\".format(\n",
    "                end_mem, 100 * (start_mem - end_mem) / start_mem\n",
    "            )\n",
    "        )\n",
    "    return df"
   ]
  },
  {
   "cell_type": "code",
   "execution_count": null,
   "id": "abdfa63d",
   "metadata": {
    "scrolled": true
   },
   "outputs": [],
   "source": [
    "reduced_df = reduce_memory_usage(df_final, verbose=True)"
   ]
  },
  {
   "cell_type": "code",
   "execution_count": null,
   "id": "c429f069",
   "metadata": {},
   "outputs": [],
   "source": [
    "memory_usage = df_final.memory_usage(deep=True) / 1024 ** 2\n",
    "memory_usage.sum()"
   ]
  },
  {
   "cell_type": "code",
   "execution_count": null,
   "id": "b943fa9c",
   "metadata": {},
   "outputs": [],
   "source": [
    "sample_df = df_final.sample(int(len(df_final) * 0.2))\n",
    "sample_df.shape"
   ]
  },
  {
   "cell_type": "code",
   "execution_count": null,
   "id": "fb3817d7",
   "metadata": {
    "scrolled": false
   },
   "outputs": [],
   "source": [
    "fig, ax = plt.subplots(figsize=(12, 9))\n",
    "\n",
    "sns.histplot(\n",
    "    data=df_final, x=\"ARRIVAL_DELAY_v1\", label=\"Original data\", color=\"red\", alpha=0.3, bins=15\n",
    ")\n",
    "sns.histplot(\n",
    "    data=sample_df, x=\"ARRIVAL_DELAY_v1\", label=\"Sample data\", color=\"green\", alpha=0.3, bins=15\n",
    ")\n",
    "\n",
    "plt.legend()\n",
    "plt.show();"
   ]
  },
  {
   "cell_type": "markdown",
   "id": "60ade153",
   "metadata": {},
   "source": [
    "We're going to use the sample as main dataset, otherwise it will take too many times"
   ]
  },
  {
   "cell_type": "code",
   "execution_count": null,
   "id": "0cb97a18",
   "metadata": {},
   "outputs": [],
   "source": [
    "df_final = sample_df "
   ]
  },
  {
   "cell_type": "code",
   "execution_count": null,
   "id": "5762da2c",
   "metadata": {},
   "outputs": [],
   "source": [
    "df_model1 = df_final[['AIRLINE','ORIGIN_AIRPORT','DESTINATION_AIRPORT','DEPARTURE_DELAY',\n",
    "                      'SCHEDULED_TIME','DISTANCE','AIR_SYSTEM_DELAY','SECURITY_DELAY',\n",
    "                      'AIRLINE_DELAY','LATE_AIRCRAFT_DELAY','WEATHER_DELAY',\n",
    "                      'OR_LATITUDE','OR_LONGITUDE','DES_LATITUDE','DES_LONGITUDE',\n",
    "                      'WEEKEND_DE','HOUR_DE','SPEED','ARRIVAL_DELAY_v1','MONTH_DE']]\n",
    "df_features = df_model1[['AIRLINE','ORIGIN_AIRPORT','DESTINATION_AIRPORT','DEPARTURE_DELAY',\n",
    "                         'SCHEDULED_TIME','DISTANCE','AIR_SYSTEM_DELAY','SECURITY_DELAY',\n",
    "                         'AIRLINE_DELAY','LATE_AIRCRAFT_DELAY','WEATHER_DELAY',\n",
    "                         'OR_LATITUDE','OR_LONGITUDE','DES_LATITUDE','DES_LONGITUDE',\n",
    "                         'WEEKEND_DE','HOUR_DE','SPEED']]\n",
    "\n",
    "df_target = df_model1['ARRIVAL_DELAY_v1']\n",
    "X_type = np.array(df_features.dtypes)\n",
    "print(X_type)"
   ]
  },
  {
   "cell_type": "code",
   "execution_count": null,
   "id": "eb7a962a",
   "metadata": {},
   "outputs": [],
   "source": [
    "df_features['WEEKEND_DE'] = df_features['WEEKEND_DE'].astype(str)\n",
    "df_features['DISTANCE'] = df_features['DISTANCE'].astype(float)\n",
    "df_features['HOUR_DE'] = df_features['HOUR_DE'].astype(float)"
   ]
  },
  {
   "cell_type": "code",
   "execution_count": null,
   "id": "a829c154",
   "metadata": {},
   "outputs": [],
   "source": [
    "numerical_ix = X_type==np.dtype('float64')\n",
    "numerical_cols = np.where(numerical_ix)\n",
    "\n",
    "categorical_ix = X_type==np.dtype('O')\n",
    "categorical_cols = np.where(categorical_ix)\n",
    "\n",
    "print('categorical cols:',categorical_cols[0])\n",
    "print('numerical cols:',numerical_cols[0])"
   ]
  },
  {
   "cell_type": "code",
   "execution_count": null,
   "id": "93621d4e",
   "metadata": {},
   "outputs": [],
   "source": [
    "t = [('cat', OneHotEncoder(), categorical_cols[0]), ('num', StandardScaler(), numerical_cols[0])]\n",
    "col_transform = ColumnTransformer(transformers=t)\n",
    "df_features = col_transform.fit_transform(df_features)"
   ]
  },
  {
   "cell_type": "code",
   "execution_count": null,
   "id": "e45c9241",
   "metadata": {},
   "outputs": [],
   "source": [
    "X_train, X_test, y_train, y_test = train_test_split(df_features, df_target, random_state=123, test_size=0.4, shuffle=True)"
   ]
  },
  {
   "cell_type": "code",
   "execution_count": null,
   "id": "3a2e2680",
   "metadata": {},
   "outputs": [],
   "source": [
    "def Factor_model(model, X, y):\n",
    "    np.random.seed(123)\n",
    "    model.fit(X, y)\n",
    "    pred_y = model.predict(X)\n",
    "    kf = KFold(n_splits= 5)\n",
    "    RMSE = []\n",
    "    for train_index, test_index in kf.split(X):\n",
    "        X_train, X_test = X.iloc[train_index], X.iloc[test_index]\n",
    "        y_train, y_test = y.iloc[train_index], y.iloc[test_index]\n",
    "        model.fit(X_train,y_train)\n",
    "        pred_y = model.predict(X_test)\n",
    "        RMSE.append(math.sqrt(mean_squared_error(y_test, pred_y)))\n",
    "        print('RMSE:',math.sqrt(mean_squared_error(y_test, pred_y)))\n",
    "    print(\"Cross-Validation RMSE {0}\".format(np.mean(RMSE)))"
   ]
  },
  {
   "cell_type": "code",
   "execution_count": null,
   "id": "7a6d3864",
   "metadata": {},
   "outputs": [],
   "source": [
    "from sklearn.linear_model import LinearRegression\n",
    "from sklearn.linear_model import Ridge\n",
    "from sklearn.linear_model import Lasso\n",
    "\n",
    "model=LinearRegression()\n",
    "model=model.fit(X_train,y_train)\n",
    "slope=model.coef_\n",
    "coef=model.intercept_\n",
    "print(slope.flatten())\n",
    "print(coef)"
   ]
  },
  {
   "cell_type": "code",
   "execution_count": null,
   "id": "a2db8047",
   "metadata": {},
   "outputs": [],
   "source": [
    "y_pred=model.predict(X_train)"
   ]
  },
  {
   "cell_type": "code",
   "execution_count": null,
   "id": "946fa9d1",
   "metadata": {},
   "outputs": [],
   "source": [
    "from sklearn.metrics import r2_score\n",
    "r2_score(y_train,y_pred)"
   ]
  },
  {
   "cell_type": "code",
   "execution_count": null,
   "id": "596c5bde",
   "metadata": {},
   "outputs": [],
   "source": [
    "#!pip install scikit-learn-intelex"
   ]
  },
  {
   "cell_type": "code",
   "execution_count": null,
   "id": "7ba369a1",
   "metadata": {},
   "outputs": [],
   "source": [
    "from sklearn.linear_model import SGDRegressor\n",
    "from mlxtend.feature_selection import SequentialFeatureSelector as SFS\n",
    "from mlxtend.plotting import plot_sequential_feature_selection as plot_sfs\n",
    "from sklearn.linear_model import LinearRegression\n",
    "from sklearnex import patch_sklearn\n"
   ]
  },
  {
   "cell_type": "code",
   "execution_count": null,
   "id": "51fb1edb",
   "metadata": {
    "scrolled": true
   },
   "outputs": [],
   "source": [
    "X_train.shape"
   ]
  },
  {
   "cell_type": "code",
   "execution_count": null,
   "id": "09e285d2",
   "metadata": {},
   "outputs": [],
   "source": [
    "patch_sklearn()\n",
    "lr = SGDRegressor()\n",
    "sfs = SFS(lr, k_features='best', forward=True, floating=False, \n",
    "          scoring='neg_mean_squared_error', cv=10)\n",
    "model = sfs.fit(X_train, y_train)\n",
    "\n",
    "fig = plot_sfs(sfs.get_metric_dict(), kind='std_err')\n",
    "\n",
    "plt.title('Sequential Forward Selection (w. StdErr)')\n",
    "plt.grid()\n",
    "plt.show()"
   ]
  },
  {
   "cell_type": "code",
   "execution_count": null,
   "id": "106a623e",
   "metadata": {},
   "outputs": [],
   "source": [
    "print('Selected features:', sfs.k_feature_idx_)"
   ]
  },
  {
   "cell_type": "code",
   "execution_count": null,
   "id": "3b72c8cc",
   "metadata": {},
   "outputs": [],
   "source": [
    "from sklearn import ensemble,gaussian_process,linear_model,naive_bayes,neighbors,svm,tree"
   ]
  },
  {
   "cell_type": "code",
   "execution_count": null,
   "id": "630d419f",
   "metadata": {},
   "outputs": [],
   "source": [
    "MLA = [\n",
    "    #Ensemble Methods\n",
    "    ensemble.AdaBoostRegressor(n_jobs = -1),\n",
    "    ensemble.BaggingRegressor(n_jobs = -1),\n",
    "    ensemble.ExtraTreesRegressor(n_jobs = -1),\n",
    "    ensemble.GradientBoostingRegressor(n_jobs = -1),\n",
    "    #ensemble.RandomForestRegressor(n_jobs = -1),\n",
    "    #Nearest Neighbor\n",
    "    neighbors.KNeighborsRegressor(n_jobs = -1),\n",
    "    #Trees    \n",
    "    tree.DecisionTreeRegressor(n_jobs = -1),\n",
    "    tree.ExtraTreeRegressor(n_jobs = -1)\n",
    "    ]"
   ]
  },
  {
   "cell_type": "code",
   "execution_count": null,
   "id": "0779f839",
   "metadata": {},
   "outputs": [],
   "source": [
    "from sklearn.model_selection import cross_val_score\n",
    "from sklearn.metrics import roc_curve, roc_auc_score,precision_score,recall_score,auc"
   ]
  },
  {
   "cell_type": "code",
   "execution_count": null,
   "id": "1f147440",
   "metadata": {},
   "outputs": [],
   "source": [
    "MLA_columns = []\n",
    "MLA_compare = pd.DataFrame(columns = MLA_columns)\n",
    "results=[]\n",
    "\n",
    "row_index = 0\n",
    "for alg in MLA:\n",
    "    \n",
    "    cv_results = cross_val_score(alg, X_train, y_train, cv=10)\n",
    "    results.append(cv_results)\n",
    "    predicted = alg.fit(X_train, y_train).predict(X_test)\n",
    "    fp, tp, th = roc_curve(y_test, predicted)\n",
    "    MLA_name = alg.__class__.__name__\n",
    "    MLA_compare.loc[row_index,'MLA Name'] = MLA_name\n",
    "    MLA_compare.loc[row_index, 'MLA Train Accuracy'] = round(alg.score(X_train, y_train), 4)\n",
    "    MLA_compare.loc[row_index, 'MLA Test Accuracy'] = round(alg.score(X_test, y_test), 4)\n",
    "    MLA_compare.loc[row_index, 'MLA AUC'] = auc(fp, tp)\n",
    "    \n",
    "    \n",
    "    row_index+=1\n",
    "    \n",
    "MLA_compare.sort_values(by = ['MLA Test Accuracy'], ascending = False, inplace = True)    \n",
    "MLA_compare"
   ]
  },
  {
   "cell_type": "code",
   "execution_count": null,
   "id": "d2fcb94c",
   "metadata": {},
   "outputs": [],
   "source": []
  },
  {
   "cell_type": "code",
   "execution_count": null,
   "id": "aac6931d",
   "metadata": {},
   "outputs": [],
   "source": []
  },
  {
   "cell_type": "code",
   "execution_count": null,
   "id": "ae1e703d",
   "metadata": {},
   "outputs": [],
   "source": []
  },
  {
   "cell_type": "code",
   "execution_count": null,
   "id": "abca1264",
   "metadata": {},
   "outputs": [],
   "source": []
  },
  {
   "cell_type": "code",
   "execution_count": null,
   "id": "7077927d",
   "metadata": {},
   "outputs": [],
   "source": []
  }
 ],
 "metadata": {
  "kernelspec": {
   "display_name": "Python 3 (ipykernel)",
   "language": "python",
   "name": "python3"
  },
  "language_info": {
   "codemirror_mode": {
    "name": "ipython",
    "version": 3
   },
   "file_extension": ".py",
   "mimetype": "text/x-python",
   "name": "python",
   "nbconvert_exporter": "python",
   "pygments_lexer": "ipython3",
   "version": "3.8.10"
  }
 },
 "nbformat": 4,
 "nbformat_minor": 5
}
