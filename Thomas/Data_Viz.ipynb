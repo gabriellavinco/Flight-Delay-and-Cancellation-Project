{
 "cells": [
  {
   "cell_type": "code",
   "execution_count": 1,
   "id": "infinite-hammer",
   "metadata": {},
   "outputs": [],
   "source": [
    "import pandas as pd\n",
    "import csv"
   ]
  },
  {
   "cell_type": "code",
   "execution_count": 2,
   "id": "ideal-prize",
   "metadata": {},
   "outputs": [
    {
     "name": "stdout",
     "output_type": "stream",
     "text": [
      "<class 'pandas.core.frame.DataFrame'>\n",
      "RangeIndex: 14 entries, 0 to 13\n",
      "Data columns (total 2 columns):\n",
      " #   Column     Non-Null Count  Dtype \n",
      "---  ------     --------------  ----- \n",
      " 0   IATA_CODE  14 non-null     object\n",
      " 1   AIRLINE    14 non-null     object\n",
      "dtypes: object(2)\n",
      "memory usage: 352.0+ bytes\n"
     ]
    },
    {
     "data": {
      "text/html": [
       "<div>\n",
       "<style scoped>\n",
       "    .dataframe tbody tr th:only-of-type {\n",
       "        vertical-align: middle;\n",
       "    }\n",
       "\n",
       "    .dataframe tbody tr th {\n",
       "        vertical-align: top;\n",
       "    }\n",
       "\n",
       "    .dataframe thead th {\n",
       "        text-align: right;\n",
       "    }\n",
       "</style>\n",
       "<table border=\"1\" class=\"dataframe\">\n",
       "  <thead>\n",
       "    <tr style=\"text-align: right;\">\n",
       "      <th></th>\n",
       "      <th>IATA_CODE</th>\n",
       "      <th>AIRLINE</th>\n",
       "    </tr>\n",
       "  </thead>\n",
       "  <tbody>\n",
       "    <tr>\n",
       "      <th>0</th>\n",
       "      <td>UA</td>\n",
       "      <td>United Air Lines Inc.</td>\n",
       "    </tr>\n",
       "    <tr>\n",
       "      <th>1</th>\n",
       "      <td>AA</td>\n",
       "      <td>American Airlines Inc.</td>\n",
       "    </tr>\n",
       "    <tr>\n",
       "      <th>2</th>\n",
       "      <td>US</td>\n",
       "      <td>US Airways Inc.</td>\n",
       "    </tr>\n",
       "    <tr>\n",
       "      <th>3</th>\n",
       "      <td>F9</td>\n",
       "      <td>Frontier Airlines Inc.</td>\n",
       "    </tr>\n",
       "    <tr>\n",
       "      <th>4</th>\n",
       "      <td>B6</td>\n",
       "      <td>JetBlue Airways</td>\n",
       "    </tr>\n",
       "    <tr>\n",
       "      <th>5</th>\n",
       "      <td>OO</td>\n",
       "      <td>Skywest Airlines Inc.</td>\n",
       "    </tr>\n",
       "    <tr>\n",
       "      <th>6</th>\n",
       "      <td>AS</td>\n",
       "      <td>Alaska Airlines Inc.</td>\n",
       "    </tr>\n",
       "    <tr>\n",
       "      <th>7</th>\n",
       "      <td>NK</td>\n",
       "      <td>Spirit Air Lines</td>\n",
       "    </tr>\n",
       "    <tr>\n",
       "      <th>8</th>\n",
       "      <td>WN</td>\n",
       "      <td>Southwest Airlines Co.</td>\n",
       "    </tr>\n",
       "    <tr>\n",
       "      <th>9</th>\n",
       "      <td>DL</td>\n",
       "      <td>Delta Air Lines Inc.</td>\n",
       "    </tr>\n",
       "    <tr>\n",
       "      <th>10</th>\n",
       "      <td>EV</td>\n",
       "      <td>Atlantic Southeast Airlines</td>\n",
       "    </tr>\n",
       "    <tr>\n",
       "      <th>11</th>\n",
       "      <td>HA</td>\n",
       "      <td>Hawaiian Airlines Inc.</td>\n",
       "    </tr>\n",
       "    <tr>\n",
       "      <th>12</th>\n",
       "      <td>MQ</td>\n",
       "      <td>American Eagle Airlines Inc.</td>\n",
       "    </tr>\n",
       "    <tr>\n",
       "      <th>13</th>\n",
       "      <td>VX</td>\n",
       "      <td>Virgin America</td>\n",
       "    </tr>\n",
       "  </tbody>\n",
       "</table>\n",
       "</div>"
      ],
      "text/plain": [
       "   IATA_CODE                       AIRLINE\n",
       "0         UA         United Air Lines Inc.\n",
       "1         AA        American Airlines Inc.\n",
       "2         US               US Airways Inc.\n",
       "3         F9        Frontier Airlines Inc.\n",
       "4         B6               JetBlue Airways\n",
       "5         OO         Skywest Airlines Inc.\n",
       "6         AS          Alaska Airlines Inc.\n",
       "7         NK              Spirit Air Lines\n",
       "8         WN        Southwest Airlines Co.\n",
       "9         DL          Delta Air Lines Inc.\n",
       "10        EV   Atlantic Southeast Airlines\n",
       "11        HA        Hawaiian Airlines Inc.\n",
       "12        MQ  American Eagle Airlines Inc.\n",
       "13        VX                Virgin America"
      ]
     },
     "execution_count": 2,
     "metadata": {},
     "output_type": "execute_result"
    }
   ],
   "source": [
    "airlines = pd.read_csv(\"airlines.csv\")\n",
    "airlines.info()\n",
    "airlines"
   ]
  },
  {
   "cell_type": "code",
   "execution_count": 3,
   "id": "imperial-compatibility",
   "metadata": {},
   "outputs": [
    {
     "name": "stdout",
     "output_type": "stream",
     "text": [
      "<class 'pandas.core.frame.DataFrame'>\n",
      "RangeIndex: 322 entries, 0 to 321\n",
      "Data columns (total 7 columns):\n",
      " #   Column     Non-Null Count  Dtype  \n",
      "---  ------     --------------  -----  \n",
      " 0   IATA_CODE  322 non-null    object \n",
      " 1   AIRPORT    322 non-null    object \n",
      " 2   CITY       322 non-null    object \n",
      " 3   STATE      322 non-null    object \n",
      " 4   COUNTRY    322 non-null    object \n",
      " 5   LATITUDE   319 non-null    float64\n",
      " 6   LONGITUDE  319 non-null    float64\n",
      "dtypes: float64(2), object(5)\n",
      "memory usage: 17.7+ KB\n"
     ]
    },
    {
     "data": {
      "text/html": [
       "<div>\n",
       "<style scoped>\n",
       "    .dataframe tbody tr th:only-of-type {\n",
       "        vertical-align: middle;\n",
       "    }\n",
       "\n",
       "    .dataframe tbody tr th {\n",
       "        vertical-align: top;\n",
       "    }\n",
       "\n",
       "    .dataframe thead th {\n",
       "        text-align: right;\n",
       "    }\n",
       "</style>\n",
       "<table border=\"1\" class=\"dataframe\">\n",
       "  <thead>\n",
       "    <tr style=\"text-align: right;\">\n",
       "      <th></th>\n",
       "      <th>IATA_CODE</th>\n",
       "      <th>AIRPORT</th>\n",
       "      <th>CITY</th>\n",
       "      <th>STATE</th>\n",
       "      <th>COUNTRY</th>\n",
       "      <th>LATITUDE</th>\n",
       "      <th>LONGITUDE</th>\n",
       "    </tr>\n",
       "  </thead>\n",
       "  <tbody>\n",
       "    <tr>\n",
       "      <th>0</th>\n",
       "      <td>ABE</td>\n",
       "      <td>Lehigh Valley International Airport</td>\n",
       "      <td>Allentown</td>\n",
       "      <td>PA</td>\n",
       "      <td>USA</td>\n",
       "      <td>40.65236</td>\n",
       "      <td>-75.44040</td>\n",
       "    </tr>\n",
       "    <tr>\n",
       "      <th>1</th>\n",
       "      <td>ABI</td>\n",
       "      <td>Abilene Regional Airport</td>\n",
       "      <td>Abilene</td>\n",
       "      <td>TX</td>\n",
       "      <td>USA</td>\n",
       "      <td>32.41132</td>\n",
       "      <td>-99.68190</td>\n",
       "    </tr>\n",
       "    <tr>\n",
       "      <th>2</th>\n",
       "      <td>ABQ</td>\n",
       "      <td>Albuquerque International Sunport</td>\n",
       "      <td>Albuquerque</td>\n",
       "      <td>NM</td>\n",
       "      <td>USA</td>\n",
       "      <td>35.04022</td>\n",
       "      <td>-106.60919</td>\n",
       "    </tr>\n",
       "    <tr>\n",
       "      <th>3</th>\n",
       "      <td>ABR</td>\n",
       "      <td>Aberdeen Regional Airport</td>\n",
       "      <td>Aberdeen</td>\n",
       "      <td>SD</td>\n",
       "      <td>USA</td>\n",
       "      <td>45.44906</td>\n",
       "      <td>-98.42183</td>\n",
       "    </tr>\n",
       "    <tr>\n",
       "      <th>4</th>\n",
       "      <td>ABY</td>\n",
       "      <td>Southwest Georgia Regional Airport</td>\n",
       "      <td>Albany</td>\n",
       "      <td>GA</td>\n",
       "      <td>USA</td>\n",
       "      <td>31.53552</td>\n",
       "      <td>-84.19447</td>\n",
       "    </tr>\n",
       "    <tr>\n",
       "      <th>...</th>\n",
       "      <td>...</td>\n",
       "      <td>...</td>\n",
       "      <td>...</td>\n",
       "      <td>...</td>\n",
       "      <td>...</td>\n",
       "      <td>...</td>\n",
       "      <td>...</td>\n",
       "    </tr>\n",
       "    <tr>\n",
       "      <th>317</th>\n",
       "      <td>WRG</td>\n",
       "      <td>Wrangell Airport</td>\n",
       "      <td>Wrangell</td>\n",
       "      <td>AK</td>\n",
       "      <td>USA</td>\n",
       "      <td>56.48433</td>\n",
       "      <td>-132.36982</td>\n",
       "    </tr>\n",
       "    <tr>\n",
       "      <th>318</th>\n",
       "      <td>WYS</td>\n",
       "      <td>Westerly State Airport</td>\n",
       "      <td>West Yellowstone</td>\n",
       "      <td>MT</td>\n",
       "      <td>USA</td>\n",
       "      <td>44.68840</td>\n",
       "      <td>-111.11764</td>\n",
       "    </tr>\n",
       "    <tr>\n",
       "      <th>319</th>\n",
       "      <td>XNA</td>\n",
       "      <td>Northwest Arkansas Regional Airport</td>\n",
       "      <td>Fayetteville/Springdale/Rogers</td>\n",
       "      <td>AR</td>\n",
       "      <td>USA</td>\n",
       "      <td>36.28187</td>\n",
       "      <td>-94.30681</td>\n",
       "    </tr>\n",
       "    <tr>\n",
       "      <th>320</th>\n",
       "      <td>YAK</td>\n",
       "      <td>Yakutat Airport</td>\n",
       "      <td>Yakutat</td>\n",
       "      <td>AK</td>\n",
       "      <td>USA</td>\n",
       "      <td>59.50336</td>\n",
       "      <td>-139.66023</td>\n",
       "    </tr>\n",
       "    <tr>\n",
       "      <th>321</th>\n",
       "      <td>YUM</td>\n",
       "      <td>Yuma International Airport</td>\n",
       "      <td>Yuma</td>\n",
       "      <td>AZ</td>\n",
       "      <td>USA</td>\n",
       "      <td>32.65658</td>\n",
       "      <td>-114.60597</td>\n",
       "    </tr>\n",
       "  </tbody>\n",
       "</table>\n",
       "<p>322 rows × 7 columns</p>\n",
       "</div>"
      ],
      "text/plain": [
       "    IATA_CODE                              AIRPORT  \\\n",
       "0         ABE  Lehigh Valley International Airport   \n",
       "1         ABI             Abilene Regional Airport   \n",
       "2         ABQ    Albuquerque International Sunport   \n",
       "3         ABR            Aberdeen Regional Airport   \n",
       "4         ABY   Southwest Georgia Regional Airport   \n",
       "..        ...                                  ...   \n",
       "317       WRG                     Wrangell Airport   \n",
       "318       WYS               Westerly State Airport   \n",
       "319       XNA  Northwest Arkansas Regional Airport   \n",
       "320       YAK                      Yakutat Airport   \n",
       "321       YUM           Yuma International Airport   \n",
       "\n",
       "                               CITY STATE COUNTRY  LATITUDE  LONGITUDE  \n",
       "0                         Allentown    PA     USA  40.65236  -75.44040  \n",
       "1                           Abilene    TX     USA  32.41132  -99.68190  \n",
       "2                       Albuquerque    NM     USA  35.04022 -106.60919  \n",
       "3                          Aberdeen    SD     USA  45.44906  -98.42183  \n",
       "4                            Albany    GA     USA  31.53552  -84.19447  \n",
       "..                              ...   ...     ...       ...        ...  \n",
       "317                        Wrangell    AK     USA  56.48433 -132.36982  \n",
       "318                West Yellowstone    MT     USA  44.68840 -111.11764  \n",
       "319  Fayetteville/Springdale/Rogers    AR     USA  36.28187  -94.30681  \n",
       "320                         Yakutat    AK     USA  59.50336 -139.66023  \n",
       "321                            Yuma    AZ     USA  32.65658 -114.60597  \n",
       "\n",
       "[322 rows x 7 columns]"
      ]
     },
     "execution_count": 3,
     "metadata": {},
     "output_type": "execute_result"
    }
   ],
   "source": [
    "airports = pd.read_csv(\"airports.csv\")\n",
    "airports.info()\n",
    "airports"
   ]
  },
  {
   "cell_type": "code",
   "execution_count": 4,
   "id": "acoustic-danger",
   "metadata": {},
   "outputs": [
    {
     "name": "stdout",
     "output_type": "stream",
     "text": [
      "<class 'pandas.core.frame.DataFrame'>\n",
      "RangeIndex: 469968 entries, 0 to 469967\n",
      "Data columns (total 8 columns):\n",
      " #   Column               Non-Null Count   Dtype \n",
      "---  ------               --------------   ----- \n",
      " 0   SCHEDULED_DEPARTURE  469968 non-null  object\n",
      " 1   SCHEDULED_ARRIVAL    469968 non-null  object\n",
      " 2   AIRLINE              469968 non-null  object\n",
      " 3   FLIGHT_NUMBER        469968 non-null  int64 \n",
      " 4   TAIL_NUMBER          467186 non-null  object\n",
      " 5   ORIGIN_AIRPORT       469968 non-null  object\n",
      " 6   DESTINATION_AIRPORT  469968 non-null  object\n",
      " 7   DISTANCE             469968 non-null  int64 \n",
      "dtypes: int64(2), object(6)\n",
      "memory usage: 28.7+ MB\n"
     ]
    },
    {
     "data": {
      "text/html": [
       "<div>\n",
       "<style scoped>\n",
       "    .dataframe tbody tr th:only-of-type {\n",
       "        vertical-align: middle;\n",
       "    }\n",
       "\n",
       "    .dataframe tbody tr th {\n",
       "        vertical-align: top;\n",
       "    }\n",
       "\n",
       "    .dataframe thead th {\n",
       "        text-align: right;\n",
       "    }\n",
       "</style>\n",
       "<table border=\"1\" class=\"dataframe\">\n",
       "  <thead>\n",
       "    <tr style=\"text-align: right;\">\n",
       "      <th></th>\n",
       "      <th>SCHEDULED_DEPARTURE</th>\n",
       "      <th>SCHEDULED_ARRIVAL</th>\n",
       "      <th>AIRLINE</th>\n",
       "      <th>FLIGHT_NUMBER</th>\n",
       "      <th>TAIL_NUMBER</th>\n",
       "      <th>ORIGIN_AIRPORT</th>\n",
       "      <th>DESTINATION_AIRPORT</th>\n",
       "      <th>DISTANCE</th>\n",
       "    </tr>\n",
       "  </thead>\n",
       "  <tbody>\n",
       "    <tr>\n",
       "      <th>0</th>\n",
       "      <td>2022-08-01 00:05:00</td>\n",
       "      <td>04:54:00</td>\n",
       "      <td>AA</td>\n",
       "      <td>2400</td>\n",
       "      <td>N3LNAA</td>\n",
       "      <td>LAX</td>\n",
       "      <td>DFW</td>\n",
       "      <td>1235</td>\n",
       "    </tr>\n",
       "    <tr>\n",
       "      <th>1</th>\n",
       "      <td>2022-08-01 00:15:00</td>\n",
       "      <td>06:00:00</td>\n",
       "      <td>US</td>\n",
       "      <td>2020</td>\n",
       "      <td>N547UW</td>\n",
       "      <td>PHX</td>\n",
       "      <td>CLT</td>\n",
       "      <td>1773</td>\n",
       "    </tr>\n",
       "    <tr>\n",
       "      <th>2</th>\n",
       "      <td>2022-08-01 00:15:00</td>\n",
       "      <td>05:40:00</td>\n",
       "      <td>F9</td>\n",
       "      <td>1298</td>\n",
       "      <td>N922FR</td>\n",
       "      <td>PHX</td>\n",
       "      <td>CVG</td>\n",
       "      <td>1569</td>\n",
       "    </tr>\n",
       "    <tr>\n",
       "      <th>3</th>\n",
       "      <td>2022-08-01 00:20:00</td>\n",
       "      <td>08:04:00</td>\n",
       "      <td>AA</td>\n",
       "      <td>258</td>\n",
       "      <td>N3HRAA</td>\n",
       "      <td>LAX</td>\n",
       "      <td>MIA</td>\n",
       "      <td>2342</td>\n",
       "    </tr>\n",
       "    <tr>\n",
       "      <th>4</th>\n",
       "      <td>2022-08-01 00:25:00</td>\n",
       "      <td>05:26:00</td>\n",
       "      <td>NK</td>\n",
       "      <td>612</td>\n",
       "      <td>N631NK</td>\n",
       "      <td>LAS</td>\n",
       "      <td>MSP</td>\n",
       "      <td>1299</td>\n",
       "    </tr>\n",
       "    <tr>\n",
       "      <th>...</th>\n",
       "      <td>...</td>\n",
       "      <td>...</td>\n",
       "      <td>...</td>\n",
       "      <td>...</td>\n",
       "      <td>...</td>\n",
       "      <td>...</td>\n",
       "      <td>...</td>\n",
       "      <td>...</td>\n",
       "    </tr>\n",
       "    <tr>\n",
       "      <th>469963</th>\n",
       "      <td>2022-08-31 23:59:00</td>\n",
       "      <td>04:40:00</td>\n",
       "      <td>B6</td>\n",
       "      <td>839</td>\n",
       "      <td>N658JB</td>\n",
       "      <td>JFK</td>\n",
       "      <td>BQN</td>\n",
       "      <td>1576</td>\n",
       "    </tr>\n",
       "    <tr>\n",
       "      <th>469964</th>\n",
       "      <td>2022-08-31 23:59:00</td>\n",
       "      <td>07:11:00</td>\n",
       "      <td>DL</td>\n",
       "      <td>1887</td>\n",
       "      <td>N855NW</td>\n",
       "      <td>SEA</td>\n",
       "      <td>DTW</td>\n",
       "      <td>1927</td>\n",
       "    </tr>\n",
       "    <tr>\n",
       "      <th>469965</th>\n",
       "      <td>2022-08-31 23:59:00</td>\n",
       "      <td>05:11:00</td>\n",
       "      <td>F9</td>\n",
       "      <td>300</td>\n",
       "      <td>N218FR</td>\n",
       "      <td>DEN</td>\n",
       "      <td>TPA</td>\n",
       "      <td>1506</td>\n",
       "    </tr>\n",
       "    <tr>\n",
       "      <th>469966</th>\n",
       "      <td>2022-08-31 23:59:00</td>\n",
       "      <td>04:41:00</td>\n",
       "      <td>F9</td>\n",
       "      <td>422</td>\n",
       "      <td>N954FR</td>\n",
       "      <td>DEN</td>\n",
       "      <td>ATL</td>\n",
       "      <td>1199</td>\n",
       "    </tr>\n",
       "    <tr>\n",
       "      <th>469967</th>\n",
       "      <td>2022-08-31 23:59:00</td>\n",
       "      <td>07:08:00</td>\n",
       "      <td>UA</td>\n",
       "      <td>1104</td>\n",
       "      <td>N73251</td>\n",
       "      <td>ANC</td>\n",
       "      <td>DEN</td>\n",
       "      <td>2405</td>\n",
       "    </tr>\n",
       "  </tbody>\n",
       "</table>\n",
       "<p>469968 rows × 8 columns</p>\n",
       "</div>"
      ],
      "text/plain": [
       "        SCHEDULED_DEPARTURE SCHEDULED_ARRIVAL AIRLINE  FLIGHT_NUMBER  \\\n",
       "0       2022-08-01 00:05:00          04:54:00      AA           2400   \n",
       "1       2022-08-01 00:15:00          06:00:00      US           2020   \n",
       "2       2022-08-01 00:15:00          05:40:00      F9           1298   \n",
       "3       2022-08-01 00:20:00          08:04:00      AA            258   \n",
       "4       2022-08-01 00:25:00          05:26:00      NK            612   \n",
       "...                     ...               ...     ...            ...   \n",
       "469963  2022-08-31 23:59:00          04:40:00      B6            839   \n",
       "469964  2022-08-31 23:59:00          07:11:00      DL           1887   \n",
       "469965  2022-08-31 23:59:00          05:11:00      F9            300   \n",
       "469966  2022-08-31 23:59:00          04:41:00      F9            422   \n",
       "469967  2022-08-31 23:59:00          07:08:00      UA           1104   \n",
       "\n",
       "       TAIL_NUMBER ORIGIN_AIRPORT DESTINATION_AIRPORT  DISTANCE  \n",
       "0           N3LNAA            LAX                 DFW      1235  \n",
       "1           N547UW            PHX                 CLT      1773  \n",
       "2           N922FR            PHX                 CVG      1569  \n",
       "3           N3HRAA            LAX                 MIA      2342  \n",
       "4           N631NK            LAS                 MSP      1299  \n",
       "...            ...            ...                 ...       ...  \n",
       "469963      N658JB            JFK                 BQN      1576  \n",
       "469964      N855NW            SEA                 DTW      1927  \n",
       "469965      N218FR            DEN                 TPA      1506  \n",
       "469966      N954FR            DEN                 ATL      1199  \n",
       "469967      N73251            ANC                 DEN      2405  \n",
       "\n",
       "[469968 rows x 8 columns]"
      ]
     },
     "execution_count": 4,
     "metadata": {},
     "output_type": "execute_result"
    }
   ],
   "source": [
    "future_data = pd.read_csv(\"future_data.csv\")\n",
    "future_data.info()\n",
    "future_data"
   ]
  },
  {
   "cell_type": "code",
   "execution_count": 5,
   "id": "hired-windsor",
   "metadata": {
    "scrolled": true
   },
   "outputs": [
    {
     "name": "stdout",
     "output_type": "stream",
     "text": [
      "<class 'pandas.core.frame.DataFrame'>\n",
      "RangeIndex: 2458628 entries, 0 to 2458627\n",
      "Data columns (total 25 columns):\n",
      " #   Column               Dtype  \n",
      "---  ------               -----  \n",
      " 0   SCHEDULED_DEPARTURE  object \n",
      " 1   DEPARTURE_TIME       object \n",
      " 2   SCHEDULED_ARRIVAL    object \n",
      " 3   ARRIVAL_TIME         object \n",
      " 4   AIRLINE              object \n",
      " 5   FLIGHT_NUMBER        int64  \n",
      " 6   TAIL_NUMBER          object \n",
      " 7   ORIGIN_AIRPORT       object \n",
      " 8   DESTINATION_AIRPORT  object \n",
      " 9   DEPARTURE_DELAY      float64\n",
      " 10  TAXI_OUT             float64\n",
      " 11  WHEELS_OFF           float64\n",
      " 12  SCHEDULED_TIME       float64\n",
      " 13  ELAPSED_TIME         float64\n",
      " 14  AIR_TIME             float64\n",
      " 15  DISTANCE             int64  \n",
      " 16  WHEELS_ON            float64\n",
      " 17  TAXI_IN              float64\n",
      " 18  CANCELLED            int64  \n",
      " 19  CANCELLATION_REASON  object \n",
      " 20  AIR_SYSTEM_DELAY     float64\n",
      " 21  SECURITY_DELAY       float64\n",
      " 22  AIRLINE_DELAY        float64\n",
      " 23  LATE_AIRCRAFT_DELAY  float64\n",
      " 24  WEATHER_DELAY        float64\n",
      "dtypes: float64(13), int64(3), object(9)\n",
      "memory usage: 468.9+ MB\n"
     ]
    },
    {
     "data": {
      "text/html": [
       "<div>\n",
       "<style scoped>\n",
       "    .dataframe tbody tr th:only-of-type {\n",
       "        vertical-align: middle;\n",
       "    }\n",
       "\n",
       "    .dataframe tbody tr th {\n",
       "        vertical-align: top;\n",
       "    }\n",
       "\n",
       "    .dataframe thead th {\n",
       "        text-align: right;\n",
       "    }\n",
       "</style>\n",
       "<table border=\"1\" class=\"dataframe\">\n",
       "  <thead>\n",
       "    <tr style=\"text-align: right;\">\n",
       "      <th></th>\n",
       "      <th>SCHEDULED_DEPARTURE</th>\n",
       "      <th>DEPARTURE_TIME</th>\n",
       "      <th>SCHEDULED_ARRIVAL</th>\n",
       "      <th>ARRIVAL_TIME</th>\n",
       "      <th>AIRLINE</th>\n",
       "      <th>FLIGHT_NUMBER</th>\n",
       "      <th>TAIL_NUMBER</th>\n",
       "      <th>ORIGIN_AIRPORT</th>\n",
       "      <th>DESTINATION_AIRPORT</th>\n",
       "      <th>DEPARTURE_DELAY</th>\n",
       "      <th>...</th>\n",
       "      <th>DISTANCE</th>\n",
       "      <th>WHEELS_ON</th>\n",
       "      <th>TAXI_IN</th>\n",
       "      <th>CANCELLED</th>\n",
       "      <th>CANCELLATION_REASON</th>\n",
       "      <th>AIR_SYSTEM_DELAY</th>\n",
       "      <th>SECURITY_DELAY</th>\n",
       "      <th>AIRLINE_DELAY</th>\n",
       "      <th>LATE_AIRCRAFT_DELAY</th>\n",
       "      <th>WEATHER_DELAY</th>\n",
       "    </tr>\n",
       "  </thead>\n",
       "  <tbody>\n",
       "    <tr>\n",
       "      <th>0</th>\n",
       "      <td>2019-03-01 00:01:00</td>\n",
       "      <td>00:02:00</td>\n",
       "      <td>01:37:00</td>\n",
       "      <td>01:20:00</td>\n",
       "      <td>UA</td>\n",
       "      <td>1238</td>\n",
       "      <td>N812UA</td>\n",
       "      <td>DEN</td>\n",
       "      <td>BIL</td>\n",
       "      <td>1.0</td>\n",
       "      <td>...</td>\n",
       "      <td>455</td>\n",
       "      <td>117.0</td>\n",
       "      <td>3.0</td>\n",
       "      <td>0</td>\n",
       "      <td>NaN</td>\n",
       "      <td>NaN</td>\n",
       "      <td>NaN</td>\n",
       "      <td>NaN</td>\n",
       "      <td>NaN</td>\n",
       "      <td>NaN</td>\n",
       "    </tr>\n",
       "    <tr>\n",
       "      <th>1</th>\n",
       "      <td>2019-03-01 00:01:00</td>\n",
       "      <td>00:29:00</td>\n",
       "      <td>01:33:00</td>\n",
       "      <td>01:52:00</td>\n",
       "      <td>EV</td>\n",
       "      <td>6134</td>\n",
       "      <td>N14171</td>\n",
       "      <td>ORD</td>\n",
       "      <td>BNA</td>\n",
       "      <td>28.0</td>\n",
       "      <td>...</td>\n",
       "      <td>409</td>\n",
       "      <td>144.0</td>\n",
       "      <td>8.0</td>\n",
       "      <td>0</td>\n",
       "      <td>NaN</td>\n",
       "      <td>0.0</td>\n",
       "      <td>0.0</td>\n",
       "      <td>19.0</td>\n",
       "      <td>0.0</td>\n",
       "      <td>0.0</td>\n",
       "    </tr>\n",
       "    <tr>\n",
       "      <th>2</th>\n",
       "      <td>2019-03-01 00:01:00</td>\n",
       "      <td>NaN</td>\n",
       "      <td>01:53:00</td>\n",
       "      <td>NaN</td>\n",
       "      <td>EV</td>\n",
       "      <td>4682</td>\n",
       "      <td>N15910</td>\n",
       "      <td>ORD</td>\n",
       "      <td>BHM</td>\n",
       "      <td>NaN</td>\n",
       "      <td>...</td>\n",
       "      <td>584</td>\n",
       "      <td>NaN</td>\n",
       "      <td>NaN</td>\n",
       "      <td>1</td>\n",
       "      <td>B</td>\n",
       "      <td>NaN</td>\n",
       "      <td>NaN</td>\n",
       "      <td>NaN</td>\n",
       "      <td>NaN</td>\n",
       "      <td>NaN</td>\n",
       "    </tr>\n",
       "    <tr>\n",
       "      <th>3</th>\n",
       "      <td>2019-03-01 00:02:00</td>\n",
       "      <td>23:59:00</td>\n",
       "      <td>03:04:00</td>\n",
       "      <td>02:56:00</td>\n",
       "      <td>UA</td>\n",
       "      <td>1550</td>\n",
       "      <td>N822UA</td>\n",
       "      <td>ORD</td>\n",
       "      <td>BTV</td>\n",
       "      <td>-3.0</td>\n",
       "      <td>...</td>\n",
       "      <td>763</td>\n",
       "      <td>252.0</td>\n",
       "      <td>4.0</td>\n",
       "      <td>0</td>\n",
       "      <td>NaN</td>\n",
       "      <td>NaN</td>\n",
       "      <td>NaN</td>\n",
       "      <td>NaN</td>\n",
       "      <td>NaN</td>\n",
       "      <td>NaN</td>\n",
       "    </tr>\n",
       "    <tr>\n",
       "      <th>4</th>\n",
       "      <td>2019-03-01 00:02:00</td>\n",
       "      <td>00:36:00</td>\n",
       "      <td>03:22:00</td>\n",
       "      <td>03:30:00</td>\n",
       "      <td>UA</td>\n",
       "      <td>1502</td>\n",
       "      <td>N33262</td>\n",
       "      <td>ORD</td>\n",
       "      <td>BOS</td>\n",
       "      <td>34.0</td>\n",
       "      <td>...</td>\n",
       "      <td>867</td>\n",
       "      <td>326.0</td>\n",
       "      <td>4.0</td>\n",
       "      <td>0</td>\n",
       "      <td>NaN</td>\n",
       "      <td>NaN</td>\n",
       "      <td>NaN</td>\n",
       "      <td>NaN</td>\n",
       "      <td>NaN</td>\n",
       "      <td>NaN</td>\n",
       "    </tr>\n",
       "    <tr>\n",
       "      <th>...</th>\n",
       "      <td>...</td>\n",
       "      <td>...</td>\n",
       "      <td>...</td>\n",
       "      <td>...</td>\n",
       "      <td>...</td>\n",
       "      <td>...</td>\n",
       "      <td>...</td>\n",
       "      <td>...</td>\n",
       "      <td>...</td>\n",
       "      <td>...</td>\n",
       "      <td>...</td>\n",
       "      <td>...</td>\n",
       "      <td>...</td>\n",
       "      <td>...</td>\n",
       "      <td>...</td>\n",
       "      <td>...</td>\n",
       "      <td>...</td>\n",
       "      <td>...</td>\n",
       "      <td>...</td>\n",
       "      <td>...</td>\n",
       "      <td>...</td>\n",
       "    </tr>\n",
       "    <tr>\n",
       "      <th>2458623</th>\n",
       "      <td>2019-07-31 23:59:00</td>\n",
       "      <td>23:54:00</td>\n",
       "      <td>05:39:00</td>\n",
       "      <td>05:22:00</td>\n",
       "      <td>AA</td>\n",
       "      <td>1496</td>\n",
       "      <td>N3MJAA</td>\n",
       "      <td>LAS</td>\n",
       "      <td>ORD</td>\n",
       "      <td>-5.0</td>\n",
       "      <td>...</td>\n",
       "      <td>1514</td>\n",
       "      <td>518.0</td>\n",
       "      <td>4.0</td>\n",
       "      <td>0</td>\n",
       "      <td>NaN</td>\n",
       "      <td>NaN</td>\n",
       "      <td>NaN</td>\n",
       "      <td>NaN</td>\n",
       "      <td>NaN</td>\n",
       "      <td>NaN</td>\n",
       "    </tr>\n",
       "    <tr>\n",
       "      <th>2458624</th>\n",
       "      <td>2019-07-31 23:59:00</td>\n",
       "      <td>00:50:00</td>\n",
       "      <td>05:55:00</td>\n",
       "      <td>06:42:00</td>\n",
       "      <td>AA</td>\n",
       "      <td>1283</td>\n",
       "      <td>N3GEAA</td>\n",
       "      <td>SEA</td>\n",
       "      <td>ORD</td>\n",
       "      <td>51.0</td>\n",
       "      <td>...</td>\n",
       "      <td>1721</td>\n",
       "      <td>625.0</td>\n",
       "      <td>17.0</td>\n",
       "      <td>0</td>\n",
       "      <td>NaN</td>\n",
       "      <td>0.0</td>\n",
       "      <td>0.0</td>\n",
       "      <td>47.0</td>\n",
       "      <td>0.0</td>\n",
       "      <td>0.0</td>\n",
       "    </tr>\n",
       "    <tr>\n",
       "      <th>2458625</th>\n",
       "      <td>2019-07-31 23:59:00</td>\n",
       "      <td>00:49:00</td>\n",
       "      <td>06:00:00</td>\n",
       "      <td>07:03:00</td>\n",
       "      <td>AA</td>\n",
       "      <td>219</td>\n",
       "      <td>N3LKAA</td>\n",
       "      <td>LAX</td>\n",
       "      <td>ORD</td>\n",
       "      <td>50.0</td>\n",
       "      <td>...</td>\n",
       "      <td>1744</td>\n",
       "      <td>647.0</td>\n",
       "      <td>16.0</td>\n",
       "      <td>0</td>\n",
       "      <td>NaN</td>\n",
       "      <td>13.0</td>\n",
       "      <td>0.0</td>\n",
       "      <td>50.0</td>\n",
       "      <td>0.0</td>\n",
       "      <td>0.0</td>\n",
       "    </tr>\n",
       "    <tr>\n",
       "      <th>2458626</th>\n",
       "      <td>2019-07-31 23:59:00</td>\n",
       "      <td>01:23:00</td>\n",
       "      <td>03:47:00</td>\n",
       "      <td>04:59:00</td>\n",
       "      <td>B6</td>\n",
       "      <td>1503</td>\n",
       "      <td>N592JB</td>\n",
       "      <td>JFK</td>\n",
       "      <td>SJU</td>\n",
       "      <td>84.0</td>\n",
       "      <td>...</td>\n",
       "      <td>1598</td>\n",
       "      <td>455.0</td>\n",
       "      <td>4.0</td>\n",
       "      <td>0</td>\n",
       "      <td>NaN</td>\n",
       "      <td>0.0</td>\n",
       "      <td>0.0</td>\n",
       "      <td>0.0</td>\n",
       "      <td>69.0</td>\n",
       "      <td>3.0</td>\n",
       "    </tr>\n",
       "    <tr>\n",
       "      <th>2458627</th>\n",
       "      <td>2019-07-31 23:59:00</td>\n",
       "      <td>00:13:00</td>\n",
       "      <td>08:30:00</td>\n",
       "      <td>09:03:00</td>\n",
       "      <td>B6</td>\n",
       "      <td>276</td>\n",
       "      <td>N712JB</td>\n",
       "      <td>OAK</td>\n",
       "      <td>BOS</td>\n",
       "      <td>14.0</td>\n",
       "      <td>...</td>\n",
       "      <td>2694</td>\n",
       "      <td>855.0</td>\n",
       "      <td>8.0</td>\n",
       "      <td>0</td>\n",
       "      <td>NaN</td>\n",
       "      <td>19.0</td>\n",
       "      <td>0.0</td>\n",
       "      <td>0.0</td>\n",
       "      <td>14.0</td>\n",
       "      <td>0.0</td>\n",
       "    </tr>\n",
       "  </tbody>\n",
       "</table>\n",
       "<p>2458628 rows × 25 columns</p>\n",
       "</div>"
      ],
      "text/plain": [
       "         SCHEDULED_DEPARTURE DEPARTURE_TIME SCHEDULED_ARRIVAL ARRIVAL_TIME  \\\n",
       "0        2019-03-01 00:01:00       00:02:00          01:37:00     01:20:00   \n",
       "1        2019-03-01 00:01:00       00:29:00          01:33:00     01:52:00   \n",
       "2        2019-03-01 00:01:00            NaN          01:53:00          NaN   \n",
       "3        2019-03-01 00:02:00       23:59:00          03:04:00     02:56:00   \n",
       "4        2019-03-01 00:02:00       00:36:00          03:22:00     03:30:00   \n",
       "...                      ...            ...               ...          ...   \n",
       "2458623  2019-07-31 23:59:00       23:54:00          05:39:00     05:22:00   \n",
       "2458624  2019-07-31 23:59:00       00:50:00          05:55:00     06:42:00   \n",
       "2458625  2019-07-31 23:59:00       00:49:00          06:00:00     07:03:00   \n",
       "2458626  2019-07-31 23:59:00       01:23:00          03:47:00     04:59:00   \n",
       "2458627  2019-07-31 23:59:00       00:13:00          08:30:00     09:03:00   \n",
       "\n",
       "        AIRLINE  FLIGHT_NUMBER TAIL_NUMBER ORIGIN_AIRPORT DESTINATION_AIRPORT  \\\n",
       "0            UA           1238      N812UA            DEN                 BIL   \n",
       "1            EV           6134      N14171            ORD                 BNA   \n",
       "2            EV           4682      N15910            ORD                 BHM   \n",
       "3            UA           1550      N822UA            ORD                 BTV   \n",
       "4            UA           1502      N33262            ORD                 BOS   \n",
       "...         ...            ...         ...            ...                 ...   \n",
       "2458623      AA           1496      N3MJAA            LAS                 ORD   \n",
       "2458624      AA           1283      N3GEAA            SEA                 ORD   \n",
       "2458625      AA            219      N3LKAA            LAX                 ORD   \n",
       "2458626      B6           1503      N592JB            JFK                 SJU   \n",
       "2458627      B6            276      N712JB            OAK                 BOS   \n",
       "\n",
       "         DEPARTURE_DELAY  ...  DISTANCE  WHEELS_ON  TAXI_IN  CANCELLED  \\\n",
       "0                    1.0  ...       455      117.0      3.0          0   \n",
       "1                   28.0  ...       409      144.0      8.0          0   \n",
       "2                    NaN  ...       584        NaN      NaN          1   \n",
       "3                   -3.0  ...       763      252.0      4.0          0   \n",
       "4                   34.0  ...       867      326.0      4.0          0   \n",
       "...                  ...  ...       ...        ...      ...        ...   \n",
       "2458623             -5.0  ...      1514      518.0      4.0          0   \n",
       "2458624             51.0  ...      1721      625.0     17.0          0   \n",
       "2458625             50.0  ...      1744      647.0     16.0          0   \n",
       "2458626             84.0  ...      1598      455.0      4.0          0   \n",
       "2458627             14.0  ...      2694      855.0      8.0          0   \n",
       "\n",
       "         CANCELLATION_REASON  AIR_SYSTEM_DELAY  SECURITY_DELAY  AIRLINE_DELAY  \\\n",
       "0                        NaN               NaN             NaN            NaN   \n",
       "1                        NaN               0.0             0.0           19.0   \n",
       "2                          B               NaN             NaN            NaN   \n",
       "3                        NaN               NaN             NaN            NaN   \n",
       "4                        NaN               NaN             NaN            NaN   \n",
       "...                      ...               ...             ...            ...   \n",
       "2458623                  NaN               NaN             NaN            NaN   \n",
       "2458624                  NaN               0.0             0.0           47.0   \n",
       "2458625                  NaN              13.0             0.0           50.0   \n",
       "2458626                  NaN               0.0             0.0            0.0   \n",
       "2458627                  NaN              19.0             0.0            0.0   \n",
       "\n",
       "         LATE_AIRCRAFT_DELAY WEATHER_DELAY  \n",
       "0                        NaN           NaN  \n",
       "1                        0.0           0.0  \n",
       "2                        NaN           NaN  \n",
       "3                        NaN           NaN  \n",
       "4                        NaN           NaN  \n",
       "...                      ...           ...  \n",
       "2458623                  NaN           NaN  \n",
       "2458624                  0.0           0.0  \n",
       "2458625                  0.0           0.0  \n",
       "2458626                 69.0           3.0  \n",
       "2458627                 14.0           0.0  \n",
       "\n",
       "[2458628 rows x 25 columns]"
      ]
     },
     "execution_count": 5,
     "metadata": {},
     "output_type": "execute_result"
    }
   ],
   "source": [
    "historic_data = pd.read_csv(\"historic_data.csv\")\n",
    "historic_data.info()\n",
    "historic_data"
   ]
  },
  {
   "cell_type": "code",
   "execution_count": 6,
   "id": "0e809f94",
   "metadata": {},
   "outputs": [],
   "source": [
    "historic_data['SCHEDULED_DEPARTURE'] = pd.to_datetime(historic_data['SCHEDULED_DEPARTURE'], format='%Y-%m-%d %H:%M:%S')\n",
    "historic_data['SCHEDULED_ARRIVAL'] = pd.to_datetime(historic_data['SCHEDULED_ARRIVAL'], format='%H:%M:%S')"
   ]
  },
  {
   "cell_type": "code",
   "execution_count": 7,
   "id": "ee1f3e2a",
   "metadata": {},
   "outputs": [],
   "source": [
    "historic_data['TIME_AR'] = historic_data['SCHEDULED_ARRIVAL'].dt.time\n",
    "\n",
    "historic_data['TIME_DE'] = historic_data['SCHEDULED_DEPARTURE'].dt.time\n",
    "\n",
    "historic_data['YEAR_DE'] = historic_data['SCHEDULED_DEPARTURE'].dt.year\n",
    "\n",
    "historic_data['MONTH_DE'] = historic_data['SCHEDULED_DEPARTURE'].dt.month\n",
    "\n",
    "historic_data['DAY_DE'] = historic_data['SCHEDULED_DEPARTURE'].dt.day\n",
    "\n",
    "historic_data['WEEKDAY_DE'] = historic_data['SCHEDULED_DEPARTURE'].dt.weekday\n",
    "\n",
    "historic_data['WEEKEND_DE'] = historic_data['WEEKDAY_DE'].apply(lambda x: 1 if x >= 6 else 0)\n",
    "\n",
    "historic_data['HOUR_DE'] = historic_data['SCHEDULED_DEPARTURE'].dt.hour"
   ]
  },
  {
   "cell_type": "code",
   "execution_count": 8,
   "id": "4ef5c680",
   "metadata": {},
   "outputs": [],
   "source": [
    "fmt=\"%Y/%m/%d %H:%M:%S\"\n",
    "fmt2=\"%H:%M:%S\""
   ]
  },
  {
   "cell_type": "code",
   "execution_count": 9,
   "id": "20c6675b",
   "metadata": {},
   "outputs": [],
   "source": [
    "historic_data['DEP_DATE_TIME']=pd.to_datetime(historic_data['SCHEDULED_DEPARTURE'], format = fmt) + pd.to_timedelta(historic_data['DEPARTURE_DELAY'], 'm')\n",
    "\n",
    "historic_data['ARR_DATE_TIME']=historic_data['DEP_DATE_TIME']+ pd.to_timedelta(historic_data['TAXI_IN'],'m') + pd.to_timedelta(historic_data['TAXI_OUT'], 'm') + pd.to_timedelta(historic_data['AIR_TIME'], 'm')\n",
    "\n",
    "historic_data['SCH_ARR_DATE_TIME']=pd.to_datetime(historic_data['SCHEDULED_DEPARTURE'], format = fmt) + pd.to_timedelta(historic_data['SCHEDULED_TIME'], 'm')\n",
    "\n",
    "historic_data['ARRIVAL_DELAY_v1']=(historic_data['ARR_DATE_TIME'] - historic_data['SCH_ARR_DATE_TIME']).astype('timedelta64[m]')\n",
    "\n",
    "historic_data['ARRIVAL_DELAY_v2']=(pd.to_datetime(historic_data['ARRIVAL_TIME'], format=fmt2) - pd.to_datetime(historic_data['SCHEDULED_ARRIVAL'], format = fmt2)).astype('timedelta64[m]')\n",
    "\n",
    "historic_data['ARRIVAL_DELAY'] = (historic_data['ARRIVAL_DELAY_v1'] > 15).astype(int)"
   ]
  },
  {
   "cell_type": "code",
   "execution_count": 10,
   "id": "c55d3a33",
   "metadata": {},
   "outputs": [],
   "source": [
    "df_merged = pd.merge(historic_data, airports, left_on = 'ORIGIN_AIRPORT', right_on = 'IATA_CODE')\n"
   ]
  },
  {
   "cell_type": "code",
   "execution_count": 11,
   "id": "a7298e1c",
   "metadata": {
    "scrolled": false
   },
   "outputs": [
    {
     "name": "stdout",
     "output_type": "stream",
     "text": [
      "0, SCHEDULED_TIME: 2\n",
      "1, SCH_ARR_DATE_TIME: 2\n",
      "2, TAIL_NUMBER: 4557\n",
      "3, DEPARTURE_DELAY: 30771\n",
      "4, DEPARTURE_TIME: 30771\n",
      "5, DEP_DATE_TIME: 30771\n",
      "6, TAXI_OUT: 32180\n",
      "7, WHEELS_OFF: 32180\n",
      "8, ARRIVAL_DELAY_v2: 33797\n",
      "9, ARRIVAL_TIME: 33797\n",
      "10, TAXI_IN: 33797\n",
      "11, WHEELS_ON: 33797\n",
      "12, AIR_TIME: 40100\n",
      "13, ARRIVAL_DELAY_v1: 40100\n",
      "14, ARR_DATE_TIME: 40100\n",
      "15, ELAPSED_TIME: 40100\n",
      "16, AIRLINE_DELAY: 1991785\n",
      "17, AIR_SYSTEM_DELAY: 1991785\n",
      "18, LATE_AIRCRAFT_DELAY: 1991785\n",
      "19, SECURITY_DELAY: 1991785\n",
      "20, WEATHER_DELAY: 1991785\n",
      "21, CANCELLATION_REASON: 2426100\n",
      "22, TOTAL: 2458628\n"
     ]
    },
    {
     "data": {
      "image/png": "[encoded data removed]",
      "text/plain": [
       "<Figure size 432x288 with 1 Axes>"
      ]
     },
     "metadata": {
      "needs_background": "light"
     },
     "output_type": "display_data"
    }
   ],
   "source": [
    "#!pip install matplotlib\n",
    "import matplotlib.pyplot as plt\n",
    "import numpy as np\n",
    "\n",
    "sums = historic_data.isna().sum(axis=0)\n",
    "count_limit = 0\n",
    "\n",
    "non_zero_pairs = sorted([pair for pair in zip(sums, historic_data.columns) if pair[0] > count_limit])\n",
    "non_zero_pairs.append((len(historic_data), 'TOTAL'))\n",
    "\n",
    "non_zero_sums, non_zero_labels = zip(*non_zero_pairs)\n",
    "nans_range = np.asarray(range(len(non_zero_sums)))\n",
    "\n",
    "for i, (non_zero_sum, non_zero_label) in enumerate(non_zero_pairs):\n",
    "    print('{}, {}: {}'.format(i, non_zero_label, non_zero_sum))\n",
    "\n",
    "# plot info\n",
    "plt.figure()\n",
    "xAxe = plt.gca()\n",
    "\n",
    "xAxe.set_xticks(nans_range)\n",
    "\n",
    "plt.bar(nans_range, non_zero_sums)\n",
    "plt.show()"
   ]
  },
  {
   "cell_type": "code",
   "execution_count": 12,
   "id": "826d8280",
   "metadata": {},
   "outputs": [],
   "source": [
    "#historic_data=historic_data.drop(['FLIGHT_NUMBER','AIRLINE','DISTANCE','TAIL_NUMBER','TAXI_OUT',\n",
    " #                                             'SCHEDULED_TIME','DEPARTURE_TIME','WHEELS_OFF','ELAPSED_TIME',\n",
    "  #                                            'AIR_TIME','WHEELS_ON', 'TAXI_IN','CANCELLATION_REASON'],\n",
    "   #                                          axis=1)"
   ]
  },
  {
   "cell_type": "code",
   "execution_count": 13,
   "id": "49fec80a",
   "metadata": {},
   "outputs": [],
   "source": [
    "df_merged['flight_status'] = np.where(df_merged.CANCELLED, 'Cancelled', np.where(df_merged.ARRIVAL_DELAY_v2 >= 15, 'Delayed', 'On Time/Early'))\n"
   ]
  },
  {
   "cell_type": "code",
   "execution_count": 14,
   "id": "75930e28",
   "metadata": {},
   "outputs": [
    {
     "data": {
      "text/plain": [
       "On Time/Early    1979588\n",
       "Delayed           446512\n",
       "Cancelled          32528\n",
       "Name: flight_status, dtype: int64"
      ]
     },
     "execution_count": 14,
     "metadata": {},
     "output_type": "execute_result"
    },
    {
     "data": {
      "image/png": "[encoded data removed]",
      "text/plain": [
       "<Figure size 432x288 with 1 Axes>"
      ]
     },
     "metadata": {
      "needs_background": "light"
     },
     "output_type": "display_data"
    }
   ],
   "source": [
    "import seaborn as sb\n",
    "base_color = sb.color_palette()[0]\n",
    "sb.countplot(data = df_merged, x = 'flight_status', color = base_color);\n",
    "df_merged.flight_status.value_counts()"
   ]
  },
  {
   "cell_type": "code",
   "execution_count": 18,
   "id": "78f11501",
   "metadata": {
    "scrolled": true
   },
   "outputs": [
    {
     "data": {
      "image/png": "[encoded data removed]",
      "text/plain": [
       "<Figure size 432x288 with 1 Axes>"
      ]
     },
     "metadata": {
      "needs_background": "light"
     },
     "output_type": "display_data"
    }
   ],
   "source": [
    "df_merged.AIRLINE.nunique()\n",
    "plt.bar(df_merged.AIRLINE.value_counts().index, df_merged.AIRLINE.value_counts().values)\n",
    "plt.xlabel('Airline')\n",
    "plt.ylabel('Count')\n",
    "plt.title('Airlines by number of flights');\n"
   ]
  },
  {
   "cell_type": "code",
   "execution_count": 21,
   "id": "b3f23d24",
   "metadata": {},
   "outputs": [
    {
     "data": {
      "text/plain": [
       "0.1496106771744241"
      ]
     },
     "execution_count": 21,
     "metadata": {},
     "output_type": "execute_result"
    }
   ],
   "source": [
    "n_flights = len(df_merged)\n",
    "max_dayofweek_count = df_merged.WEEKDAY_DE.value_counts().values[0]\n",
    "max_prop = max_dayofweek_count/ n_flights\n",
    "max_prop"
   ]
  },
  {
   "cell_type": "code",
   "execution_count": null,
   "id": "dc80b0f3",
   "metadata": {},
   "outputs": [],
   "source": [
    "tick_props = np.arange(0, max_prop, 0.02)\n",
    "tick_names = ['{:.2f}'.format(v) for v in tick_props]\n",
    "tick_names"
   ]
  },
  {
   "cell_type": "code",
   "execution_count": 22,
   "id": "76c739d5",
   "metadata": {},
   "outputs": [
    {
     "data": {
      "text/plain": [
       "['0.00', '0.02', '0.04', '0.06', '0.08', '0.10', '0.12', '0.14']"
      ]
     },
     "execution_count": 22,
     "metadata": {},
     "output_type": "execute_result"
    }
   ],
   "source": [
    "tick_props = np.arange(0, max_prop, 0.02)\n",
    "tick_names = ['{:.2f}'.format(v) for v in tick_props]\n",
    "tick_names"
   ]
  },
  {
   "cell_type": "code",
   "execution_count": 24,
   "id": "3a3e5871",
   "metadata": {
    "scrolled": true
   },
   "outputs": [
    {
     "data": {
      "image/png": "[encoded data removed]",
      "text/plain": [
       "<Figure size 432x288 with 1 Axes>"
      ]
     },
     "metadata": {
      "needs_background": "light"
     },
     "output_type": "display_data"
    }
   ],
   "source": [
    "sb.countplot(data = df_merged, y = 'WEEKDAY_DE', color = base_color, order = df_merged.WEEKDAY_DE.value_counts().index)\n",
    "plt.xticks(tick_props * n_flights, tick_names)\n",
    "plt.xlabel('Proportion in %')\n",
    "plt.title('Relative frequency of flights by the day of the week')\n",
    "for i in range(df_merged.WEEKDAY_DE.value_counts().shape[0]):\n",
    "    count = df_merged.WEEKDAY_DE.value_counts().values[i]\n",
    "    pct_string = '{:0.1f}%'.format(100*count/n_flights)\n",
    "    plt.text(count+1, i, pct_string, va = 'center');"
   ]
  },
  {
   "cell_type": "code",
   "execution_count": 29,
   "id": "1a344dfc",
   "metadata": {},
   "outputs": [
    {
     "data": {
      "text/plain": [
       "(array([4.74980e+04, 1.27741e+05, 1.91839e+05, 2.02177e+05, 2.00561e+05,\n",
       "        1.63155e+05, 2.01145e+05, 1.63560e+05, 1.18073e+05, 1.03597e+05,\n",
       "        1.36400e+05, 1.30085e+05, 9.77590e+04, 6.26660e+04, 6.83240e+04,\n",
       "        2.67390e+04, 3.37400e+04, 4.96950e+04, 4.48470e+04, 3.07740e+04,\n",
       "        4.01100e+04, 2.20620e+04, 1.43170e+04, 1.87200e+04, 1.03640e+04,\n",
       "        1.92050e+04, 1.26590e+04, 1.53640e+04, 2.46170e+04, 2.96320e+04,\n",
       "        2.65210e+04, 8.22300e+03, 7.83500e+03, 1.16000e+03, 2.59100e+03,\n",
       "        6.40000e+02, 1.16000e+02, 0.00000e+00, 0.00000e+00, 2.92000e+02,\n",
       "        3.52000e+02, 1.42000e+02, 0.00000e+00, 0.00000e+00, 4.68000e+02,\n",
       "        9.40000e+02, 3.06000e+02, 9.00000e+01, 0.00000e+00, 0.00000e+00,\n",
       "        1.14000e+02, 3.06000e+02, 0.00000e+00, 0.00000e+00, 3.06000e+02,\n",
       "        0.00000e+00, 0.00000e+00, 1.87000e+02, 0.00000e+00, 6.14000e+02]),\n",
       " array([  31.        ,  113.53333333,  196.06666667,  278.6       ,\n",
       "         361.13333333,  443.66666667,  526.2       ,  608.73333333,\n",
       "         691.26666667,  773.8       ,  856.33333333,  938.86666667,\n",
       "        1021.4       , 1103.93333333, 1186.46666667, 1269.        ,\n",
       "        1351.53333333, 1434.06666667, 1516.6       , 1599.13333333,\n",
       "        1681.66666667, 1764.2       , 1846.73333333, 1929.26666667,\n",
       "        2011.8       , 2094.33333333, 2176.86666667, 2259.4       ,\n",
       "        2341.93333333, 2424.46666667, 2507.        , 2589.53333333,\n",
       "        2672.06666667, 2754.6       , 2837.13333333, 2919.66666667,\n",
       "        3002.2       , 3084.73333333, 3167.26666667, 3249.8       ,\n",
       "        3332.33333333, 3414.86666667, 3497.4       , 3579.93333333,\n",
       "        3662.46666667, 3745.        , 3827.53333333, 3910.06666667,\n",
       "        3992.6       , 4075.13333333, 4157.66666667, 4240.2       ,\n",
       "        4322.73333333, 4405.26666667, 4487.8       , 4570.33333333,\n",
       "        4652.86666667, 4735.4       , 4817.93333333, 4900.46666667,\n",
       "        4983.        ]),\n",
       " <BarContainer object of 60 artists>)"
      ]
     },
     "execution_count": 29,
     "metadata": {},
     "output_type": "execute_result"
    },
    {
     "data": {
      "image/png": "[encoded data removed]",
      "text/plain": [
       "<Figure size 432x288 with 1 Axes>"
      ]
     },
     "metadata": {
      "needs_background": "light"
     },
     "output_type": "display_data"
    }
   ],
   "source": [
    "plt.hist(df_merged.DISTANCE, bins = 60)\n"
   ]
  },
  {
   "cell_type": "code",
   "execution_count": 31,
   "id": "57999326",
   "metadata": {
    "scrolled": true
   },
   "outputs": [
    {
     "data": {
      "image/png": "[encoded data removed]",
      "text/plain": [
       "<Figure size 432x288 with 1 Axes>"
      ]
     },
     "metadata": {
      "needs_background": "light"
     },
     "output_type": "display_data"
    }
   ],
   "source": [
    "plt.hist(df_merged.DISTANCE, bins = 60)\n",
    "plt.xscale('log');"
   ]
  },
  {
   "cell_type": "code",
   "execution_count": null,
   "id": "7420dc48",
   "metadata": {},
   "outputs": [],
   "source": []
  },
  {
   "cell_type": "code",
   "execution_count": null,
   "id": "6045d6b6",
   "metadata": {},
   "outputs": [],
   "source": []
  },
  {
   "cell_type": "code",
   "execution_count": null,
   "id": "72ff4762",
   "metadata": {},
   "outputs": [],
   "source": []
  },
  {
   "cell_type": "code",
   "execution_count": 27,
   "id": "3530669e",
   "metadata": {},
   "outputs": [
    {
     "name": "stdout",
     "output_type": "stream",
     "text": [
      "<class 'pandas.core.frame.DataFrame'>\n",
      "Int64Index: 2458628 entries, 0 to 2458627\n",
      "Data columns (total 47 columns):\n",
      " #   Column               Dtype         \n",
      "---  ------               -----         \n",
      " 0   SCHEDULED_DEPARTURE  datetime64[ns]\n",
      " 1   DEPARTURE_TIME       object        \n",
      " 2   SCHEDULED_ARRIVAL    datetime64[ns]\n",
      " 3   ARRIVAL_TIME         object        \n",
      " 4   AIRLINE              object        \n",
      " 5   FLIGHT_NUMBER        int64         \n",
      " 6   TAIL_NUMBER          object        \n",
      " 7   ORIGIN_AIRPORT       object        \n",
      " 8   DESTINATION_AIRPORT  object        \n",
      " 9   DEPARTURE_DELAY      float64       \n",
      " 10  TAXI_OUT             float64       \n",
      " 11  WHEELS_OFF           float64       \n",
      " 12  SCHEDULED_TIME       float64       \n",
      " 13  ELAPSED_TIME         float64       \n",
      " 14  AIR_TIME             float64       \n",
      " 15  DISTANCE             int64         \n",
      " 16  WHEELS_ON            float64       \n",
      " 17  TAXI_IN              float64       \n",
      " 18  CANCELLED            int64         \n",
      " 19  CANCELLATION_REASON  object        \n",
      " 20  AIR_SYSTEM_DELAY     float64       \n",
      " 21  SECURITY_DELAY       float64       \n",
      " 22  AIRLINE_DELAY        float64       \n",
      " 23  LATE_AIRCRAFT_DELAY  float64       \n",
      " 24  WEATHER_DELAY        float64       \n",
      " 25  TIME_AR              object        \n",
      " 26  TIME_DE              object        \n",
      " 27  YEAR_DE              int64         \n",
      " 28  MONTH_DE             int64         \n",
      " 29  DAY_DE               int64         \n",
      " 30  WEEKDAY_DE           int64         \n",
      " 31  WEEKEND_DE           int64         \n",
      " 32  HOUR_DE              int64         \n",
      " 33  DEP_DATE_TIME        datetime64[ns]\n",
      " 34  ARR_DATE_TIME        datetime64[ns]\n",
      " 35  SCH_ARR_DATE_TIME    datetime64[ns]\n",
      " 36  ARRIVAL_DELAY_v1     float64       \n",
      " 37  ARRIVAL_DELAY_v2     float64       \n",
      " 38  ARRIVAL_DELAY        int32         \n",
      " 39  IATA_CODE            object        \n",
      " 40  AIRPORT              object        \n",
      " 41  CITY                 object        \n",
      " 42  STATE                object        \n",
      " 43  COUNTRY              object        \n",
      " 44  LATITUDE             float64       \n",
      " 45  LONGITUDE            float64       \n",
      " 46  flight_status        object        \n",
      "dtypes: datetime64[ns](5), float64(17), int32(1), int64(9), object(15)\n",
      "memory usage: 891.0+ MB\n"
     ]
    }
   ],
   "source": [
    "df_merged.info()"
   ]
  },
  {
   "cell_type": "code",
   "execution_count": null,
   "id": "5da9b5aa",
   "metadata": {},
   "outputs": [],
   "source": [
    "df_merged.info()"
   ]
  },
  {
   "cell_type": "code",
   "execution_count": null,
   "id": "0a9ffbdc",
   "metadata": {},
   "outputs": [],
   "source": [
    "#!pip install plt\n",
    "#!pip install Basemap\n",
    "from mpl_toolkits.basemap import Basemap\n",
    "import matplotlib.pyplot as plt\n",
    "from pylab import rcParams"
   ]
  },
  {
   "cell_type": "code",
   "execution_count": null,
   "id": "amino-ultimate",
   "metadata": {
    "scrolled": false
   },
   "outputs": [],
   "source": [
    "tab_info=pd.DataFrame(historic_data.dtypes).T.rename(index={0:'column type'})\n",
    "tab_info=tab_info.append(pd.DataFrame(historic_data.isnull().sum()).T.rename(index={0:'null values (nb)'}))\n",
    "tab_info=tab_info.append(pd.DataFrame(historic_data.isnull().sum()/historic_data.shape[0]*100)\n",
    "                         .T.rename(index={0:'null values (%)'}))\n",
    "tab_info"
   ]
  },
  {
   "cell_type": "code",
   "execution_count": null,
   "id": "light-lawsuit",
   "metadata": {
    "scrolled": true
   },
   "outputs": [],
   "source": [
    "df_merged['Normalised'] = df_merged.groupby('ORIGIN_AIRPORT')['ARRIVAL_DELAY_v2'].apply(lambda x: (x-x.min())/(x.max()-x.min()))"
   ]
  },
  {
   "cell_type": "code",
   "execution_count": null,
   "id": "printable-jordan",
   "metadata": {
    "scrolled": false
   },
   "outputs": [],
   "source": [
    "import matplotlib.pyplot as plt\n",
    "\n",
    "fig, ax = plt.subplots(facecolor='#FCF6F5FF')\n",
    "fig.set_size_inches(14, 7)\n",
    "\n",
    "ax.scatter(df_merged['LONGITUDE'], df_merged['LATITUDE'], s=df_merged['Normalised'], edgecolors='none')\n",
    "ax.axis('off')\n",
    "\n",
    "plt.show()"
   ]
  },
  {
   "cell_type": "code",
   "execution_count": null,
   "id": "b802159d",
   "metadata": {},
   "outputs": [],
   "source": [
    "#size of dots as count(arrival delay)\n",
    "#transparency if overlaps\n",
    "#before after\n",
    "#link\n",
    "fig = plt.figure(figsize=(16, 16))\n",
    "m = Basemap(llcrnrlon=-119,llcrnrlat=22,urcrnrlon=-64,urcrnrlat=49,\n",
    "        projection='lcc',lat_1=32,lat_2=45,lon_0=-95)\n",
    "m.readshapefile('st99_d00', name='states', drawbounds=True)\n",
    "m.scatter(df_merged['LONGITUDE'].values, df_merged['LATITUDE'].values, s=df_merged['ARRIVAL_DELAY_v2'],latlon=True)\n",
    "plt.show()\n"
   ]
  },
  {
   "cell_type": "code",
   "execution_count": null,
   "id": "c14a65d1",
   "metadata": {
    "scrolled": true
   },
   "outputs": [],
   "source": [
    "pd.crosstab(df_merged['AIRLINE'], df_merged['DESTINATION_AIRPORT'], values=df_merged['ARRIVAL_DELAY'] > 0, aggfunc='sum').fillna('')\n",
    "#size of airline = count(something)"
   ]
  },
  {
   "cell_type": "code",
   "execution_count": null,
   "id": "handy-beast",
   "metadata": {
    "scrolled": false
   },
   "outputs": [],
   "source": [
    "#__________________________________________________________________\n",
    "# function that extract statistical parameters from a grouby objet:\n",
    "def get_stats(group):\n",
    "    return {'min': group.min(), 'max': group.max(),\n",
    "            'count': group.count(), 'mean': group.mean()}\n",
    "#_______________________________________________________________\n",
    "# Creation of a dataframe with statitical infos on each airline:\n",
    "global_stats = df_merged['DEPARTURE_DELAY'].groupby(df_merged['AIRLINE']).apply(get_stats).unstack()\n",
    "global_stats = global_stats.sort_values('count')\n",
    "global_stats"
   ]
  },
  {
   "cell_type": "code",
   "execution_count": null,
   "id": "tender-finland",
   "metadata": {},
   "outputs": [],
   "source": [
    "abbr_companies = airlines.set_index('IATA_CODE')['AIRLINE'].to_dict()\n",
    "abbr_companies"
   ]
  },
  {
   "cell_type": "code",
   "execution_count": null,
   "id": "early-pharmacology",
   "metadata": {},
   "outputs": [],
   "source": [
    "import matplotlib as mpl\n",
    "from matplotlib.gridspec import GridSpec\n",
    "import seaborn as sns\n",
    "\n",
    "font = {'family' : 'normal', 'weight' : 'bold', 'size'   : 15}\n",
    "mpl.rc('font', **font)\n",
    "import matplotlib.patches as mpatches\n",
    "#__________________________________________________________________\n",
    "# I extract a subset of columns and redefine the airlines labeling \n",
    "df2 = df_merged.loc[:, ['AIRLINE', 'DEPARTURE_DELAY']]\n",
    "df2['AIRLINE'] = df2['AIRLINE'].replace(abbr_companies)\n",
    "#________________________________________________________________________\n",
    "colors = ['royalblue', 'grey', 'wheat', 'c', 'firebrick', 'seagreen', 'lightskyblue',\n",
    "          'lightcoral', 'yellowgreen', 'gold', 'tomato', 'violet', 'aquamarine', 'chartreuse']\n",
    "#___________________________________\n",
    "fig = plt.figure(1, figsize=(16,15))\n",
    "gs=GridSpec(2,2)             \n",
    "ax1=fig.add_subplot(gs[0,0]) \n",
    "ax2=fig.add_subplot(gs[0,1]) \n",
    "ax3=fig.add_subplot(gs[1,:]) \n",
    "\n",
    "labels = [s for s in  global_stats.index]\n",
    "sizes  = global_stats['count'].values\n",
    "explode = [0.3 if sizes[i] < 20000 else 0.0 for i in range(len(abbr_companies))]\n",
    "patches, texts, autotexts = ax1.pie(sizes, explode = explode,\n",
    "                                labels=labels, colors = colors,  autopct='%1.0f%%',\n",
    "                                shadow=False, startangle=0)\n",
    "for i in range(len(abbr_companies)): \n",
    "    texts[i].set_fontsize(14)\n",
    "ax1.axis('equal')\n",
    "ax1.set_title('% of flights per company', bbox={'facecolor':'midnightblue', 'pad':5},\n",
    "              color = 'w',fontsize=18)\n",
    "\n",
    "comp_handler = []\n",
    "for i in range(len(abbr_companies)):\n",
    "    comp_handler.append(mpatches.Patch(color=colors[i],\n",
    "            label = global_stats.index[i] + ': ' + abbr_companies[global_stats.index[i]]))\n",
    "ax1.legend(handles=comp_handler, bbox_to_anchor=(0.2, 0.9), \n",
    "           fontsize = 13, bbox_transform=plt.gcf().transFigure)\n",
    "\n",
    "# Pie chart nº2: mean delay at departure\n",
    "#----------------------------------------\n",
    "sizes  = global_stats['mean'].values\n",
    "sizes  = [max(s,0) for s in sizes]\n",
    "explode = [0.0 if sizes[i] < 20000 else 0.01 for i in range(len(abbr_companies))]\n",
    "patches, texts, autotexts = ax2.pie(sizes, explode = explode, labels = labels,\n",
    "                                colors = colors, shadow=False, startangle=0,\n",
    "                                autopct = lambda p :  '{:.0f}'.format(p * sum(sizes) / 100))\n",
    "for i in range(len(abbr_companies)): \n",
    "    texts[i].set_fontsize(14)\n",
    "ax2.axis('equal')\n",
    "ax2.set_title('Mean delay at origin', bbox={'facecolor':'midnightblue', 'pad':5},\n",
    "              color='w', fontsize=18)\n",
    "\n",
    "#------------------------------------------------------\n",
    "# striplot with all the values reported for the delays\n",
    "#___________________________________________________________________\n",
    "# I redefine the colors for correspondance with the pie charts\n",
    "colors = ['firebrick', 'gold', 'lightcoral', 'aquamarine', 'c', 'yellowgreen', 'grey',\n",
    "          'seagreen', 'tomato', 'violet', 'wheat', 'chartreuse', 'lightskyblue', 'royalblue']\n",
    "#___________________________________________________________________\n",
    "ax3 = sns.stripplot(y=\"AIRLINE\", x=\"DEPARTURE_DELAY\", size = 4, palette = colors,\n",
    "                    data=df2, linewidth = 0.5,  jitter=True)\n",
    "plt.setp(ax3.get_xticklabels(), fontsize=14)\n",
    "plt.setp(ax3.get_yticklabels(), fontsize=14)\n",
    "ax3.set_xticklabels(['{:2.0f}h{:2.0f}m'.format(*[int(y) for y in divmod(x,60)])\n",
    "                         for x in ax3.get_xticks()])\n",
    "plt.xlabel('Departure delay', fontsize=18, bbox={'facecolor':'midnightblue', 'pad':5},\n",
    "           color='w', labelpad=20)\n",
    "ax3.yaxis.label.set_visible(False)\n",
    "#________________________\n",
    "plt.tight_layout(w_pad=3) "
   ]
  },
  {
   "cell_type": "code",
   "execution_count": null,
   "id": "robust-occasion",
   "metadata": {},
   "outputs": [],
   "source": [
    "#_____________________________________________\n",
    "# Function that define how delays are grouped\n",
    "delay_type = lambda x:((0,1)[x > 15],2)[x > 45]\n",
    "df_merged['DELAY_LEVEL'] = df_merged['DEPARTURE_DELAY'].apply(delay_type)\n",
    "#____________________________________________________\n",
    "fig = plt.figure(1, figsize=(10,7))\n",
    "ax = sns.countplot(y=\"AIRLINE\", hue='DELAY_LEVEL', data=df_merged)\n",
    "#____________________________________________________________________________________\n",
    "# We replace the abbreviations by the full names of the companies and set the labels\n",
    "labels = [abbr_companies[item.get_text()] for item in ax.get_yticklabels()]\n",
    "ax.set_yticklabels(labels)\n",
    "plt.setp(ax.get_xticklabels(), fontsize=12, weight = 'normal', rotation = 0);\n",
    "plt.setp(ax.get_yticklabels(), fontsize=12, weight = 'bold', rotation = 0);\n",
    "ax.yaxis.label.set_visible(False)\n",
    "plt.xlabel('Flight count', fontsize=16, weight = 'bold', labelpad=10)\n",
    "#________________\n",
    "# Set the legend\n",
    "L = plt.legend()\n",
    "L.get_texts()[0].set_text('on time (t < 15 min)')\n",
    "L.get_texts()[1].set_text('small delay (15 < t < 45 min)')\n",
    "L.get_texts()[2].set_text('large delay (t > 45 min)')\n",
    "plt.show()"
   ]
  },
  {
   "cell_type": "code",
   "execution_count": null,
   "id": "circular-essex",
   "metadata": {
    "scrolled": false
   },
   "outputs": [],
   "source": [
    "import matplotlib.pyplot as plt\n",
    "import matplotlib.patches as patches\n",
    "from scipy.optimize import curve_fit\n",
    "\n",
    "#___________________________________________\n",
    "# Model function used to fit the histograms\n",
    "def func(x, a, b):\n",
    "    return a * np.exp(-x/b)\n",
    "#-------------------------------------------\n",
    "points = [] ; label_company = []\n",
    "fig = plt.figure(1, figsize=(15,15))\n",
    "i = 0\n",
    "for carrier_name in [abbr_companies[x] for x in global_stats.index]:\n",
    "    i += 1\n",
    "    ax = fig.add_subplot(5,3,i)    \n",
    "    #_________________________\n",
    "    # Fit of the distribution\n",
    "    n, bins, patches = plt.hist(x = df2[df2['AIRLINE']==carrier_name]['DEPARTURE_DELAY'],\n",
    "                                range = (15,180), density=True, bins= 60)\n",
    "    bin_centers = bins[:-1] + 0.5 * (bins[1:] - bins[:-1])    \n",
    "    popt, pcov = curve_fit(func, bin_centers, n, p0 = [1, 2])\n",
    "    #___________________________\n",
    "    # bookeeping of the results\n",
    "    points.append(popt)\n",
    "    label_company.append(carrier_name)\n",
    "    #______________________\n",
    "    # draw the fit curve\n",
    "    plt.plot(bin_centers, func(bin_centers, *popt), 'r-', linewidth=3)    \n",
    "    #_____________________________________\n",
    "    # define tick labels for each subplot\n",
    "    if i < 10:\n",
    "        ax.set_xticklabels(['' for x in ax.get_xticks()])\n",
    "    else:\n",
    "        ax.set_xticklabels(['{:2.0f}h{:2.0f}m'.format(*[int(y) for y in divmod(x,60)])\n",
    "                            for x in ax.get_xticks()])\n",
    "    #______________\n",
    "    # subplot title\n",
    "    plt.title(carrier_name, fontsize = 14, fontweight = 'bold', color = 'darkblue')\n",
    "    #____________\n",
    "    # axes labels \n",
    "    if i == 4:\n",
    "        ax.text(-0.3,0.9,'Normalized count of flights', fontsize=16, rotation=90,\n",
    "            color='k', horizontalalignment='center', transform = ax.transAxes)\n",
    "    if i == 14:\n",
    "        ax.text( 0.5, -0.5 ,'Delay at origin', fontsize=16, rotation=0,\n",
    "            color='k', horizontalalignment='center', transform = ax.transAxes)\n",
    "    #___________________________________________\n",
    "    # Legend: values of the a and b coefficients\n",
    "    ax.text(0.68, 0.7, 'a = {}\\nb = {}'.format(round(popt[0],2), round(popt[1],1)),\n",
    "            style='italic', transform=ax.transAxes, fontsize = 12, family='fantasy',\n",
    "            bbox={'facecolor':'tomato', 'alpha':0.8, 'pad':5})\n",
    "    \n",
    "plt.tight_layout()"
   ]
  },
  {
   "cell_type": "code",
   "execution_count": null,
   "id": "tight-charm",
   "metadata": {},
   "outputs": [],
   "source": [
    "result = (\n",
    "  df_merged\n",
    "  .groupby(['ORIGIN_AIRPORT'])\n",
    "  .apply(lambda x: pd.Series({\n",
    "      'nb_flights': len(x['FLIGHT_NUMBER'])\n",
    "  }))\n",
    "  .reset_index()\n",
    ")"
   ]
  },
  {
   "cell_type": "code",
   "execution_count": null,
   "id": "stylish-monroe",
   "metadata": {},
   "outputs": [],
   "source": [
    "df3 = (\n",
    "  result\n",
    "  .merge(df_merged, left_on='ORIGIN_AIRPORT', right_on='IATA_CODE')\n",
    ")"
   ]
  },
  {
   "cell_type": "code",
   "execution_count": null,
   "id": "trying-deviation",
   "metadata": {
    "scrolled": true
   },
   "outputs": [],
   "source": [
    "df3['nb_flights']"
   ]
  },
  {
   "cell_type": "code",
   "execution_count": null,
   "id": "revised-tribute",
   "metadata": {},
   "outputs": [],
   "source": [
    "# data (date, airline, nb_flights)\n",
    "# Style\n",
    "sns.set(font_scale=1)\n",
    "sns.set_style(\"whitegrid\")\n",
    "\n",
    "# Plot\n",
    "fig, ax = plt.subplots(figsize=(10,3))\n",
    "sns.lineplot(data=df3, x='SCHEDULED_DEPARTURE', y='nb_flights', hue='AIRLINE')\n",
    "ax.axvline(x='2015-07-01', linestyle='--', color='grey')\n",
    "\n",
    "# Axes\n",
    "ax.xaxis.set_major_locator(mdates.DayLocator(bymonthday=1))\n",
    "ax.xaxis.set_major_formatter(mdates.DateFormatter('%b %d'))\n",
    "plt.xticks(rotation=15)\n",
    "plt.ylim(0,4000)\n",
    "\n",
    "# Legend\n",
    "handles, labels = ax.get_legend_handles_labels()\n",
    "labels[0] = 'Airline'\n",
    "ax.legend(handles, labels, bbox_to_anchor=(1.04,0.5), loc=\"center left\", borderaxespad=0, frameon=0)\n",
    "plt.suptitle('Number of flights in the US in 2015', x=0.28, y=1.05)\n",
    "plt.title('Top airlines', loc='left')\n",
    "ax.text(x=0.75, y=-0.245, s='Source: publicly available data from DoT',\n",
    "      fontsize=8, transform=ax.transAxes)\n",
    "plt.xlabel('Time');plt.ylabel('Number of daily flights')"
   ]
  },
  {
   "cell_type": "code",
   "execution_count": null,
   "id": "anticipated-strike",
   "metadata": {
    "scrolled": true
   },
   "outputs": [],
   "source": [
    "df_merged"
   ]
  },
  {
   "cell_type": "code",
   "execution_count": null,
   "id": "flying-philip",
   "metadata": {},
   "outputs": [],
   "source": [
    "import seaborn as sb\n",
    "corr = historic_data.corr(method='pearson')\n",
    "sb.heatmap(corr)"
   ]
  },
  {
   "cell_type": "code",
   "execution_count": null,
   "id": "coral-lesbian",
   "metadata": {},
   "outputs": [],
   "source": [
    "result=[]\n",
    "for row in historic_data['ARRIVAL_DELAY']:\n",
    "  if row > 15:\n",
    "    result.append(1)\n",
    "  else:\n",
    "    result.append(0)  "
   ]
  },
  {
   "cell_type": "code",
   "execution_count": null,
   "id": "simplified-people",
   "metadata": {},
   "outputs": [],
   "source": [
    "historic_data"
   ]
  },
  {
   "cell_type": "code",
   "execution_count": null,
   "id": "sufficient-camera",
   "metadata": {},
   "outputs": [],
   "source": [
    "len(historic_data.index)"
   ]
  },
  {
   "cell_type": "code",
   "execution_count": null,
   "id": "reported-delaware",
   "metadata": {},
   "outputs": [],
   "source": [
    "historic_data = historic_data.dropna()\n",
    "historic_data = historic_data.reset_index(drop=True)"
   ]
  },
  {
   "cell_type": "code",
   "execution_count": null,
   "id": "related-palestine",
   "metadata": {},
   "outputs": [],
   "source": [
    "historic_data.to_csv(\"sample.csv\")"
   ]
  },
  {
   "cell_type": "code",
   "execution_count": null,
   "id": "permanent-auckland",
   "metadata": {},
   "outputs": [],
   "source": [
    "historic_data['result'] = result\n"
   ]
  },
  {
   "cell_type": "code",
   "execution_count": null,
   "id": "spoken-vertical",
   "metadata": {
    "scrolled": true
   },
   "outputs": [],
   "source": [
    "historic_data.value_counts('result')"
   ]
  },
  {
   "cell_type": "code",
   "execution_count": null,
   "id": "present-avatar",
   "metadata": {
    "scrolled": true
   },
   "outputs": [],
   "source": [
    "# removing some more columns\n",
    "historic_data=historic_data.drop(['ORIGIN_AIRPORT', 'DESTINATION_AIRPORT', 'ARRIVAL_TIME', 'ARRIVAL_DELAY', 'SCHEDULED_DEPARTURE', 'SCHEDULED_ARRIVAL'],axis=1)\n",
    "historic_data"
   ]
  },
  {
   "cell_type": "code",
   "execution_count": null,
   "id": "religious-underwear",
   "metadata": {},
   "outputs": [],
   "source": [
    "from sklearn.model_selection import train_test_split\n",
    "data = historic_data.values\n",
    "X, y = data[:,:-1], data[:,-1]\n",
    "X_train, X_test, y_train, y_test = train_test_split(X, y, test_size=0.50, random_state=42)"
   ]
  },
  {
   "cell_type": "code",
   "execution_count": null,
   "id": "narrow-leave",
   "metadata": {},
   "outputs": [],
   "source": [
    "from sklearn.preprocessing import StandardScaler\n",
    "scaled_features = StandardScaler().fit_transform(X_train, X_test)"
   ]
  },
  {
   "cell_type": "code",
   "execution_count": null,
   "id": "pretty-aaron",
   "metadata": {},
   "outputs": [],
   "source": [
    "from sklearn.tree import DecisionTreeClassifier\n",
    "clf = DecisionTreeClassifier()\n",
    "clf = clf.fit(X_train,y_train)"
   ]
  },
  {
   "cell_type": "code",
   "execution_count": null,
   "id": "cardiovascular-straight",
   "metadata": {},
   "outputs": [],
   "source": [
    "from sklearn.metrics import roc_auc_score\n",
    "pred_prob = clf.predict_proba(X_test)\n",
    "auc_score = roc_auc_score(y_test, pred_prob[:,1])\n",
    "auc_score"
   ]
  },
  {
   "cell_type": "code",
   "execution_count": null,
   "id": "saving-charleston",
   "metadata": {},
   "outputs": [],
   "source": [
    "airlines = pd.read_csv(\"airlines.csv\")\n",
    "airports = pd.read_csv(\"airports.csv\")\n",
    "future_data = pd.read_csv(\"future_data.csv\")\n",
    "historic_data = pd.read_csv(\"historic_data.csv\")\n"
   ]
  },
  {
   "cell_type": "code",
   "execution_count": null,
   "id": "foreign-liquid",
   "metadata": {},
   "outputs": [],
   "source": [
    "start_time = pd.to_datetime(historic_data['ARRIVAL_TIME'].astype(str)) \n",
    "end_time = pd.to_datetime(historic_data['SCHEDULED_ARRIVAL'].astype(str))\n",
    "historic_data['ARRIVAL_DELAY'] = start_time.sub(end_time).dt.total_seconds().div(60)\n",
    "result=[]\n",
    "for row in historic_data['ARRIVAL_DELAY']:\n",
    "  if row > 30:\n",
    "    result.append(1)\n",
    "  else:\n",
    "    result.append(0)  \n",
    "historic_data['result'] = result"
   ]
  },
  {
   "cell_type": "code",
   "execution_count": null,
   "id": "hydraulic-driver",
   "metadata": {},
   "outputs": [],
   "source": [
    "historic_data"
   ]
  },
  {
   "cell_type": "code",
   "execution_count": null,
   "id": "transsexual-difficulty",
   "metadata": {},
   "outputs": [],
   "source": [
    "figsize=plt.subplots(figsize=(10,12))\n",
    "sb.countplot(x='result',hue='AIRLINE',data=historic_data)\n",
    "plt.show()"
   ]
  },
  {
   "cell_type": "code",
   "execution_count": null,
   "id": "educated-illustration",
   "metadata": {},
   "outputs": [],
   "source": [
    "# Label definition\n",
    "y = historic_data.result\n",
    "\n",
    "# Choosing the predictors\n",
    "feature_list_s = [\n",
    "    'LATE_AIRCRAFT_DELAY'\n",
    "    ,'AIRLINE_DELAY'\n",
    "    ,'AIR_SYSTEM_DELAY'\n",
    "    ,'WEATHER_DELAY'\n",
    "    ,'ELAPSED_TIME']\n",
    "\n",
    "# New dataframe based on a small feature list\n",
    "X_small = historic_data[feature_list_s]"
   ]
  },
  {
   "cell_type": "code",
   "execution_count": null,
   "id": "rocky-turkish",
   "metadata": {},
   "outputs": [],
   "source": [
    "X_small = X_small.fillna(0)\n",
    "\n",
    "y = y.fillna(0)"
   ]
  },
  {
   "cell_type": "code",
   "execution_count": null,
   "id": "noticed-adrian",
   "metadata": {},
   "outputs": [],
   "source": [
    "from sklearn.ensemble import RandomForestClassifier\n",
    "from sklearn.ensemble import RandomForestRegressor\n",
    "clf = RandomForestClassifier(n_estimators = 10, random_state=32) \n",
    "clf.fit(X_small, y)"
   ]
  },
  {
   "cell_type": "code",
   "execution_count": null,
   "id": "caroline-superior",
   "metadata": {
    "scrolled": true
   },
   "outputs": [],
   "source": [
    "importances=clf.feature_importances_\n",
    "importances=pd.DataFrame([X_small.columns,importances]).transpose()\n",
    "importances.columns=[['Variables','Importance']]\n",
    "importances"
   ]
  },
  {
   "cell_type": "code",
   "execution_count": null,
   "id": "earned-assets",
   "metadata": {},
   "outputs": [],
   "source": [
    "# choosing the predictors\n",
    "feature_list = [\n",
    "    'LATE_AIRCRAFT_DELAY'\n",
    "    ,'AIRLINE_DELAY'\n",
    "    ,'AIR_SYSTEM_DELAY'\n",
    "    ,'WEATHER_DELAY'\n",
    "    ,'ELAPSED_TIME'\n",
    "    ,'DEPARTURE_DELAY'\n",
    "    ,'SCHEDULED_TIME'\n",
    "    ,'AIR_TIME'\n",
    "    ,'DISTANCE'\n",
    "    ,'TAXI_IN'\n",
    "    ,'TAXI_OUT'\n",
    "    ,'SECURITY_DELAY'\n",
    "]\n",
    "# Any number can be used in place of '0'. \n",
    "import random\n",
    "random.seed(0)\n",
    "    \n",
    "X = historic_data[feature_list]\n",
    "X= X.fillna(0)"
   ]
  },
  {
   "cell_type": "code",
   "execution_count": null,
   "id": "nutritional-projection",
   "metadata": {},
   "outputs": [],
   "source": [
    "X.info()"
   ]
  },
  {
   "cell_type": "code",
   "execution_count": null,
   "id": "roman-singer",
   "metadata": {},
   "outputs": [],
   "source": [
    "y = historic_data.result\n",
    "y= y.fillna(0)"
   ]
  },
  {
   "cell_type": "code",
   "execution_count": null,
   "id": "divided-quantum",
   "metadata": {},
   "outputs": [],
   "source": [
    "X_train,X_test,y_train,y_test=train_test_split(X,y,test_size=0.5,random_state=42)\n",
    "from sklearn.preprocessing import scale\n",
    "X_train=scale(X_train)\n",
    "X_test=scale(X_test)"
   ]
  },
  {
   "cell_type": "code",
   "execution_count": null,
   "id": "thermal-reynolds",
   "metadata": {},
   "outputs": [],
   "source": [
    "from sklearn.linear_model import LinearRegression\n",
    "from sklearn.linear_model import Ridge\n",
    "from sklearn.linear_model import Lasso\n",
    "\n",
    "model=LinearRegression()\n",
    "model=model.fit(X_train,y_train)\n",
    "slope=model.coef_\n",
    "coef=model.intercept_\n",
    "print(slope.flatten())\n",
    "print(coef)"
   ]
  },
  {
   "cell_type": "code",
   "execution_count": null,
   "id": "concerned-thomson",
   "metadata": {},
   "outputs": [],
   "source": [
    "y_pred=model.predict(X_train)"
   ]
  },
  {
   "cell_type": "code",
   "execution_count": null,
   "id": "mounted-input",
   "metadata": {},
   "outputs": [],
   "source": [
    "from sklearn.metrics import r2_score\n",
    "r2_score(y_train,y_pred)"
   ]
  },
  {
   "cell_type": "code",
   "execution_count": null,
   "id": "hazardous-blame",
   "metadata": {},
   "outputs": [],
   "source": [
    "from mlxtend.feature_selection import SequentialFeatureSelector as SFS\n",
    "from mlxtend.plotting import plot_sequential_feature_selection as plot_sfs\n",
    "from sklearn.linear_model import LinearRegression"
   ]
  },
  {
   "cell_type": "code",
   "execution_count": null,
   "id": "interstate-opening",
   "metadata": {},
   "outputs": [],
   "source": [
    "lr = LinearRegression()\n",
    "sfs = SFS(lr, k_features='best', forward=True, floating=False, \n",
    "          scoring='neg_mean_squared_error', cv=10)\n",
    "model = sfs.fit(X_train, y_train)\n",
    "\n",
    "fig = plot_sfs(sfs.get_metric_dict(), kind='std_err')\n",
    "\n",
    "plt.title('Sequential Forward Selection (w. StdErr)')\n",
    "plt.grid()\n",
    "plt.show()"
   ]
  },
  {
   "cell_type": "code",
   "execution_count": null,
   "id": "smaller-chapel",
   "metadata": {
    "scrolled": true
   },
   "outputs": [],
   "source": [
    "print('Selected features:', sfs.k_feature_idx_)"
   ]
  },
  {
   "cell_type": "code",
   "execution_count": null,
   "id": "excited-kinase",
   "metadata": {},
   "outputs": [],
   "source": [
    "from sklearn import ensemble,gaussian_process,linear_model,naive_bayes,neighbors,svm,tree"
   ]
  },
  {
   "cell_type": "code",
   "execution_count": null,
   "id": "diverse-citizenship",
   "metadata": {},
   "outputs": [],
   "source": [
    "MLA = [\n",
    "    #Ensemble Methods\n",
    "    ensemble.AdaBoostRegressor(n_jobs = -1),\n",
    "    ensemble.BaggingRegressor(n_jobs = -1),\n",
    "    ensemble.ExtraTreesRegressor(n_jobs = -1),\n",
    "    ensemble.GradientBoostingRegressor(n_jobs = -1),\n",
    "    ensemble.RandomForestRegressor(n_jobs = -1),\n",
    "    #Nearest Neighbor\n",
    "    neighbors.KNeighborsRegressor(n_jobs = -1),\n",
    "    #Trees    \n",
    "    tree.DecisionTreeRegressor(n_jobs = -1),\n",
    "    tree.ExtraTreeRegressor(n_jobs = -1)\n",
    "    ]"
   ]
  },
  {
   "cell_type": "code",
   "execution_count": null,
   "id": "derived-national",
   "metadata": {},
   "outputs": [],
   "source": [
    "from sklearn.model_selection import cross_val_score\n",
    "from sklearn.metrics import roc_curve, roc_auc_score,precision_score,recall_score,auc"
   ]
  },
  {
   "cell_type": "code",
   "execution_count": null,
   "id": "grave-generation",
   "metadata": {},
   "outputs": [],
   "source": [
    "MLA_columns = []\n",
    "MLA_compare = pd.DataFrame(columns = MLA_columns)\n",
    "results=[]\n",
    "\n",
    "row_index = 0\n",
    "for alg in MLA:\n",
    "    \n",
    "    cv_results = cross_val_score(alg, X_train, y_train, cv=10)\n",
    "    results.append(cv_results)\n",
    "    predicted = alg.fit(X_train, y_train).predict(X_test)\n",
    "    fp, tp, th = roc_curve(y_test, predicted)\n",
    "    MLA_name = alg.__class__.__name__\n",
    "    MLA_compare.loc[row_index,'MLA Name'] = MLA_name\n",
    "    MLA_compare.loc[row_index, 'MLA Train Accuracy'] = round(alg.score(X_train, y_train), 4)\n",
    "    MLA_compare.loc[row_index, 'MLA Test Accuracy'] = round(alg.score(X_test, y_test), 4)\n",
    "    MLA_compare.loc[row_index, 'MLA AUC'] = auc(fp, tp)\n",
    "    \n",
    "    \n",
    "    row_index+=1\n",
    "    \n",
    "MLA_compare.sort_values(by = ['MLA Test Accuracy'], ascending = False, inplace = True)    \n",
    "MLA_compare"
   ]
  },
  {
   "cell_type": "code",
   "execution_count": null,
   "id": "particular-giving",
   "metadata": {},
   "outputs": [],
   "source": []
  }
 ],
 "metadata": {
  "kernelspec": {
   "display_name": "Python 3 (ipykernel)",
   "language": "python",
   "name": "python3"
  },
  "language_info": {
   "codemirror_mode": {
    "name": "ipython",
    "version": 3
   },
   "file_extension": ".py",
   "mimetype": "text/x-python",
   "name": "python",
   "nbconvert_exporter": "python",
   "pygments_lexer": "ipython3",
   "version": "3.8.10"
  }
 },
 "nbformat": 4,
 "nbformat_minor": 5
}
