{
 "cells": [
  {
   "cell_type": "code",
   "execution_count": null,
   "id": "9d67674f",
   "metadata": {},
   "outputs": [],
   "source": [
    "#pip install pandas\n",
    "import pandas as pd\n",
    "import datetime as dt\n",
    "import numpy as np\n",
    "#data\n",
    "df_airports = pd.read_csv(path+'airports.csv')\n",
    "df_airlines = pd.read_csv(path+'airlines.csv')\n",
    "df_hdata = pd.read_csv(path+'historic_data.csv', low_memory=False)\n",
    "df_hdata = df_hdata .sample(frac=0.10)\n",
    "#drop cancelled flights\n",
    "df_delays=df_hdata[df_hdata['CANCELLED']==0]\n",
    "\n",
    "fmt=\"%Y/%m/%d %H:%M:%S\"\n",
    "fmt2=\"%H:%M:%S\"\n",
    "##############\n",
    "#to build dates on each flight stage\n",
    "#############\n",
    "\n",
    "# 1) add date to departure time\n",
    "df_delays['DEP_date_time']=pd.to_datetime(df_hdata['SCHEDULED_DEPARTURE'], format=fmt)+pd.to_timedelta(df_delays['DEPARTURE_DELAY'],'m')\n",
    "\n",
    "# 2) arrival_time: DEP_date_time+ tax_out (min)+airtime (min)+tax_in (min)\n",
    "df_delays['Arr_date_time']=df_delays['DEP_date_time']+ pd.to_timedelta(df_delays['TAXI_IN'],'m')+pd.to_timedelta(df_delays['TAXI_OUT'],'m')+ pd.to_timedelta(df_delays['AIR_TIME'],'m')\n",
    "\n",
    "#3)compute the date of schedule arrival: SCHEDULED_DEPARTURE+SCHEDULED_TIME (min)\n",
    "df_delays['SCH_ARR_date_time']=pd.to_datetime(df_hdata['SCHEDULED_DEPARTURE'], format=fmt)+pd.to_timedelta(df_delays['SCHEDULED_TIME'],'m')\n",
    "#4) compute arrival delay: schedule arrival-Arr_date_time\n",
    "df_delays['arrival_delay']=(df_delays['SCH_ARR_date_time']-df_delays['Arr_date_time']).astype('timedelta64[m]')\n",
    "# to compare with the initial delay version\n",
    "df_delays['arrival_delayv2']=(pd.to_datetime(df_delays['SCHEDULED_ARRIVAL'], format=fmt2)- pd.to_datetime(df_delays['ARRIVAL_TIME'], format=fmt2)).astype('timedelta64[m]')"
   ]
  }
 ],
 "metadata": {
  "kernelspec": {
   "display_name": "Python 3 (ipykernel)",
   "language": "python",
   "name": "python3"
  },
  "language_info": {
   "codemirror_mode": {
    "name": "ipython",
    "version": 3
   },
   "file_extension": ".py",
   "mimetype": "text/x-python",
   "name": "python",
   "nbconvert_exporter": "python",
   "pygments_lexer": "ipython3",
   "version": "3.8.10"
  }
 },
 "nbformat": 4,
 "nbformat_minor": 5
}
