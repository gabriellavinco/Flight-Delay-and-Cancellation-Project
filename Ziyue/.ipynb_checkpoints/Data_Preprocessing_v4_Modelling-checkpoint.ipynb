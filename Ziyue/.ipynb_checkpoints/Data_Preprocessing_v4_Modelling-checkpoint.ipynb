{
 "cells": [
  {
   "cell_type": "markdown",
   "metadata": {
    "id": "mCaCn_7_hlmq"
   },
   "source": [
    "# Travel Agency - Delay Prediction"
   ]
  },
  {
   "cell_type": "markdown",
   "metadata": {
    "id": "OMyk0gZBhlmt"
   },
   "source": [
    "## Load packages and data"
   ]
  },
  {
   "cell_type": "markdown",
   "metadata": {
    "id": "aoZgyO5Shlmu"
   },
   "source": [
    "Change your path here:"
   ]
  },
  {
   "cell_type": "code",
   "execution_count": 1,
   "metadata": {
    "id": "xih4vhothlmu"
   },
   "outputs": [],
   "source": [
    "cd \"D:\\KU Leuven\\2022 Spring\\statistical consulting\\Group Project\\data_travel_agency\""
   ]
  },
  {
   "cell_type": "code",
   "execution_count": 4,
   "metadata": {
    "id": "JjxERguEhlmx"
   },
   "outputs": [],
   "source": [
    "import pandas as pd\n",
    "import numpy as np\n",
    "import seaborn as sns\n",
    "import matplotlib as mpl\n",
    "import matplotlib.pyplot as plt\n",
    "\n",
    "import datetime as dt\n",
    "from datetime import datetime, timedelta\n",
    "from dateutil.relativedelta import relativedelta\n",
    "\n",
    "from sklearn import preprocessing\n",
    "from sklearn.model_selection import train_test_split\n",
    "from sklearn.compose import ColumnTransformer\n",
    "from sklearn.preprocessing import OneHotEncoder\n",
    "from sklearn.preprocessing import StandardScaler\n",
    "from sklearn.preprocessing import LabelEncoder\n",
    "from sklearn.preprocessing import Normalizer"
   ]
  },
  {
   "cell_type": "markdown",
   "metadata": {
    "id": "8Hl3XzV3hlmy"
   },
   "source": [
    "Load the four datasets provided."
   ]
  },
  {
   "cell_type": "code",
   "execution_count": 5,
   "metadata": {
    "colab": {
     "base_uri": "https://localhost:8080/",
     "height": 206
    },
    "id": "PJIoj9y4hlmz",
    "outputId": "4f186790-b866-4c8a-c8d1-07159cb0fdfd"
   },
   "outputs": [
    {
     "data": {
      "text/html": [
       "\n",
       "  <div id=\"df-23a49db8-e2d9-42ff-baed-d1c061be09f6\">\n",
       "    <div class=\"colab-df-container\">\n",
       "      <div>\n",
       "<style scoped>\n",
       "    .dataframe tbody tr th:only-of-type {\n",
       "        vertical-align: middle;\n",
       "    }\n",
       "\n",
       "    .dataframe tbody tr th {\n",
       "        vertical-align: top;\n",
       "    }\n",
       "\n",
       "    .dataframe thead th {\n",
       "        text-align: right;\n",
       "    }\n",
       "</style>\n",
       "<table border=\"1\" class=\"dataframe\">\n",
       "  <thead>\n",
       "    <tr style=\"text-align: right;\">\n",
       "      <th></th>\n",
       "      <th>IATA_CODE</th>\n",
       "      <th>AIRLINE</th>\n",
       "    </tr>\n",
       "  </thead>\n",
       "  <tbody>\n",
       "    <tr>\n",
       "      <th>0</th>\n",
       "      <td>UA</td>\n",
       "      <td>United Air Lines Inc.</td>\n",
       "    </tr>\n",
       "    <tr>\n",
       "      <th>1</th>\n",
       "      <td>AA</td>\n",
       "      <td>American Airlines Inc.</td>\n",
       "    </tr>\n",
       "    <tr>\n",
       "      <th>2</th>\n",
       "      <td>US</td>\n",
       "      <td>US Airways Inc.</td>\n",
       "    </tr>\n",
       "    <tr>\n",
       "      <th>3</th>\n",
       "      <td>F9</td>\n",
       "      <td>Frontier Airlines Inc.</td>\n",
       "    </tr>\n",
       "    <tr>\n",
       "      <th>4</th>\n",
       "      <td>B6</td>\n",
       "      <td>JetBlue Airways</td>\n",
       "    </tr>\n",
       "  </tbody>\n",
       "</table>\n",
       "</div>\n",
       "      <button class=\"colab-df-convert\" onclick=\"convertToInteractive('df-23a49db8-e2d9-42ff-baed-d1c061be09f6')\"\n",
       "              title=\"Convert this dataframe to an interactive table.\"\n",
       "              style=\"display:none;\">\n",
       "        \n",
       "  <svg xmlns=\"http://www.w3.org/2000/svg\" height=\"24px\"viewBox=\"0 0 24 24\"\n",
       "       width=\"24px\">\n",
       "    <path d=\"M0 0h24v24H0V0z\" fill=\"none\"/>\n",
       "    <path d=\"M18.56 5.44l.94 2.06.94-2.06 2.06-.94-2.06-.94-.94-2.06-.94 2.06-2.06.94zm-11 1L8.5 8.5l.94-2.06 2.06-.94-2.06-.94L8.5 2.5l-.94 2.06-2.06.94zm10 10l.94 2.06.94-2.06 2.06-.94-2.06-.94-.94-2.06-.94 2.06-2.06.94z\"/><path d=\"M17.41 7.96l-1.37-1.37c-.4-.4-.92-.59-1.43-.59-.52 0-1.04.2-1.43.59L10.3 9.45l-7.72 7.72c-.78.78-.78 2.05 0 2.83L4 21.41c.39.39.9.59 1.41.59.51 0 1.02-.2 1.41-.59l7.78-7.78 2.81-2.81c.8-.78.8-2.07 0-2.86zM5.41 20L4 18.59l7.72-7.72 1.47 1.35L5.41 20z\"/>\n",
       "  </svg>\n",
       "      </button>\n",
       "      \n",
       "  <style>\n",
       "    .colab-df-container {\n",
       "      display:flex;\n",
       "      flex-wrap:wrap;\n",
       "      gap: 12px;\n",
       "    }\n",
       "\n",
       "    .colab-df-convert {\n",
       "      background-color: #E8F0FE;\n",
       "      border: none;\n",
       "      border-radius: 50%;\n",
       "      cursor: pointer;\n",
       "      display: none;\n",
       "      fill: #1967D2;\n",
       "      height: 32px;\n",
       "      padding: 0 0 0 0;\n",
       "      width: 32px;\n",
       "    }\n",
       "\n",
       "    .colab-df-convert:hover {\n",
       "      background-color: #E2EBFA;\n",
       "      box-shadow: 0px 1px 2px rgba(60, 64, 67, 0.3), 0px 1px 3px 1px rgba(60, 64, 67, 0.15);\n",
       "      fill: #174EA6;\n",
       "    }\n",
       "\n",
       "    [theme=dark] .colab-df-convert {\n",
       "      background-color: #3B4455;\n",
       "      fill: #D2E3FC;\n",
       "    }\n",
       "\n",
       "    [theme=dark] .colab-df-convert:hover {\n",
       "      background-color: #434B5C;\n",
       "      box-shadow: 0px 1px 3px 1px rgba(0, 0, 0, 0.15);\n",
       "      filter: drop-shadow(0px 1px 2px rgba(0, 0, 0, 0.3));\n",
       "      fill: #FFFFFF;\n",
       "    }\n",
       "  </style>\n",
       "\n",
       "      <script>\n",
       "        const buttonEl =\n",
       "          document.querySelector('#df-23a49db8-e2d9-42ff-baed-d1c061be09f6 button.colab-df-convert');\n",
       "        buttonEl.style.display =\n",
       "          google.colab.kernel.accessAllowed ? 'block' : 'none';\n",
       "\n",
       "        async function convertToInteractive(key) {\n",
       "          const element = document.querySelector('#df-23a49db8-e2d9-42ff-baed-d1c061be09f6');\n",
       "          const dataTable =\n",
       "            await google.colab.kernel.invokeFunction('convertToInteractive',\n",
       "                                                     [key], {});\n",
       "          if (!dataTable) return;\n",
       "\n",
       "          const docLinkHtml = 'Like what you see? Visit the ' +\n",
       "            '<a target=\"_blank\" href=https://colab.research.google.com/notebooks/data_table.ipynb>data table notebook</a>'\n",
       "            + ' to learn more about interactive tables.';\n",
       "          element.innerHTML = '';\n",
       "          dataTable['output_type'] = 'display_data';\n",
       "          await google.colab.output.renderOutput(dataTable, element);\n",
       "          const docLink = document.createElement('div');\n",
       "          docLink.innerHTML = docLinkHtml;\n",
       "          element.appendChild(docLink);\n",
       "        }\n",
       "      </script>\n",
       "    </div>\n",
       "  </div>\n",
       "  "
      ],
      "text/plain": [
       "  IATA_CODE                 AIRLINE\n",
       "0        UA   United Air Lines Inc.\n",
       "1        AA  American Airlines Inc.\n",
       "2        US         US Airways Inc.\n",
       "3        F9  Frontier Airlines Inc.\n",
       "4        B6         JetBlue Airways"
      ]
     },
     "execution_count": 5,
     "metadata": {},
     "output_type": "execute_result"
    }
   ],
   "source": [
    "df_airlines = pd.read_csv('airlines.csv', na_values=' ')\n",
    "df_airlines.head()"
   ]
  },
  {
   "cell_type": "code",
   "execution_count": 6,
   "metadata": {
    "colab": {
     "base_uri": "https://localhost:8080/",
     "height": 206
    },
    "id": "5ykQWkr0hlm0",
    "outputId": "f25cd7ce-0d64-4d31-f5e7-ab7efd804487"
   },
   "outputs": [
    {
     "data": {
      "text/html": [
       "\n",
       "  <div id=\"df-3ce8d7da-3116-437b-9a98-57579ce40669\">\n",
       "    <div class=\"colab-df-container\">\n",
       "      <div>\n",
       "<style scoped>\n",
       "    .dataframe tbody tr th:only-of-type {\n",
       "        vertical-align: middle;\n",
       "    }\n",
       "\n",
       "    .dataframe tbody tr th {\n",
       "        vertical-align: top;\n",
       "    }\n",
       "\n",
       "    .dataframe thead th {\n",
       "        text-align: right;\n",
       "    }\n",
       "</style>\n",
       "<table border=\"1\" class=\"dataframe\">\n",
       "  <thead>\n",
       "    <tr style=\"text-align: right;\">\n",
       "      <th></th>\n",
       "      <th>IATA_CODE</th>\n",
       "      <th>AIRPORT</th>\n",
       "      <th>CITY</th>\n",
       "      <th>STATE</th>\n",
       "      <th>COUNTRY</th>\n",
       "      <th>LATITUDE</th>\n",
       "      <th>LONGITUDE</th>\n",
       "    </tr>\n",
       "  </thead>\n",
       "  <tbody>\n",
       "    <tr>\n",
       "      <th>0</th>\n",
       "      <td>ABE</td>\n",
       "      <td>Lehigh Valley International Airport</td>\n",
       "      <td>Allentown</td>\n",
       "      <td>PA</td>\n",
       "      <td>USA</td>\n",
       "      <td>40.65236</td>\n",
       "      <td>-75.44040</td>\n",
       "    </tr>\n",
       "    <tr>\n",
       "      <th>1</th>\n",
       "      <td>ABI</td>\n",
       "      <td>Abilene Regional Airport</td>\n",
       "      <td>Abilene</td>\n",
       "      <td>TX</td>\n",
       "      <td>USA</td>\n",
       "      <td>32.41132</td>\n",
       "      <td>-99.68190</td>\n",
       "    </tr>\n",
       "    <tr>\n",
       "      <th>2</th>\n",
       "      <td>ABQ</td>\n",
       "      <td>Albuquerque International Sunport</td>\n",
       "      <td>Albuquerque</td>\n",
       "      <td>NM</td>\n",
       "      <td>USA</td>\n",
       "      <td>35.04022</td>\n",
       "      <td>-106.60919</td>\n",
       "    </tr>\n",
       "    <tr>\n",
       "      <th>3</th>\n",
       "      <td>ABR</td>\n",
       "      <td>Aberdeen Regional Airport</td>\n",
       "      <td>Aberdeen</td>\n",
       "      <td>SD</td>\n",
       "      <td>USA</td>\n",
       "      <td>45.44906</td>\n",
       "      <td>-98.42183</td>\n",
       "    </tr>\n",
       "    <tr>\n",
       "      <th>4</th>\n",
       "      <td>ABY</td>\n",
       "      <td>Southwest Georgia Regional Airport</td>\n",
       "      <td>Albany</td>\n",
       "      <td>GA</td>\n",
       "      <td>USA</td>\n",
       "      <td>31.53552</td>\n",
       "      <td>-84.19447</td>\n",
       "    </tr>\n",
       "  </tbody>\n",
       "</table>\n",
       "</div>\n",
       "      <button class=\"colab-df-convert\" onclick=\"convertToInteractive('df-3ce8d7da-3116-437b-9a98-57579ce40669')\"\n",
       "              title=\"Convert this dataframe to an interactive table.\"\n",
       "              style=\"display:none;\">\n",
       "        \n",
       "  <svg xmlns=\"http://www.w3.org/2000/svg\" height=\"24px\"viewBox=\"0 0 24 24\"\n",
       "       width=\"24px\">\n",
       "    <path d=\"M0 0h24v24H0V0z\" fill=\"none\"/>\n",
       "    <path d=\"M18.56 5.44l.94 2.06.94-2.06 2.06-.94-2.06-.94-.94-2.06-.94 2.06-2.06.94zm-11 1L8.5 8.5l.94-2.06 2.06-.94-2.06-.94L8.5 2.5l-.94 2.06-2.06.94zm10 10l.94 2.06.94-2.06 2.06-.94-2.06-.94-.94-2.06-.94 2.06-2.06.94z\"/><path d=\"M17.41 7.96l-1.37-1.37c-.4-.4-.92-.59-1.43-.59-.52 0-1.04.2-1.43.59L10.3 9.45l-7.72 7.72c-.78.78-.78 2.05 0 2.83L4 21.41c.39.39.9.59 1.41.59.51 0 1.02-.2 1.41-.59l7.78-7.78 2.81-2.81c.8-.78.8-2.07 0-2.86zM5.41 20L4 18.59l7.72-7.72 1.47 1.35L5.41 20z\"/>\n",
       "  </svg>\n",
       "      </button>\n",
       "      \n",
       "  <style>\n",
       "    .colab-df-container {\n",
       "      display:flex;\n",
       "      flex-wrap:wrap;\n",
       "      gap: 12px;\n",
       "    }\n",
       "\n",
       "    .colab-df-convert {\n",
       "      background-color: #E8F0FE;\n",
       "      border: none;\n",
       "      border-radius: 50%;\n",
       "      cursor: pointer;\n",
       "      display: none;\n",
       "      fill: #1967D2;\n",
       "      height: 32px;\n",
       "      padding: 0 0 0 0;\n",
       "      width: 32px;\n",
       "    }\n",
       "\n",
       "    .colab-df-convert:hover {\n",
       "      background-color: #E2EBFA;\n",
       "      box-shadow: 0px 1px 2px rgba(60, 64, 67, 0.3), 0px 1px 3px 1px rgba(60, 64, 67, 0.15);\n",
       "      fill: #174EA6;\n",
       "    }\n",
       "\n",
       "    [theme=dark] .colab-df-convert {\n",
       "      background-color: #3B4455;\n",
       "      fill: #D2E3FC;\n",
       "    }\n",
       "\n",
       "    [theme=dark] .colab-df-convert:hover {\n",
       "      background-color: #434B5C;\n",
       "      box-shadow: 0px 1px 3px 1px rgba(0, 0, 0, 0.15);\n",
       "      filter: drop-shadow(0px 1px 2px rgba(0, 0, 0, 0.3));\n",
       "      fill: #FFFFFF;\n",
       "    }\n",
       "  </style>\n",
       "\n",
       "      <script>\n",
       "        const buttonEl =\n",
       "          document.querySelector('#df-3ce8d7da-3116-437b-9a98-57579ce40669 button.colab-df-convert');\n",
       "        buttonEl.style.display =\n",
       "          google.colab.kernel.accessAllowed ? 'block' : 'none';\n",
       "\n",
       "        async function convertToInteractive(key) {\n",
       "          const element = document.querySelector('#df-3ce8d7da-3116-437b-9a98-57579ce40669');\n",
       "          const dataTable =\n",
       "            await google.colab.kernel.invokeFunction('convertToInteractive',\n",
       "                                                     [key], {});\n",
       "          if (!dataTable) return;\n",
       "\n",
       "          const docLinkHtml = 'Like what you see? Visit the ' +\n",
       "            '<a target=\"_blank\" href=https://colab.research.google.com/notebooks/data_table.ipynb>data table notebook</a>'\n",
       "            + ' to learn more about interactive tables.';\n",
       "          element.innerHTML = '';\n",
       "          dataTable['output_type'] = 'display_data';\n",
       "          await google.colab.output.renderOutput(dataTable, element);\n",
       "          const docLink = document.createElement('div');\n",
       "          docLink.innerHTML = docLinkHtml;\n",
       "          element.appendChild(docLink);\n",
       "        }\n",
       "      </script>\n",
       "    </div>\n",
       "  </div>\n",
       "  "
      ],
      "text/plain": [
       "  IATA_CODE                              AIRPORT         CITY STATE COUNTRY  \\\n",
       "0       ABE  Lehigh Valley International Airport    Allentown    PA     USA   \n",
       "1       ABI             Abilene Regional Airport      Abilene    TX     USA   \n",
       "2       ABQ    Albuquerque International Sunport  Albuquerque    NM     USA   \n",
       "3       ABR            Aberdeen Regional Airport     Aberdeen    SD     USA   \n",
       "4       ABY   Southwest Georgia Regional Airport       Albany    GA     USA   \n",
       "\n",
       "   LATITUDE  LONGITUDE  \n",
       "0  40.65236  -75.44040  \n",
       "1  32.41132  -99.68190  \n",
       "2  35.04022 -106.60919  \n",
       "3  45.44906  -98.42183  \n",
       "4  31.53552  -84.19447  "
      ]
     },
     "execution_count": 6,
     "metadata": {},
     "output_type": "execute_result"
    }
   ],
   "source": [
    "df_airports = pd.read_csv('airports.csv', na_values=' ')\n",
    "df_airports.head()"
   ]
  },
  {
   "cell_type": "code",
   "execution_count": 7,
   "metadata": {
    "colab": {
     "base_uri": "https://localhost:8080/",
     "height": 299
    },
    "id": "LXn_5unvhlm1",
    "outputId": "fb7f7d44-5f33-4112-ffb0-8431798d6634"
   },
   "outputs": [
    {
     "data": {
      "text/html": [
       "\n",
       "  <div id=\"df-bfb16283-5dd6-4dbc-8b95-11b3faaafa70\">\n",
       "    <div class=\"colab-df-container\">\n",
       "      <div>\n",
       "<style scoped>\n",
       "    .dataframe tbody tr th:only-of-type {\n",
       "        vertical-align: middle;\n",
       "    }\n",
       "\n",
       "    .dataframe tbody tr th {\n",
       "        vertical-align: top;\n",
       "    }\n",
       "\n",
       "    .dataframe thead th {\n",
       "        text-align: right;\n",
       "    }\n",
       "</style>\n",
       "<table border=\"1\" class=\"dataframe\">\n",
       "  <thead>\n",
       "    <tr style=\"text-align: right;\">\n",
       "      <th></th>\n",
       "      <th>SCHEDULED_DEPARTURE</th>\n",
       "      <th>DEPARTURE_TIME</th>\n",
       "      <th>SCHEDULED_ARRIVAL</th>\n",
       "      <th>ARRIVAL_TIME</th>\n",
       "      <th>AIRLINE</th>\n",
       "      <th>FLIGHT_NUMBER</th>\n",
       "      <th>TAIL_NUMBER</th>\n",
       "      <th>ORIGIN_AIRPORT</th>\n",
       "      <th>DESTINATION_AIRPORT</th>\n",
       "      <th>DEPARTURE_DELAY</th>\n",
       "      <th>...</th>\n",
       "      <th>DISTANCE</th>\n",
       "      <th>WHEELS_ON</th>\n",
       "      <th>TAXI_IN</th>\n",
       "      <th>CANCELLED</th>\n",
       "      <th>CANCELLATION_REASON</th>\n",
       "      <th>AIR_SYSTEM_DELAY</th>\n",
       "      <th>SECURITY_DELAY</th>\n",
       "      <th>AIRLINE_DELAY</th>\n",
       "      <th>LATE_AIRCRAFT_DELAY</th>\n",
       "      <th>WEATHER_DELAY</th>\n",
       "    </tr>\n",
       "  </thead>\n",
       "  <tbody>\n",
       "    <tr>\n",
       "      <th>0</th>\n",
       "      <td>2019-03-01 00:01:00</td>\n",
       "      <td>00:02:00</td>\n",
       "      <td>01:37:00</td>\n",
       "      <td>01:20:00</td>\n",
       "      <td>UA</td>\n",
       "      <td>1238</td>\n",
       "      <td>N812UA</td>\n",
       "      <td>DEN</td>\n",
       "      <td>BIL</td>\n",
       "      <td>1.0</td>\n",
       "      <td>...</td>\n",
       "      <td>455</td>\n",
       "      <td>117.0</td>\n",
       "      <td>3.0</td>\n",
       "      <td>0</td>\n",
       "      <td>NaN</td>\n",
       "      <td>NaN</td>\n",
       "      <td>NaN</td>\n",
       "      <td>NaN</td>\n",
       "      <td>NaN</td>\n",
       "      <td>NaN</td>\n",
       "    </tr>\n",
       "    <tr>\n",
       "      <th>1</th>\n",
       "      <td>2019-03-01 00:01:00</td>\n",
       "      <td>00:29:00</td>\n",
       "      <td>01:33:00</td>\n",
       "      <td>01:52:00</td>\n",
       "      <td>EV</td>\n",
       "      <td>6134</td>\n",
       "      <td>N14171</td>\n",
       "      <td>ORD</td>\n",
       "      <td>BNA</td>\n",
       "      <td>28.0</td>\n",
       "      <td>...</td>\n",
       "      <td>409</td>\n",
       "      <td>144.0</td>\n",
       "      <td>8.0</td>\n",
       "      <td>0</td>\n",
       "      <td>NaN</td>\n",
       "      <td>0.0</td>\n",
       "      <td>0.0</td>\n",
       "      <td>19.0</td>\n",
       "      <td>0.0</td>\n",
       "      <td>0.0</td>\n",
       "    </tr>\n",
       "    <tr>\n",
       "      <th>2</th>\n",
       "      <td>2019-03-01 00:01:00</td>\n",
       "      <td>NaN</td>\n",
       "      <td>01:53:00</td>\n",
       "      <td>NaN</td>\n",
       "      <td>EV</td>\n",
       "      <td>4682</td>\n",
       "      <td>N15910</td>\n",
       "      <td>ORD</td>\n",
       "      <td>BHM</td>\n",
       "      <td>NaN</td>\n",
       "      <td>...</td>\n",
       "      <td>584</td>\n",
       "      <td>NaN</td>\n",
       "      <td>NaN</td>\n",
       "      <td>1</td>\n",
       "      <td>B</td>\n",
       "      <td>NaN</td>\n",
       "      <td>NaN</td>\n",
       "      <td>NaN</td>\n",
       "      <td>NaN</td>\n",
       "      <td>NaN</td>\n",
       "    </tr>\n",
       "    <tr>\n",
       "      <th>3</th>\n",
       "      <td>2019-03-01 00:02:00</td>\n",
       "      <td>23:59:00</td>\n",
       "      <td>03:04:00</td>\n",
       "      <td>02:56:00</td>\n",
       "      <td>UA</td>\n",
       "      <td>1550</td>\n",
       "      <td>N822UA</td>\n",
       "      <td>ORD</td>\n",
       "      <td>BTV</td>\n",
       "      <td>-3.0</td>\n",
       "      <td>...</td>\n",
       "      <td>763</td>\n",
       "      <td>252.0</td>\n",
       "      <td>4.0</td>\n",
       "      <td>0</td>\n",
       "      <td>NaN</td>\n",
       "      <td>NaN</td>\n",
       "      <td>NaN</td>\n",
       "      <td>NaN</td>\n",
       "      <td>NaN</td>\n",
       "      <td>NaN</td>\n",
       "    </tr>\n",
       "    <tr>\n",
       "      <th>4</th>\n",
       "      <td>2019-03-01 00:02:00</td>\n",
       "      <td>00:36:00</td>\n",
       "      <td>03:22:00</td>\n",
       "      <td>03:30:00</td>\n",
       "      <td>UA</td>\n",
       "      <td>1502</td>\n",
       "      <td>N33262</td>\n",
       "      <td>ORD</td>\n",
       "      <td>BOS</td>\n",
       "      <td>34.0</td>\n",
       "      <td>...</td>\n",
       "      <td>867</td>\n",
       "      <td>326.0</td>\n",
       "      <td>4.0</td>\n",
       "      <td>0</td>\n",
       "      <td>NaN</td>\n",
       "      <td>NaN</td>\n",
       "      <td>NaN</td>\n",
       "      <td>NaN</td>\n",
       "      <td>NaN</td>\n",
       "      <td>NaN</td>\n",
       "    </tr>\n",
       "  </tbody>\n",
       "</table>\n",
       "<p>5 rows × 25 columns</p>\n",
       "</div>\n",
       "      <button class=\"colab-df-convert\" onclick=\"convertToInteractive('df-bfb16283-5dd6-4dbc-8b95-11b3faaafa70')\"\n",
       "              title=\"Convert this dataframe to an interactive table.\"\n",
       "              style=\"display:none;\">\n",
       "        \n",
       "  <svg xmlns=\"http://www.w3.org/2000/svg\" height=\"24px\"viewBox=\"0 0 24 24\"\n",
       "       width=\"24px\">\n",
       "    <path d=\"M0 0h24v24H0V0z\" fill=\"none\"/>\n",
       "    <path d=\"M18.56 5.44l.94 2.06.94-2.06 2.06-.94-2.06-.94-.94-2.06-.94 2.06-2.06.94zm-11 1L8.5 8.5l.94-2.06 2.06-.94-2.06-.94L8.5 2.5l-.94 2.06-2.06.94zm10 10l.94 2.06.94-2.06 2.06-.94-2.06-.94-.94-2.06-.94 2.06-2.06.94z\"/><path d=\"M17.41 7.96l-1.37-1.37c-.4-.4-.92-.59-1.43-.59-.52 0-1.04.2-1.43.59L10.3 9.45l-7.72 7.72c-.78.78-.78 2.05 0 2.83L4 21.41c.39.39.9.59 1.41.59.51 0 1.02-.2 1.41-.59l7.78-7.78 2.81-2.81c.8-.78.8-2.07 0-2.86zM5.41 20L4 18.59l7.72-7.72 1.47 1.35L5.41 20z\"/>\n",
       "  </svg>\n",
       "      </button>\n",
       "      \n",
       "  <style>\n",
       "    .colab-df-container {\n",
       "      display:flex;\n",
       "      flex-wrap:wrap;\n",
       "      gap: 12px;\n",
       "    }\n",
       "\n",
       "    .colab-df-convert {\n",
       "      background-color: #E8F0FE;\n",
       "      border: none;\n",
       "      border-radius: 50%;\n",
       "      cursor: pointer;\n",
       "      display: none;\n",
       "      fill: #1967D2;\n",
       "      height: 32px;\n",
       "      padding: 0 0 0 0;\n",
       "      width: 32px;\n",
       "    }\n",
       "\n",
       "    .colab-df-convert:hover {\n",
       "      background-color: #E2EBFA;\n",
       "      box-shadow: 0px 1px 2px rgba(60, 64, 67, 0.3), 0px 1px 3px 1px rgba(60, 64, 67, 0.15);\n",
       "      fill: #174EA6;\n",
       "    }\n",
       "\n",
       "    [theme=dark] .colab-df-convert {\n",
       "      background-color: #3B4455;\n",
       "      fill: #D2E3FC;\n",
       "    }\n",
       "\n",
       "    [theme=dark] .colab-df-convert:hover {\n",
       "      background-color: #434B5C;\n",
       "      box-shadow: 0px 1px 3px 1px rgba(0, 0, 0, 0.15);\n",
       "      filter: drop-shadow(0px 1px 2px rgba(0, 0, 0, 0.3));\n",
       "      fill: #FFFFFF;\n",
       "    }\n",
       "  </style>\n",
       "\n",
       "      <script>\n",
       "        const buttonEl =\n",
       "          document.querySelector('#df-bfb16283-5dd6-4dbc-8b95-11b3faaafa70 button.colab-df-convert');\n",
       "        buttonEl.style.display =\n",
       "          google.colab.kernel.accessAllowed ? 'block' : 'none';\n",
       "\n",
       "        async function convertToInteractive(key) {\n",
       "          const element = document.querySelector('#df-bfb16283-5dd6-4dbc-8b95-11b3faaafa70');\n",
       "          const dataTable =\n",
       "            await google.colab.kernel.invokeFunction('convertToInteractive',\n",
       "                                                     [key], {});\n",
       "          if (!dataTable) return;\n",
       "\n",
       "          const docLinkHtml = 'Like what you see? Visit the ' +\n",
       "            '<a target=\"_blank\" href=https://colab.research.google.com/notebooks/data_table.ipynb>data table notebook</a>'\n",
       "            + ' to learn more about interactive tables.';\n",
       "          element.innerHTML = '';\n",
       "          dataTable['output_type'] = 'display_data';\n",
       "          await google.colab.output.renderOutput(dataTable, element);\n",
       "          const docLink = document.createElement('div');\n",
       "          docLink.innerHTML = docLinkHtml;\n",
       "          element.appendChild(docLink);\n",
       "        }\n",
       "      </script>\n",
       "    </div>\n",
       "  </div>\n",
       "  "
      ],
      "text/plain": [
       "   SCHEDULED_DEPARTURE DEPARTURE_TIME SCHEDULED_ARRIVAL ARRIVAL_TIME AIRLINE  \\\n",
       "0  2019-03-01 00:01:00       00:02:00          01:37:00     01:20:00      UA   \n",
       "1  2019-03-01 00:01:00       00:29:00          01:33:00     01:52:00      EV   \n",
       "2  2019-03-01 00:01:00            NaN          01:53:00          NaN      EV   \n",
       "3  2019-03-01 00:02:00       23:59:00          03:04:00     02:56:00      UA   \n",
       "4  2019-03-01 00:02:00       00:36:00          03:22:00     03:30:00      UA   \n",
       "\n",
       "   FLIGHT_NUMBER TAIL_NUMBER ORIGIN_AIRPORT DESTINATION_AIRPORT  \\\n",
       "0           1238      N812UA            DEN                 BIL   \n",
       "1           6134      N14171            ORD                 BNA   \n",
       "2           4682      N15910            ORD                 BHM   \n",
       "3           1550      N822UA            ORD                 BTV   \n",
       "4           1502      N33262            ORD                 BOS   \n",
       "\n",
       "   DEPARTURE_DELAY  ...  DISTANCE  WHEELS_ON  TAXI_IN  CANCELLED  \\\n",
       "0              1.0  ...       455      117.0      3.0          0   \n",
       "1             28.0  ...       409      144.0      8.0          0   \n",
       "2              NaN  ...       584        NaN      NaN          1   \n",
       "3             -3.0  ...       763      252.0      4.0          0   \n",
       "4             34.0  ...       867      326.0      4.0          0   \n",
       "\n",
       "   CANCELLATION_REASON  AIR_SYSTEM_DELAY  SECURITY_DELAY  AIRLINE_DELAY  \\\n",
       "0                  NaN               NaN             NaN            NaN   \n",
       "1                  NaN               0.0             0.0           19.0   \n",
       "2                    B               NaN             NaN            NaN   \n",
       "3                  NaN               NaN             NaN            NaN   \n",
       "4                  NaN               NaN             NaN            NaN   \n",
       "\n",
       "   LATE_AIRCRAFT_DELAY WEATHER_DELAY  \n",
       "0                  NaN           NaN  \n",
       "1                  0.0           0.0  \n",
       "2                  NaN           NaN  \n",
       "3                  NaN           NaN  \n",
       "4                  NaN           NaN  \n",
       "\n",
       "[5 rows x 25 columns]"
      ]
     },
     "execution_count": 7,
     "metadata": {},
     "output_type": "execute_result"
    }
   ],
   "source": [
    "df_hdata = pd.read_csv('historic_data.csv', low_memory = False, na_values=' ', on_bad_lines='skip')\n",
    "df_hdata.head()"
   ]
  },
  {
   "cell_type": "code",
   "execution_count": 8,
   "metadata": {
    "colab": {
     "base_uri": "https://localhost:8080/",
     "height": 270
    },
    "id": "SOpxoupHhlm1",
    "outputId": "b839a8c2-66b5-444e-8082-cf8f34ef6d12"
   },
   "outputs": [
    {
     "data": {
      "text/html": [
       "\n",
       "  <div id=\"df-cd8af7df-6fca-481a-b8e1-7fba753911c4\">\n",
       "    <div class=\"colab-df-container\">\n",
       "      <div>\n",
       "<style scoped>\n",
       "    .dataframe tbody tr th:only-of-type {\n",
       "        vertical-align: middle;\n",
       "    }\n",
       "\n",
       "    .dataframe tbody tr th {\n",
       "        vertical-align: top;\n",
       "    }\n",
       "\n",
       "    .dataframe thead th {\n",
       "        text-align: right;\n",
       "    }\n",
       "</style>\n",
       "<table border=\"1\" class=\"dataframe\">\n",
       "  <thead>\n",
       "    <tr style=\"text-align: right;\">\n",
       "      <th></th>\n",
       "      <th>SCHEDULED_DEPARTURE</th>\n",
       "      <th>SCHEDULED_ARRIVAL</th>\n",
       "      <th>AIRLINE</th>\n",
       "      <th>FLIGHT_NUMBER</th>\n",
       "      <th>TAIL_NUMBER</th>\n",
       "      <th>ORIGIN_AIRPORT</th>\n",
       "      <th>DESTINATION_AIRPORT</th>\n",
       "      <th>DISTANCE</th>\n",
       "    </tr>\n",
       "  </thead>\n",
       "  <tbody>\n",
       "    <tr>\n",
       "      <th>0</th>\n",
       "      <td>2022-08-01 00:05:00</td>\n",
       "      <td>04:54:00</td>\n",
       "      <td>AA</td>\n",
       "      <td>2400</td>\n",
       "      <td>N3LNAA</td>\n",
       "      <td>LAX</td>\n",
       "      <td>DFW</td>\n",
       "      <td>1235</td>\n",
       "    </tr>\n",
       "    <tr>\n",
       "      <th>1</th>\n",
       "      <td>2022-08-01 00:15:00</td>\n",
       "      <td>06:00:00</td>\n",
       "      <td>US</td>\n",
       "      <td>2020</td>\n",
       "      <td>N547UW</td>\n",
       "      <td>PHX</td>\n",
       "      <td>CLT</td>\n",
       "      <td>1773</td>\n",
       "    </tr>\n",
       "    <tr>\n",
       "      <th>2</th>\n",
       "      <td>2022-08-01 00:15:00</td>\n",
       "      <td>05:40:00</td>\n",
       "      <td>F9</td>\n",
       "      <td>1298</td>\n",
       "      <td>N922FR</td>\n",
       "      <td>PHX</td>\n",
       "      <td>CVG</td>\n",
       "      <td>1569</td>\n",
       "    </tr>\n",
       "    <tr>\n",
       "      <th>3</th>\n",
       "      <td>2022-08-01 00:20:00</td>\n",
       "      <td>08:04:00</td>\n",
       "      <td>AA</td>\n",
       "      <td>258</td>\n",
       "      <td>N3HRAA</td>\n",
       "      <td>LAX</td>\n",
       "      <td>MIA</td>\n",
       "      <td>2342</td>\n",
       "    </tr>\n",
       "    <tr>\n",
       "      <th>4</th>\n",
       "      <td>2022-08-01 00:25:00</td>\n",
       "      <td>05:26:00</td>\n",
       "      <td>NK</td>\n",
       "      <td>612</td>\n",
       "      <td>N631NK</td>\n",
       "      <td>LAS</td>\n",
       "      <td>MSP</td>\n",
       "      <td>1299</td>\n",
       "    </tr>\n",
       "  </tbody>\n",
       "</table>\n",
       "</div>\n",
       "      <button class=\"colab-df-convert\" onclick=\"convertToInteractive('df-cd8af7df-6fca-481a-b8e1-7fba753911c4')\"\n",
       "              title=\"Convert this dataframe to an interactive table.\"\n",
       "              style=\"display:none;\">\n",
       "        \n",
       "  <svg xmlns=\"http://www.w3.org/2000/svg\" height=\"24px\"viewBox=\"0 0 24 24\"\n",
       "       width=\"24px\">\n",
       "    <path d=\"M0 0h24v24H0V0z\" fill=\"none\"/>\n",
       "    <path d=\"M18.56 5.44l.94 2.06.94-2.06 2.06-.94-2.06-.94-.94-2.06-.94 2.06-2.06.94zm-11 1L8.5 8.5l.94-2.06 2.06-.94-2.06-.94L8.5 2.5l-.94 2.06-2.06.94zm10 10l.94 2.06.94-2.06 2.06-.94-2.06-.94-.94-2.06-.94 2.06-2.06.94z\"/><path d=\"M17.41 7.96l-1.37-1.37c-.4-.4-.92-.59-1.43-.59-.52 0-1.04.2-1.43.59L10.3 9.45l-7.72 7.72c-.78.78-.78 2.05 0 2.83L4 21.41c.39.39.9.59 1.41.59.51 0 1.02-.2 1.41-.59l7.78-7.78 2.81-2.81c.8-.78.8-2.07 0-2.86zM5.41 20L4 18.59l7.72-7.72 1.47 1.35L5.41 20z\"/>\n",
       "  </svg>\n",
       "      </button>\n",
       "      \n",
       "  <style>\n",
       "    .colab-df-container {\n",
       "      display:flex;\n",
       "      flex-wrap:wrap;\n",
       "      gap: 12px;\n",
       "    }\n",
       "\n",
       "    .colab-df-convert {\n",
       "      background-color: #E8F0FE;\n",
       "      border: none;\n",
       "      border-radius: 50%;\n",
       "      cursor: pointer;\n",
       "      display: none;\n",
       "      fill: #1967D2;\n",
       "      height: 32px;\n",
       "      padding: 0 0 0 0;\n",
       "      width: 32px;\n",
       "    }\n",
       "\n",
       "    .colab-df-convert:hover {\n",
       "      background-color: #E2EBFA;\n",
       "      box-shadow: 0px 1px 2px rgba(60, 64, 67, 0.3), 0px 1px 3px 1px rgba(60, 64, 67, 0.15);\n",
       "      fill: #174EA6;\n",
       "    }\n",
       "\n",
       "    [theme=dark] .colab-df-convert {\n",
       "      background-color: #3B4455;\n",
       "      fill: #D2E3FC;\n",
       "    }\n",
       "\n",
       "    [theme=dark] .colab-df-convert:hover {\n",
       "      background-color: #434B5C;\n",
       "      box-shadow: 0px 1px 3px 1px rgba(0, 0, 0, 0.15);\n",
       "      filter: drop-shadow(0px 1px 2px rgba(0, 0, 0, 0.3));\n",
       "      fill: #FFFFFF;\n",
       "    }\n",
       "  </style>\n",
       "\n",
       "      <script>\n",
       "        const buttonEl =\n",
       "          document.querySelector('#df-cd8af7df-6fca-481a-b8e1-7fba753911c4 button.colab-df-convert');\n",
       "        buttonEl.style.display =\n",
       "          google.colab.kernel.accessAllowed ? 'block' : 'none';\n",
       "\n",
       "        async function convertToInteractive(key) {\n",
       "          const element = document.querySelector('#df-cd8af7df-6fca-481a-b8e1-7fba753911c4');\n",
       "          const dataTable =\n",
       "            await google.colab.kernel.invokeFunction('convertToInteractive',\n",
       "                                                     [key], {});\n",
       "          if (!dataTable) return;\n",
       "\n",
       "          const docLinkHtml = 'Like what you see? Visit the ' +\n",
       "            '<a target=\"_blank\" href=https://colab.research.google.com/notebooks/data_table.ipynb>data table notebook</a>'\n",
       "            + ' to learn more about interactive tables.';\n",
       "          element.innerHTML = '';\n",
       "          dataTable['output_type'] = 'display_data';\n",
       "          await google.colab.output.renderOutput(dataTable, element);\n",
       "          const docLink = document.createElement('div');\n",
       "          docLink.innerHTML = docLinkHtml;\n",
       "          element.appendChild(docLink);\n",
       "        }\n",
       "      </script>\n",
       "    </div>\n",
       "  </div>\n",
       "  "
      ],
      "text/plain": [
       "   SCHEDULED_DEPARTURE SCHEDULED_ARRIVAL AIRLINE  FLIGHT_NUMBER TAIL_NUMBER  \\\n",
       "0  2022-08-01 00:05:00          04:54:00      AA           2400      N3LNAA   \n",
       "1  2022-08-01 00:15:00          06:00:00      US           2020      N547UW   \n",
       "2  2022-08-01 00:15:00          05:40:00      F9           1298      N922FR   \n",
       "3  2022-08-01 00:20:00          08:04:00      AA            258      N3HRAA   \n",
       "4  2022-08-01 00:25:00          05:26:00      NK            612      N631NK   \n",
       "\n",
       "  ORIGIN_AIRPORT DESTINATION_AIRPORT  DISTANCE  \n",
       "0            LAX                 DFW      1235  \n",
       "1            PHX                 CLT      1773  \n",
       "2            PHX                 CVG      1569  \n",
       "3            LAX                 MIA      2342  \n",
       "4            LAS                 MSP      1299  "
      ]
     },
     "execution_count": 8,
     "metadata": {},
     "output_type": "execute_result"
    }
   ],
   "source": [
    "df_fdata = pd.read_csv('future_data.csv', low_memory = False, na_values=' ')\n",
    "df_fdata.head()"
   ]
  },
  {
   "cell_type": "markdown",
   "metadata": {
    "id": "M-kBkXMwhlm2"
   },
   "source": [
    "Based on the observation of dataframes:\n",
    "1. In the model, the only variables we can use to predict are the ones in \"future_data\": scheduled_departure, scheduled_arrival, airline, flight_number, Tail_number, origin_airport, destination_airport, distance.\n",
    "\n",
    "2. Airline dataset: no added value information --> not used\n",
    "\n",
    "3. Airports dataset: latitude and longitude of airport, country, city, state of the airport --> should merge into both training and predicting datasets\n",
    "\n",
    "4. Historic data - to predict: 1. arrival delay (main one and need to be constructed); 2. cancellation dummy; 3. cancellation reasons; 4. delay reasons\n",
    "\n",
    "5. Additionally, we can also see the most important factor for delay or cancellation."
   ]
  },
  {
   "cell_type": "markdown",
   "metadata": {
    "id": "GsIMKkdNhlm2"
   },
   "source": [
    "## Initial exploration"
   ]
  },
  {
   "cell_type": "code",
   "execution_count": 9,
   "metadata": {
    "colab": {
     "base_uri": "https://localhost:8080/",
     "height": 391
    },
    "id": "E1B-MmA8hlm3",
    "outputId": "1490b64b-58e0-49ce-82f4-962e6e9c0f1d"
   },
   "outputs": [
    {
     "data": {
      "text/plain": [
       "<matplotlib.axes._subplots.AxesSubplot at 0x7fcd7a8df1d0>"
      ]
     },
     "execution_count": 9,
     "metadata": {},
     "output_type": "execute_result"
    },
    {
     "data": {
      "image/png": "[encoded data removed]",
      "text/plain": [
       "<Figure size 432x288 with 2 Axes>"
      ]
     },
     "metadata": {
      "needs_background": "light"
     },
     "output_type": "display_data"
    }
   ],
   "source": [
    "corr = df_hdata.corr()\n",
    "sns.heatmap(corr, \n",
    "            xticklabels=corr.columns.values,\n",
    "            yticklabels=corr.columns.values)"
   ]
  },
  {
   "cell_type": "markdown",
   "metadata": {
    "id": "kBcA347hhlm3"
   },
   "source": [
    "## Data Preprocessing"
   ]
  },
  {
   "cell_type": "markdown",
   "metadata": {
    "id": "evJCKgJuhlm4"
   },
   "source": [
    "What variables can be used in prediction?\n",
    "1. scheduled departure\n",
    "2. scheduled arrival\n",
    "3. airline\n",
    "4. flight number\n",
    "5. tail number\n",
    "6. origin airport\n",
    "7. destination airport\n",
    "8. distance\n",
    "\n",
    "Available after merging:\n",
    "1. origin country/city/state/latitude/longitude\n",
    "2. destination country/city/state/latitude/longitude\n",
    "\n",
    "Available after construction: scheduled duration\n",
    "\n",
    "Note: datetime variables cannot be used, extract days and hours, maybe weekend dummy."
   ]
  },
  {
   "cell_type": "markdown",
   "metadata": {
    "id": "JCA7LENqhlm4"
   },
   "source": [
    "### Merge Airports dataset"
   ]
  },
  {
   "cell_type": "markdown",
   "metadata": {
    "id": "IIk6SS-Khlm4"
   },
   "source": [
    "Visualise the airports in the dataset."
   ]
  },
  {
   "cell_type": "markdown",
   "metadata": {
    "id": "FSFAi2Txhlm5"
   },
   "source": [
    "Rename airports columns: OR is short for \"origin\"; DES is short for \"DESTINATION\""
   ]
  },
  {
   "cell_type": "code",
   "execution_count": 10,
   "metadata": {
    "id": "H1R5T6Emhlm5"
   },
   "outputs": [],
   "source": [
    "df_air_or = df_airports.rename(columns={'IATA_CODE':'ORIGIN_AIRPORT', 'CITY': 'OR_CITY', 'STATE': 'OR_STATE', 'COUNTRY': 'OR_COUNTRY', 'LATITUDE': 'OR_LATITUDE', 'LONGITUDE': 'OR_LONGITUDE'}, index={'ONE': 'Row_1'})\n",
    "df_air_des = df_airports.rename(columns={'IATA_CODE':'DESTINATION_AIRPORT', 'CITY': 'DES_CITY', 'STATE': 'DES_STATE', 'COUNTRY': 'DES_COUNTRY', 'LATITUDE': 'DES_LATITUDE', 'LONGITUDE': 'DES_LONGITUDE'}, index={'ONE': 'Row_1'})"
   ]
  },
  {
   "cell_type": "markdown",
   "metadata": {
    "id": "RAwzpDrthlm5"
   },
   "source": [
    "Merge historic data with airport dataset"
   ]
  },
  {
   "cell_type": "code",
   "execution_count": 11,
   "metadata": {
    "id": "jcPbWKHXhlm5"
   },
   "outputs": [],
   "source": [
    "df_final1 = df_hdata.merge(df_air_or, how='left', on='ORIGIN_AIRPORT', left_index=False, right_index=False, sort=False, suffixes=('_x', '_y'), copy=True, indicator=False, validate=None)\n",
    "df_final2 = df_final1.merge(df_air_des, how='left', on='DESTINATION_AIRPORT', left_index=False, right_index=False, sort=False, suffixes=('_x', '_y'), copy=True, indicator=False, validate=None)"
   ]
  },
  {
   "cell_type": "code",
   "execution_count": 12,
   "metadata": {
    "colab": {
     "base_uri": "https://localhost:8080/",
     "height": 299
    },
    "id": "T8upIk-Qhlm6",
    "outputId": "da158246-af50-4767-e818-754f952494b5"
   },
   "outputs": [
    {
     "data": {
      "text/html": [
       "\n",
       "  <div id=\"df-728b5c23-7a21-4672-88b1-6d2768345eca\">\n",
       "    <div class=\"colab-df-container\">\n",
       "      <div>\n",
       "<style scoped>\n",
       "    .dataframe tbody tr th:only-of-type {\n",
       "        vertical-align: middle;\n",
       "    }\n",
       "\n",
       "    .dataframe tbody tr th {\n",
       "        vertical-align: top;\n",
       "    }\n",
       "\n",
       "    .dataframe thead th {\n",
       "        text-align: right;\n",
       "    }\n",
       "</style>\n",
       "<table border=\"1\" class=\"dataframe\">\n",
       "  <thead>\n",
       "    <tr style=\"text-align: right;\">\n",
       "      <th></th>\n",
       "      <th>SCHEDULED_DEPARTURE</th>\n",
       "      <th>DEPARTURE_TIME</th>\n",
       "      <th>SCHEDULED_ARRIVAL</th>\n",
       "      <th>ARRIVAL_TIME</th>\n",
       "      <th>AIRLINE</th>\n",
       "      <th>FLIGHT_NUMBER</th>\n",
       "      <th>TAIL_NUMBER</th>\n",
       "      <th>ORIGIN_AIRPORT</th>\n",
       "      <th>DESTINATION_AIRPORT</th>\n",
       "      <th>DEPARTURE_DELAY</th>\n",
       "      <th>...</th>\n",
       "      <th>OR_CITY</th>\n",
       "      <th>OR_STATE</th>\n",
       "      <th>OR_COUNTRY</th>\n",
       "      <th>OR_LATITUDE</th>\n",
       "      <th>OR_LONGITUDE</th>\n",
       "      <th>DES_CITY</th>\n",
       "      <th>DES_STATE</th>\n",
       "      <th>DES_COUNTRY</th>\n",
       "      <th>DES_LATITUDE</th>\n",
       "      <th>DES_LONGITUDE</th>\n",
       "    </tr>\n",
       "  </thead>\n",
       "  <tbody>\n",
       "    <tr>\n",
       "      <th>0</th>\n",
       "      <td>2019-03-01 00:01:00</td>\n",
       "      <td>00:02:00</td>\n",
       "      <td>01:37:00</td>\n",
       "      <td>01:20:00</td>\n",
       "      <td>UA</td>\n",
       "      <td>1238</td>\n",
       "      <td>N812UA</td>\n",
       "      <td>DEN</td>\n",
       "      <td>BIL</td>\n",
       "      <td>1.0</td>\n",
       "      <td>...</td>\n",
       "      <td>Denver</td>\n",
       "      <td>CO</td>\n",
       "      <td>USA</td>\n",
       "      <td>39.85841</td>\n",
       "      <td>-104.66700</td>\n",
       "      <td>Billings</td>\n",
       "      <td>MT</td>\n",
       "      <td>USA</td>\n",
       "      <td>45.80766</td>\n",
       "      <td>-108.54286</td>\n",
       "    </tr>\n",
       "    <tr>\n",
       "      <th>1</th>\n",
       "      <td>2019-03-01 00:01:00</td>\n",
       "      <td>00:29:00</td>\n",
       "      <td>01:33:00</td>\n",
       "      <td>01:52:00</td>\n",
       "      <td>EV</td>\n",
       "      <td>6134</td>\n",
       "      <td>N14171</td>\n",
       "      <td>ORD</td>\n",
       "      <td>BNA</td>\n",
       "      <td>28.0</td>\n",
       "      <td>...</td>\n",
       "      <td>Chicago</td>\n",
       "      <td>IL</td>\n",
       "      <td>USA</td>\n",
       "      <td>41.97960</td>\n",
       "      <td>-87.90446</td>\n",
       "      <td>Nashville</td>\n",
       "      <td>TN</td>\n",
       "      <td>USA</td>\n",
       "      <td>36.12448</td>\n",
       "      <td>-86.67818</td>\n",
       "    </tr>\n",
       "    <tr>\n",
       "      <th>2</th>\n",
       "      <td>2019-03-01 00:01:00</td>\n",
       "      <td>NaN</td>\n",
       "      <td>01:53:00</td>\n",
       "      <td>NaN</td>\n",
       "      <td>EV</td>\n",
       "      <td>4682</td>\n",
       "      <td>N15910</td>\n",
       "      <td>ORD</td>\n",
       "      <td>BHM</td>\n",
       "      <td>NaN</td>\n",
       "      <td>...</td>\n",
       "      <td>Chicago</td>\n",
       "      <td>IL</td>\n",
       "      <td>USA</td>\n",
       "      <td>41.97960</td>\n",
       "      <td>-87.90446</td>\n",
       "      <td>Birmingham</td>\n",
       "      <td>AL</td>\n",
       "      <td>USA</td>\n",
       "      <td>33.56294</td>\n",
       "      <td>-86.75355</td>\n",
       "    </tr>\n",
       "    <tr>\n",
       "      <th>3</th>\n",
       "      <td>2019-03-01 00:02:00</td>\n",
       "      <td>23:59:00</td>\n",
       "      <td>03:04:00</td>\n",
       "      <td>02:56:00</td>\n",
       "      <td>UA</td>\n",
       "      <td>1550</td>\n",
       "      <td>N822UA</td>\n",
       "      <td>ORD</td>\n",
       "      <td>BTV</td>\n",
       "      <td>-3.0</td>\n",
       "      <td>...</td>\n",
       "      <td>Chicago</td>\n",
       "      <td>IL</td>\n",
       "      <td>USA</td>\n",
       "      <td>41.97960</td>\n",
       "      <td>-87.90446</td>\n",
       "      <td>Burlington</td>\n",
       "      <td>VT</td>\n",
       "      <td>USA</td>\n",
       "      <td>44.47300</td>\n",
       "      <td>-73.15031</td>\n",
       "    </tr>\n",
       "    <tr>\n",
       "      <th>4</th>\n",
       "      <td>2019-03-01 00:02:00</td>\n",
       "      <td>00:36:00</td>\n",
       "      <td>03:22:00</td>\n",
       "      <td>03:30:00</td>\n",
       "      <td>UA</td>\n",
       "      <td>1502</td>\n",
       "      <td>N33262</td>\n",
       "      <td>ORD</td>\n",
       "      <td>BOS</td>\n",
       "      <td>34.0</td>\n",
       "      <td>...</td>\n",
       "      <td>Chicago</td>\n",
       "      <td>IL</td>\n",
       "      <td>USA</td>\n",
       "      <td>41.97960</td>\n",
       "      <td>-87.90446</td>\n",
       "      <td>Boston</td>\n",
       "      <td>MA</td>\n",
       "      <td>USA</td>\n",
       "      <td>42.36435</td>\n",
       "      <td>-71.00518</td>\n",
       "    </tr>\n",
       "  </tbody>\n",
       "</table>\n",
       "<p>5 rows × 35 columns</p>\n",
       "</div>\n",
       "      <button class=\"colab-df-convert\" onclick=\"convertToInteractive('df-728b5c23-7a21-4672-88b1-6d2768345eca')\"\n",
       "              title=\"Convert this dataframe to an interactive table.\"\n",
       "              style=\"display:none;\">\n",
       "        \n",
       "  <svg xmlns=\"http://www.w3.org/2000/svg\" height=\"24px\"viewBox=\"0 0 24 24\"\n",
       "       width=\"24px\">\n",
       "    <path d=\"M0 0h24v24H0V0z\" fill=\"none\"/>\n",
       "    <path d=\"M18.56 5.44l.94 2.06.94-2.06 2.06-.94-2.06-.94-.94-2.06-.94 2.06-2.06.94zm-11 1L8.5 8.5l.94-2.06 2.06-.94-2.06-.94L8.5 2.5l-.94 2.06-2.06.94zm10 10l.94 2.06.94-2.06 2.06-.94-2.06-.94-.94-2.06-.94 2.06-2.06.94z\"/><path d=\"M17.41 7.96l-1.37-1.37c-.4-.4-.92-.59-1.43-.59-.52 0-1.04.2-1.43.59L10.3 9.45l-7.72 7.72c-.78.78-.78 2.05 0 2.83L4 21.41c.39.39.9.59 1.41.59.51 0 1.02-.2 1.41-.59l7.78-7.78 2.81-2.81c.8-.78.8-2.07 0-2.86zM5.41 20L4 18.59l7.72-7.72 1.47 1.35L5.41 20z\"/>\n",
       "  </svg>\n",
       "      </button>\n",
       "      \n",
       "  <style>\n",
       "    .colab-df-container {\n",
       "      display:flex;\n",
       "      flex-wrap:wrap;\n",
       "      gap: 12px;\n",
       "    }\n",
       "\n",
       "    .colab-df-convert {\n",
       "      background-color: #E8F0FE;\n",
       "      border: none;\n",
       "      border-radius: 50%;\n",
       "      cursor: pointer;\n",
       "      display: none;\n",
       "      fill: #1967D2;\n",
       "      height: 32px;\n",
       "      padding: 0 0 0 0;\n",
       "      width: 32px;\n",
       "    }\n",
       "\n",
       "    .colab-df-convert:hover {\n",
       "      background-color: #E2EBFA;\n",
       "      box-shadow: 0px 1px 2px rgba(60, 64, 67, 0.3), 0px 1px 3px 1px rgba(60, 64, 67, 0.15);\n",
       "      fill: #174EA6;\n",
       "    }\n",
       "\n",
       "    [theme=dark] .colab-df-convert {\n",
       "      background-color: #3B4455;\n",
       "      fill: #D2E3FC;\n",
       "    }\n",
       "\n",
       "    [theme=dark] .colab-df-convert:hover {\n",
       "      background-color: #434B5C;\n",
       "      box-shadow: 0px 1px 3px 1px rgba(0, 0, 0, 0.15);\n",
       "      filter: drop-shadow(0px 1px 2px rgba(0, 0, 0, 0.3));\n",
       "      fill: #FFFFFF;\n",
       "    }\n",
       "  </style>\n",
       "\n",
       "      <script>\n",
       "        const buttonEl =\n",
       "          document.querySelector('#df-728b5c23-7a21-4672-88b1-6d2768345eca button.colab-df-convert');\n",
       "        buttonEl.style.display =\n",
       "          google.colab.kernel.accessAllowed ? 'block' : 'none';\n",
       "\n",
       "        async function convertToInteractive(key) {\n",
       "          const element = document.querySelector('#df-728b5c23-7a21-4672-88b1-6d2768345eca');\n",
       "          const dataTable =\n",
       "            await google.colab.kernel.invokeFunction('convertToInteractive',\n",
       "                                                     [key], {});\n",
       "          if (!dataTable) return;\n",
       "\n",
       "          const docLinkHtml = 'Like what you see? Visit the ' +\n",
       "            '<a target=\"_blank\" href=https://colab.research.google.com/notebooks/data_table.ipynb>data table notebook</a>'\n",
       "            + ' to learn more about interactive tables.';\n",
       "          element.innerHTML = '';\n",
       "          dataTable['output_type'] = 'display_data';\n",
       "          await google.colab.output.renderOutput(dataTable, element);\n",
       "          const docLink = document.createElement('div');\n",
       "          docLink.innerHTML = docLinkHtml;\n",
       "          element.appendChild(docLink);\n",
       "        }\n",
       "      </script>\n",
       "    </div>\n",
       "  </div>\n",
       "  "
      ],
      "text/plain": [
       "   SCHEDULED_DEPARTURE DEPARTURE_TIME SCHEDULED_ARRIVAL ARRIVAL_TIME AIRLINE  \\\n",
       "0  2019-03-01 00:01:00       00:02:00          01:37:00     01:20:00      UA   \n",
       "1  2019-03-01 00:01:00       00:29:00          01:33:00     01:52:00      EV   \n",
       "2  2019-03-01 00:01:00            NaN          01:53:00          NaN      EV   \n",
       "3  2019-03-01 00:02:00       23:59:00          03:04:00     02:56:00      UA   \n",
       "4  2019-03-01 00:02:00       00:36:00          03:22:00     03:30:00      UA   \n",
       "\n",
       "   FLIGHT_NUMBER TAIL_NUMBER ORIGIN_AIRPORT DESTINATION_AIRPORT  \\\n",
       "0           1238      N812UA            DEN                 BIL   \n",
       "1           6134      N14171            ORD                 BNA   \n",
       "2           4682      N15910            ORD                 BHM   \n",
       "3           1550      N822UA            ORD                 BTV   \n",
       "4           1502      N33262            ORD                 BOS   \n",
       "\n",
       "   DEPARTURE_DELAY  ...  OR_CITY  OR_STATE  OR_COUNTRY  OR_LATITUDE  \\\n",
       "0              1.0  ...   Denver        CO         USA     39.85841   \n",
       "1             28.0  ...  Chicago        IL         USA     41.97960   \n",
       "2              NaN  ...  Chicago        IL         USA     41.97960   \n",
       "3             -3.0  ...  Chicago        IL         USA     41.97960   \n",
       "4             34.0  ...  Chicago        IL         USA     41.97960   \n",
       "\n",
       "   OR_LONGITUDE    DES_CITY  DES_STATE  DES_COUNTRY  DES_LATITUDE  \\\n",
       "0    -104.66700    Billings         MT          USA      45.80766   \n",
       "1     -87.90446   Nashville         TN          USA      36.12448   \n",
       "2     -87.90446  Birmingham         AL          USA      33.56294   \n",
       "3     -87.90446  Burlington         VT          USA      44.47300   \n",
       "4     -87.90446      Boston         MA          USA      42.36435   \n",
       "\n",
       "  DES_LONGITUDE  \n",
       "0    -108.54286  \n",
       "1     -86.67818  \n",
       "2     -86.75355  \n",
       "3     -73.15031  \n",
       "4     -71.00518  \n",
       "\n",
       "[5 rows x 35 columns]"
      ]
     },
     "execution_count": 12,
     "metadata": {},
     "output_type": "execute_result"
    }
   ],
   "source": [
    "df_final = df_final2.drop(['AIRPORT_y','AIRPORT_x'], axis = 1)\n",
    "df_final.head()"
   ]
  },
  {
   "cell_type": "markdown",
   "metadata": {
    "id": "gvtIhLRjhlm6"
   },
   "source": [
    "### Datetime"
   ]
  },
  {
   "cell_type": "code",
   "execution_count": 13,
   "metadata": {
    "id": "2VihNfyKhlm6"
   },
   "outputs": [],
   "source": [
    "df_final['SCHEDULED_DEPARTURE'] = pd.to_datetime(df_final['SCHEDULED_DEPARTURE'], format='%Y-%m-%d %H:%M:%S')\n",
    "df_final['SCHEDULED_ARRIVAL'] = pd.to_datetime(df_final['SCHEDULED_ARRIVAL'], format='%H:%M:%S')"
   ]
  },
  {
   "cell_type": "code",
   "execution_count": 14,
   "metadata": {
    "id": "X2Wj8T7thlm7"
   },
   "outputs": [],
   "source": [
    "df_final['TIME_AR'] = df_final['SCHEDULED_ARRIVAL'].dt.time\n",
    "df_final['TIME_DE'] = df_final['SCHEDULED_DEPARTURE'].dt.time\n",
    "df_final['YEAR_DE'] = df_final['SCHEDULED_DEPARTURE'].dt.year\n",
    "df_final['MONTH_DE'] = df_final['SCHEDULED_DEPARTURE'].dt.month\n",
    "df_final['DAY_DE'] = df_final['SCHEDULED_DEPARTURE'].dt.day\n",
    "\n",
    "df_final['WEEKDAY_DE'] = df_final['SCHEDULED_DEPARTURE'].dt.weekday\n",
    "# Weekend dummy maybe more relavent.\n",
    "df_final['WEEKEND_DE'] = df_final['WEEKDAY_DE'].apply(lambda x: 1 if x >= 6 else 0)\n",
    "\n",
    "df_final['HOUR_DE'] = df_final['SCHEDULED_DEPARTURE'].dt.hour"
   ]
  },
  {
   "cell_type": "code",
   "execution_count": 15,
   "metadata": {
    "colab": {
     "base_uri": "https://localhost:8080/"
    },
    "id": "db4CyD9Fhlm7",
    "outputId": "0dd2926a-d960-45f1-b26d-2f7686ad1b84"
   },
   "outputs": [
    {
     "data": {
      "text/plain": [
       "0          2019\n",
       "1          2019\n",
       "2          2019\n",
       "3          2019\n",
       "4          2019\n",
       "           ... \n",
       "2458623    2019\n",
       "2458624    2019\n",
       "2458625    2019\n",
       "2458626    2019\n",
       "2458627    2019\n",
       "Name: YEAR_DE, Length: 2458628, dtype: int64"
      ]
     },
     "execution_count": 15,
     "metadata": {},
     "output_type": "execute_result"
    }
   ],
   "source": [
    "df_final['YEAR_DE'] "
   ]
  },
  {
   "cell_type": "markdown",
   "metadata": {
    "id": "FSGp0zs_hlm7"
   },
   "source": [
    "All observations come from the same year, then not useful in the model."
   ]
  },
  {
   "cell_type": "code",
   "execution_count": 16,
   "metadata": {
    "colab": {
     "base_uri": "https://localhost:8080/"
    },
    "id": "nS71IHcFhlm8",
    "outputId": "6fa4bd0e-39c8-47e0-d7f3-6bb63bf20696"
   },
   "outputs": [
    {
     "data": {
      "text/plain": [
       "0          3\n",
       "1          3\n",
       "2          3\n",
       "3          3\n",
       "4          3\n",
       "          ..\n",
       "2458623    7\n",
       "2458624    7\n",
       "2458625    7\n",
       "2458626    7\n",
       "2458627    7\n",
       "Name: MONTH_DE, Length: 2458628, dtype: int64"
      ]
     },
     "execution_count": 16,
     "metadata": {},
     "output_type": "execute_result"
    }
   ],
   "source": [
    "df_final['MONTH_DE']"
   ]
  },
  {
   "cell_type": "markdown",
   "metadata": {
    "id": "fLetGfBShlm8"
   },
   "source": [
    "Month varies from 3 to 7, avoid the summer or winter vacation already, then maybe not that useful."
   ]
  },
  {
   "cell_type": "markdown",
   "metadata": {
    "id": "eqbPjJfdhlm_"
   },
   "source": [
    "### Delayed Variable -- arrival delay (dummy, continous, ordinal, different delay threshold...)"
   ]
  },
  {
   "cell_type": "code",
   "execution_count": 17,
   "metadata": {
    "id": "1eBBxBHGhlm_"
   },
   "outputs": [],
   "source": [
    "max_departure = max(df_final['DEPARTURE_DELAY'])"
   ]
  },
  {
   "cell_type": "code",
   "execution_count": 18,
   "metadata": {
    "colab": {
     "base_uri": "https://localhost:8080/"
    },
    "id": "90hgxnbghlm_",
    "outputId": "5d94beab-f2d4-45e8-927d-642a84b8a140"
   },
   "outputs": [
    {
     "name": "stdout",
     "output_type": "stream",
     "text": [
      "1878.0\n"
     ]
    }
   ],
   "source": [
    "print(max_departure)"
   ]
  },
  {
   "cell_type": "code",
   "execution_count": 19,
   "metadata": {
    "id": "FQYR6EfXhlm_"
   },
   "outputs": [],
   "source": [
    "max_schedule = max(df_final['SCHEDULED_TIME'])"
   ]
  },
  {
   "cell_type": "markdown",
   "metadata": {
    "id": "AjYQh_RQhlm_"
   },
   "source": [
    "The maximum flying time is 11.75 hours."
   ]
  },
  {
   "cell_type": "code",
   "execution_count": 20,
   "metadata": {
    "colab": {
     "base_uri": "https://localhost:8080/"
    },
    "id": "YKCt32PbhlnA",
    "outputId": "cf2e19dd-bc17-47a6-a59e-471c5f1bd6f9"
   },
   "outputs": [
    {
     "name": "stdout",
     "output_type": "stream",
     "text": [
      "705.0\n"
     ]
    }
   ],
   "source": [
    "print(max_schedule)"
   ]
  },
  {
   "cell_type": "markdown",
   "metadata": {
    "id": "Y2BasdbQhlnA"
   },
   "source": [
    "The departure delay can be over 24 hours (a day and 7.3 hours). Then the calculation of arrival delay comes down to get the exact date of arrival:\n",
    "\n",
    "1. to get the date and time of expected arrival time --> scheduled departure + expected flying time (scheduled time) \n",
    "2. to get the date and time of actual arrival time --> acutal departure time + ELAPSED time\n",
    "3. calculate the arrival delay"
   ]
  },
  {
   "cell_type": "code",
   "execution_count": 21,
   "metadata": {
    "id": "PRr6DDQbhlnA"
   },
   "outputs": [],
   "source": [
    "fmt=\"%Y/%m/%d %H:%M:%S\"\n",
    "fmt2=\"%H:%M:%S\""
   ]
  },
  {
   "cell_type": "markdown",
   "metadata": {
    "id": "_nVgO3puhlnA"
   },
   "source": [
    "To build dates on each flight stage"
   ]
  },
  {
   "cell_type": "markdown",
   "metadata": {
    "id": "Pty_MqgIhlnA"
   },
   "source": [
    "1) actual departure time"
   ]
  },
  {
   "cell_type": "code",
   "execution_count": 22,
   "metadata": {
    "id": "KJUh4JDqhlnA"
   },
   "outputs": [],
   "source": [
    "df_final['DEP_DATE_TIME']=pd.to_datetime(df_final['SCHEDULED_DEPARTURE'], format = fmt) + pd.to_timedelta(df_final['DEPARTURE_DELAY'], 'm')"
   ]
  },
  {
   "cell_type": "markdown",
   "metadata": {
    "id": "tqf98DLxhlnB"
   },
   "source": [
    "2) arrival_time: DEP_date_time + tax_out (min) +airtime (min) + tax_in (min)"
   ]
  },
  {
   "cell_type": "code",
   "execution_count": 23,
   "metadata": {
    "id": "Sdc_KhiLhlnB"
   },
   "outputs": [],
   "source": [
    "df_final['ARR_DATE_TIME']=df_final['DEP_DATE_TIME']+ pd.to_timedelta(df_final['TAXI_IN'],'m') + pd.to_timedelta(df_final['TAXI_OUT'], 'm') + pd.to_timedelta(df_final['AIR_TIME'], 'm')"
   ]
  },
  {
   "cell_type": "markdown",
   "metadata": {
    "id": "3R3ae3buhlnB"
   },
   "source": [
    "3) compute the date of schedule arrival: SCHEDULED_DEPARTURE+SCHEDULED_TIME (min)\n"
   ]
  },
  {
   "cell_type": "code",
   "execution_count": 24,
   "metadata": {
    "id": "eN8zkKB8hlnB"
   },
   "outputs": [],
   "source": [
    "df_final['SCH_ARR_DATE_TIME']=pd.to_datetime(df_final['SCHEDULED_DEPARTURE'], format = fmt) + pd.to_timedelta(df_final['SCHEDULED_TIME'], 'm')"
   ]
  },
  {
   "cell_type": "markdown",
   "metadata": {
    "id": "sSjW7DW_hlnB"
   },
   "source": [
    "4) compute arrival delay: schedule arrival - ARR_DATE_TIME"
   ]
  },
  {
   "cell_type": "code",
   "execution_count": 25,
   "metadata": {
    "id": "J05QQe5nhlnB"
   },
   "outputs": [],
   "source": [
    "df_final['ARRIVAL_DELAY_v1']=(df_final['ARR_DATE_TIME'] - df_final['SCH_ARR_DATE_TIME']).astype('timedelta64[m]')"
   ]
  },
  {
   "cell_type": "markdown",
   "metadata": {
    "id": "4LboYobDhlnC"
   },
   "source": [
    "To compare with the initial delay version\n"
   ]
  },
  {
   "cell_type": "code",
   "execution_count": 26,
   "metadata": {
    "id": "hJrGJJRGhlnC"
   },
   "outputs": [],
   "source": [
    "df_final['ARRIVAL_DELAY_v2']=(pd.to_datetime(df_final['ARRIVAL_TIME'], format=fmt2) - pd.to_datetime(df_final['SCHEDULED_ARRIVAL'], format = fmt2)).astype('timedelta64[m]')"
   ]
  },
  {
   "cell_type": "code",
   "execution_count": 27,
   "metadata": {
    "colab": {
     "base_uri": "https://localhost:8080/",
     "height": 369
    },
    "id": "cqXtam-OhlnC",
    "outputId": "d90c8d71-fced-43b8-fcbe-7ba952db4862"
   },
   "outputs": [
    {
     "data": {
      "text/html": [
       "\n",
       "  <div id=\"df-25fa3a71-8e39-4724-9942-32a6ab93cc59\">\n",
       "    <div class=\"colab-df-container\">\n",
       "      <div>\n",
       "<style scoped>\n",
       "    .dataframe tbody tr th:only-of-type {\n",
       "        vertical-align: middle;\n",
       "    }\n",
       "\n",
       "    .dataframe tbody tr th {\n",
       "        vertical-align: top;\n",
       "    }\n",
       "\n",
       "    .dataframe thead th {\n",
       "        text-align: right;\n",
       "    }\n",
       "</style>\n",
       "<table border=\"1\" class=\"dataframe\">\n",
       "  <thead>\n",
       "    <tr style=\"text-align: right;\">\n",
       "      <th></th>\n",
       "      <th>SCHEDULED_DEPARTURE</th>\n",
       "      <th>DEPARTURE_TIME</th>\n",
       "      <th>SCHEDULED_ARRIVAL</th>\n",
       "      <th>ARRIVAL_TIME</th>\n",
       "      <th>AIRLINE</th>\n",
       "      <th>FLIGHT_NUMBER</th>\n",
       "      <th>TAIL_NUMBER</th>\n",
       "      <th>ORIGIN_AIRPORT</th>\n",
       "      <th>DESTINATION_AIRPORT</th>\n",
       "      <th>DEPARTURE_DELAY</th>\n",
       "      <th>...</th>\n",
       "      <th>MONTH_DE</th>\n",
       "      <th>DAY_DE</th>\n",
       "      <th>WEEKDAY_DE</th>\n",
       "      <th>WEEKEND_DE</th>\n",
       "      <th>HOUR_DE</th>\n",
       "      <th>DEP_DATE_TIME</th>\n",
       "      <th>ARR_DATE_TIME</th>\n",
       "      <th>SCH_ARR_DATE_TIME</th>\n",
       "      <th>ARRIVAL_DELAY_v1</th>\n",
       "      <th>ARRIVAL_DELAY_v2</th>\n",
       "    </tr>\n",
       "  </thead>\n",
       "  <tbody>\n",
       "    <tr>\n",
       "      <th>0</th>\n",
       "      <td>2019-03-01 00:01:00</td>\n",
       "      <td>00:02:00</td>\n",
       "      <td>1900-01-01 01:37:00</td>\n",
       "      <td>01:20:00</td>\n",
       "      <td>UA</td>\n",
       "      <td>1238</td>\n",
       "      <td>N812UA</td>\n",
       "      <td>DEN</td>\n",
       "      <td>BIL</td>\n",
       "      <td>1.0</td>\n",
       "      <td>...</td>\n",
       "      <td>3</td>\n",
       "      <td>1</td>\n",
       "      <td>4</td>\n",
       "      <td>0</td>\n",
       "      <td>0</td>\n",
       "      <td>2019-03-01 00:02:00</td>\n",
       "      <td>2019-03-01 01:20:00</td>\n",
       "      <td>2019-03-01 01:37:00</td>\n",
       "      <td>-17.0</td>\n",
       "      <td>-17.0</td>\n",
       "    </tr>\n",
       "    <tr>\n",
       "      <th>1</th>\n",
       "      <td>2019-03-01 00:01:00</td>\n",
       "      <td>00:29:00</td>\n",
       "      <td>1900-01-01 01:33:00</td>\n",
       "      <td>01:52:00</td>\n",
       "      <td>EV</td>\n",
       "      <td>6134</td>\n",
       "      <td>N14171</td>\n",
       "      <td>ORD</td>\n",
       "      <td>BNA</td>\n",
       "      <td>28.0</td>\n",
       "      <td>...</td>\n",
       "      <td>3</td>\n",
       "      <td>1</td>\n",
       "      <td>4</td>\n",
       "      <td>0</td>\n",
       "      <td>0</td>\n",
       "      <td>2019-03-01 00:29:00</td>\n",
       "      <td>2019-03-01 01:52:00</td>\n",
       "      <td>2019-03-01 01:33:00</td>\n",
       "      <td>19.0</td>\n",
       "      <td>19.0</td>\n",
       "    </tr>\n",
       "    <tr>\n",
       "      <th>2</th>\n",
       "      <td>2019-03-01 00:01:00</td>\n",
       "      <td>NaN</td>\n",
       "      <td>1900-01-01 01:53:00</td>\n",
       "      <td>NaN</td>\n",
       "      <td>EV</td>\n",
       "      <td>4682</td>\n",
       "      <td>N15910</td>\n",
       "      <td>ORD</td>\n",
       "      <td>BHM</td>\n",
       "      <td>NaN</td>\n",
       "      <td>...</td>\n",
       "      <td>3</td>\n",
       "      <td>1</td>\n",
       "      <td>4</td>\n",
       "      <td>0</td>\n",
       "      <td>0</td>\n",
       "      <td>NaT</td>\n",
       "      <td>NaT</td>\n",
       "      <td>2019-03-01 01:53:00</td>\n",
       "      <td>NaN</td>\n",
       "      <td>NaN</td>\n",
       "    </tr>\n",
       "    <tr>\n",
       "      <th>3</th>\n",
       "      <td>2019-03-01 00:02:00</td>\n",
       "      <td>23:59:00</td>\n",
       "      <td>1900-01-01 03:04:00</td>\n",
       "      <td>02:56:00</td>\n",
       "      <td>UA</td>\n",
       "      <td>1550</td>\n",
       "      <td>N822UA</td>\n",
       "      <td>ORD</td>\n",
       "      <td>BTV</td>\n",
       "      <td>-3.0</td>\n",
       "      <td>...</td>\n",
       "      <td>3</td>\n",
       "      <td>1</td>\n",
       "      <td>4</td>\n",
       "      <td>0</td>\n",
       "      <td>0</td>\n",
       "      <td>2019-02-28 23:59:00</td>\n",
       "      <td>2019-03-01 01:56:00</td>\n",
       "      <td>2019-03-01 02:04:00</td>\n",
       "      <td>-8.0</td>\n",
       "      <td>-8.0</td>\n",
       "    </tr>\n",
       "    <tr>\n",
       "      <th>4</th>\n",
       "      <td>2019-03-01 00:02:00</td>\n",
       "      <td>00:36:00</td>\n",
       "      <td>1900-01-01 03:22:00</td>\n",
       "      <td>03:30:00</td>\n",
       "      <td>UA</td>\n",
       "      <td>1502</td>\n",
       "      <td>N33262</td>\n",
       "      <td>ORD</td>\n",
       "      <td>BOS</td>\n",
       "      <td>34.0</td>\n",
       "      <td>...</td>\n",
       "      <td>3</td>\n",
       "      <td>1</td>\n",
       "      <td>4</td>\n",
       "      <td>0</td>\n",
       "      <td>0</td>\n",
       "      <td>2019-03-01 00:36:00</td>\n",
       "      <td>2019-03-01 02:30:00</td>\n",
       "      <td>2019-03-01 02:22:00</td>\n",
       "      <td>8.0</td>\n",
       "      <td>8.0</td>\n",
       "    </tr>\n",
       "  </tbody>\n",
       "</table>\n",
       "<p>5 rows × 48 columns</p>\n",
       "</div>\n",
       "      <button class=\"colab-df-convert\" onclick=\"convertToInteractive('df-25fa3a71-8e39-4724-9942-32a6ab93cc59')\"\n",
       "              title=\"Convert this dataframe to an interactive table.\"\n",
       "              style=\"display:none;\">\n",
       "        \n",
       "  <svg xmlns=\"http://www.w3.org/2000/svg\" height=\"24px\"viewBox=\"0 0 24 24\"\n",
       "       width=\"24px\">\n",
       "    <path d=\"M0 0h24v24H0V0z\" fill=\"none\"/>\n",
       "    <path d=\"M18.56 5.44l.94 2.06.94-2.06 2.06-.94-2.06-.94-.94-2.06-.94 2.06-2.06.94zm-11 1L8.5 8.5l.94-2.06 2.06-.94-2.06-.94L8.5 2.5l-.94 2.06-2.06.94zm10 10l.94 2.06.94-2.06 2.06-.94-2.06-.94-.94-2.06-.94 2.06-2.06.94z\"/><path d=\"M17.41 7.96l-1.37-1.37c-.4-.4-.92-.59-1.43-.59-.52 0-1.04.2-1.43.59L10.3 9.45l-7.72 7.72c-.78.78-.78 2.05 0 2.83L4 21.41c.39.39.9.59 1.41.59.51 0 1.02-.2 1.41-.59l7.78-7.78 2.81-2.81c.8-.78.8-2.07 0-2.86zM5.41 20L4 18.59l7.72-7.72 1.47 1.35L5.41 20z\"/>\n",
       "  </svg>\n",
       "      </button>\n",
       "      \n",
       "  <style>\n",
       "    .colab-df-container {\n",
       "      display:flex;\n",
       "      flex-wrap:wrap;\n",
       "      gap: 12px;\n",
       "    }\n",
       "\n",
       "    .colab-df-convert {\n",
       "      background-color: #E8F0FE;\n",
       "      border: none;\n",
       "      border-radius: 50%;\n",
       "      cursor: pointer;\n",
       "      display: none;\n",
       "      fill: #1967D2;\n",
       "      height: 32px;\n",
       "      padding: 0 0 0 0;\n",
       "      width: 32px;\n",
       "    }\n",
       "\n",
       "    .colab-df-convert:hover {\n",
       "      background-color: #E2EBFA;\n",
       "      box-shadow: 0px 1px 2px rgba(60, 64, 67, 0.3), 0px 1px 3px 1px rgba(60, 64, 67, 0.15);\n",
       "      fill: #174EA6;\n",
       "    }\n",
       "\n",
       "    [theme=dark] .colab-df-convert {\n",
       "      background-color: #3B4455;\n",
       "      fill: #D2E3FC;\n",
       "    }\n",
       "\n",
       "    [theme=dark] .colab-df-convert:hover {\n",
       "      background-color: #434B5C;\n",
       "      box-shadow: 0px 1px 3px 1px rgba(0, 0, 0, 0.15);\n",
       "      filter: drop-shadow(0px 1px 2px rgba(0, 0, 0, 0.3));\n",
       "      fill: #FFFFFF;\n",
       "    }\n",
       "  </style>\n",
       "\n",
       "      <script>\n",
       "        const buttonEl =\n",
       "          document.querySelector('#df-25fa3a71-8e39-4724-9942-32a6ab93cc59 button.colab-df-convert');\n",
       "        buttonEl.style.display =\n",
       "          google.colab.kernel.accessAllowed ? 'block' : 'none';\n",
       "\n",
       "        async function convertToInteractive(key) {\n",
       "          const element = document.querySelector('#df-25fa3a71-8e39-4724-9942-32a6ab93cc59');\n",
       "          const dataTable =\n",
       "            await google.colab.kernel.invokeFunction('convertToInteractive',\n",
       "                                                     [key], {});\n",
       "          if (!dataTable) return;\n",
       "\n",
       "          const docLinkHtml = 'Like what you see? Visit the ' +\n",
       "            '<a target=\"_blank\" href=https://colab.research.google.com/notebooks/data_table.ipynb>data table notebook</a>'\n",
       "            + ' to learn more about interactive tables.';\n",
       "          element.innerHTML = '';\n",
       "          dataTable['output_type'] = 'display_data';\n",
       "          await google.colab.output.renderOutput(dataTable, element);\n",
       "          const docLink = document.createElement('div');\n",
       "          docLink.innerHTML = docLinkHtml;\n",
       "          element.appendChild(docLink);\n",
       "        }\n",
       "      </script>\n",
       "    </div>\n",
       "  </div>\n",
       "  "
      ],
      "text/plain": [
       "  SCHEDULED_DEPARTURE DEPARTURE_TIME   SCHEDULED_ARRIVAL ARRIVAL_TIME AIRLINE  \\\n",
       "0 2019-03-01 00:01:00       00:02:00 1900-01-01 01:37:00     01:20:00      UA   \n",
       "1 2019-03-01 00:01:00       00:29:00 1900-01-01 01:33:00     01:52:00      EV   \n",
       "2 2019-03-01 00:01:00            NaN 1900-01-01 01:53:00          NaN      EV   \n",
       "3 2019-03-01 00:02:00       23:59:00 1900-01-01 03:04:00     02:56:00      UA   \n",
       "4 2019-03-01 00:02:00       00:36:00 1900-01-01 03:22:00     03:30:00      UA   \n",
       "\n",
       "   FLIGHT_NUMBER TAIL_NUMBER ORIGIN_AIRPORT DESTINATION_AIRPORT  \\\n",
       "0           1238      N812UA            DEN                 BIL   \n",
       "1           6134      N14171            ORD                 BNA   \n",
       "2           4682      N15910            ORD                 BHM   \n",
       "3           1550      N822UA            ORD                 BTV   \n",
       "4           1502      N33262            ORD                 BOS   \n",
       "\n",
       "   DEPARTURE_DELAY  ...  MONTH_DE  DAY_DE  WEEKDAY_DE  WEEKEND_DE  HOUR_DE  \\\n",
       "0              1.0  ...         3       1           4           0        0   \n",
       "1             28.0  ...         3       1           4           0        0   \n",
       "2              NaN  ...         3       1           4           0        0   \n",
       "3             -3.0  ...         3       1           4           0        0   \n",
       "4             34.0  ...         3       1           4           0        0   \n",
       "\n",
       "        DEP_DATE_TIME       ARR_DATE_TIME   SCH_ARR_DATE_TIME  \\\n",
       "0 2019-03-01 00:02:00 2019-03-01 01:20:00 2019-03-01 01:37:00   \n",
       "1 2019-03-01 00:29:00 2019-03-01 01:52:00 2019-03-01 01:33:00   \n",
       "2                 NaT                 NaT 2019-03-01 01:53:00   \n",
       "3 2019-02-28 23:59:00 2019-03-01 01:56:00 2019-03-01 02:04:00   \n",
       "4 2019-03-01 00:36:00 2019-03-01 02:30:00 2019-03-01 02:22:00   \n",
       "\n",
       "   ARRIVAL_DELAY_v1 ARRIVAL_DELAY_v2  \n",
       "0             -17.0            -17.0  \n",
       "1              19.0             19.0  \n",
       "2               NaN              NaN  \n",
       "3              -8.0             -8.0  \n",
       "4               8.0              8.0  \n",
       "\n",
       "[5 rows x 48 columns]"
      ]
     },
     "execution_count": 27,
     "metadata": {},
     "output_type": "execute_result"
    }
   ],
   "source": [
    "df_final.head()"
   ]
  },
  {
   "cell_type": "markdown",
   "metadata": {
    "id": "UZB92WXahlnC"
   },
   "source": [
    "Approach as classification problem: \"A flight os counted as \"on time\" if it operated less than 15 minutes later than the scheduled time shown in the carriers' Computerozed Researvation Systems (CRS)\""
   ]
  },
  {
   "cell_type": "code",
   "execution_count": 28,
   "metadata": {
    "id": "fM0nGZ8lhlnC"
   },
   "outputs": [],
   "source": [
    "# approach as classification problem \n",
    "df_final['ARRIVAL_DELAY'] = (df_final['ARRIVAL_DELAY_v1'] > 15).astype(int)"
   ]
  },
  {
   "cell_type": "markdown",
   "metadata": {
    "id": "_RlIZ1jdhlnC"
   },
   "source": [
    "### Additional Constructed Variable: (expected/scheduled) speed"
   ]
  },
  {
   "cell_type": "code",
   "execution_count": 29,
   "metadata": {
    "id": "EUeboEaChlnD"
   },
   "outputs": [],
   "source": [
    "df_final['SPEED'] = df_final['DISTANCE']/df_final['SCHEDULED_TIME']"
   ]
  },
  {
   "cell_type": "markdown",
   "metadata": {
    "id": "WLy-K_L3hlnD"
   },
   "source": [
    "We cannot calculate the speed in future dataset as we don't have the arrival date for that. It may be relavent in factor importance exploration."
   ]
  },
  {
   "cell_type": "markdown",
   "metadata": {
    "id": "cVwk0WAQhlnD"
   },
   "source": [
    "### Drop Irrelavent Variables"
   ]
  },
  {
   "cell_type": "markdown",
   "metadata": {
    "id": "ZLdyGZijhlnD"
   },
   "source": [
    "Drop the intermediate variables not for modelling and visualization."
   ]
  },
  {
   "cell_type": "code",
   "execution_count": 30,
   "metadata": {
    "colab": {
     "base_uri": "https://localhost:8080/",
     "height": 299
    },
    "id": "ArvjnNmPhlnD",
    "outputId": "78c354e6-754a-4d43-932e-e555d4746936"
   },
   "outputs": [
    {
     "data": {
      "text/html": [
       "\n",
       "  <div id=\"df-95852867-0396-44e7-a6a4-d0944e6c0ef2\">\n",
       "    <div class=\"colab-df-container\">\n",
       "      <div>\n",
       "<style scoped>\n",
       "    .dataframe tbody tr th:only-of-type {\n",
       "        vertical-align: middle;\n",
       "    }\n",
       "\n",
       "    .dataframe tbody tr th {\n",
       "        vertical-align: top;\n",
       "    }\n",
       "\n",
       "    .dataframe thead th {\n",
       "        text-align: right;\n",
       "    }\n",
       "</style>\n",
       "<table border=\"1\" class=\"dataframe\">\n",
       "  <thead>\n",
       "    <tr style=\"text-align: right;\">\n",
       "      <th></th>\n",
       "      <th>AIRLINE</th>\n",
       "      <th>FLIGHT_NUMBER</th>\n",
       "      <th>TAIL_NUMBER</th>\n",
       "      <th>ORIGIN_AIRPORT</th>\n",
       "      <th>DESTINATION_AIRPORT</th>\n",
       "      <th>DEPARTURE_DELAY</th>\n",
       "      <th>SCHEDULED_TIME</th>\n",
       "      <th>DISTANCE</th>\n",
       "      <th>CANCELLED</th>\n",
       "      <th>CANCELLATION_REASON</th>\n",
       "      <th>...</th>\n",
       "      <th>DES_LONGITUDE</th>\n",
       "      <th>TIME_AR</th>\n",
       "      <th>TIME_DE</th>\n",
       "      <th>MONTH_DE</th>\n",
       "      <th>DAY_DE</th>\n",
       "      <th>WEEKEND_DE</th>\n",
       "      <th>HOUR_DE</th>\n",
       "      <th>ARRIVAL_DELAY_v1</th>\n",
       "      <th>ARRIVAL_DELAY</th>\n",
       "      <th>SPEED</th>\n",
       "    </tr>\n",
       "  </thead>\n",
       "  <tbody>\n",
       "    <tr>\n",
       "      <th>0</th>\n",
       "      <td>UA</td>\n",
       "      <td>1238</td>\n",
       "      <td>N812UA</td>\n",
       "      <td>DEN</td>\n",
       "      <td>BIL</td>\n",
       "      <td>1.0</td>\n",
       "      <td>96.0</td>\n",
       "      <td>455</td>\n",
       "      <td>0</td>\n",
       "      <td>NaN</td>\n",
       "      <td>...</td>\n",
       "      <td>-108.54286</td>\n",
       "      <td>01:37:00</td>\n",
       "      <td>00:01:00</td>\n",
       "      <td>3</td>\n",
       "      <td>1</td>\n",
       "      <td>0</td>\n",
       "      <td>0</td>\n",
       "      <td>-17.0</td>\n",
       "      <td>0</td>\n",
       "      <td>4.739583</td>\n",
       "    </tr>\n",
       "    <tr>\n",
       "      <th>1</th>\n",
       "      <td>EV</td>\n",
       "      <td>6134</td>\n",
       "      <td>N14171</td>\n",
       "      <td>ORD</td>\n",
       "      <td>BNA</td>\n",
       "      <td>28.0</td>\n",
       "      <td>92.0</td>\n",
       "      <td>409</td>\n",
       "      <td>0</td>\n",
       "      <td>NaN</td>\n",
       "      <td>...</td>\n",
       "      <td>-86.67818</td>\n",
       "      <td>01:33:00</td>\n",
       "      <td>00:01:00</td>\n",
       "      <td>3</td>\n",
       "      <td>1</td>\n",
       "      <td>0</td>\n",
       "      <td>0</td>\n",
       "      <td>19.0</td>\n",
       "      <td>1</td>\n",
       "      <td>4.445652</td>\n",
       "    </tr>\n",
       "    <tr>\n",
       "      <th>2</th>\n",
       "      <td>EV</td>\n",
       "      <td>4682</td>\n",
       "      <td>N15910</td>\n",
       "      <td>ORD</td>\n",
       "      <td>BHM</td>\n",
       "      <td>NaN</td>\n",
       "      <td>112.0</td>\n",
       "      <td>584</td>\n",
       "      <td>1</td>\n",
       "      <td>B</td>\n",
       "      <td>...</td>\n",
       "      <td>-86.75355</td>\n",
       "      <td>01:53:00</td>\n",
       "      <td>00:01:00</td>\n",
       "      <td>3</td>\n",
       "      <td>1</td>\n",
       "      <td>0</td>\n",
       "      <td>0</td>\n",
       "      <td>NaN</td>\n",
       "      <td>0</td>\n",
       "      <td>5.214286</td>\n",
       "    </tr>\n",
       "    <tr>\n",
       "      <th>3</th>\n",
       "      <td>UA</td>\n",
       "      <td>1550</td>\n",
       "      <td>N822UA</td>\n",
       "      <td>ORD</td>\n",
       "      <td>BTV</td>\n",
       "      <td>-3.0</td>\n",
       "      <td>122.0</td>\n",
       "      <td>763</td>\n",
       "      <td>0</td>\n",
       "      <td>NaN</td>\n",
       "      <td>...</td>\n",
       "      <td>-73.15031</td>\n",
       "      <td>03:04:00</td>\n",
       "      <td>00:02:00</td>\n",
       "      <td>3</td>\n",
       "      <td>1</td>\n",
       "      <td>0</td>\n",
       "      <td>0</td>\n",
       "      <td>-8.0</td>\n",
       "      <td>0</td>\n",
       "      <td>6.254098</td>\n",
       "    </tr>\n",
       "    <tr>\n",
       "      <th>4</th>\n",
       "      <td>UA</td>\n",
       "      <td>1502</td>\n",
       "      <td>N33262</td>\n",
       "      <td>ORD</td>\n",
       "      <td>BOS</td>\n",
       "      <td>34.0</td>\n",
       "      <td>140.0</td>\n",
       "      <td>867</td>\n",
       "      <td>0</td>\n",
       "      <td>NaN</td>\n",
       "      <td>...</td>\n",
       "      <td>-71.00518</td>\n",
       "      <td>03:22:00</td>\n",
       "      <td>00:02:00</td>\n",
       "      <td>3</td>\n",
       "      <td>1</td>\n",
       "      <td>0</td>\n",
       "      <td>0</td>\n",
       "      <td>8.0</td>\n",
       "      <td>0</td>\n",
       "      <td>6.192857</td>\n",
       "    </tr>\n",
       "  </tbody>\n",
       "</table>\n",
       "<p>5 rows × 32 columns</p>\n",
       "</div>\n",
       "      <button class=\"colab-df-convert\" onclick=\"convertToInteractive('df-95852867-0396-44e7-a6a4-d0944e6c0ef2')\"\n",
       "              title=\"Convert this dataframe to an interactive table.\"\n",
       "              style=\"display:none;\">\n",
       "        \n",
       "  <svg xmlns=\"http://www.w3.org/2000/svg\" height=\"24px\"viewBox=\"0 0 24 24\"\n",
       "       width=\"24px\">\n",
       "    <path d=\"M0 0h24v24H0V0z\" fill=\"none\"/>\n",
       "    <path d=\"M18.56 5.44l.94 2.06.94-2.06 2.06-.94-2.06-.94-.94-2.06-.94 2.06-2.06.94zm-11 1L8.5 8.5l.94-2.06 2.06-.94-2.06-.94L8.5 2.5l-.94 2.06-2.06.94zm10 10l.94 2.06.94-2.06 2.06-.94-2.06-.94-.94-2.06-.94 2.06-2.06.94z\"/><path d=\"M17.41 7.96l-1.37-1.37c-.4-.4-.92-.59-1.43-.59-.52 0-1.04.2-1.43.59L10.3 9.45l-7.72 7.72c-.78.78-.78 2.05 0 2.83L4 21.41c.39.39.9.59 1.41.59.51 0 1.02-.2 1.41-.59l7.78-7.78 2.81-2.81c.8-.78.8-2.07 0-2.86zM5.41 20L4 18.59l7.72-7.72 1.47 1.35L5.41 20z\"/>\n",
       "  </svg>\n",
       "      </button>\n",
       "      \n",
       "  <style>\n",
       "    .colab-df-container {\n",
       "      display:flex;\n",
       "      flex-wrap:wrap;\n",
       "      gap: 12px;\n",
       "    }\n",
       "\n",
       "    .colab-df-convert {\n",
       "      background-color: #E8F0FE;\n",
       "      border: none;\n",
       "      border-radius: 50%;\n",
       "      cursor: pointer;\n",
       "      display: none;\n",
       "      fill: #1967D2;\n",
       "      height: 32px;\n",
       "      padding: 0 0 0 0;\n",
       "      width: 32px;\n",
       "    }\n",
       "\n",
       "    .colab-df-convert:hover {\n",
       "      background-color: #E2EBFA;\n",
       "      box-shadow: 0px 1px 2px rgba(60, 64, 67, 0.3), 0px 1px 3px 1px rgba(60, 64, 67, 0.15);\n",
       "      fill: #174EA6;\n",
       "    }\n",
       "\n",
       "    [theme=dark] .colab-df-convert {\n",
       "      background-color: #3B4455;\n",
       "      fill: #D2E3FC;\n",
       "    }\n",
       "\n",
       "    [theme=dark] .colab-df-convert:hover {\n",
       "      background-color: #434B5C;\n",
       "      box-shadow: 0px 1px 3px 1px rgba(0, 0, 0, 0.15);\n",
       "      filter: drop-shadow(0px 1px 2px rgba(0, 0, 0, 0.3));\n",
       "      fill: #FFFFFF;\n",
       "    }\n",
       "  </style>\n",
       "\n",
       "      <script>\n",
       "        const buttonEl =\n",
       "          document.querySelector('#df-95852867-0396-44e7-a6a4-d0944e6c0ef2 button.colab-df-convert');\n",
       "        buttonEl.style.display =\n",
       "          google.colab.kernel.accessAllowed ? 'block' : 'none';\n",
       "\n",
       "        async function convertToInteractive(key) {\n",
       "          const element = document.querySelector('#df-95852867-0396-44e7-a6a4-d0944e6c0ef2');\n",
       "          const dataTable =\n",
       "            await google.colab.kernel.invokeFunction('convertToInteractive',\n",
       "                                                     [key], {});\n",
       "          if (!dataTable) return;\n",
       "\n",
       "          const docLinkHtml = 'Like what you see? Visit the ' +\n",
       "            '<a target=\"_blank\" href=https://colab.research.google.com/notebooks/data_table.ipynb>data table notebook</a>'\n",
       "            + ' to learn more about interactive tables.';\n",
       "          element.innerHTML = '';\n",
       "          dataTable['output_type'] = 'display_data';\n",
       "          await google.colab.output.renderOutput(dataTable, element);\n",
       "          const docLink = document.createElement('div');\n",
       "          docLink.innerHTML = docLinkHtml;\n",
       "          element.appendChild(docLink);\n",
       "        }\n",
       "      </script>\n",
       "    </div>\n",
       "  </div>\n",
       "  "
      ],
      "text/plain": [
       "  AIRLINE  FLIGHT_NUMBER TAIL_NUMBER ORIGIN_AIRPORT DESTINATION_AIRPORT  \\\n",
       "0      UA           1238      N812UA            DEN                 BIL   \n",
       "1      EV           6134      N14171            ORD                 BNA   \n",
       "2      EV           4682      N15910            ORD                 BHM   \n",
       "3      UA           1550      N822UA            ORD                 BTV   \n",
       "4      UA           1502      N33262            ORD                 BOS   \n",
       "\n",
       "   DEPARTURE_DELAY  SCHEDULED_TIME  DISTANCE  CANCELLED CANCELLATION_REASON  \\\n",
       "0              1.0            96.0       455          0                 NaN   \n",
       "1             28.0            92.0       409          0                 NaN   \n",
       "2              NaN           112.0       584          1                   B   \n",
       "3             -3.0           122.0       763          0                 NaN   \n",
       "4             34.0           140.0       867          0                 NaN   \n",
       "\n",
       "   ...  DES_LONGITUDE   TIME_AR   TIME_DE  MONTH_DE  DAY_DE WEEKEND_DE  \\\n",
       "0  ...     -108.54286  01:37:00  00:01:00         3       1          0   \n",
       "1  ...      -86.67818  01:33:00  00:01:00         3       1          0   \n",
       "2  ...      -86.75355  01:53:00  00:01:00         3       1          0   \n",
       "3  ...      -73.15031  03:04:00  00:02:00         3       1          0   \n",
       "4  ...      -71.00518  03:22:00  00:02:00         3       1          0   \n",
       "\n",
       "  HOUR_DE  ARRIVAL_DELAY_v1  ARRIVAL_DELAY     SPEED  \n",
       "0       0             -17.0              0  4.739583  \n",
       "1       0              19.0              1  4.445652  \n",
       "2       0               NaN              0  5.214286  \n",
       "3       0              -8.0              0  6.254098  \n",
       "4       0               8.0              0  6.192857  \n",
       "\n",
       "[5 rows x 32 columns]"
      ]
     },
     "execution_count": 30,
     "metadata": {},
     "output_type": "execute_result"
    }
   ],
   "source": [
    "df_final = df_final.drop(['SCHEDULED_DEPARTURE','DEPARTURE_TIME','SCHEDULED_ARRIVAL','ARRIVAL_TIME','TAXI_OUT','WHEELS_OFF','ELAPSED_TIME','AIR_TIME','WHEELS_ON','TAXI_IN','OR_COUNTRY','DES_COUNTRY','YEAR_DE','WEEKDAY_DE','DEP_DATE_TIME','ARR_DATE_TIME','SCH_ARR_DATE_TIME','ARRIVAL_DELAY_v2'], axis = 1)\n",
    "df_final.head()"
   ]
  },
  {
   "cell_type": "markdown",
   "metadata": {
    "id": "677gSp_rhlnE"
   },
   "source": [
    "### Missing values"
   ]
  },
  {
   "cell_type": "code",
   "execution_count": 31,
   "metadata": {
    "colab": {
     "base_uri": "https://localhost:8080/"
    },
    "id": "v1rDqXC_hlnE",
    "outputId": "37587ca3-db98-4c36-c9cb-340b2f6e7c45"
   },
   "outputs": [
    {
     "data": {
      "text/plain": [
       "AIRLINE                 object\n",
       "FLIGHT_NUMBER            int64\n",
       "TAIL_NUMBER             object\n",
       "ORIGIN_AIRPORT          object\n",
       "DESTINATION_AIRPORT     object\n",
       "DEPARTURE_DELAY        float64\n",
       "SCHEDULED_TIME         float64\n",
       "DISTANCE                 int64\n",
       "CANCELLED                int64\n",
       "CANCELLATION_REASON     object\n",
       "AIR_SYSTEM_DELAY       float64\n",
       "SECURITY_DELAY         float64\n",
       "AIRLINE_DELAY          float64\n",
       "LATE_AIRCRAFT_DELAY    float64\n",
       "WEATHER_DELAY          float64\n",
       "OR_CITY                 object\n",
       "OR_STATE                object\n",
       "OR_LATITUDE            float64\n",
       "OR_LONGITUDE           float64\n",
       "DES_CITY                object\n",
       "DES_STATE               object\n",
       "DES_LATITUDE           float64\n",
       "DES_LONGITUDE          float64\n",
       "TIME_AR                 object\n",
       "TIME_DE                 object\n",
       "MONTH_DE                 int64\n",
       "DAY_DE                   int64\n",
       "WEEKEND_DE               int64\n",
       "HOUR_DE                  int64\n",
       "ARRIVAL_DELAY_v1       float64\n",
       "ARRIVAL_DELAY            int64\n",
       "SPEED                  float64\n",
       "dtype: object"
      ]
     },
     "execution_count": 31,
     "metadata": {},
     "output_type": "execute_result"
    }
   ],
   "source": [
    "df_final.dtypes"
   ]
  },
  {
   "cell_type": "markdown",
   "metadata": {
    "id": "j99vpqa8hlnE"
   },
   "source": [
    "Observe if the final dataset has missing values.\n",
    "\n",
    "count total NaN at each column in a DataFrame"
   ]
  },
  {
   "cell_type": "code",
   "execution_count": 32,
   "metadata": {
    "colab": {
     "base_uri": "https://localhost:8080/"
    },
    "id": "GnEIUJayhlnE",
    "outputId": "acd06a9e-99f8-4f2c-c31a-5fbd3642d25a"
   },
   "outputs": [
    {
     "name": "stdout",
     "output_type": "stream",
     "text": [
      " \n",
      "Count total NaN at each column in a DataFrame : \n",
      "\n",
      " AIRLINE                      0\n",
      "FLIGHT_NUMBER                0\n",
      "TAIL_NUMBER               4557\n",
      "ORIGIN_AIRPORT               0\n",
      "DESTINATION_AIRPORT          0\n",
      "DEPARTURE_DELAY          30771\n",
      "SCHEDULED_TIME               2\n",
      "DISTANCE                     0\n",
      "CANCELLED                    0\n",
      "CANCELLATION_REASON    2426100\n",
      "AIR_SYSTEM_DELAY       1991785\n",
      "SECURITY_DELAY         1991785\n",
      "AIRLINE_DELAY          1991785\n",
      "LATE_AIRCRAFT_DELAY    1991785\n",
      "WEATHER_DELAY          1991785\n",
      "OR_CITY                      0\n",
      "OR_STATE                     0\n",
      "OR_LATITUDE               2222\n",
      "OR_LONGITUDE              2222\n",
      "DES_CITY                     0\n",
      "DES_STATE                    0\n",
      "DES_LATITUDE              2224\n",
      "DES_LONGITUDE             2224\n",
      "TIME_AR                      0\n",
      "TIME_DE                      0\n",
      "MONTH_DE                     0\n",
      "DAY_DE                       0\n",
      "WEEKEND_DE                   0\n",
      "HOUR_DE                      0\n",
      "ARRIVAL_DELAY_v1         40100\n",
      "ARRIVAL_DELAY                0\n",
      "SPEED                        2\n",
      "dtype: int64\n"
     ]
    }
   ],
   "source": [
    "print(\" \\nCount total NaN at each column in a DataFrame : \\n\\n\",\n",
    "      df_final.isnull().sum())"
   ]
  },
  {
   "cell_type": "markdown",
   "metadata": {
    "id": "gYoGKZwfhlnE"
   },
   "source": [
    "We observe that:\n",
    "1. there are several missing values in Tail_number --> will try to model with and without the variable\n",
    "2. missing values for departure delay means no delay --> recode as 0\n",
    "3. cancellation_reason missing means not canceled --> recode as 0\n",
    "4. delayed_reason missing means not delayed for it --> recode as 0\n",
    "5. missing values for latitude and longitude --> drop for now, but we can impute by looking up the latitude and longitude of the city"
   ]
  },
  {
   "cell_type": "code",
   "execution_count": 33,
   "metadata": {
    "id": "CMjNdrz4hlnF"
   },
   "outputs": [],
   "source": [
    "# Replace missing values\n",
    "df_final['DEPARTURE_DELAY'] = df_final['DEPARTURE_DELAY'].fillna(0)\n",
    "df_final['CANCELLATION_REASON'] = df_final['CANCELLATION_REASON'].fillna(0)\n",
    "df_final['AIR_SYSTEM_DELAY'] = df_final['AIR_SYSTEM_DELAY'].fillna(0)\n",
    "df_final['SECURITY_DELAY'] = df_final['SECURITY_DELAY'].fillna(0)\n",
    "df_final['AIRLINE_DELAY'] = df_final['AIRLINE_DELAY'].fillna(0)\n",
    "df_final['LATE_AIRCRAFT_DELAY'] = df_final['LATE_AIRCRAFT_DELAY'].fillna(0)\n",
    "df_final['WEATHER_DELAY'] = df_final['WEATHER_DELAY'].fillna(0)\n",
    "df_final['ARRIVAL_DELAY_v1'] = df_final['ARRIVAL_DELAY_v1'].fillna(0)"
   ]
  },
  {
   "cell_type": "code",
   "execution_count": 34,
   "metadata": {
    "colab": {
     "base_uri": "https://localhost:8080/",
     "height": 299
    },
    "id": "LqplqvNfhlnF",
    "outputId": "875fedfa-b9d3-4da4-b846-b2d51f703477"
   },
   "outputs": [
    {
     "data": {
      "text/html": [
       "\n",
       "  <div id=\"df-83b8a4fd-590a-4466-b4d6-e43d766e0bd9\">\n",
       "    <div class=\"colab-df-container\">\n",
       "      <div>\n",
       "<style scoped>\n",
       "    .dataframe tbody tr th:only-of-type {\n",
       "        vertical-align: middle;\n",
       "    }\n",
       "\n",
       "    .dataframe tbody tr th {\n",
       "        vertical-align: top;\n",
       "    }\n",
       "\n",
       "    .dataframe thead th {\n",
       "        text-align: right;\n",
       "    }\n",
       "</style>\n",
       "<table border=\"1\" class=\"dataframe\">\n",
       "  <thead>\n",
       "    <tr style=\"text-align: right;\">\n",
       "      <th></th>\n",
       "      <th>AIRLINE</th>\n",
       "      <th>FLIGHT_NUMBER</th>\n",
       "      <th>TAIL_NUMBER</th>\n",
       "      <th>ORIGIN_AIRPORT</th>\n",
       "      <th>DESTINATION_AIRPORT</th>\n",
       "      <th>DEPARTURE_DELAY</th>\n",
       "      <th>SCHEDULED_TIME</th>\n",
       "      <th>DISTANCE</th>\n",
       "      <th>CANCELLED</th>\n",
       "      <th>CANCELLATION_REASON</th>\n",
       "      <th>...</th>\n",
       "      <th>DES_LONGITUDE</th>\n",
       "      <th>TIME_AR</th>\n",
       "      <th>TIME_DE</th>\n",
       "      <th>MONTH_DE</th>\n",
       "      <th>DAY_DE</th>\n",
       "      <th>WEEKEND_DE</th>\n",
       "      <th>HOUR_DE</th>\n",
       "      <th>ARRIVAL_DELAY_v1</th>\n",
       "      <th>ARRIVAL_DELAY</th>\n",
       "      <th>SPEED</th>\n",
       "    </tr>\n",
       "  </thead>\n",
       "  <tbody>\n",
       "    <tr>\n",
       "      <th>0</th>\n",
       "      <td>UA</td>\n",
       "      <td>1238</td>\n",
       "      <td>N812UA</td>\n",
       "      <td>DEN</td>\n",
       "      <td>BIL</td>\n",
       "      <td>1.0</td>\n",
       "      <td>96.0</td>\n",
       "      <td>455</td>\n",
       "      <td>0</td>\n",
       "      <td>0</td>\n",
       "      <td>...</td>\n",
       "      <td>-108.54286</td>\n",
       "      <td>01:37:00</td>\n",
       "      <td>00:01:00</td>\n",
       "      <td>3</td>\n",
       "      <td>1</td>\n",
       "      <td>0</td>\n",
       "      <td>0</td>\n",
       "      <td>-17.0</td>\n",
       "      <td>0</td>\n",
       "      <td>4.739583</td>\n",
       "    </tr>\n",
       "    <tr>\n",
       "      <th>1</th>\n",
       "      <td>EV</td>\n",
       "      <td>6134</td>\n",
       "      <td>N14171</td>\n",
       "      <td>ORD</td>\n",
       "      <td>BNA</td>\n",
       "      <td>28.0</td>\n",
       "      <td>92.0</td>\n",
       "      <td>409</td>\n",
       "      <td>0</td>\n",
       "      <td>0</td>\n",
       "      <td>...</td>\n",
       "      <td>-86.67818</td>\n",
       "      <td>01:33:00</td>\n",
       "      <td>00:01:00</td>\n",
       "      <td>3</td>\n",
       "      <td>1</td>\n",
       "      <td>0</td>\n",
       "      <td>0</td>\n",
       "      <td>19.0</td>\n",
       "      <td>1</td>\n",
       "      <td>4.445652</td>\n",
       "    </tr>\n",
       "    <tr>\n",
       "      <th>2</th>\n",
       "      <td>EV</td>\n",
       "      <td>4682</td>\n",
       "      <td>N15910</td>\n",
       "      <td>ORD</td>\n",
       "      <td>BHM</td>\n",
       "      <td>0.0</td>\n",
       "      <td>112.0</td>\n",
       "      <td>584</td>\n",
       "      <td>1</td>\n",
       "      <td>B</td>\n",
       "      <td>...</td>\n",
       "      <td>-86.75355</td>\n",
       "      <td>01:53:00</td>\n",
       "      <td>00:01:00</td>\n",
       "      <td>3</td>\n",
       "      <td>1</td>\n",
       "      <td>0</td>\n",
       "      <td>0</td>\n",
       "      <td>0.0</td>\n",
       "      <td>0</td>\n",
       "      <td>5.214286</td>\n",
       "    </tr>\n",
       "    <tr>\n",
       "      <th>3</th>\n",
       "      <td>UA</td>\n",
       "      <td>1550</td>\n",
       "      <td>N822UA</td>\n",
       "      <td>ORD</td>\n",
       "      <td>BTV</td>\n",
       "      <td>-3.0</td>\n",
       "      <td>122.0</td>\n",
       "      <td>763</td>\n",
       "      <td>0</td>\n",
       "      <td>0</td>\n",
       "      <td>...</td>\n",
       "      <td>-73.15031</td>\n",
       "      <td>03:04:00</td>\n",
       "      <td>00:02:00</td>\n",
       "      <td>3</td>\n",
       "      <td>1</td>\n",
       "      <td>0</td>\n",
       "      <td>0</td>\n",
       "      <td>-8.0</td>\n",
       "      <td>0</td>\n",
       "      <td>6.254098</td>\n",
       "    </tr>\n",
       "    <tr>\n",
       "      <th>4</th>\n",
       "      <td>UA</td>\n",
       "      <td>1502</td>\n",
       "      <td>N33262</td>\n",
       "      <td>ORD</td>\n",
       "      <td>BOS</td>\n",
       "      <td>34.0</td>\n",
       "      <td>140.0</td>\n",
       "      <td>867</td>\n",
       "      <td>0</td>\n",
       "      <td>0</td>\n",
       "      <td>...</td>\n",
       "      <td>-71.00518</td>\n",
       "      <td>03:22:00</td>\n",
       "      <td>00:02:00</td>\n",
       "      <td>3</td>\n",
       "      <td>1</td>\n",
       "      <td>0</td>\n",
       "      <td>0</td>\n",
       "      <td>8.0</td>\n",
       "      <td>0</td>\n",
       "      <td>6.192857</td>\n",
       "    </tr>\n",
       "  </tbody>\n",
       "</table>\n",
       "<p>5 rows × 32 columns</p>\n",
       "</div>\n",
       "      <button class=\"colab-df-convert\" onclick=\"convertToInteractive('df-83b8a4fd-590a-4466-b4d6-e43d766e0bd9')\"\n",
       "              title=\"Convert this dataframe to an interactive table.\"\n",
       "              style=\"display:none;\">\n",
       "        \n",
       "  <svg xmlns=\"http://www.w3.org/2000/svg\" height=\"24px\"viewBox=\"0 0 24 24\"\n",
       "       width=\"24px\">\n",
       "    <path d=\"M0 0h24v24H0V0z\" fill=\"none\"/>\n",
       "    <path d=\"M18.56 5.44l.94 2.06.94-2.06 2.06-.94-2.06-.94-.94-2.06-.94 2.06-2.06.94zm-11 1L8.5 8.5l.94-2.06 2.06-.94-2.06-.94L8.5 2.5l-.94 2.06-2.06.94zm10 10l.94 2.06.94-2.06 2.06-.94-2.06-.94-.94-2.06-.94 2.06-2.06.94z\"/><path d=\"M17.41 7.96l-1.37-1.37c-.4-.4-.92-.59-1.43-.59-.52 0-1.04.2-1.43.59L10.3 9.45l-7.72 7.72c-.78.78-.78 2.05 0 2.83L4 21.41c.39.39.9.59 1.41.59.51 0 1.02-.2 1.41-.59l7.78-7.78 2.81-2.81c.8-.78.8-2.07 0-2.86zM5.41 20L4 18.59l7.72-7.72 1.47 1.35L5.41 20z\"/>\n",
       "  </svg>\n",
       "      </button>\n",
       "      \n",
       "  <style>\n",
       "    .colab-df-container {\n",
       "      display:flex;\n",
       "      flex-wrap:wrap;\n",
       "      gap: 12px;\n",
       "    }\n",
       "\n",
       "    .colab-df-convert {\n",
       "      background-color: #E8F0FE;\n",
       "      border: none;\n",
       "      border-radius: 50%;\n",
       "      cursor: pointer;\n",
       "      display: none;\n",
       "      fill: #1967D2;\n",
       "      height: 32px;\n",
       "      padding: 0 0 0 0;\n",
       "      width: 32px;\n",
       "    }\n",
       "\n",
       "    .colab-df-convert:hover {\n",
       "      background-color: #E2EBFA;\n",
       "      box-shadow: 0px 1px 2px rgba(60, 64, 67, 0.3), 0px 1px 3px 1px rgba(60, 64, 67, 0.15);\n",
       "      fill: #174EA6;\n",
       "    }\n",
       "\n",
       "    [theme=dark] .colab-df-convert {\n",
       "      background-color: #3B4455;\n",
       "      fill: #D2E3FC;\n",
       "    }\n",
       "\n",
       "    [theme=dark] .colab-df-convert:hover {\n",
       "      background-color: #434B5C;\n",
       "      box-shadow: 0px 1px 3px 1px rgba(0, 0, 0, 0.15);\n",
       "      filter: drop-shadow(0px 1px 2px rgba(0, 0, 0, 0.3));\n",
       "      fill: #FFFFFF;\n",
       "    }\n",
       "  </style>\n",
       "\n",
       "      <script>\n",
       "        const buttonEl =\n",
       "          document.querySelector('#df-83b8a4fd-590a-4466-b4d6-e43d766e0bd9 button.colab-df-convert');\n",
       "        buttonEl.style.display =\n",
       "          google.colab.kernel.accessAllowed ? 'block' : 'none';\n",
       "\n",
       "        async function convertToInteractive(key) {\n",
       "          const element = document.querySelector('#df-83b8a4fd-590a-4466-b4d6-e43d766e0bd9');\n",
       "          const dataTable =\n",
       "            await google.colab.kernel.invokeFunction('convertToInteractive',\n",
       "                                                     [key], {});\n",
       "          if (!dataTable) return;\n",
       "\n",
       "          const docLinkHtml = 'Like what you see? Visit the ' +\n",
       "            '<a target=\"_blank\" href=https://colab.research.google.com/notebooks/data_table.ipynb>data table notebook</a>'\n",
       "            + ' to learn more about interactive tables.';\n",
       "          element.innerHTML = '';\n",
       "          dataTable['output_type'] = 'display_data';\n",
       "          await google.colab.output.renderOutput(dataTable, element);\n",
       "          const docLink = document.createElement('div');\n",
       "          docLink.innerHTML = docLinkHtml;\n",
       "          element.appendChild(docLink);\n",
       "        }\n",
       "      </script>\n",
       "    </div>\n",
       "  </div>\n",
       "  "
      ],
      "text/plain": [
       "  AIRLINE  FLIGHT_NUMBER TAIL_NUMBER ORIGIN_AIRPORT DESTINATION_AIRPORT  \\\n",
       "0      UA           1238      N812UA            DEN                 BIL   \n",
       "1      EV           6134      N14171            ORD                 BNA   \n",
       "2      EV           4682      N15910            ORD                 BHM   \n",
       "3      UA           1550      N822UA            ORD                 BTV   \n",
       "4      UA           1502      N33262            ORD                 BOS   \n",
       "\n",
       "   DEPARTURE_DELAY  SCHEDULED_TIME  DISTANCE  CANCELLED CANCELLATION_REASON  \\\n",
       "0              1.0            96.0       455          0                   0   \n",
       "1             28.0            92.0       409          0                   0   \n",
       "2              0.0           112.0       584          1                   B   \n",
       "3             -3.0           122.0       763          0                   0   \n",
       "4             34.0           140.0       867          0                   0   \n",
       "\n",
       "   ...  DES_LONGITUDE   TIME_AR   TIME_DE  MONTH_DE  DAY_DE WEEKEND_DE  \\\n",
       "0  ...     -108.54286  01:37:00  00:01:00         3       1          0   \n",
       "1  ...      -86.67818  01:33:00  00:01:00         3       1          0   \n",
       "2  ...      -86.75355  01:53:00  00:01:00         3       1          0   \n",
       "3  ...      -73.15031  03:04:00  00:02:00         3       1          0   \n",
       "4  ...      -71.00518  03:22:00  00:02:00         3       1          0   \n",
       "\n",
       "  HOUR_DE  ARRIVAL_DELAY_v1  ARRIVAL_DELAY     SPEED  \n",
       "0       0             -17.0              0  4.739583  \n",
       "1       0              19.0              1  4.445652  \n",
       "2       0               0.0              0  5.214286  \n",
       "3       0              -8.0              0  6.254098  \n",
       "4       0               8.0              0  6.192857  \n",
       "\n",
       "[5 rows x 32 columns]"
      ]
     },
     "execution_count": 34,
     "metadata": {},
     "output_type": "execute_result"
    }
   ],
   "source": [
    "df_final = df_final.dropna(axis=0, how='any')\n",
    "df_final.head()"
   ]
  },
  {
   "cell_type": "code",
   "execution_count": 35,
   "metadata": {
    "colab": {
     "base_uri": "https://localhost:8080/"
    },
    "id": "qqeeMzxGhlnF",
    "outputId": "be8dfbac-475a-4a97-e73b-d201697bff0d"
   },
   "outputs": [
    {
     "name": "stdout",
     "output_type": "stream",
     "text": [
      " \n",
      "Count total NaN at each column in a DataFrame : \n",
      "\n",
      " AIRLINE                0\n",
      "FLIGHT_NUMBER          0\n",
      "TAIL_NUMBER            0\n",
      "ORIGIN_AIRPORT         0\n",
      "DESTINATION_AIRPORT    0\n",
      "DEPARTURE_DELAY        0\n",
      "SCHEDULED_TIME         0\n",
      "DISTANCE               0\n",
      "CANCELLED              0\n",
      "CANCELLATION_REASON    0\n",
      "AIR_SYSTEM_DELAY       0\n",
      "SECURITY_DELAY         0\n",
      "AIRLINE_DELAY          0\n",
      "LATE_AIRCRAFT_DELAY    0\n",
      "WEATHER_DELAY          0\n",
      "OR_CITY                0\n",
      "OR_STATE               0\n",
      "OR_LATITUDE            0\n",
      "OR_LONGITUDE           0\n",
      "DES_CITY               0\n",
      "DES_STATE              0\n",
      "DES_LATITUDE           0\n",
      "DES_LONGITUDE          0\n",
      "TIME_AR                0\n",
      "TIME_DE                0\n",
      "MONTH_DE               0\n",
      "DAY_DE                 0\n",
      "WEEKEND_DE             0\n",
      "HOUR_DE                0\n",
      "ARRIVAL_DELAY_v1       0\n",
      "ARRIVAL_DELAY          0\n",
      "SPEED                  0\n",
      "dtype: int64\n"
     ]
    }
   ],
   "source": [
    "# Count total NaN at each column in a DataFrame\n",
    "print(\" \\nCount total NaN at each column in a DataFrame : \\n\\n\",\n",
    "      df_final.isnull().sum())"
   ]
  },
  {
   "cell_type": "markdown",
   "metadata": {},
   "source": [
    "df_final is the final data set for data visualisation and modelling."
   ]
  },
  {
   "cell_type": "markdown",
   "metadata": {
    "id": "Y5Bxr1tIhlnF"
   },
   "source": [
    "## Modelling"
   ]
  },
  {
   "cell_type": "markdown",
   "metadata": {
    "id": "c8amug4shlnG"
   },
   "source": [
    "### A. Treat 'arrival delay' as a continous variable - Factor Importance"
   ]
  },
  {
   "cell_type": "code",
   "execution_count": 36,
   "metadata": {
    "colab": {
     "base_uri": "https://localhost:8080/",
     "height": 391
    },
    "id": "jQ6Fv8eDhlnG",
    "outputId": "b7a25ba8-a507-49bb-e3c4-1b8b4006660a"
   },
   "outputs": [
    {
     "data": {
      "text/plain": [
       "<matplotlib.axes._subplots.AxesSubplot at 0x7fcd7972eb10>"
      ]
     },
     "execution_count": 36,
     "metadata": {},
     "output_type": "execute_result"
    },
    {
     "data": {
      "image/png": "[encoded data removed]",
      "text/plain": [
       "<Figure size 432x288 with 2 Axes>"
      ]
     },
     "metadata": {
      "needs_background": "light"
     },
     "output_type": "display_data"
    }
   ],
   "source": [
    "df_model1 = df_final[['AIRLINE','ORIGIN_AIRPORT','DESTINATION_AIRPORT','DEPARTURE_DELAY',\n",
    "                      'SCHEDULED_TIME','DISTANCE','AIR_SYSTEM_DELAY','SECURITY_DELAY',\n",
    "                      'AIRLINE_DELAY','LATE_AIRCRAFT_DELAY','WEATHER_DELAY',\n",
    "                      'OR_LATITUDE','OR_LONGITUDE','DES_LATITUDE','DES_LONGITUDE',\n",
    "                      'WEEKEND_DE','HOUR_DE','SPEED','ARRIVAL_DELAY_v1','MONTH_DE']]\n",
    "\n",
    "corr = df_model1.corr()\n",
    "sns.heatmap(corr, \n",
    "            xticklabels=corr.columns.values,\n",
    "            yticklabels=corr.columns.values)\n"
   ]
  },
  {
   "cell_type": "markdown",
   "metadata": {
    "id": "2wm7-I0-0feI"
   },
   "source": [
    "Assume that the delays are independent of month. I choose the month of July to aviod overload of my computer"
   ]
  },
  {
   "cell_type": "code",
   "execution_count": 37,
   "metadata": {
    "id": "A2pNNsU_sQHq"
   },
   "outputs": [],
   "source": [
    "#df_model1 = df_model1[df_model1['MONTH_DE']==7]"
   ]
  },
  {
   "cell_type": "code",
   "execution_count": 39,
   "metadata": {
    "colab": {
     "base_uri": "https://localhost:8080/",
     "height": 270
    },
    "id": "9iClrLUwsqtR",
    "outputId": "4884928e-590d-4227-f74e-0524114db3f5"
   },
   "outputs": [
    {
     "data": {
      "text/html": [
       "\n",
       "  <div id=\"df-eccd1160-5bd3-45be-bf2f-f12e3d85e121\">\n",
       "    <div class=\"colab-df-container\">\n",
       "      <div>\n",
       "<style scoped>\n",
       "    .dataframe tbody tr th:only-of-type {\n",
       "        vertical-align: middle;\n",
       "    }\n",
       "\n",
       "    .dataframe tbody tr th {\n",
       "        vertical-align: top;\n",
       "    }\n",
       "\n",
       "    .dataframe thead th {\n",
       "        text-align: right;\n",
       "    }\n",
       "</style>\n",
       "<table border=\"1\" class=\"dataframe\">\n",
       "  <thead>\n",
       "    <tr style=\"text-align: right;\">\n",
       "      <th></th>\n",
       "      <th>AIRLINE</th>\n",
       "      <th>ORIGIN_AIRPORT</th>\n",
       "      <th>DESTINATION_AIRPORT</th>\n",
       "      <th>DEPARTURE_DELAY</th>\n",
       "      <th>SCHEDULED_TIME</th>\n",
       "      <th>DISTANCE</th>\n",
       "      <th>AIR_SYSTEM_DELAY</th>\n",
       "      <th>SECURITY_DELAY</th>\n",
       "      <th>AIRLINE_DELAY</th>\n",
       "      <th>LATE_AIRCRAFT_DELAY</th>\n",
       "      <th>WEATHER_DELAY</th>\n",
       "      <th>OR_LATITUDE</th>\n",
       "      <th>OR_LONGITUDE</th>\n",
       "      <th>DES_LATITUDE</th>\n",
       "      <th>DES_LONGITUDE</th>\n",
       "      <th>WEEKEND_DE</th>\n",
       "      <th>HOUR_DE</th>\n",
       "      <th>SPEED</th>\n",
       "      <th>ARRIVAL_DELAY_v1</th>\n",
       "      <th>MONTH_DE</th>\n",
       "    </tr>\n",
       "  </thead>\n",
       "  <tbody>\n",
       "    <tr>\n",
       "      <th>1961635</th>\n",
       "      <td>NK</td>\n",
       "      <td>LAS</td>\n",
       "      <td>IAH</td>\n",
       "      <td>76.0</td>\n",
       "      <td>170.0</td>\n",
       "      <td>1222</td>\n",
       "      <td>0.0</td>\n",
       "      <td>0.0</td>\n",
       "      <td>0.0</td>\n",
       "      <td>75.0</td>\n",
       "      <td>0.0</td>\n",
       "      <td>36.08036</td>\n",
       "      <td>-115.15233</td>\n",
       "      <td>29.98047</td>\n",
       "      <td>-95.33972</td>\n",
       "      <td>0</td>\n",
       "      <td>0</td>\n",
       "      <td>7.188235</td>\n",
       "      <td>75.0</td>\n",
       "      <td>7</td>\n",
       "    </tr>\n",
       "    <tr>\n",
       "      <th>1961636</th>\n",
       "      <td>NK</td>\n",
       "      <td>LAS</td>\n",
       "      <td>MSP</td>\n",
       "      <td>8.0</td>\n",
       "      <td>179.0</td>\n",
       "      <td>1299</td>\n",
       "      <td>0.0</td>\n",
       "      <td>0.0</td>\n",
       "      <td>0.0</td>\n",
       "      <td>0.0</td>\n",
       "      <td>0.0</td>\n",
       "      <td>36.08036</td>\n",
       "      <td>-115.15233</td>\n",
       "      <td>44.88055</td>\n",
       "      <td>-93.21692</td>\n",
       "      <td>0</td>\n",
       "      <td>0</td>\n",
       "      <td>7.256983</td>\n",
       "      <td>7.0</td>\n",
       "      <td>7</td>\n",
       "    </tr>\n",
       "    <tr>\n",
       "      <th>1961637</th>\n",
       "      <td>AA</td>\n",
       "      <td>SEA</td>\n",
       "      <td>DFW</td>\n",
       "      <td>-5.0</td>\n",
       "      <td>235.0</td>\n",
       "      <td>1660</td>\n",
       "      <td>0.0</td>\n",
       "      <td>0.0</td>\n",
       "      <td>0.0</td>\n",
       "      <td>0.0</td>\n",
       "      <td>0.0</td>\n",
       "      <td>47.44898</td>\n",
       "      <td>-122.30931</td>\n",
       "      <td>32.89595</td>\n",
       "      <td>-97.03720</td>\n",
       "      <td>0</td>\n",
       "      <td>0</td>\n",
       "      <td>7.063830</td>\n",
       "      <td>-9.0</td>\n",
       "      <td>7</td>\n",
       "    </tr>\n",
       "    <tr>\n",
       "      <th>1961638</th>\n",
       "      <td>DL</td>\n",
       "      <td>ANC</td>\n",
       "      <td>SLC</td>\n",
       "      <td>1.0</td>\n",
       "      <td>277.0</td>\n",
       "      <td>2125</td>\n",
       "      <td>0.0</td>\n",
       "      <td>0.0</td>\n",
       "      <td>0.0</td>\n",
       "      <td>0.0</td>\n",
       "      <td>0.0</td>\n",
       "      <td>61.17432</td>\n",
       "      <td>-149.99619</td>\n",
       "      <td>40.78839</td>\n",
       "      <td>-111.97777</td>\n",
       "      <td>0</td>\n",
       "      <td>0</td>\n",
       "      <td>7.671480</td>\n",
       "      <td>-17.0</td>\n",
       "      <td>7</td>\n",
       "    </tr>\n",
       "    <tr>\n",
       "      <th>1961639</th>\n",
       "      <td>US</td>\n",
       "      <td>SLC</td>\n",
       "      <td>CLT</td>\n",
       "      <td>-1.0</td>\n",
       "      <td>232.0</td>\n",
       "      <td>1727</td>\n",
       "      <td>0.0</td>\n",
       "      <td>0.0</td>\n",
       "      <td>0.0</td>\n",
       "      <td>0.0</td>\n",
       "      <td>0.0</td>\n",
       "      <td>40.78839</td>\n",
       "      <td>-111.97777</td>\n",
       "      <td>35.21401</td>\n",
       "      <td>-80.94313</td>\n",
       "      <td>0</td>\n",
       "      <td>0</td>\n",
       "      <td>7.443966</td>\n",
       "      <td>-7.0</td>\n",
       "      <td>7</td>\n",
       "    </tr>\n",
       "  </tbody>\n",
       "</table>\n",
       "</div>\n",
       "      <button class=\"colab-df-convert\" onclick=\"convertToInteractive('df-eccd1160-5bd3-45be-bf2f-f12e3d85e121')\"\n",
       "              title=\"Convert this dataframe to an interactive table.\"\n",
       "              style=\"display:none;\">\n",
       "        \n",
       "  <svg xmlns=\"http://www.w3.org/2000/svg\" height=\"24px\"viewBox=\"0 0 24 24\"\n",
       "       width=\"24px\">\n",
       "    <path d=\"M0 0h24v24H0V0z\" fill=\"none\"/>\n",
       "    <path d=\"M18.56 5.44l.94 2.06.94-2.06 2.06-.94-2.06-.94-.94-2.06-.94 2.06-2.06.94zm-11 1L8.5 8.5l.94-2.06 2.06-.94-2.06-.94L8.5 2.5l-.94 2.06-2.06.94zm10 10l.94 2.06.94-2.06 2.06-.94-2.06-.94-.94-2.06-.94 2.06-2.06.94z\"/><path d=\"M17.41 7.96l-1.37-1.37c-.4-.4-.92-.59-1.43-.59-.52 0-1.04.2-1.43.59L10.3 9.45l-7.72 7.72c-.78.78-.78 2.05 0 2.83L4 21.41c.39.39.9.59 1.41.59.51 0 1.02-.2 1.41-.59l7.78-7.78 2.81-2.81c.8-.78.8-2.07 0-2.86zM5.41 20L4 18.59l7.72-7.72 1.47 1.35L5.41 20z\"/>\n",
       "  </svg>\n",
       "      </button>\n",
       "      \n",
       "  <style>\n",
       "    .colab-df-container {\n",
       "      display:flex;\n",
       "      flex-wrap:wrap;\n",
       "      gap: 12px;\n",
       "    }\n",
       "\n",
       "    .colab-df-convert {\n",
       "      background-color: #E8F0FE;\n",
       "      border: none;\n",
       "      border-radius: 50%;\n",
       "      cursor: pointer;\n",
       "      display: none;\n",
       "      fill: #1967D2;\n",
       "      height: 32px;\n",
       "      padding: 0 0 0 0;\n",
       "      width: 32px;\n",
       "    }\n",
       "\n",
       "    .colab-df-convert:hover {\n",
       "      background-color: #E2EBFA;\n",
       "      box-shadow: 0px 1px 2px rgba(60, 64, 67, 0.3), 0px 1px 3px 1px rgba(60, 64, 67, 0.15);\n",
       "      fill: #174EA6;\n",
       "    }\n",
       "\n",
       "    [theme=dark] .colab-df-convert {\n",
       "      background-color: #3B4455;\n",
       "      fill: #D2E3FC;\n",
       "    }\n",
       "\n",
       "    [theme=dark] .colab-df-convert:hover {\n",
       "      background-color: #434B5C;\n",
       "      box-shadow: 0px 1px 3px 1px rgba(0, 0, 0, 0.15);\n",
       "      filter: drop-shadow(0px 1px 2px rgba(0, 0, 0, 0.3));\n",
       "      fill: #FFFFFF;\n",
       "    }\n",
       "  </style>\n",
       "\n",
       "      <script>\n",
       "        const buttonEl =\n",
       "          document.querySelector('#df-eccd1160-5bd3-45be-bf2f-f12e3d85e121 button.colab-df-convert');\n",
       "        buttonEl.style.display =\n",
       "          google.colab.kernel.accessAllowed ? 'block' : 'none';\n",
       "\n",
       "        async function convertToInteractive(key) {\n",
       "          const element = document.querySelector('#df-eccd1160-5bd3-45be-bf2f-f12e3d85e121');\n",
       "          const dataTable =\n",
       "            await google.colab.kernel.invokeFunction('convertToInteractive',\n",
       "                                                     [key], {});\n",
       "          if (!dataTable) return;\n",
       "\n",
       "          const docLinkHtml = 'Like what you see? Visit the ' +\n",
       "            '<a target=\"_blank\" href=https://colab.research.google.com/notebooks/data_table.ipynb>data table notebook</a>'\n",
       "            + ' to learn more about interactive tables.';\n",
       "          element.innerHTML = '';\n",
       "          dataTable['output_type'] = 'display_data';\n",
       "          await google.colab.output.renderOutput(dataTable, element);\n",
       "          const docLink = document.createElement('div');\n",
       "          docLink.innerHTML = docLinkHtml;\n",
       "          element.appendChild(docLink);\n",
       "        }\n",
       "      </script>\n",
       "    </div>\n",
       "  </div>\n",
       "  "
      ],
      "text/plain": [
       "        AIRLINE ORIGIN_AIRPORT DESTINATION_AIRPORT  DEPARTURE_DELAY  \\\n",
       "1961635      NK            LAS                 IAH             76.0   \n",
       "1961636      NK            LAS                 MSP              8.0   \n",
       "1961637      AA            SEA                 DFW             -5.0   \n",
       "1961638      DL            ANC                 SLC              1.0   \n",
       "1961639      US            SLC                 CLT             -1.0   \n",
       "\n",
       "         SCHEDULED_TIME  DISTANCE  AIR_SYSTEM_DELAY  SECURITY_DELAY  \\\n",
       "1961635           170.0      1222               0.0             0.0   \n",
       "1961636           179.0      1299               0.0             0.0   \n",
       "1961637           235.0      1660               0.0             0.0   \n",
       "1961638           277.0      2125               0.0             0.0   \n",
       "1961639           232.0      1727               0.0             0.0   \n",
       "\n",
       "         AIRLINE_DELAY  LATE_AIRCRAFT_DELAY  WEATHER_DELAY  OR_LATITUDE  \\\n",
       "1961635            0.0                 75.0            0.0     36.08036   \n",
       "1961636            0.0                  0.0            0.0     36.08036   \n",
       "1961637            0.0                  0.0            0.0     47.44898   \n",
       "1961638            0.0                  0.0            0.0     61.17432   \n",
       "1961639            0.0                  0.0            0.0     40.78839   \n",
       "\n",
       "         OR_LONGITUDE  DES_LATITUDE  DES_LONGITUDE  WEEKEND_DE  HOUR_DE  \\\n",
       "1961635    -115.15233      29.98047      -95.33972           0        0   \n",
       "1961636    -115.15233      44.88055      -93.21692           0        0   \n",
       "1961637    -122.30931      32.89595      -97.03720           0        0   \n",
       "1961638    -149.99619      40.78839     -111.97777           0        0   \n",
       "1961639    -111.97777      35.21401      -80.94313           0        0   \n",
       "\n",
       "            SPEED  ARRIVAL_DELAY_v1  MONTH_DE  \n",
       "1961635  7.188235              75.0         7  \n",
       "1961636  7.256983               7.0         7  \n",
       "1961637  7.063830              -9.0         7  \n",
       "1961638  7.671480             -17.0         7  \n",
       "1961639  7.443966              -7.0         7  "
      ]
     },
     "execution_count": 39,
     "metadata": {},
     "output_type": "execute_result"
    }
   ],
   "source": [
    "df_model1.head()"
   ]
  },
  {
   "cell_type": "markdown",
   "metadata": {
    "id": "XgjbNZvKhlnH"
   },
   "source": [
    "Choose variables for model"
   ]
  },
  {
   "cell_type": "code",
   "execution_count": 38,
   "metadata": {
    "id": "1ZWz5TiuhlnH"
   },
   "outputs": [],
   "source": [
    "df_features = df_model1[['AIRLINE','ORIGIN_AIRPORT','DESTINATION_AIRPORT','DEPARTURE_DELAY',\n",
    "                         'SCHEDULED_TIME','DISTANCE','AIR_SYSTEM_DELAY','SECURITY_DELAY',\n",
    "                         'AIRLINE_DELAY','LATE_AIRCRAFT_DELAY','WEATHER_DELAY',\n",
    "                         'OR_LATITUDE','OR_LONGITUDE','DES_LATITUDE','DES_LONGITUDE',\n",
    "                         'WEEKEND_DE','HOUR_DE','SPEED']]\n",
    "\n",
    "df_target = df_model1['ARRIVAL_DELAY_v1']"
   ]
  },
  {
   "cell_type": "code",
   "execution_count": 40,
   "metadata": {
    "colab": {
     "base_uri": "https://localhost:8080/"
    },
    "id": "hVFtuTRIhlnH",
    "outputId": "39900b4f-faeb-41ee-9d9b-b8cd756906ad"
   },
   "outputs": [
    {
     "name": "stdout",
     "output_type": "stream",
     "text": [
      "[dtype('O') dtype('O') dtype('O') dtype('float64') dtype('float64')\n",
      " dtype('int64') dtype('float64') dtype('float64') dtype('float64')\n",
      " dtype('float64') dtype('float64') dtype('float64') dtype('float64')\n",
      " dtype('float64') dtype('float64') dtype('int64') dtype('int64')\n",
      " dtype('float64')]\n"
     ]
    }
   ],
   "source": [
    "X_type = np.array(df_features.dtypes)\n",
    "print(X_type)"
   ]
  },
  {
   "cell_type": "code",
   "execution_count": 41,
   "metadata": {
    "colab": {
     "base_uri": "https://localhost:8080/"
    },
    "id": "-6-gyq4uhlnH",
    "outputId": "b6cd386a-bc8f-49e5-a06b-fa93bf5866cb"
   },
   "outputs": [
    {
     "name": "stderr",
     "output_type": "stream",
     "text": [
      "/usr/local/lib/python3.7/dist-packages/ipykernel_launcher.py:1: SettingWithCopyWarning: \n",
      "A value is trying to be set on a copy of a slice from a DataFrame.\n",
      "Try using .loc[row_indexer,col_indexer] = value instead\n",
      "\n",
      "See the caveats in the documentation: https://pandas.pydata.org/pandas-docs/stable/user_guide/indexing.html#returning-a-view-versus-a-copy\n",
      "  \"\"\"Entry point for launching an IPython kernel.\n",
      "/usr/local/lib/python3.7/dist-packages/ipykernel_launcher.py:2: SettingWithCopyWarning: \n",
      "A value is trying to be set on a copy of a slice from a DataFrame.\n",
      "Try using .loc[row_indexer,col_indexer] = value instead\n",
      "\n",
      "See the caveats in the documentation: https://pandas.pydata.org/pandas-docs/stable/user_guide/indexing.html#returning-a-view-versus-a-copy\n",
      "  \n",
      "/usr/local/lib/python3.7/dist-packages/ipykernel_launcher.py:3: SettingWithCopyWarning: \n",
      "A value is trying to be set on a copy of a slice from a DataFrame.\n",
      "Try using .loc[row_indexer,col_indexer] = value instead\n",
      "\n",
      "See the caveats in the documentation: https://pandas.pydata.org/pandas-docs/stable/user_guide/indexing.html#returning-a-view-versus-a-copy\n",
      "  This is separate from the ipykernel package so we can avoid doing imports until\n"
     ]
    }
   ],
   "source": [
    "df_features['WEEKEND_DE'] = df_features['WEEKEND_DE'].astype(str)\n",
    "df_features['DISTANCE'] = df_features['DISTANCE'].astype(float)\n",
    "df_features['HOUR_DE'] = df_features['HOUR_DE'].astype(float)"
   ]
  },
  {
   "cell_type": "code",
   "execution_count": 43,
   "metadata": {
    "colab": {
     "base_uri": "https://localhost:8080/"
    },
    "id": "1L3zs6RbhlnH",
    "outputId": "b53cf0ce-b24d-4c11-a624-c092ab45f111"
   },
   "outputs": [
    {
     "name": "stdout",
     "output_type": "stream",
     "text": [
      "categorical cols: [0 1 2]\n",
      "numerical cols: [ 3  4  6  7  8  9 10 11 12 13 14 17]\n"
     ]
    }
   ],
   "source": [
    "numerical_ix = X_type==np.dtype('float64')\n",
    "numerical_cols = np.where(numerical_ix)\n",
    "\n",
    "categorical_ix = X_type==np.dtype('O')\n",
    "categorical_cols = np.where(categorical_ix)\n",
    "\n",
    "print('categorical cols:',categorical_cols[0])\n",
    "print('numerical cols:',numerical_cols[0])"
   ]
  },
  {
   "cell_type": "code",
   "execution_count": 44,
   "metadata": {
    "id": "FPThpwPjhlnI"
   },
   "outputs": [],
   "source": [
    "t = [('cat', OneHotEncoder(), categorical_cols[0]), ('num', StandardScaler(), numerical_cols[0])]\n",
    "col_transform = ColumnTransformer(transformers=t)"
   ]
  },
  {
   "cell_type": "code",
   "execution_count": 45,
   "metadata": {
    "colab": {
     "base_uri": "https://localhost:8080/"
    },
    "id": "99WhpEfnhlnJ",
    "outputId": "905f84f2-53cb-4506-e408-8a95dbf7ddc4"
   },
   "outputs": [
    {
     "name": "stdout",
     "output_type": "stream",
     "text": [
      "(495457, 632)\n"
     ]
    }
   ],
   "source": [
    "df_features = col_transform.fit_transform(df_features)\n",
    "print(df_features.shape)"
   ]
  },
  {
   "cell_type": "code",
   "execution_count": 46,
   "metadata": {
    "id": "vp3GPxoUhlnJ"
   },
   "outputs": [],
   "source": [
    "X_train, X_test, y_train, y_test = train_test_split(df_features, df_target, random_state=123, test_size=0.4, shuffle=True)"
   ]
  },
  {
   "cell_type": "code",
   "execution_count": null,
   "metadata": {},
   "outputs": [],
   "source": [
    "def Factor_model(model, X, y):\n",
    "    np.random.seed(123)\n",
    "    model.fit(X, y)\n",
    "    pred_y = model.predict(X)\n",
    "    kf = KFold(n_splits= 5)\n",
    "    RMSE = []\n",
    "    for train_index, test_index in kf.split(X):\n",
    "        X_train, X_test = X.iloc[train_index], X.iloc[test_index]\n",
    "        y_train, y_test = y.iloc[train_index], y.iloc[test_index]\n",
    "        model.fit(X_train,y_train)\n",
    "        pred_y = model.predict(X_test)\n",
    "        RMSE.append(math.sqrt(mean_squared_error(y_test, pred_y)))\n",
    "        print('RMSE:',math.sqrt(mean_squared_error(y_test, pred_y)))\n",
    "    print(\"Cross-Validation RMSE {0}\".format(np.mean(RMSE)))"
   ]
  },
  {
   "cell_type": "code",
   "execution_count": 47,
   "metadata": {
    "colab": {
     "base_uri": "https://localhost:8080/",
     "height": 353
    },
    "id": "CY-SY9SjhlnJ",
    "outputId": "9f640f92-735c-4713-96f3-add676732585"
   },
   "outputs": [
    {
     "ename": "KeyboardInterrupt",
     "evalue": "ignored",
     "output_type": "error",
     "traceback": [
      "\u001b[0;31m---------------------------------------------------------------------------\u001b[0m",
      "\u001b[0;31mKeyboardInterrupt\u001b[0m                         Traceback (most recent call last)",
      "\u001b[0;32m<ipython-input-47-63d6f930437a>\u001b[0m in \u001b[0;36m<module>\u001b[0;34m()\u001b[0m\n\u001b[1;32m      2\u001b[0m \u001b[0;34m\u001b[0m\u001b[0m\n\u001b[1;32m      3\u001b[0m \u001b[0mxgboost\u001b[0m \u001b[0;34m=\u001b[0m \u001b[0mXGBClassifier\u001b[0m\u001b[0;34m(\u001b[0m\u001b[0mrandom_state\u001b[0m \u001b[0;34m=\u001b[0m \u001b[0;36m1\u001b[0m\u001b[0;34m)\u001b[0m\u001b[0;34m\u001b[0m\u001b[0;34m\u001b[0m\u001b[0m\n\u001b[0;32m----> 4\u001b[0;31m \u001b[0mxgboost\u001b[0m\u001b[0;34m.\u001b[0m\u001b[0mfit\u001b[0m\u001b[0;34m(\u001b[0m\u001b[0mX_train\u001b[0m\u001b[0;34m,\u001b[0m \u001b[0my_train\u001b[0m\u001b[0;34m.\u001b[0m\u001b[0mvalues\u001b[0m\u001b[0;34m.\u001b[0m\u001b[0mravel\u001b[0m\u001b[0;34m(\u001b[0m\u001b[0;34m)\u001b[0m\u001b[0;34m)\u001b[0m\u001b[0;34m\u001b[0m\u001b[0;34m\u001b[0m\u001b[0m\n\u001b[0m",
      "\u001b[0;32m/usr/local/lib/python3.7/dist-packages/xgboost/sklearn.py\u001b[0m in \u001b[0;36mfit\u001b[0;34m(self, X, y, sample_weight, eval_set, eval_metric, early_stopping_rounds, verbose, xgb_model, sample_weight_eval_set, callbacks)\u001b[0m\n\u001b[1;32m    730\u001b[0m                               \u001b[0mevals_result\u001b[0m\u001b[0;34m=\u001b[0m\u001b[0mevals_result\u001b[0m\u001b[0;34m,\u001b[0m \u001b[0mobj\u001b[0m\u001b[0;34m=\u001b[0m\u001b[0mobj\u001b[0m\u001b[0;34m,\u001b[0m \u001b[0mfeval\u001b[0m\u001b[0;34m=\u001b[0m\u001b[0mfeval\u001b[0m\u001b[0;34m,\u001b[0m\u001b[0;34m\u001b[0m\u001b[0;34m\u001b[0m\u001b[0m\n\u001b[1;32m    731\u001b[0m                               \u001b[0mverbose_eval\u001b[0m\u001b[0;34m=\u001b[0m\u001b[0mverbose\u001b[0m\u001b[0;34m,\u001b[0m \u001b[0mxgb_model\u001b[0m\u001b[0;34m=\u001b[0m\u001b[0mxgb_model\u001b[0m\u001b[0;34m,\u001b[0m\u001b[0;34m\u001b[0m\u001b[0;34m\u001b[0m\u001b[0m\n\u001b[0;32m--> 732\u001b[0;31m                               callbacks=callbacks)\n\u001b[0m\u001b[1;32m    733\u001b[0m \u001b[0;34m\u001b[0m\u001b[0m\n\u001b[1;32m    734\u001b[0m         \u001b[0mself\u001b[0m\u001b[0;34m.\u001b[0m\u001b[0mobjective\u001b[0m \u001b[0;34m=\u001b[0m \u001b[0mxgb_options\u001b[0m\u001b[0;34m[\u001b[0m\u001b[0;34m\"objective\"\u001b[0m\u001b[0;34m]\u001b[0m\u001b[0;34m\u001b[0m\u001b[0;34m\u001b[0m\u001b[0m\n",
      "\u001b[0;32m/usr/local/lib/python3.7/dist-packages/xgboost/training.py\u001b[0m in \u001b[0;36mtrain\u001b[0;34m(params, dtrain, num_boost_round, evals, obj, feval, maximize, early_stopping_rounds, evals_result, verbose_eval, xgb_model, callbacks, learning_rates)\u001b[0m\n\u001b[1;32m    214\u001b[0m                            \u001b[0mevals\u001b[0m\u001b[0;34m=\u001b[0m\u001b[0mevals\u001b[0m\u001b[0;34m,\u001b[0m\u001b[0;34m\u001b[0m\u001b[0;34m\u001b[0m\u001b[0m\n\u001b[1;32m    215\u001b[0m                            \u001b[0mobj\u001b[0m\u001b[0;34m=\u001b[0m\u001b[0mobj\u001b[0m\u001b[0;34m,\u001b[0m \u001b[0mfeval\u001b[0m\u001b[0;34m=\u001b[0m\u001b[0mfeval\u001b[0m\u001b[0;34m,\u001b[0m\u001b[0;34m\u001b[0m\u001b[0;34m\u001b[0m\u001b[0m\n\u001b[0;32m--> 216\u001b[0;31m                            xgb_model=xgb_model, callbacks=callbacks)\n\u001b[0m\u001b[1;32m    217\u001b[0m \u001b[0;34m\u001b[0m\u001b[0m\n\u001b[1;32m    218\u001b[0m \u001b[0;34m\u001b[0m\u001b[0m\n",
      "\u001b[0;32m/usr/local/lib/python3.7/dist-packages/xgboost/training.py\u001b[0m in \u001b[0;36m_train_internal\u001b[0;34m(params, dtrain, num_boost_round, evals, obj, feval, xgb_model, callbacks)\u001b[0m\n\u001b[1;32m     72\u001b[0m         \u001b[0;31m# Skip the first update if it is a recovery step.\u001b[0m\u001b[0;34m\u001b[0m\u001b[0;34m\u001b[0m\u001b[0;34m\u001b[0m\u001b[0m\n\u001b[1;32m     73\u001b[0m         \u001b[0;32mif\u001b[0m \u001b[0mversion\u001b[0m \u001b[0;34m%\u001b[0m \u001b[0;36m2\u001b[0m \u001b[0;34m==\u001b[0m \u001b[0;36m0\u001b[0m\u001b[0;34m:\u001b[0m\u001b[0;34m\u001b[0m\u001b[0;34m\u001b[0m\u001b[0m\n\u001b[0;32m---> 74\u001b[0;31m             \u001b[0mbst\u001b[0m\u001b[0;34m.\u001b[0m\u001b[0mupdate\u001b[0m\u001b[0;34m(\u001b[0m\u001b[0mdtrain\u001b[0m\u001b[0;34m,\u001b[0m \u001b[0mi\u001b[0m\u001b[0;34m,\u001b[0m \u001b[0mobj\u001b[0m\u001b[0;34m)\u001b[0m\u001b[0;34m\u001b[0m\u001b[0;34m\u001b[0m\u001b[0m\n\u001b[0m\u001b[1;32m     75\u001b[0m             \u001b[0mbst\u001b[0m\u001b[0;34m.\u001b[0m\u001b[0msave_rabit_checkpoint\u001b[0m\u001b[0;34m(\u001b[0m\u001b[0;34m)\u001b[0m\u001b[0;34m\u001b[0m\u001b[0;34m\u001b[0m\u001b[0m\n\u001b[1;32m     76\u001b[0m             \u001b[0mversion\u001b[0m \u001b[0;34m+=\u001b[0m \u001b[0;36m1\u001b[0m\u001b[0;34m\u001b[0m\u001b[0;34m\u001b[0m\u001b[0m\n",
      "\u001b[0;32m/usr/local/lib/python3.7/dist-packages/xgboost/core.py\u001b[0m in \u001b[0;36mupdate\u001b[0;34m(self, dtrain, iteration, fobj)\u001b[0m\n\u001b[1;32m   1107\u001b[0m         \u001b[0;32mif\u001b[0m \u001b[0mfobj\u001b[0m \u001b[0;32mis\u001b[0m \u001b[0;32mNone\u001b[0m\u001b[0;34m:\u001b[0m\u001b[0;34m\u001b[0m\u001b[0;34m\u001b[0m\u001b[0m\n\u001b[1;32m   1108\u001b[0m             _check_call(_LIB.XGBoosterUpdateOneIter(self.handle, ctypes.c_int(iteration),\n\u001b[0;32m-> 1109\u001b[0;31m                                                     dtrain.handle))\n\u001b[0m\u001b[1;32m   1110\u001b[0m         \u001b[0;32melse\u001b[0m\u001b[0;34m:\u001b[0m\u001b[0;34m\u001b[0m\u001b[0;34m\u001b[0m\u001b[0m\n\u001b[1;32m   1111\u001b[0m             \u001b[0mpred\u001b[0m \u001b[0;34m=\u001b[0m \u001b[0mself\u001b[0m\u001b[0;34m.\u001b[0m\u001b[0mpredict\u001b[0m\u001b[0;34m(\u001b[0m\u001b[0mdtrain\u001b[0m\u001b[0;34m)\u001b[0m\u001b[0;34m\u001b[0m\u001b[0;34m\u001b[0m\u001b[0m\n",
      "\u001b[0;31mKeyboardInterrupt\u001b[0m: "
     ]
    }
   ],
   "source": [
    "y1 = y_train\n",
    "X1 = X_train\n",
    "# RandomForest\n",
    "print('---------------')\n",
    "model1 = RandomForestClassifier(n_estimators=200)\n",
    "HW_model(model1, X1, y1 )\n",
    "#Decision Tree\n",
    "print('---------------')\n",
    "model2 = DecisionTreeClassifier()\n",
    "HW_model(model2, X1, y1 )\n",
    "#SVM\n",
    "print('---------------')\n",
    "model3 = SVC()\n",
    "HW_model(model3, X1, y1)\n",
    "#Xgboost\n",
    "print('---------------')\n",
    "data_dmatrix = xgb.DMatrix(data=X1,label=y1)\n",
    "\n",
    "params = {'colsample_bytree': 0.3,'learning_rate': 0.1,\n",
    "                'max_depth': 5, 'alpha': 10}\n",
    "\n",
    "cv_results = xgb.cv(dtrain=data_dmatrix, params=params, nfold=5,early_stopping_rounds=10,\n",
    "                    metrics=\"rmse\", as_pandas=True, seed=1)\n",
    "print((cv_results[\"test-rmse-mean\"]).tail(1))"
   ]
  },
  {
   "cell_type": "markdown",
   "metadata": {},
   "source": [
    "If decision tree is better, create a series with feature importances:"
   ]
  },
  {
   "cell_type": "code",
   "execution_count": null,
   "metadata": {
    "id": "Hqgcls1yhlnJ"
   },
   "outputs": [],
   "source": [
    "np.random.seed(123)\n",
    "model2 = DecisionTreeClassifier()\n",
    "factor_model(model2, X1, y1)\n",
    "featimp = pd.Series(model2.feature_importances_, index=['AIRLINE','ORIGIN_AIRPORT','DESTINATION_AIRPORT','DEPARTURE_DELAY',\n",
    "                         'SCHEDULED_TIME','DISTANCE','AIR_SYSTEM_DELAY','SECURITY_DELAY',\n",
    "                         'AIRLINE_DELAY','LATE_AIRCRAFT_DELAY','WEATHER_DELAY',\n",
    "                         'OR_LATITUDE','OR_LONGITUDE','DES_LATITUDE','DES_LONGITUDE',\n",
    "                         'WEEKEND_DE','HOUR_DE','SPEED']).sort_values(ascending=False)\n",
    "print(featimp)"
   ]
  },
  {
   "cell_type": "markdown",
   "metadata": {},
   "source": [
    "If XGboosting is better:"
   ]
  },
  {
   "cell_type": "code",
   "execution_count": null,
   "metadata": {
    "id": "-CoVEIg_hlnJ"
   },
   "outputs": [],
   "source": [
    "#plot\n",
    "xg_reg = xgb.train(params=params, dtrain=data_dmatrix, num_boost_round=10)\n",
    "xgb.plot_tree(xg_reg,num_trees=0)\n",
    "plt.rcParams['figure.figsize'] = [50, 10]\n",
    "plt.savefig('xgboost')\n",
    "plt.show()"
   ]
  },
  {
   "cell_type": "code",
   "execution_count": null,
   "metadata": {
    "id": "eqGGZtsuhlnJ"
   },
   "outputs": [],
   "source": [
    "xgb.plot_importance(xg_reg)\n",
    "plt.rcParams['figure.figsize'] = [5, 5]\n",
    "plt.savefig('xgboost2')\n",
    "plt.show()"
   ]
  },
  {
   "cell_type": "markdown",
   "metadata": {
    "id": "N_T7VRgahlnK"
   },
   "source": [
    "### B. Treat 'arrival delay' as a dummy variable - Prediction"
   ]
  },
  {
   "cell_type": "markdown",
   "metadata": {
    "id": "tDK2z2GMhlnK"
   },
   "source": [
    "### Under-sampling issue"
   ]
  },
  {
   "cell_type": "code",
   "execution_count": null,
   "metadata": {
    "id": "rWLhmRUQhlnK"
   },
   "outputs": [],
   "source": [
    "f, ax = plt.subplots(figsize=(10, 10))\n",
    "sns.countplot(x='ARRIVAL_DELAY',data=df_final)\n",
    "# unbalanced tag"
   ]
  },
  {
   "cell_type": "code",
   "execution_count": null,
   "metadata": {
    "id": "_uaskvemhlnK"
   },
   "outputs": [],
   "source": [
    "#unbalance study \n",
    "import imblearn\n",
    "from imblearn.under_sampling import RandomUnderSampler \n",
    "\n",
    "undersample = RandomUnderSampler(sampling_strategy=0.5)\n",
    "cols = df_final.columns.tolist()\n",
    "cols = [c for c in cols if c not in ['ARRIVAL_DELAY']]\n",
    "target = 'ARRIVAL_DELAY'"
   ]
  },
  {
   "cell_type": "markdown",
   "metadata": {
    "id": "_4CSNTKrhlnK"
   },
   "source": [
    "Define our features and target."
   ]
  },
  {
   "cell_type": "code",
   "execution_count": null,
   "metadata": {
    "id": "WdGRRp2ohlnK"
   },
   "outputs": [],
   "source": [
    "features = ['AIRLINE','ORIGIN_AIRPORT','DESTINATION_AIRPORT','DISTANCE','OR_STATE','OR_LATITUDE','OR_LONGITUDE','DES_STATE','DES_LATITUDE','DES_LONGITUDE','WEEKEND_DE','HOUR_DE']\n",
    "target = [\"ARRIVAL_DELAY\"]"
   ]
  },
  {
   "cell_type": "code",
   "execution_count": null,
   "metadata": {
    "id": "2kF4fL21hlnK"
   },
   "outputs": [],
   "source": [
    "#undersample\n",
    "features_new, target_new = undersample.fit_resample(df_final[features], df_final[target])"
   ]
  },
  {
   "cell_type": "code",
   "execution_count": null,
   "metadata": {
    "id": "1CQ4KlUhhlnL"
   },
   "outputs": [],
   "source": [
    "test = pd.DataFrame(y_new, columns = ['ARRIVAL_DELAY'])"
   ]
  },
  {
   "cell_type": "code",
   "execution_count": null,
   "metadata": {
    "id": "RAOLlNnqhlnL"
   },
   "outputs": [],
   "source": [
    "#visualizing undersampling results\n",
    "fig, axs = plt.subplots(ncols=2, figsize=(13,4.5))\n",
    "sns.countplot(x='ARRIVAL_DELAY', data=df_final, ax=axs[0])\n",
    "sns.countplot(x='ARRIVAL_DELAY', data=test, ax=axs[1])\n",
    "\n",
    "fig.suptitle(\"Class repartition before and after undersampling\")\n",
    "a1=fig.axes[0]\n",
    "a1.set_title(\"Before\")\n",
    "a2=fig.axes[1]\n",
    "a2.set_title(\"After\")"
   ]
  },
  {
   "cell_type": "markdown",
   "metadata": {
    "id": "SUUfInsPhlnL"
   },
   "source": [
    "### Split test and train"
   ]
  },
  {
   "cell_type": "markdown",
   "metadata": {
    "id": "9SgoUiH3hlnL"
   },
   "source": [
    "#### Column Transform\n"
   ]
  },
  {
   "cell_type": "markdown",
   "metadata": {
    "id": "1ID3WZ73hlnL"
   },
   "source": [
    "We assume that we don't have \"outliers\", in other words, all infomation recorded are correct and meaningful, even though they are extreme."
   ]
  },
  {
   "cell_type": "code",
   "execution_count": 62,
   "metadata": {
    "colab": {
     "base_uri": "https://localhost:8080/",
     "height": 186
    },
    "id": "IezyDsl6hlnL",
    "outputId": "cca1d98b-ad7e-4f23-8c69-f71c7cc686e7"
   },
   "outputs": [
    {
     "ename": "NameError",
     "evalue": "ignored",
     "output_type": "error",
     "traceback": [
      "\u001b[0;31m---------------------------------------------------------------------------\u001b[0m",
      "\u001b[0;31mNameError\u001b[0m                                 Traceback (most recent call last)",
      "\u001b[0;32m<ipython-input-62-180097daee0e>\u001b[0m in \u001b[0;36m<module>\u001b[0;34m()\u001b[0m\n\u001b[0;32m----> 1\u001b[0;31m \u001b[0mX_type\u001b[0m \u001b[0;34m=\u001b[0m \u001b[0mnp\u001b[0m\u001b[0;34m.\u001b[0m\u001b[0marray\u001b[0m\u001b[0;34m(\u001b[0m\u001b[0mfeatures_new\u001b[0m\u001b[0;34m.\u001b[0m\u001b[0mdtypes\u001b[0m\u001b[0;34m)\u001b[0m\u001b[0;34m\u001b[0m\u001b[0;34m\u001b[0m\u001b[0m\n\u001b[0m\u001b[1;32m      2\u001b[0m \u001b[0mprint\u001b[0m\u001b[0;34m(\u001b[0m\u001b[0mX_type\u001b[0m\u001b[0;34m)\u001b[0m\u001b[0;34m\u001b[0m\u001b[0;34m\u001b[0m\u001b[0m\n",
      "\u001b[0;31mNameError\u001b[0m: name 'features_new' is not defined"
     ]
    }
   ],
   "source": [
    "X_type = np.array(features_new.dtypes)\n",
    "print(X_type)"
   ]
  },
  {
   "cell_type": "markdown",
   "metadata": {
    "id": "H0iBHBpLhlnM"
   },
   "source": [
    "detype ('O'): airline,origin airport, destination airport, state (one-hot encoding), \n",
    "\n",
    "detype ('int64'): weekend and hour (to string and one-hot encoding), distance (standardize) \n",
    "\n",
    "dtype('float64'): latitude and longtitude (as it is)"
   ]
  },
  {
   "cell_type": "code",
   "execution_count": 63,
   "metadata": {
    "colab": {
     "base_uri": "https://localhost:8080/",
     "height": 186
    },
    "id": "khkYcHlmhlnM",
    "outputId": "da00cc97-f8fe-415a-f465-2decaa607a2f"
   },
   "outputs": [
    {
     "ename": "NameError",
     "evalue": "ignored",
     "output_type": "error",
     "traceback": [
      "\u001b[0;31m---------------------------------------------------------------------------\u001b[0m",
      "\u001b[0;31mNameError\u001b[0m                                 Traceback (most recent call last)",
      "\u001b[0;32m<ipython-input-63-6f06cf56d96e>\u001b[0m in \u001b[0;36m<module>\u001b[0;34m()\u001b[0m\n\u001b[0;32m----> 1\u001b[0;31m \u001b[0mfeatures_new\u001b[0m\u001b[0;34m[\u001b[0m\u001b[0;34m'WEEKEND_DE'\u001b[0m\u001b[0;34m]\u001b[0m \u001b[0;34m=\u001b[0m \u001b[0mfeatures_new\u001b[0m\u001b[0;34m[\u001b[0m\u001b[0;34m'WEEKEND_DE'\u001b[0m\u001b[0;34m]\u001b[0m\u001b[0;34m.\u001b[0m\u001b[0mastype\u001b[0m\u001b[0;34m(\u001b[0m\u001b[0;34m'O'\u001b[0m\u001b[0;34m)\u001b[0m\u001b[0;34m\u001b[0m\u001b[0;34m\u001b[0m\u001b[0m\n\u001b[0m\u001b[1;32m      2\u001b[0m \u001b[0mfeatures_new\u001b[0m\u001b[0;34m[\u001b[0m\u001b[0;34m'HOUR_DE'\u001b[0m\u001b[0;34m]\u001b[0m \u001b[0;34m=\u001b[0m \u001b[0mfeatures_new\u001b[0m\u001b[0;34m[\u001b[0m\u001b[0;34m'HOUR_DE'\u001b[0m\u001b[0;34m]\u001b[0m\u001b[0;34m.\u001b[0m\u001b[0mastype\u001b[0m\u001b[0;34m(\u001b[0m\u001b[0;34m'O'\u001b[0m\u001b[0;34m)\u001b[0m\u001b[0;34m\u001b[0m\u001b[0;34m\u001b[0m\u001b[0m\n",
      "\u001b[0;31mNameError\u001b[0m: name 'features_new' is not defined"
     ]
    }
   ],
   "source": [
    "features_new['WEEKEND_DE'] = features_new['WEEKEND_DE'].astype(str)\n",
    "features_new['DISTANCE'] = features_new['DISTANCE'].astype(float)\n",
    "features_new['HOUR_DE'] = features_new['HOUR_DE'].astype(float)\n",
    "target_new['ARRIVAL_DELAY'] = target_new['ARRIVAL_DELAY'].astype(str)"
   ]
  },
  {
   "cell_type": "code",
   "execution_count": null,
   "metadata": {
    "id": "DuuLTnQ0hlnM"
   },
   "outputs": [],
   "source": [
    "numerical_ix = X_type==np.dtype('float64')\n",
    "numerical_cols = np.where(numerical_ix)\n",
    "\n",
    "categorical_ix = X_type==np.dtype('O')\n",
    "categorical_cols = np.where(categorical_ix)\n",
    "\n",
    "print('categorical cols:',categorical_cols[0])\n",
    "print('numerical cols:',numerical_cols[0])"
   ]
  },
  {
   "cell_type": "code",
   "execution_count": null,
   "metadata": {
    "id": "aYygqWXEhlnN"
   },
   "outputs": [],
   "source": [
    "t = [('cat', OneHotEncoder(sparse = False), categorical_cols[0]), ('num', StandardScaler(), numerical_cols[0])]\n",
    "col_transform = ColumnTransformer(transformers=t)"
   ]
  },
  {
   "cell_type": "code",
   "execution_count": null,
   "metadata": {
    "id": "kggV8zc3hlnN"
   },
   "outputs": [],
   "source": [
    "X_new = col_transform.fit_transform(features_new)\n",
    "print(X_new.shape)"
   ]
  },
  {
   "cell_type": "code",
   "execution_count": null,
   "metadata": {
    "id": "FFz3gLkWhlnN"
   },
   "outputs": [],
   "source": [
    "Y_new = OneHotEncoder().fit_transform(target_new)\n",
    "print(Y_new.shape)"
   ]
  },
  {
   "cell_type": "code",
   "execution_count": null,
   "metadata": {
    "id": "T09kPx5qhlnN"
   },
   "outputs": [],
   "source": [
    "X_train2, X_test2, y_train2, y_test2 = train_test_split(X_new, Y_new, random_state=123, test_size=0.4, shuffle=True)"
   ]
  },
  {
   "cell_type": "markdown",
   "metadata": {
    "id": "UuLO2QqGhlnN"
   },
   "source": [
    "### Model Training"
   ]
  },
  {
   "cell_type": "markdown",
   "metadata": {},
   "source": [
    "Load all packages for modelling"
   ]
  },
  {
   "cell_type": "code",
   "execution_count": null,
   "metadata": {
    "id": "1WGliUFQhlnO"
   },
   "outputs": [],
   "source": [
    "from sklearn.linear_model import LogisticRegression\n",
    "from sklearn.neighbors import KNeighborsClassifier\n",
    "from sklearn.tree import DecisionTreeClassifier\n",
    "from sklearn.ensemble import RandomForestClassifier\n",
    "from imblearn.ensemble import BalancedBaggingClassifier\n",
    "from sklearn.ensemble import GradientBoostingClassifier\n",
    "\n",
    "\n",
    "from sklearn.metrics import accuracy_score\n",
    "from sklearn import metrics\n",
    "from sklearn.metrics import confusion_matrix\n",
    "from sklearn.metrics import roc_curve\n",
    "from sklearn.metrics import roc_auc_score\n",
    "from sklearn.metrics import auc\n",
    "from sklearn.metrics import precision_recall_curve\n",
    "from sklearn.metrics import classification_report\n",
    "from xgboost.sklearn import XGBClassifier"
   ]
  },
  {
   "cell_type": "code",
   "execution_count": null,
   "metadata": {},
   "outputs": [],
   "source": [
    "# logistic Regression\n",
    "lr = LogisticRegression(max_iter = 10000, random_state = 0)\n",
    "\n",
    "# K nearesat neighbors\n",
    "knn = KNeighborsClassifier()\n",
    "\n",
    "# Decision Tree\n",
    "dt = DecisionTreeClassifier(random_state = 123)\n",
    "\n",
    "# Bagging\n",
    "bag = BalancedBaggingClassifier(base_estimator = RandomForestClassifier(),\n",
    "                                 sampling_strategy = 'auto',\n",
    "                                 replacement = False,\n",
    "                                 random_state = 123)\n",
    "\n",
    "# Random Forest\n",
    "rfc = RandomForestClassifier(random_state = 123)\n",
    "\n",
    "# Gradient Boosting\n",
    "gbc = GradientBoostingClassifier(random_state = 123)\n",
    "\n",
    "# XG Boosting\n",
    "xgboost = XGBClassifier(random_state=123)"
   ]
  },
  {
   "cell_type": "markdown",
   "metadata": {},
   "source": [
    "#### The Pipeline"
   ]
  },
  {
   "cell_type": "code",
   "execution_count": null,
   "metadata": {
    "id": "Xe7ZQSslhlnO"
   },
   "outputs": [],
   "source": [
    "score = []\n",
    "auc = []\n",
    "\n",
    "for mymodels in [lr, knn, dt, bag, rfc, gbc]:\n",
    "    model_pipeline = Pipeline(steps=[('prep', col_transform), \n",
    "                                 ('model', mymodels)\n",
    "                                 ])\n",
    "    model_pipeline.fit(X_train,y_train.values.ravel())\n",
    "    score.append(accuracy_score(y_test.values.ravel(), model_pipeline.predict(X_test)))\n",
    "    auc.append(metrics.roc_auc_score(y_test.values.ravel(), model_pipeline.predict(X_test)))\n",
    "    \n",
    "print(np.round(score, 4))  \n",
    "print(np.round(auc, 4))  "
   ]
  },
  {
   "cell_type": "code",
   "execution_count": null,
   "metadata": {
    "id": "M9qSwXtKhlnP"
   },
   "outputs": [],
   "source": []
  }
 ],
 "metadata": {
  "accelerator": "TPU",
  "colab": {
   "name": "Data_Preprocessing_v3&Modelling.ipynb",
   "provenance": []
  },
  "kernelspec": {
   "display_name": "Python 3",
   "language": "python",
   "name": "python3"
  },
  "language_info": {
   "codemirror_mode": {
    "name": "ipython",
    "version": 3
   },
   "file_extension": ".py",
   "mimetype": "text/x-python",
   "name": "python",
   "nbconvert_exporter": "python",
   "pygments_lexer": "ipython3",
   "version": "3.8.3"
  },
  "toc": {
   "base_numbering": 1,
   "nav_menu": {},
   "number_sections": true,
   "sideBar": true,
   "skip_h1_title": false,
   "title_cell": "Table of Contents",
   "title_sidebar": "Contents",
   "toc_cell": false,
   "toc_position": {},
   "toc_section_display": true,
   "toc_window_display": false
  },
  "varInspector": {
   "cols": {
    "lenName": 16,
    "lenType": 16,
    "lenVar": 40
   },
   "kernels_config": {
    "python": {
     "delete_cmd_postfix": "",
     "delete_cmd_prefix": "del ",
     "library": "var_list.py",
     "varRefreshCmd": "print(var_dic_list())"
    },
    "r": {
     "delete_cmd_postfix": ") ",
     "delete_cmd_prefix": "rm(",
     "library": "var_list.r",
     "varRefreshCmd": "cat(var_dic_list()) "
    }
   },
   "types_to_exclude": [
    "module",
    "function",
    "builtin_function_or_method",
    "instance",
    "_Feature"
   ],
   "window_display": false
  }
 },
 "nbformat": 4,
 "nbformat_minor": 1
}
