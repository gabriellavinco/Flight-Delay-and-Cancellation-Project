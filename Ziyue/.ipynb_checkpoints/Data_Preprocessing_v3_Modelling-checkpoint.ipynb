{
 "cells": [
  {
   "cell_type": "markdown",
   "metadata": {},
   "source": [
    "# Travel Agency - Delay Prediction"
   ]
  },
  {
   "cell_type": "markdown",
   "metadata": {},
   "source": [
    "## Load packages and data"
   ]
  },
  {
   "cell_type": "markdown",
   "metadata": {},
   "source": [
    "Change your path here:"
   ]
  },
  {
   "cell_type": "code",
   "execution_count": 295,
   "metadata": {},
   "outputs": [
    {
     "name": "stdout",
     "output_type": "stream",
     "text": [
      "D:\\KU Leuven\\2022 Spring\\statistical consulting\\Group Project\\data_travel_agency\n"
     ]
    }
   ],
   "source": [
    "cd \"D:\\KU Leuven\\2022 Spring\\statistical consulting\\Group Project\\data_travel_agency\""
   ]
  },
  {
   "cell_type": "code",
   "execution_count": 296,
   "metadata": {},
   "outputs": [
    {
     "name": "stdout",
     "output_type": "stream",
     "text": [
      "Requirement already satisfied: seaborn in d:\\anaconda\\lib\\site-packages (0.10.1)\n",
      "Requirement already satisfied: matplotlib>=2.1.2 in d:\\anaconda\\lib\\site-packages (from seaborn) (3.2.2)\n",
      "Requirement already satisfied: numpy>=1.13.3 in d:\\anaconda\\lib\\site-packages (from seaborn) (1.22.3)\n",
      "Requirement already satisfied: scipy>=1.0.1 in d:\\anaconda\\lib\\site-packages (from seaborn) (1.5.0)\n",
      "Requirement already satisfied: pandas>=0.22.0 in d:\\anaconda\\lib\\site-packages (from seaborn) (1.0.5)\n",
      "Requirement already satisfied: pyparsing!=2.0.4,!=2.1.2,!=2.1.6,>=2.0.1 in d:\\anaconda\\lib\\site-packages (from matplotlib>=2.1.2->seaborn) (2.4.7)\n",
      "Requirement already satisfied: kiwisolver>=1.0.1 in d:\\anaconda\\lib\\site-packages (from matplotlib>=2.1.2->seaborn) (1.2.0)\n",
      "Requirement already satisfied: cycler>=0.10 in d:\\anaconda\\lib\\site-packages (from matplotlib>=2.1.2->seaborn) (0.10.0)\n",
      "Requirement already satisfied: python-dateutil>=2.1 in d:\\anaconda\\lib\\site-packages (from matplotlib>=2.1.2->seaborn) (2.8.1)\n",
      "Requirement already satisfied: pytz>=2017.2 in d:\\anaconda\\lib\\site-packages (from pandas>=0.22.0->seaborn) (2020.1)\n",
      "Requirement already satisfied: six in d:\\anaconda\\lib\\site-packages (from cycler>=0.10->matplotlib>=2.1.2->seaborn) (1.15.0)\n"
     ]
    }
   ],
   "source": [
    "!pip install seaborn"
   ]
  },
  {
   "cell_type": "code",
   "execution_count": 358,
   "metadata": {},
   "outputs": [],
   "source": [
    "import pandas as pd\n",
    "import numpy as np\n",
    "import seaborn as sns\n",
    "import matplotlib as mpl\n",
    "import matplotlib.pyplot as plt\n",
    "\n",
    "import datetime as dt\n",
    "from datetime import datetime, timedelta\n",
    "from dateutil.relativedelta import relativedelta\n",
    "\n",
    "from sklearn import preprocessing\n",
    "from sklearn.model_selection import train_test_split\n",
    "from sklearn.compose import ColumnTransformer\n",
    "from sklearn.preprocessing import OneHotEncoder\n",
    "from sklearn.preprocessing import StandardScaler\n",
    "from sklearn.preprocessing import LabelEncoder\n",
    "from sklearn.preprocessing import Normalizer"
   ]
  },
  {
   "cell_type": "markdown",
   "metadata": {},
   "source": [
    "Load the four datasets provided."
   ]
  },
  {
   "cell_type": "code",
   "execution_count": 298,
   "metadata": {},
   "outputs": [
    {
     "data": {
      "text/html": [
       "<div>\n",
       "<style scoped>\n",
       "    .dataframe tbody tr th:only-of-type {\n",
       "        vertical-align: middle;\n",
       "    }\n",
       "\n",
       "    .dataframe tbody tr th {\n",
       "        vertical-align: top;\n",
       "    }\n",
       "\n",
       "    .dataframe thead th {\n",
       "        text-align: right;\n",
       "    }\n",
       "</style>\n",
       "<table border=\"1\" class=\"dataframe\">\n",
       "  <thead>\n",
       "    <tr style=\"text-align: right;\">\n",
       "      <th></th>\n",
       "      <th>IATA_CODE,AIRLINE</th>\n",
       "    </tr>\n",
       "  </thead>\n",
       "  <tbody>\n",
       "    <tr>\n",
       "      <th>0</th>\n",
       "      <td>UA,United Air Lines Inc.</td>\n",
       "    </tr>\n",
       "    <tr>\n",
       "      <th>1</th>\n",
       "      <td>AA,American Airlines Inc.</td>\n",
       "    </tr>\n",
       "    <tr>\n",
       "      <th>2</th>\n",
       "      <td>US,US Airways Inc.</td>\n",
       "    </tr>\n",
       "    <tr>\n",
       "      <th>3</th>\n",
       "      <td>F9,Frontier Airlines Inc.</td>\n",
       "    </tr>\n",
       "    <tr>\n",
       "      <th>4</th>\n",
       "      <td>B6,JetBlue Airways</td>\n",
       "    </tr>\n",
       "  </tbody>\n",
       "</table>\n",
       "</div>"
      ],
      "text/plain": [
       "           IATA_CODE,AIRLINE\n",
       "0   UA,United Air Lines Inc.\n",
       "1  AA,American Airlines Inc.\n",
       "2         US,US Airways Inc.\n",
       "3  F9,Frontier Airlines Inc.\n",
       "4         B6,JetBlue Airways"
      ]
     },
     "execution_count": 298,
     "metadata": {},
     "output_type": "execute_result"
    }
   ],
   "source": [
    "df_airlines = pd.read_csv('airlines.csv', thousands=',', delimiter=';', na_values=' ')\n",
    "df_airlines.head()"
   ]
  },
  {
   "cell_type": "code",
   "execution_count": 299,
   "metadata": {},
   "outputs": [
    {
     "data": {
      "text/html": [
       "<div>\n",
       "<style scoped>\n",
       "    .dataframe tbody tr th:only-of-type {\n",
       "        vertical-align: middle;\n",
       "    }\n",
       "\n",
       "    .dataframe tbody tr th {\n",
       "        vertical-align: top;\n",
       "    }\n",
       "\n",
       "    .dataframe thead th {\n",
       "        text-align: right;\n",
       "    }\n",
       "</style>\n",
       "<table border=\"1\" class=\"dataframe\">\n",
       "  <thead>\n",
       "    <tr style=\"text-align: right;\">\n",
       "      <th></th>\n",
       "      <th>IATA_CODE</th>\n",
       "      <th>AIRPORT</th>\n",
       "      <th>CITY</th>\n",
       "      <th>STATE</th>\n",
       "      <th>COUNTRY</th>\n",
       "      <th>LATITUDE</th>\n",
       "      <th>LONGITUDE</th>\n",
       "    </tr>\n",
       "  </thead>\n",
       "  <tbody>\n",
       "    <tr>\n",
       "      <th>0</th>\n",
       "      <td>ABE</td>\n",
       "      <td>Lehigh Valley International Airport</td>\n",
       "      <td>Allentown</td>\n",
       "      <td>PA</td>\n",
       "      <td>USA</td>\n",
       "      <td>40.65236</td>\n",
       "      <td>-75.44040</td>\n",
       "    </tr>\n",
       "    <tr>\n",
       "      <th>1</th>\n",
       "      <td>ABI</td>\n",
       "      <td>Abilene Regional Airport</td>\n",
       "      <td>Abilene</td>\n",
       "      <td>TX</td>\n",
       "      <td>USA</td>\n",
       "      <td>32.41132</td>\n",
       "      <td>-99.68190</td>\n",
       "    </tr>\n",
       "    <tr>\n",
       "      <th>2</th>\n",
       "      <td>ABQ</td>\n",
       "      <td>Albuquerque International Sunport</td>\n",
       "      <td>Albuquerque</td>\n",
       "      <td>NM</td>\n",
       "      <td>USA</td>\n",
       "      <td>35.04022</td>\n",
       "      <td>-106.60919</td>\n",
       "    </tr>\n",
       "    <tr>\n",
       "      <th>3</th>\n",
       "      <td>ABR</td>\n",
       "      <td>Aberdeen Regional Airport</td>\n",
       "      <td>Aberdeen</td>\n",
       "      <td>SD</td>\n",
       "      <td>USA</td>\n",
       "      <td>45.44906</td>\n",
       "      <td>-98.42183</td>\n",
       "    </tr>\n",
       "    <tr>\n",
       "      <th>4</th>\n",
       "      <td>ABY</td>\n",
       "      <td>Southwest Georgia Regional Airport</td>\n",
       "      <td>Albany</td>\n",
       "      <td>GA</td>\n",
       "      <td>USA</td>\n",
       "      <td>31.53552</td>\n",
       "      <td>-84.19447</td>\n",
       "    </tr>\n",
       "  </tbody>\n",
       "</table>\n",
       "</div>"
      ],
      "text/plain": [
       "  IATA_CODE                              AIRPORT         CITY STATE COUNTRY  \\\n",
       "0       ABE  Lehigh Valley International Airport    Allentown    PA     USA   \n",
       "1       ABI             Abilene Regional Airport      Abilene    TX     USA   \n",
       "2       ABQ    Albuquerque International Sunport  Albuquerque    NM     USA   \n",
       "3       ABR            Aberdeen Regional Airport     Aberdeen    SD     USA   \n",
       "4       ABY   Southwest Georgia Regional Airport       Albany    GA     USA   \n",
       "\n",
       "   LATITUDE  LONGITUDE  \n",
       "0  40.65236  -75.44040  \n",
       "1  32.41132  -99.68190  \n",
       "2  35.04022 -106.60919  \n",
       "3  45.44906  -98.42183  \n",
       "4  31.53552  -84.19447  "
      ]
     },
     "execution_count": 299,
     "metadata": {},
     "output_type": "execute_result"
    }
   ],
   "source": [
    "df_airports = pd.read_csv('airports.csv')\n",
    "df_airports.head()"
   ]
  },
  {
   "cell_type": "code",
   "execution_count": 300,
   "metadata": {},
   "outputs": [
    {
     "data": {
      "text/html": [
       "<div>\n",
       "<style scoped>\n",
       "    .dataframe tbody tr th:only-of-type {\n",
       "        vertical-align: middle;\n",
       "    }\n",
       "\n",
       "    .dataframe tbody tr th {\n",
       "        vertical-align: top;\n",
       "    }\n",
       "\n",
       "    .dataframe thead th {\n",
       "        text-align: right;\n",
       "    }\n",
       "</style>\n",
       "<table border=\"1\" class=\"dataframe\">\n",
       "  <thead>\n",
       "    <tr style=\"text-align: right;\">\n",
       "      <th></th>\n",
       "      <th>SCHEDULED_DEPARTURE</th>\n",
       "      <th>DEPARTURE_TIME</th>\n",
       "      <th>SCHEDULED_ARRIVAL</th>\n",
       "      <th>ARRIVAL_TIME</th>\n",
       "      <th>AIRLINE</th>\n",
       "      <th>FLIGHT_NUMBER</th>\n",
       "      <th>TAIL_NUMBER</th>\n",
       "      <th>ORIGIN_AIRPORT</th>\n",
       "      <th>DESTINATION_AIRPORT</th>\n",
       "      <th>DEPARTURE_DELAY</th>\n",
       "      <th>...</th>\n",
       "      <th>DISTANCE</th>\n",
       "      <th>WHEELS_ON</th>\n",
       "      <th>TAXI_IN</th>\n",
       "      <th>CANCELLED</th>\n",
       "      <th>CANCELLATION_REASON</th>\n",
       "      <th>AIR_SYSTEM_DELAY</th>\n",
       "      <th>SECURITY_DELAY</th>\n",
       "      <th>AIRLINE_DELAY</th>\n",
       "      <th>LATE_AIRCRAFT_DELAY</th>\n",
       "      <th>WEATHER_DELAY</th>\n",
       "    </tr>\n",
       "  </thead>\n",
       "  <tbody>\n",
       "    <tr>\n",
       "      <th>0</th>\n",
       "      <td>2019-03-01 00:01:00</td>\n",
       "      <td>00:02:00</td>\n",
       "      <td>01:37:00</td>\n",
       "      <td>01:20:00</td>\n",
       "      <td>UA</td>\n",
       "      <td>1238</td>\n",
       "      <td>N812UA</td>\n",
       "      <td>DEN</td>\n",
       "      <td>BIL</td>\n",
       "      <td>1.0</td>\n",
       "      <td>...</td>\n",
       "      <td>455</td>\n",
       "      <td>117.0</td>\n",
       "      <td>3.0</td>\n",
       "      <td>0</td>\n",
       "      <td>NaN</td>\n",
       "      <td>NaN</td>\n",
       "      <td>NaN</td>\n",
       "      <td>NaN</td>\n",
       "      <td>NaN</td>\n",
       "      <td>NaN</td>\n",
       "    </tr>\n",
       "    <tr>\n",
       "      <th>1</th>\n",
       "      <td>2019-03-01 00:01:00</td>\n",
       "      <td>00:29:00</td>\n",
       "      <td>01:33:00</td>\n",
       "      <td>01:52:00</td>\n",
       "      <td>EV</td>\n",
       "      <td>6134</td>\n",
       "      <td>N14171</td>\n",
       "      <td>ORD</td>\n",
       "      <td>BNA</td>\n",
       "      <td>28.0</td>\n",
       "      <td>...</td>\n",
       "      <td>409</td>\n",
       "      <td>144.0</td>\n",
       "      <td>8.0</td>\n",
       "      <td>0</td>\n",
       "      <td>NaN</td>\n",
       "      <td>0.0</td>\n",
       "      <td>0.0</td>\n",
       "      <td>19.0</td>\n",
       "      <td>0.0</td>\n",
       "      <td>0.0</td>\n",
       "    </tr>\n",
       "    <tr>\n",
       "      <th>2</th>\n",
       "      <td>2019-03-01 00:01:00</td>\n",
       "      <td>NaN</td>\n",
       "      <td>01:53:00</td>\n",
       "      <td>NaN</td>\n",
       "      <td>EV</td>\n",
       "      <td>4682</td>\n",
       "      <td>N15910</td>\n",
       "      <td>ORD</td>\n",
       "      <td>BHM</td>\n",
       "      <td>NaN</td>\n",
       "      <td>...</td>\n",
       "      <td>584</td>\n",
       "      <td>NaN</td>\n",
       "      <td>NaN</td>\n",
       "      <td>1</td>\n",
       "      <td>B</td>\n",
       "      <td>NaN</td>\n",
       "      <td>NaN</td>\n",
       "      <td>NaN</td>\n",
       "      <td>NaN</td>\n",
       "      <td>NaN</td>\n",
       "    </tr>\n",
       "    <tr>\n",
       "      <th>3</th>\n",
       "      <td>2019-03-01 00:02:00</td>\n",
       "      <td>23:59:00</td>\n",
       "      <td>03:04:00</td>\n",
       "      <td>02:56:00</td>\n",
       "      <td>UA</td>\n",
       "      <td>1550</td>\n",
       "      <td>N822UA</td>\n",
       "      <td>ORD</td>\n",
       "      <td>BTV</td>\n",
       "      <td>-3.0</td>\n",
       "      <td>...</td>\n",
       "      <td>763</td>\n",
       "      <td>252.0</td>\n",
       "      <td>4.0</td>\n",
       "      <td>0</td>\n",
       "      <td>NaN</td>\n",
       "      <td>NaN</td>\n",
       "      <td>NaN</td>\n",
       "      <td>NaN</td>\n",
       "      <td>NaN</td>\n",
       "      <td>NaN</td>\n",
       "    </tr>\n",
       "    <tr>\n",
       "      <th>4</th>\n",
       "      <td>2019-03-01 00:02:00</td>\n",
       "      <td>00:36:00</td>\n",
       "      <td>03:22:00</td>\n",
       "      <td>03:30:00</td>\n",
       "      <td>UA</td>\n",
       "      <td>1502</td>\n",
       "      <td>N33262</td>\n",
       "      <td>ORD</td>\n",
       "      <td>BOS</td>\n",
       "      <td>34.0</td>\n",
       "      <td>...</td>\n",
       "      <td>867</td>\n",
       "      <td>326.0</td>\n",
       "      <td>4.0</td>\n",
       "      <td>0</td>\n",
       "      <td>NaN</td>\n",
       "      <td>NaN</td>\n",
       "      <td>NaN</td>\n",
       "      <td>NaN</td>\n",
       "      <td>NaN</td>\n",
       "      <td>NaN</td>\n",
       "    </tr>\n",
       "  </tbody>\n",
       "</table>\n",
       "<p>5 rows × 25 columns</p>\n",
       "</div>"
      ],
      "text/plain": [
       "   SCHEDULED_DEPARTURE DEPARTURE_TIME SCHEDULED_ARRIVAL ARRIVAL_TIME AIRLINE  \\\n",
       "0  2019-03-01 00:01:00       00:02:00          01:37:00     01:20:00      UA   \n",
       "1  2019-03-01 00:01:00       00:29:00          01:33:00     01:52:00      EV   \n",
       "2  2019-03-01 00:01:00            NaN          01:53:00          NaN      EV   \n",
       "3  2019-03-01 00:02:00       23:59:00          03:04:00     02:56:00      UA   \n",
       "4  2019-03-01 00:02:00       00:36:00          03:22:00     03:30:00      UA   \n",
       "\n",
       "   FLIGHT_NUMBER TAIL_NUMBER ORIGIN_AIRPORT DESTINATION_AIRPORT  \\\n",
       "0           1238      N812UA            DEN                 BIL   \n",
       "1           6134      N14171            ORD                 BNA   \n",
       "2           4682      N15910            ORD                 BHM   \n",
       "3           1550      N822UA            ORD                 BTV   \n",
       "4           1502      N33262            ORD                 BOS   \n",
       "\n",
       "   DEPARTURE_DELAY  ...  DISTANCE  WHEELS_ON  TAXI_IN  CANCELLED  \\\n",
       "0              1.0  ...       455      117.0      3.0          0   \n",
       "1             28.0  ...       409      144.0      8.0          0   \n",
       "2              NaN  ...       584        NaN      NaN          1   \n",
       "3             -3.0  ...       763      252.0      4.0          0   \n",
       "4             34.0  ...       867      326.0      4.0          0   \n",
       "\n",
       "   CANCELLATION_REASON  AIR_SYSTEM_DELAY  SECURITY_DELAY  AIRLINE_DELAY  \\\n",
       "0                  NaN               NaN             NaN            NaN   \n",
       "1                  NaN               0.0             0.0           19.0   \n",
       "2                    B               NaN             NaN            NaN   \n",
       "3                  NaN               NaN             NaN            NaN   \n",
       "4                  NaN               NaN             NaN            NaN   \n",
       "\n",
       "   LATE_AIRCRAFT_DELAY WEATHER_DELAY  \n",
       "0                  NaN           NaN  \n",
       "1                  0.0           0.0  \n",
       "2                  NaN           NaN  \n",
       "3                  NaN           NaN  \n",
       "4                  NaN           NaN  \n",
       "\n",
       "[5 rows x 25 columns]"
      ]
     },
     "execution_count": 300,
     "metadata": {},
     "output_type": "execute_result"
    }
   ],
   "source": [
    "df_hdata = pd.read_csv('historic_data.csv', low_memory = False)\n",
    "df_hdata.head()"
   ]
  },
  {
   "cell_type": "code",
   "execution_count": 301,
   "metadata": {},
   "outputs": [
    {
     "data": {
      "text/html": [
       "<div>\n",
       "<style scoped>\n",
       "    .dataframe tbody tr th:only-of-type {\n",
       "        vertical-align: middle;\n",
       "    }\n",
       "\n",
       "    .dataframe tbody tr th {\n",
       "        vertical-align: top;\n",
       "    }\n",
       "\n",
       "    .dataframe thead th {\n",
       "        text-align: right;\n",
       "    }\n",
       "</style>\n",
       "<table border=\"1\" class=\"dataframe\">\n",
       "  <thead>\n",
       "    <tr style=\"text-align: right;\">\n",
       "      <th></th>\n",
       "      <th>SCHEDULED_DEPARTURE</th>\n",
       "      <th>SCHEDULED_ARRIVAL</th>\n",
       "      <th>AIRLINE</th>\n",
       "      <th>FLIGHT_NUMBER</th>\n",
       "      <th>TAIL_NUMBER</th>\n",
       "      <th>ORIGIN_AIRPORT</th>\n",
       "      <th>DESTINATION_AIRPORT</th>\n",
       "      <th>DISTANCE</th>\n",
       "    </tr>\n",
       "  </thead>\n",
       "  <tbody>\n",
       "    <tr>\n",
       "      <th>0</th>\n",
       "      <td>2022-08-01 00:05:00</td>\n",
       "      <td>04:54:00</td>\n",
       "      <td>AA</td>\n",
       "      <td>2400</td>\n",
       "      <td>N3LNAA</td>\n",
       "      <td>LAX</td>\n",
       "      <td>DFW</td>\n",
       "      <td>1235</td>\n",
       "    </tr>\n",
       "    <tr>\n",
       "      <th>1</th>\n",
       "      <td>2022-08-01 00:15:00</td>\n",
       "      <td>06:00:00</td>\n",
       "      <td>US</td>\n",
       "      <td>2020</td>\n",
       "      <td>N547UW</td>\n",
       "      <td>PHX</td>\n",
       "      <td>CLT</td>\n",
       "      <td>1773</td>\n",
       "    </tr>\n",
       "    <tr>\n",
       "      <th>2</th>\n",
       "      <td>2022-08-01 00:15:00</td>\n",
       "      <td>05:40:00</td>\n",
       "      <td>F9</td>\n",
       "      <td>1298</td>\n",
       "      <td>N922FR</td>\n",
       "      <td>PHX</td>\n",
       "      <td>CVG</td>\n",
       "      <td>1569</td>\n",
       "    </tr>\n",
       "    <tr>\n",
       "      <th>3</th>\n",
       "      <td>2022-08-01 00:20:00</td>\n",
       "      <td>08:04:00</td>\n",
       "      <td>AA</td>\n",
       "      <td>258</td>\n",
       "      <td>N3HRAA</td>\n",
       "      <td>LAX</td>\n",
       "      <td>MIA</td>\n",
       "      <td>2342</td>\n",
       "    </tr>\n",
       "    <tr>\n",
       "      <th>4</th>\n",
       "      <td>2022-08-01 00:25:00</td>\n",
       "      <td>05:26:00</td>\n",
       "      <td>NK</td>\n",
       "      <td>612</td>\n",
       "      <td>N631NK</td>\n",
       "      <td>LAS</td>\n",
       "      <td>MSP</td>\n",
       "      <td>1299</td>\n",
       "    </tr>\n",
       "  </tbody>\n",
       "</table>\n",
       "</div>"
      ],
      "text/plain": [
       "   SCHEDULED_DEPARTURE SCHEDULED_ARRIVAL AIRLINE  FLIGHT_NUMBER TAIL_NUMBER  \\\n",
       "0  2022-08-01 00:05:00          04:54:00      AA           2400      N3LNAA   \n",
       "1  2022-08-01 00:15:00          06:00:00      US           2020      N547UW   \n",
       "2  2022-08-01 00:15:00          05:40:00      F9           1298      N922FR   \n",
       "3  2022-08-01 00:20:00          08:04:00      AA            258      N3HRAA   \n",
       "4  2022-08-01 00:25:00          05:26:00      NK            612      N631NK   \n",
       "\n",
       "  ORIGIN_AIRPORT DESTINATION_AIRPORT  DISTANCE  \n",
       "0            LAX                 DFW      1235  \n",
       "1            PHX                 CLT      1773  \n",
       "2            PHX                 CVG      1569  \n",
       "3            LAX                 MIA      2342  \n",
       "4            LAS                 MSP      1299  "
      ]
     },
     "execution_count": 301,
     "metadata": {},
     "output_type": "execute_result"
    }
   ],
   "source": [
    "df_fdata = pd.read_csv('future_data.csv', low_memory = False)\n",
    "df_fdata.head()"
   ]
  },
  {
   "cell_type": "markdown",
   "metadata": {},
   "source": [
    "Based on the observation of dataframes:\n",
    "1. In the model, the only variables we can use to predict are the ones in \"future_data\": scheduled_departure, scheduled_arrival, airline, flight_number, Tail_number, origin_airport, destination_airport, distance.\n",
    "\n",
    "2. Airline dataset: no added value information --> not used\n",
    "\n",
    "3. Airports dataset: latitude and longitude of airport, country, city, state of the airport --> should merge into both training and predicting datasets\n",
    "\n",
    "4. Historic data - to predict: 1. arrival delay (main one and need to be constructed); 2. cancellation dummy; 3. cancellation reasons; 4. delay reasons\n",
    "\n",
    "5. Additionally, we can also see the most important factor for delay or cancellation."
   ]
  },
  {
   "cell_type": "markdown",
   "metadata": {},
   "source": [
    "## Initial exploration"
   ]
  },
  {
   "cell_type": "code",
   "execution_count": 302,
   "metadata": {},
   "outputs": [
    {
     "data": {
      "text/plain": [
       "<matplotlib.axes._subplots.AxesSubplot at 0x2915e6c0b50>"
      ]
     },
     "execution_count": 302,
     "metadata": {},
     "output_type": "execute_result"
    },
    {
     "data": {
      "image/png": "[encoded data removed]",
      "text/plain": [
       "<Figure size 432x288 with 2 Axes>"
      ]
     },
     "metadata": {
      "needs_background": "light"
     },
     "output_type": "display_data"
    }
   ],
   "source": [
    "corr = df_hdata.corr()\n",
    "sns.heatmap(corr, \n",
    "            xticklabels=corr.columns.values,\n",
    "            yticklabels=corr.columns.values)"
   ]
  },
  {
   "cell_type": "markdown",
   "metadata": {},
   "source": [
    "## Data Preprocessing"
   ]
  },
  {
   "cell_type": "markdown",
   "metadata": {},
   "source": [
    "What variables can be used in prediction?\n",
    "1. scheduled departure\n",
    "2. scheduled arrival\n",
    "3. airline\n",
    "4. flight number\n",
    "5. tail number\n",
    "6. origin airport\n",
    "7. destination airport\n",
    "8. distance\n",
    "\n",
    "Available after merging:\n",
    "1. origin country/city/state/latitude/longitude\n",
    "2. destination country/city/state/latitude/longitude\n",
    "\n",
    "Available after construction: scheduled duration\n",
    "\n",
    "Note: datetime variables cannot be used, extract days and hours, maybe weekend dummy."
   ]
  },
  {
   "cell_type": "markdown",
   "metadata": {},
   "source": [
    "### Merge Airports dataset"
   ]
  },
  {
   "cell_type": "markdown",
   "metadata": {},
   "source": [
    "Visualise the airports in the dataset."
   ]
  },
  {
   "cell_type": "markdown",
   "metadata": {},
   "source": [
    "Rename airports columns: OR is short for \"origin\"; DES is short for \"DESTINATION\""
   ]
  },
  {
   "cell_type": "code",
   "execution_count": 303,
   "metadata": {},
   "outputs": [],
   "source": [
    "df_air_or = df_airports.rename(columns={'IATA_CODE':'ORIGIN_AIRPORT', 'CITY': 'OR_CITY', 'STATE': 'OR_STATE', 'COUNTRY': 'OR_COUNTRY', 'LATITUDE': 'OR_LATITUDE', 'LONGITUDE': 'OR_LONGITUDE'}, index={'ONE': 'Row_1'})\n",
    "df_air_des = df_airports.rename(columns={'IATA_CODE':'DESTINATION_AIRPORT', 'CITY': 'DES_CITY', 'STATE': 'DES_STATE', 'COUNTRY': 'DES_COUNTRY', 'LATITUDE': 'DES_LATITUDE', 'LONGITUDE': 'DES_LONGITUDE'}, index={'ONE': 'Row_1'})"
   ]
  },
  {
   "cell_type": "markdown",
   "metadata": {},
   "source": [
    "Merge historic data with airport dataset"
   ]
  },
  {
   "cell_type": "code",
   "execution_count": 304,
   "metadata": {},
   "outputs": [],
   "source": [
    "df_final1 = df_hdata.merge(df_air_or, how='left', on='ORIGIN_AIRPORT', left_index=False, right_index=False, sort=False, suffixes=('_x', '_y'), copy=True, indicator=False, validate=None)\n",
    "df_final2 = df_final1.merge(df_air_des, how='left', on='DESTINATION_AIRPORT', left_index=False, right_index=False, sort=False, suffixes=('_x', '_y'), copy=True, indicator=False, validate=None)"
   ]
  },
  {
   "cell_type": "code",
   "execution_count": 305,
   "metadata": {},
   "outputs": [
    {
     "data": {
      "text/html": [
       "<div>\n",
       "<style scoped>\n",
       "    .dataframe tbody tr th:only-of-type {\n",
       "        vertical-align: middle;\n",
       "    }\n",
       "\n",
       "    .dataframe tbody tr th {\n",
       "        vertical-align: top;\n",
       "    }\n",
       "\n",
       "    .dataframe thead th {\n",
       "        text-align: right;\n",
       "    }\n",
       "</style>\n",
       "<table border=\"1\" class=\"dataframe\">\n",
       "  <thead>\n",
       "    <tr style=\"text-align: right;\">\n",
       "      <th></th>\n",
       "      <th>SCHEDULED_DEPARTURE</th>\n",
       "      <th>DEPARTURE_TIME</th>\n",
       "      <th>SCHEDULED_ARRIVAL</th>\n",
       "      <th>ARRIVAL_TIME</th>\n",
       "      <th>AIRLINE</th>\n",
       "      <th>FLIGHT_NUMBER</th>\n",
       "      <th>TAIL_NUMBER</th>\n",
       "      <th>ORIGIN_AIRPORT</th>\n",
       "      <th>DESTINATION_AIRPORT</th>\n",
       "      <th>DEPARTURE_DELAY</th>\n",
       "      <th>...</th>\n",
       "      <th>OR_CITY</th>\n",
       "      <th>OR_STATE</th>\n",
       "      <th>OR_COUNTRY</th>\n",
       "      <th>OR_LATITUDE</th>\n",
       "      <th>OR_LONGITUDE</th>\n",
       "      <th>DES_CITY</th>\n",
       "      <th>DES_STATE</th>\n",
       "      <th>DES_COUNTRY</th>\n",
       "      <th>DES_LATITUDE</th>\n",
       "      <th>DES_LONGITUDE</th>\n",
       "    </tr>\n",
       "  </thead>\n",
       "  <tbody>\n",
       "    <tr>\n",
       "      <th>0</th>\n",
       "      <td>2019-03-01 00:01:00</td>\n",
       "      <td>00:02:00</td>\n",
       "      <td>01:37:00</td>\n",
       "      <td>01:20:00</td>\n",
       "      <td>UA</td>\n",
       "      <td>1238</td>\n",
       "      <td>N812UA</td>\n",
       "      <td>DEN</td>\n",
       "      <td>BIL</td>\n",
       "      <td>1.0</td>\n",
       "      <td>...</td>\n",
       "      <td>Denver</td>\n",
       "      <td>CO</td>\n",
       "      <td>USA</td>\n",
       "      <td>39.85841</td>\n",
       "      <td>-104.66700</td>\n",
       "      <td>Billings</td>\n",
       "      <td>MT</td>\n",
       "      <td>USA</td>\n",
       "      <td>45.80766</td>\n",
       "      <td>-108.54286</td>\n",
       "    </tr>\n",
       "    <tr>\n",
       "      <th>1</th>\n",
       "      <td>2019-03-01 00:01:00</td>\n",
       "      <td>00:29:00</td>\n",
       "      <td>01:33:00</td>\n",
       "      <td>01:52:00</td>\n",
       "      <td>EV</td>\n",
       "      <td>6134</td>\n",
       "      <td>N14171</td>\n",
       "      <td>ORD</td>\n",
       "      <td>BNA</td>\n",
       "      <td>28.0</td>\n",
       "      <td>...</td>\n",
       "      <td>Chicago</td>\n",
       "      <td>IL</td>\n",
       "      <td>USA</td>\n",
       "      <td>41.97960</td>\n",
       "      <td>-87.90446</td>\n",
       "      <td>Nashville</td>\n",
       "      <td>TN</td>\n",
       "      <td>USA</td>\n",
       "      <td>36.12448</td>\n",
       "      <td>-86.67818</td>\n",
       "    </tr>\n",
       "    <tr>\n",
       "      <th>2</th>\n",
       "      <td>2019-03-01 00:01:00</td>\n",
       "      <td>NaN</td>\n",
       "      <td>01:53:00</td>\n",
       "      <td>NaN</td>\n",
       "      <td>EV</td>\n",
       "      <td>4682</td>\n",
       "      <td>N15910</td>\n",
       "      <td>ORD</td>\n",
       "      <td>BHM</td>\n",
       "      <td>NaN</td>\n",
       "      <td>...</td>\n",
       "      <td>Chicago</td>\n",
       "      <td>IL</td>\n",
       "      <td>USA</td>\n",
       "      <td>41.97960</td>\n",
       "      <td>-87.90446</td>\n",
       "      <td>Birmingham</td>\n",
       "      <td>AL</td>\n",
       "      <td>USA</td>\n",
       "      <td>33.56294</td>\n",
       "      <td>-86.75355</td>\n",
       "    </tr>\n",
       "    <tr>\n",
       "      <th>3</th>\n",
       "      <td>2019-03-01 00:02:00</td>\n",
       "      <td>23:59:00</td>\n",
       "      <td>03:04:00</td>\n",
       "      <td>02:56:00</td>\n",
       "      <td>UA</td>\n",
       "      <td>1550</td>\n",
       "      <td>N822UA</td>\n",
       "      <td>ORD</td>\n",
       "      <td>BTV</td>\n",
       "      <td>-3.0</td>\n",
       "      <td>...</td>\n",
       "      <td>Chicago</td>\n",
       "      <td>IL</td>\n",
       "      <td>USA</td>\n",
       "      <td>41.97960</td>\n",
       "      <td>-87.90446</td>\n",
       "      <td>Burlington</td>\n",
       "      <td>VT</td>\n",
       "      <td>USA</td>\n",
       "      <td>44.47300</td>\n",
       "      <td>-73.15031</td>\n",
       "    </tr>\n",
       "    <tr>\n",
       "      <th>4</th>\n",
       "      <td>2019-03-01 00:02:00</td>\n",
       "      <td>00:36:00</td>\n",
       "      <td>03:22:00</td>\n",
       "      <td>03:30:00</td>\n",
       "      <td>UA</td>\n",
       "      <td>1502</td>\n",
       "      <td>N33262</td>\n",
       "      <td>ORD</td>\n",
       "      <td>BOS</td>\n",
       "      <td>34.0</td>\n",
       "      <td>...</td>\n",
       "      <td>Chicago</td>\n",
       "      <td>IL</td>\n",
       "      <td>USA</td>\n",
       "      <td>41.97960</td>\n",
       "      <td>-87.90446</td>\n",
       "      <td>Boston</td>\n",
       "      <td>MA</td>\n",
       "      <td>USA</td>\n",
       "      <td>42.36435</td>\n",
       "      <td>-71.00518</td>\n",
       "    </tr>\n",
       "  </tbody>\n",
       "</table>\n",
       "<p>5 rows × 35 columns</p>\n",
       "</div>"
      ],
      "text/plain": [
       "   SCHEDULED_DEPARTURE DEPARTURE_TIME SCHEDULED_ARRIVAL ARRIVAL_TIME AIRLINE  \\\n",
       "0  2019-03-01 00:01:00       00:02:00          01:37:00     01:20:00      UA   \n",
       "1  2019-03-01 00:01:00       00:29:00          01:33:00     01:52:00      EV   \n",
       "2  2019-03-01 00:01:00            NaN          01:53:00          NaN      EV   \n",
       "3  2019-03-01 00:02:00       23:59:00          03:04:00     02:56:00      UA   \n",
       "4  2019-03-01 00:02:00       00:36:00          03:22:00     03:30:00      UA   \n",
       "\n",
       "   FLIGHT_NUMBER TAIL_NUMBER ORIGIN_AIRPORT DESTINATION_AIRPORT  \\\n",
       "0           1238      N812UA            DEN                 BIL   \n",
       "1           6134      N14171            ORD                 BNA   \n",
       "2           4682      N15910            ORD                 BHM   \n",
       "3           1550      N822UA            ORD                 BTV   \n",
       "4           1502      N33262            ORD                 BOS   \n",
       "\n",
       "   DEPARTURE_DELAY  ...  OR_CITY  OR_STATE  OR_COUNTRY  OR_LATITUDE  \\\n",
       "0              1.0  ...   Denver        CO         USA     39.85841   \n",
       "1             28.0  ...  Chicago        IL         USA     41.97960   \n",
       "2              NaN  ...  Chicago        IL         USA     41.97960   \n",
       "3             -3.0  ...  Chicago        IL         USA     41.97960   \n",
       "4             34.0  ...  Chicago        IL         USA     41.97960   \n",
       "\n",
       "   OR_LONGITUDE    DES_CITY  DES_STATE  DES_COUNTRY  DES_LATITUDE  \\\n",
       "0    -104.66700    Billings         MT          USA      45.80766   \n",
       "1     -87.90446   Nashville         TN          USA      36.12448   \n",
       "2     -87.90446  Birmingham         AL          USA      33.56294   \n",
       "3     -87.90446  Burlington         VT          USA      44.47300   \n",
       "4     -87.90446      Boston         MA          USA      42.36435   \n",
       "\n",
       "  DES_LONGITUDE  \n",
       "0    -108.54286  \n",
       "1     -86.67818  \n",
       "2     -86.75355  \n",
       "3     -73.15031  \n",
       "4     -71.00518  \n",
       "\n",
       "[5 rows x 35 columns]"
      ]
     },
     "execution_count": 305,
     "metadata": {},
     "output_type": "execute_result"
    }
   ],
   "source": [
    "df_final = df_final2.drop(['AIRPORT_y','AIRPORT_x'], axis = 1)\n",
    "df_final.head()"
   ]
  },
  {
   "cell_type": "markdown",
   "metadata": {},
   "source": [
    "### Datetime"
   ]
  },
  {
   "cell_type": "code",
   "execution_count": 306,
   "metadata": {},
   "outputs": [],
   "source": [
    "df_final['SCHEDULED_DEPARTURE'] = pd.to_datetime(df_final['SCHEDULED_DEPARTURE'], format='%Y-%m-%d %H:%M:%S')\n",
    "df_final['SCHEDULED_ARRIVAL'] = pd.to_datetime(df_final['SCHEDULED_ARRIVAL'], format='%H:%M:%S')"
   ]
  },
  {
   "cell_type": "code",
   "execution_count": 307,
   "metadata": {},
   "outputs": [],
   "source": [
    "df_final['TIME_AR'] = df_final['SCHEDULED_ARRIVAL'].dt.time\n",
    "df_final['TIME_DE'] = df_final['SCHEDULED_DEPARTURE'].dt.time\n",
    "df_final['YEAR_DE'] = df_final['SCHEDULED_DEPARTURE'].dt.year\n",
    "df_final['MONTH_DE'] = df_final['SCHEDULED_DEPARTURE'].dt.month\n",
    "df_final['DAY_DE'] = df_final['SCHEDULED_DEPARTURE'].dt.day\n",
    "\n",
    "df_final['WEEKDAY_DE'] = df_final['SCHEDULED_DEPARTURE'].dt.weekday\n",
    "df_final['WEEKEND_DE'] = df_final['WEEKDAY_DE'].apply(lambda x: 1 if x >= 6 else 0)\n",
    "\n",
    "df_final['HOUR_DE'] = df_final['SCHEDULED_DEPARTURE'].dt.hour"
   ]
  },
  {
   "cell_type": "code",
   "execution_count": 308,
   "metadata": {},
   "outputs": [
    {
     "data": {
      "text/plain": [
       "0          2019\n",
       "1          2019\n",
       "2          2019\n",
       "3          2019\n",
       "4          2019\n",
       "           ... \n",
       "2458623    2019\n",
       "2458624    2019\n",
       "2458625    2019\n",
       "2458626    2019\n",
       "2458627    2019\n",
       "Name: YEAR_DE, Length: 2458628, dtype: int64"
      ]
     },
     "execution_count": 308,
     "metadata": {},
     "output_type": "execute_result"
    }
   ],
   "source": [
    "df_final['YEAR_DE'] "
   ]
  },
  {
   "cell_type": "markdown",
   "metadata": {},
   "source": [
    "All observations come from the same year, then not useful in the model."
   ]
  },
  {
   "cell_type": "code",
   "execution_count": 309,
   "metadata": {},
   "outputs": [
    {
     "data": {
      "text/plain": [
       "0          3\n",
       "1          3\n",
       "2          3\n",
       "3          3\n",
       "4          3\n",
       "          ..\n",
       "2458623    7\n",
       "2458624    7\n",
       "2458625    7\n",
       "2458626    7\n",
       "2458627    7\n",
       "Name: MONTH_DE, Length: 2458628, dtype: int64"
      ]
     },
     "execution_count": 309,
     "metadata": {},
     "output_type": "execute_result"
    }
   ],
   "source": [
    "df_final['MONTH_DE']"
   ]
  },
  {
   "cell_type": "markdown",
   "metadata": {},
   "source": [
    "Month varies from 3 to 7, avoid the summer or winter vacation already, then maybe not that useful."
   ]
  },
  {
   "cell_type": "code",
   "execution_count": 310,
   "metadata": {},
   "outputs": [
    {
     "data": {
      "text/plain": [
       "0           1\n",
       "1           1\n",
       "2           1\n",
       "3           1\n",
       "4           1\n",
       "           ..\n",
       "2458623    31\n",
       "2458624    31\n",
       "2458625    31\n",
       "2458626    31\n",
       "2458627    31\n",
       "Name: DAY_DE, Length: 2458628, dtype: int64"
      ]
     },
     "execution_count": 310,
     "metadata": {},
     "output_type": "execute_result"
    }
   ],
   "source": [
    "df_final['DAY_DE']"
   ]
  },
  {
   "cell_type": "markdown",
   "metadata": {},
   "source": [
    "Weekend dummy maybe more relavent."
   ]
  },
  {
   "cell_type": "code",
   "execution_count": 311,
   "metadata": {},
   "outputs": [
    {
     "data": {
      "text/plain": [
       "0          4\n",
       "1          4\n",
       "2          4\n",
       "3          4\n",
       "4          4\n",
       "          ..\n",
       "2458623    2\n",
       "2458624    2\n",
       "2458625    2\n",
       "2458626    2\n",
       "2458627    2\n",
       "Name: WEEKDAY_DE, Length: 2458628, dtype: int64"
      ]
     },
     "execution_count": 311,
     "metadata": {},
     "output_type": "execute_result"
    }
   ],
   "source": [
    "df_final['WEEKDAY_DE']"
   ]
  },
  {
   "cell_type": "code",
   "execution_count": 312,
   "metadata": {},
   "outputs": [
    {
     "data": {
      "text/plain": [
       "0          0\n",
       "1          0\n",
       "2          0\n",
       "3          0\n",
       "4          0\n",
       "          ..\n",
       "2458623    0\n",
       "2458624    0\n",
       "2458625    0\n",
       "2458626    0\n",
       "2458627    0\n",
       "Name: WEEKEND_DE, Length: 2458628, dtype: int64"
      ]
     },
     "execution_count": 312,
     "metadata": {},
     "output_type": "execute_result"
    }
   ],
   "source": [
    "df_final['WEEKEND_DE'] "
   ]
  },
  {
   "cell_type": "code",
   "execution_count": 313,
   "metadata": {},
   "outputs": [
    {
     "data": {
      "text/plain": [
       "0           0\n",
       "1           0\n",
       "2           0\n",
       "3           0\n",
       "4           0\n",
       "           ..\n",
       "2458623    23\n",
       "2458624    23\n",
       "2458625    23\n",
       "2458626    23\n",
       "2458627    23\n",
       "Name: HOUR_DE, Length: 2458628, dtype: int64"
      ]
     },
     "execution_count": 313,
     "metadata": {},
     "output_type": "execute_result"
    }
   ],
   "source": [
    "df_final['HOUR_DE']"
   ]
  },
  {
   "cell_type": "markdown",
   "metadata": {},
   "source": [
    "### Delayed Variable -- arrival delay (dummy, continous, ordinal, different delay threshold...)"
   ]
  },
  {
   "cell_type": "code",
   "execution_count": 314,
   "metadata": {},
   "outputs": [],
   "source": [
    "max_departure = max(df_final['DEPARTURE_DELAY'])"
   ]
  },
  {
   "cell_type": "code",
   "execution_count": 315,
   "metadata": {},
   "outputs": [
    {
     "name": "stdout",
     "output_type": "stream",
     "text": [
      "1878.0\n"
     ]
    }
   ],
   "source": [
    "print(max_departure)"
   ]
  },
  {
   "cell_type": "code",
   "execution_count": 316,
   "metadata": {},
   "outputs": [],
   "source": [
    "max_schedule = max(df_final['SCHEDULED_TIME'])"
   ]
  },
  {
   "cell_type": "markdown",
   "metadata": {},
   "source": [
    "The maximum flying time is 11.75 hours."
   ]
  },
  {
   "cell_type": "code",
   "execution_count": 317,
   "metadata": {},
   "outputs": [
    {
     "name": "stdout",
     "output_type": "stream",
     "text": [
      "705.0\n"
     ]
    }
   ],
   "source": [
    "print(max_schedule)"
   ]
  },
  {
   "cell_type": "markdown",
   "metadata": {},
   "source": [
    "The departure delay can be over 24 hours (a day and 7.3 hours). Then the calculation of arrival delay comes down to get the exact date of arrival:\n",
    "\n",
    "1. to get the date and time of expected arrival time --> scheduled departure + expected flying time (scheduled time) \n",
    "2. to get the date and time of actual arrival time --> acutal departure time + ELAPSED time\n",
    "3. calculate the arrival delay"
   ]
  },
  {
   "cell_type": "code",
   "execution_count": 318,
   "metadata": {},
   "outputs": [],
   "source": [
    "fmt=\"%Y/%m/%d %H:%M:%S\"\n",
    "fmt2=\"%H:%M:%S\""
   ]
  },
  {
   "cell_type": "markdown",
   "metadata": {},
   "source": [
    "To build dates on each flight stage"
   ]
  },
  {
   "cell_type": "markdown",
   "metadata": {},
   "source": [
    "1) actual departure time"
   ]
  },
  {
   "cell_type": "code",
   "execution_count": 319,
   "metadata": {},
   "outputs": [],
   "source": [
    "df_final['DEP_DATE_TIME']=pd.to_datetime(df_final['SCHEDULED_DEPARTURE'], format = fmt) + pd.to_timedelta(df_final['DEPARTURE_DELAY'], 'm')"
   ]
  },
  {
   "cell_type": "markdown",
   "metadata": {},
   "source": [
    "2) arrival_time: DEP_date_time + tax_out (min) +airtime (min) + tax_in (min)"
   ]
  },
  {
   "cell_type": "code",
   "execution_count": 320,
   "metadata": {},
   "outputs": [],
   "source": [
    "df_final['ARR_DATE_TIME']=df_final['DEP_DATE_TIME']+ pd.to_timedelta(df_final['TAXI_IN'],'m') + pd.to_timedelta(df_final['TAXI_OUT'], 'm') + pd.to_timedelta(df_final['AIR_TIME'], 'm')"
   ]
  },
  {
   "cell_type": "markdown",
   "metadata": {},
   "source": [
    "3) compute the date of schedule arrival: SCHEDULED_DEPARTURE+SCHEDULED_TIME (min)\n"
   ]
  },
  {
   "cell_type": "code",
   "execution_count": 321,
   "metadata": {},
   "outputs": [],
   "source": [
    "df_final['SCH_ARR_DATE_TIME']=pd.to_datetime(df_final['SCHEDULED_DEPARTURE'], format = fmt) + pd.to_timedelta(df_final['SCHEDULED_TIME'], 'm')"
   ]
  },
  {
   "cell_type": "markdown",
   "metadata": {},
   "source": [
    "4) compute arrival delay: schedule arrival - ARR_DATE_TIME"
   ]
  },
  {
   "cell_type": "code",
   "execution_count": 322,
   "metadata": {},
   "outputs": [],
   "source": [
    "df_final['ARRIVAL_DELAY_v1']=(df_final['ARR_DATE_TIME'] - df_final['SCH_ARR_DATE_TIME']).astype('timedelta64[m]')"
   ]
  },
  {
   "cell_type": "markdown",
   "metadata": {},
   "source": [
    "To compare with the initial delay version\n"
   ]
  },
  {
   "cell_type": "code",
   "execution_count": 323,
   "metadata": {},
   "outputs": [],
   "source": [
    "df_final['ARRIVAL_DELAY_v2']=(pd.to_datetime(df_final['ARRIVAL_TIME'], format=fmt2) - pd.to_datetime(df_final['SCHEDULED_ARRIVAL'], format = fmt2)).astype('timedelta64[m]')"
   ]
  },
  {
   "cell_type": "code",
   "execution_count": 324,
   "metadata": {},
   "outputs": [
    {
     "data": {
      "text/html": [
       "<div>\n",
       "<style scoped>\n",
       "    .dataframe tbody tr th:only-of-type {\n",
       "        vertical-align: middle;\n",
       "    }\n",
       "\n",
       "    .dataframe tbody tr th {\n",
       "        vertical-align: top;\n",
       "    }\n",
       "\n",
       "    .dataframe thead th {\n",
       "        text-align: right;\n",
       "    }\n",
       "</style>\n",
       "<table border=\"1\" class=\"dataframe\">\n",
       "  <thead>\n",
       "    <tr style=\"text-align: right;\">\n",
       "      <th></th>\n",
       "      <th>SCHEDULED_DEPARTURE</th>\n",
       "      <th>DEPARTURE_TIME</th>\n",
       "      <th>SCHEDULED_ARRIVAL</th>\n",
       "      <th>ARRIVAL_TIME</th>\n",
       "      <th>AIRLINE</th>\n",
       "      <th>FLIGHT_NUMBER</th>\n",
       "      <th>TAIL_NUMBER</th>\n",
       "      <th>ORIGIN_AIRPORT</th>\n",
       "      <th>DESTINATION_AIRPORT</th>\n",
       "      <th>DEPARTURE_DELAY</th>\n",
       "      <th>...</th>\n",
       "      <th>MONTH_DE</th>\n",
       "      <th>DAY_DE</th>\n",
       "      <th>WEEKDAY_DE</th>\n",
       "      <th>WEEKEND_DE</th>\n",
       "      <th>HOUR_DE</th>\n",
       "      <th>DEP_DATE_TIME</th>\n",
       "      <th>ARR_DATE_TIME</th>\n",
       "      <th>SCH_ARR_DATE_TIME</th>\n",
       "      <th>ARRIVAL_DELAY_v1</th>\n",
       "      <th>ARRIVAL_DELAY_v2</th>\n",
       "    </tr>\n",
       "  </thead>\n",
       "  <tbody>\n",
       "    <tr>\n",
       "      <th>0</th>\n",
       "      <td>2019-03-01 00:01:00</td>\n",
       "      <td>00:02:00</td>\n",
       "      <td>1900-01-01 01:37:00</td>\n",
       "      <td>01:20:00</td>\n",
       "      <td>UA</td>\n",
       "      <td>1238</td>\n",
       "      <td>N812UA</td>\n",
       "      <td>DEN</td>\n",
       "      <td>BIL</td>\n",
       "      <td>1.0</td>\n",
       "      <td>...</td>\n",
       "      <td>3</td>\n",
       "      <td>1</td>\n",
       "      <td>4</td>\n",
       "      <td>0</td>\n",
       "      <td>0</td>\n",
       "      <td>2019-03-01 00:02:00</td>\n",
       "      <td>2019-03-01 01:20:00</td>\n",
       "      <td>2019-03-01 01:37:00</td>\n",
       "      <td>-17.0</td>\n",
       "      <td>-17.0</td>\n",
       "    </tr>\n",
       "    <tr>\n",
       "      <th>1</th>\n",
       "      <td>2019-03-01 00:01:00</td>\n",
       "      <td>00:29:00</td>\n",
       "      <td>1900-01-01 01:33:00</td>\n",
       "      <td>01:52:00</td>\n",
       "      <td>EV</td>\n",
       "      <td>6134</td>\n",
       "      <td>N14171</td>\n",
       "      <td>ORD</td>\n",
       "      <td>BNA</td>\n",
       "      <td>28.0</td>\n",
       "      <td>...</td>\n",
       "      <td>3</td>\n",
       "      <td>1</td>\n",
       "      <td>4</td>\n",
       "      <td>0</td>\n",
       "      <td>0</td>\n",
       "      <td>2019-03-01 00:29:00</td>\n",
       "      <td>2019-03-01 01:52:00</td>\n",
       "      <td>2019-03-01 01:33:00</td>\n",
       "      <td>19.0</td>\n",
       "      <td>19.0</td>\n",
       "    </tr>\n",
       "    <tr>\n",
       "      <th>2</th>\n",
       "      <td>2019-03-01 00:01:00</td>\n",
       "      <td>NaN</td>\n",
       "      <td>1900-01-01 01:53:00</td>\n",
       "      <td>NaN</td>\n",
       "      <td>EV</td>\n",
       "      <td>4682</td>\n",
       "      <td>N15910</td>\n",
       "      <td>ORD</td>\n",
       "      <td>BHM</td>\n",
       "      <td>NaN</td>\n",
       "      <td>...</td>\n",
       "      <td>3</td>\n",
       "      <td>1</td>\n",
       "      <td>4</td>\n",
       "      <td>0</td>\n",
       "      <td>0</td>\n",
       "      <td>NaT</td>\n",
       "      <td>NaT</td>\n",
       "      <td>2019-03-01 01:53:00</td>\n",
       "      <td>NaN</td>\n",
       "      <td>NaN</td>\n",
       "    </tr>\n",
       "    <tr>\n",
       "      <th>3</th>\n",
       "      <td>2019-03-01 00:02:00</td>\n",
       "      <td>23:59:00</td>\n",
       "      <td>1900-01-01 03:04:00</td>\n",
       "      <td>02:56:00</td>\n",
       "      <td>UA</td>\n",
       "      <td>1550</td>\n",
       "      <td>N822UA</td>\n",
       "      <td>ORD</td>\n",
       "      <td>BTV</td>\n",
       "      <td>-3.0</td>\n",
       "      <td>...</td>\n",
       "      <td>3</td>\n",
       "      <td>1</td>\n",
       "      <td>4</td>\n",
       "      <td>0</td>\n",
       "      <td>0</td>\n",
       "      <td>2019-02-28 23:59:00</td>\n",
       "      <td>2019-03-01 01:56:00</td>\n",
       "      <td>2019-03-01 02:04:00</td>\n",
       "      <td>-8.0</td>\n",
       "      <td>-8.0</td>\n",
       "    </tr>\n",
       "    <tr>\n",
       "      <th>4</th>\n",
       "      <td>2019-03-01 00:02:00</td>\n",
       "      <td>00:36:00</td>\n",
       "      <td>1900-01-01 03:22:00</td>\n",
       "      <td>03:30:00</td>\n",
       "      <td>UA</td>\n",
       "      <td>1502</td>\n",
       "      <td>N33262</td>\n",
       "      <td>ORD</td>\n",
       "      <td>BOS</td>\n",
       "      <td>34.0</td>\n",
       "      <td>...</td>\n",
       "      <td>3</td>\n",
       "      <td>1</td>\n",
       "      <td>4</td>\n",
       "      <td>0</td>\n",
       "      <td>0</td>\n",
       "      <td>2019-03-01 00:36:00</td>\n",
       "      <td>2019-03-01 02:30:00</td>\n",
       "      <td>2019-03-01 02:22:00</td>\n",
       "      <td>8.0</td>\n",
       "      <td>8.0</td>\n",
       "    </tr>\n",
       "  </tbody>\n",
       "</table>\n",
       "<p>5 rows × 48 columns</p>\n",
       "</div>"
      ],
      "text/plain": [
       "  SCHEDULED_DEPARTURE DEPARTURE_TIME   SCHEDULED_ARRIVAL ARRIVAL_TIME AIRLINE  \\\n",
       "0 2019-03-01 00:01:00       00:02:00 1900-01-01 01:37:00     01:20:00      UA   \n",
       "1 2019-03-01 00:01:00       00:29:00 1900-01-01 01:33:00     01:52:00      EV   \n",
       "2 2019-03-01 00:01:00            NaN 1900-01-01 01:53:00          NaN      EV   \n",
       "3 2019-03-01 00:02:00       23:59:00 1900-01-01 03:04:00     02:56:00      UA   \n",
       "4 2019-03-01 00:02:00       00:36:00 1900-01-01 03:22:00     03:30:00      UA   \n",
       "\n",
       "   FLIGHT_NUMBER TAIL_NUMBER ORIGIN_AIRPORT DESTINATION_AIRPORT  \\\n",
       "0           1238      N812UA            DEN                 BIL   \n",
       "1           6134      N14171            ORD                 BNA   \n",
       "2           4682      N15910            ORD                 BHM   \n",
       "3           1550      N822UA            ORD                 BTV   \n",
       "4           1502      N33262            ORD                 BOS   \n",
       "\n",
       "   DEPARTURE_DELAY  ...  MONTH_DE  DAY_DE  WEEKDAY_DE  WEEKEND_DE  HOUR_DE  \\\n",
       "0              1.0  ...         3       1           4           0        0   \n",
       "1             28.0  ...         3       1           4           0        0   \n",
       "2              NaN  ...         3       1           4           0        0   \n",
       "3             -3.0  ...         3       1           4           0        0   \n",
       "4             34.0  ...         3       1           4           0        0   \n",
       "\n",
       "        DEP_DATE_TIME       ARR_DATE_TIME   SCH_ARR_DATE_TIME  \\\n",
       "0 2019-03-01 00:02:00 2019-03-01 01:20:00 2019-03-01 01:37:00   \n",
       "1 2019-03-01 00:29:00 2019-03-01 01:52:00 2019-03-01 01:33:00   \n",
       "2                 NaT                 NaT 2019-03-01 01:53:00   \n",
       "3 2019-02-28 23:59:00 2019-03-01 01:56:00 2019-03-01 02:04:00   \n",
       "4 2019-03-01 00:36:00 2019-03-01 02:30:00 2019-03-01 02:22:00   \n",
       "\n",
       "   ARRIVAL_DELAY_v1 ARRIVAL_DELAY_v2  \n",
       "0             -17.0            -17.0  \n",
       "1              19.0             19.0  \n",
       "2               NaN              NaN  \n",
       "3              -8.0             -8.0  \n",
       "4               8.0              8.0  \n",
       "\n",
       "[5 rows x 48 columns]"
      ]
     },
     "execution_count": 324,
     "metadata": {},
     "output_type": "execute_result"
    }
   ],
   "source": [
    "df_final.head()"
   ]
  },
  {
   "cell_type": "markdown",
   "metadata": {},
   "source": [
    "Approach as classification problem: \"A flight os counted as \"on time\" if it operated less than 15 minutes later than the scheduled time shown in the carriers' Computerozed Researvation Systems (CRS)\""
   ]
  },
  {
   "cell_type": "code",
   "execution_count": 325,
   "metadata": {},
   "outputs": [],
   "source": [
    "# approach as classification problem \n",
    "df_final['ARRIVAL_DELAY'] = (df_final['ARRIVAL_DELAY_v1'] > 15).astype(int)"
   ]
  },
  {
   "cell_type": "markdown",
   "metadata": {},
   "source": [
    "### Additional Constructed Variable: (expected/scheduled) speed"
   ]
  },
  {
   "cell_type": "code",
   "execution_count": 326,
   "metadata": {},
   "outputs": [],
   "source": [
    "df_final['SPEED'] = df_final['DISTANCE']/df_final['SCHEDULED_TIME']"
   ]
  },
  {
   "cell_type": "markdown",
   "metadata": {},
   "source": [
    "We cannot calculate the speed in future dataset as we don't have the arrival date for that. It may be relavent in factor importance exploration."
   ]
  },
  {
   "cell_type": "markdown",
   "metadata": {},
   "source": [
    "### Drop Irrelavent Variables"
   ]
  },
  {
   "cell_type": "code",
   "execution_count": 327,
   "metadata": {},
   "outputs": [
    {
     "data": {
      "text/plain": [
       "SCHEDULED_DEPARTURE    datetime64[ns]\n",
       "DEPARTURE_TIME                 object\n",
       "SCHEDULED_ARRIVAL      datetime64[ns]\n",
       "ARRIVAL_TIME                   object\n",
       "AIRLINE                        object\n",
       "FLIGHT_NUMBER                   int64\n",
       "TAIL_NUMBER                    object\n",
       "ORIGIN_AIRPORT                 object\n",
       "DESTINATION_AIRPORT            object\n",
       "DEPARTURE_DELAY               float64\n",
       "TAXI_OUT                      float64\n",
       "WHEELS_OFF                    float64\n",
       "SCHEDULED_TIME                float64\n",
       "ELAPSED_TIME                  float64\n",
       "AIR_TIME                      float64\n",
       "DISTANCE                        int64\n",
       "WHEELS_ON                     float64\n",
       "TAXI_IN                       float64\n",
       "CANCELLED                       int64\n",
       "CANCELLATION_REASON            object\n",
       "AIR_SYSTEM_DELAY              float64\n",
       "SECURITY_DELAY                float64\n",
       "AIRLINE_DELAY                 float64\n",
       "LATE_AIRCRAFT_DELAY           float64\n",
       "WEATHER_DELAY                 float64\n",
       "OR_CITY                        object\n",
       "OR_STATE                       object\n",
       "OR_COUNTRY                     object\n",
       "OR_LATITUDE                   float64\n",
       "OR_LONGITUDE                  float64\n",
       "DES_CITY                       object\n",
       "DES_STATE                      object\n",
       "DES_COUNTRY                    object\n",
       "DES_LATITUDE                  float64\n",
       "DES_LONGITUDE                 float64\n",
       "TIME_AR                        object\n",
       "TIME_DE                        object\n",
       "YEAR_DE                         int64\n",
       "MONTH_DE                        int64\n",
       "DAY_DE                          int64\n",
       "WEEKDAY_DE                      int64\n",
       "WEEKEND_DE                      int64\n",
       "HOUR_DE                         int64\n",
       "DEP_DATE_TIME          datetime64[ns]\n",
       "ARR_DATE_TIME          datetime64[ns]\n",
       "SCH_ARR_DATE_TIME      datetime64[ns]\n",
       "ARRIVAL_DELAY_v1              float64\n",
       "ARRIVAL_DELAY_v2              float64\n",
       "ARRIVAL_DELAY                   int32\n",
       "SPEED                         float64\n",
       "dtype: object"
      ]
     },
     "execution_count": 327,
     "metadata": {},
     "output_type": "execute_result"
    }
   ],
   "source": [
    "df_final.dtypes"
   ]
  },
  {
   "cell_type": "markdown",
   "metadata": {},
   "source": [
    "Drop the variables not in the future dataset:"
   ]
  },
  {
   "cell_type": "code",
   "execution_count": 328,
   "metadata": {},
   "outputs": [
    {
     "data": {
      "text/html": [
       "<div>\n",
       "<style scoped>\n",
       "    .dataframe tbody tr th:only-of-type {\n",
       "        vertical-align: middle;\n",
       "    }\n",
       "\n",
       "    .dataframe tbody tr th {\n",
       "        vertical-align: top;\n",
       "    }\n",
       "\n",
       "    .dataframe thead th {\n",
       "        text-align: right;\n",
       "    }\n",
       "</style>\n",
       "<table border=\"1\" class=\"dataframe\">\n",
       "  <thead>\n",
       "    <tr style=\"text-align: right;\">\n",
       "      <th></th>\n",
       "      <th>AIRLINE</th>\n",
       "      <th>FLIGHT_NUMBER</th>\n",
       "      <th>TAIL_NUMBER</th>\n",
       "      <th>ORIGIN_AIRPORT</th>\n",
       "      <th>DESTINATION_AIRPORT</th>\n",
       "      <th>DEPARTURE_DELAY</th>\n",
       "      <th>SCHEDULED_TIME</th>\n",
       "      <th>DISTANCE</th>\n",
       "      <th>CANCELLED</th>\n",
       "      <th>CANCELLATION_REASON</th>\n",
       "      <th>...</th>\n",
       "      <th>OR_LONGITUDE</th>\n",
       "      <th>DES_CITY</th>\n",
       "      <th>DES_STATE</th>\n",
       "      <th>DES_LATITUDE</th>\n",
       "      <th>DES_LONGITUDE</th>\n",
       "      <th>WEEKEND_DE</th>\n",
       "      <th>HOUR_DE</th>\n",
       "      <th>ARRIVAL_DELAY_v1</th>\n",
       "      <th>ARRIVAL_DELAY</th>\n",
       "      <th>SPEED</th>\n",
       "    </tr>\n",
       "  </thead>\n",
       "  <tbody>\n",
       "    <tr>\n",
       "      <th>0</th>\n",
       "      <td>UA</td>\n",
       "      <td>1238</td>\n",
       "      <td>N812UA</td>\n",
       "      <td>DEN</td>\n",
       "      <td>BIL</td>\n",
       "      <td>1.0</td>\n",
       "      <td>96.0</td>\n",
       "      <td>455</td>\n",
       "      <td>0</td>\n",
       "      <td>NaN</td>\n",
       "      <td>...</td>\n",
       "      <td>-104.66700</td>\n",
       "      <td>Billings</td>\n",
       "      <td>MT</td>\n",
       "      <td>45.80766</td>\n",
       "      <td>-108.54286</td>\n",
       "      <td>0</td>\n",
       "      <td>0</td>\n",
       "      <td>-17.0</td>\n",
       "      <td>0</td>\n",
       "      <td>4.739583</td>\n",
       "    </tr>\n",
       "    <tr>\n",
       "      <th>1</th>\n",
       "      <td>EV</td>\n",
       "      <td>6134</td>\n",
       "      <td>N14171</td>\n",
       "      <td>ORD</td>\n",
       "      <td>BNA</td>\n",
       "      <td>28.0</td>\n",
       "      <td>92.0</td>\n",
       "      <td>409</td>\n",
       "      <td>0</td>\n",
       "      <td>NaN</td>\n",
       "      <td>...</td>\n",
       "      <td>-87.90446</td>\n",
       "      <td>Nashville</td>\n",
       "      <td>TN</td>\n",
       "      <td>36.12448</td>\n",
       "      <td>-86.67818</td>\n",
       "      <td>0</td>\n",
       "      <td>0</td>\n",
       "      <td>19.0</td>\n",
       "      <td>1</td>\n",
       "      <td>4.445652</td>\n",
       "    </tr>\n",
       "    <tr>\n",
       "      <th>2</th>\n",
       "      <td>EV</td>\n",
       "      <td>4682</td>\n",
       "      <td>N15910</td>\n",
       "      <td>ORD</td>\n",
       "      <td>BHM</td>\n",
       "      <td>NaN</td>\n",
       "      <td>112.0</td>\n",
       "      <td>584</td>\n",
       "      <td>1</td>\n",
       "      <td>B</td>\n",
       "      <td>...</td>\n",
       "      <td>-87.90446</td>\n",
       "      <td>Birmingham</td>\n",
       "      <td>AL</td>\n",
       "      <td>33.56294</td>\n",
       "      <td>-86.75355</td>\n",
       "      <td>0</td>\n",
       "      <td>0</td>\n",
       "      <td>NaN</td>\n",
       "      <td>0</td>\n",
       "      <td>5.214286</td>\n",
       "    </tr>\n",
       "    <tr>\n",
       "      <th>3</th>\n",
       "      <td>UA</td>\n",
       "      <td>1550</td>\n",
       "      <td>N822UA</td>\n",
       "      <td>ORD</td>\n",
       "      <td>BTV</td>\n",
       "      <td>-3.0</td>\n",
       "      <td>122.0</td>\n",
       "      <td>763</td>\n",
       "      <td>0</td>\n",
       "      <td>NaN</td>\n",
       "      <td>...</td>\n",
       "      <td>-87.90446</td>\n",
       "      <td>Burlington</td>\n",
       "      <td>VT</td>\n",
       "      <td>44.47300</td>\n",
       "      <td>-73.15031</td>\n",
       "      <td>0</td>\n",
       "      <td>0</td>\n",
       "      <td>-8.0</td>\n",
       "      <td>0</td>\n",
       "      <td>6.254098</td>\n",
       "    </tr>\n",
       "    <tr>\n",
       "      <th>4</th>\n",
       "      <td>UA</td>\n",
       "      <td>1502</td>\n",
       "      <td>N33262</td>\n",
       "      <td>ORD</td>\n",
       "      <td>BOS</td>\n",
       "      <td>34.0</td>\n",
       "      <td>140.0</td>\n",
       "      <td>867</td>\n",
       "      <td>0</td>\n",
       "      <td>NaN</td>\n",
       "      <td>...</td>\n",
       "      <td>-87.90446</td>\n",
       "      <td>Boston</td>\n",
       "      <td>MA</td>\n",
       "      <td>42.36435</td>\n",
       "      <td>-71.00518</td>\n",
       "      <td>0</td>\n",
       "      <td>0</td>\n",
       "      <td>8.0</td>\n",
       "      <td>0</td>\n",
       "      <td>6.192857</td>\n",
       "    </tr>\n",
       "  </tbody>\n",
       "</table>\n",
       "<p>5 rows × 28 columns</p>\n",
       "</div>"
      ],
      "text/plain": [
       "  AIRLINE  FLIGHT_NUMBER TAIL_NUMBER ORIGIN_AIRPORT DESTINATION_AIRPORT  \\\n",
       "0      UA           1238      N812UA            DEN                 BIL   \n",
       "1      EV           6134      N14171            ORD                 BNA   \n",
       "2      EV           4682      N15910            ORD                 BHM   \n",
       "3      UA           1550      N822UA            ORD                 BTV   \n",
       "4      UA           1502      N33262            ORD                 BOS   \n",
       "\n",
       "   DEPARTURE_DELAY  SCHEDULED_TIME  DISTANCE  CANCELLED CANCELLATION_REASON  \\\n",
       "0              1.0            96.0       455          0                 NaN   \n",
       "1             28.0            92.0       409          0                 NaN   \n",
       "2              NaN           112.0       584          1                   B   \n",
       "3             -3.0           122.0       763          0                 NaN   \n",
       "4             34.0           140.0       867          0                 NaN   \n",
       "\n",
       "   ...  OR_LONGITUDE    DES_CITY  DES_STATE  DES_LATITUDE  DES_LONGITUDE  \\\n",
       "0  ...    -104.66700    Billings         MT      45.80766     -108.54286   \n",
       "1  ...     -87.90446   Nashville         TN      36.12448      -86.67818   \n",
       "2  ...     -87.90446  Birmingham         AL      33.56294      -86.75355   \n",
       "3  ...     -87.90446  Burlington         VT      44.47300      -73.15031   \n",
       "4  ...     -87.90446      Boston         MA      42.36435      -71.00518   \n",
       "\n",
       "  WEEKEND_DE HOUR_DE  ARRIVAL_DELAY_v1  ARRIVAL_DELAY     SPEED  \n",
       "0          0       0             -17.0              0  4.739583  \n",
       "1          0       0              19.0              1  4.445652  \n",
       "2          0       0               NaN              0  5.214286  \n",
       "3          0       0              -8.0              0  6.254098  \n",
       "4          0       0               8.0              0  6.192857  \n",
       "\n",
       "[5 rows x 28 columns]"
      ]
     },
     "execution_count": 328,
     "metadata": {},
     "output_type": "execute_result"
    }
   ],
   "source": [
    "df_final = df_final.drop(['SCHEDULED_DEPARTURE','SCHEDULED_ARRIVAL','DEPARTURE_TIME','ARRIVAL_TIME','TAXI_OUT','WHEELS_OFF','ELAPSED_TIME','AIR_TIME','WHEELS_ON','OR_COUNTRY','DES_COUNTRY','TAXI_IN','TIME_AR','TIME_DE','YEAR_DE','MONTH_DE','DAY_DE','WEEKDAY_DE','DEP_DATE_TIME','ARR_DATE_TIME','SCH_ARR_DATE_TIME', 'ARRIVAL_DELAY_v2'], axis = 1)\n",
    "df_final.head()"
   ]
  },
  {
   "cell_type": "markdown",
   "metadata": {},
   "source": [
    "### Missing values"
   ]
  },
  {
   "cell_type": "code",
   "execution_count": 329,
   "metadata": {},
   "outputs": [
    {
     "data": {
      "text/plain": [
       "AIRLINE                 object\n",
       "FLIGHT_NUMBER            int64\n",
       "TAIL_NUMBER             object\n",
       "ORIGIN_AIRPORT          object\n",
       "DESTINATION_AIRPORT     object\n",
       "DEPARTURE_DELAY        float64\n",
       "SCHEDULED_TIME         float64\n",
       "DISTANCE                 int64\n",
       "CANCELLED                int64\n",
       "CANCELLATION_REASON     object\n",
       "AIR_SYSTEM_DELAY       float64\n",
       "SECURITY_DELAY         float64\n",
       "AIRLINE_DELAY          float64\n",
       "LATE_AIRCRAFT_DELAY    float64\n",
       "WEATHER_DELAY          float64\n",
       "OR_CITY                 object\n",
       "OR_STATE                object\n",
       "OR_LATITUDE            float64\n",
       "OR_LONGITUDE           float64\n",
       "DES_CITY                object\n",
       "DES_STATE               object\n",
       "DES_LATITUDE           float64\n",
       "DES_LONGITUDE          float64\n",
       "WEEKEND_DE               int64\n",
       "HOUR_DE                  int64\n",
       "ARRIVAL_DELAY_v1       float64\n",
       "ARRIVAL_DELAY            int32\n",
       "SPEED                  float64\n",
       "dtype: object"
      ]
     },
     "execution_count": 329,
     "metadata": {},
     "output_type": "execute_result"
    }
   ],
   "source": [
    "df_final.dtypes"
   ]
  },
  {
   "cell_type": "markdown",
   "metadata": {},
   "source": [
    "Observe if the final dataset has missing values.\n",
    "\n",
    "count total NaN at each column in a DataFrame"
   ]
  },
  {
   "cell_type": "code",
   "execution_count": 330,
   "metadata": {},
   "outputs": [
    {
     "name": "stdout",
     "output_type": "stream",
     "text": [
      " \n",
      "Count total NaN at each column in a DataFrame : \n",
      "\n",
      " AIRLINE                      0\n",
      "FLIGHT_NUMBER                0\n",
      "TAIL_NUMBER               4557\n",
      "ORIGIN_AIRPORT               0\n",
      "DESTINATION_AIRPORT          0\n",
      "DEPARTURE_DELAY          30771\n",
      "SCHEDULED_TIME               2\n",
      "DISTANCE                     0\n",
      "CANCELLED                    0\n",
      "CANCELLATION_REASON    2426100\n",
      "AIR_SYSTEM_DELAY       1991785\n",
      "SECURITY_DELAY         1991785\n",
      "AIRLINE_DELAY          1991785\n",
      "LATE_AIRCRAFT_DELAY    1991785\n",
      "WEATHER_DELAY          1991785\n",
      "OR_CITY                      0\n",
      "OR_STATE                     0\n",
      "OR_LATITUDE               2222\n",
      "OR_LONGITUDE              2222\n",
      "DES_CITY                     0\n",
      "DES_STATE                    0\n",
      "DES_LATITUDE              2224\n",
      "DES_LONGITUDE             2224\n",
      "WEEKEND_DE                   0\n",
      "HOUR_DE                      0\n",
      "ARRIVAL_DELAY_v1         40100\n",
      "ARRIVAL_DELAY                0\n",
      "SPEED                        2\n",
      "dtype: int64\n"
     ]
    }
   ],
   "source": [
    "print(\" \\nCount total NaN at each column in a DataFrame : \\n\\n\",\n",
    "      df_final.isnull().sum())"
   ]
  },
  {
   "cell_type": "markdown",
   "metadata": {},
   "source": [
    "We observe that:\n",
    "1. there are several missing values in Tail_number --> will try to model with and without the variable\n",
    "2. missing values for departure delay means no delay --> recode as 0\n",
    "3. cancellation_reason missing means not canceled --> recode as 0\n",
    "4. delayed_reason missing means not delayed for it --> recode as 0\n",
    "5. missing values for latitude and longitude --> drop for now, but we can impute by looking up the latitude and longitude of the city"
   ]
  },
  {
   "cell_type": "code",
   "execution_count": 331,
   "metadata": {},
   "outputs": [],
   "source": [
    "# Replace missing values\n",
    "df_final['DEPARTURE_DELAY'] = df_final['DEPARTURE_DELAY'].fillna(0)\n",
    "df_final['CANCELLATION_REASON'] = df_final['CANCELLATION_REASON'].fillna(0)\n",
    "df_final['AIR_SYSTEM_DELAY'] = df_final['AIR_SYSTEM_DELAY'].fillna(0)\n",
    "df_final['SECURITY_DELAY'] = df_final['SECURITY_DELAY'].fillna(0)\n",
    "df_final['AIRLINE_DELAY'] = df_final['AIRLINE_DELAY'].fillna(0)\n",
    "df_final['LATE_AIRCRAFT_DELAY'] = df_final['LATE_AIRCRAFT_DELAY'].fillna(0)\n",
    "df_final['WEATHER_DELAY'] = df_final['WEATHER_DELAY'].fillna(0)\n",
    "df_final['ARRIVAL_DELAY_v1'] = df_final['ARRIVAL_DELAY_v1'].fillna(0)"
   ]
  },
  {
   "cell_type": "code",
   "execution_count": 332,
   "metadata": {},
   "outputs": [
    {
     "name": "stdout",
     "output_type": "stream",
     "text": [
      " \n",
      "Count total NaN at each column in a DataFrame : \n",
      "\n",
      " AIRLINE                   0\n",
      "FLIGHT_NUMBER             0\n",
      "TAIL_NUMBER            4557\n",
      "ORIGIN_AIRPORT            0\n",
      "DESTINATION_AIRPORT       0\n",
      "DEPARTURE_DELAY           0\n",
      "SCHEDULED_TIME            2\n",
      "DISTANCE                  0\n",
      "CANCELLED                 0\n",
      "CANCELLATION_REASON       0\n",
      "AIR_SYSTEM_DELAY          0\n",
      "SECURITY_DELAY            0\n",
      "AIRLINE_DELAY             0\n",
      "LATE_AIRCRAFT_DELAY       0\n",
      "WEATHER_DELAY             0\n",
      "OR_CITY                   0\n",
      "OR_STATE                  0\n",
      "OR_LATITUDE            2222\n",
      "OR_LONGITUDE           2222\n",
      "DES_CITY                  0\n",
      "DES_STATE                 0\n",
      "DES_LATITUDE           2224\n",
      "DES_LONGITUDE          2224\n",
      "WEEKEND_DE                0\n",
      "HOUR_DE                   0\n",
      "ARRIVAL_DELAY_v1          0\n",
      "ARRIVAL_DELAY             0\n",
      "SPEED                     2\n",
      "dtype: int64\n"
     ]
    }
   ],
   "source": [
    "# Count total NaN at each column in a DataFrame\n",
    "print(\" \\nCount total NaN at each column in a DataFrame : \\n\\n\",\n",
    "      df_final.isnull().sum())"
   ]
  },
  {
   "cell_type": "code",
   "execution_count": 333,
   "metadata": {},
   "outputs": [
    {
     "data": {
      "text/html": [
       "<div>\n",
       "<style scoped>\n",
       "    .dataframe tbody tr th:only-of-type {\n",
       "        vertical-align: middle;\n",
       "    }\n",
       "\n",
       "    .dataframe tbody tr th {\n",
       "        vertical-align: top;\n",
       "    }\n",
       "\n",
       "    .dataframe thead th {\n",
       "        text-align: right;\n",
       "    }\n",
       "</style>\n",
       "<table border=\"1\" class=\"dataframe\">\n",
       "  <thead>\n",
       "    <tr style=\"text-align: right;\">\n",
       "      <th></th>\n",
       "      <th>AIRLINE</th>\n",
       "      <th>FLIGHT_NUMBER</th>\n",
       "      <th>TAIL_NUMBER</th>\n",
       "      <th>ORIGIN_AIRPORT</th>\n",
       "      <th>DESTINATION_AIRPORT</th>\n",
       "      <th>DEPARTURE_DELAY</th>\n",
       "      <th>SCHEDULED_TIME</th>\n",
       "      <th>DISTANCE</th>\n",
       "      <th>CANCELLED</th>\n",
       "      <th>CANCELLATION_REASON</th>\n",
       "      <th>...</th>\n",
       "      <th>OR_LONGITUDE</th>\n",
       "      <th>DES_CITY</th>\n",
       "      <th>DES_STATE</th>\n",
       "      <th>DES_LATITUDE</th>\n",
       "      <th>DES_LONGITUDE</th>\n",
       "      <th>WEEKEND_DE</th>\n",
       "      <th>HOUR_DE</th>\n",
       "      <th>ARRIVAL_DELAY_v1</th>\n",
       "      <th>ARRIVAL_DELAY</th>\n",
       "      <th>SPEED</th>\n",
       "    </tr>\n",
       "  </thead>\n",
       "  <tbody>\n",
       "    <tr>\n",
       "      <th>0</th>\n",
       "      <td>UA</td>\n",
       "      <td>1238</td>\n",
       "      <td>N812UA</td>\n",
       "      <td>DEN</td>\n",
       "      <td>BIL</td>\n",
       "      <td>1.0</td>\n",
       "      <td>96.0</td>\n",
       "      <td>455</td>\n",
       "      <td>0</td>\n",
       "      <td>0</td>\n",
       "      <td>...</td>\n",
       "      <td>-104.66700</td>\n",
       "      <td>Billings</td>\n",
       "      <td>MT</td>\n",
       "      <td>45.80766</td>\n",
       "      <td>-108.54286</td>\n",
       "      <td>0</td>\n",
       "      <td>0</td>\n",
       "      <td>-17.0</td>\n",
       "      <td>0</td>\n",
       "      <td>4.739583</td>\n",
       "    </tr>\n",
       "    <tr>\n",
       "      <th>1</th>\n",
       "      <td>EV</td>\n",
       "      <td>6134</td>\n",
       "      <td>N14171</td>\n",
       "      <td>ORD</td>\n",
       "      <td>BNA</td>\n",
       "      <td>28.0</td>\n",
       "      <td>92.0</td>\n",
       "      <td>409</td>\n",
       "      <td>0</td>\n",
       "      <td>0</td>\n",
       "      <td>...</td>\n",
       "      <td>-87.90446</td>\n",
       "      <td>Nashville</td>\n",
       "      <td>TN</td>\n",
       "      <td>36.12448</td>\n",
       "      <td>-86.67818</td>\n",
       "      <td>0</td>\n",
       "      <td>0</td>\n",
       "      <td>19.0</td>\n",
       "      <td>1</td>\n",
       "      <td>4.445652</td>\n",
       "    </tr>\n",
       "    <tr>\n",
       "      <th>2</th>\n",
       "      <td>EV</td>\n",
       "      <td>4682</td>\n",
       "      <td>N15910</td>\n",
       "      <td>ORD</td>\n",
       "      <td>BHM</td>\n",
       "      <td>0.0</td>\n",
       "      <td>112.0</td>\n",
       "      <td>584</td>\n",
       "      <td>1</td>\n",
       "      <td>B</td>\n",
       "      <td>...</td>\n",
       "      <td>-87.90446</td>\n",
       "      <td>Birmingham</td>\n",
       "      <td>AL</td>\n",
       "      <td>33.56294</td>\n",
       "      <td>-86.75355</td>\n",
       "      <td>0</td>\n",
       "      <td>0</td>\n",
       "      <td>0.0</td>\n",
       "      <td>0</td>\n",
       "      <td>5.214286</td>\n",
       "    </tr>\n",
       "    <tr>\n",
       "      <th>3</th>\n",
       "      <td>UA</td>\n",
       "      <td>1550</td>\n",
       "      <td>N822UA</td>\n",
       "      <td>ORD</td>\n",
       "      <td>BTV</td>\n",
       "      <td>-3.0</td>\n",
       "      <td>122.0</td>\n",
       "      <td>763</td>\n",
       "      <td>0</td>\n",
       "      <td>0</td>\n",
       "      <td>...</td>\n",
       "      <td>-87.90446</td>\n",
       "      <td>Burlington</td>\n",
       "      <td>VT</td>\n",
       "      <td>44.47300</td>\n",
       "      <td>-73.15031</td>\n",
       "      <td>0</td>\n",
       "      <td>0</td>\n",
       "      <td>-8.0</td>\n",
       "      <td>0</td>\n",
       "      <td>6.254098</td>\n",
       "    </tr>\n",
       "    <tr>\n",
       "      <th>4</th>\n",
       "      <td>UA</td>\n",
       "      <td>1502</td>\n",
       "      <td>N33262</td>\n",
       "      <td>ORD</td>\n",
       "      <td>BOS</td>\n",
       "      <td>34.0</td>\n",
       "      <td>140.0</td>\n",
       "      <td>867</td>\n",
       "      <td>0</td>\n",
       "      <td>0</td>\n",
       "      <td>...</td>\n",
       "      <td>-87.90446</td>\n",
       "      <td>Boston</td>\n",
       "      <td>MA</td>\n",
       "      <td>42.36435</td>\n",
       "      <td>-71.00518</td>\n",
       "      <td>0</td>\n",
       "      <td>0</td>\n",
       "      <td>8.0</td>\n",
       "      <td>0</td>\n",
       "      <td>6.192857</td>\n",
       "    </tr>\n",
       "  </tbody>\n",
       "</table>\n",
       "<p>5 rows × 28 columns</p>\n",
       "</div>"
      ],
      "text/plain": [
       "  AIRLINE  FLIGHT_NUMBER TAIL_NUMBER ORIGIN_AIRPORT DESTINATION_AIRPORT  \\\n",
       "0      UA           1238      N812UA            DEN                 BIL   \n",
       "1      EV           6134      N14171            ORD                 BNA   \n",
       "2      EV           4682      N15910            ORD                 BHM   \n",
       "3      UA           1550      N822UA            ORD                 BTV   \n",
       "4      UA           1502      N33262            ORD                 BOS   \n",
       "\n",
       "   DEPARTURE_DELAY  SCHEDULED_TIME  DISTANCE  CANCELLED CANCELLATION_REASON  \\\n",
       "0              1.0            96.0       455          0                   0   \n",
       "1             28.0            92.0       409          0                   0   \n",
       "2              0.0           112.0       584          1                   B   \n",
       "3             -3.0           122.0       763          0                   0   \n",
       "4             34.0           140.0       867          0                   0   \n",
       "\n",
       "   ...  OR_LONGITUDE    DES_CITY  DES_STATE  DES_LATITUDE  DES_LONGITUDE  \\\n",
       "0  ...    -104.66700    Billings         MT      45.80766     -108.54286   \n",
       "1  ...     -87.90446   Nashville         TN      36.12448      -86.67818   \n",
       "2  ...     -87.90446  Birmingham         AL      33.56294      -86.75355   \n",
       "3  ...     -87.90446  Burlington         VT      44.47300      -73.15031   \n",
       "4  ...     -87.90446      Boston         MA      42.36435      -71.00518   \n",
       "\n",
       "  WEEKEND_DE HOUR_DE  ARRIVAL_DELAY_v1  ARRIVAL_DELAY     SPEED  \n",
       "0          0       0             -17.0              0  4.739583  \n",
       "1          0       0              19.0              1  4.445652  \n",
       "2          0       0               0.0              0  5.214286  \n",
       "3          0       0              -8.0              0  6.254098  \n",
       "4          0       0               8.0              0  6.192857  \n",
       "\n",
       "[5 rows x 28 columns]"
      ]
     },
     "execution_count": 333,
     "metadata": {},
     "output_type": "execute_result"
    }
   ],
   "source": [
    "df_final = df_final.dropna(axis=0, how='any')\n",
    "df_final.head()"
   ]
  },
  {
   "cell_type": "markdown",
   "metadata": {},
   "source": [
    "## Modelling"
   ]
  },
  {
   "cell_type": "markdown",
   "metadata": {},
   "source": [
    "### A. Treat 'arrival delay' as a dummy variable"
   ]
  },
  {
   "cell_type": "markdown",
   "metadata": {},
   "source": [
    "### Under-sampling issue"
   ]
  },
  {
   "cell_type": "code",
   "execution_count": 362,
   "metadata": {},
   "outputs": [
    {
     "data": {
      "text/plain": [
       "<matplotlib.axes._subplots.AxesSubplot at 0x292f7feb250>"
      ]
     },
     "execution_count": 362,
     "metadata": {},
     "output_type": "execute_result"
    },
    {
     "data": {
      "image/png": "[encoded data removed]",
      "text/plain": [
       "<Figure size 720x720 with 1 Axes>"
      ]
     },
     "metadata": {
      "needs_background": "light"
     },
     "output_type": "display_data"
    }
   ],
   "source": [
    "f, ax = plt.subplots(figsize=(10, 10))\n",
    "sns.countplot(x='ARRIVAL_DELAY',data=df_final)\n",
    "# unbalanced tag"
   ]
  },
  {
   "cell_type": "code",
   "execution_count": 363,
   "metadata": {},
   "outputs": [],
   "source": [
    "#unbalance study \n",
    "import imblearn\n",
    "from imblearn.under_sampling import RandomUnderSampler \n",
    "\n",
    "undersample = RandomUnderSampler(sampling_strategy=0.5)\n",
    "cols = df_final.columns.tolist()\n",
    "cols = [c for c in cols if c not in ['ARRIVAL_DELAY']]\n",
    "target = 'ARRIVAL_DELAY'"
   ]
  },
  {
   "cell_type": "markdown",
   "metadata": {},
   "source": [
    "Define our features and target."
   ]
  },
  {
   "cell_type": "code",
   "execution_count": 424,
   "metadata": {},
   "outputs": [],
   "source": [
    "x = ['AIRLINE','FLIGHT_NUMBER','ORIGIN_AIRPORT','DESTINATION_AIRPORT','DISTANCE','OR_STATE','OR_LATITUDE','OR_LONGITUDE','DES_STATE','DES_LATITUDE','DES_LONGITUDE','WEEKEND_DE','HOUR_DE']\n",
    "y = [\"ARRIVAL_DELAY\"]"
   ]
  },
  {
   "cell_type": "code",
   "execution_count": 425,
   "metadata": {},
   "outputs": [],
   "source": [
    "#undersample\n",
    "x_new, y_new = undersample.fit_resample(df_final[x], df_final[y])"
   ]
  },
  {
   "cell_type": "code",
   "execution_count": 426,
   "metadata": {},
   "outputs": [],
   "source": [
    "test = pd.DataFrame(y_new, columns = ['ARRIVAL_DELAY'])"
   ]
  },
  {
   "cell_type": "code",
   "execution_count": 427,
   "metadata": {},
   "outputs": [
    {
     "data": {
      "text/plain": [
       "Text(0.5, 1.0, 'After')"
      ]
     },
     "execution_count": 427,
     "metadata": {},
     "output_type": "execute_result"
    },
    {
     "data": {
      "image/png": "[encoded data removed]",
      "text/plain": [
       "<Figure size 936x324 with 2 Axes>"
      ]
     },
     "metadata": {
      "needs_background": "light"
     },
     "output_type": "display_data"
    }
   ],
   "source": [
    "#visualizing undersampling results\n",
    "fig, axs = plt.subplots(ncols=2, figsize=(13,4.5))\n",
    "sns.countplot(x='ARRIVAL_DELAY', data=df_final, ax=axs[0])\n",
    "sns.countplot(x='ARRIVAL_DELAY', data=test, ax=axs[1])\n",
    "\n",
    "fig.suptitle(\"Class repartition before and after undersampling\")\n",
    "a1=fig.axes[0]\n",
    "a1.set_title(\"Before\")\n",
    "a2=fig.axes[1]\n",
    "a2.set_title(\"After\")"
   ]
  },
  {
   "cell_type": "markdown",
   "metadata": {},
   "source": [
    "### Split test and train"
   ]
  },
  {
   "cell_type": "markdown",
   "metadata": {},
   "source": [
    "#### Column Transform\n"
   ]
  },
  {
   "cell_type": "markdown",
   "metadata": {},
   "source": [
    "We assume that we don't have \"outliers\", in other words, all infomation recorded are correct and meaningful, even though they are extreme."
   ]
  },
  {
   "cell_type": "code",
   "execution_count": 428,
   "metadata": {},
   "outputs": [
    {
     "name": "stdout",
     "output_type": "stream",
     "text": [
      "[dtype('O') dtype('int64') dtype('O') dtype('O') dtype('int64') dtype('O')\n",
      " dtype('float64') dtype('float64') dtype('O') dtype('float64')\n",
      " dtype('float64') dtype('int64') dtype('int64')]\n"
     ]
    }
   ],
   "source": [
    "X_type = np.array(df_final[x].dtypes)\n",
    "print(X_type)"
   ]
  },
  {
   "cell_type": "markdown",
   "metadata": {},
   "source": [
    "detype ('O'): airline, tail number, origin airport, destination airport, state (one-hot encoding), \n",
    "\n",
    "detype ('int64'): flight_number, weekend and hour (to string and one-hot encoding), distance (standardize) \n",
    "\n",
    "dtype('float64'): latitude and longtitude (as it is)"
   ]
  },
  {
   "cell_type": "code",
   "execution_count": 429,
   "metadata": {},
   "outputs": [],
   "source": [
    "x_new['WEEKEND_DE'] = x_new['WEEKEND_DE'].astype('O')\n",
    "x_new['HOUR_DE'] = x_new['HOUR_DE'].astype('O')\n",
    "x_new['FLIGHT_NUMBER'] = x_new['FLIGHT_NUMBER'].astype('O')"
   ]
  },
  {
   "cell_type": "code",
   "execution_count": 430,
   "metadata": {},
   "outputs": [
    {
     "data": {
      "text/html": [
       "<div>\n",
       "<style scoped>\n",
       "    .dataframe tbody tr th:only-of-type {\n",
       "        vertical-align: middle;\n",
       "    }\n",
       "\n",
       "    .dataframe tbody tr th {\n",
       "        vertical-align: top;\n",
       "    }\n",
       "\n",
       "    .dataframe thead th {\n",
       "        text-align: right;\n",
       "    }\n",
       "</style>\n",
       "<table border=\"1\" class=\"dataframe\">\n",
       "  <thead>\n",
       "    <tr style=\"text-align: right;\">\n",
       "      <th></th>\n",
       "      <th>AIRLINE</th>\n",
       "      <th>FLIGHT_NUMBER</th>\n",
       "      <th>ORIGIN_AIRPORT</th>\n",
       "      <th>DESTINATION_AIRPORT</th>\n",
       "      <th>DISTANCE</th>\n",
       "      <th>OR_STATE</th>\n",
       "      <th>OR_LATITUDE</th>\n",
       "      <th>OR_LONGITUDE</th>\n",
       "      <th>DES_STATE</th>\n",
       "      <th>DES_LATITUDE</th>\n",
       "      <th>DES_LONGITUDE</th>\n",
       "      <th>WEEKEND_DE</th>\n",
       "      <th>HOUR_DE</th>\n",
       "    </tr>\n",
       "  </thead>\n",
       "  <tbody>\n",
       "    <tr>\n",
       "      <th>0</th>\n",
       "      <td>B6</td>\n",
       "      <td>1002</td>\n",
       "      <td>FLL</td>\n",
       "      <td>JFK</td>\n",
       "      <td>1069</td>\n",
       "      <td>FL</td>\n",
       "      <td>26.07258</td>\n",
       "      <td>-80.15275</td>\n",
       "      <td>NY</td>\n",
       "      <td>40.63975</td>\n",
       "      <td>-73.77893</td>\n",
       "      <td>0</td>\n",
       "      <td>10</td>\n",
       "    </tr>\n",
       "    <tr>\n",
       "      <th>1</th>\n",
       "      <td>AA</td>\n",
       "      <td>1862</td>\n",
       "      <td>RSW</td>\n",
       "      <td>CLT</td>\n",
       "      <td>600</td>\n",
       "      <td>FL</td>\n",
       "      <td>26.53617</td>\n",
       "      <td>-81.75517</td>\n",
       "      <td>NC</td>\n",
       "      <td>35.21401</td>\n",
       "      <td>-80.94313</td>\n",
       "      <td>1</td>\n",
       "      <td>8</td>\n",
       "    </tr>\n",
       "    <tr>\n",
       "      <th>2</th>\n",
       "      <td>AA</td>\n",
       "      <td>246</td>\n",
       "      <td>KOA</td>\n",
       "      <td>LAX</td>\n",
       "      <td>2504</td>\n",
       "      <td>HI</td>\n",
       "      <td>19.73877</td>\n",
       "      <td>-156.04563</td>\n",
       "      <td>CA</td>\n",
       "      <td>33.94254</td>\n",
       "      <td>-118.40807</td>\n",
       "      <td>0</td>\n",
       "      <td>21</td>\n",
       "    </tr>\n",
       "    <tr>\n",
       "      <th>3</th>\n",
       "      <td>B6</td>\n",
       "      <td>2402</td>\n",
       "      <td>JFK</td>\n",
       "      <td>BUF</td>\n",
       "      <td>301</td>\n",
       "      <td>NY</td>\n",
       "      <td>40.63975</td>\n",
       "      <td>-73.77893</td>\n",
       "      <td>NY</td>\n",
       "      <td>42.94052</td>\n",
       "      <td>-78.73217</td>\n",
       "      <td>0</td>\n",
       "      <td>11</td>\n",
       "    </tr>\n",
       "    <tr>\n",
       "      <th>4</th>\n",
       "      <td>NK</td>\n",
       "      <td>913</td>\n",
       "      <td>MCI</td>\n",
       "      <td>DFW</td>\n",
       "      <td>460</td>\n",
       "      <td>MO</td>\n",
       "      <td>39.29761</td>\n",
       "      <td>-94.71391</td>\n",
       "      <td>TX</td>\n",
       "      <td>32.89595</td>\n",
       "      <td>-97.03720</td>\n",
       "      <td>0</td>\n",
       "      <td>17</td>\n",
       "    </tr>\n",
       "  </tbody>\n",
       "</table>\n",
       "</div>"
      ],
      "text/plain": [
       "  AIRLINE FLIGHT_NUMBER ORIGIN_AIRPORT DESTINATION_AIRPORT  DISTANCE OR_STATE  \\\n",
       "0      B6          1002            FLL                 JFK      1069       FL   \n",
       "1      AA          1862            RSW                 CLT       600       FL   \n",
       "2      AA           246            KOA                 LAX      2504       HI   \n",
       "3      B6          2402            JFK                 BUF       301       NY   \n",
       "4      NK           913            MCI                 DFW       460       MO   \n",
       "\n",
       "   OR_LATITUDE  OR_LONGITUDE DES_STATE  DES_LATITUDE  DES_LONGITUDE  \\\n",
       "0     26.07258     -80.15275        NY      40.63975      -73.77893   \n",
       "1     26.53617     -81.75517        NC      35.21401      -80.94313   \n",
       "2     19.73877    -156.04563        CA      33.94254     -118.40807   \n",
       "3     40.63975     -73.77893        NY      42.94052      -78.73217   \n",
       "4     39.29761     -94.71391        TX      32.89595      -97.03720   \n",
       "\n",
       "  WEEKEND_DE HOUR_DE  \n",
       "0          0      10  \n",
       "1          1       8  \n",
       "2          0      21  \n",
       "3          0      11  \n",
       "4          0      17  "
      ]
     },
     "execution_count": 430,
     "metadata": {},
     "output_type": "execute_result"
    }
   ],
   "source": [
    "x_new.head()"
   ]
  },
  {
   "cell_type": "code",
   "execution_count": 434,
   "metadata": {},
   "outputs": [
    {
     "data": {
      "image/png": "[encoded data removed]",
      "text/plain": [
       "<Figure size 432x288 with 1 Axes>"
      ]
     },
     "metadata": {
      "needs_background": "light"
     },
     "output_type": "display_data"
    }
   ],
   "source": [
    "plt.hist(x_new['FLIGHT_NUMBER'])\n",
    "plt.show()"
   ]
  },
  {
   "cell_type": "code",
   "execution_count": 435,
   "metadata": {},
   "outputs": [
    {
     "data": {
      "text/plain": [
       "AIRLINE                 object\n",
       "FLIGHT_NUMBER           object\n",
       "ORIGIN_AIRPORT          object\n",
       "DESTINATION_AIRPORT     object\n",
       "DISTANCE                 int64\n",
       "OR_STATE                object\n",
       "OR_LATITUDE            float64\n",
       "OR_LONGITUDE           float64\n",
       "DES_STATE               object\n",
       "DES_LATITUDE           float64\n",
       "DES_LONGITUDE          float64\n",
       "WEEKEND_DE              object\n",
       "HOUR_DE                 object\n",
       "dtype: object"
      ]
     },
     "execution_count": 435,
     "metadata": {},
     "output_type": "execute_result"
    }
   ],
   "source": [
    "x_new.dtypes"
   ]
  },
  {
   "cell_type": "code",
   "execution_count": 436,
   "metadata": {},
   "outputs": [
    {
     "name": "stdout",
     "output_type": "stream",
     "text": [
      "categorical cols: [0 2 3 5 8]\n",
      "numerical cols: [ 1  4 11 12]\n"
     ]
    }
   ],
   "source": [
    "numerical_ix = X_type==np.dtype('int64')\n",
    "numerical_cols = np.where(numerical_ix)\n",
    "\n",
    "categorical_ix = X_type==np.dtype('O')\n",
    "categorical_cols = np.where(categorical_ix)\n",
    "\n",
    "print('categorical cols:',categorical_cols[0])\n",
    "print('numerical cols:',numerical_cols[0])"
   ]
  },
  {
   "cell_type": "code",
   "execution_count": 439,
   "metadata": {},
   "outputs": [],
   "source": [
    "t = [('cat', OneHotEncoder(), categorical_cols[0]), ('num', StandardScaler(), numerical_cols[0])]\n",
    "col_transform = ColumnTransformer(transformers=t)"
   ]
  },
  {
   "cell_type": "code",
   "execution_count": 440,
   "metadata": {},
   "outputs": [
    {
     "name": "stdout",
     "output_type": "stream",
     "text": [
      "(1348005, 750)\n"
     ]
    }
   ],
   "source": [
    "X_new = col_transform.fit_transform(x_new)\n",
    "print(X_new.shape)"
   ]
  },
  {
   "cell_type": "code",
   "execution_count": 441,
   "metadata": {},
   "outputs": [
    {
     "name": "stdout",
     "output_type": "stream",
     "text": [
      "(1348005, 2)\n"
     ]
    }
   ],
   "source": [
    "Y_new =  OneHotEncoder().fit_transform(y_new)\n",
    "print(Y_new.shape)"
   ]
  },
  {
   "cell_type": "code",
   "execution_count": 442,
   "metadata": {},
   "outputs": [],
   "source": [
    "X_train, X_test, y_train, y_test = train_test_split(x_new, y_new, random_state=123, test_size=0.4, shuffle=True)"
   ]
  },
  {
   "cell_type": "markdown",
   "metadata": {},
   "source": [
    "### Model Training"
   ]
  },
  {
   "cell_type": "markdown",
   "metadata": {},
   "source": [
    "#### Logistic Regression"
   ]
  },
  {
   "cell_type": "code",
   "execution_count": 443,
   "metadata": {},
   "outputs": [
    {
     "ename": "ValueError",
     "evalue": "could not convert string to float: 'F9'",
     "output_type": "error",
     "traceback": [
      "\u001b[1;31m---------------------------------------------------------------------------\u001b[0m",
      "\u001b[1;31mValueError\u001b[0m                                Traceback (most recent call last)",
      "\u001b[1;32m<ipython-input-443-3c5dd795a75a>\u001b[0m in \u001b[0;36m<module>\u001b[1;34m\u001b[0m\n\u001b[0;32m      3\u001b[0m \u001b[1;33m\u001b[0m\u001b[0m\n\u001b[0;32m      4\u001b[0m \u001b[0mlr\u001b[0m \u001b[1;33m=\u001b[0m \u001b[0mLogisticRegression\u001b[0m\u001b[1;33m(\u001b[0m\u001b[0mmax_iter\u001b[0m \u001b[1;33m=\u001b[0m \u001b[1;36m10000\u001b[0m\u001b[1;33m,\u001b[0m \u001b[0mrandom_state\u001b[0m \u001b[1;33m=\u001b[0m \u001b[1;36m0\u001b[0m\u001b[1;33m)\u001b[0m\u001b[1;33m\u001b[0m\u001b[1;33m\u001b[0m\u001b[0m\n\u001b[1;32m----> 5\u001b[1;33m \u001b[0mlr\u001b[0m\u001b[1;33m.\u001b[0m\u001b[0mfit\u001b[0m\u001b[1;33m(\u001b[0m\u001b[0mX_train\u001b[0m\u001b[1;33m,\u001b[0m \u001b[0my_train\u001b[0m\u001b[1;33m.\u001b[0m\u001b[0mvalues\u001b[0m\u001b[1;33m.\u001b[0m\u001b[0mravel\u001b[0m\u001b[1;33m(\u001b[0m\u001b[1;33m)\u001b[0m\u001b[1;33m)\u001b[0m\u001b[1;33m\u001b[0m\u001b[1;33m\u001b[0m\u001b[0m\n\u001b[0m\u001b[0;32m      6\u001b[0m \u001b[1;33m\u001b[0m\u001b[0m\n\u001b[0;32m      7\u001b[0m \u001b[0mpred_1\u001b[0m \u001b[1;33m=\u001b[0m \u001b[0mlr\u001b[0m\u001b[1;33m.\u001b[0m\u001b[0mpredict\u001b[0m\u001b[1;33m(\u001b[0m\u001b[0mX_test\u001b[0m\u001b[1;33m)\u001b[0m\u001b[1;33m\u001b[0m\u001b[1;33m\u001b[0m\u001b[0m\n",
      "\u001b[1;32mD:\\Anaconda\\lib\\site-packages\\sklearn\\linear_model\\_logistic.py\u001b[0m in \u001b[0;36mfit\u001b[1;34m(self, X, y, sample_weight)\u001b[0m\n\u001b[0;32m   1506\u001b[0m             \u001b[0m_dtype\u001b[0m \u001b[1;33m=\u001b[0m \u001b[1;33m[\u001b[0m\u001b[0mnp\u001b[0m\u001b[1;33m.\u001b[0m\u001b[0mfloat64\u001b[0m\u001b[1;33m,\u001b[0m \u001b[0mnp\u001b[0m\u001b[1;33m.\u001b[0m\u001b[0mfloat32\u001b[0m\u001b[1;33m]\u001b[0m\u001b[1;33m\u001b[0m\u001b[1;33m\u001b[0m\u001b[0m\n\u001b[0;32m   1507\u001b[0m \u001b[1;33m\u001b[0m\u001b[0m\n\u001b[1;32m-> 1508\u001b[1;33m         X, y = self._validate_data(\n\u001b[0m\u001b[0;32m   1509\u001b[0m             \u001b[0mX\u001b[0m\u001b[1;33m,\u001b[0m\u001b[1;33m\u001b[0m\u001b[1;33m\u001b[0m\u001b[0m\n\u001b[0;32m   1510\u001b[0m             \u001b[0my\u001b[0m\u001b[1;33m,\u001b[0m\u001b[1;33m\u001b[0m\u001b[1;33m\u001b[0m\u001b[0m\n",
      "\u001b[1;32mD:\\Anaconda\\lib\\site-packages\\sklearn\\base.py\u001b[0m in \u001b[0;36m_validate_data\u001b[1;34m(self, X, y, reset, validate_separately, **check_params)\u001b[0m\n\u001b[0;32m    579\u001b[0m                 \u001b[0my\u001b[0m \u001b[1;33m=\u001b[0m \u001b[0mcheck_array\u001b[0m\u001b[1;33m(\u001b[0m\u001b[0my\u001b[0m\u001b[1;33m,\u001b[0m \u001b[1;33m**\u001b[0m\u001b[0mcheck_y_params\u001b[0m\u001b[1;33m)\u001b[0m\u001b[1;33m\u001b[0m\u001b[1;33m\u001b[0m\u001b[0m\n\u001b[0;32m    580\u001b[0m             \u001b[1;32melse\u001b[0m\u001b[1;33m:\u001b[0m\u001b[1;33m\u001b[0m\u001b[1;33m\u001b[0m\u001b[0m\n\u001b[1;32m--> 581\u001b[1;33m                 \u001b[0mX\u001b[0m\u001b[1;33m,\u001b[0m \u001b[0my\u001b[0m \u001b[1;33m=\u001b[0m \u001b[0mcheck_X_y\u001b[0m\u001b[1;33m(\u001b[0m\u001b[0mX\u001b[0m\u001b[1;33m,\u001b[0m \u001b[0my\u001b[0m\u001b[1;33m,\u001b[0m \u001b[1;33m**\u001b[0m\u001b[0mcheck_params\u001b[0m\u001b[1;33m)\u001b[0m\u001b[1;33m\u001b[0m\u001b[1;33m\u001b[0m\u001b[0m\n\u001b[0m\u001b[0;32m    582\u001b[0m             \u001b[0mout\u001b[0m \u001b[1;33m=\u001b[0m \u001b[0mX\u001b[0m\u001b[1;33m,\u001b[0m \u001b[0my\u001b[0m\u001b[1;33m\u001b[0m\u001b[1;33m\u001b[0m\u001b[0m\n\u001b[0;32m    583\u001b[0m \u001b[1;33m\u001b[0m\u001b[0m\n",
      "\u001b[1;32mD:\\Anaconda\\lib\\site-packages\\sklearn\\utils\\validation.py\u001b[0m in \u001b[0;36mcheck_X_y\u001b[1;34m(X, y, accept_sparse, accept_large_sparse, dtype, order, copy, force_all_finite, ensure_2d, allow_nd, multi_output, ensure_min_samples, ensure_min_features, y_numeric, estimator)\u001b[0m\n\u001b[0;32m    962\u001b[0m         \u001b[1;32mraise\u001b[0m \u001b[0mValueError\u001b[0m\u001b[1;33m(\u001b[0m\u001b[1;34m\"y cannot be None\"\u001b[0m\u001b[1;33m)\u001b[0m\u001b[1;33m\u001b[0m\u001b[1;33m\u001b[0m\u001b[0m\n\u001b[0;32m    963\u001b[0m \u001b[1;33m\u001b[0m\u001b[0m\n\u001b[1;32m--> 964\u001b[1;33m     X = check_array(\n\u001b[0m\u001b[0;32m    965\u001b[0m         \u001b[0mX\u001b[0m\u001b[1;33m,\u001b[0m\u001b[1;33m\u001b[0m\u001b[1;33m\u001b[0m\u001b[0m\n\u001b[0;32m    966\u001b[0m         \u001b[0maccept_sparse\u001b[0m\u001b[1;33m=\u001b[0m\u001b[0maccept_sparse\u001b[0m\u001b[1;33m,\u001b[0m\u001b[1;33m\u001b[0m\u001b[1;33m\u001b[0m\u001b[0m\n",
      "\u001b[1;32mD:\\Anaconda\\lib\\site-packages\\sklearn\\utils\\validation.py\u001b[0m in \u001b[0;36mcheck_array\u001b[1;34m(array, accept_sparse, accept_large_sparse, dtype, order, copy, force_all_finite, ensure_2d, allow_nd, ensure_min_samples, ensure_min_features, estimator)\u001b[0m\n\u001b[0;32m    744\u001b[0m                     \u001b[0marray\u001b[0m \u001b[1;33m=\u001b[0m \u001b[0marray\u001b[0m\u001b[1;33m.\u001b[0m\u001b[0mastype\u001b[0m\u001b[1;33m(\u001b[0m\u001b[0mdtype\u001b[0m\u001b[1;33m,\u001b[0m \u001b[0mcasting\u001b[0m\u001b[1;33m=\u001b[0m\u001b[1;34m\"unsafe\"\u001b[0m\u001b[1;33m,\u001b[0m \u001b[0mcopy\u001b[0m\u001b[1;33m=\u001b[0m\u001b[1;32mFalse\u001b[0m\u001b[1;33m)\u001b[0m\u001b[1;33m\u001b[0m\u001b[1;33m\u001b[0m\u001b[0m\n\u001b[0;32m    745\u001b[0m                 \u001b[1;32melse\u001b[0m\u001b[1;33m:\u001b[0m\u001b[1;33m\u001b[0m\u001b[1;33m\u001b[0m\u001b[0m\n\u001b[1;32m--> 746\u001b[1;33m                     \u001b[0marray\u001b[0m \u001b[1;33m=\u001b[0m \u001b[0mnp\u001b[0m\u001b[1;33m.\u001b[0m\u001b[0masarray\u001b[0m\u001b[1;33m(\u001b[0m\u001b[0marray\u001b[0m\u001b[1;33m,\u001b[0m \u001b[0morder\u001b[0m\u001b[1;33m=\u001b[0m\u001b[0morder\u001b[0m\u001b[1;33m,\u001b[0m \u001b[0mdtype\u001b[0m\u001b[1;33m=\u001b[0m\u001b[0mdtype\u001b[0m\u001b[1;33m)\u001b[0m\u001b[1;33m\u001b[0m\u001b[1;33m\u001b[0m\u001b[0m\n\u001b[0m\u001b[0;32m    747\u001b[0m             \u001b[1;32mexcept\u001b[0m \u001b[0mComplexWarning\u001b[0m \u001b[1;32mas\u001b[0m \u001b[0mcomplex_warning\u001b[0m\u001b[1;33m:\u001b[0m\u001b[1;33m\u001b[0m\u001b[1;33m\u001b[0m\u001b[0m\n\u001b[0;32m    748\u001b[0m                 raise ValueError(\n",
      "\u001b[1;31mValueError\u001b[0m: could not convert string to float: 'F9'"
     ]
    }
   ],
   "source": [
    "from sklearn.linear_model import LogisticRegression\n",
    "from sklearn.metrics import accuracy_score\n",
    "\n",
    "lr = LogisticRegression(max_iter = 10000, random_state = 0)\n",
    "lr.fit(X_train, y_train.values.ravel())\n",
    "\n",
    "pred_1 = lr.predict(X_test)\n",
    "score_1 = accuracy_score(y_test.values.ravel(),pred_1)"
   ]
  },
  {
   "cell_type": "code",
   "execution_count": null,
   "metadata": {},
   "outputs": [],
   "source": [
    "print(score_1)"
   ]
  },
  {
   "cell_type": "code",
   "execution_count": null,
   "metadata": {},
   "outputs": [],
   "source": [
    "from sklearn import metrics\n",
    "from sklearn.metrics import confusion_matrix\n",
    "from sklearn.metrics import roc_curve\n",
    "from sklearn.metrics import roc_auc_score\n",
    "from sklearn.metrics import auc\n",
    "from sklearn.metrics import precision_recall_curve\n",
    "\n",
    "#AUC\n",
    "auc_logit = metrics.roc_auc_score(y_test, pred_1)\n",
    "print(\"AUC Logistic Regression:\", auc_logit)"
   ]
  },
  {
   "cell_type": "code",
   "execution_count": null,
   "metadata": {},
   "outputs": [],
   "source": []
  }
 ],
 "metadata": {
  "kernelspec": {
   "display_name": "Python 3",
   "language": "python",
   "name": "python3"
  },
  "language_info": {
   "codemirror_mode": {
    "name": "ipython",
    "version": 3
   },
   "file_extension": ".py",
   "mimetype": "text/x-python",
   "name": "python",
   "nbconvert_exporter": "python",
   "pygments_lexer": "ipython3",
   "version": "3.8.3"
  },
  "toc": {
   "base_numbering": 1,
   "nav_menu": {},
   "number_sections": true,
   "sideBar": true,
   "skip_h1_title": false,
   "title_cell": "Table of Contents",
   "title_sidebar": "Contents",
   "toc_cell": false,
   "toc_position": {},
   "toc_section_display": true,
   "toc_window_display": false
  },
  "varInspector": {
   "cols": {
    "lenName": 16,
    "lenType": 16,
    "lenVar": 40
   },
   "kernels_config": {
    "python": {
     "delete_cmd_postfix": "",
     "delete_cmd_prefix": "del ",
     "library": "var_list.py",
     "varRefreshCmd": "print(var_dic_list())"
    },
    "r": {
     "delete_cmd_postfix": ") ",
     "delete_cmd_prefix": "rm(",
     "library": "var_list.r",
     "varRefreshCmd": "cat(var_dic_list()) "
    }
   },
   "types_to_exclude": [
    "module",
    "function",
    "builtin_function_or_method",
    "instance",
    "_Feature"
   ],
   "window_display": false
  }
 },
 "nbformat": 4,
 "nbformat_minor": 2
}
