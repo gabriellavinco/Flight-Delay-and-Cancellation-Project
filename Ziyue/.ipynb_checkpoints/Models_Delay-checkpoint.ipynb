{
 "cells": [
  {
   "cell_type": "markdown",
   "id": "5b1a7e17",
   "metadata": {},
   "source": [
    "# Travel Agency - Delay Prediction"
   ]
  },
  {
   "cell_type": "markdown",
   "id": "f46a386c",
   "metadata": {},
   "source": [
    "## Define functions for Preprocessing"
   ]
  },
  {
   "cell_type": "markdown",
   "id": "e2ab4a43",
   "metadata": {},
   "source": [
    "### Define functions for final data set construction"
   ]
  },
  {
   "cell_type": "markdown",
   "id": "83ad2749",
   "metadata": {},
   "source": [
    "Based on the observation of dataframes:\n",
    "1. In the model, the only variables we can use to predict are the ones in \"future_data\": scheduled_departure, scheduled_arrival, airline, flight_number, Tail_number, origin_airport, destination_airport, distance.\n",
    "\n",
    "2. Airline dataset: no added value information --> not used\n",
    "\n",
    "3. Airports dataset: latitude and longitude of airport, country, city, state of the airport --> should merge into both training and predicting datasets\n",
    "\n",
    "4. Historic data: to predict (1) continous arrival delay; (2) arrival delay dummy (15 mins as threshold); (3) arrival delay dummy (1 hour as threshold); (4) cancellation dummy;\n",
    "\n",
    "5. Additionally, we can also see the most important factor for delay or cancellation."
   ]
  },
  {
   "cell_type": "markdown",
   "id": "e423b27c",
   "metadata": {},
   "source": [
    "Here are the steps for constructing final data sets for modelling and prediction:\n",
    "1. Calculate arrival dalay\n",
    "2. Merge Airports dataset to historic and future data\n",
    "3. Extract datetime variables\n",
    "4. Construct labels for prediction\n",
    "5. Drop irrelative variables for prediction\n",
    "6. Replace missing values\n",
    "\n",
    "As for missing values, we observe that:\n",
    "1. there are several missing values in Tail_number --> drop them \n",
    "2. missing values for departure delay means no delay --> recode as 0\n",
    "3. cancellation_reason missing means not canceled --> recode as 0\n",
    "4. delayed_reason missing means not delayed for it --> recode as 0\n",
    "5. missing values for latitude and longitude --> drop them"
   ]
  },
  {
   "cell_type": "code",
   "execution_count": 134,
   "id": "5f9922d5",
   "metadata": {
    "execution": {
     "iopub.execute_input": "2022-04-22T21:21:45.514554Z",
     "iopub.status.busy": "2022-04-22T21:21:45.514202Z",
     "iopub.status.idle": "2022-04-22T21:21:45.536229Z",
     "shell.execute_reply": "2022-04-22T21:21:45.535622Z",
     "shell.execute_reply.started": "2022-04-22T21:21:45.514467Z"
    },
    "tags": []
   },
   "outputs": [],
   "source": [
    "def featureEngineeringDelay(df_train, df_future, df_airports):\n",
    "    \n",
    "    # df_train=df_hdata\n",
    "    \n",
    "    # Calculate arrival dalay\n",
    "    fmt=\"%Y/%m/%d %H:%M:%S\"\n",
    "    fmt2=\"%H:%M:%S\"\n",
    "\n",
    "    # build dates on each flight stage\n",
    "    # 1) add date to departure time\n",
    "    df_train['DEPARTURE_DELAY'][df_train['DEPARTURE_DELAY'].isna()]=0\n",
    "    df_train['SCHEDULED_DEPARTURE']=pd.to_datetime(df_train['SCHEDULED_DEPARTURE'], format=fmt)\n",
    "    df_train['DEP_date_time']=df_train['SCHEDULED_DEPARTURE']+pd.to_timedelta(df_train['DEPARTURE_DELAY'],'m')\n",
    "    # 2) arrival_time: DEP_date_time+ tax_out (min)+airtime (min)+tax_in (min)\n",
    "    df_train['Arr_date_time']=df_train['DEP_date_time']+ pd.to_timedelta(df_train['TAXI_IN'],'m')+pd.to_timedelta(df_train['TAXI_OUT'],'m')+ pd.to_timedelta(df_train['AIR_TIME'],'m')\n",
    "    # 3)compute the date of schedule arrival: SCHEDULED_DEPARTURE+SCHEDULED_TIME (min)\n",
    "    df_train['SCH_ARR_date_time']=pd.to_datetime(df_train['SCHEDULED_DEPARTURE'], format=fmt)+pd.to_timedelta(df_train['SCHEDULED_TIME'],'m')\n",
    "    # 4) compute arrival delay: schedule arrival-Arr_date_time\n",
    "    df_train['ARRIVAL_DELAY']=(df_train['Arr_date_time']-df_train['SCH_ARR_date_time']).astype('timedelta64[m]')\n",
    "    # 5) for nan in AIR TIME -build wheels_on\n",
    "    # 5.1) compute wheels_on, wheels_off\n",
    "    df_train['WHEELS_OFF']=df_train['DEP_date_time']+pd.to_timedelta(df_train['TAXI_OUT'],'m')\n",
    "    df_train['WHEELS_ON']=df_train['Arr_date_time']-pd.to_timedelta(df_train['TAXI_IN'],'m')\n",
    "\n",
    "    # Merge Airports dataset to df_train and df_future\n",
    "    df_air_or = df_airports.rename(columns={'IATA_CODE':'ORIGIN_AIRPORT', 'CITY': 'OR_CITY', 'STATE': 'OR_STATE', 'COUNTRY': \n",
    "                                            'OR_COUNTRY', 'LATITUDE': 'OR_LATITUDE', 'LONGITUDE': 'OR_LONGITUDE'}, index={'ONE': 'Row_1'})\n",
    "    df_air_des = df_airports.rename(columns={'IATA_CODE':'DESTINATION_AIRPORT', 'CITY': 'DES_CITY', 'STATE': 'DES_STATE', 'COUNTRY':\n",
    "                                             'DES_COUNTRY', 'LATITUDE': 'DES_LATITUDE', 'LONGITUDE': 'DES_LONGITUDE'}, index={'ONE': 'Row_1'})    \n",
    "    df_final1 = df_train.merge(df_air_or, how='left', on='ORIGIN_AIRPORT', left_index=False, right_index=False, sort=False, suffixes=('_x', '_y'), copy=True, indicator=False, validate=None)\n",
    "    df_final2 = df_final1.merge(df_air_des, how='left', on='DESTINATION_AIRPORT', left_index=False, right_index=False, sort=False, suffixes=('_x', '_y'), copy=True, indicator=False, validate=None)        \n",
    "    df_final = df_final2.drop(['AIRPORT_y','AIRPORT_x'], axis = 1)\n",
    "    \n",
    "    df_predict1 = df_future.merge(df_air_or, how='left', on='ORIGIN_AIRPORT', left_index=False, right_index=False, sort=False, suffixes=('_x', '_y'), copy=True, indicator=False, validate=None)\n",
    "    df_predict2 = df_predict1.merge(df_air_des, how='left', on='DESTINATION_AIRPORT', left_index=False, right_index=False, sort=False, suffixes=('_x', '_y'), copy=True, indicator=False, validate=None)    \n",
    "    df_predict = df_predict2.drop(['AIRPORT_y','AIRPORT_x'], axis = 1)\n",
    "    \n",
    "    # DATE TIME (HOUR, DAY, WEEKDAY): all observations come from the same year, then not useful in the model; Month varies from 3 to 7, avoid the summer or winter vacation already, then maybe not that useful.\n",
    "    df_final['DAY_DE'] = df_final['SCHEDULED_DEPARTURE'].dt.day\n",
    "    df_final['WEEKDAY_DE'] = df_final['SCHEDULED_DEPARTURE'].dt.weekday\n",
    "    df_final['WEEKEND_DE'] = df_final['WEEKDAY_DE'].apply(lambda x: 1 if x >= 6 else 0)\n",
    "    df_final['HOUR_DE'] = df_final['SCHEDULED_DEPARTURE'].dt.hour\n",
    "    df_final['HOUR_AR'] = df_final['SCH_ARR_date_time'].dt.hour\n",
    "\n",
    "    # Future data dates\n",
    "    df_predict['SCHEDULED_ARRIVAL']=pd.to_datetime(df_predict['SCHEDULED_ARRIVAL'], format=fmt2)\n",
    "    df_predict['SCHEDULED_DEPARTURE']=pd.to_datetime(df_predict['SCHEDULED_DEPARTURE'])\n",
    "    df_predict['DAY_DE'] = df_predict['SCHEDULED_DEPARTURE'].dt.day\n",
    "    df_predict['WEEKDAY_DE'] = df_predict['SCHEDULED_DEPARTURE'].dt.weekday\n",
    "    df_predict['WEEKEND_DE'] = df_predict['WEEKDAY_DE'].apply(lambda x: 1 if x >= 6 else 0)\n",
    "    df_predict['HOUR_DE'] = df_predict['SCHEDULED_DEPARTURE'].dt.hour\n",
    "    df_predict['HOUR_AR'] = df_predict['SCHEDULED_ARRIVAL'].dt.hour\n",
    "\n",
    "    # Approach as classification problem: \n",
    "    #\"A flight os counted as \"on time\" if it operated less than 15 minutes later than the scheduled time shown \n",
    "    # in the carriers' Computerozed Researvation Systems (CRS)\"\n",
    "    \n",
    "    df_final['ARRIVAL_DELAY_15M'] = 0\n",
    "    df_final['ARRIVAL_DELAY_15M'][df_final['ARRIVAL_DELAY'] > 15]=1\n",
    "    \n",
    "    df_final['ARRIVAL_DELAY_1HR'] = 0\n",
    "    df_final['ARRIVAL_DELAY_1HR'][df_final['ARRIVAL_DELAY'] > 60]=1\n",
    "    \n",
    "    df_final['DEPARTURE_DELAY_15M'] = 0\n",
    "    df_final['DEPARTURE_DELAY_15M'][df_final['DEPARTURE_DELAY']> 15]=1\n",
    "    \n",
    "    #CANCELLATION_REASON - Reason for Cancellation of flight: A - Airline/Carrier; B - Weather; C - National Air System; D - Security\n",
    "    df_final['CANCELLED_Carrier'] = 0\n",
    "    df_final['CANCELLED_Carrier'][df_final['CANCELLATION_REASON'] == \"A\"]=1\n",
    "    \n",
    "    df_final['CANCELLED_Weather'] = 0\n",
    "    df_final['CANCELLED_Weather'][df_final['CANCELLATION_REASON'] == \"B\"]=1\n",
    "    \n",
    "    df_final['CANCELLED_System'] = 0\n",
    "    df_final['CANCELLED_System'][df_final['CANCELLATION_REASON'] == \"C\"]=1\n",
    "    \n",
    "    df_final['CANCELLED_Security'] = 0\n",
    "    df_final['CANCELLED_Security'][df_final['CANCELLATION_REASON'] == \"D\"]=1\n",
    "        \n",
    "    # drop varaibles\n",
    "    df_final.drop(columns=['DEPARTURE_TIME', 'SCHEDULED_ARRIVAL','ARRIVAL_TIME','SCHEDULED_DEPARTURE', 'TAXI_OUT', 'WHEELS_OFF', \n",
    "                           'WHEELS_ON', 'TAXI_IN', 'ELAPSED_TIME','AIR_TIME','OR_COUNTRY','DES_COUNTRY','DEP_date_time','Arr_date_time',\n",
    "                           'SCH_ARR_date_time','CANCELLATION_REASON'], inplace=True)\n",
    "    \n",
    "    df_predict.drop(columns=[ 'SCHEDULED_ARRIVAL','SCHEDULED_DEPARTURE','OR_COUNTRY','DES_COUNTRY'], inplace=True)\n",
    "\n",
    "    # Further refinement: the numbers of flights on land and air on certain moment can play a role\n",
    "    # number of fligths per airplane - tail number\n",
    "    \n",
    "    #TEMPORAL SOLUTION FOR THESE NAN: replace missing values\n",
    "    df_final['DEPARTURE_DELAY'] = df_final['DEPARTURE_DELAY'].fillna(0)\n",
    "    df_final['AIR_SYSTEM_DELAY'] = df_final['AIR_SYSTEM_DELAY'].fillna(0)\n",
    "    df_final['SECURITY_DELAY'] = df_final['SECURITY_DELAY'].fillna(0)\n",
    "    df_final['AIRLINE_DELAY'] = df_final['AIRLINE_DELAY'].fillna(0)\n",
    "    df_final['LATE_AIRCRAFT_DELAY'] = df_final['LATE_AIRCRAFT_DELAY'].fillna(0)\n",
    "    df_final['WEATHER_DELAY'] = df_final['WEATHER_DELAY'].fillna(0)    \n",
    "\n",
    "    df_final = df_final.dropna(axis=0, how='any')\n",
    "\n",
    "    return(df_final,df_predict)"
   ]
  },
  {
   "cell_type": "code",
   "execution_count": 135,
   "id": "37558d93",
   "metadata": {},
   "outputs": [],
   "source": [
    "#def missingness(data):\n",
    "    \n",
    "#    missingness_c = pd.DataFrame(np.column_stack([data.columns, data.isna().sum()]), columns=['Features', 'Missingness'])\n",
    "#    missingness_c['percentage'] = missingness_c.Missingness/len(data)\n",
    "\n",
    "#    return missingness_c"
   ]
  },
  {
   "cell_type": "markdown",
   "id": "1a8bb849",
   "metadata": {},
   "source": [
    "### Define function for columns transformation"
   ]
  },
  {
   "cell_type": "markdown",
   "id": "97b46ed0",
   "metadata": {},
   "source": [
    "For continous label, we use OneHotEncoder for categorical variables, StandardScaler() for numerical variables."
   ]
  },
  {
   "cell_type": "code",
   "execution_count": 136,
   "id": "fb51407b",
   "metadata": {},
   "outputs": [],
   "source": [
    "def encoders_con(x_train, x_test):\n",
    "    \n",
    "    # determine categorical and numerical features\n",
    "    numerical = x_train.select_dtypes(include=['int64','float64']).columns\n",
    "    categorical =x_train.select_dtypes(include=['object']).columns\n",
    "    print(f\"Categorical columns are: {categorical}\")\n",
    "    print(f\"Numerical columns are: {numerical}\")\n",
    "\n",
    "    # pipe for cat vars     \n",
    "    cat_pipe = Pipeline([('imputer', SimpleImputer(strategy='constant', fill_value='missing')),\n",
    "                         ('encoder', OneHotEncoder(handle_unknown='ignore', sparse=False))])\n",
    "    \n",
    "    # define value pipeline\n",
    "    num_pipe = Pipeline([('imputer', SimpleImputer(strategy='median')),\n",
    "                         ('scaler', StandardScaler())])\n",
    "\n",
    "    # combined classification pipeline and numerical pipeline\n",
    "    preprocessor = ColumnTransformer(transformers=[('cat', cat_pipe, categorical),\n",
    "                                                   ('num', num_pipe, numerical)])\n",
    "    preprocessor.fit(x_train)\n",
    "    \n",
    "    x_train=preprocessor.transform(x_train)\n",
    "    x_test=preprocessor.transform(x_test)\n",
    "    \n",
    "    print(f\"x_train shape: {x_train.shape}\")\n",
    "    print(f\"x_test shape: {x_test.shape}\")\n",
    "\n",
    "    return (x_train,x_test)"
   ]
  },
  {
   "cell_type": "markdown",
   "id": "83d2de27",
   "metadata": {},
   "source": [
    "For categorical label, we use WOEEncoder() for categorical variables, StandardScaler() for numerical variables."
   ]
  },
  {
   "cell_type": "code",
   "execution_count": 137,
   "id": "8638db83",
   "metadata": {},
   "outputs": [],
   "source": [
    "def encoders_cat(X_train, X_test, y_train,df_futurefd):\n",
    "    \n",
    "    # create lists of numeric and categorical features  \n",
    "    numerical = X_train.select_dtypes(include=['int64', 'float64']).columns\n",
    "    categorical = X_train.select_dtypes(include=['object']).columns\n",
    "    print(f\"Categorical columns are: {categorical}\")\n",
    "    print(f\"Numerical columns are: {numerical}\")\n",
    "    \n",
    "    #cat_cols_index = X_train.columns.get_indexer(categorical_features )\n",
    "\n",
    "    # create a numeric and categorical transformer to perform preprocessing steps\n",
    "    numeric_trans = Pipeline(steps=[('imputer', SimpleImputer(strategy='median')),\n",
    "                                    ('scaler', StandardScaler())])\n",
    "\n",
    "    categorical_trans= Pipeline(steps=[('imputer', SimpleImputer(strategy='constant', fill_value='missing')),\n",
    "                                       ('woe', ce.woe.WOEEncoder())])\n",
    "\n",
    "    # use the ColumnTransformer to apply to the correct features\n",
    "    preprocessor= ColumnTransformer(transformers=[('num', numeric_trans , numerical),\n",
    "                                                  ('cat', categorical_trans, categorical)])\n",
    "\n",
    "    preprocessor.fit(X_train, y_train)\n",
    "\n",
    "    X_train=preprocessor.transform(X_train)\n",
    "    X_test=preprocessor.transform(X_test)\n",
    "    X_predict=preprocessor.transform(df_futurefd)\n",
    "    \n",
    "    k_values = [1, 2, 3, 4, 5, 6, 7]\n",
    "    for k in k_values:\n",
    "        over = SMOTE(sampling_strategy=0.3, k_neighbors=k)\n",
    "        under = RandomUnderSampler(sampling_strategy=0.5)\n",
    "    X, y = over.fit_resample(X_train, y_train)\n",
    "    X_train, y_train = under.fit_resample(X, y)\n",
    "    \n",
    "    return (X_train,X_test,y_train, X_predict)"
   ]
  },
  {
   "cell_type": "markdown",
   "id": "843cd3a7",
   "metadata": {},
   "source": [
    "## Load Datasets"
   ]
  },
  {
   "cell_type": "markdown",
   "id": "861e95ae",
   "metadata": {},
   "source": [
    "Change your path here:"
   ]
  },
  {
   "cell_type": "code",
   "execution_count": 138,
   "id": "e03fe946",
   "metadata": {},
   "outputs": [
    {
     "name": "stdout",
     "output_type": "stream",
     "text": [
      "D:\\KU Leuven\\2022 Spring\\statistical consulting\\Group Project\\data_travel_agency\n"
     ]
    }
   ],
   "source": [
    "cd \"D:\\KU Leuven\\2022 Spring\\statistical consulting\\Group Project\\data_travel_agency\""
   ]
  },
  {
   "cell_type": "code",
   "execution_count": 139,
   "id": "f0cbf435",
   "metadata": {
    "execution": {
     "iopub.execute_input": "2022-04-22T21:21:58.040364Z",
     "iopub.status.busy": "2022-04-22T21:21:58.040062Z",
     "iopub.status.idle": "2022-04-22T21:22:10.348157Z",
     "shell.execute_reply": "2022-04-22T21:22:10.347636Z",
     "shell.execute_reply.started": "2022-04-22T21:21:58.040335Z"
    },
    "tags": []
   },
   "outputs": [
    {
     "name": "stderr",
     "output_type": "stream",
     "text": [
      "<ipython-input-134-0f2fe01b579f>:11: SettingWithCopyWarning: \n",
      "A value is trying to be set on a copy of a slice from a DataFrame\n",
      "\n",
      "See the caveats in the documentation: https://pandas.pydata.org/pandas-docs/stable/user_guide/indexing.html#returning-a-view-versus-a-copy\n",
      "  df_train['DEPARTURE_DELAY'][df_train['DEPARTURE_DELAY'].isna()]=0\n",
      "<ipython-input-134-0f2fe01b579f>:60: SettingWithCopyWarning: \n",
      "A value is trying to be set on a copy of a slice from a DataFrame\n",
      "\n",
      "See the caveats in the documentation: https://pandas.pydata.org/pandas-docs/stable/user_guide/indexing.html#returning-a-view-versus-a-copy\n",
      "  df_final['ARRIVAL_DELAY_15M'][df_final['ARRIVAL_DELAY'] > 15]=1\n",
      "<ipython-input-134-0f2fe01b579f>:63: SettingWithCopyWarning: \n",
      "A value is trying to be set on a copy of a slice from a DataFrame\n",
      "\n",
      "See the caveats in the documentation: https://pandas.pydata.org/pandas-docs/stable/user_guide/indexing.html#returning-a-view-versus-a-copy\n",
      "  df_final['ARRIVAL_DELAY_1HR'][df_final['ARRIVAL_DELAY'] > 60]=1\n",
      "<ipython-input-134-0f2fe01b579f>:66: SettingWithCopyWarning: \n",
      "A value is trying to be set on a copy of a slice from a DataFrame\n",
      "\n",
      "See the caveats in the documentation: https://pandas.pydata.org/pandas-docs/stable/user_guide/indexing.html#returning-a-view-versus-a-copy\n",
      "  df_final['DEPARTURE_DELAY_15M'][df_final['DEPARTURE_DELAY']> 15]=1\n",
      "<ipython-input-134-0f2fe01b579f>:70: SettingWithCopyWarning: \n",
      "A value is trying to be set on a copy of a slice from a DataFrame\n",
      "\n",
      "See the caveats in the documentation: https://pandas.pydata.org/pandas-docs/stable/user_guide/indexing.html#returning-a-view-versus-a-copy\n",
      "  df_final['CANCELLED_Carrier'][df_final['CANCELLATION_REASON'] == \"A\"]=1\n",
      "<ipython-input-134-0f2fe01b579f>:73: SettingWithCopyWarning: \n",
      "A value is trying to be set on a copy of a slice from a DataFrame\n",
      "\n",
      "See the caveats in the documentation: https://pandas.pydata.org/pandas-docs/stable/user_guide/indexing.html#returning-a-view-versus-a-copy\n",
      "  df_final['CANCELLED_Weather'][df_final['CANCELLATION_REASON'] == \"B\"]=1\n",
      "<ipython-input-134-0f2fe01b579f>:76: SettingWithCopyWarning: \n",
      "A value is trying to be set on a copy of a slice from a DataFrame\n",
      "\n",
      "See the caveats in the documentation: https://pandas.pydata.org/pandas-docs/stable/user_guide/indexing.html#returning-a-view-versus-a-copy\n",
      "  df_final['CANCELLED_System'][df_final['CANCELLATION_REASON'] == \"C\"]=1\n",
      "<ipython-input-134-0f2fe01b579f>:79: SettingWithCopyWarning: \n",
      "A value is trying to be set on a copy of a slice from a DataFrame\n",
      "\n",
      "See the caveats in the documentation: https://pandas.pydata.org/pandas-docs/stable/user_guide/indexing.html#returning-a-view-versus-a-copy\n",
      "  df_final['CANCELLED_Security'][df_final['CANCELLATION_REASON'] == \"D\"]=1\n"
     ]
    }
   ],
   "source": [
    "from sklearn import model_selection\n",
    "from sklearn.linear_model import LinearRegression\n",
    "from sklearn.datasets import fetch_openml\n",
    "from sklearn.compose import ColumnTransformer\n",
    "from sklearn.impute import SimpleImputer\n",
    "from sklearn.preprocessing import StandardScaler, OneHotEncoder\n",
    "import category_encoders as ce\n",
    "from numpy import mean\n",
    "from sklearn.datasets import make_classification\n",
    "from sklearn.model_selection import cross_val_score\n",
    "from sklearn.model_selection import RepeatedStratifiedKFold\n",
    "from sklearn.tree import DecisionTreeClassifier\n",
    "from imblearn.pipeline import Pipeline\n",
    "from imblearn.over_sampling import SMOTE,SMOTENC \n",
    "from imblearn.under_sampling import RandomUnderSampler\n",
    "from sklearn.model_selection import train_test_split\n",
    "from sklearn.linear_model import LogisticRegression\n",
    "from sklearn.preprocessing import StandardScaler, RobustScaler, QuantileTransformer\n",
    "import pandas as pd\n",
    "import os\n",
    "from sklearn.metrics import classification_report\n",
    "\n",
    "df_airports = pd.read_csv('airports.csv')\n",
    "df_hdata = pd.read_csv('historic_data.csv', low_memory=False)\n",
    "df_future = pd.read_csv('future_data.csv', low_memory=False)\n",
    "# preprocesing\n",
    "feature_hd, feature_fd = featureEngineeringDelay(df_hdata, df_future, df_airports)\n"
   ]
  },
  {
   "cell_type": "code",
   "execution_count": 45,
   "id": "04b01718",
   "metadata": {},
   "outputs": [
    {
     "data": {
      "text/plain": [
       "array([[<matplotlib.axes._subplots.AxesSubplot object at 0x000001A55F5F3CA0>,\n",
       "        <matplotlib.axes._subplots.AxesSubplot object at 0x000001A55BCFBBE0>,\n",
       "        <matplotlib.axes._subplots.AxesSubplot object at 0x000001A55BDA45E0>,\n",
       "        <matplotlib.axes._subplots.AxesSubplot object at 0x000001A55BDCDD60>],\n",
       "       [<matplotlib.axes._subplots.AxesSubplot object at 0x000001A55BE04520>,\n",
       "        <matplotlib.axes._subplots.AxesSubplot object at 0x000001A55BE2FBE0>,\n",
       "        <matplotlib.axes._subplots.AxesSubplot object at 0x000001A55BE2FCD0>,\n",
       "        <matplotlib.axes._subplots.AxesSubplot object at 0x000001A55BE644F0>],\n",
       "       [<matplotlib.axes._subplots.AxesSubplot object at 0x000001A55BEC33A0>,\n",
       "        <matplotlib.axes._subplots.AxesSubplot object at 0x000001A55BEEEB20>,\n",
       "        <matplotlib.axes._subplots.AxesSubplot object at 0x000001A55DAE32E0>,\n",
       "        <matplotlib.axes._subplots.AxesSubplot object at 0x000001A55DB0EA60>],\n",
       "       [<matplotlib.axes._subplots.AxesSubplot object at 0x000001A55DB45220>,\n",
       "        <matplotlib.axes._subplots.AxesSubplot object at 0x000001A55DB6D9A0>,\n",
       "        <matplotlib.axes._subplots.AxesSubplot object at 0x000001A55DBA60A0>,\n",
       "        <matplotlib.axes._subplots.AxesSubplot object at 0x000001A55DBC39D0>]],\n",
       "      dtype=object)"
      ]
     },
     "execution_count": 45,
     "metadata": {},
     "output_type": "execute_result"
    },
    {
     "data": {
      "image/png": "[encoded data removed]",
      "text/plain": [
       "<Figure size 900x720 with 16 Axes>"
      ]
     },
     "metadata": {
      "needs_background": "light"
     },
     "output_type": "display_data"
    }
   ],
   "source": [
    "feature_hd['ARRIVAL_DELAY_15M'].hist(by=feature_hd['AIRLINE'], figsize = (12.5,10))"
   ]
  },
  {
   "cell_type": "markdown",
   "id": "0794dff4",
   "metadata": {},
   "source": [
    "Should use the top airlines: AA, DL, EV, UA, OO, WN"
   ]
  },
  {
   "cell_type": "code",
   "execution_count": 35,
   "id": "c1a2981a",
   "metadata": {},
   "outputs": [
    {
     "data": {
      "image/png": "[encoded data removed]",
      "text/plain": [
       "<Figure size 432x288 with 1 Axes>"
      ]
     },
     "metadata": {
      "needs_background": "light"
     },
     "output_type": "display_data"
    }
   ],
   "source": [
    "plt.hist(feature_hd['AIRLINE'])\n",
    "plt.show()"
   ]
  },
  {
   "cell_type": "markdown",
   "id": "c687e8e3",
   "metadata": {},
   "source": [
    "Verify that six out of these airline account for the majority of the dataset.To avoid using OneHotEncoder() results in lots of undesired variable -- keep the top six airlines."
   ]
  },
  {
   "cell_type": "code",
   "execution_count": 140,
   "id": "f0ef9ba9",
   "metadata": {},
   "outputs": [],
   "source": [
    "feature_hd = feature_hd[(feature_hd.AIRLINE == 'AA') | (feature_hd.AIRLINE == 'DL')| (feature_hd.AIRLINE == 'EV') | (feature_hd.AIRLINE == 'UA') | (feature_hd.AIRLINE == 'OO')| (feature_hd.AIRLINE =='WN')]"
   ]
  },
  {
   "cell_type": "code",
   "execution_count": 141,
   "id": "17073d75",
   "metadata": {},
   "outputs": [
    {
     "data": {
      "text/html": [
       "<div>\n",
       "<style scoped>\n",
       "    .dataframe tbody tr th:only-of-type {\n",
       "        vertical-align: middle;\n",
       "    }\n",
       "\n",
       "    .dataframe tbody tr th {\n",
       "        vertical-align: top;\n",
       "    }\n",
       "\n",
       "    .dataframe thead th {\n",
       "        text-align: right;\n",
       "    }\n",
       "</style>\n",
       "<table border=\"1\" class=\"dataframe\">\n",
       "  <thead>\n",
       "    <tr style=\"text-align: right;\">\n",
       "      <th></th>\n",
       "      <th>AIRLINE</th>\n",
       "      <th>FLIGHT_NUMBER</th>\n",
       "      <th>TAIL_NUMBER</th>\n",
       "      <th>ORIGIN_AIRPORT</th>\n",
       "      <th>DESTINATION_AIRPORT</th>\n",
       "      <th>DEPARTURE_DELAY</th>\n",
       "      <th>SCHEDULED_TIME</th>\n",
       "      <th>DISTANCE</th>\n",
       "      <th>CANCELLED</th>\n",
       "      <th>AIR_SYSTEM_DELAY</th>\n",
       "      <th>...</th>\n",
       "      <th>WEEKEND_DE</th>\n",
       "      <th>HOUR_DE</th>\n",
       "      <th>HOUR_AR</th>\n",
       "      <th>ARRIVAL_DELAY_15M</th>\n",
       "      <th>ARRIVAL_DELAY_1HR</th>\n",
       "      <th>DEPARTURE_DELAY_15M</th>\n",
       "      <th>CANCELLED_Carrier</th>\n",
       "      <th>CANCELLED_Weather</th>\n",
       "      <th>CANCELLED_System</th>\n",
       "      <th>CANCELLED_Security</th>\n",
       "    </tr>\n",
       "  </thead>\n",
       "  <tbody>\n",
       "    <tr>\n",
       "      <th>0</th>\n",
       "      <td>UA</td>\n",
       "      <td>1238</td>\n",
       "      <td>N812UA</td>\n",
       "      <td>DEN</td>\n",
       "      <td>BIL</td>\n",
       "      <td>1.0</td>\n",
       "      <td>96.0</td>\n",
       "      <td>455</td>\n",
       "      <td>0</td>\n",
       "      <td>0.0</td>\n",
       "      <td>...</td>\n",
       "      <td>0</td>\n",
       "      <td>0</td>\n",
       "      <td>1.0</td>\n",
       "      <td>0</td>\n",
       "      <td>0</td>\n",
       "      <td>0</td>\n",
       "      <td>0</td>\n",
       "      <td>0</td>\n",
       "      <td>0</td>\n",
       "      <td>0</td>\n",
       "    </tr>\n",
       "    <tr>\n",
       "      <th>1</th>\n",
       "      <td>EV</td>\n",
       "      <td>6134</td>\n",
       "      <td>N14171</td>\n",
       "      <td>ORD</td>\n",
       "      <td>BNA</td>\n",
       "      <td>28.0</td>\n",
       "      <td>92.0</td>\n",
       "      <td>409</td>\n",
       "      <td>0</td>\n",
       "      <td>0.0</td>\n",
       "      <td>...</td>\n",
       "      <td>0</td>\n",
       "      <td>0</td>\n",
       "      <td>1.0</td>\n",
       "      <td>1</td>\n",
       "      <td>0</td>\n",
       "      <td>1</td>\n",
       "      <td>0</td>\n",
       "      <td>0</td>\n",
       "      <td>0</td>\n",
       "      <td>0</td>\n",
       "    </tr>\n",
       "    <tr>\n",
       "      <th>3</th>\n",
       "      <td>UA</td>\n",
       "      <td>1550</td>\n",
       "      <td>N822UA</td>\n",
       "      <td>ORD</td>\n",
       "      <td>BTV</td>\n",
       "      <td>-3.0</td>\n",
       "      <td>122.0</td>\n",
       "      <td>763</td>\n",
       "      <td>0</td>\n",
       "      <td>0.0</td>\n",
       "      <td>...</td>\n",
       "      <td>0</td>\n",
       "      <td>0</td>\n",
       "      <td>2.0</td>\n",
       "      <td>0</td>\n",
       "      <td>0</td>\n",
       "      <td>0</td>\n",
       "      <td>0</td>\n",
       "      <td>0</td>\n",
       "      <td>0</td>\n",
       "      <td>0</td>\n",
       "    </tr>\n",
       "    <tr>\n",
       "      <th>4</th>\n",
       "      <td>UA</td>\n",
       "      <td>1502</td>\n",
       "      <td>N33262</td>\n",
       "      <td>ORD</td>\n",
       "      <td>BOS</td>\n",
       "      <td>34.0</td>\n",
       "      <td>140.0</td>\n",
       "      <td>867</td>\n",
       "      <td>0</td>\n",
       "      <td>0.0</td>\n",
       "      <td>...</td>\n",
       "      <td>0</td>\n",
       "      <td>0</td>\n",
       "      <td>2.0</td>\n",
       "      <td>0</td>\n",
       "      <td>0</td>\n",
       "      <td>1</td>\n",
       "      <td>0</td>\n",
       "      <td>0</td>\n",
       "      <td>0</td>\n",
       "      <td>0</td>\n",
       "    </tr>\n",
       "    <tr>\n",
       "      <th>5</th>\n",
       "      <td>UA</td>\n",
       "      <td>1456</td>\n",
       "      <td>N808UA</td>\n",
       "      <td>DEN</td>\n",
       "      <td>BZN</td>\n",
       "      <td>22.0</td>\n",
       "      <td>112.0</td>\n",
       "      <td>524</td>\n",
       "      <td>0</td>\n",
       "      <td>0.0</td>\n",
       "      <td>...</td>\n",
       "      <td>0</td>\n",
       "      <td>0</td>\n",
       "      <td>1.0</td>\n",
       "      <td>0</td>\n",
       "      <td>0</td>\n",
       "      <td>1</td>\n",
       "      <td>0</td>\n",
       "      <td>0</td>\n",
       "      <td>0</td>\n",
       "      <td>0</td>\n",
       "    </tr>\n",
       "    <tr>\n",
       "      <th>...</th>\n",
       "      <td>...</td>\n",
       "      <td>...</td>\n",
       "      <td>...</td>\n",
       "      <td>...</td>\n",
       "      <td>...</td>\n",
       "      <td>...</td>\n",
       "      <td>...</td>\n",
       "      <td>...</td>\n",
       "      <td>...</td>\n",
       "      <td>...</td>\n",
       "      <td>...</td>\n",
       "      <td>...</td>\n",
       "      <td>...</td>\n",
       "      <td>...</td>\n",
       "      <td>...</td>\n",
       "      <td>...</td>\n",
       "      <td>...</td>\n",
       "      <td>...</td>\n",
       "      <td>...</td>\n",
       "      <td>...</td>\n",
       "      <td>...</td>\n",
       "    </tr>\n",
       "    <tr>\n",
       "      <th>2458614</th>\n",
       "      <td>DL</td>\n",
       "      <td>1467</td>\n",
       "      <td>N130DL</td>\n",
       "      <td>LAS</td>\n",
       "      <td>DTW</td>\n",
       "      <td>44.0</td>\n",
       "      <td>230.0</td>\n",
       "      <td>1749</td>\n",
       "      <td>0</td>\n",
       "      <td>9.0</td>\n",
       "      <td>...</td>\n",
       "      <td>0</td>\n",
       "      <td>23</td>\n",
       "      <td>3.0</td>\n",
       "      <td>1</td>\n",
       "      <td>0</td>\n",
       "      <td>1</td>\n",
       "      <td>0</td>\n",
       "      <td>0</td>\n",
       "      <td>0</td>\n",
       "      <td>0</td>\n",
       "    </tr>\n",
       "    <tr>\n",
       "      <th>2458622</th>\n",
       "      <td>AA</td>\n",
       "      <td>2394</td>\n",
       "      <td>N3HEAA</td>\n",
       "      <td>SLC</td>\n",
       "      <td>MIA</td>\n",
       "      <td>-9.0</td>\n",
       "      <td>279.0</td>\n",
       "      <td>2088</td>\n",
       "      <td>0</td>\n",
       "      <td>0.0</td>\n",
       "      <td>...</td>\n",
       "      <td>0</td>\n",
       "      <td>23</td>\n",
       "      <td>4.0</td>\n",
       "      <td>0</td>\n",
       "      <td>0</td>\n",
       "      <td>0</td>\n",
       "      <td>0</td>\n",
       "      <td>0</td>\n",
       "      <td>0</td>\n",
       "      <td>0</td>\n",
       "    </tr>\n",
       "    <tr>\n",
       "      <th>2458623</th>\n",
       "      <td>AA</td>\n",
       "      <td>1496</td>\n",
       "      <td>N3MJAA</td>\n",
       "      <td>LAS</td>\n",
       "      <td>ORD</td>\n",
       "      <td>-5.0</td>\n",
       "      <td>220.0</td>\n",
       "      <td>1514</td>\n",
       "      <td>0</td>\n",
       "      <td>0.0</td>\n",
       "      <td>...</td>\n",
       "      <td>0</td>\n",
       "      <td>23</td>\n",
       "      <td>3.0</td>\n",
       "      <td>0</td>\n",
       "      <td>0</td>\n",
       "      <td>0</td>\n",
       "      <td>0</td>\n",
       "      <td>0</td>\n",
       "      <td>0</td>\n",
       "      <td>0</td>\n",
       "    </tr>\n",
       "    <tr>\n",
       "      <th>2458624</th>\n",
       "      <td>AA</td>\n",
       "      <td>1283</td>\n",
       "      <td>N3GEAA</td>\n",
       "      <td>SEA</td>\n",
       "      <td>ORD</td>\n",
       "      <td>51.0</td>\n",
       "      <td>236.0</td>\n",
       "      <td>1721</td>\n",
       "      <td>0</td>\n",
       "      <td>0.0</td>\n",
       "      <td>...</td>\n",
       "      <td>0</td>\n",
       "      <td>23</td>\n",
       "      <td>3.0</td>\n",
       "      <td>1</td>\n",
       "      <td>0</td>\n",
       "      <td>1</td>\n",
       "      <td>0</td>\n",
       "      <td>0</td>\n",
       "      <td>0</td>\n",
       "      <td>0</td>\n",
       "    </tr>\n",
       "    <tr>\n",
       "      <th>2458625</th>\n",
       "      <td>AA</td>\n",
       "      <td>219</td>\n",
       "      <td>N3LKAA</td>\n",
       "      <td>LAX</td>\n",
       "      <td>ORD</td>\n",
       "      <td>50.0</td>\n",
       "      <td>241.0</td>\n",
       "      <td>1744</td>\n",
       "      <td>0</td>\n",
       "      <td>13.0</td>\n",
       "      <td>...</td>\n",
       "      <td>0</td>\n",
       "      <td>23</td>\n",
       "      <td>4.0</td>\n",
       "      <td>1</td>\n",
       "      <td>1</td>\n",
       "      <td>1</td>\n",
       "      <td>0</td>\n",
       "      <td>0</td>\n",
       "      <td>0</td>\n",
       "      <td>0</td>\n",
       "    </tr>\n",
       "  </tbody>\n",
       "</table>\n",
       "<p>1900895 rows × 35 columns</p>\n",
       "</div>"
      ],
      "text/plain": [
       "        AIRLINE  FLIGHT_NUMBER TAIL_NUMBER ORIGIN_AIRPORT DESTINATION_AIRPORT  \\\n",
       "0            UA           1238      N812UA            DEN                 BIL   \n",
       "1            EV           6134      N14171            ORD                 BNA   \n",
       "3            UA           1550      N822UA            ORD                 BTV   \n",
       "4            UA           1502      N33262            ORD                 BOS   \n",
       "5            UA           1456      N808UA            DEN                 BZN   \n",
       "...         ...            ...         ...            ...                 ...   \n",
       "2458614      DL           1467      N130DL            LAS                 DTW   \n",
       "2458622      AA           2394      N3HEAA            SLC                 MIA   \n",
       "2458623      AA           1496      N3MJAA            LAS                 ORD   \n",
       "2458624      AA           1283      N3GEAA            SEA                 ORD   \n",
       "2458625      AA            219      N3LKAA            LAX                 ORD   \n",
       "\n",
       "         DEPARTURE_DELAY  SCHEDULED_TIME  DISTANCE  CANCELLED  \\\n",
       "0                    1.0            96.0       455          0   \n",
       "1                   28.0            92.0       409          0   \n",
       "3                   -3.0           122.0       763          0   \n",
       "4                   34.0           140.0       867          0   \n",
       "5                   22.0           112.0       524          0   \n",
       "...                  ...             ...       ...        ...   \n",
       "2458614             44.0           230.0      1749          0   \n",
       "2458622             -9.0           279.0      2088          0   \n",
       "2458623             -5.0           220.0      1514          0   \n",
       "2458624             51.0           236.0      1721          0   \n",
       "2458625             50.0           241.0      1744          0   \n",
       "\n",
       "         AIR_SYSTEM_DELAY  ...  WEEKEND_DE  HOUR_DE  HOUR_AR  \\\n",
       "0                     0.0  ...           0        0      1.0   \n",
       "1                     0.0  ...           0        0      1.0   \n",
       "3                     0.0  ...           0        0      2.0   \n",
       "4                     0.0  ...           0        0      2.0   \n",
       "5                     0.0  ...           0        0      1.0   \n",
       "...                   ...  ...         ...      ...      ...   \n",
       "2458614               9.0  ...           0       23      3.0   \n",
       "2458622               0.0  ...           0       23      4.0   \n",
       "2458623               0.0  ...           0       23      3.0   \n",
       "2458624               0.0  ...           0       23      3.0   \n",
       "2458625              13.0  ...           0       23      4.0   \n",
       "\n",
       "         ARRIVAL_DELAY_15M  ARRIVAL_DELAY_1HR DEPARTURE_DELAY_15M  \\\n",
       "0                        0                  0                   0   \n",
       "1                        1                  0                   1   \n",
       "3                        0                  0                   0   \n",
       "4                        0                  0                   1   \n",
       "5                        0                  0                   1   \n",
       "...                    ...                ...                 ...   \n",
       "2458614                  1                  0                   1   \n",
       "2458622                  0                  0                   0   \n",
       "2458623                  0                  0                   0   \n",
       "2458624                  1                  0                   1   \n",
       "2458625                  1                  1                   1   \n",
       "\n",
       "        CANCELLED_Carrier  CANCELLED_Weather  CANCELLED_System  \\\n",
       "0                       0                  0                 0   \n",
       "1                       0                  0                 0   \n",
       "3                       0                  0                 0   \n",
       "4                       0                  0                 0   \n",
       "5                       0                  0                 0   \n",
       "...                   ...                ...               ...   \n",
       "2458614                 0                  0                 0   \n",
       "2458622                 0                  0                 0   \n",
       "2458623                 0                  0                 0   \n",
       "2458624                 0                  0                 0   \n",
       "2458625                 0                  0                 0   \n",
       "\n",
       "        CANCELLED_Security  \n",
       "0                        0  \n",
       "1                        0  \n",
       "3                        0  \n",
       "4                        0  \n",
       "5                        0  \n",
       "...                    ...  \n",
       "2458614                  0  \n",
       "2458622                  0  \n",
       "2458623                  0  \n",
       "2458624                  0  \n",
       "2458625                  0  \n",
       "\n",
       "[1900895 rows x 35 columns]"
      ]
     },
     "execution_count": 141,
     "metadata": {},
     "output_type": "execute_result"
    }
   ],
   "source": [
    "feature_hd"
   ]
  },
  {
   "cell_type": "code",
   "execution_count": 142,
   "id": "a595b733",
   "metadata": {
    "scrolled": true
   },
   "outputs": [
    {
     "data": {
      "text/plain": [
       "AIRLINE                 object\n",
       "FLIGHT_NUMBER            int64\n",
       "TAIL_NUMBER             object\n",
       "ORIGIN_AIRPORT          object\n",
       "DESTINATION_AIRPORT     object\n",
       "DEPARTURE_DELAY        float64\n",
       "SCHEDULED_TIME         float64\n",
       "DISTANCE                 int64\n",
       "CANCELLED                int64\n",
       "AIR_SYSTEM_DELAY       float64\n",
       "SECURITY_DELAY         float64\n",
       "AIRLINE_DELAY          float64\n",
       "LATE_AIRCRAFT_DELAY    float64\n",
       "WEATHER_DELAY          float64\n",
       "ARRIVAL_DELAY          float64\n",
       "OR_CITY                 object\n",
       "OR_STATE                object\n",
       "OR_LATITUDE            float64\n",
       "OR_LONGITUDE           float64\n",
       "DES_CITY                object\n",
       "DES_STATE               object\n",
       "DES_LATITUDE           float64\n",
       "DES_LONGITUDE          float64\n",
       "DAY_DE                   int64\n",
       "WEEKDAY_DE               int64\n",
       "WEEKEND_DE               int64\n",
       "HOUR_DE                  int64\n",
       "HOUR_AR                float64\n",
       "ARRIVAL_DELAY_15M        int64\n",
       "ARRIVAL_DELAY_1HR        int64\n",
       "DEPARTURE_DELAY_15M      int64\n",
       "CANCELLED_Carrier        int64\n",
       "CANCELLED_Weather        int64\n",
       "CANCELLED_System         int64\n",
       "CANCELLED_Security       int64\n",
       "dtype: object"
      ]
     },
     "execution_count": 142,
     "metadata": {},
     "output_type": "execute_result"
    }
   ],
   "source": [
    "feature_hd.dtypes"
   ]
  },
  {
   "cell_type": "code",
   "execution_count": 143,
   "id": "18332b91",
   "metadata": {},
   "outputs": [
    {
     "data": {
      "text/html": [
       "<div>\n",
       "<style scoped>\n",
       "    .dataframe tbody tr th:only-of-type {\n",
       "        vertical-align: middle;\n",
       "    }\n",
       "\n",
       "    .dataframe tbody tr th {\n",
       "        vertical-align: top;\n",
       "    }\n",
       "\n",
       "    .dataframe thead th {\n",
       "        text-align: right;\n",
       "    }\n",
       "</style>\n",
       "<table border=\"1\" class=\"dataframe\">\n",
       "  <thead>\n",
       "    <tr style=\"text-align: right;\">\n",
       "      <th></th>\n",
       "      <th>AIRLINE</th>\n",
       "      <th>FLIGHT_NUMBER</th>\n",
       "      <th>TAIL_NUMBER</th>\n",
       "      <th>ORIGIN_AIRPORT</th>\n",
       "      <th>DESTINATION_AIRPORT</th>\n",
       "      <th>DISTANCE</th>\n",
       "      <th>OR_CITY</th>\n",
       "      <th>OR_STATE</th>\n",
       "      <th>OR_LATITUDE</th>\n",
       "      <th>OR_LONGITUDE</th>\n",
       "      <th>DES_CITY</th>\n",
       "      <th>DES_STATE</th>\n",
       "      <th>DES_LATITUDE</th>\n",
       "      <th>DES_LONGITUDE</th>\n",
       "      <th>DAY_DE</th>\n",
       "      <th>WEEKDAY_DE</th>\n",
       "      <th>WEEKEND_DE</th>\n",
       "      <th>HOUR_DE</th>\n",
       "      <th>HOUR_AR</th>\n",
       "    </tr>\n",
       "  </thead>\n",
       "  <tbody>\n",
       "    <tr>\n",
       "      <th>0</th>\n",
       "      <td>AA</td>\n",
       "      <td>2400</td>\n",
       "      <td>N3LNAA</td>\n",
       "      <td>LAX</td>\n",
       "      <td>DFW</td>\n",
       "      <td>1235</td>\n",
       "      <td>Los Angeles</td>\n",
       "      <td>CA</td>\n",
       "      <td>33.94254</td>\n",
       "      <td>-118.40807</td>\n",
       "      <td>Dallas-Fort Worth</td>\n",
       "      <td>TX</td>\n",
       "      <td>32.89595</td>\n",
       "      <td>-97.03720</td>\n",
       "      <td>1</td>\n",
       "      <td>0</td>\n",
       "      <td>0</td>\n",
       "      <td>0</td>\n",
       "      <td>4</td>\n",
       "    </tr>\n",
       "    <tr>\n",
       "      <th>1</th>\n",
       "      <td>US</td>\n",
       "      <td>2020</td>\n",
       "      <td>N547UW</td>\n",
       "      <td>PHX</td>\n",
       "      <td>CLT</td>\n",
       "      <td>1773</td>\n",
       "      <td>Phoenix</td>\n",
       "      <td>AZ</td>\n",
       "      <td>33.43417</td>\n",
       "      <td>-112.00806</td>\n",
       "      <td>Charlotte</td>\n",
       "      <td>NC</td>\n",
       "      <td>35.21401</td>\n",
       "      <td>-80.94313</td>\n",
       "      <td>1</td>\n",
       "      <td>0</td>\n",
       "      <td>0</td>\n",
       "      <td>0</td>\n",
       "      <td>6</td>\n",
       "    </tr>\n",
       "    <tr>\n",
       "      <th>2</th>\n",
       "      <td>F9</td>\n",
       "      <td>1298</td>\n",
       "      <td>N922FR</td>\n",
       "      <td>PHX</td>\n",
       "      <td>CVG</td>\n",
       "      <td>1569</td>\n",
       "      <td>Phoenix</td>\n",
       "      <td>AZ</td>\n",
       "      <td>33.43417</td>\n",
       "      <td>-112.00806</td>\n",
       "      <td>Covington</td>\n",
       "      <td>KY</td>\n",
       "      <td>39.04614</td>\n",
       "      <td>-84.66217</td>\n",
       "      <td>1</td>\n",
       "      <td>0</td>\n",
       "      <td>0</td>\n",
       "      <td>0</td>\n",
       "      <td>5</td>\n",
       "    </tr>\n",
       "    <tr>\n",
       "      <th>3</th>\n",
       "      <td>AA</td>\n",
       "      <td>258</td>\n",
       "      <td>N3HRAA</td>\n",
       "      <td>LAX</td>\n",
       "      <td>MIA</td>\n",
       "      <td>2342</td>\n",
       "      <td>Los Angeles</td>\n",
       "      <td>CA</td>\n",
       "      <td>33.94254</td>\n",
       "      <td>-118.40807</td>\n",
       "      <td>Miami</td>\n",
       "      <td>FL</td>\n",
       "      <td>25.79325</td>\n",
       "      <td>-80.29056</td>\n",
       "      <td>1</td>\n",
       "      <td>0</td>\n",
       "      <td>0</td>\n",
       "      <td>0</td>\n",
       "      <td>8</td>\n",
       "    </tr>\n",
       "    <tr>\n",
       "      <th>4</th>\n",
       "      <td>NK</td>\n",
       "      <td>612</td>\n",
       "      <td>N631NK</td>\n",
       "      <td>LAS</td>\n",
       "      <td>MSP</td>\n",
       "      <td>1299</td>\n",
       "      <td>Las Vegas</td>\n",
       "      <td>NV</td>\n",
       "      <td>36.08036</td>\n",
       "      <td>-115.15233</td>\n",
       "      <td>Minneapolis</td>\n",
       "      <td>MN</td>\n",
       "      <td>44.88055</td>\n",
       "      <td>-93.21692</td>\n",
       "      <td>1</td>\n",
       "      <td>0</td>\n",
       "      <td>0</td>\n",
       "      <td>0</td>\n",
       "      <td>5</td>\n",
       "    </tr>\n",
       "  </tbody>\n",
       "</table>\n",
       "</div>"
      ],
      "text/plain": [
       "  AIRLINE  FLIGHT_NUMBER TAIL_NUMBER ORIGIN_AIRPORT DESTINATION_AIRPORT  \\\n",
       "0      AA           2400      N3LNAA            LAX                 DFW   \n",
       "1      US           2020      N547UW            PHX                 CLT   \n",
       "2      F9           1298      N922FR            PHX                 CVG   \n",
       "3      AA            258      N3HRAA            LAX                 MIA   \n",
       "4      NK            612      N631NK            LAS                 MSP   \n",
       "\n",
       "   DISTANCE      OR_CITY OR_STATE  OR_LATITUDE  OR_LONGITUDE  \\\n",
       "0      1235  Los Angeles       CA     33.94254    -118.40807   \n",
       "1      1773      Phoenix       AZ     33.43417    -112.00806   \n",
       "2      1569      Phoenix       AZ     33.43417    -112.00806   \n",
       "3      2342  Los Angeles       CA     33.94254    -118.40807   \n",
       "4      1299    Las Vegas       NV     36.08036    -115.15233   \n",
       "\n",
       "            DES_CITY DES_STATE  DES_LATITUDE  DES_LONGITUDE  DAY_DE  \\\n",
       "0  Dallas-Fort Worth        TX      32.89595      -97.03720       1   \n",
       "1          Charlotte        NC      35.21401      -80.94313       1   \n",
       "2          Covington        KY      39.04614      -84.66217       1   \n",
       "3              Miami        FL      25.79325      -80.29056       1   \n",
       "4        Minneapolis        MN      44.88055      -93.21692       1   \n",
       "\n",
       "   WEEKDAY_DE  WEEKEND_DE  HOUR_DE  HOUR_AR  \n",
       "0           0           0        0        4  \n",
       "1           0           0        0        6  \n",
       "2           0           0        0        5  \n",
       "3           0           0        0        8  \n",
       "4           0           0        0        5  "
      ]
     },
     "execution_count": 143,
     "metadata": {},
     "output_type": "execute_result"
    }
   ],
   "source": [
    "feature_fd.head()"
   ]
  },
  {
   "cell_type": "code",
   "execution_count": 144,
   "id": "3fb14bbb",
   "metadata": {},
   "outputs": [
    {
     "data": {
      "text/plain": [
       "AIRLINE                 object\n",
       "FLIGHT_NUMBER            int64\n",
       "TAIL_NUMBER             object\n",
       "ORIGIN_AIRPORT          object\n",
       "DESTINATION_AIRPORT     object\n",
       "DISTANCE                 int64\n",
       "OR_CITY                 object\n",
       "OR_STATE                object\n",
       "OR_LATITUDE            float64\n",
       "OR_LONGITUDE           float64\n",
       "DES_CITY                object\n",
       "DES_STATE               object\n",
       "DES_LATITUDE           float64\n",
       "DES_LONGITUDE          float64\n",
       "DAY_DE                   int64\n",
       "WEEKDAY_DE               int64\n",
       "WEEKEND_DE               int64\n",
       "HOUR_DE                  int64\n",
       "HOUR_AR                  int64\n",
       "dtype: object"
      ]
     },
     "execution_count": 144,
     "metadata": {},
     "output_type": "execute_result"
    }
   ],
   "source": [
    "feature_fd.dtypes"
   ]
  },
  {
   "cell_type": "markdown",
   "id": "43a8f864",
   "metadata": {},
   "source": [
    "Take a relative small sample:"
   ]
  },
  {
   "cell_type": "code",
   "execution_count": 145,
   "id": "a78af595",
   "metadata": {},
   "outputs": [],
   "source": [
    "df_con = feature_hd.sample(frac = 0.01, random_state = 11)\n",
    "df_cat = feature_hd.sample(frac = 0.2, random_state = 11)"
   ]
  },
  {
   "cell_type": "markdown",
   "id": "5b8e7083",
   "metadata": {},
   "source": [
    "## Modelling - Arrival Delays as Dummy"
   ]
  },
  {
   "cell_type": "markdown",
   "id": "6cd57ae5",
   "metadata": {},
   "source": [
    "What variables can be used in prediction?\n",
    "1. scheduled departure - day, weekday, weekend, hour\n",
    "2. scheduled arrival - hour\n",
    "3. airline\n",
    "4. flight number\n",
    "5. tail number\n",
    "6. origin airport\n",
    "7. destination airport\n",
    "8. distance\n",
    "\n",
    "Available after merging:\n",
    "1. origin city/state/latitude/longitude\n",
    "2. destination city/state/latitude/longitude\n",
    "\n",
    "Note: datetime variables cannot be used, extract days, hours, weekdays, and weekend indicators."
   ]
  },
  {
   "cell_type": "markdown",
   "id": "76e921f5",
   "metadata": {},
   "source": [
    "### 15 mins Delay - prediction"
   ]
  },
  {
   "cell_type": "code",
   "execution_count": 105,
   "id": "ba0a563a",
   "metadata": {},
   "outputs": [
    {
     "name": "stdout",
     "output_type": "stream",
     "text": [
      "Categorical columns are: Index(['AIRLINE', 'TAIL_NUMBER', 'ORIGIN_AIRPORT', 'DESTINATION_AIRPORT',\n",
      "       'OR_CITY', 'OR_STATE', 'DES_CITY', 'DES_STATE'],\n",
      "      dtype='object')\n",
      "Numerical columns are: Index(['FLIGHT_NUMBER', 'DISTANCE', 'OR_LATITUDE', 'OR_LONGITUDE',\n",
      "       'DES_LATITUDE', 'DES_LONGITUDE', 'DAY_DE', 'WEEKDAY_DE', 'WEEKEND_DE',\n",
      "       'HOUR_DE', 'HOUR_AR'],\n",
      "      dtype='object')\n"
     ]
    }
   ],
   "source": [
    "df_model1 = df_cat[['AIRLINE','FLIGHT_NUMBER','TAIL_NUMBER','ORIGIN_AIRPORT','DESTINATION_AIRPORT','DISTANCE','OR_CITY','OR_STATE',\n",
    "                    'OR_LATITUDE','OR_LONGITUDE','DES_CITY','DES_STATE','DES_LATITUDE','DES_LONGITUDE','DAY_DE','WEEKDAY_DE',\n",
    "                    'WEEKEND_DE','HOUR_DE','HOUR_AR','ARRIVAL_DELAY_15M']]\n",
    "\n",
    "df_futurefd = feature_fd[['AIRLINE','FLIGHT_NUMBER','TAIL_NUMBER','ORIGIN_AIRPORT','DESTINATION_AIRPORT','DISTANCE','OR_CITY','OR_STATE',\n",
    "                    'OR_LATITUDE','OR_LONGITUDE','DES_CITY','DES_STATE','DES_LATITUDE','DES_LONGITUDE','DAY_DE','WEEKDAY_DE',\n",
    "                    'WEEKEND_DE','HOUR_DE','HOUR_AR']]\n",
    "\n",
    "X_train, X_test= train_test_split(df_model1, test_size=0.3, stratify=df_model1.ARRIVAL_DELAY_15M)\n",
    "\n",
    "y_train = X_train.ARRIVAL_DELAY_15M\n",
    "y_test= X_test.ARRIVAL_DELAY_15M\n",
    "\n",
    "X_train.drop(columns=['ARRIVAL_DELAY_15M'], inplace=True)\n",
    "X_test.drop(columns=['ARRIVAL_DELAY_15M'], inplace=True)\n",
    "\n",
    "X_train,X_test,y_train, X_predict = encoders_cat(X_train,X_test,y_train,df_futurefd)"
   ]
  },
  {
   "cell_type": "code",
   "execution_count": null,
   "id": "e774fa20",
   "metadata": {},
   "outputs": [],
   "source": [
    "corr = df_model1.corr()\n",
    "sns.heatmap(corr, \n",
    "            xticklabels=corr.columns.values,\n",
    "            yticklabels=corr.columns.values)"
   ]
  },
  {
   "cell_type": "code",
   "execution_count": 106,
   "id": "09c97d27",
   "metadata": {},
   "outputs": [],
   "source": [
    "from sklearn import ensemble,gaussian_process,linear_model,naive_bayes,neighbors,svm,tree\n",
    "\n",
    "from sklearn.linear_model import LogisticRegression\n",
    "from sklearn.neighbors import KNeighborsClassifier\n",
    "from sklearn.svm import LinearSVC\n",
    "from sklearn.tree import DecisionTreeClassifier\n",
    "from sklearn.tree import ExtraTreeClassifier\n",
    "from sklearn.ensemble import AdaBoostClassifier\n",
    "from sklearn.ensemble import BaggingClassifier\n",
    "from sklearn.ensemble import ExtraTreesClassifier\n",
    "from sklearn.ensemble import GradientBoostingClassifier\n",
    "from sklearn.ensemble import RandomForestClassifier\n",
    "from sklearn.ensemble import IsolationForest\n",
    "from sklearn.ensemble import RandomTreesEmbedding\n",
    "from sklearn.ensemble import StackingClassifier\n",
    "from sklearn.ensemble import VotingClassifier\n",
    "from sklearn.ensemble import HistGradientBoostingClassifier\n",
    "\n",
    "from imblearn.ensemble import BalancedBaggingClassifier\n",
    "from xgboost.sklearn import XGBClassifier\n",
    "\n",
    "from sklearn import metrics\n",
    "from sklearn.model_selection import cross_val_score\n",
    "from sklearn.metrics import confusion_matrix, accuracy_score, roc_curve, roc_auc_score, precision_score, recall_score, auc, classification_report, precision_recall_curve\n",
    "\n",
    "from sklearn.pipeline import Pipeline\n",
    "import matplotlib.pyplot as plt   \n",
    "import seaborn as sns"
   ]
  },
  {
   "cell_type": "markdown",
   "id": "5784b80e",
   "metadata": {},
   "source": [
    "The following pipeline constructions (MLA estimations and plots) are modified from: "
   ]
  },
  {
   "cell_type": "code",
   "execution_count": 107,
   "id": "926c94ee",
   "metadata": {},
   "outputs": [],
   "source": [
    "MLA = [\n",
    "   \n",
    "    linear_model.LogisticRegression(random_state=11, max_iter=1000), \n",
    "    \n",
    "    #Nearest Neighbor\n",
    "    neighbors.KNeighborsClassifier(),\n",
    "    \n",
    "    #SVM\n",
    "    svm.LinearSVC(random_state=11),\n",
    "    \n",
    "    #Trees    \n",
    "    tree.DecisionTreeClassifier(random_state=11),\n",
    "    tree.ExtraTreeClassifier(random_state=11),\n",
    "    \n",
    "    #Ensemble Methods\n",
    "    ensemble.AdaBoostClassifier(random_state=11),\n",
    "    ensemble.BaggingClassifier(random_state=11),\n",
    "    ensemble.GradientBoostingClassifier(random_state=11),\n",
    "    ensemble.RandomForestClassifier(n_jobs = -1,random_state=11),\n",
    "    \n",
    "    ]"
   ]
  },
  {
   "cell_type": "code",
   "execution_count": 110,
   "id": "cd48f126",
   "metadata": {
    "execution": {
     "iopub.execute_input": "2022-04-22T21:23:59.416086Z",
     "iopub.status.busy": "2022-04-22T21:23:59.415773Z"
    },
    "scrolled": true,
    "tags": []
   },
   "outputs": [
    {
     "name": "stderr",
     "output_type": "stream",
     "text": [
      "D:\\Anaconda\\lib\\site-packages\\sklearn\\svm\\_base.py:1206: ConvergenceWarning: Liblinear failed to converge, increase the number of iterations.\n",
      "  warnings.warn(\n",
      "D:\\Anaconda\\lib\\site-packages\\sklearn\\svm\\_base.py:1206: ConvergenceWarning: Liblinear failed to converge, increase the number of iterations.\n",
      "  warnings.warn(\n",
      "D:\\Anaconda\\lib\\site-packages\\sklearn\\svm\\_base.py:1206: ConvergenceWarning: Liblinear failed to converge, increase the number of iterations.\n",
      "  warnings.warn(\n",
      "D:\\Anaconda\\lib\\site-packages\\sklearn\\svm\\_base.py:1206: ConvergenceWarning: Liblinear failed to converge, increase the number of iterations.\n",
      "  warnings.warn(\n",
      "D:\\Anaconda\\lib\\site-packages\\sklearn\\svm\\_base.py:1206: ConvergenceWarning: Liblinear failed to converge, increase the number of iterations.\n",
      "  warnings.warn(\n",
      "D:\\Anaconda\\lib\\site-packages\\sklearn\\svm\\_base.py:1206: ConvergenceWarning: Liblinear failed to converge, increase the number of iterations.\n",
      "  warnings.warn(\n",
      "D:\\Anaconda\\lib\\site-packages\\sklearn\\svm\\_base.py:1206: ConvergenceWarning: Liblinear failed to converge, increase the number of iterations.\n",
      "  warnings.warn(\n",
      "D:\\Anaconda\\lib\\site-packages\\sklearn\\svm\\_base.py:1206: ConvergenceWarning: Liblinear failed to converge, increase the number of iterations.\n",
      "  warnings.warn(\n",
      "D:\\Anaconda\\lib\\site-packages\\sklearn\\svm\\_base.py:1206: ConvergenceWarning: Liblinear failed to converge, increase the number of iterations.\n",
      "  warnings.warn(\n",
      "D:\\Anaconda\\lib\\site-packages\\sklearn\\svm\\_base.py:1206: ConvergenceWarning: Liblinear failed to converge, increase the number of iterations.\n",
      "  warnings.warn(\n",
      "D:\\Anaconda\\lib\\site-packages\\sklearn\\svm\\_base.py:1206: ConvergenceWarning: Liblinear failed to converge, increase the number of iterations.\n",
      "  warnings.warn(\n"
     ]
    },
    {
     "data": {
      "text/html": [
       "<div>\n",
       "<style scoped>\n",
       "    .dataframe tbody tr th:only-of-type {\n",
       "        vertical-align: middle;\n",
       "    }\n",
       "\n",
       "    .dataframe tbody tr th {\n",
       "        vertical-align: top;\n",
       "    }\n",
       "\n",
       "    .dataframe thead th {\n",
       "        text-align: right;\n",
       "    }\n",
       "</style>\n",
       "<table border=\"1\" class=\"dataframe\">\n",
       "  <thead>\n",
       "    <tr style=\"text-align: right;\">\n",
       "      <th></th>\n",
       "      <th>MLA Name</th>\n",
       "      <th>MLA Train Accuracy</th>\n",
       "      <th>MLA Test Accuracy</th>\n",
       "      <th>MLA AUC</th>\n",
       "    </tr>\n",
       "  </thead>\n",
       "  <tbody>\n",
       "    <tr>\n",
       "      <th>7</th>\n",
       "      <td>GradientBoostingClassifier</td>\n",
       "      <td>0.7310</td>\n",
       "      <td>0.7923</td>\n",
       "      <td>0.542049</td>\n",
       "    </tr>\n",
       "    <tr>\n",
       "      <th>2</th>\n",
       "      <td>LinearSVC</td>\n",
       "      <td>0.6789</td>\n",
       "      <td>0.7816</td>\n",
       "      <td>0.540207</td>\n",
       "    </tr>\n",
       "    <tr>\n",
       "      <th>0</th>\n",
       "      <td>LogisticRegression</td>\n",
       "      <td>0.6798</td>\n",
       "      <td>0.7742</td>\n",
       "      <td>0.545235</td>\n",
       "    </tr>\n",
       "    <tr>\n",
       "      <th>5</th>\n",
       "      <td>AdaBoostClassifier</td>\n",
       "      <td>0.6937</td>\n",
       "      <td>0.7713</td>\n",
       "      <td>0.547735</td>\n",
       "    </tr>\n",
       "    <tr>\n",
       "      <th>8</th>\n",
       "      <td>RandomForestClassifier</td>\n",
       "      <td>1.0000</td>\n",
       "      <td>0.7707</td>\n",
       "      <td>0.555725</td>\n",
       "    </tr>\n",
       "    <tr>\n",
       "      <th>6</th>\n",
       "      <td>BaggingClassifier</td>\n",
       "      <td>0.9807</td>\n",
       "      <td>0.7594</td>\n",
       "      <td>0.547291</td>\n",
       "    </tr>\n",
       "    <tr>\n",
       "      <th>1</th>\n",
       "      <td>KNeighborsClassifier</td>\n",
       "      <td>0.8023</td>\n",
       "      <td>0.6970</td>\n",
       "      <td>0.561925</td>\n",
       "    </tr>\n",
       "    <tr>\n",
       "      <th>4</th>\n",
       "      <td>ExtraTreeClassifier</td>\n",
       "      <td>1.0000</td>\n",
       "      <td>0.6659</td>\n",
       "      <td>0.543009</td>\n",
       "    </tr>\n",
       "    <tr>\n",
       "      <th>3</th>\n",
       "      <td>DecisionTreeClassifier</td>\n",
       "      <td>1.0000</td>\n",
       "      <td>0.6598</td>\n",
       "      <td>0.544950</td>\n",
       "    </tr>\n",
       "  </tbody>\n",
       "</table>\n",
       "</div>"
      ],
      "text/plain": [
       "                     MLA Name  MLA Train Accuracy  MLA Test Accuracy   MLA AUC\n",
       "7  GradientBoostingClassifier              0.7310             0.7923  0.542049\n",
       "2                   LinearSVC              0.6789             0.7816  0.540207\n",
       "0          LogisticRegression              0.6798             0.7742  0.545235\n",
       "5          AdaBoostClassifier              0.6937             0.7713  0.547735\n",
       "8      RandomForestClassifier              1.0000             0.7707  0.555725\n",
       "6           BaggingClassifier              0.9807             0.7594  0.547291\n",
       "1        KNeighborsClassifier              0.8023             0.6970  0.561925\n",
       "4         ExtraTreeClassifier              1.0000             0.6659  0.543009\n",
       "3      DecisionTreeClassifier              1.0000             0.6598  0.544950"
      ]
     },
     "execution_count": 110,
     "metadata": {},
     "output_type": "execute_result"
    }
   ],
   "source": [
    "MLA_columns = []\n",
    "MLA_compare = pd.DataFrame(columns = MLA_columns)\n",
    "results=[]\n",
    "\n",
    "row_index = 0\n",
    "for alg in MLA:\n",
    "    \n",
    "    cv_results = cross_val_score(alg, X_train, y_train, cv=10)\n",
    "    results.append(cv_results)\n",
    "    predicted = alg.fit(X_train, y_train).predict(X_test)\n",
    "    fp, tp, th = roc_curve(y_test, predicted)\n",
    "    MLA_name = alg.__class__.__name__\n",
    "    MLA_compare.loc[row_index, 'MLA Name'] = MLA_name\n",
    "    MLA_compare.loc[row_index, 'MLA Train Accuracy'] = round(alg.score(X_train, y_train), 4)\n",
    "    MLA_compare.loc[row_index, 'MLA Test Accuracy'] = round(alg.score(X_test, y_test), 4)\n",
    "    MLA_compare.loc[row_index, 'MLA AUC'] = auc(fp, tp)\n",
    "    \n",
    "    \n",
    "    row_index+=1\n",
    "    \n",
    "MLA_compare.sort_values(by = ['MLA Test Accuracy'], ascending = False, inplace = True)    \n",
    "MLA_compare"
   ]
  },
  {
   "cell_type": "code",
   "execution_count": 111,
   "id": "2a6c85fb",
   "metadata": {},
   "outputs": [
    {
     "data": {
      "image/png": "[encoded data removed]",
      "text/plain": [
       "<Figure size 1080x432 with 1 Axes>"
      ]
     },
     "metadata": {
      "needs_background": "light"
     },
     "output_type": "display_data"
    }
   ],
   "source": [
    "plt.subplots(figsize=(15,6))\n",
    "sns.lineplot(x=\"MLA Name\", y=\"MLA Train Accuracy\",data=MLA_compare,palette='hot',label='Train Accuracy')\n",
    "sns.lineplot(x=\"MLA Name\", y=\"MLA Test Accuracy\",data=MLA_compare,palette='hot',label='Test Accuracy')\n",
    "plt.xticks(rotation=90)\n",
    "plt.title('MLA Accuracy Comparison')\n",
    "plt.legend()\n",
    "plt.show()"
   ]
  },
  {
   "cell_type": "code",
   "execution_count": 112,
   "id": "97867f80",
   "metadata": {},
   "outputs": [
    {
     "data": {
      "image/png": "[encoded data removed]",
      "text/plain": [
       "<Figure size 1080x432 with 1 Axes>"
      ]
     },
     "metadata": {
      "needs_background": "light"
     },
     "output_type": "display_data"
    }
   ],
   "source": [
    "plt.subplots(figsize=(15,6))\n",
    "sns.lineplot(x=\"MLA Name\", y=\"MLA AUC\",data=MLA_compare,palette='hot',label='Accuracy')\n",
    "\n",
    "plt.xticks(rotation=90)\n",
    "plt.title('MLA Accuracy Comparison')\n",
    "plt.legend()\n",
    "plt.show()"
   ]
  },
  {
   "cell_type": "code",
   "execution_count": 113,
   "id": "3f0947c8",
   "metadata": {
    "scrolled": false
   },
   "outputs": [
    {
     "data": {
      "image/png": "[encoded data removed]",
      "text/plain": [
       "<Figure size 720x720 with 1 Axes>"
      ]
     },
     "metadata": {
      "needs_background": "light"
     },
     "output_type": "display_data"
    }
   ],
   "source": [
    "#sns.boxplot(MLA_compare[\"MLA AUC\"])# boxplot algorithm comparison\n",
    "fig = plt.figure(figsize=(10,10))\n",
    "fig.suptitle('Algorithm Comparison')\n",
    "ax = fig.add_subplot(111)\n",
    "plt.boxplot(results,labels=MLA_compare['MLA Name'])\n",
    "plt.xticks(rotation=45)\n",
    "plt.show()"
   ]
  },
  {
   "cell_type": "markdown",
   "id": "e229a2cb",
   "metadata": {},
   "source": [
    "#### -- Run Logistic Regression on the whole training set and get parameters for prediction"
   ]
  },
  {
   "cell_type": "code",
   "execution_count": null,
   "id": "172bfe4b",
   "metadata": {},
   "outputs": [],
   "source": [
    "# not finished yet"
   ]
  },
  {
   "cell_type": "code",
   "execution_count": null,
   "id": "f697a305",
   "metadata": {},
   "outputs": [],
   "source": [
    "# Predict the target based on testdata \n",
    "flightdelay_pred = model.predict(scaler_features)"
   ]
  },
  {
   "cell_type": "code",
   "execution_count": null,
   "id": "974e9d1e",
   "metadata": {},
   "outputs": [],
   "source": [
    "import numpy as np\n",
    "#Calculate the absolute errors\n",
    "errors_random1 = abs(flightdelay_pred - y_test)\n",
    "print('Mean Absolute Error: ', round(np.mean(errors_random1),3), 'minutes.')"
   ]
  },
  {
   "cell_type": "code",
   "execution_count": null,
   "id": "f2413af0",
   "metadata": {},
   "outputs": [],
   "source": [
    "print(\"----------------- TRAINING ------------------------\")\n",
    "print(\"r-squared score: \",forest_model.score(X_train, y_train))\n",
    "print(\"------------------- TEST --------------------------\")\n",
    "print(\"r-squared score: \", forest_model.score(X_test, y_test))"
   ]
  },
  {
   "cell_type": "markdown",
   "id": "68d5b845",
   "metadata": {},
   "source": [
    "### 1 hr Delay - prediction"
   ]
  },
  {
   "cell_type": "code",
   "execution_count": 146,
   "id": "f032483b",
   "metadata": {},
   "outputs": [
    {
     "name": "stdout",
     "output_type": "stream",
     "text": [
      "Categorical columns are: Index(['AIRLINE', 'TAIL_NUMBER', 'ORIGIN_AIRPORT', 'DESTINATION_AIRPORT',\n",
      "       'OR_CITY', 'OR_STATE', 'DES_CITY', 'DES_STATE'],\n",
      "      dtype='object')\n",
      "Numerical columns are: Index(['FLIGHT_NUMBER', 'DISTANCE', 'OR_LATITUDE', 'OR_LONGITUDE',\n",
      "       'DES_LATITUDE', 'DES_LONGITUDE', 'DAY_DE', 'WEEKDAY_DE', 'WEEKEND_DE',\n",
      "       'HOUR_DE', 'HOUR_AR'],\n",
      "      dtype='object')\n"
     ]
    }
   ],
   "source": [
    "df_model3 = df_cat[['AIRLINE','FLIGHT_NUMBER','TAIL_NUMBER','ORIGIN_AIRPORT','DESTINATION_AIRPORT','DISTANCE','OR_CITY','OR_STATE',\n",
    "                    'OR_LATITUDE','OR_LONGITUDE','DES_CITY','DES_STATE','DES_LATITUDE','DES_LONGITUDE','DAY_DE','WEEKDAY_DE',\n",
    "                    'WEEKEND_DE','HOUR_DE','HOUR_AR','ARRIVAL_DELAY_1HR']]\n",
    "\n",
    "df_futurefd = feature_fd[['AIRLINE','FLIGHT_NUMBER','TAIL_NUMBER','ORIGIN_AIRPORT','DESTINATION_AIRPORT','DISTANCE','OR_CITY','OR_STATE',\n",
    "                    'OR_LATITUDE','OR_LONGITUDE','DES_CITY','DES_STATE','DES_LATITUDE','DES_LONGITUDE','DAY_DE','WEEKDAY_DE',\n",
    "                    'WEEKEND_DE','HOUR_DE','HOUR_AR']]\n",
    "\n",
    "X_train, X_test= train_test_split(df_model3, test_size=0.3, stratify=df_model3.ARRIVAL_DELAY_1HR)\n",
    "\n",
    "y_train = X_train.ARRIVAL_DELAY_1HR\n",
    "y_test= X_test.ARRIVAL_DELAY_1HR\n",
    "\n",
    "X_train.drop(columns=['ARRIVAL_DELAY_1HR'], inplace=True)\n",
    "X_test.drop(columns=['ARRIVAL_DELAY_1HR'], inplace=True)\n",
    "\n",
    "X_train,X_test,y_train, X_predict = encoders_cat(X_train,X_test,y_train,df_futurefd)"
   ]
  },
  {
   "cell_type": "code",
   "execution_count": null,
   "id": "e4a4f3d9",
   "metadata": {},
   "outputs": [],
   "source": [
    "corr = df_model3.corr()\n",
    "sns.heatmap(corr, \n",
    "            xticklabels=corr.columns.values,\n",
    "            yticklabels=corr.columns.values)"
   ]
  },
  {
   "cell_type": "code",
   "execution_count": null,
   "id": "25d74d6b",
   "metadata": {},
   "outputs": [],
   "source": [
    "MLA2_columns = []\n",
    "MLA2_compare = pd.DataFrame(columns = MLA2_columns)\n",
    "results=[]\n",
    "\n",
    "row_index = 0\n",
    "for alg in MLA:\n",
    "    \n",
    "    cv_results = cross_val_score(alg, X_train, y_train, cv=10)\n",
    "    results.append(cv_results)\n",
    "    predicted = alg.fit(X_train, y_train).predict(X_test)\n",
    "    fp, tp, th = roc_curve(y_test, predicted)\n",
    "    MLA_name = alg.__class__.__name__\n",
    "    MLA2_compare.loc[row_index, 'MLA Name'] = MLA_name\n",
    "    MLA2_compare.loc[row_index, 'MLA Train Accuracy'] = round(alg.score(X_train, y_train), 4)\n",
    "    MLA2_compare.loc[row_index, 'MLA Test Accuracy'] = round(alg.score(X_test, y_test), 4)\n",
    "    MLA2_compare.loc[row_index, 'MLA AUC'] = auc(fp, tp)\n",
    "    \n",
    "    \n",
    "    row_index+=1\n",
    "    \n",
    "MLA2_compare.sort_values(by = ['MLA Test Accuracy'], ascending = False, inplace = True)    \n",
    "MLA2_compare"
   ]
  },
  {
   "cell_type": "code",
   "execution_count": null,
   "id": "a406c9a2",
   "metadata": {},
   "outputs": [],
   "source": [
    "plt.subplots(figsize=(15,6))\n",
    "sns.lineplot(x=\"MLA Name\", y=\"MLA Train Accuracy\",data=MLA2_compare,palette='hot',label='Train Accuracy')\n",
    "sns.lineplot(x=\"MLA Name\", y=\"MLA Test Accuracy\",data=MLA2_compare,palette='hot',label='Test Accuracy')\n",
    "plt.xticks(rotation=90)\n",
    "plt.title('MLA Accuracy Comparison')\n",
    "plt.legend()\n",
    "plt.show()"
   ]
  },
  {
   "cell_type": "code",
   "execution_count": null,
   "id": "4d91e201",
   "metadata": {},
   "outputs": [],
   "source": [
    "plt.subplots(figsize=(15,6))\n",
    "sns.lineplot(x=\"MLA Name\", y=\"MLA AUC\",data=MLA2_compare,palette='hot',label='Accuracy')\n",
    "\n",
    "plt.xticks(rotation=90)\n",
    "plt.title('MLA Accuracy Comparison')\n",
    "plt.legend()\n",
    "plt.show()"
   ]
  },
  {
   "cell_type": "code",
   "execution_count": null,
   "id": "a78ad686",
   "metadata": {},
   "outputs": [],
   "source": [
    "#sns.boxplot(MLA_compare[\"MLA AUC\"])# boxplot algorithm comparison\n",
    "fig = plt.figure(figsize=(10,10))\n",
    "fig.suptitle('Algorithm Comparison')\n",
    "ax = fig.add_subplot(111)\n",
    "plt.boxplot(results,labels=MLA2_compare['MLA Name'])\n",
    "plt.xticks(rotation=45)\n",
    "plt.show()"
   ]
  },
  {
   "cell_type": "markdown",
   "id": "e8fd96a7",
   "metadata": {},
   "source": [
    "#### -- Factor Importance: use 1 hour delayed training data"
   ]
  },
  {
   "cell_type": "code",
   "execution_count": 132,
   "id": "4f6b4dce",
   "metadata": {},
   "outputs": [],
   "source": [
    "import xgboost as xgb\n",
    "\n",
    "# factor importance\n",
    "data_dmatrix = xgb.DMatrix(data=X_train,label=y_train)\n",
    "\n",
    "params = {'colsample_bytree': 0.3,'learning_rate': 0.1,\n",
    "                'max_depth': 5, 'alpha': 10}\n",
    "\n",
    "cv_results = xgb.cv(dtrain=data_dmatrix, params=params, nfold=5,early_stopping_rounds=10,\n",
    "                    metrics=\"rmse\", as_pandas=True, seed=1)"
   ]
  },
  {
   "cell_type": "code",
   "execution_count": 133,
   "id": "c87dd9fb",
   "metadata": {},
   "outputs": [
    {
     "ename": "NameError",
     "evalue": "name 'xg_reg' is not defined",
     "output_type": "error",
     "traceback": [
      "\u001b[1;31m---------------------------------------------------------------------------\u001b[0m",
      "\u001b[1;31mNameError\u001b[0m                                 Traceback (most recent call last)",
      "\u001b[1;32m<ipython-input-133-aa7506efac6f>\u001b[0m in \u001b[0;36m<module>\u001b[1;34m\u001b[0m\n\u001b[1;32m----> 1\u001b[1;33m \u001b[0mxgb\u001b[0m\u001b[1;33m.\u001b[0m\u001b[0mplot_importance\u001b[0m\u001b[1;33m(\u001b[0m\u001b[0mxg_reg\u001b[0m\u001b[1;33m)\u001b[0m\u001b[1;33m\u001b[0m\u001b[1;33m\u001b[0m\u001b[0m\n\u001b[0m\u001b[0;32m      2\u001b[0m \u001b[0mplt\u001b[0m\u001b[1;33m.\u001b[0m\u001b[0mrcParams\u001b[0m\u001b[1;33m[\u001b[0m\u001b[1;34m'figure.figsize'\u001b[0m\u001b[1;33m]\u001b[0m \u001b[1;33m=\u001b[0m \u001b[1;33m[\u001b[0m\u001b[1;36m5\u001b[0m\u001b[1;33m,\u001b[0m \u001b[1;36m5\u001b[0m\u001b[1;33m]\u001b[0m\u001b[1;33m\u001b[0m\u001b[1;33m\u001b[0m\u001b[0m\n\u001b[0;32m      3\u001b[0m \u001b[0mplt\u001b[0m\u001b[1;33m.\u001b[0m\u001b[0mshow\u001b[0m\u001b[1;33m(\u001b[0m\u001b[1;33m)\u001b[0m\u001b[1;33m\u001b[0m\u001b[1;33m\u001b[0m\u001b[0m\n",
      "\u001b[1;31mNameError\u001b[0m: name 'xg_reg' is not defined"
     ]
    }
   ],
   "source": [
    "xgb.plot_importance(xg_reg)\n",
    "plt.rcParams['figure.figsize'] = [5, 5]\n",
    "plt.show()"
   ]
  },
  {
   "cell_type": "markdown",
   "id": "f9e49df1",
   "metadata": {},
   "source": [
    "#### -- Run Logistic Regression on the whole training set and get parameters for prediction"
   ]
  },
  {
   "cell_type": "code",
   "execution_count": null,
   "id": "22499813",
   "metadata": {},
   "outputs": [],
   "source": []
  },
  {
   "cell_type": "code",
   "execution_count": null,
   "id": "698d03cf",
   "metadata": {},
   "outputs": [],
   "source": []
  },
  {
   "cell_type": "markdown",
   "id": "82a75c17",
   "metadata": {},
   "source": [
    "### Continous arrival delay - prediction"
   ]
  },
  {
   "cell_type": "code",
   "execution_count": 129,
   "id": "9ea6d066",
   "metadata": {},
   "outputs": [
    {
     "name": "stderr",
     "output_type": "stream",
     "text": [
      "<ipython-input-129-1197536ff311>:12: SettingWithCopyWarning: \n",
      "A value is trying to be set on a copy of a slice from a DataFrame.\n",
      "Try using .loc[row_indexer,col_indexer] = value instead\n",
      "\n",
      "See the caveats in the documentation: https://pandas.pydata.org/pandas-docs/stable/user_guide/indexing.html#returning-a-view-versus-a-copy\n",
      "  df_feature1['WEEKDAY_DE'] = df_feature1['WEEKDAY_DE'].astype(str)\n",
      "<ipython-input-129-1197536ff311>:13: SettingWithCopyWarning: \n",
      "A value is trying to be set on a copy of a slice from a DataFrame.\n",
      "Try using .loc[row_indexer,col_indexer] = value instead\n",
      "\n",
      "See the caveats in the documentation: https://pandas.pydata.org/pandas-docs/stable/user_guide/indexing.html#returning-a-view-versus-a-copy\n",
      "  df_feature1['WEEKEND_DE'] = df_feature1['WEEKEND_DE'].astype(str)\n"
     ]
    },
    {
     "name": "stdout",
     "output_type": "stream",
     "text": [
      "Categorical columns are: Index(['AIRLINE', 'ORIGIN_AIRPORT', 'DESTINATION_AIRPORT', 'OR_CITY',\n",
      "       'OR_STATE', 'DES_CITY', 'DES_STATE', 'WEEKDAY_DE', 'WEEKEND_DE'],\n",
      "      dtype='object')\n",
      "Numerical columns are: Index(['DEPARTURE_DELAY', 'DISTANCE', 'AIR_SYSTEM_DELAY', 'SECURITY_DELAY',\n",
      "       'AIRLINE_DELAY', 'LATE_AIRCRAFT_DELAY', 'WEATHER_DELAY', 'OR_LATITUDE',\n",
      "       'OR_LONGITUDE', 'DES_LATITUDE', 'DES_LONGITUDE', 'DAY_DE', 'HOUR_DE',\n",
      "       'HOUR_AR'],\n",
      "      dtype='object')\n",
      "x_train shape: (15207, 1175)\n",
      "x_test shape: (3802, 1175)\n"
     ]
    }
   ],
   "source": [
    "df_model2 = df_con[['AIRLINE','ORIGIN_AIRPORT','DESTINATION_AIRPORT','DEPARTURE_DELAY','DISTANCE','AIR_SYSTEM_DELAY',\n",
    "                        'SECURITY_DELAY','AIRLINE_DELAY','LATE_AIRCRAFT_DELAY','WEATHER_DELAY','ARRIVAL_DELAY','OR_CITY',\n",
    "                        'OR_STATE','OR_LATITUDE','OR_LONGITUDE','DES_CITY','DES_STATE','DES_LATITUDE','DES_LONGITUDE',\n",
    "                        'DAY_DE','WEEKDAY_DE','WEEKEND_DE','HOUR_DE','HOUR_AR']]\n",
    "\n",
    "df_target1 = df_model2['ARRIVAL_DELAY']\n",
    "df_feature1 = df_model2[['AIRLINE','ORIGIN_AIRPORT','DESTINATION_AIRPORT','DEPARTURE_DELAY','DISTANCE',\n",
    "                        'AIR_SYSTEM_DELAY','SECURITY_DELAY','AIRLINE_DELAY','LATE_AIRCRAFT_DELAY','WEATHER_DELAY',\n",
    "                        'OR_CITY','OR_STATE','OR_LATITUDE','OR_LONGITUDE','DES_CITY','DES_STATE','DES_LATITUDE','DES_LONGITUDE',\n",
    "                        'DAY_DE','WEEKDAY_DE','WEEKEND_DE','HOUR_DE','HOUR_AR']]\n",
    "\n",
    "df_feature1['WEEKDAY_DE'] = df_feature1['WEEKDAY_DE'].astype(str)\n",
    "df_feature1['WEEKEND_DE'] = df_feature1['WEEKEND_DE'].astype(str)\n",
    "\n",
    "X_train, X_test, y_train, y_test = train_test_split(df_feature1, df_target1, random_state=11, test_size=0.2, shuffle=True)\n",
    "\n",
    "X_train, X_test = encoders_con(X_train, X_test)"
   ]
  },
  {
   "cell_type": "code",
   "execution_count": 130,
   "id": "839a3e74",
   "metadata": {},
   "outputs": [
    {
     "name": "stderr",
     "output_type": "stream",
     "text": [
      "\n",
      "STOPPING EARLY DUE TO KEYBOARD INTERRUPT..."
     ]
    },
    {
     "data": {
      "image/png": "[encoded data removed]",
      "text/plain": [
       "<Figure size 432x288 with 1 Axes>"
      ]
     },
     "metadata": {
      "needs_background": "light"
     },
     "output_type": "display_data"
    }
   ],
   "source": [
    "from mlxtend.feature_selection import SequentialFeatureSelector as SFS\n",
    "from mlxtend.plotting import plot_sequential_feature_selection as plot_sfs\n",
    "from sklearn.linear_model import LinearRegression\n",
    "\n",
    "lr = LinearRegression()\n",
    "sfs = SFS(lr, k_features='best', forward=True, floating=False, \n",
    "          scoring='neg_mean_squared_error', cv=10)\n",
    "model = sfs.fit(X_train, y_train)\n",
    "\n",
    "fig = plot_sfs(sfs.get_metric_dict(), kind='std_err')\n",
    "\n",
    "plt.title('Sequential Forward Selection (w. StdErr)')\n",
    "plt.grid()\n",
    "plt.show()"
   ]
  },
  {
   "cell_type": "code",
   "execution_count": 131,
   "id": "4fc2b3c1",
   "metadata": {},
   "outputs": [
    {
     "name": "stdout",
     "output_type": "stream",
     "text": [
      "Selected features: (0, 1, 4, 9, 15, 18, 20, 28, 52, 59, 62, 70, 76, 78, 86, 94, 100, 125, 131, 136, 139, 144, 150, 156, 158, 163, 175, 188, 192, 200, 209, 218, 230, 233, 241, 244, 258, 279, 280, 283, 315, 338, 339, 345, 374, 376, 378, 386, 387, 389, 403, 408, 417, 419, 427, 435, 441, 442, 453, 456, 459, 471, 477, 498, 504, 513, 522, 536, 569, 576, 583, 595, 600, 610, 629, 630, 637, 640, 650, 652, 669, 671, 676, 685, 702, 716, 732, 759, 778, 795, 803, 813, 814, 816, 820, 821, 824, 832, 835, 837, 840, 877, 898, 933, 936, 937, 960, 961, 990, 1019, 1020, 1024, 1029, 1034, 1064, 1074, 1075, 1095, 1113, 1120, 1126, 1138, 1142, 1153, 1161, 1162, 1163, 1164, 1165, 1166, 1167, 1169, 1170, 1171, 1173)\n"
     ]
    }
   ],
   "source": [
    "print('Selected features:', sfs.k_feature_idx_)"
   ]
  },
  {
   "cell_type": "markdown",
   "id": "5b0a6b18",
   "metadata": {},
   "source": [
    "The features we should use are:"
   ]
  },
  {
   "cell_type": "code",
   "execution_count": null,
   "id": "ea641d0f",
   "metadata": {},
   "outputs": [],
   "source": []
  }
 ],
 "metadata": {
  "kernelspec": {
   "display_name": "Python 3",
   "language": "python",
   "name": "python3"
  },
  "language_info": {
   "codemirror_mode": {
    "name": "ipython",
    "version": 3
   },
   "file_extension": ".py",
   "mimetype": "text/x-python",
   "name": "python",
   "nbconvert_exporter": "python",
   "pygments_lexer": "ipython3",
   "version": "3.8.3"
  }
 },
 "nbformat": 4,
 "nbformat_minor": 5
}
