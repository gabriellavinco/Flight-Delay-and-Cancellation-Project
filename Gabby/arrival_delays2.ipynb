{
 "cells": [
  {
   "cell_type": "code",
   "execution_count": 1,
   "metadata": {},
   "outputs": [],
   "source": [
    "## creating a venv\n",
    "# !pip install virtualenv\n",
    "# !virtualenv statconsvenv"
   ]
  },
  {
   "cell_type": "code",
   "execution_count": 2,
   "metadata": {},
   "outputs": [],
   "source": [
    "## initiate venv\n",
    "# !source statconsvenv/bin/activate"
   ]
  },
  {
   "cell_type": "code",
   "execution_count": 3,
   "metadata": {},
   "outputs": [],
   "source": [
    "# !pip install -r requirements.txt\n",
    "# !pip freeze > requirements.txt"
   ]
  },
  {
   "cell_type": "code",
   "execution_count": 4,
   "metadata": {
    "scrolled": true
   },
   "outputs": [],
   "source": [
    "# !pip install circlify\n",
    "# !pip install folium\n",
    "# !pip install squarify\n",
    "# !pip install mpl_extra\n",
    "# !pip install calplot\n",
    "# !pip install plotly-calplot"
   ]
  },
  {
   "cell_type": "code",
   "execution_count": 5,
   "metadata": {},
   "outputs": [],
   "source": [
    "# !pip list"
   ]
  },
  {
   "cell_type": "code",
   "execution_count": 6,
   "metadata": {},
   "outputs": [],
   "source": [
    "# import packages\n",
    "import pandas as pd\n",
    "import numpy as np\n",
    "import plotly.graph_objects as go\n",
    "import datetime\n",
    "import seaborn as sns\n",
    "import matplotlib as mpl\n",
    "import matplotlib.pyplot as plt\n",
    "from platform import python_version\n",
    "from pprint import pprint as pp\n",
    "import sys\n",
    "import folium    \n",
    "from collections import Counter\n",
    "import plotly\n",
    "# from plotly_calplot import calplot\n",
    "import circlify as circ\n",
    "import squarify\n",
    "from matplotlib.pyplot import figure\n",
    "import plotly.express as px\n",
    "import plotly.graph_objects as go\n",
    "from plotly.subplots import make_subplots\n",
    "from sklearn import preprocessing"
   ]
  },
  {
   "cell_type": "code",
   "execution_count": 7,
   "metadata": {},
   "outputs": [],
   "source": [
    "path = 'https://www.dropbox.com/s/9p11vj3svblow6j/df_final.csv?dl=1'"
   ]
  },
  {
   "cell_type": "code",
   "execution_count": 8,
   "metadata": {},
   "outputs": [],
   "source": [
    "path2 = 'https://www.dropbox.com/s/pvc1azze3p0yq6p/abbr-name.csv?dl=1'"
   ]
  },
  {
   "cell_type": "code",
   "execution_count": null,
   "metadata": {},
   "outputs": [],
   "source": [
    "df_final = pd.read_csv(path, header=0)"
   ]
  },
  {
   "cell_type": "code",
   "execution_count": null,
   "metadata": {},
   "outputs": [],
   "source": [
    "df_statenames = pd.read_csv(path2, header=0)"
   ]
  },
  {
   "cell_type": "code",
   "execution_count": null,
   "metadata": {},
   "outputs": [],
   "source": [
    "list(df_final)"
   ]
  },
  {
   "cell_type": "code",
   "execution_count": null,
   "metadata": {},
   "outputs": [],
   "source": [
    "or_state = []\n",
    "full_or_state = []"
   ]
  },
  {
   "cell_type": "code",
   "execution_count": null,
   "metadata": {},
   "outputs": [],
   "source": [
    "for i in range(len(df_statenames)):\n",
    "    x = df_statenames[';OR_STATE;FULL_STATE'][i].split(\";\")\n",
    "    or_state.append(x[1])\n",
    "    full_or_state.append(x[2])"
   ]
  },
  {
   "cell_type": "code",
   "execution_count": null,
   "metadata": {},
   "outputs": [],
   "source": [
    "df_state = pd.DataFrame()"
   ]
  },
  {
   "cell_type": "code",
   "execution_count": null,
   "metadata": {},
   "outputs": [],
   "source": [
    "df_state['OR_STATE'] = or_state\n",
    "df_state['OR_FULL_STATE'] = full_or_state"
   ]
  },
  {
   "cell_type": "code",
   "execution_count": null,
   "metadata": {},
   "outputs": [],
   "source": [
    "list(df_final)"
   ]
  },
  {
   "cell_type": "code",
   "execution_count": null,
   "metadata": {},
   "outputs": [],
   "source": [
    "# creating a df with only unique values to do visualization of the flight paths\n",
    "unique = pd.DataFrame()\n",
    "\n",
    "unique['OR_LAT'] = df_final['OR_LATITUDE'].unique()\n",
    "unique['OR_LONG'] = df_final['OR_LONGITUDE'].unique()\n",
    "unique['DES_LAT'] = df_final['DES_LATITUDE'].unique()\n",
    "unique['DES_LONG'] = df_final['DES_LONGITUDE'].unique()\n",
    "unique['OR_AIRPORT'] = df_final['OR_AIRPORT_NAME'].unique()\n",
    "unique['DES_AIRPORT'] = df_final['DES_AIRPORT_NAME'].unique()"
   ]
  },
  {
   "cell_type": "code",
   "execution_count": null,
   "metadata": {},
   "outputs": [],
   "source": [
    "# combining the OR/DES coordinates for plot use\n",
    "unique[\"OR_COORDS\"] = list(zip(unique['OR_LAT'], unique['OR_LONG']))\n",
    "unique[\"DES_COORDS\"] = list(zip(unique['DES_LAT'], unique['DES_LONG']))\n",
    "unique[\"FLIGHT_PATHS\"] = list(zip(unique[\"OR_COORDS\"], unique[\"DES_COORDS\"]))"
   ]
  },
  {
   "cell_type": "code",
   "execution_count": null,
   "metadata": {},
   "outputs": [],
   "source": [
    "# all unique flight paths\n",
    "flight_paths = list(unique['FLIGHT_PATHS'])"
   ]
  },
  {
   "cell_type": "code",
   "execution_count": null,
   "metadata": {},
   "outputs": [],
   "source": [
    "# using only unique flights so you can use the number of same flights \n",
    "# as a variable or can average out delays for same path flight\\\n",
    "\n",
    "combo_unique = pd.DataFrame(flight_paths)"
   ]
  },
  {
   "cell_type": "code",
   "execution_count": null,
   "metadata": {},
   "outputs": [],
   "source": [
    "# renaming columns\n",
    "combo_unique.rename(columns={combo_unique.columns[0]: \"OR_AIRPORT\", combo_unique.columns[1]: \"DES_AIRPORT\"}, inplace = True)\n",
    "# combo_unique.head()"
   ]
  },
  {
   "cell_type": "code",
   "execution_count": null,
   "metadata": {},
   "outputs": [],
   "source": [
    "# len(combo_unique)"
   ]
  },
  {
   "cell_type": "code",
   "execution_count": null,
   "metadata": {},
   "outputs": [],
   "source": [
    "# creating a list of all coordinate pairs\n",
    "all_org_coords = list(zip(df_final['OR_LATITUDE'], df_final['OR_LONGITUDE']))\n",
    "all_des_coords = list(zip(df_final['DES_LATITUDE'], df_final['DES_LONGITUDE']))"
   ]
  },
  {
   "cell_type": "code",
   "execution_count": null,
   "metadata": {},
   "outputs": [],
   "source": [
    "# combining all coordinate pairs\n",
    "final_coords = list(zip(all_org_coords, all_des_coords))"
   ]
  },
  {
   "cell_type": "code",
   "execution_count": null,
   "metadata": {},
   "outputs": [],
   "source": [
    "coords_final = pd.DataFrame(final_coords)"
   ]
  },
  {
   "cell_type": "code",
   "execution_count": null,
   "metadata": {},
   "outputs": [],
   "source": [
    "# all flights in dataset\n",
    "coords_final.rename(columns={coords_final.columns[0]: \"OR_AIRPORT\", coords_final.columns[1]: \"DES_AIRPORT\"}, inplace = True)\n",
    "coords_final.head()"
   ]
  },
  {
   "cell_type": "code",
   "execution_count": null,
   "metadata": {},
   "outputs": [],
   "source": [
    "df_final = pd.concat([df_final, coords_final], axis=1)\n",
    "df_final.head()"
   ]
  },
  {
   "cell_type": "code",
   "execution_count": null,
   "metadata": {},
   "outputs": [],
   "source": [
    "flight_count_by_airline = df_final.sort_values(by = ['OR_AIRPORT'], ascending = False)\n",
    "flight_count_by_airline = flight_count_by_airline.reset_index(drop = True)"
   ]
  },
  {
   "cell_type": "code",
   "execution_count": null,
   "metadata": {},
   "outputs": [],
   "source": [
    "flight_count_by_airline = flight_count_by_airline.groupby(['ORIGIN_AIRPORT','AIRLINE'])[\"FLIGHT_NUMBER\"].count()\n"
   ]
  },
  {
   "cell_type": "code",
   "execution_count": null,
   "metadata": {
    "scrolled": true
   },
   "outputs": [],
   "source": [
    "flight_count_by_airline = flight_count_by_airline.to_frame()"
   ]
  },
  {
   "cell_type": "code",
   "execution_count": null,
   "metadata": {},
   "outputs": [],
   "source": [
    "# combining coordinates for the similar flight paths\n",
    "df_flight_grouped = df_final.groupby(['OR_AIRPORT','DES_AIRPORT'], as_index=False)['ARRIVAL_DELAY_v1'].mean()\n",
    "# df_flight_grouped.head()"
   ]
  },
  {
   "cell_type": "code",
   "execution_count": null,
   "metadata": {},
   "outputs": [],
   "source": [
    "df_flight_grouped['ARRIVAL_DELAY'] = list(df_flight_grouped['ARRIVAL_DELAY_v1'].round(2))"
   ]
  },
  {
   "cell_type": "code",
   "execution_count": null,
   "metadata": {},
   "outputs": [],
   "source": [
    "# max delay\n",
    "df_flight_grouped['ARRIVAL_DELAY_v1'].max()"
   ]
  },
  {
   "cell_type": "code",
   "execution_count": null,
   "metadata": {},
   "outputs": [],
   "source": [
    "# min delay\n",
    "df_flight_grouped['ARRIVAL_DELAY_v1'].min()"
   ]
  },
  {
   "cell_type": "code",
   "execution_count": null,
   "metadata": {},
   "outputs": [],
   "source": [
    "# df_flight_grouped.head()"
   ]
  },
  {
   "cell_type": "code",
   "execution_count": null,
   "metadata": {},
   "outputs": [],
   "source": [
    "# len(df_flight_grouped)"
   ]
  },
  {
   "cell_type": "code",
   "execution_count": null,
   "metadata": {},
   "outputs": [],
   "source": [
    "# identify delay and total number of flights by airline\n",
    "\n",
    "unique_airlines = df_final['AIRLINE'].unique()\n",
    "df_airline_group = pd.DataFrame(unique_airlines)"
   ]
  },
  {
   "cell_type": "code",
   "execution_count": null,
   "metadata": {},
   "outputs": [],
   "source": [
    "df_airline_group = df_airline_group.sort_values([0])"
   ]
  },
  {
   "cell_type": "code",
   "execution_count": null,
   "metadata": {},
   "outputs": [],
   "source": [
    "mean_ad = df_final.groupby(['AIRLINE'])['ARRIVAL_DELAY_v1'].mean()\n",
    "mean_d = list(mean_ad)\n",
    "df_airline_group['MEAN_DEP_DELAY'] = mean_d\n",
    "# df_airline_group.head()"
   ]
  },
  {
   "cell_type": "code",
   "execution_count": null,
   "metadata": {},
   "outputs": [],
   "source": [
    "flights_by_airline = df_final['AIRLINE'].value_counts()\n",
    "flights_by_airline = flights_by_airline.sort_index()\n",
    "air_flight = list(flights_by_airline)\n",
    "df_airline_group['NUMBER_OF_FLIGHTS'] = air_flight\n",
    "# df_airline_group"
   ]
  },
  {
   "cell_type": "code",
   "execution_count": null,
   "metadata": {},
   "outputs": [],
   "source": [
    "df_airline_group.rename(columns={df_airline_group.columns[0]: 'AIRLINE'}, inplace=True)"
   ]
  },
  {
   "cell_type": "code",
   "execution_count": null,
   "metadata": {},
   "outputs": [],
   "source": [
    "# average delays by airline and how many flights they've flown in the dataset\n",
    "df_airline_group.sort_values('NUMBER_OF_FLIGHTS', ascending=False)"
   ]
  },
  {
   "cell_type": "code",
   "execution_count": null,
   "metadata": {},
   "outputs": [],
   "source": [
    "# identify delay and total number of flights by airport\n",
    "df_airport_group = df_final.groupby(['ORIGIN_AIRPORT', 'OR_STATE'])['ARRIVAL_DELAY_v1'].mean()\n",
    "df_airport_group = df_airport_group.to_frame().reset_index()\n"
   ]
  },
  {
   "cell_type": "code",
   "execution_count": null,
   "metadata": {},
   "outputs": [],
   "source": [
    "flights_by_airport = df_final['ORIGIN_AIRPORT'].value_counts()\n",
    "flights_by_airport = flights_by_airport.sort_index()\n",
    "flights_by_airport = flights_by_airport.tolist()"
   ]
  },
  {
   "cell_type": "code",
   "execution_count": null,
   "metadata": {},
   "outputs": [],
   "source": [
    "df_airport_group['NUM_OF_FLIGHTS'] = flights_by_airport"
   ]
  },
  {
   "cell_type": "code",
   "execution_count": null,
   "metadata": {},
   "outputs": [],
   "source": [
    "df_airport_group.head()"
   ]
  },
  {
   "cell_type": "code",
   "execution_count": null,
   "metadata": {},
   "outputs": [],
   "source": [
    "# len(df_airport_group)"
   ]
  },
  {
   "cell_type": "code",
   "execution_count": null,
   "metadata": {},
   "outputs": [],
   "source": [
    "# airports and avg delay sorted by busiest/most flights)\n",
    "# could visualize this as size and color circles (size = num flights, color = avg delay time)\n",
    "\n",
    "df_airport_group.sort_values(by=['NUM_OF_FLIGHTS'], ascending=False)"
   ]
  },
  {
   "cell_type": "code",
   "execution_count": null,
   "metadata": {},
   "outputs": [],
   "source": [
    "# data frame of airport information\n",
    "\n",
    "df_airport_group = df_airport_group.reset_index(drop=True)\n",
    "df_airport_group = df_airport_group.rename(columns={'ORIGIN_AIRPORT': 'AIRPORT'})"
   ]
  },
  {
   "cell_type": "code",
   "execution_count": null,
   "metadata": {},
   "outputs": [],
   "source": [
    "# merging with the full name rather than the abbreviation\n",
    "df_airport_group = pd.merge(df_airport_group, df_state, on='OR_STATE', how='outer')"
   ]
  },
  {
   "cell_type": "code",
   "execution_count": null,
   "metadata": {},
   "outputs": [],
   "source": [
    "df_airport_group.head()"
   ]
  },
  {
   "cell_type": "code",
   "execution_count": null,
   "metadata": {},
   "outputs": [],
   "source": [
    "# count of flights by airlines in airports\n",
    "\n",
    "df_airport_airline = pd.DataFrame()\n",
    "df_alt_air = pd.DataFrame()"
   ]
  },
  {
   "cell_type": "code",
   "execution_count": null,
   "metadata": {},
   "outputs": [],
   "source": [
    "df_airport_airline['AIRLINE'] = df_final['AIRLINE']\n",
    "df_airport_airline['ORIGIN_AIRPORT'] = df_final['ORIGIN_AIRPORT']\n",
    "df_airport_airline['ARRIVAL_DELAY'] = df_final['ARRIVAL_DELAY_v1']\n",
    "# df_airport_airline[\"TAIL_NUMBER\"] = df_final[\"TAIL_NUMBER\"]"
   ]
  },
  {
   "cell_type": "code",
   "execution_count": null,
   "metadata": {},
   "outputs": [],
   "source": [
    "df_alt_air['AIRLINE'] = df_final['AIRLINE']\n",
    "df_alt_air['ORIGIN_AIRPORT'] = df_final['ORIGIN_AIRPORT']\n",
    "df_alt_air[\"TAIL_NUMBER\"] = df_final[\"TAIL_NUMBER\"]"
   ]
  },
  {
   "cell_type": "code",
   "execution_count": null,
   "metadata": {},
   "outputs": [],
   "source": [
    "df_airport_airline = df_airport_airline.groupby([\"ORIGIN_AIRPORT\", \"AIRLINE\"])[\"ARRIVAL_DELAY\"].mean()"
   ]
  },
  {
   "cell_type": "code",
   "execution_count": null,
   "metadata": {},
   "outputs": [],
   "source": [
    "airline_flight_count = df_alt_air.groupby([\"ORIGIN_AIRPORT\", \"AIRLINE\"])[\"TAIL_NUMBER\"].count()"
   ]
  },
  {
   "cell_type": "code",
   "execution_count": null,
   "metadata": {},
   "outputs": [],
   "source": [
    "airline_flight_count = pd.DataFrame(airline_flight_count)"
   ]
  },
  {
   "cell_type": "code",
   "execution_count": null,
   "metadata": {},
   "outputs": [],
   "source": [
    "airline_flight_count.head()"
   ]
  },
  {
   "cell_type": "code",
   "execution_count": null,
   "metadata": {},
   "outputs": [],
   "source": [
    "df_airport_airline = pd.DataFrame(df_airport_airline)"
   ]
  },
  {
   "cell_type": "code",
   "execution_count": null,
   "metadata": {
    "scrolled": true
   },
   "outputs": [],
   "source": [
    "df_airport_airline.head()"
   ]
  },
  {
   "cell_type": "code",
   "execution_count": null,
   "metadata": {},
   "outputs": [],
   "source": [
    "# trying to organize data into a dictionary to use circlify\n",
    "circledata = df_airport_airline.to_dict('dict')\n",
    "circledata = circledata['ARRIVAL_DELAY']"
   ]
  },
  {
   "cell_type": "code",
   "execution_count": null,
   "metadata": {},
   "outputs": [],
   "source": [
    "keys = circledata.keys()\n",
    "values = circledata.values()"
   ]
  },
  {
   "cell_type": "code",
   "execution_count": null,
   "metadata": {},
   "outputs": [],
   "source": [
    "airport_airline = []\n",
    "for entry in keys:\n",
    "    case = {'AIRPORT': entry[0], 'AIRLINE': entry[1]}\n",
    "    airport_airline.append(case)"
   ]
  },
  {
   "cell_type": "code",
   "execution_count": null,
   "metadata": {},
   "outputs": [],
   "source": [
    "# range(len(airport_airline))"
   ]
  },
  {
   "cell_type": "code",
   "execution_count": null,
   "metadata": {},
   "outputs": [],
   "source": [
    "# airport_airline[0]"
   ]
  },
  {
   "cell_type": "code",
   "execution_count": null,
   "metadata": {},
   "outputs": [],
   "source": [
    "delays = list(values)"
   ]
  },
  {
   "cell_type": "code",
   "execution_count": null,
   "metadata": {},
   "outputs": [],
   "source": [
    "# delays"
   ]
  },
  {
   "cell_type": "code",
   "execution_count": null,
   "metadata": {},
   "outputs": [],
   "source": [
    "for i in range(len(airport_airline)):\n",
    "    airport_airline[i]['AVG_DELAY'] = delays[i]"
   ]
  },
  {
   "cell_type": "code",
   "execution_count": null,
   "metadata": {},
   "outputs": [],
   "source": [
    "airports = []\n",
    "airlines = []\n",
    "delay_times = []"
   ]
  },
  {
   "cell_type": "code",
   "execution_count": null,
   "metadata": {},
   "outputs": [],
   "source": [
    "for y in range(len(airport_airline)):\n",
    "    airports.append(airport_airline[y]['AIRPORT'])\n",
    "    airlines.append(airport_airline[y]['AIRLINE'])\n",
    "    delay_times.append(airport_airline[y]['AVG_DELAY'])"
   ]
  },
  {
   "cell_type": "code",
   "execution_count": null,
   "metadata": {},
   "outputs": [],
   "source": [
    "# delay_times"
   ]
  },
  {
   "cell_type": "code",
   "execution_count": null,
   "metadata": {},
   "outputs": [],
   "source": [
    "airport_name = Counter(airports).keys()\n",
    "airline_count = Counter(airports).values()"
   ]
  },
  {
   "cell_type": "code",
   "execution_count": null,
   "metadata": {},
   "outputs": [],
   "source": [
    "dict_df = pd.DataFrame.from_dict(airport_airline)"
   ]
  },
  {
   "cell_type": "code",
   "execution_count": null,
   "metadata": {},
   "outputs": [],
   "source": [
    "# this is basically the same thing as df_airport_airline just not grouped\n",
    "# dict_df"
   ]
  },
  {
   "cell_type": "code",
   "execution_count": null,
   "metadata": {},
   "outputs": [],
   "source": [
    "avg_delays = df_airport_group['ARRIVAL_DELAY_v1']"
   ]
  },
  {
   "cell_type": "code",
   "execution_count": null,
   "metadata": {},
   "outputs": [],
   "source": [
    "df_airport_delays = pd.merge(df_airport_group, dict_df, on='AIRPORT', how='right')\n",
    "df_airport_delays = df_airport_delays.rename(columns={'ARRIVAL_DELAY_v1': 'AVG_DELAY_BY_AIRPORT', 'AVG_DELAY': 'AVG_DELAY_BY_AIRLINE'})"
   ]
  },
  {
   "cell_type": "code",
   "execution_count": null,
   "metadata": {},
   "outputs": [],
   "source": [
    "df_airport_delays = df_airport_delays.round({'AVG_DELAY_BY_AIRPORT': 2, 'AVG_DELAY_BY_AIRLINE': 2})\n",
    "df_airport_delays = df_airport_delays.rename(columns={'NUM_OF_FLIGHTS': 'NUM_OF_FLIGHTS_BY_AIRPORT'})"
   ]
  },
  {
   "cell_type": "code",
   "execution_count": null,
   "metadata": {
    "scrolled": false
   },
   "outputs": [],
   "source": [
    "df_airport_delays['NUM_OF_FLIGHTS_BY_AIRLINE_AIRPORT'] = list(airline_flight_count[\"TAIL_NUMBER\"])"
   ]
  },
  {
   "cell_type": "code",
   "execution_count": null,
   "metadata": {},
   "outputs": [],
   "source": [
    "df_airport_delays['DELAY_RATIO'] = df_airport_delays['AVG_DELAY_BY_AIRLINE']/df_airport_delays['AVG_DELAY_BY_AIRPORT']"
   ]
  },
  {
   "cell_type": "code",
   "execution_count": null,
   "metadata": {},
   "outputs": [],
   "source": [
    "# df_airport_delays['DELAY_RATIO'] = df_airport_delays.loc[df_airport_delays['DELAY_RATIO'] <= -1].replace(-1)\n",
    "df_airport_delays.loc[df_airport_delays['DELAY_RATIO'] < -15, 'DELAY_RATIO'] = -15\n",
    "df_airport_delays.loc[df_airport_delays['DELAY_RATIO'] >= 15, 'DELAY_RATIO'] = 15"
   ]
  },
  {
   "cell_type": "code",
   "execution_count": null,
   "metadata": {},
   "outputs": [],
   "source": [
    "df_delay_ratio = df_airport_delays.groupby([\"AIRPORT\"])[\"DELAY_RATIO\"].sum()"
   ]
  },
  {
   "cell_type": "code",
   "execution_count": null,
   "metadata": {},
   "outputs": [],
   "source": [
    "df_delay_ratio = pd.DataFrame(df_delay_ratio)\n",
    "df_delay_ratio.rename(columns={'DELAY_RATIO': 'DELAY_RATIO_SUM_AIRPORT'}, inplace=True)"
   ]
  },
  {
   "cell_type": "code",
   "execution_count": null,
   "metadata": {},
   "outputs": [],
   "source": [
    "df_airport_delays = pd.merge(df_airport_delays, df_delay_ratio, on='AIRPORT', how='left')"
   ]
  },
  {
   "cell_type": "code",
   "execution_count": null,
   "metadata": {},
   "outputs": [],
   "source": [
    "df_airport_delays['DUMMY_AIRPORT_DELAY'] = df_airport_delays['AVG_DELAY_BY_AIRPORT']\n",
    "df_airport_delays['DUMMY_AIRLINE_DELAY'] = df_airport_delays['AVG_DELAY_BY_AIRLINE']"
   ]
  },
  {
   "cell_type": "code",
   "execution_count": null,
   "metadata": {},
   "outputs": [],
   "source": [
    "df_airport_delays.loc[df_airport_delays['DUMMY_AIRPORT_DELAY'] <= -15 , 'DUMMY_AIRPORT_DELAY'] = -1\n",
    "df_airport_delays.loc[(df_airport_delays['DUMMY_AIRPORT_DELAY'] > -15) & (df_airport_delays['DUMMY_AIRPORT_DELAY'] < 0) , 'DUMMY_AIRPORT_DELAY'] = -0.5\n",
    "df_airport_delays.loc[df_airport_delays['DUMMY_AIRPORT_DELAY'] == 0 , 'DUMMY_AIRPORT_DELAY'] = 0\n",
    "df_airport_delays.loc[(df_airport_delays['DUMMY_AIRPORT_DELAY'] > 0) & (df_airport_delays['DUMMY_AIRPORT_DELAY'] <= 15), 'DUMMY_AIRPORT_DELAY'] = 0.5\n",
    "df_airport_delays.loc[(df_airport_delays['DUMMY_AIRPORT_DELAY'] > 15) & (df_airport_delays['DUMMY_AIRPORT_DELAY'] <= 30) , 'DUMMY_AIRPORT_DELAY'] = 1\n",
    "df_airport_delays.loc[(df_airport_delays['DUMMY_AIRPORT_DELAY'] > 30) & (df_airport_delays['DUMMY_AIRPORT_DELAY'] <= 45) , 'DUMMY_AIRPORT_DELAY'] = 1.5\n",
    "df_airport_delays.loc[df_airport_delays['DUMMY_AIRPORT_DELAY'] > 45 , 'DUMMY_AIRPORT_DELAY'] = 2"
   ]
  },
  {
   "cell_type": "code",
   "execution_count": null,
   "metadata": {},
   "outputs": [],
   "source": [
    "df_airport_delays.loc[df_airport_delays['DUMMY_AIRLINE_DELAY'] <= -15 , 'DUMMY_AIRLINE_DELAY'] = -1\n",
    "df_airport_delays.loc[(df_airport_delays['DUMMY_AIRLINE_DELAY'] > -15) & (df_airport_delays['DUMMY_AIRLINE_DELAY'] < 0) , 'DUMMY_AIRLINE_DELAY'] = -0.5\n",
    "df_airport_delays.loc[df_airport_delays['DUMMY_AIRLINE_DELAY'] == 0 , 'DUMMY_AIRLINE_DELAY'] = 0\n",
    "df_airport_delays.loc[(df_airport_delays['DUMMY_AIRLINE_DELAY'] > 0) & (df_airport_delays['DUMMY_AIRLINE_DELAY'] <= 15), 'DUMMY_AIRLINE_DELAY'] = 0.5\n",
    "df_airport_delays.loc[(df_airport_delays['DUMMY_AIRLINE_DELAY'] > 15) & (df_airport_delays['DUMMY_AIRLINE_DELAY'] <= 30) , 'DUMMY_AIRLINE_DELAY'] = 1\n",
    "df_airport_delays.loc[(df_airport_delays['DUMMY_AIRLINE_DELAY'] > 30) & (df_airport_delays['DUMMY_AIRLINE_DELAY'] <= 45) , 'DUMMY_AIRLINE_DELAY'] = 1.5\n",
    "df_airport_delays.loc[df_airport_delays['DUMMY_AIRLINE_DELAY'] > 45 , 'DUMMY_AIRLINE_DELAY'] = 2"
   ]
  },
  {
   "cell_type": "code",
   "execution_count": null,
   "metadata": {},
   "outputs": [],
   "source": [
    "df_airport_delays.head()"
   ]
  },
  {
   "cell_type": "markdown",
   "metadata": {},
   "source": [
    "Visualizations"
   ]
  },
  {
   "cell_type": "code",
   "execution_count": null,
   "metadata": {},
   "outputs": [],
   "source": [
    "# make a map of all the flight paths\n",
    "\n",
    "US_flight_map = folium.Map(location=[unique['OR_LAT'].mean() + 12, unique['OR_LONG'].mean()], \n",
    "                 zoom_start=3, control_scale=True)"
   ]
  },
  {
   "cell_type": "code",
   "execution_count": null,
   "metadata": {},
   "outputs": [],
   "source": [
    "# placing the markers of the airports\n",
    "for index, org_airports in unique.iterrows():\n",
    "    folium.Circle([org_airports[\"DES_LAT\"], org_airports[\"DES_LONG\"]], popup=org_airports[\"DES_AIRPORT\"], radius=4, color='skyblue').add_to(US_flight_map)"
   ]
  },
  {
   "cell_type": "code",
   "execution_count": null,
   "metadata": {},
   "outputs": [],
   "source": [
    "points = []\n",
    "for i in range(len(df_flight_grouped)):\n",
    "    points.append([df_flight_grouped['OR_AIRPORT'][i], df_flight_grouped['DES_AIRPORT'][i]])\n"
   ]
  },
  {
   "cell_type": "code",
   "execution_count": null,
   "metadata": {},
   "outputs": [],
   "source": [
    "# mapping the flight paths\n",
    "folium.PolyLine(points,\n",
    "                color='forestgreen',\n",
    "                weight=1,\n",
    "                opacity=0.1).add_to(US_flight_map)"
   ]
  },
  {
   "cell_type": "code",
   "execution_count": null,
   "metadata": {
    "scrolled": true
   },
   "outputs": [],
   "source": [
    "# US_flight_map"
   ]
  },
  {
   "cell_type": "code",
   "execution_count": null,
   "metadata": {
    "scrolled": true
   },
   "outputs": [],
   "source": [
    "# df_airport_delays.head()"
   ]
  },
  {
   "cell_type": "code",
   "execution_count": null,
   "metadata": {
    "scrolled": false
   },
   "outputs": [],
   "source": [
    "# tree map for airports delays taking in account size differences\n",
    "fig = px.treemap(df_airport_delays, \n",
    "                 path=[px.Constant(\"US AIRPORTS\"), 'OR_STATE', 'AIRPORT'], \n",
    "                 values='NUM_OF_FLIGHTS_BY_AIRPORT',\n",
    "                 color='AVG_DELAY_BY_AIRPORT',\n",
    "                 color_continuous_scale='balance',\n",
    "                 color_continuous_midpoint=np.average(df_airport_delays['AVG_DELAY_BY_AIRPORT'], weights=df_airport_delays['NUM_OF_FLIGHTS_BY_AIRPORT']))\n",
    "fig.update_layout(margin = dict(t=50, l=25, r=25, b=25))\n",
    "fig.show()"
   ]
  },
  {
   "cell_type": "code",
   "execution_count": null,
   "metadata": {},
   "outputs": [],
   "source": [
    "# tree map for airlines delay taking in account airport sizes\n",
    "\n",
    "fig = px.treemap(df_airport_delays, \n",
    "                 path=[px.Constant(\"AIRPORTS IN THE US BY STATE THEN AIRPORT\"), 'OR_STATE', 'AIRPORT', 'AIRLINE'], \n",
    "                 values='NUM_OF_FLIGHTS_BY_AIRLINE_AIRPORT',\n",
    "                 color='DUMMY_AIRLINE_DELAY',\n",
    "                 color_continuous_scale='balance',\n",
    "                 color_continuous_midpoint=np.average(df_airport_delays['DUMMY_AIRLINE_DELAY'],))\n",
    "\n",
    "fig.update_layout(coloraxis_colorbar=dict(title='Arrival Delay Times',tickvals = [2,1.5,1,.5,0,-.5,-1], ticktext = ['45+ min delay', '30-45 min delay', '15-30 min delay', '1-15 min delay', '0 min (on time)', '1-15 mins early', '15+ mins early']))\n",
    "fig.update_layout(margin = dict(t=50, l=25, r=25, b=25))\n",
    "fig.show() \n"
   ]
  },
  {
   "cell_type": "code",
   "execution_count": null,
   "metadata": {
    "scrolled": true
   },
   "outputs": [],
   "source": [
    "# chloropleth map\n",
    "url = (\n",
    "    \"https://raw.githubusercontent.com/python-visualization/folium/master/examples/data\"\n",
    ")\n",
    "state_geo = f\"{url}/us-states.json\"\n",
    "\n",
    "\n",
    "\n",
    "m = folium.Map(location=[48, -102], zoom_start=3)\n",
    "\n",
    "folium.Choropleth(\n",
    "    geo_data = state_geo,\n",
    "    name =\"choropleth\",\n",
    "    data = df_airport_delays,\n",
    "    columns = [\"OR_STATE\", \"AVG_DELAY_BY_AIRPORT\"],\n",
    "    key_on = \"feature.id\",\n",
    "    fill_color = \"Reds\",\n",
    "    fill_opacity = 0.7,\n",
    "    line_opacity = 0.2,\n",
    "    legend_name = \"Average Delay Time\",\n",
    ").add_to(m)\n",
    "\n",
    "folium.LayerControl().add_to(m)\n",
    "\n",
    "# placing the markers of the airports\n",
    "for index, org_airports in unique.iterrows():\n",
    "    folium.Circle([org_airports[\"DES_LAT\"], org_airports[\"DES_LONG\"]], popup=org_airports[\"DES_AIRPORT\"], radius=4, color='grey').add_to(m)\n",
    "    \n",
    "\n",
    "m"
   ]
  },
  {
   "cell_type": "code",
   "execution_count": null,
   "metadata": {},
   "outputs": [],
   "source": [
    "airline_names = list(df_airport_delays['AIRLINE'])\n",
    "airport_names = list(df_airport_delays['AIRPORT'])\n",
    "airline_delay = list(df_airport_delays['AVG_DELAY_BY_AIRLINE'])"
   ]
  },
  {
   "cell_type": "code",
   "execution_count": null,
   "metadata": {},
   "outputs": [],
   "source": [
    "df_airport_delays.head()"
   ]
  },
  {
   "cell_type": "code",
   "execution_count": null,
   "metadata": {
    "scrolled": false
   },
   "outputs": [],
   "source": [
    "fig = px.bar(df_airport_delays, x=\"AIRPORT\", y='NUM_OF_FLIGHTS_BY_AIRPORT', color=\"AVG_DELAY_BY_AIRPORT\", title=\"Long-Form Input\")\n",
    "# fig.show()"
   ]
  },
  {
   "cell_type": "code",
   "execution_count": null,
   "metadata": {
    "scrolled": false
   },
   "outputs": [],
   "source": [
    "fig = px.bar(df_airport_delays, x='AIRPORT', y='NUM_OF_FLIGHTS_BY_AIRLINE_AIRPORT',\n",
    "             hover_data=['AVG_DELAY_BY_AIRLINE', 'AVG_DELAY_BY_AIRPORT'], color='AIRLINE',\n",
    "             labels={'NUM_OF_FLIGHTS_BY_AIRLINE_AIRPORT':'Number of Flights in Airport'}, height=400)\n",
    "fig.show()"
   ]
  },
  {
   "cell_type": "code",
   "execution_count": null,
   "metadata": {},
   "outputs": [],
   "source": [
    "list(df_final)"
   ]
  },
  {
   "cell_type": "code",
   "execution_count": null,
   "metadata": {},
   "outputs": [],
   "source": [
    "busiest_airports = pd.DataFrame(df_final)"
   ]
  },
  {
   "cell_type": "code",
   "execution_count": null,
   "metadata": {},
   "outputs": [],
   "source": [
    "busiest_airports = busiest_airports.sort_values(by=['OR_AIRPORT'], ascending=False)\n",
    "busiest_airports = busiest_airports.reset_index(drop=True)\n",
    "busiest_airports.head()"
   ]
  },
  {
   "cell_type": "code",
   "execution_count": null,
   "metadata": {},
   "outputs": [],
   "source": [
    "busiest_airports_count = busiest_airports.groupby(\"ORIGIN_AIRPORT\")[\"TAIL_NUMBER\"].count()"
   ]
  },
  {
   "cell_type": "code",
   "execution_count": null,
   "metadata": {},
   "outputs": [],
   "source": [
    "busiest_airports_count = pd.DataFrame(busiest_airports_count)\n",
    "calendar_delays = busiest_airports[['ORIGIN_AIRPORT', 'DESTINATION_AIRPORT' ,'MONTH_DE', 'DAY_DE', 'WEEKEND_DE', 'HOUR_DE', 'TIME_AR','TIME_DE','ARRIVAL_DELAY_v1']].copy()"
   ]
  },
  {
   "cell_type": "code",
   "execution_count": null,
   "metadata": {},
   "outputs": [],
   "source": [
    "busiest_airports_count.head()"
   ]
  },
  {
   "cell_type": "code",
   "execution_count": null,
   "metadata": {},
   "outputs": [],
   "source": [
    "calendar_ar_delays = calendar_delays.groupby([\"MONTH_DE\", \"DAY_DE\"], as_index=False).mean()\n",
    "calendar_ar_delays.head()"
   ]
  },
  {
   "cell_type": "code",
   "execution_count": null,
   "metadata": {},
   "outputs": [],
   "source": [
    "count_calendar = calendar_delays.groupby([\"MONTH_DE\", \"DAY_DE\"]).size().reset_index(name=\"DATE_FLIGHT_COUNT\")\n",
    "count_calendar.head()"
   ]
  },
  {
   "cell_type": "code",
   "execution_count": null,
   "metadata": {},
   "outputs": [],
   "source": [
    "count_calendar['DATE_AVG_AR_DELAY'] = calendar_delays['ARRIVAL_DELAY_v1']"
   ]
  },
  {
   "cell_type": "code",
   "execution_count": null,
   "metadata": {},
   "outputs": [],
   "source": [
    "count_calendar.head()"
   ]
  },
  {
   "cell_type": "code",
   "execution_count": null,
   "metadata": {},
   "outputs": [],
   "source": [
    "count_calendar['DATE_AVG_AR_DELAY'].min()"
   ]
  },
  {
   "cell_type": "code",
   "execution_count": null,
   "metadata": {},
   "outputs": [],
   "source": [
    "count_calendar.loc[count_calendar['DATE_AVG_AR_DELAY'] <= -15 , 'DUMMY_DELAY'] = -1\n",
    "count_calendar.loc[(count_calendar['DATE_AVG_AR_DELAY'] > -15) & (count_calendar['DATE_AVG_AR_DELAY'] < 0) , 'DUMMY_DELAY'] = -0.5\n",
    "count_calendar.loc[count_calendar['DATE_AVG_AR_DELAY'] == 0 , 'DUMMY_DELAY'] = 0\n",
    "count_calendar.loc[(count_calendar['DATE_AVG_AR_DELAY'] > 0) & (count_calendar['DATE_AVG_AR_DELAY'] <= 15), 'DUMMY_DELAY'] = 0.5\n",
    "count_calendar.loc[(count_calendar['DATE_AVG_AR_DELAY'] > 15) & (count_calendar['DATE_AVG_AR_DELAY'] <= 30) , 'DUMMY_DELAY'] = 1\n",
    "count_calendar.loc[(count_calendar['DATE_AVG_AR_DELAY'] > 30) & (count_calendar['DATE_AVG_AR_DELAY'] <= 45) , 'DUMMY_DELAY'] = 1.5\n",
    "count_calendar.loc[count_calendar['DATE_AVG_AR_DELAY'] > 45 , 'DUMMY_DELAY'] = 2"
   ]
  },
  {
   "cell_type": "code",
   "execution_count": null,
   "metadata": {},
   "outputs": [],
   "source": [
    "count_calendar['MONTH_DE'].replace({3: \"March\", 4: \"April\", 5: \"May\", 6: \"June\", 7: \"July\"}, inplace=True)"
   ]
  },
  {
   "cell_type": "code",
   "execution_count": null,
   "metadata": {},
   "outputs": [],
   "source": [
    "count_calendar = count_calendar[::-1]\n",
    "count_calendar.head()"
   ]
  },
  {
   "cell_type": "code",
   "execution_count": null,
   "metadata": {},
   "outputs": [],
   "source": [
    "\n",
    "fig = go.Figure(data=go.Heatmap(\n",
    "        z=count_calendar['DUMMY_DELAY'],\n",
    "        y=count_calendar['MONTH_DE'],\n",
    "        x=count_calendar['DAY_DE'],\n",
    "        colorscale='balance'))\n",
    "\n",
    "fig.update_layout(\n",
    "    title='Average Delay by Date',\n",
    "    xaxis_nticks=60,\n",
    "    yaxis_nticks=8)\n",
    "\n",
    "fig.show()"
   ]
  },
  {
   "cell_type": "code",
   "execution_count": null,
   "metadata": {},
   "outputs": [],
   "source": [
    "calendar_delays.head()"
   ]
  },
  {
   "cell_type": "code",
   "execution_count": null,
   "metadata": {},
   "outputs": [],
   "source": [
    "time_ar_delays = calendar_delays.groupby([\"HOUR_DE\"], as_index=False).mean()\n",
    "time_ar_count = calendar_delays.groupby([\"HOUR_DE\"], as_index=False).size()"
   ]
  },
  {
   "cell_type": "code",
   "execution_count": null,
   "metadata": {},
   "outputs": [],
   "source": [
    "time_ar_delays['FLIGHT_COUNT'] = time_ar_count['size']\n",
    "time_ar_delays['ANGLE'] = time_ar_count[\"HOUR_DE\"] * 15"
   ]
  },
  {
   "cell_type": "code",
   "execution_count": null,
   "metadata": {},
   "outputs": [],
   "source": [
    "time_ar_delays"
   ]
  },
  {
   "cell_type": "code",
   "execution_count": null,
   "metadata": {},
   "outputs": [],
   "source": [
    "fifteens = []\n",
    "times = []\n",
    "for i in range(len(time_ar_delays)):\n",
    "    fifteens.append(i*15)\n",
    "    times.append(i)"
   ]
  },
  {
   "cell_type": "code",
   "execution_count": null,
   "metadata": {},
   "outputs": [],
   "source": [
    "fig = px.bar_polar(time_ar_delays, r='FLIGHT_COUNT', theta=\"ANGLE\", color=\"ARRIVAL_DELAY_v1\",\n",
    "                   color_discrete_sequence= px.colors.sequential.RdBu,\n",
    "                   title=\"Arrival Delays Based on Flight Departure Times\"\n",
    "                  )\n",
    "\n",
    "fig.update_layout(\n",
    "    polar = dict(\n",
    "      radialaxis = dict(type = \"log\", tickangle = 45),\n",
    "      angularaxis = dict(\n",
    "            tickmode=\"array\",\n",
    "            tickvals=fifteens,\n",
    "            ticktext=times\n",
    "            )\n",
    "    ))\n",
    "\n",
    "fig.show()"
   ]
  },
  {
   "cell_type": "code",
   "execution_count": null,
   "metadata": {},
   "outputs": [],
   "source": []
  }
 ],
 "metadata": {
  "kernelspec": {
   "display_name": "Python 3 (ipykernel)",
   "language": "python",
   "name": "python3"
  },
  "language_info": {
   "codemirror_mode": {
    "name": "ipython",
    "version": 3
   },
   "file_extension": ".py",
   "mimetype": "text/x-python",
   "name": "python",
   "nbconvert_exporter": "python",
   "pygments_lexer": "ipython3",
   "version": "3.8.10"
  }
 },
 "nbformat": 4,
 "nbformat_minor": 4
}
