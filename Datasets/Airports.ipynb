{
 "cells": [
  {
   "cell_type": "code",
   "execution_count": 1,
   "id": "83f0040f",
   "metadata": {},
   "outputs": [],
   "source": [
    "import csv\n",
    "import pandas as pd"
   ]
  },
  {
   "cell_type": "code",
   "execution_count": 2,
   "id": "838be211",
   "metadata": {},
   "outputs": [],
   "source": [
    "df_airports = pd.read_csv('airports.csv')"
   ]
  },
  {
   "cell_type": "code",
   "execution_count": 3,
   "id": "a181a08e",
   "metadata": {},
   "outputs": [],
   "source": [
    "df_airlines = pd.read_csv('airlines.csv')"
   ]
  },
  {
   "cell_type": "code",
   "execution_count": 4,
   "id": "5a343a13",
   "metadata": {},
   "outputs": [],
   "source": [
    "df_hdata = pd.read_csv('historic_data.csv', low_memory=False)"
   ]
  },
  {
   "cell_type": "code",
   "execution_count": 5,
   "id": "e1030933",
   "metadata": {},
   "outputs": [],
   "source": [
    "df_airlines = pd.read_csv(\"future_data.csv\", low_memory=False)"
   ]
  },
  {
   "cell_type": "code",
   "execution_count": 6,
   "id": "9c37708f",
   "metadata": {},
   "outputs": [
    {
     "data": {
      "text/plain": [
       "<bound method NDFrame.head of          SCHEDULED_DEPARTURE DEPARTURE_TIME SCHEDULED_ARRIVAL ARRIVAL_TIME  \\\n",
       "0        2019-03-01 00:01:00       00:02:00          01:37:00     01:20:00   \n",
       "1        2019-03-01 00:01:00       00:29:00          01:33:00     01:52:00   \n",
       "2        2019-03-01 00:01:00            NaN          01:53:00          NaN   \n",
       "3        2019-03-01 00:02:00       23:59:00          03:04:00     02:56:00   \n",
       "4        2019-03-01 00:02:00       00:36:00          03:22:00     03:30:00   \n",
       "...                      ...            ...               ...          ...   \n",
       "2458623  2019-07-31 23:59:00       23:54:00          05:39:00     05:22:00   \n",
       "2458624  2019-07-31 23:59:00       00:50:00          05:55:00     06:42:00   \n",
       "2458625  2019-07-31 23:59:00       00:49:00          06:00:00     07:03:00   \n",
       "2458626  2019-07-31 23:59:00       01:23:00          03:47:00     04:59:00   \n",
       "2458627  2019-07-31 23:59:00       00:13:00          08:30:00     09:03:00   \n",
       "\n",
       "        AIRLINE  FLIGHT_NUMBER TAIL_NUMBER ORIGIN_AIRPORT DESTINATION_AIRPORT  \\\n",
       "0            UA           1238      N812UA            DEN                 BIL   \n",
       "1            EV           6134      N14171            ORD                 BNA   \n",
       "2            EV           4682      N15910            ORD                 BHM   \n",
       "3            UA           1550      N822UA            ORD                 BTV   \n",
       "4            UA           1502      N33262            ORD                 BOS   \n",
       "...         ...            ...         ...            ...                 ...   \n",
       "2458623      AA           1496      N3MJAA            LAS                 ORD   \n",
       "2458624      AA           1283      N3GEAA            SEA                 ORD   \n",
       "2458625      AA            219      N3LKAA            LAX                 ORD   \n",
       "2458626      B6           1503      N592JB            JFK                 SJU   \n",
       "2458627      B6            276      N712JB            OAK                 BOS   \n",
       "\n",
       "         DEPARTURE_DELAY  ...  DISTANCE  WHEELS_ON  TAXI_IN  CANCELLED  \\\n",
       "0                    1.0  ...       455      117.0      3.0          0   \n",
       "1                   28.0  ...       409      144.0      8.0          0   \n",
       "2                    NaN  ...       584        NaN      NaN          1   \n",
       "3                   -3.0  ...       763      252.0      4.0          0   \n",
       "4                   34.0  ...       867      326.0      4.0          0   \n",
       "...                  ...  ...       ...        ...      ...        ...   \n",
       "2458623             -5.0  ...      1514      518.0      4.0          0   \n",
       "2458624             51.0  ...      1721      625.0     17.0          0   \n",
       "2458625             50.0  ...      1744      647.0     16.0          0   \n",
       "2458626             84.0  ...      1598      455.0      4.0          0   \n",
       "2458627             14.0  ...      2694      855.0      8.0          0   \n",
       "\n",
       "         CANCELLATION_REASON  AIR_SYSTEM_DELAY  SECURITY_DELAY  AIRLINE_DELAY  \\\n",
       "0                        NaN               NaN             NaN            NaN   \n",
       "1                        NaN               0.0             0.0           19.0   \n",
       "2                          B               NaN             NaN            NaN   \n",
       "3                        NaN               NaN             NaN            NaN   \n",
       "4                        NaN               NaN             NaN            NaN   \n",
       "...                      ...               ...             ...            ...   \n",
       "2458623                  NaN               NaN             NaN            NaN   \n",
       "2458624                  NaN               0.0             0.0           47.0   \n",
       "2458625                  NaN              13.0             0.0           50.0   \n",
       "2458626                  NaN               0.0             0.0            0.0   \n",
       "2458627                  NaN              19.0             0.0            0.0   \n",
       "\n",
       "         LATE_AIRCRAFT_DELAY WEATHER_DELAY  \n",
       "0                        NaN           NaN  \n",
       "1                        0.0           0.0  \n",
       "2                        NaN           NaN  \n",
       "3                        NaN           NaN  \n",
       "4                        NaN           NaN  \n",
       "...                      ...           ...  \n",
       "2458623                  NaN           NaN  \n",
       "2458624                  0.0           0.0  \n",
       "2458625                  0.0           0.0  \n",
       "2458626                 69.0           3.0  \n",
       "2458627                 14.0           0.0  \n",
       "\n",
       "[2458628 rows x 25 columns]>"
      ]
     },
     "execution_count": 6,
     "metadata": {},
     "output_type": "execute_result"
    }
   ],
   "source": [
    "df_hdata.head\n",
    "#df_hdata.sample(3)\n",
    "#df_hdata.info()\n",
    "#df_hdata.describe()\n",
    "#df_hdata.keys\n",
    "#df_hdata.tail\n",
    "#df_hdata['DEPARTURE_DELAY']\n",
    "#df_hdata['DEPARTURE_DELAY'].describe()\n",
    "#df_hdata['DEPARTURE_DELAY'].value_counts()\n",
    "#departuredelay = df_hdata['DEPARTURE_DELAY'].values\n",
    "#len(departuredelay)\n",
    "#display(departuredelay)\n",
    "#df_hdata['DEPARTURE_DELAY'].hist()\n",
    "#df_hdata.plot.scatter(x='AIRLINE', y='DEPARTURE_DELAY')\n",
    "#df_hdata['DEPARTURE_DELAY'].hist(by = df_hdata['AIRLINE'],\n",
    " #                     bins = 20);\n",
    "#pd.crosstab(df_hdata['ORIGIN_AIRPORT'], df_hdata['AIRLINE'])\n",
    "#pd.crosstab(df_hdata['ORIGIN_AIRPORT'], df_hdata['AIRLINE'],normalize='index')"
   ]
  },
  {
   "cell_type": "code",
   "execution_count": 7,
   "id": "fa3b638e",
   "metadata": {},
   "outputs": [
    {
     "data": {
      "text/plain": [
       "0    2019-03-01 00:01:00\n",
       "1    2019-03-01 00:01:00\n",
       "2    2019-03-01 00:01:00\n",
       "3    2019-03-01 00:02:00\n",
       "4    2019-03-01 00:02:00\n",
       "Name: SCHEDULED_DEPARTURE, dtype: object"
      ]
     },
     "execution_count": 7,
     "metadata": {},
     "output_type": "execute_result"
    }
   ],
   "source": [
    "df_hdata['SCHEDULED_DEPARTURE'].head()"
   ]
  },
  {
   "cell_type": "code",
   "execution_count": 8,
   "id": "899599e9",
   "metadata": {},
   "outputs": [],
   "source": [
    "df_hdata['DATE_TIME'] = pd.to_datetime(df_hdata['SCHEDULED_DEPARTURE'], \n",
    "                            format='%Y-%m-%d', \n",
    "                            errors='coerce')"
   ]
  },
  {
   "cell_type": "code",
   "execution_count": 9,
   "id": "d02ea2f8",
   "metadata": {},
   "outputs": [
    {
     "data": {
      "text/plain": [
       "0   2019-03-01 00:01:00\n",
       "1   2019-03-01 00:01:00\n",
       "2   2019-03-01 00:01:00\n",
       "3   2019-03-01 00:02:00\n",
       "4   2019-03-01 00:02:00\n",
       "Name: DATE_TIME, dtype: datetime64[ns]"
      ]
     },
     "execution_count": 9,
     "metadata": {},
     "output_type": "execute_result"
    }
   ],
   "source": [
    "df_hdata['DATE_TIME'].head()"
   ]
  },
  {
   "cell_type": "code",
   "execution_count": 10,
   "id": "6912f912",
   "metadata": {},
   "outputs": [],
   "source": [
    "df_hdata['DATE'] = df_hdata['DATE_TIME'].dt.date\n",
    "df_hdata['TIME'] = df_hdata['DATE_TIME'].dt.time"
   ]
  },
  {
   "cell_type": "code",
   "execution_count": 11,
   "id": "0a94e5db",
   "metadata": {},
   "outputs": [
    {
     "data": {
      "text/html": [
       "<div>\n",
       "<style scoped>\n",
       "    .dataframe tbody tr th:only-of-type {\n",
       "        vertical-align: middle;\n",
       "    }\n",
       "\n",
       "    .dataframe tbody tr th {\n",
       "        vertical-align: top;\n",
       "    }\n",
       "\n",
       "    .dataframe thead th {\n",
       "        text-align: right;\n",
       "    }\n",
       "</style>\n",
       "<table border=\"1\" class=\"dataframe\">\n",
       "  <thead>\n",
       "    <tr style=\"text-align: right;\">\n",
       "      <th></th>\n",
       "      <th>SCHEDULED_DEPARTURE</th>\n",
       "      <th>DEPARTURE_TIME</th>\n",
       "      <th>SCHEDULED_ARRIVAL</th>\n",
       "      <th>ARRIVAL_TIME</th>\n",
       "      <th>AIRLINE</th>\n",
       "      <th>FLIGHT_NUMBER</th>\n",
       "      <th>TAIL_NUMBER</th>\n",
       "      <th>ORIGIN_AIRPORT</th>\n",
       "      <th>DESTINATION_AIRPORT</th>\n",
       "      <th>DEPARTURE_DELAY</th>\n",
       "      <th>...</th>\n",
       "      <th>CANCELLED</th>\n",
       "      <th>CANCELLATION_REASON</th>\n",
       "      <th>AIR_SYSTEM_DELAY</th>\n",
       "      <th>SECURITY_DELAY</th>\n",
       "      <th>AIRLINE_DELAY</th>\n",
       "      <th>LATE_AIRCRAFT_DELAY</th>\n",
       "      <th>WEATHER_DELAY</th>\n",
       "      <th>DATE_TIME</th>\n",
       "      <th>DATE</th>\n",
       "      <th>TIME</th>\n",
       "    </tr>\n",
       "  </thead>\n",
       "  <tbody>\n",
       "    <tr>\n",
       "      <th>827890</th>\n",
       "      <td>2019-04-23 18:05:00</td>\n",
       "      <td>18:03:00</td>\n",
       "      <td>22:55:00</td>\n",
       "      <td>22:50:00</td>\n",
       "      <td>WN</td>\n",
       "      <td>534</td>\n",
       "      <td>N602SW</td>\n",
       "      <td>LAX</td>\n",
       "      <td>DAL</td>\n",
       "      <td>-2.0</td>\n",
       "      <td>...</td>\n",
       "      <td>0</td>\n",
       "      <td>NaN</td>\n",
       "      <td>NaN</td>\n",
       "      <td>NaN</td>\n",
       "      <td>NaN</td>\n",
       "      <td>NaN</td>\n",
       "      <td>NaN</td>\n",
       "      <td>2019-04-23 18:05:00</td>\n",
       "      <td>2019-04-23</td>\n",
       "      <td>18:05:00</td>\n",
       "    </tr>\n",
       "  </tbody>\n",
       "</table>\n",
       "<p>1 rows × 28 columns</p>\n",
       "</div>"
      ],
      "text/plain": [
       "        SCHEDULED_DEPARTURE DEPARTURE_TIME SCHEDULED_ARRIVAL ARRIVAL_TIME  \\\n",
       "827890  2019-04-23 18:05:00       18:03:00          22:55:00     22:50:00   \n",
       "\n",
       "       AIRLINE  FLIGHT_NUMBER TAIL_NUMBER ORIGIN_AIRPORT DESTINATION_AIRPORT  \\\n",
       "827890      WN            534      N602SW            LAX                 DAL   \n",
       "\n",
       "        DEPARTURE_DELAY  ...  CANCELLED  CANCELLATION_REASON  \\\n",
       "827890             -2.0  ...          0                  NaN   \n",
       "\n",
       "        AIR_SYSTEM_DELAY  SECURITY_DELAY  AIRLINE_DELAY  LATE_AIRCRAFT_DELAY  \\\n",
       "827890               NaN             NaN            NaN                  NaN   \n",
       "\n",
       "        WEATHER_DELAY           DATE_TIME        DATE      TIME  \n",
       "827890            NaN 2019-04-23 18:05:00  2019-04-23  18:05:00  \n",
       "\n",
       "[1 rows x 28 columns]"
      ]
     },
     "execution_count": 11,
     "metadata": {},
     "output_type": "execute_result"
    }
   ],
   "source": [
    "df_hdata.sample()"
   ]
  },
  {
   "cell_type": "code",
   "execution_count": 12,
   "id": "1891db36",
   "metadata": {},
   "outputs": [],
   "source": [
    "#df_hdata['DATE'].value_counts()\n",
    "#df_hdata['DATE'].value_counts().sort_index(ascending = False).plot(kind='barh')\n",
    "#y_vars = [df_hdata['ORIGIN_AIRPORT'], df_hdata['AIRLINE']]\n",
    "#  x_vars = df_hdata['DATE']\n",
    "#  pd.crosstab(y_vars, x_vars)\n",
    "#pd.crosstab(y_vars, x_vars).index.names"
   ]
  },
  {
   "cell_type": "code",
   "execution_count": 14,
   "id": "0dc60100",
   "metadata": {},
   "outputs": [
    {
     "data": {
      "text/plain": [
       "SCHEDULED_DEPARTURE    2458628\n",
       "DEPARTURE_TIME         2427857\n",
       "SCHEDULED_ARRIVAL      2458628\n",
       "ARRIVAL_TIME           2424831\n",
       "AIRLINE                2458628\n",
       "FLIGHT_NUMBER          2458628\n",
       "TAIL_NUMBER            2454071\n",
       "ORIGIN_AIRPORT         2458628\n",
       "DESTINATION_AIRPORT    2458628\n",
       "DEPARTURE_DELAY        2427857\n",
       "TAXI_OUT               2426448\n",
       "WHEELS_OFF             2426448\n",
       "SCHEDULED_TIME         2458626\n",
       "ELAPSED_TIME           2418528\n",
       "AIR_TIME               2418528\n",
       "DISTANCE               2458628\n",
       "WHEELS_ON              2424831\n",
       "TAXI_IN                2424831\n",
       "CANCELLED              2458628\n",
       "CANCELLATION_REASON      32528\n",
       "AIR_SYSTEM_DELAY        466843\n",
       "SECURITY_DELAY          466843\n",
       "AIRLINE_DELAY           466843\n",
       "LATE_AIRCRAFT_DELAY     466843\n",
       "WEATHER_DELAY           466843\n",
       "DATE_TIME              2458628\n",
       "DATE                   2458628\n",
       "TIME                   2458628\n",
       "dtype: int64"
      ]
     },
     "execution_count": 14,
     "metadata": {},
     "output_type": "execute_result"
    }
   ],
   "source": [
    "df_hdata.count()"
   ]
  },
  {
   "cell_type": "code",
   "execution_count": 15,
   "id": "df2c7c9b",
   "metadata": {},
   "outputs": [
    {
     "data": {
      "text/plain": [
       "SCHEDULED_DEPARTURE          0\n",
       "DEPARTURE_TIME           30771\n",
       "SCHEDULED_ARRIVAL            0\n",
       "ARRIVAL_TIME             33797\n",
       "AIRLINE                      0\n",
       "FLIGHT_NUMBER                0\n",
       "TAIL_NUMBER               4557\n",
       "ORIGIN_AIRPORT               0\n",
       "DESTINATION_AIRPORT          0\n",
       "DEPARTURE_DELAY          30771\n",
       "TAXI_OUT                 32180\n",
       "WHEELS_OFF               32180\n",
       "SCHEDULED_TIME               2\n",
       "ELAPSED_TIME             40100\n",
       "AIR_TIME                 40100\n",
       "DISTANCE                     0\n",
       "WHEELS_ON                33797\n",
       "TAXI_IN                  33797\n",
       "CANCELLED                    0\n",
       "CANCELLATION_REASON    2426100\n",
       "AIR_SYSTEM_DELAY       1991785\n",
       "SECURITY_DELAY         1991785\n",
       "AIRLINE_DELAY          1991785\n",
       "LATE_AIRCRAFT_DELAY    1991785\n",
       "WEATHER_DELAY          1991785\n",
       "DATE_TIME                    0\n",
       "DATE                         0\n",
       "TIME                         0\n",
       "dtype: int64"
      ]
     },
     "execution_count": 15,
     "metadata": {},
     "output_type": "execute_result"
    }
   ],
   "source": [
    "df_hdata.isna().sum()"
   ]
  },
  {
   "cell_type": "code",
   "execution_count": 16,
   "id": "7f163742",
   "metadata": {},
   "outputs": [
    {
     "data": {
      "text/plain": [
       "(2458628, 28)"
      ]
     },
     "execution_count": 16,
     "metadata": {},
     "output_type": "execute_result"
    }
   ],
   "source": [
    "df_hdata.shape"
   ]
  },
  {
   "cell_type": "code",
   "execution_count": 19,
   "id": "3f1fa5dc",
   "metadata": {},
   "outputs": [],
   "source": [
    "drop_data = df_hdata.dropna(thresh=0.8*len(df_hdata), axis = 1)"
   ]
  },
  {
   "cell_type": "code",
   "execution_count": 20,
   "id": "fbeff0eb",
   "metadata": {},
   "outputs": [
    {
     "data": {
      "text/plain": [
       "(2458628, 22)"
      ]
     },
     "execution_count": 20,
     "metadata": {},
     "output_type": "execute_result"
    }
   ],
   "source": [
    "drop_data.shape"
   ]
  },
  {
   "cell_type": "code",
   "execution_count": 21,
   "id": "a87d6eed",
   "metadata": {},
   "outputs": [
    {
     "data": {
      "text/plain": [
       "SCHEDULED_DEPARTURE            object\n",
       "DEPARTURE_TIME                 object\n",
       "SCHEDULED_ARRIVAL              object\n",
       "ARRIVAL_TIME                   object\n",
       "AIRLINE                        object\n",
       "FLIGHT_NUMBER                   int64\n",
       "TAIL_NUMBER                    object\n",
       "ORIGIN_AIRPORT                 object\n",
       "DESTINATION_AIRPORT            object\n",
       "DEPARTURE_DELAY               float64\n",
       "TAXI_OUT                      float64\n",
       "WHEELS_OFF                    float64\n",
       "SCHEDULED_TIME                float64\n",
       "ELAPSED_TIME                  float64\n",
       "AIR_TIME                      float64\n",
       "DISTANCE                        int64\n",
       "WHEELS_ON                     float64\n",
       "TAXI_IN                       float64\n",
       "CANCELLED                       int64\n",
       "CANCELLATION_REASON            object\n",
       "AIR_SYSTEM_DELAY              float64\n",
       "SECURITY_DELAY                float64\n",
       "AIRLINE_DELAY                 float64\n",
       "LATE_AIRCRAFT_DELAY           float64\n",
       "WEATHER_DELAY                 float64\n",
       "DATE_TIME              datetime64[ns]\n",
       "DATE                           object\n",
       "TIME                           object\n",
       "dtype: object"
      ]
     },
     "execution_count": 21,
     "metadata": {},
     "output_type": "execute_result"
    }
   ],
   "source": [
    "df_hdata.dtypes"
   ]
  },
  {
   "cell_type": "code",
   "execution_count": null,
   "id": "31deed2c",
   "metadata": {},
   "outputs": [],
   "source": []
  },
  {
   "cell_type": "code",
   "execution_count": null,
   "id": "99aa8da7",
   "metadata": {},
   "outputs": [],
   "source": []
  }
 ],
 "metadata": {
  "kernelspec": {
   "display_name": "Python 3 (ipykernel)",
   "language": "python",
   "name": "python3"
  },
  "language_info": {
   "codemirror_mode": {
    "name": "ipython",
    "version": 3
   },
   "file_extension": ".py",
   "mimetype": "text/x-python",
   "name": "python",
   "nbconvert_exporter": "python",
   "pygments_lexer": "ipython3",
   "version": "3.8.10"
  }
 },
 "nbformat": 4,
 "nbformat_minor": 5
}
