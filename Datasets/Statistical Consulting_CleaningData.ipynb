{
 "cells": [
  {
   "cell_type": "code",
   "execution_count": 1,
   "id": "83f0040f",
   "metadata": {},
   "outputs": [],
   "source": [
    "import csv\n",
    "import pandas as pd\n",
    "from sklearn.model_selection import train_test_split\n",
    "from sklearn.ensemble import RandomForestRegressor"
   ]
  },
  {
   "cell_type": "code",
   "execution_count": 2,
   "id": "838be211",
   "metadata": {},
   "outputs": [],
   "source": [
    "df_airports = pd.read_csv('airports.csv')"
   ]
  },
  {
   "cell_type": "code",
   "execution_count": 3,
   "id": "a181a08e",
   "metadata": {},
   "outputs": [],
   "source": [
    "df_airlines = pd.read_csv('airlines.csv')"
   ]
  },
  {
   "cell_type": "code",
   "execution_count": 32,
   "id": "5a343a13",
   "metadata": {},
   "outputs": [],
   "source": [
    "df_hdata = pd.read_csv('historic_data.csv', low_memory=False)"
   ]
  },
  {
   "cell_type": "code",
   "execution_count": 34,
   "id": "4a0434ae",
   "metadata": {},
   "outputs": [
    {
     "name": "stdout",
     "output_type": "stream",
     "text": [
      "<class 'pandas.core.frame.DataFrame'>\n",
      "RangeIndex: 2458628 entries, 0 to 2458627\n",
      "Data columns (total 25 columns):\n",
      " #   Column               Dtype  \n",
      "---  ------               -----  \n",
      " 0   SCHEDULED_DEPARTURE  object \n",
      " 1   DEPARTURE_TIME       object \n",
      " 2   SCHEDULED_ARRIVAL    object \n",
      " 3   ARRIVAL_TIME         object \n",
      " 4   AIRLINE              object \n",
      " 5   FLIGHT_NUMBER        int64  \n",
      " 6   TAIL_NUMBER          object \n",
      " 7   ORIGIN_AIRPORT       object \n",
      " 8   DESTINATION_AIRPORT  object \n",
      " 9   DEPARTURE_DELAY      float64\n",
      " 10  TAXI_OUT             float64\n",
      " 11  WHEELS_OFF           float64\n",
      " 12  SCHEDULED_TIME       float64\n",
      " 13  ELAPSED_TIME         float64\n",
      " 14  AIR_TIME             float64\n",
      " 15  DISTANCE             int64  \n",
      " 16  WHEELS_ON            float64\n",
      " 17  TAXI_IN              float64\n",
      " 18  CANCELLED            int64  \n",
      " 19  CANCELLATION_REASON  object \n",
      " 20  AIR_SYSTEM_DELAY     float64\n",
      " 21  SECURITY_DELAY       float64\n",
      " 22  AIRLINE_DELAY        float64\n",
      " 23  LATE_AIRCRAFT_DELAY  float64\n",
      " 24  WEATHER_DELAY        float64\n",
      "dtypes: float64(13), int64(3), object(9)\n",
      "memory usage: 468.9+ MB\n"
     ]
    }
   ],
   "source": [
    "df_hdata.info()"
   ]
  },
  {
   "cell_type": "code",
   "execution_count": 5,
   "id": "e1030933",
   "metadata": {},
   "outputs": [],
   "source": [
    "df_validate = pd.read_csv(\"future_data.csv\", low_memory=False)"
   ]
  },
  {
   "cell_type": "code",
   "execution_count": 31,
   "id": "61de7160",
   "metadata": {},
   "outputs": [
    {
     "ename": "TypeError",
     "evalue": "dtype datetime64[ns] cannot be converted to timedelta64[ns]",
     "output_type": "error",
     "traceback": [
      "\u001b[0;31m---------------------------------------------------------------------------\u001b[0m",
      "\u001b[0;31mTypeError\u001b[0m                                 Traceback (most recent call last)",
      "Input \u001b[0;32mIn [31]\u001b[0m, in \u001b[0;36m<cell line: 1>\u001b[0;34m()\u001b[0m\n\u001b[0;32m----> 1\u001b[0m df_hdata[\u001b[38;5;124m'\u001b[39m\u001b[38;5;124mSCHEDULED_DEPARTURE\u001b[39m\u001b[38;5;124m'\u001b[39m] \u001b[38;5;241m=\u001b[39m \u001b[43mpd\u001b[49m\u001b[38;5;241;43m.\u001b[39;49m\u001b[43mto_timedelta\u001b[49m\u001b[43m(\u001b[49m\u001b[43mdf_hdata\u001b[49m\u001b[43m[\u001b[49m\u001b[38;5;124;43m'\u001b[39;49m\u001b[38;5;124;43mSCHEDULED_DEPARTURE\u001b[39;49m\u001b[38;5;124;43m'\u001b[39;49m\u001b[43m]\u001b[49m\u001b[43m,\u001b[49m\u001b[43m \u001b[49m\n\u001b[1;32m      2\u001b[0m \u001b[43m                            \u001b[49m\n\u001b[1;32m      3\u001b[0m \u001b[43m                            \u001b[49m\u001b[43merrors\u001b[49m\u001b[38;5;241;43m=\u001b[39;49m\u001b[38;5;124;43m'\u001b[39;49m\u001b[38;5;124;43mcoerce\u001b[39;49m\u001b[38;5;124;43m'\u001b[39;49m\u001b[43m)\u001b[49m\n\u001b[1;32m      4\u001b[0m df_hdata[\u001b[38;5;124m'\u001b[39m\u001b[38;5;124mDEPARTURE_TIME\u001b[39m\u001b[38;5;124m'\u001b[39m] \u001b[38;5;241m=\u001b[39m pd\u001b[38;5;241m.\u001b[39mto_timedelta(df_hdata[\u001b[38;5;124m'\u001b[39m\u001b[38;5;124mDEPARTURE_TIME\u001b[39m\u001b[38;5;124m'\u001b[39m], \n\u001b[1;32m      5\u001b[0m                             errors\u001b[38;5;241m=\u001b[39m\u001b[38;5;124m'\u001b[39m\u001b[38;5;124mcoerce\u001b[39m\u001b[38;5;124m'\u001b[39m)\n\u001b[1;32m      6\u001b[0m df_hdata[\u001b[38;5;124m'\u001b[39m\u001b[38;5;124mSCHEDULED_ARRIVAL\u001b[39m\u001b[38;5;124m'\u001b[39m] \u001b[38;5;241m=\u001b[39m pd\u001b[38;5;241m.\u001b[39mto_timedelta(df_hdata[\u001b[38;5;124m'\u001b[39m\u001b[38;5;124mSCHEDULED_ARRIVAL\u001b[39m\u001b[38;5;124m'\u001b[39m], \n\u001b[1;32m      7\u001b[0m                             errors\u001b[38;5;241m=\u001b[39m\u001b[38;5;124m'\u001b[39m\u001b[38;5;124mcoerce\u001b[39m\u001b[38;5;124m'\u001b[39m)\n",
      "File \u001b[0;32m~/venv1/lib/python3.8/site-packages/pandas/core/tools/timedeltas.py:130\u001b[0m, in \u001b[0;36mto_timedelta\u001b[0;34m(arg, unit, errors)\u001b[0m\n\u001b[1;32m    128\u001b[0m     \u001b[38;5;28;01mreturn\u001b[39;00m arg\n\u001b[1;32m    129\u001b[0m \u001b[38;5;28;01melif\u001b[39;00m \u001b[38;5;28misinstance\u001b[39m(arg, ABCSeries):\n\u001b[0;32m--> 130\u001b[0m     values \u001b[38;5;241m=\u001b[39m \u001b[43m_convert_listlike\u001b[49m\u001b[43m(\u001b[49m\u001b[43marg\u001b[49m\u001b[38;5;241;43m.\u001b[39;49m\u001b[43m_values\u001b[49m\u001b[43m,\u001b[49m\u001b[43m \u001b[49m\u001b[43munit\u001b[49m\u001b[38;5;241;43m=\u001b[39;49m\u001b[43munit\u001b[49m\u001b[43m,\u001b[49m\u001b[43m \u001b[49m\u001b[43merrors\u001b[49m\u001b[38;5;241;43m=\u001b[39;49m\u001b[43merrors\u001b[49m\u001b[43m)\u001b[49m\n\u001b[1;32m    131\u001b[0m     \u001b[38;5;28;01mreturn\u001b[39;00m arg\u001b[38;5;241m.\u001b[39m_constructor(values, index\u001b[38;5;241m=\u001b[39marg\u001b[38;5;241m.\u001b[39mindex, name\u001b[38;5;241m=\u001b[39marg\u001b[38;5;241m.\u001b[39mname)\n\u001b[1;32m    132\u001b[0m \u001b[38;5;28;01melif\u001b[39;00m \u001b[38;5;28misinstance\u001b[39m(arg, ABCIndex):\n",
      "File \u001b[0;32m~/venv1/lib/python3.8/site-packages/pandas/core/tools/timedeltas.py:179\u001b[0m, in \u001b[0;36m_convert_listlike\u001b[0;34m(arg, unit, errors, name)\u001b[0m\n\u001b[1;32m    176\u001b[0m     arg \u001b[38;5;241m=\u001b[39m np\u001b[38;5;241m.\u001b[39marray(\u001b[38;5;28mlist\u001b[39m(arg), dtype\u001b[38;5;241m=\u001b[39m\u001b[38;5;28mobject\u001b[39m)\n\u001b[1;32m    178\u001b[0m \u001b[38;5;28;01mtry\u001b[39;00m:\n\u001b[0;32m--> 179\u001b[0m     td64arr \u001b[38;5;241m=\u001b[39m \u001b[43msequence_to_td64ns\u001b[49m\u001b[43m(\u001b[49m\u001b[43marg\u001b[49m\u001b[43m,\u001b[49m\u001b[43m \u001b[49m\u001b[43munit\u001b[49m\u001b[38;5;241;43m=\u001b[39;49m\u001b[43munit\u001b[49m\u001b[43m,\u001b[49m\u001b[43m \u001b[49m\u001b[43merrors\u001b[49m\u001b[38;5;241;43m=\u001b[39;49m\u001b[43merrors\u001b[49m\u001b[43m,\u001b[49m\u001b[43m \u001b[49m\u001b[43mcopy\u001b[49m\u001b[38;5;241;43m=\u001b[39;49m\u001b[38;5;28;43;01mFalse\u001b[39;49;00m\u001b[43m)\u001b[49m[\u001b[38;5;241m0\u001b[39m]\n\u001b[1;32m    180\u001b[0m \u001b[38;5;28;01mexcept\u001b[39;00m \u001b[38;5;167;01mValueError\u001b[39;00m:\n\u001b[1;32m    181\u001b[0m     \u001b[38;5;28;01mif\u001b[39;00m errors \u001b[38;5;241m==\u001b[39m \u001b[38;5;124m\"\u001b[39m\u001b[38;5;124mignore\u001b[39m\u001b[38;5;124m\"\u001b[39m:\n",
      "File \u001b[0;32m~/venv1/lib/python3.8/site-packages/pandas/core/arrays/timedeltas.py:1030\u001b[0m, in \u001b[0;36msequence_to_td64ns\u001b[0;34m(data, copy, unit, errors)\u001b[0m\n\u001b[1;32m   1026\u001b[0m         copy \u001b[38;5;241m=\u001b[39m \u001b[38;5;28;01mFalse\u001b[39;00m\n\u001b[1;32m   1028\u001b[0m \u001b[38;5;28;01melse\u001b[39;00m:\n\u001b[1;32m   1029\u001b[0m     \u001b[38;5;66;03m# This includes datetime64-dtype, see GH#23539, GH#29794\u001b[39;00m\n\u001b[0;32m-> 1030\u001b[0m     \u001b[38;5;28;01mraise\u001b[39;00m \u001b[38;5;167;01mTypeError\u001b[39;00m(\u001b[38;5;124mf\u001b[39m\u001b[38;5;124m\"\u001b[39m\u001b[38;5;124mdtype \u001b[39m\u001b[38;5;132;01m{\u001b[39;00mdata\u001b[38;5;241m.\u001b[39mdtype\u001b[38;5;132;01m}\u001b[39;00m\u001b[38;5;124m cannot be converted to timedelta64[ns]\u001b[39m\u001b[38;5;124m\"\u001b[39m)\n\u001b[1;32m   1032\u001b[0m data \u001b[38;5;241m=\u001b[39m np\u001b[38;5;241m.\u001b[39marray(data, copy\u001b[38;5;241m=\u001b[39mcopy)\n\u001b[1;32m   1034\u001b[0m \u001b[38;5;28;01massert\u001b[39;00m data\u001b[38;5;241m.\u001b[39mdtype \u001b[38;5;241m==\u001b[39m \u001b[38;5;124m\"\u001b[39m\u001b[38;5;124mm8[ns]\u001b[39m\u001b[38;5;124m\"\u001b[39m, data\n",
      "\u001b[0;31mTypeError\u001b[0m: dtype datetime64[ns] cannot be converted to timedelta64[ns]"
     ]
    }
   ],
   "source": [
    "df_hdata['SCHEDULED_DEPARTURE'] = pd.to_timedelta(df_hdata['SCHEDULED_DEPARTURE'], \n",
    "                            \n",
    "                            errors='coerce')\n",
    "df_hdata['DEPARTURE_TIME'] = pd.to_timedelta(df_hdata['DEPARTURE_TIME'], \n",
    "                            errors='coerce')\n",
    "df_hdata['SCHEDULED_ARRIVAL'] = pd.to_timedelta(df_hdata['SCHEDULED_ARRIVAL'], \n",
    "                            errors='coerce')\n",
    "df_hdata['ARRIVAL_TIME'] = pd.to_timedelta(df_hdata['ARRIVAL_TIME'], \n",
    "                            errors='coerce')\n",
    "df_hdata['SCHEDULED_TIME'] = pd.to_timedelta(df_hdata['SCHEDULED_TIME'], \n",
    "                            errors='coerce')"
   ]
  },
  {
   "cell_type": "code",
   "execution_count": 7,
   "id": "9b9811c2",
   "metadata": {},
   "outputs": [],
   "source": [
    "import matplotlib.pyplot as plt"
   ]
  },
  {
   "cell_type": "code",
   "execution_count": 8,
   "id": "714cf148",
   "metadata": {},
   "outputs": [
    {
     "data": {
      "text/html": [
       "<div>\n",
       "<style scoped>\n",
       "    .dataframe tbody tr th:only-of-type {\n",
       "        vertical-align: middle;\n",
       "    }\n",
       "\n",
       "    .dataframe tbody tr th {\n",
       "        vertical-align: top;\n",
       "    }\n",
       "\n",
       "    .dataframe thead th {\n",
       "        text-align: right;\n",
       "    }\n",
       "</style>\n",
       "<table border=\"1\" class=\"dataframe\">\n",
       "  <thead>\n",
       "    <tr style=\"text-align: right;\">\n",
       "      <th></th>\n",
       "      <th>SCHEDULED_DEPARTURE</th>\n",
       "      <th>DEPARTURE_TIME</th>\n",
       "      <th>SCHEDULED_ARRIVAL</th>\n",
       "      <th>ARRIVAL_TIME</th>\n",
       "      <th>AIRLINE</th>\n",
       "      <th>FLIGHT_NUMBER</th>\n",
       "      <th>TAIL_NUMBER</th>\n",
       "      <th>ORIGIN_AIRPORT</th>\n",
       "      <th>DESTINATION_AIRPORT</th>\n",
       "      <th>DEPARTURE_DELAY</th>\n",
       "      <th>...</th>\n",
       "      <th>DISTANCE</th>\n",
       "      <th>WHEELS_ON</th>\n",
       "      <th>TAXI_IN</th>\n",
       "      <th>CANCELLED</th>\n",
       "      <th>CANCELLATION_REASON</th>\n",
       "      <th>AIR_SYSTEM_DELAY</th>\n",
       "      <th>SECURITY_DELAY</th>\n",
       "      <th>AIRLINE_DELAY</th>\n",
       "      <th>LATE_AIRCRAFT_DELAY</th>\n",
       "      <th>WEATHER_DELAY</th>\n",
       "    </tr>\n",
       "  </thead>\n",
       "  <tbody>\n",
       "    <tr>\n",
       "      <th>2</th>\n",
       "      <td>2019-03-01 00:01:00</td>\n",
       "      <td>NaT</td>\n",
       "      <td>0 days 01:53:00</td>\n",
       "      <td>NaT</td>\n",
       "      <td>EV</td>\n",
       "      <td>4682</td>\n",
       "      <td>N15910</td>\n",
       "      <td>ORD</td>\n",
       "      <td>BHM</td>\n",
       "      <td>NaN</td>\n",
       "      <td>...</td>\n",
       "      <td>584</td>\n",
       "      <td>NaN</td>\n",
       "      <td>NaN</td>\n",
       "      <td>1</td>\n",
       "      <td>B</td>\n",
       "      <td>NaN</td>\n",
       "      <td>NaN</td>\n",
       "      <td>NaN</td>\n",
       "      <td>NaN</td>\n",
       "      <td>NaN</td>\n",
       "    </tr>\n",
       "    <tr>\n",
       "      <th>24</th>\n",
       "      <td>2019-03-01 00:07:00</td>\n",
       "      <td>0 days</td>\n",
       "      <td>0 days 02:35:00</td>\n",
       "      <td>NaT</td>\n",
       "      <td>OO</td>\n",
       "      <td>6315</td>\n",
       "      <td>N745SK</td>\n",
       "      <td>DEN</td>\n",
       "      <td>ICT</td>\n",
       "      <td>-7.0</td>\n",
       "      <td>...</td>\n",
       "      <td>420</td>\n",
       "      <td>NaN</td>\n",
       "      <td>NaN</td>\n",
       "      <td>1</td>\n",
       "      <td>B</td>\n",
       "      <td>NaN</td>\n",
       "      <td>NaN</td>\n",
       "      <td>NaN</td>\n",
       "      <td>NaN</td>\n",
       "      <td>NaN</td>\n",
       "    </tr>\n",
       "    <tr>\n",
       "      <th>29</th>\n",
       "      <td>2019-03-01 00:08:00</td>\n",
       "      <td>NaT</td>\n",
       "      <td>0 days 02:39:00</td>\n",
       "      <td>NaT</td>\n",
       "      <td>OO</td>\n",
       "      <td>6378</td>\n",
       "      <td>N957SW</td>\n",
       "      <td>DEN</td>\n",
       "      <td>LBB</td>\n",
       "      <td>NaN</td>\n",
       "      <td>...</td>\n",
       "      <td>456</td>\n",
       "      <td>NaN</td>\n",
       "      <td>NaN</td>\n",
       "      <td>1</td>\n",
       "      <td>B</td>\n",
       "      <td>NaN</td>\n",
       "      <td>NaN</td>\n",
       "      <td>NaN</td>\n",
       "      <td>NaN</td>\n",
       "      <td>NaN</td>\n",
       "    </tr>\n",
       "    <tr>\n",
       "      <th>37</th>\n",
       "      <td>2019-03-01 00:11:00</td>\n",
       "      <td>NaT</td>\n",
       "      <td>0 days 02:59:00</td>\n",
       "      <td>NaT</td>\n",
       "      <td>UA</td>\n",
       "      <td>1881</td>\n",
       "      <td>NaN</td>\n",
       "      <td>ORD</td>\n",
       "      <td>IAD</td>\n",
       "      <td>NaN</td>\n",
       "      <td>...</td>\n",
       "      <td>588</td>\n",
       "      <td>NaN</td>\n",
       "      <td>NaN</td>\n",
       "      <td>1</td>\n",
       "      <td>A</td>\n",
       "      <td>NaN</td>\n",
       "      <td>NaN</td>\n",
       "      <td>NaN</td>\n",
       "      <td>NaN</td>\n",
       "      <td>NaN</td>\n",
       "    </tr>\n",
       "    <tr>\n",
       "      <th>38</th>\n",
       "      <td>2019-03-01 00:11:00</td>\n",
       "      <td>NaT</td>\n",
       "      <td>0 days 03:38:00</td>\n",
       "      <td>NaT</td>\n",
       "      <td>UA</td>\n",
       "      <td>1489</td>\n",
       "      <td>NaN</td>\n",
       "      <td>DEN</td>\n",
       "      <td>MEM</td>\n",
       "      <td>NaN</td>\n",
       "      <td>...</td>\n",
       "      <td>872</td>\n",
       "      <td>NaN</td>\n",
       "      <td>NaN</td>\n",
       "      <td>1</td>\n",
       "      <td>B</td>\n",
       "      <td>NaN</td>\n",
       "      <td>NaN</td>\n",
       "      <td>NaN</td>\n",
       "      <td>NaN</td>\n",
       "      <td>NaN</td>\n",
       "    </tr>\n",
       "    <tr>\n",
       "      <th>...</th>\n",
       "      <td>...</td>\n",
       "      <td>...</td>\n",
       "      <td>...</td>\n",
       "      <td>...</td>\n",
       "      <td>...</td>\n",
       "      <td>...</td>\n",
       "      <td>...</td>\n",
       "      <td>...</td>\n",
       "      <td>...</td>\n",
       "      <td>...</td>\n",
       "      <td>...</td>\n",
       "      <td>...</td>\n",
       "      <td>...</td>\n",
       "      <td>...</td>\n",
       "      <td>...</td>\n",
       "      <td>...</td>\n",
       "      <td>...</td>\n",
       "      <td>...</td>\n",
       "      <td>...</td>\n",
       "      <td>...</td>\n",
       "      <td>...</td>\n",
       "    </tr>\n",
       "    <tr>\n",
       "      <th>2458496</th>\n",
       "      <td>2019-07-31 22:59:00</td>\n",
       "      <td>NaT</td>\n",
       "      <td>0 days 00:25:00</td>\n",
       "      <td>NaT</td>\n",
       "      <td>B6</td>\n",
       "      <td>2002</td>\n",
       "      <td>N565JB</td>\n",
       "      <td>JFK</td>\n",
       "      <td>BUF</td>\n",
       "      <td>NaN</td>\n",
       "      <td>...</td>\n",
       "      <td>301</td>\n",
       "      <td>NaN</td>\n",
       "      <td>NaN</td>\n",
       "      <td>1</td>\n",
       "      <td>C</td>\n",
       "      <td>NaN</td>\n",
       "      <td>NaN</td>\n",
       "      <td>NaN</td>\n",
       "      <td>NaN</td>\n",
       "      <td>NaN</td>\n",
       "    </tr>\n",
       "    <tr>\n",
       "      <th>2458519</th>\n",
       "      <td>2019-07-31 23:06:00</td>\n",
       "      <td>NaT</td>\n",
       "      <td>0 days 07:40:00</td>\n",
       "      <td>NaT</td>\n",
       "      <td>B6</td>\n",
       "      <td>670</td>\n",
       "      <td>N612JB</td>\n",
       "      <td>SJC</td>\n",
       "      <td>JFK</td>\n",
       "      <td>NaN</td>\n",
       "      <td>...</td>\n",
       "      <td>2569</td>\n",
       "      <td>NaN</td>\n",
       "      <td>NaN</td>\n",
       "      <td>1</td>\n",
       "      <td>B</td>\n",
       "      <td>NaN</td>\n",
       "      <td>NaN</td>\n",
       "      <td>NaN</td>\n",
       "      <td>NaN</td>\n",
       "      <td>NaN</td>\n",
       "    </tr>\n",
       "    <tr>\n",
       "      <th>2458520</th>\n",
       "      <td>2019-07-31 23:09:00</td>\n",
       "      <td>NaT</td>\n",
       "      <td>0 days 05:00:00</td>\n",
       "      <td>NaT</td>\n",
       "      <td>B6</td>\n",
       "      <td>994</td>\n",
       "      <td>N595JB</td>\n",
       "      <td>DEN</td>\n",
       "      <td>BOS</td>\n",
       "      <td>NaN</td>\n",
       "      <td>...</td>\n",
       "      <td>1754</td>\n",
       "      <td>NaN</td>\n",
       "      <td>NaN</td>\n",
       "      <td>1</td>\n",
       "      <td>C</td>\n",
       "      <td>NaN</td>\n",
       "      <td>NaN</td>\n",
       "      <td>NaN</td>\n",
       "      <td>NaN</td>\n",
       "      <td>NaN</td>\n",
       "    </tr>\n",
       "    <tr>\n",
       "      <th>2458558</th>\n",
       "      <td>2019-07-31 23:29:00</td>\n",
       "      <td>NaT</td>\n",
       "      <td>0 days 02:16:00</td>\n",
       "      <td>NaT</td>\n",
       "      <td>B6</td>\n",
       "      <td>551</td>\n",
       "      <td>N589JB</td>\n",
       "      <td>TPA</td>\n",
       "      <td>SJU</td>\n",
       "      <td>NaN</td>\n",
       "      <td>...</td>\n",
       "      <td>1237</td>\n",
       "      <td>NaN</td>\n",
       "      <td>NaN</td>\n",
       "      <td>1</td>\n",
       "      <td>A</td>\n",
       "      <td>NaN</td>\n",
       "      <td>NaN</td>\n",
       "      <td>NaN</td>\n",
       "      <td>NaN</td>\n",
       "      <td>NaN</td>\n",
       "    </tr>\n",
       "    <tr>\n",
       "      <th>2458597</th>\n",
       "      <td>2019-07-31 23:55:00</td>\n",
       "      <td>NaT</td>\n",
       "      <td>0 days 05:45:00</td>\n",
       "      <td>NaT</td>\n",
       "      <td>NK</td>\n",
       "      <td>654</td>\n",
       "      <td>N519NK</td>\n",
       "      <td>PDX</td>\n",
       "      <td>ORD</td>\n",
       "      <td>NaN</td>\n",
       "      <td>...</td>\n",
       "      <td>1739</td>\n",
       "      <td>NaN</td>\n",
       "      <td>NaN</td>\n",
       "      <td>1</td>\n",
       "      <td>A</td>\n",
       "      <td>NaN</td>\n",
       "      <td>NaN</td>\n",
       "      <td>NaN</td>\n",
       "      <td>NaN</td>\n",
       "      <td>NaN</td>\n",
       "    </tr>\n",
       "  </tbody>\n",
       "</table>\n",
       "<p>32528 rows × 25 columns</p>\n",
       "</div>"
      ],
      "text/plain": [
       "        SCHEDULED_DEPARTURE DEPARTURE_TIME SCHEDULED_ARRIVAL ARRIVAL_TIME  \\\n",
       "2       2019-03-01 00:01:00            NaT   0 days 01:53:00          NaT   \n",
       "24      2019-03-01 00:07:00         0 days   0 days 02:35:00          NaT   \n",
       "29      2019-03-01 00:08:00            NaT   0 days 02:39:00          NaT   \n",
       "37      2019-03-01 00:11:00            NaT   0 days 02:59:00          NaT   \n",
       "38      2019-03-01 00:11:00            NaT   0 days 03:38:00          NaT   \n",
       "...                     ...            ...               ...          ...   \n",
       "2458496 2019-07-31 22:59:00            NaT   0 days 00:25:00          NaT   \n",
       "2458519 2019-07-31 23:06:00            NaT   0 days 07:40:00          NaT   \n",
       "2458520 2019-07-31 23:09:00            NaT   0 days 05:00:00          NaT   \n",
       "2458558 2019-07-31 23:29:00            NaT   0 days 02:16:00          NaT   \n",
       "2458597 2019-07-31 23:55:00            NaT   0 days 05:45:00          NaT   \n",
       "\n",
       "        AIRLINE  FLIGHT_NUMBER TAIL_NUMBER ORIGIN_AIRPORT DESTINATION_AIRPORT  \\\n",
       "2            EV           4682      N15910            ORD                 BHM   \n",
       "24           OO           6315      N745SK            DEN                 ICT   \n",
       "29           OO           6378      N957SW            DEN                 LBB   \n",
       "37           UA           1881         NaN            ORD                 IAD   \n",
       "38           UA           1489         NaN            DEN                 MEM   \n",
       "...         ...            ...         ...            ...                 ...   \n",
       "2458496      B6           2002      N565JB            JFK                 BUF   \n",
       "2458519      B6            670      N612JB            SJC                 JFK   \n",
       "2458520      B6            994      N595JB            DEN                 BOS   \n",
       "2458558      B6            551      N589JB            TPA                 SJU   \n",
       "2458597      NK            654      N519NK            PDX                 ORD   \n",
       "\n",
       "         DEPARTURE_DELAY  ...  DISTANCE  WHEELS_ON TAXI_IN  CANCELLED  \\\n",
       "2                    NaN  ...       584        NaN     NaN          1   \n",
       "24                  -7.0  ...       420        NaN     NaN          1   \n",
       "29                   NaN  ...       456        NaN     NaN          1   \n",
       "37                   NaN  ...       588        NaN     NaN          1   \n",
       "38                   NaN  ...       872        NaN     NaN          1   \n",
       "...                  ...  ...       ...        ...     ...        ...   \n",
       "2458496              NaN  ...       301        NaN     NaN          1   \n",
       "2458519              NaN  ...      2569        NaN     NaN          1   \n",
       "2458520              NaN  ...      1754        NaN     NaN          1   \n",
       "2458558              NaN  ...      1237        NaN     NaN          1   \n",
       "2458597              NaN  ...      1739        NaN     NaN          1   \n",
       "\n",
       "         CANCELLATION_REASON  AIR_SYSTEM_DELAY  SECURITY_DELAY  AIRLINE_DELAY  \\\n",
       "2                          B               NaN             NaN            NaN   \n",
       "24                         B               NaN             NaN            NaN   \n",
       "29                         B               NaN             NaN            NaN   \n",
       "37                         A               NaN             NaN            NaN   \n",
       "38                         B               NaN             NaN            NaN   \n",
       "...                      ...               ...             ...            ...   \n",
       "2458496                    C               NaN             NaN            NaN   \n",
       "2458519                    B               NaN             NaN            NaN   \n",
       "2458520                    C               NaN             NaN            NaN   \n",
       "2458558                    A               NaN             NaN            NaN   \n",
       "2458597                    A               NaN             NaN            NaN   \n",
       "\n",
       "         LATE_AIRCRAFT_DELAY WEATHER_DELAY  \n",
       "2                        NaN           NaN  \n",
       "24                       NaN           NaN  \n",
       "29                       NaN           NaN  \n",
       "37                       NaN           NaN  \n",
       "38                       NaN           NaN  \n",
       "...                      ...           ...  \n",
       "2458496                  NaN           NaN  \n",
       "2458519                  NaN           NaN  \n",
       "2458520                  NaN           NaN  \n",
       "2458558                  NaN           NaN  \n",
       "2458597                  NaN           NaN  \n",
       "\n",
       "[32528 rows x 25 columns]"
      ]
     },
     "execution_count": 8,
     "metadata": {},
     "output_type": "execute_result"
    }
   ],
   "source": [
    "df_hdata[df_hdata.CANCELLED ==1]"
   ]
  },
  {
   "cell_type": "code",
   "execution_count": 45,
   "id": "812fafb1",
   "metadata": {
    "scrolled": true
   },
   "outputs": [
    {
     "data": {
      "text/plain": [
       "AIRLINE\n",
       "WN    6508\n",
       "EV    5811\n",
       "MQ    4686\n",
       "OO    4623\n",
       "AA    4043\n",
       "dtype: int64"
      ]
     },
     "execution_count": 45,
     "metadata": {},
     "output_type": "execute_result"
    }
   ],
   "source": [
    "df_hdata[df_hdata['CANCELLED'] ==1].groupby('AIRLINE').size().nlargest(5)"
   ]
  },
  {
   "cell_type": "code",
   "execution_count": 51,
   "id": "bda5428a",
   "metadata": {},
   "outputs": [],
   "source": [
    "delay = df_hdata[df_hdata['ARRIVAL_TIME'].notnull()]"
   ]
  },
  {
   "cell_type": "code",
   "execution_count": 52,
   "id": "696e5fee",
   "metadata": {},
   "outputs": [
    {
     "data": {
      "text/plain": [
       "AIRLINE\n",
       "WN    529941\n",
       "DL    375048\n",
       "AA    314913\n",
       "OO    242845\n",
       "EV    227583\n",
       "dtype: int64"
      ]
     },
     "execution_count": 52,
     "metadata": {},
     "output_type": "execute_result"
    }
   ],
   "source": [
    "delay[delay['ARRIVAL_TIME'] > delay['SCHEDULED_TIME']].groupby('AIRLINE').size().nlargest(5)"
   ]
  },
  {
   "cell_type": "code",
   "execution_count": 29,
   "id": "df61eb86",
   "metadata": {},
   "outputs": [
    {
     "ename": "NameError",
     "evalue": "name 'count' is not defined",
     "output_type": "error",
     "traceback": [
      "\u001b[0;31m---------------------------------------------------------------------------\u001b[0m",
      "\u001b[0;31mNameError\u001b[0m                                 Traceback (most recent call last)",
      "Input \u001b[0;32mIn [29]\u001b[0m, in \u001b[0;36m<cell line: 1>\u001b[0;34m()\u001b[0m\n\u001b[0;32m----> 1\u001b[0m plt\u001b[38;5;241m.\u001b[39mbar(df_hdata[\u001b[38;5;124m'\u001b[39m\u001b[38;5;124mAIRLINE\u001b[39m\u001b[38;5;124m'\u001b[39m], \u001b[43mcount\u001b[49m(df_hdata[\u001b[38;5;124m'\u001b[39m\u001b[38;5;124mCANCELLED\u001b[39m\u001b[38;5;124m'\u001b[39m]))\n",
      "\u001b[0;31mNameError\u001b[0m: name 'count' is not defined"
     ]
    }
   ],
   "source": [
    "plt.bar(df_hdata['AIRLINE'], count(df_hdata['CANCELLED']))"
   ]
  },
  {
   "cell_type": "code",
   "execution_count": null,
   "id": "2bcce5ce",
   "metadata": {},
   "outputs": [],
   "source": []
  },
  {
   "cell_type": "code",
   "execution_count": null,
   "id": "b64669f5",
   "metadata": {},
   "outputs": [],
   "source": []
  },
  {
   "cell_type": "code",
   "execution_count": null,
   "id": "cf5112c8",
   "metadata": {},
   "outputs": [],
   "source": []
  },
  {
   "cell_type": "code",
   "execution_count": null,
   "id": "4647cd9e",
   "metadata": {},
   "outputs": [],
   "source": []
  },
  {
   "cell_type": "code",
   "execution_count": 10,
   "id": "bfef9539",
   "metadata": {},
   "outputs": [],
   "source": [
    "#dropping the rows with cancelled flights\n",
    "df_hdata=df_hdata[df_hdata.CANCELLED ==0]"
   ]
  },
  {
   "cell_type": "code",
   "execution_count": 11,
   "id": "aba1c15c",
   "metadata": {},
   "outputs": [],
   "source": [
    "df_hdata=df_hdata.drop(columns=['DEPARTURE_TIME', 'DEPARTURE_DELAY', 'CANCELLED', 'CANCELLATION_REASON', 'TAXI_OUT', 'WHEELS_OFF', 'ELAPSED_TIME', 'AIR_TIME','WHEELS_ON', 'TAXI_IN', 'AIR_SYSTEM_DELAY', 'SECURITY_DELAY', 'AIRLINE_DELAY', 'LATE_AIRCRAFT_DELAY', 'WEATHER_DELAY'])"
   ]
  },
  {
   "cell_type": "code",
   "execution_count": 12,
   "id": "9eb5ec45",
   "metadata": {},
   "outputs": [],
   "source": [
    "df_hdata=df_hdata.dropna(subset=['ARRIVAL_TIME'])"
   ]
  },
  {
   "cell_type": "code",
   "execution_count": 13,
   "id": "1210264b",
   "metadata": {
    "scrolled": true
   },
   "outputs": [
    {
     "data": {
      "text/plain": [
       "SCHEDULED_DEPARTURE    0\n",
       "SCHEDULED_ARRIVAL      0\n",
       "ARRIVAL_TIME           0\n",
       "AIRLINE                0\n",
       "FLIGHT_NUMBER          0\n",
       "TAIL_NUMBER            0\n",
       "ORIGIN_AIRPORT         0\n",
       "DESTINATION_AIRPORT    0\n",
       "SCHEDULED_TIME         0\n",
       "DISTANCE               0\n",
       "dtype: int64"
      ]
     },
     "execution_count": 13,
     "metadata": {},
     "output_type": "execute_result"
    }
   ],
   "source": [
    "df_hdata.isna().sum()"
   ]
  },
  {
   "cell_type": "code",
   "execution_count": 25,
   "id": "ab4f1842",
   "metadata": {},
   "outputs": [
    {
     "data": {
      "text/plain": [
       "pandas.core.series.Series"
      ]
     },
     "execution_count": 25,
     "metadata": {},
     "output_type": "execute_result"
    }
   ],
   "source": [
    "type(df_hdata['ARRIVAL_TIME'])"
   ]
  },
  {
   "cell_type": "code",
   "execution_count": null,
   "id": "7aba4971",
   "metadata": {},
   "outputs": [],
   "source": [
    "import datetime as dt\n",
    "data_df['Date'] = pd.to_datetime(data_df['Date'])\n",
    "data_df['Date']=data_df['Date'].map(dt.datetime.toordinal)"
   ]
  },
  {
   "cell_type": "code",
   "execution_count": 22,
   "id": "ebe55166",
   "metadata": {},
   "outputs": [
    {
     "ename": "TypeError",
     "evalue": "dtype timedelta64[ns] cannot be converted to datetime64[ns]",
     "output_type": "error",
     "traceback": [
      "\u001b[0;31m---------------------------------------------------------------------------\u001b[0m",
      "\u001b[0;31mTypeError\u001b[0m                                 Traceback (most recent call last)",
      "Input \u001b[0;32mIn [22]\u001b[0m, in \u001b[0;36m<cell line: 1>\u001b[0;34m()\u001b[0m\n\u001b[0;32m----> 1\u001b[0m df_hdata[\u001b[38;5;124m'\u001b[39m\u001b[38;5;124mARRIVAL_TIME\u001b[39m\u001b[38;5;124m'\u001b[39m] \u001b[38;5;241m=\u001b[39m \u001b[43mpd\u001b[49m\u001b[38;5;241;43m.\u001b[39;49m\u001b[43mto_datetime\u001b[49m\u001b[43m(\u001b[49m\u001b[43mdf_hdata\u001b[49m\u001b[43m[\u001b[49m\u001b[38;5;124;43m'\u001b[39;49m\u001b[38;5;124;43mARRIVAL_TIME\u001b[39;49m\u001b[38;5;124;43m'\u001b[39;49m\u001b[43m]\u001b[49m\u001b[43m)\u001b[49m \n\u001b[1;32m      2\u001b[0m df_hdata[\u001b[38;5;124m'\u001b[39m\u001b[38;5;124mSCHEDULED_ARRIVAL\u001b[39m\u001b[38;5;124m'\u001b[39m]\u001b[38;5;241m=\u001b[39m pd\u001b[38;5;241m.\u001b[39mto_datetime(df_hdata[\u001b[38;5;124m'\u001b[39m\u001b[38;5;124mSCHEDULED_ARRIVAL\u001b[39m\u001b[38;5;124m'\u001b[39m])\n",
      "File \u001b[0;32m~/venv1/lib/python3.8/site-packages/pandas/core/tools/datetimes.py:1047\u001b[0m, in \u001b[0;36mto_datetime\u001b[0;34m(arg, errors, dayfirst, yearfirst, utc, format, exact, unit, infer_datetime_format, origin, cache)\u001b[0m\n\u001b[1;32m   1045\u001b[0m             result \u001b[38;5;241m=\u001b[39m arg\u001b[38;5;241m.\u001b[39mtz_localize(tz)\n\u001b[1;32m   1046\u001b[0m \u001b[38;5;28;01melif\u001b[39;00m \u001b[38;5;28misinstance\u001b[39m(arg, ABCSeries):\n\u001b[0;32m-> 1047\u001b[0m     cache_array \u001b[38;5;241m=\u001b[39m \u001b[43m_maybe_cache\u001b[49m\u001b[43m(\u001b[49m\u001b[43marg\u001b[49m\u001b[43m,\u001b[49m\u001b[43m \u001b[49m\u001b[38;5;28;43mformat\u001b[39;49m\u001b[43m,\u001b[49m\u001b[43m \u001b[49m\u001b[43mcache\u001b[49m\u001b[43m,\u001b[49m\u001b[43m \u001b[49m\u001b[43mconvert_listlike\u001b[49m\u001b[43m)\u001b[49m\n\u001b[1;32m   1048\u001b[0m     \u001b[38;5;28;01mif\u001b[39;00m \u001b[38;5;129;01mnot\u001b[39;00m cache_array\u001b[38;5;241m.\u001b[39mempty:\n\u001b[1;32m   1049\u001b[0m         result \u001b[38;5;241m=\u001b[39m arg\u001b[38;5;241m.\u001b[39mmap(cache_array)\n",
      "File \u001b[0;32m~/venv1/lib/python3.8/site-packages/pandas/core/tools/datetimes.py:197\u001b[0m, in \u001b[0;36m_maybe_cache\u001b[0;34m(arg, format, cache, convert_listlike)\u001b[0m\n\u001b[1;32m    195\u001b[0m unique_dates \u001b[38;5;241m=\u001b[39m unique(arg)\n\u001b[1;32m    196\u001b[0m \u001b[38;5;28;01mif\u001b[39;00m \u001b[38;5;28mlen\u001b[39m(unique_dates) \u001b[38;5;241m<\u001b[39m \u001b[38;5;28mlen\u001b[39m(arg):\n\u001b[0;32m--> 197\u001b[0m     cache_dates \u001b[38;5;241m=\u001b[39m \u001b[43mconvert_listlike\u001b[49m\u001b[43m(\u001b[49m\u001b[43munique_dates\u001b[49m\u001b[43m,\u001b[49m\u001b[43m \u001b[49m\u001b[38;5;28;43mformat\u001b[39;49m\u001b[43m)\u001b[49m\n\u001b[1;32m    198\u001b[0m     cache_array \u001b[38;5;241m=\u001b[39m Series(cache_dates, index\u001b[38;5;241m=\u001b[39munique_dates)\n\u001b[1;32m    199\u001b[0m     \u001b[38;5;66;03m# GH#39882 and GH#35888 in case of None and NaT we get duplicates\u001b[39;00m\n",
      "File \u001b[0;32m~/venv1/lib/python3.8/site-packages/pandas/core/tools/datetimes.py:367\u001b[0m, in \u001b[0;36m_convert_listlike_datetimes\u001b[0;34m(arg, format, name, tz, unit, errors, infer_datetime_format, dayfirst, yearfirst, exact)\u001b[0m\n\u001b[1;32m    365\u001b[0m orig_arg \u001b[38;5;241m=\u001b[39m arg\n\u001b[1;32m    366\u001b[0m \u001b[38;5;28;01mtry\u001b[39;00m:\n\u001b[0;32m--> 367\u001b[0m     arg, _ \u001b[38;5;241m=\u001b[39m \u001b[43mmaybe_convert_dtype\u001b[49m\u001b[43m(\u001b[49m\u001b[43marg\u001b[49m\u001b[43m,\u001b[49m\u001b[43m \u001b[49m\u001b[43mcopy\u001b[49m\u001b[38;5;241;43m=\u001b[39;49m\u001b[38;5;28;43;01mFalse\u001b[39;49;00m\u001b[43m)\u001b[49m\n\u001b[1;32m    368\u001b[0m \u001b[38;5;28;01mexcept\u001b[39;00m \u001b[38;5;167;01mTypeError\u001b[39;00m:\n\u001b[1;32m    369\u001b[0m     \u001b[38;5;28;01mif\u001b[39;00m errors \u001b[38;5;241m==\u001b[39m \u001b[38;5;124m\"\u001b[39m\u001b[38;5;124mcoerce\u001b[39m\u001b[38;5;124m\"\u001b[39m:\n",
      "File \u001b[0;32m~/venv1/lib/python3.8/site-packages/pandas/core/arrays/datetimes.py:2276\u001b[0m, in \u001b[0;36mmaybe_convert_dtype\u001b[0;34m(data, copy)\u001b[0m\n\u001b[1;32m   2271\u001b[0m     \u001b[38;5;66;03m# TODO: deprecate this behavior to instead treat symmetrically\u001b[39;00m\n\u001b[1;32m   2272\u001b[0m     \u001b[38;5;66;03m#  with integer dtypes.  See discussion in GH#23675\u001b[39;00m\n\u001b[1;32m   2274\u001b[0m \u001b[38;5;28;01melif\u001b[39;00m is_timedelta64_dtype(data\u001b[38;5;241m.\u001b[39mdtype) \u001b[38;5;129;01mor\u001b[39;00m is_bool_dtype(data\u001b[38;5;241m.\u001b[39mdtype):\n\u001b[1;32m   2275\u001b[0m     \u001b[38;5;66;03m# GH#29794 enforcing deprecation introduced in GH#23539\u001b[39;00m\n\u001b[0;32m-> 2276\u001b[0m     \u001b[38;5;28;01mraise\u001b[39;00m \u001b[38;5;167;01mTypeError\u001b[39;00m(\u001b[38;5;124mf\u001b[39m\u001b[38;5;124m\"\u001b[39m\u001b[38;5;124mdtype \u001b[39m\u001b[38;5;132;01m{\u001b[39;00mdata\u001b[38;5;241m.\u001b[39mdtype\u001b[38;5;132;01m}\u001b[39;00m\u001b[38;5;124m cannot be converted to datetime64[ns]\u001b[39m\u001b[38;5;124m\"\u001b[39m)\n\u001b[1;32m   2277\u001b[0m \u001b[38;5;28;01melif\u001b[39;00m is_period_dtype(data\u001b[38;5;241m.\u001b[39mdtype):\n\u001b[1;32m   2278\u001b[0m     \u001b[38;5;66;03m# Note: without explicitly raising here, PeriodIndex\u001b[39;00m\n\u001b[1;32m   2279\u001b[0m     \u001b[38;5;66;03m#  test_setops.test_join_does_not_recur fails\u001b[39;00m\n\u001b[1;32m   2280\u001b[0m     \u001b[38;5;28;01mraise\u001b[39;00m \u001b[38;5;167;01mTypeError\u001b[39;00m(\n\u001b[1;32m   2281\u001b[0m         \u001b[38;5;124m\"\u001b[39m\u001b[38;5;124mPassing PeriodDtype data is invalid. Use `data.to_timestamp()` instead\u001b[39m\u001b[38;5;124m\"\u001b[39m\n\u001b[1;32m   2282\u001b[0m     )\n",
      "\u001b[0;31mTypeError\u001b[0m: dtype timedelta64[ns] cannot be converted to datetime64[ns]"
     ]
    }
   ],
   "source": [
    "df_hdata['ARRIVAL_TIME'] = pd.to_datetime(df_hdata['ARRIVAL_TIME']) \n",
    "df_hdata['SCHEDULED_ARRIVAL']= pd.to_datetime(df_hdata['SCHEDULED_ARRIVAL'])"
   ]
  },
  {
   "cell_type": "code",
   "execution_count": 19,
   "id": "1bf0b007",
   "metadata": {},
   "outputs": [
    {
     "data": {
      "text/html": [
       "<div>\n",
       "<style scoped>\n",
       "    .dataframe tbody tr th:only-of-type {\n",
       "        vertical-align: middle;\n",
       "    }\n",
       "\n",
       "    .dataframe tbody tr th {\n",
       "        vertical-align: top;\n",
       "    }\n",
       "\n",
       "    .dataframe thead th {\n",
       "        text-align: right;\n",
       "    }\n",
       "</style>\n",
       "<table border=\"1\" class=\"dataframe\">\n",
       "  <thead>\n",
       "    <tr style=\"text-align: right;\">\n",
       "      <th></th>\n",
       "      <th>SCHEDULED_DEPARTURE</th>\n",
       "      <th>SCHEDULED_ARRIVAL</th>\n",
       "      <th>ARRIVAL_TIME</th>\n",
       "      <th>AIRLINE</th>\n",
       "      <th>FLIGHT_NUMBER</th>\n",
       "      <th>TAIL_NUMBER</th>\n",
       "      <th>ORIGIN_AIRPORT</th>\n",
       "      <th>DESTINATION_AIRPORT</th>\n",
       "      <th>SCHEDULED_TIME</th>\n",
       "      <th>DISTANCE</th>\n",
       "    </tr>\n",
       "  </thead>\n",
       "  <tbody>\n",
       "    <tr>\n",
       "      <th>0</th>\n",
       "      <td>2019-03-01 00:01:00</td>\n",
       "      <td>0 days 01:37:00</td>\n",
       "      <td>0 days 01:20:00</td>\n",
       "      <td>UA</td>\n",
       "      <td>1238</td>\n",
       "      <td>N812UA</td>\n",
       "      <td>DEN</td>\n",
       "      <td>BIL</td>\n",
       "      <td>0 days 00:00:00.000000096</td>\n",
       "      <td>455</td>\n",
       "    </tr>\n",
       "    <tr>\n",
       "      <th>1</th>\n",
       "      <td>2019-03-01 00:01:00</td>\n",
       "      <td>0 days 01:33:00</td>\n",
       "      <td>0 days 01:52:00</td>\n",
       "      <td>EV</td>\n",
       "      <td>6134</td>\n",
       "      <td>N14171</td>\n",
       "      <td>ORD</td>\n",
       "      <td>BNA</td>\n",
       "      <td>0 days 00:00:00.000000092</td>\n",
       "      <td>409</td>\n",
       "    </tr>\n",
       "    <tr>\n",
       "      <th>3</th>\n",
       "      <td>2019-03-01 00:02:00</td>\n",
       "      <td>0 days 03:04:00</td>\n",
       "      <td>0 days 02:56:00</td>\n",
       "      <td>UA</td>\n",
       "      <td>1550</td>\n",
       "      <td>N822UA</td>\n",
       "      <td>ORD</td>\n",
       "      <td>BTV</td>\n",
       "      <td>0 days 00:00:00.000000122</td>\n",
       "      <td>763</td>\n",
       "    </tr>\n",
       "    <tr>\n",
       "      <th>4</th>\n",
       "      <td>2019-03-01 00:02:00</td>\n",
       "      <td>0 days 03:22:00</td>\n",
       "      <td>0 days 03:30:00</td>\n",
       "      <td>UA</td>\n",
       "      <td>1502</td>\n",
       "      <td>N33262</td>\n",
       "      <td>ORD</td>\n",
       "      <td>BOS</td>\n",
       "      <td>0 days 00:00:00.000000140</td>\n",
       "      <td>867</td>\n",
       "    </tr>\n",
       "    <tr>\n",
       "      <th>5</th>\n",
       "      <td>2019-03-01 00:02:00</td>\n",
       "      <td>0 days 01:54:00</td>\n",
       "      <td>0 days 02:01:00</td>\n",
       "      <td>UA</td>\n",
       "      <td>1456</td>\n",
       "      <td>N808UA</td>\n",
       "      <td>DEN</td>\n",
       "      <td>BZN</td>\n",
       "      <td>0 days 00:00:00.000000112</td>\n",
       "      <td>524</td>\n",
       "    </tr>\n",
       "    <tr>\n",
       "      <th>...</th>\n",
       "      <td>...</td>\n",
       "      <td>...</td>\n",
       "      <td>...</td>\n",
       "      <td>...</td>\n",
       "      <td>...</td>\n",
       "      <td>...</td>\n",
       "      <td>...</td>\n",
       "      <td>...</td>\n",
       "      <td>...</td>\n",
       "      <td>...</td>\n",
       "    </tr>\n",
       "    <tr>\n",
       "      <th>2458623</th>\n",
       "      <td>2019-07-31 23:59:00</td>\n",
       "      <td>0 days 05:39:00</td>\n",
       "      <td>0 days 05:22:00</td>\n",
       "      <td>AA</td>\n",
       "      <td>1496</td>\n",
       "      <td>N3MJAA</td>\n",
       "      <td>LAS</td>\n",
       "      <td>ORD</td>\n",
       "      <td>0 days 00:00:00.000000220</td>\n",
       "      <td>1514</td>\n",
       "    </tr>\n",
       "    <tr>\n",
       "      <th>2458624</th>\n",
       "      <td>2019-07-31 23:59:00</td>\n",
       "      <td>0 days 05:55:00</td>\n",
       "      <td>0 days 06:42:00</td>\n",
       "      <td>AA</td>\n",
       "      <td>1283</td>\n",
       "      <td>N3GEAA</td>\n",
       "      <td>SEA</td>\n",
       "      <td>ORD</td>\n",
       "      <td>0 days 00:00:00.000000236</td>\n",
       "      <td>1721</td>\n",
       "    </tr>\n",
       "    <tr>\n",
       "      <th>2458625</th>\n",
       "      <td>2019-07-31 23:59:00</td>\n",
       "      <td>0 days 06:00:00</td>\n",
       "      <td>0 days 07:03:00</td>\n",
       "      <td>AA</td>\n",
       "      <td>219</td>\n",
       "      <td>N3LKAA</td>\n",
       "      <td>LAX</td>\n",
       "      <td>ORD</td>\n",
       "      <td>0 days 00:00:00.000000241</td>\n",
       "      <td>1744</td>\n",
       "    </tr>\n",
       "    <tr>\n",
       "      <th>2458626</th>\n",
       "      <td>2019-07-31 23:59:00</td>\n",
       "      <td>0 days 03:47:00</td>\n",
       "      <td>0 days 04:59:00</td>\n",
       "      <td>B6</td>\n",
       "      <td>1503</td>\n",
       "      <td>N592JB</td>\n",
       "      <td>JFK</td>\n",
       "      <td>SJU</td>\n",
       "      <td>0 days 00:00:00.000000228</td>\n",
       "      <td>1598</td>\n",
       "    </tr>\n",
       "    <tr>\n",
       "      <th>2458627</th>\n",
       "      <td>2019-07-31 23:59:00</td>\n",
       "      <td>0 days 08:30:00</td>\n",
       "      <td>0 days 09:03:00</td>\n",
       "      <td>B6</td>\n",
       "      <td>276</td>\n",
       "      <td>N712JB</td>\n",
       "      <td>OAK</td>\n",
       "      <td>BOS</td>\n",
       "      <td>0 days 00:00:00.000000331</td>\n",
       "      <td>2694</td>\n",
       "    </tr>\n",
       "  </tbody>\n",
       "</table>\n",
       "<p>2424831 rows × 10 columns</p>\n",
       "</div>"
      ],
      "text/plain": [
       "        SCHEDULED_DEPARTURE SCHEDULED_ARRIVAL    ARRIVAL_TIME AIRLINE  \\\n",
       "0       2019-03-01 00:01:00   0 days 01:37:00 0 days 01:20:00      UA   \n",
       "1       2019-03-01 00:01:00   0 days 01:33:00 0 days 01:52:00      EV   \n",
       "3       2019-03-01 00:02:00   0 days 03:04:00 0 days 02:56:00      UA   \n",
       "4       2019-03-01 00:02:00   0 days 03:22:00 0 days 03:30:00      UA   \n",
       "5       2019-03-01 00:02:00   0 days 01:54:00 0 days 02:01:00      UA   \n",
       "...                     ...               ...             ...     ...   \n",
       "2458623 2019-07-31 23:59:00   0 days 05:39:00 0 days 05:22:00      AA   \n",
       "2458624 2019-07-31 23:59:00   0 days 05:55:00 0 days 06:42:00      AA   \n",
       "2458625 2019-07-31 23:59:00   0 days 06:00:00 0 days 07:03:00      AA   \n",
       "2458626 2019-07-31 23:59:00   0 days 03:47:00 0 days 04:59:00      B6   \n",
       "2458627 2019-07-31 23:59:00   0 days 08:30:00 0 days 09:03:00      B6   \n",
       "\n",
       "         FLIGHT_NUMBER TAIL_NUMBER ORIGIN_AIRPORT DESTINATION_AIRPORT  \\\n",
       "0                 1238      N812UA            DEN                 BIL   \n",
       "1                 6134      N14171            ORD                 BNA   \n",
       "3                 1550      N822UA            ORD                 BTV   \n",
       "4                 1502      N33262            ORD                 BOS   \n",
       "5                 1456      N808UA            DEN                 BZN   \n",
       "...                ...         ...            ...                 ...   \n",
       "2458623           1496      N3MJAA            LAS                 ORD   \n",
       "2458624           1283      N3GEAA            SEA                 ORD   \n",
       "2458625            219      N3LKAA            LAX                 ORD   \n",
       "2458626           1503      N592JB            JFK                 SJU   \n",
       "2458627            276      N712JB            OAK                 BOS   \n",
       "\n",
       "                   SCHEDULED_TIME  DISTANCE  \n",
       "0       0 days 00:00:00.000000096       455  \n",
       "1       0 days 00:00:00.000000092       409  \n",
       "3       0 days 00:00:00.000000122       763  \n",
       "4       0 days 00:00:00.000000140       867  \n",
       "5       0 days 00:00:00.000000112       524  \n",
       "...                           ...       ...  \n",
       "2458623 0 days 00:00:00.000000220      1514  \n",
       "2458624 0 days 00:00:00.000000236      1721  \n",
       "2458625 0 days 00:00:00.000000241      1744  \n",
       "2458626 0 days 00:00:00.000000228      1598  \n",
       "2458627 0 days 00:00:00.000000331      2694  \n",
       "\n",
       "[2424831 rows x 10 columns]"
      ]
     },
     "execution_count": 19,
     "metadata": {},
     "output_type": "execute_result"
    }
   ],
   "source": [
    "df_hdata"
   ]
  },
  {
   "cell_type": "code",
   "execution_count": 14,
   "id": "544b83f8",
   "metadata": {},
   "outputs": [],
   "source": [
    "Y = df_hdata['ARRIVAL_TIME']\n",
    "X = df_hdata.loc[:, df_hdata.columns!='ARRIVAL_TIME']"
   ]
  },
  {
   "cell_type": "code",
   "execution_count": 15,
   "id": "5344a9f4",
   "metadata": {},
   "outputs": [],
   "source": [
    "X_train, X_test, y_train, y_test = train_test_split(X, Y, test_size=0.2)\n"
   ]
  },
  {
   "cell_type": "code",
   "execution_count": 16,
   "id": "1b5d0862",
   "metadata": {},
   "outputs": [],
   "source": [
    "categorical_cols = ['AIRLINE', 'FLIGHT_NUMBER', 'TAIL_NUMBER', 'ORIGIN_AIRPORT', 'DESTINATION_AIRPORT']"
   ]
  },
  {
   "cell_type": "code",
   "execution_count": 29,
   "id": "d2c323d8",
   "metadata": {},
   "outputs": [
    {
     "data": {
      "text/plain": [
       "pandas.core.series.Series"
      ]
     },
     "execution_count": 29,
     "metadata": {},
     "output_type": "execute_result"
    }
   ],
   "source": [
    "type(y_train)"
   ]
  },
  {
   "cell_type": "code",
   "execution_count": 17,
   "id": "be82cc73",
   "metadata": {},
   "outputs": [],
   "source": [
    "from sklearn.linear_model import LinearRegression"
   ]
  },
  {
   "cell_type": "code",
   "execution_count": 18,
   "id": "e68bc936",
   "metadata": {},
   "outputs": [
    {
     "ename": "TypeError",
     "evalue": "float() argument must be a string or a number, not 'Timestamp'",
     "output_type": "error",
     "traceback": [
      "\u001b[0;31m---------------------------------------------------------------------------\u001b[0m",
      "\u001b[0;31mTypeError\u001b[0m                                 Traceback (most recent call last)",
      "Input \u001b[0;32mIn [18]\u001b[0m, in \u001b[0;36m<cell line: 1>\u001b[0;34m()\u001b[0m\n\u001b[0;32m----> 1\u001b[0m model1 \u001b[38;5;241m=\u001b[39m \u001b[43mLinearRegression\u001b[49m\u001b[43m(\u001b[49m\u001b[43m)\u001b[49m\u001b[38;5;241;43m.\u001b[39;49m\u001b[43mfit\u001b[49m\u001b[43m(\u001b[49m\u001b[43mX_train\u001b[49m\u001b[43m,\u001b[49m\u001b[43m \u001b[49m\u001b[43my_train\u001b[49m\u001b[43m)\u001b[49m\n",
      "File \u001b[0;32m~/venv1/lib/python3.8/site-packages/sklearn/linear_model/_base.py:662\u001b[0m, in \u001b[0;36mLinearRegression.fit\u001b[0;34m(self, X, y, sample_weight)\u001b[0m\n\u001b[1;32m    658\u001b[0m n_jobs_ \u001b[38;5;241m=\u001b[39m \u001b[38;5;28mself\u001b[39m\u001b[38;5;241m.\u001b[39mn_jobs\n\u001b[1;32m    660\u001b[0m accept_sparse \u001b[38;5;241m=\u001b[39m \u001b[38;5;28;01mFalse\u001b[39;00m \u001b[38;5;28;01mif\u001b[39;00m \u001b[38;5;28mself\u001b[39m\u001b[38;5;241m.\u001b[39mpositive \u001b[38;5;28;01melse\u001b[39;00m [\u001b[38;5;124m\"\u001b[39m\u001b[38;5;124mcsr\u001b[39m\u001b[38;5;124m\"\u001b[39m, \u001b[38;5;124m\"\u001b[39m\u001b[38;5;124mcsc\u001b[39m\u001b[38;5;124m\"\u001b[39m, \u001b[38;5;124m\"\u001b[39m\u001b[38;5;124mcoo\u001b[39m\u001b[38;5;124m\"\u001b[39m]\n\u001b[0;32m--> 662\u001b[0m X, y \u001b[38;5;241m=\u001b[39m \u001b[38;5;28;43mself\u001b[39;49m\u001b[38;5;241;43m.\u001b[39;49m\u001b[43m_validate_data\u001b[49m\u001b[43m(\u001b[49m\n\u001b[1;32m    663\u001b[0m \u001b[43m    \u001b[49m\u001b[43mX\u001b[49m\u001b[43m,\u001b[49m\u001b[43m \u001b[49m\u001b[43my\u001b[49m\u001b[43m,\u001b[49m\u001b[43m \u001b[49m\u001b[43maccept_sparse\u001b[49m\u001b[38;5;241;43m=\u001b[39;49m\u001b[43maccept_sparse\u001b[49m\u001b[43m,\u001b[49m\u001b[43m \u001b[49m\u001b[43my_numeric\u001b[49m\u001b[38;5;241;43m=\u001b[39;49m\u001b[38;5;28;43;01mTrue\u001b[39;49;00m\u001b[43m,\u001b[49m\u001b[43m \u001b[49m\u001b[43mmulti_output\u001b[49m\u001b[38;5;241;43m=\u001b[39;49m\u001b[38;5;28;43;01mTrue\u001b[39;49;00m\n\u001b[1;32m    664\u001b[0m \u001b[43m\u001b[49m\u001b[43m)\u001b[49m\n\u001b[1;32m    666\u001b[0m \u001b[38;5;28;01mif\u001b[39;00m sample_weight \u001b[38;5;129;01mis\u001b[39;00m \u001b[38;5;129;01mnot\u001b[39;00m \u001b[38;5;28;01mNone\u001b[39;00m:\n\u001b[1;32m    667\u001b[0m     sample_weight \u001b[38;5;241m=\u001b[39m _check_sample_weight(sample_weight, X, dtype\u001b[38;5;241m=\u001b[39mX\u001b[38;5;241m.\u001b[39mdtype)\n",
      "File \u001b[0;32m~/venv1/lib/python3.8/site-packages/sklearn/base.py:581\u001b[0m, in \u001b[0;36mBaseEstimator._validate_data\u001b[0;34m(self, X, y, reset, validate_separately, **check_params)\u001b[0m\n\u001b[1;32m    579\u001b[0m         y \u001b[38;5;241m=\u001b[39m check_array(y, \u001b[38;5;241m*\u001b[39m\u001b[38;5;241m*\u001b[39mcheck_y_params)\n\u001b[1;32m    580\u001b[0m     \u001b[38;5;28;01melse\u001b[39;00m:\n\u001b[0;32m--> 581\u001b[0m         X, y \u001b[38;5;241m=\u001b[39m \u001b[43mcheck_X_y\u001b[49m\u001b[43m(\u001b[49m\u001b[43mX\u001b[49m\u001b[43m,\u001b[49m\u001b[43m \u001b[49m\u001b[43my\u001b[49m\u001b[43m,\u001b[49m\u001b[43m \u001b[49m\u001b[38;5;241;43m*\u001b[39;49m\u001b[38;5;241;43m*\u001b[39;49m\u001b[43mcheck_params\u001b[49m\u001b[43m)\u001b[49m\n\u001b[1;32m    582\u001b[0m     out \u001b[38;5;241m=\u001b[39m X, y\n\u001b[1;32m    584\u001b[0m \u001b[38;5;28;01mif\u001b[39;00m \u001b[38;5;129;01mnot\u001b[39;00m no_val_X \u001b[38;5;129;01mand\u001b[39;00m check_params\u001b[38;5;241m.\u001b[39mget(\u001b[38;5;124m\"\u001b[39m\u001b[38;5;124mensure_2d\u001b[39m\u001b[38;5;124m\"\u001b[39m, \u001b[38;5;28;01mTrue\u001b[39;00m):\n",
      "File \u001b[0;32m~/venv1/lib/python3.8/site-packages/sklearn/utils/validation.py:964\u001b[0m, in \u001b[0;36mcheck_X_y\u001b[0;34m(X, y, accept_sparse, accept_large_sparse, dtype, order, copy, force_all_finite, ensure_2d, allow_nd, multi_output, ensure_min_samples, ensure_min_features, y_numeric, estimator)\u001b[0m\n\u001b[1;32m    961\u001b[0m \u001b[38;5;28;01mif\u001b[39;00m y \u001b[38;5;129;01mis\u001b[39;00m \u001b[38;5;28;01mNone\u001b[39;00m:\n\u001b[1;32m    962\u001b[0m     \u001b[38;5;28;01mraise\u001b[39;00m \u001b[38;5;167;01mValueError\u001b[39;00m(\u001b[38;5;124m\"\u001b[39m\u001b[38;5;124my cannot be None\u001b[39m\u001b[38;5;124m\"\u001b[39m)\n\u001b[0;32m--> 964\u001b[0m X \u001b[38;5;241m=\u001b[39m \u001b[43mcheck_array\u001b[49m\u001b[43m(\u001b[49m\n\u001b[1;32m    965\u001b[0m \u001b[43m    \u001b[49m\u001b[43mX\u001b[49m\u001b[43m,\u001b[49m\n\u001b[1;32m    966\u001b[0m \u001b[43m    \u001b[49m\u001b[43maccept_sparse\u001b[49m\u001b[38;5;241;43m=\u001b[39;49m\u001b[43maccept_sparse\u001b[49m\u001b[43m,\u001b[49m\n\u001b[1;32m    967\u001b[0m \u001b[43m    \u001b[49m\u001b[43maccept_large_sparse\u001b[49m\u001b[38;5;241;43m=\u001b[39;49m\u001b[43maccept_large_sparse\u001b[49m\u001b[43m,\u001b[49m\n\u001b[1;32m    968\u001b[0m \u001b[43m    \u001b[49m\u001b[43mdtype\u001b[49m\u001b[38;5;241;43m=\u001b[39;49m\u001b[43mdtype\u001b[49m\u001b[43m,\u001b[49m\n\u001b[1;32m    969\u001b[0m \u001b[43m    \u001b[49m\u001b[43morder\u001b[49m\u001b[38;5;241;43m=\u001b[39;49m\u001b[43morder\u001b[49m\u001b[43m,\u001b[49m\n\u001b[1;32m    970\u001b[0m \u001b[43m    \u001b[49m\u001b[43mcopy\u001b[49m\u001b[38;5;241;43m=\u001b[39;49m\u001b[43mcopy\u001b[49m\u001b[43m,\u001b[49m\n\u001b[1;32m    971\u001b[0m \u001b[43m    \u001b[49m\u001b[43mforce_all_finite\u001b[49m\u001b[38;5;241;43m=\u001b[39;49m\u001b[43mforce_all_finite\u001b[49m\u001b[43m,\u001b[49m\n\u001b[1;32m    972\u001b[0m \u001b[43m    \u001b[49m\u001b[43mensure_2d\u001b[49m\u001b[38;5;241;43m=\u001b[39;49m\u001b[43mensure_2d\u001b[49m\u001b[43m,\u001b[49m\n\u001b[1;32m    973\u001b[0m \u001b[43m    \u001b[49m\u001b[43mallow_nd\u001b[49m\u001b[38;5;241;43m=\u001b[39;49m\u001b[43mallow_nd\u001b[49m\u001b[43m,\u001b[49m\n\u001b[1;32m    974\u001b[0m \u001b[43m    \u001b[49m\u001b[43mensure_min_samples\u001b[49m\u001b[38;5;241;43m=\u001b[39;49m\u001b[43mensure_min_samples\u001b[49m\u001b[43m,\u001b[49m\n\u001b[1;32m    975\u001b[0m \u001b[43m    \u001b[49m\u001b[43mensure_min_features\u001b[49m\u001b[38;5;241;43m=\u001b[39;49m\u001b[43mensure_min_features\u001b[49m\u001b[43m,\u001b[49m\n\u001b[1;32m    976\u001b[0m \u001b[43m    \u001b[49m\u001b[43mestimator\u001b[49m\u001b[38;5;241;43m=\u001b[39;49m\u001b[43mestimator\u001b[49m\u001b[43m,\u001b[49m\n\u001b[1;32m    977\u001b[0m \u001b[43m\u001b[49m\u001b[43m)\u001b[49m\n\u001b[1;32m    979\u001b[0m y \u001b[38;5;241m=\u001b[39m _check_y(y, multi_output\u001b[38;5;241m=\u001b[39mmulti_output, y_numeric\u001b[38;5;241m=\u001b[39my_numeric)\n\u001b[1;32m    981\u001b[0m check_consistent_length(X, y)\n",
      "File \u001b[0;32m~/venv1/lib/python3.8/site-packages/sklearn/utils/validation.py:746\u001b[0m, in \u001b[0;36mcheck_array\u001b[0;34m(array, accept_sparse, accept_large_sparse, dtype, order, copy, force_all_finite, ensure_2d, allow_nd, ensure_min_samples, ensure_min_features, estimator)\u001b[0m\n\u001b[1;32m    744\u001b[0m         array \u001b[38;5;241m=\u001b[39m array\u001b[38;5;241m.\u001b[39mastype(dtype, casting\u001b[38;5;241m=\u001b[39m\u001b[38;5;124m\"\u001b[39m\u001b[38;5;124munsafe\u001b[39m\u001b[38;5;124m\"\u001b[39m, copy\u001b[38;5;241m=\u001b[39m\u001b[38;5;28;01mFalse\u001b[39;00m)\n\u001b[1;32m    745\u001b[0m     \u001b[38;5;28;01melse\u001b[39;00m:\n\u001b[0;32m--> 746\u001b[0m         array \u001b[38;5;241m=\u001b[39m \u001b[43mnp\u001b[49m\u001b[38;5;241;43m.\u001b[39;49m\u001b[43masarray\u001b[49m\u001b[43m(\u001b[49m\u001b[43marray\u001b[49m\u001b[43m,\u001b[49m\u001b[43m \u001b[49m\u001b[43morder\u001b[49m\u001b[38;5;241;43m=\u001b[39;49m\u001b[43morder\u001b[49m\u001b[43m,\u001b[49m\u001b[43m \u001b[49m\u001b[43mdtype\u001b[49m\u001b[38;5;241;43m=\u001b[39;49m\u001b[43mdtype\u001b[49m\u001b[43m)\u001b[49m\n\u001b[1;32m    747\u001b[0m \u001b[38;5;28;01mexcept\u001b[39;00m ComplexWarning \u001b[38;5;28;01mas\u001b[39;00m complex_warning:\n\u001b[1;32m    748\u001b[0m     \u001b[38;5;28;01mraise\u001b[39;00m \u001b[38;5;167;01mValueError\u001b[39;00m(\n\u001b[1;32m    749\u001b[0m         \u001b[38;5;124m\"\u001b[39m\u001b[38;5;124mComplex data not supported\u001b[39m\u001b[38;5;130;01m\\n\u001b[39;00m\u001b[38;5;132;01m{}\u001b[39;00m\u001b[38;5;130;01m\\n\u001b[39;00m\u001b[38;5;124m\"\u001b[39m\u001b[38;5;241m.\u001b[39mformat(array)\n\u001b[1;32m    750\u001b[0m     ) \u001b[38;5;28;01mfrom\u001b[39;00m \u001b[38;5;21;01mcomplex_warning\u001b[39;00m\n",
      "File \u001b[0;32m~/venv1/lib/python3.8/site-packages/pandas/core/generic.py:2072\u001b[0m, in \u001b[0;36mNDFrame.__array__\u001b[0;34m(self, dtype)\u001b[0m\n\u001b[1;32m   2071\u001b[0m \u001b[38;5;28;01mdef\u001b[39;00m \u001b[38;5;21m__array__\u001b[39m(\u001b[38;5;28mself\u001b[39m, dtype: npt\u001b[38;5;241m.\u001b[39mDTypeLike \u001b[38;5;241m|\u001b[39m \u001b[38;5;28;01mNone\u001b[39;00m \u001b[38;5;241m=\u001b[39m \u001b[38;5;28;01mNone\u001b[39;00m) \u001b[38;5;241m-\u001b[39m\u001b[38;5;241m>\u001b[39m np\u001b[38;5;241m.\u001b[39mndarray:\n\u001b[0;32m-> 2072\u001b[0m     \u001b[38;5;28;01mreturn\u001b[39;00m \u001b[43mnp\u001b[49m\u001b[38;5;241;43m.\u001b[39;49m\u001b[43masarray\u001b[49m\u001b[43m(\u001b[49m\u001b[38;5;28;43mself\u001b[39;49m\u001b[38;5;241;43m.\u001b[39;49m\u001b[43m_values\u001b[49m\u001b[43m,\u001b[49m\u001b[43m \u001b[49m\u001b[43mdtype\u001b[49m\u001b[38;5;241;43m=\u001b[39;49m\u001b[43mdtype\u001b[49m\u001b[43m)\u001b[49m\n",
      "\u001b[0;31mTypeError\u001b[0m: float() argument must be a string or a number, not 'Timestamp'"
     ]
    }
   ],
   "source": [
    "model1 = LinearRegression().fit(X_train, y_train)"
   ]
  },
  {
   "cell_type": "code",
   "execution_count": null,
   "id": "bbd7edb4",
   "metadata": {},
   "outputs": [],
   "source": []
  },
  {
   "cell_type": "code",
   "execution_count": null,
   "id": "e7934f0d",
   "metadata": {},
   "outputs": [],
   "source": []
  },
  {
   "cell_type": "code",
   "execution_count": 9,
   "id": "9e105635",
   "metadata": {},
   "outputs": [
    {
     "ename": "NameError",
     "evalue": "name 'X_train' is not defined",
     "output_type": "error",
     "traceback": [
      "\u001b[0;31m---------------------------------------------------------------------------\u001b[0m",
      "\u001b[0;31mNameError\u001b[0m                                 Traceback (most recent call last)",
      "Input \u001b[0;32mIn [9]\u001b[0m, in \u001b[0;36m<cell line: 1>\u001b[0;34m()\u001b[0m\n\u001b[0;32m----> 1\u001b[0m one_hot_columns \u001b[38;5;241m=\u001b[39m pd\u001b[38;5;241m.\u001b[39mget_dummies(\u001b[43mX_train\u001b[49m[categorical_cols])\n\u001b[1;32m      2\u001b[0m one_hot_columns\u001b[38;5;241m.\u001b[39mhead()\n",
      "\u001b[0;31mNameError\u001b[0m: name 'X_train' is not defined"
     ]
    }
   ],
   "source": [
    "\n",
    "one_hot_columns = pd.get_dummies(X_train[categorical_cols])\n",
    "one_hot_columns.head()"
   ]
  },
  {
   "cell_type": "code",
   "execution_count": null,
   "id": "89e13f57",
   "metadata": {},
   "outputs": [],
   "source": []
  },
  {
   "cell_type": "code",
   "execution_count": null,
   "id": "5256b5da",
   "metadata": {},
   "outputs": [],
   "source": []
  },
  {
   "cell_type": "code",
   "execution_count": null,
   "id": "419ca043",
   "metadata": {},
   "outputs": [],
   "source": []
  },
  {
   "cell_type": "markdown",
   "id": "bb1ff927",
   "metadata": {},
   "source": [
    "# Data Preprocessing with Pandas\n",
    "Preprocessing is the process of doing a pre-analysis of data, in order to transform them into a standard and normalized format.\n",
    "Preprocessing involves the following aspects:\n",
    "- missing values\n",
    "- data formatting\n",
    "- data standardization\n",
    "- data normalization\n",
    "- data binning\n"
   ]
  },
  {
   "cell_type": "markdown",
   "id": "8a7e3f9b",
   "metadata": {},
   "source": [
    "#Missing Values"
   ]
  },
  {
   "cell_type": "code",
   "execution_count": null,
   "id": "df2c7c9b",
   "metadata": {},
   "outputs": [],
   "source": [
    "X_train.isna().sum()"
   ]
  },
  {
   "cell_type": "code",
   "execution_count": null,
   "id": "4d65ef11",
   "metadata": {},
   "outputs": [],
   "source": [
    "df_hdata.shape"
   ]
  },
  {
   "cell_type": "markdown",
   "id": "4dc393e9",
   "metadata": {},
   "source": [
    "#Drop Missing Values"
   ]
  },
  {
   "cell_type": "code",
   "execution_count": null,
   "id": "3f1fa5dc",
   "metadata": {},
   "outputs": [],
   "source": [
    "drop_data = df_hdata.dropna(thresh=0.8*len(df_hdata), axis = 1)\n",
    "#axis=0 drop row while axis=1 drop coulm \n",
    "#inplace = True to store changes in the original dataframe"
   ]
  },
  {
   "cell_type": "code",
   "execution_count": null,
   "id": "fbeff0eb",
   "metadata": {},
   "outputs": [],
   "source": [
    "print('Dimensions of the dataset:',df_hdata.shape)\n",
    "print('Dimensions after removing columns:',drop_data.shape)"
   ]
  },
  {
   "cell_type": "markdown",
   "id": "3e1c48d8",
   "metadata": {},
   "source": [
    "#Replace missing values"
   ]
  },
  {
   "cell_type": "code",
   "execution_count": null,
   "id": "a87d6eed",
   "metadata": {},
   "outputs": [],
   "source": [
    "df_hdata.dtypes"
   ]
  },
  {
   "cell_type": "markdown",
   "id": "b42c2237",
   "metadata": {},
   "source": [
    "#Numerical Columns"
   ]
  },
  {
   "cell_type": "code",
   "execution_count": null,
   "id": "99aa8da7",
   "metadata": {},
   "outputs": [],
   "source": [
    "import numpy as np\n",
    "numeric = df_hdata.select_dtypes(include=np.number)\n",
    "numeric_columns = numeric.columns\n",
    "print(numeric_columns)"
   ]
  },
  {
   "cell_type": "code",
   "execution_count": null,
   "id": "a87481f5",
   "metadata": {},
   "outputs": [],
   "source": [
    "df_rp= df_hdata\n",
    "df_rp[numeric_columns]= df_rp[numeric_columns].fillna(df_rp[numeric_columns].mean())\n",
    "#replace numeric data with its column mean"
   ]
  },
  {
   "cell_type": "code",
   "execution_count": null,
   "id": "c48081a6",
   "metadata": {},
   "outputs": [],
   "source": [
    "df_rp.isna().sum()"
   ]
  },
  {
   "cell_type": "markdown",
   "id": "98f1bedc",
   "metadata": {},
   "source": [
    "#categorical columns"
   ]
  },
  {
   "cell_type": "code",
   "execution_count": null,
   "id": "9cbcf36e",
   "metadata": {},
   "outputs": [],
   "source": [
    "boolean_columns = df_rp.select_dtypes(include=object).columns.tolist()\n",
    "\n",
    "print(boolean_columns)\n",
    "df_rp[boolean_columns] = df_rp[boolean_columns].astype('bool')"
   ]
  },
  {
   "cell_type": "code",
   "execution_count": null,
   "id": "b24e748d",
   "metadata": {},
   "outputs": [],
   "source": [
    "df_rp[boolean_columns]= df_rp[boolean_columns].fillna(df_rp[boolean_columns].mode())"
   ]
  },
  {
   "cell_type": "code",
   "execution_count": null,
   "id": "c4ec6971",
   "metadata": {
    "scrolled": false
   },
   "outputs": [],
   "source": [
    "df_rp.isna().sum()"
   ]
  },
  {
   "cell_type": "code",
   "execution_count": null,
   "id": "0c8a065b",
   "metadata": {},
   "outputs": [],
   "source": [
    "df_rp.head()"
   ]
  },
  {
   "cell_type": "code",
   "execution_count": null,
   "id": "f3ad0bc3",
   "metadata": {},
   "outputs": [],
   "source": [
    "df_rp[df_rp.duplicated(keep=False)]"
   ]
  }
 ],
 "metadata": {
  "kernelspec": {
   "display_name": "Python 3 (ipykernel)",
   "language": "python",
   "name": "python3"
  },
  "language_info": {
   "codemirror_mode": {
    "name": "ipython",
    "version": 3
   },
   "file_extension": ".py",
   "mimetype": "text/x-python",
   "name": "python",
   "nbconvert_exporter": "python",
   "pygments_lexer": "ipython3",
   "version": "3.8.10"
  }
 },
 "nbformat": 4,
 "nbformat_minor": 5
}
