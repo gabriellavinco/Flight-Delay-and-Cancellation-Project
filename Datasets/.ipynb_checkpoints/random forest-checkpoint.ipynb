{
 "cells": [
  {
   "cell_type": "code",
   "execution_count": 1,
   "id": "84ad69e0",
   "metadata": {},
   "outputs": [],
   "source": [
    "import csv\n",
    "import pandas as pd\n",
    "import datetime\n",
    "import seaborn as sns"
   ]
  },
  {
   "cell_type": "code",
   "execution_count": 2,
   "id": "447e6004",
   "metadata": {},
   "outputs": [],
   "source": [
    "df_hdata = pd.read_csv('historic_data.csv')"
   ]
  },
  {
   "cell_type": "code",
   "execution_count": 3,
   "id": "7cdb0068",
   "metadata": {},
   "outputs": [],
   "source": [
    "df_hdata['SCHEDULED_DEPARTURE'] = pd.to_datetime(df_hdata['SCHEDULED_DEPARTURE'], \n",
    "                            format='%Y-%m-%d', \n",
    "                            errors='coerce')\n",
    "df_hdata['DEPARTURE_TIME'] = pd.to_timedelta(df_hdata['DEPARTURE_TIME'], \n",
    "                            errors='coerce')\n",
    "df_hdata['SCHEDULED_ARRIVAL'] = pd.to_timedelta(df_hdata['SCHEDULED_ARRIVAL'], \n",
    "                            errors='coerce')\n",
    "df_hdata['ARRIVAL_TIME'] = pd.to_timedelta(df_hdata['ARRIVAL_TIME'], \n",
    "                            errors='coerce')\n",
    "df_hdata['SCHEDULED_TIME'] = pd.to_timedelta(df_hdata['SCHEDULED_TIME'], \n",
    "                            errors='coerce')\n",
    "#what is wrong with 'SCHEDULED_TIME'? \n",
    "\n"
   ]
  },
  {
   "cell_type": "code",
   "execution_count": 4,
   "id": "df673669",
   "metadata": {},
   "outputs": [],
   "source": [
    "#adding a variable 'arrival_delay' and format it to datetime\n",
    "df_hdata['ARRIVAL_DELAY']=pd.to_timedelta(df_hdata.ARRIVAL_TIME)- pd.to_timedelta(df_hdata.SCHEDULED_ARRIVAL)"
   ]
  },
  {
   "cell_type": "code",
   "execution_count": 5,
   "id": "51e12891",
   "metadata": {},
   "outputs": [],
   "source": [
    "#dropping the rows with missing arrival_delay (also drops cancell)\n",
    "df_hdata=df_hdata.dropna(subset=['ARRIVAL_DELAY'])"
   ]
  },
  {
   "cell_type": "code",
   "execution_count": 6,
   "id": "1115000f",
   "metadata": {},
   "outputs": [],
   "source": [
    "#dropping unnecessary variables. \n",
    "df_hdata=df_hdata.drop(columns=['DEPARTURE_TIME', 'DEPARTURE_DELAY', 'ARRIVAL_TIME', 'CANCELLED', 'CANCELLATION_REASON', 'TAXI_OUT', 'WHEELS_OFF', 'ELAPSED_TIME', 'AIR_TIME','WHEELS_ON', 'TAXI_IN', 'AIR_SYSTEM_DELAY', 'SECURITY_DELAY', 'AIRLINE_DELAY', 'LATE_AIRCRAFT_DELAY', 'WEATHER_DELAY'])"
   ]
  },
  {
   "cell_type": "code",
   "execution_count": 9,
   "id": "c2e14bb3",
   "metadata": {},
   "outputs": [
    {
     "data": {
      "text/plain": [
       "SCHEDULED_DEPARTURE    0\n",
       "SCHEDULED_ARRIVAL      0\n",
       "AIRLINE                0\n",
       "FLIGHT_NUMBER          0\n",
       "TAIL_NUMBER            0\n",
       "ORIGIN_AIRPORT         0\n",
       "DESTINATION_AIRPORT    0\n",
       "SCHEDULED_TIME         0\n",
       "DISTANCE               0\n",
       "ARRIVAL_DELAY          0\n",
       "dtype: int64"
      ]
     },
     "execution_count": 9,
     "metadata": {},
     "output_type": "execute_result"
    }
   ],
   "source": [
    "#no missing values\n",
    "df_hdata.isna().sum()"
   ]
  },
  {
   "cell_type": "code",
   "execution_count": 10,
   "id": "2479e04a",
   "metadata": {},
   "outputs": [
    {
     "name": "stdout",
     "output_type": "stream",
     "text": [
      "<class 'pandas.core.frame.DataFrame'>\n",
      "Int64Index: 2424831 entries, 0 to 2458627\n",
      "Data columns (total 10 columns):\n",
      " #   Column               Dtype          \n",
      "---  ------               -----          \n",
      " 0   SCHEDULED_DEPARTURE  datetime64[ns] \n",
      " 1   SCHEDULED_ARRIVAL    timedelta64[ns]\n",
      " 2   AIRLINE              object         \n",
      " 3   FLIGHT_NUMBER        int64          \n",
      " 4   TAIL_NUMBER          object         \n",
      " 5   ORIGIN_AIRPORT       object         \n",
      " 6   DESTINATION_AIRPORT  object         \n",
      " 7   SCHEDULED_TIME       timedelta64[ns]\n",
      " 8   DISTANCE             int64          \n",
      " 9   ARRIVAL_DELAY        timedelta64[ns]\n",
      "dtypes: datetime64[ns](1), int64(2), object(4), timedelta64[ns](3)\n",
      "memory usage: 203.5+ MB\n"
     ]
    }
   ],
   "source": [
    "df_hdata.info()"
   ]
  },
  {
   "cell_type": "code",
   "execution_count": 11,
   "id": "a9e3f5b2",
   "metadata": {},
   "outputs": [
    {
     "data": {
      "text/plain": [
       "Timedelta('-1 days +00:01:00')"
      ]
     },
     "execution_count": 11,
     "metadata": {},
     "output_type": "execute_result"
    }
   ],
   "source": [
    "df_hdata['ARRIVAL_DELAY'].min() # this plane was almost a day early? "
   ]
  },
  {
   "cell_type": "code",
   "execution_count": 12,
   "id": "95fc6af7",
   "metadata": {},
   "outputs": [
    {
     "data": {
      "text/plain": [
       "Timedelta('0 days 23:58:00')"
      ]
     },
     "execution_count": 12,
     "metadata": {},
     "output_type": "execute_result"
    }
   ],
   "source": [
    "df_hdata['ARRIVAL_DELAY'].max()# this plane was almost a day early? -> might be a problem because scheduled arrival has no day -> add? "
   ]
  },
  {
   "cell_type": "code",
   "execution_count": 13,
   "id": "0d9db74b",
   "metadata": {},
   "outputs": [],
   "source": [
    "#RANDOM FOREST"
   ]
  },
  {
   "cell_type": "code",
   "execution_count": 14,
   "id": "c052aa7a",
   "metadata": {},
   "outputs": [],
   "source": [
    "import pandas as pd\n",
    "import numpy as np\n",
    "import matplotlib.pyplot as plt\n",
    "\n",
    "from sklearn.ensemble import RandomForestRegressor\n",
    "import seaborn as sns\n",
    "%matplotlib inline"
   ]
  },
  {
   "cell_type": "code",
   "execution_count": 15,
   "id": "35c4f40c",
   "metadata": {},
   "outputs": [],
   "source": [
    "#take a part of the dataset\n",
    "df_hdata = df_hdata[0:3000]"
   ]
  },
  {
   "cell_type": "code",
   "execution_count": 16,
   "id": "98de9dd7",
   "metadata": {},
   "outputs": [],
   "source": [
    "categorical_cols = ['AIRLINE', 'FLIGHT_NUMBER', 'TAIL_NUMBER', 'ORIGIN_AIRPORT', 'DESTINATION_AIRPORT']"
   ]
  },
  {
   "cell_type": "code",
   "execution_count": 17,
   "id": "9e605bf0",
   "metadata": {},
   "outputs": [
    {
     "data": {
      "text/html": [
       "<div>\n",
       "<style scoped>\n",
       "    .dataframe tbody tr th:only-of-type {\n",
       "        vertical-align: middle;\n",
       "    }\n",
       "\n",
       "    .dataframe tbody tr th {\n",
       "        vertical-align: top;\n",
       "    }\n",
       "\n",
       "    .dataframe thead th {\n",
       "        text-align: right;\n",
       "    }\n",
       "</style>\n",
       "<table border=\"1\" class=\"dataframe\">\n",
       "  <thead>\n",
       "    <tr style=\"text-align: right;\">\n",
       "      <th></th>\n",
       "      <th>FLIGHT_NUMBER</th>\n",
       "      <th>AIRLINE_AA</th>\n",
       "      <th>AIRLINE_AS</th>\n",
       "      <th>AIRLINE_B6</th>\n",
       "      <th>AIRLINE_DL</th>\n",
       "      <th>AIRLINE_EV</th>\n",
       "      <th>AIRLINE_F9</th>\n",
       "      <th>AIRLINE_HA</th>\n",
       "      <th>AIRLINE_MQ</th>\n",
       "      <th>AIRLINE_NK</th>\n",
       "      <th>...</th>\n",
       "      <th>DESTINATION_AIRPORT_SYR</th>\n",
       "      <th>DESTINATION_AIRPORT_TOL</th>\n",
       "      <th>DESTINATION_AIRPORT_TPA</th>\n",
       "      <th>DESTINATION_AIRPORT_TUL</th>\n",
       "      <th>DESTINATION_AIRPORT_TUS</th>\n",
       "      <th>DESTINATION_AIRPORT_TYS</th>\n",
       "      <th>DESTINATION_AIRPORT_UST</th>\n",
       "      <th>DESTINATION_AIRPORT_VPS</th>\n",
       "      <th>DESTINATION_AIRPORT_XNA</th>\n",
       "      <th>DESTINATION_AIRPORT_YUM</th>\n",
       "    </tr>\n",
       "  </thead>\n",
       "  <tbody>\n",
       "    <tr>\n",
       "      <th>0</th>\n",
       "      <td>1238</td>\n",
       "      <td>0</td>\n",
       "      <td>0</td>\n",
       "      <td>0</td>\n",
       "      <td>0</td>\n",
       "      <td>0</td>\n",
       "      <td>0</td>\n",
       "      <td>0</td>\n",
       "      <td>0</td>\n",
       "      <td>0</td>\n",
       "      <td>...</td>\n",
       "      <td>0</td>\n",
       "      <td>0</td>\n",
       "      <td>0</td>\n",
       "      <td>0</td>\n",
       "      <td>0</td>\n",
       "      <td>0</td>\n",
       "      <td>0</td>\n",
       "      <td>0</td>\n",
       "      <td>0</td>\n",
       "      <td>0</td>\n",
       "    </tr>\n",
       "    <tr>\n",
       "      <th>1</th>\n",
       "      <td>6134</td>\n",
       "      <td>0</td>\n",
       "      <td>0</td>\n",
       "      <td>0</td>\n",
       "      <td>0</td>\n",
       "      <td>1</td>\n",
       "      <td>0</td>\n",
       "      <td>0</td>\n",
       "      <td>0</td>\n",
       "      <td>0</td>\n",
       "      <td>...</td>\n",
       "      <td>0</td>\n",
       "      <td>0</td>\n",
       "      <td>0</td>\n",
       "      <td>0</td>\n",
       "      <td>0</td>\n",
       "      <td>0</td>\n",
       "      <td>0</td>\n",
       "      <td>0</td>\n",
       "      <td>0</td>\n",
       "      <td>0</td>\n",
       "    </tr>\n",
       "    <tr>\n",
       "      <th>3</th>\n",
       "      <td>1550</td>\n",
       "      <td>0</td>\n",
       "      <td>0</td>\n",
       "      <td>0</td>\n",
       "      <td>0</td>\n",
       "      <td>0</td>\n",
       "      <td>0</td>\n",
       "      <td>0</td>\n",
       "      <td>0</td>\n",
       "      <td>0</td>\n",
       "      <td>...</td>\n",
       "      <td>0</td>\n",
       "      <td>0</td>\n",
       "      <td>0</td>\n",
       "      <td>0</td>\n",
       "      <td>0</td>\n",
       "      <td>0</td>\n",
       "      <td>0</td>\n",
       "      <td>0</td>\n",
       "      <td>0</td>\n",
       "      <td>0</td>\n",
       "    </tr>\n",
       "    <tr>\n",
       "      <th>4</th>\n",
       "      <td>1502</td>\n",
       "      <td>0</td>\n",
       "      <td>0</td>\n",
       "      <td>0</td>\n",
       "      <td>0</td>\n",
       "      <td>0</td>\n",
       "      <td>0</td>\n",
       "      <td>0</td>\n",
       "      <td>0</td>\n",
       "      <td>0</td>\n",
       "      <td>...</td>\n",
       "      <td>0</td>\n",
       "      <td>0</td>\n",
       "      <td>0</td>\n",
       "      <td>0</td>\n",
       "      <td>0</td>\n",
       "      <td>0</td>\n",
       "      <td>0</td>\n",
       "      <td>0</td>\n",
       "      <td>0</td>\n",
       "      <td>0</td>\n",
       "    </tr>\n",
       "    <tr>\n",
       "      <th>5</th>\n",
       "      <td>1456</td>\n",
       "      <td>0</td>\n",
       "      <td>0</td>\n",
       "      <td>0</td>\n",
       "      <td>0</td>\n",
       "      <td>0</td>\n",
       "      <td>0</td>\n",
       "      <td>0</td>\n",
       "      <td>0</td>\n",
       "      <td>0</td>\n",
       "      <td>...</td>\n",
       "      <td>0</td>\n",
       "      <td>0</td>\n",
       "      <td>0</td>\n",
       "      <td>0</td>\n",
       "      <td>0</td>\n",
       "      <td>0</td>\n",
       "      <td>0</td>\n",
       "      <td>0</td>\n",
       "      <td>0</td>\n",
       "      <td>0</td>\n",
       "    </tr>\n",
       "  </tbody>\n",
       "</table>\n",
       "<p>5 rows × 3033 columns</p>\n",
       "</div>"
      ],
      "text/plain": [
       "   FLIGHT_NUMBER  AIRLINE_AA  AIRLINE_AS  AIRLINE_B6  AIRLINE_DL  AIRLINE_EV  \\\n",
       "0           1238           0           0           0           0           0   \n",
       "1           6134           0           0           0           0           1   \n",
       "3           1550           0           0           0           0           0   \n",
       "4           1502           0           0           0           0           0   \n",
       "5           1456           0           0           0           0           0   \n",
       "\n",
       "   AIRLINE_F9  AIRLINE_HA  AIRLINE_MQ  AIRLINE_NK  ...  \\\n",
       "0           0           0           0           0  ...   \n",
       "1           0           0           0           0  ...   \n",
       "3           0           0           0           0  ...   \n",
       "4           0           0           0           0  ...   \n",
       "5           0           0           0           0  ...   \n",
       "\n",
       "   DESTINATION_AIRPORT_SYR  DESTINATION_AIRPORT_TOL  DESTINATION_AIRPORT_TPA  \\\n",
       "0                        0                        0                        0   \n",
       "1                        0                        0                        0   \n",
       "3                        0                        0                        0   \n",
       "4                        0                        0                        0   \n",
       "5                        0                        0                        0   \n",
       "\n",
       "   DESTINATION_AIRPORT_TUL  DESTINATION_AIRPORT_TUS  DESTINATION_AIRPORT_TYS  \\\n",
       "0                        0                        0                        0   \n",
       "1                        0                        0                        0   \n",
       "3                        0                        0                        0   \n",
       "4                        0                        0                        0   \n",
       "5                        0                        0                        0   \n",
       "\n",
       "   DESTINATION_AIRPORT_UST  DESTINATION_AIRPORT_VPS  DESTINATION_AIRPORT_XNA  \\\n",
       "0                        0                        0                        0   \n",
       "1                        0                        0                        0   \n",
       "3                        0                        0                        0   \n",
       "4                        0                        0                        0   \n",
       "5                        0                        0                        0   \n",
       "\n",
       "   DESTINATION_AIRPORT_YUM  \n",
       "0                        0  \n",
       "1                        0  \n",
       "3                        0  \n",
       "4                        0  \n",
       "5                        0  \n",
       "\n",
       "[5 rows x 3033 columns]"
      ]
     },
     "execution_count": 17,
     "metadata": {},
     "output_type": "execute_result"
    }
   ],
   "source": [
    "\n",
    "one_hot_columns = pd.get_dummies(df_hdata[categorical_cols])\n",
    "one_hot_columns.head()"
   ]
  },
  {
   "cell_type": "code",
   "execution_count": 18,
   "id": "cf81aaf8",
   "metadata": {},
   "outputs": [],
   "source": [
    "X = pd.concat((df_hdata['DISTANCE'], one_hot_columns), axis=1)\n",
    "y = df_hdata['ARRIVAL_DELAY']"
   ]
  },
  {
   "cell_type": "code",
   "execution_count": 19,
   "id": "5ab08a47",
   "metadata": {},
   "outputs": [],
   "source": [
    "model = RandomForestRegressor()"
   ]
  },
  {
   "cell_type": "code",
   "execution_count": 20,
   "id": "9df2d6cb",
   "metadata": {},
   "outputs": [],
   "source": [
    "model.fit(X,y);"
   ]
  },
  {
   "cell_type": "code",
   "execution_count": 21,
   "id": "7a4b3038",
   "metadata": {},
   "outputs": [
    {
     "name": "stdout",
     "output_type": "stream",
     "text": [
      "delay 0 days 00:19:00\n"
     ]
    },
    {
     "data": {
      "text/plain": [
       "DISTANCE                    692\n",
       "FLIGHT_NUMBER              1408\n",
       "AIRLINE_WN                    1\n",
       "TAIL_NUMBER_N262WN            1\n",
       "ORIGIN_AIRPORT_MCI            1\n",
       "DESTINATION_AIRPORT_ATL       1\n",
       "Name: 531, dtype: int64"
      ]
     },
     "execution_count": 21,
     "metadata": {},
     "output_type": "execute_result"
    }
   ],
   "source": [
    "# Lets choose a data point\n",
    "test_flight = X.iloc[457]\n",
    "print('delay',y.iloc[457])\n",
    "test_flight[test_flight != 0]"
   ]
  },
  {
   "cell_type": "code",
   "execution_count": 22,
   "id": "f25cb24e",
   "metadata": {},
   "outputs": [
    {
     "name": "stdout",
     "output_type": "stream",
     "text": [
      "(Timedelta('0 days 00:20:16.200000'), Timedelta('0 days 00:19:00'))\n"
     ]
    }
   ],
   "source": [
    "# create a new point\n",
    "x_test = test_flight.values.reshape(1,-1)\n",
    "\n",
    "flightdelay = model.predict(x_test)[0]\n",
    "\n",
    "print((pd.to_timedelta(flightdelay), y.iloc[457]))\n"
   ]
  },
  {
   "cell_type": "code",
   "execution_count": 23,
   "id": "39b8a038",
   "metadata": {},
   "outputs": [
    {
     "data": {
      "text/plain": [
       "WN    672\n",
       "AA    492\n",
       "DL    457\n",
       "UA    329\n",
       "OO    270\n",
       "EV    212\n",
       "B6    164\n",
       "AS    109\n",
       "MQ     94\n",
       "NK     74\n",
       "F9     47\n",
       "VX     40\n",
       "HA     40\n",
       "Name: AIRLINE, dtype: int64"
      ]
     },
     "execution_count": 23,
     "metadata": {},
     "output_type": "execute_result"
    }
   ],
   "source": [
    "df_hdata['AIRLINE'].value_counts()"
   ]
  },
  {
   "cell_type": "code",
   "execution_count": 24,
   "id": "bab9e6ee",
   "metadata": {},
   "outputs": [],
   "source": [
    "import pandas as pd\n",
    "import numpy as np\n",
    "\n",
    "import matplotlib.pyplot as plt\n",
    "\n",
    "import seaborn as sns\n",
    "sns.set()\n",
    "\n",
    "%matplotlib inline"
   ]
  },
  {
   "cell_type": "code",
   "execution_count": 25,
   "id": "62e23c81",
   "metadata": {},
   "outputs": [
    {
     "data": {
      "image/png": "[encoded data removed]",
      "text/plain": [
       "<Figure size 432x288 with 1 Axes>"
      ]
     },
     "metadata": {
      "needs_background": "light"
     },
     "output_type": "display_data"
    }
   ],
   "source": [
    "df_hdata['ARRIVAL_DELAY'].plot();"
   ]
  },
  {
   "cell_type": "code",
   "execution_count": null,
   "id": "a5d3f52c",
   "metadata": {},
   "outputs": [
    {
     "name": "stderr",
     "output_type": "stream",
     "text": [
      "/Users/aertska/opt/anaconda3/lib/python3.8/site-packages/sklearn/linear_model/_logistic.py:763: ConvergenceWarning: lbfgs failed to converge (status=1):\n",
      "STOP: TOTAL NO. of ITERATIONS REACHED LIMIT.\n",
      "\n",
      "Increase the number of iterations (max_iter) or scale the data as shown in:\n",
      "    https://scikit-learn.org/stable/modules/preprocessing.html\n",
      "Please also refer to the documentation for alternative solver options:\n",
      "    https://scikit-learn.org/stable/modules/linear_model.html#logistic-regression\n",
      "  n_iter_i = _check_optimize_result(\n",
      "/Users/aertska/opt/anaconda3/lib/python3.8/site-packages/sklearn/linear_model/_logistic.py:763: ConvergenceWarning: lbfgs failed to converge (status=1):\n",
      "STOP: TOTAL NO. of ITERATIONS REACHED LIMIT.\n",
      "\n",
      "Increase the number of iterations (max_iter) or scale the data as shown in:\n",
      "    https://scikit-learn.org/stable/modules/preprocessing.html\n",
      "Please also refer to the documentation for alternative solver options:\n",
      "    https://scikit-learn.org/stable/modules/linear_model.html#logistic-regression\n",
      "  n_iter_i = _check_optimize_result(\n",
      "/Users/aertska/opt/anaconda3/lib/python3.8/site-packages/sklearn/linear_model/_logistic.py:763: ConvergenceWarning: lbfgs failed to converge (status=1):\n",
      "STOP: TOTAL NO. of ITERATIONS REACHED LIMIT.\n",
      "\n",
      "Increase the number of iterations (max_iter) or scale the data as shown in:\n",
      "    https://scikit-learn.org/stable/modules/preprocessing.html\n",
      "Please also refer to the documentation for alternative solver options:\n",
      "    https://scikit-learn.org/stable/modules/linear_model.html#logistic-regression\n",
      "  n_iter_i = _check_optimize_result(\n"
     ]
    }
   ],
   "source": [
    "# Compare Algorithms\n",
    "#https://machinelearningmastery.com/compare-machine-learning-algorithms-python-scikit-learn/\n",
    "import pandas\n",
    "import matplotlib.pyplot as plt\n",
    "from sklearn import model_selection\n",
    "from sklearn.linear_model import LogisticRegression\n",
    "from sklearn.tree import DecisionTreeClassifier\n",
    "from sklearn.neighbors import KNeighborsClassifier\n",
    "from sklearn.discriminant_analysis import LinearDiscriminantAnalysis\n",
    "from sklearn.naive_bayes import GaussianNB\n",
    "from sklearn.svm import SVC\n",
    "# load dataset\n",
    "dataframe=df_hdata\n",
    "array = dataframe.values\n",
    "X = pd.concat((df_hdata['DISTANCE'], one_hot_columns), axis=1)\n",
    "Y = df_hdata['ARRIVAL_DELAY']\n",
    "# prepare configuration for cross validation test harness\n",
    "#seed = 7\n",
    "# prepare models\n",
    "models = []\n",
    "models.append(('LR', LogisticRegression()))\n",
    "models.append(('LDA', LinearDiscriminantAnalysis()))\n",
    "models.append(('KNN', KNeighborsClassifier()))\n",
    "models.append(('CART', DecisionTreeClassifier()))\n",
    "models.append(('NB', GaussianNB()))\n",
    "models.append(('SVM', SVC()))\n",
    "# evaluate each model in turn\n",
    "results = []\n",
    "names = []\n",
    "scoring = 'accuracy'\n",
    "for name, model in models:\n",
    "\tkfold = model_selection.KFold(n_splits=10)\n",
    "\tcv_results = model_selection.cross_val_score(model, X, Y, cv=kfold, scoring=scoring)\n",
    "\tresults.append(cv_results)\n",
    "\tnames.append(name)\n",
    "\tmsg = \"%s: %f (%f)\" % (name, cv_results.mean(), cv_results.std())\n",
    "\tprint(msg)\n",
    "# boxplot algorithm comparison\n",
    "fig = plt.figure()\n",
    "fig.suptitle('Algorithm Comparison')\n",
    "ax = fig.add_subplot(111)\n",
    "plt.boxplot(results)\n",
    "ax.set_xticklabels(names)\n",
    "plt.show()"
   ]
  }
 ],
 "metadata": {
  "kernelspec": {
   "display_name": "Python 3",
   "language": "python",
   "name": "python3"
  },
  "language_info": {
   "codemirror_mode": {
    "name": "ipython",
    "version": 3
   },
   "file_extension": ".py",
   "mimetype": "text/x-python",
   "name": "python",
   "nbconvert_exporter": "python",
   "pygments_lexer": "ipython3",
   "version": "3.8.5"
  }
 },
 "nbformat": 4,
 "nbformat_minor": 5
}
