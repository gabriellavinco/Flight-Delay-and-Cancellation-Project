{
 "cells": [
  {
   "cell_type": "code",
   "execution_count": 36,
   "id": "83f0040f",
   "metadata": {},
   "outputs": [],
   "source": [
    "import csv\n",
    "import pandas as pd\n",
    "from sklearn.model_selection import train_test_split\n",
    "from sklearn.ensemble import RandomForestRegressor"
   ]
  },
  {
   "cell_type": "code",
   "execution_count": 37,
   "id": "838be211",
   "metadata": {},
   "outputs": [],
   "source": [
    "df_airports = pd.read_csv('airports.csv')"
   ]
  },
  {
   "cell_type": "code",
   "execution_count": 38,
   "id": "a181a08e",
   "metadata": {},
   "outputs": [],
   "source": [
    "df_airlines = pd.read_csv('airlines.csv')"
   ]
  },
  {
   "cell_type": "code",
   "execution_count": 39,
   "id": "5a343a13",
   "metadata": {},
   "outputs": [],
   "source": [
    "df_hdata = pd.read_csv('historic_data.csv', low_memory=False)"
   ]
  },
  {
   "cell_type": "code",
   "execution_count": 40,
   "id": "e1030933",
   "metadata": {},
   "outputs": [],
   "source": [
    "df_validate = pd.read_csv(\"future_data.csv\", low_memory=False)"
   ]
  },
  {
   "cell_type": "code",
   "execution_count": 41,
   "id": "61de7160",
   "metadata": {},
   "outputs": [],
   "source": [
    "df_hdata['SCHEDULED_DEPARTURE'] = pd.to_datetime(df_hdata['SCHEDULED_DEPARTURE'], \n",
    "                            format='%Y-%m-%d', \n",
    "                            errors='coerce')\n",
    "df_hdata['DEPARTURE_TIME'] = pd.to_timedelta(df_hdata['DEPARTURE_TIME'], \n",
    "                            errors='coerce')\n",
    "df_hdata['SCHEDULED_ARRIVAL'] = pd.to_timedelta(df_hdata['SCHEDULED_ARRIVAL'], \n",
    "                            errors='coerce')\n",
    "df_hdata['ARRIVAL_TIME'] = pd.to_timedelta(df_hdata['ARRIVAL_TIME'], \n",
    "                            errors='coerce')\n",
    "df_hdata['SCHEDULED_TIME'] = pd.to_timedelta(df_hdata['SCHEDULED_TIME'], \n",
    "                            errors='coerce')"
   ]
  },
  {
   "cell_type": "code",
   "execution_count": 42,
   "id": "9b9811c2",
   "metadata": {},
   "outputs": [],
   "source": [
    "import matplotlib.pyplot as plt"
   ]
  },
  {
   "cell_type": "code",
   "execution_count": 43,
   "id": "714cf148",
   "metadata": {},
   "outputs": [
    {
     "data": {
      "text/html": [
       "<div>\n",
       "<style scoped>\n",
       "    .dataframe tbody tr th:only-of-type {\n",
       "        vertical-align: middle;\n",
       "    }\n",
       "\n",
       "    .dataframe tbody tr th {\n",
       "        vertical-align: top;\n",
       "    }\n",
       "\n",
       "    .dataframe thead th {\n",
       "        text-align: right;\n",
       "    }\n",
       "</style>\n",
       "<table border=\"1\" class=\"dataframe\">\n",
       "  <thead>\n",
       "    <tr style=\"text-align: right;\">\n",
       "      <th></th>\n",
       "      <th>SCHEDULED_DEPARTURE</th>\n",
       "      <th>DEPARTURE_TIME</th>\n",
       "      <th>SCHEDULED_ARRIVAL</th>\n",
       "      <th>ARRIVAL_TIME</th>\n",
       "      <th>AIRLINE</th>\n",
       "      <th>FLIGHT_NUMBER</th>\n",
       "      <th>TAIL_NUMBER</th>\n",
       "      <th>ORIGIN_AIRPORT</th>\n",
       "      <th>DESTINATION_AIRPORT</th>\n",
       "      <th>DEPARTURE_DELAY</th>\n",
       "      <th>...</th>\n",
       "      <th>DISTANCE</th>\n",
       "      <th>WHEELS_ON</th>\n",
       "      <th>TAXI_IN</th>\n",
       "      <th>CANCELLED</th>\n",
       "      <th>CANCELLATION_REASON</th>\n",
       "      <th>AIR_SYSTEM_DELAY</th>\n",
       "      <th>SECURITY_DELAY</th>\n",
       "      <th>AIRLINE_DELAY</th>\n",
       "      <th>LATE_AIRCRAFT_DELAY</th>\n",
       "      <th>WEATHER_DELAY</th>\n",
       "    </tr>\n",
       "  </thead>\n",
       "  <tbody>\n",
       "    <tr>\n",
       "      <th>2</th>\n",
       "      <td>2019-03-01 00:01:00</td>\n",
       "      <td>NaT</td>\n",
       "      <td>0 days 01:53:00</td>\n",
       "      <td>NaT</td>\n",
       "      <td>EV</td>\n",
       "      <td>4682</td>\n",
       "      <td>N15910</td>\n",
       "      <td>ORD</td>\n",
       "      <td>BHM</td>\n",
       "      <td>NaN</td>\n",
       "      <td>...</td>\n",
       "      <td>584</td>\n",
       "      <td>NaN</td>\n",
       "      <td>NaN</td>\n",
       "      <td>1</td>\n",
       "      <td>B</td>\n",
       "      <td>NaN</td>\n",
       "      <td>NaN</td>\n",
       "      <td>NaN</td>\n",
       "      <td>NaN</td>\n",
       "      <td>NaN</td>\n",
       "    </tr>\n",
       "    <tr>\n",
       "      <th>24</th>\n",
       "      <td>2019-03-01 00:07:00</td>\n",
       "      <td>0 days</td>\n",
       "      <td>0 days 02:35:00</td>\n",
       "      <td>NaT</td>\n",
       "      <td>OO</td>\n",
       "      <td>6315</td>\n",
       "      <td>N745SK</td>\n",
       "      <td>DEN</td>\n",
       "      <td>ICT</td>\n",
       "      <td>-7.0</td>\n",
       "      <td>...</td>\n",
       "      <td>420</td>\n",
       "      <td>NaN</td>\n",
       "      <td>NaN</td>\n",
       "      <td>1</td>\n",
       "      <td>B</td>\n",
       "      <td>NaN</td>\n",
       "      <td>NaN</td>\n",
       "      <td>NaN</td>\n",
       "      <td>NaN</td>\n",
       "      <td>NaN</td>\n",
       "    </tr>\n",
       "    <tr>\n",
       "      <th>29</th>\n",
       "      <td>2019-03-01 00:08:00</td>\n",
       "      <td>NaT</td>\n",
       "      <td>0 days 02:39:00</td>\n",
       "      <td>NaT</td>\n",
       "      <td>OO</td>\n",
       "      <td>6378</td>\n",
       "      <td>N957SW</td>\n",
       "      <td>DEN</td>\n",
       "      <td>LBB</td>\n",
       "      <td>NaN</td>\n",
       "      <td>...</td>\n",
       "      <td>456</td>\n",
       "      <td>NaN</td>\n",
       "      <td>NaN</td>\n",
       "      <td>1</td>\n",
       "      <td>B</td>\n",
       "      <td>NaN</td>\n",
       "      <td>NaN</td>\n",
       "      <td>NaN</td>\n",
       "      <td>NaN</td>\n",
       "      <td>NaN</td>\n",
       "    </tr>\n",
       "    <tr>\n",
       "      <th>37</th>\n",
       "      <td>2019-03-01 00:11:00</td>\n",
       "      <td>NaT</td>\n",
       "      <td>0 days 02:59:00</td>\n",
       "      <td>NaT</td>\n",
       "      <td>UA</td>\n",
       "      <td>1881</td>\n",
       "      <td>NaN</td>\n",
       "      <td>ORD</td>\n",
       "      <td>IAD</td>\n",
       "      <td>NaN</td>\n",
       "      <td>...</td>\n",
       "      <td>588</td>\n",
       "      <td>NaN</td>\n",
       "      <td>NaN</td>\n",
       "      <td>1</td>\n",
       "      <td>A</td>\n",
       "      <td>NaN</td>\n",
       "      <td>NaN</td>\n",
       "      <td>NaN</td>\n",
       "      <td>NaN</td>\n",
       "      <td>NaN</td>\n",
       "    </tr>\n",
       "    <tr>\n",
       "      <th>38</th>\n",
       "      <td>2019-03-01 00:11:00</td>\n",
       "      <td>NaT</td>\n",
       "      <td>0 days 03:38:00</td>\n",
       "      <td>NaT</td>\n",
       "      <td>UA</td>\n",
       "      <td>1489</td>\n",
       "      <td>NaN</td>\n",
       "      <td>DEN</td>\n",
       "      <td>MEM</td>\n",
       "      <td>NaN</td>\n",
       "      <td>...</td>\n",
       "      <td>872</td>\n",
       "      <td>NaN</td>\n",
       "      <td>NaN</td>\n",
       "      <td>1</td>\n",
       "      <td>B</td>\n",
       "      <td>NaN</td>\n",
       "      <td>NaN</td>\n",
       "      <td>NaN</td>\n",
       "      <td>NaN</td>\n",
       "      <td>NaN</td>\n",
       "    </tr>\n",
       "    <tr>\n",
       "      <th>...</th>\n",
       "      <td>...</td>\n",
       "      <td>...</td>\n",
       "      <td>...</td>\n",
       "      <td>...</td>\n",
       "      <td>...</td>\n",
       "      <td>...</td>\n",
       "      <td>...</td>\n",
       "      <td>...</td>\n",
       "      <td>...</td>\n",
       "      <td>...</td>\n",
       "      <td>...</td>\n",
       "      <td>...</td>\n",
       "      <td>...</td>\n",
       "      <td>...</td>\n",
       "      <td>...</td>\n",
       "      <td>...</td>\n",
       "      <td>...</td>\n",
       "      <td>...</td>\n",
       "      <td>...</td>\n",
       "      <td>...</td>\n",
       "      <td>...</td>\n",
       "    </tr>\n",
       "    <tr>\n",
       "      <th>2458496</th>\n",
       "      <td>2019-07-31 22:59:00</td>\n",
       "      <td>NaT</td>\n",
       "      <td>0 days 00:25:00</td>\n",
       "      <td>NaT</td>\n",
       "      <td>B6</td>\n",
       "      <td>2002</td>\n",
       "      <td>N565JB</td>\n",
       "      <td>JFK</td>\n",
       "      <td>BUF</td>\n",
       "      <td>NaN</td>\n",
       "      <td>...</td>\n",
       "      <td>301</td>\n",
       "      <td>NaN</td>\n",
       "      <td>NaN</td>\n",
       "      <td>1</td>\n",
       "      <td>C</td>\n",
       "      <td>NaN</td>\n",
       "      <td>NaN</td>\n",
       "      <td>NaN</td>\n",
       "      <td>NaN</td>\n",
       "      <td>NaN</td>\n",
       "    </tr>\n",
       "    <tr>\n",
       "      <th>2458519</th>\n",
       "      <td>2019-07-31 23:06:00</td>\n",
       "      <td>NaT</td>\n",
       "      <td>0 days 07:40:00</td>\n",
       "      <td>NaT</td>\n",
       "      <td>B6</td>\n",
       "      <td>670</td>\n",
       "      <td>N612JB</td>\n",
       "      <td>SJC</td>\n",
       "      <td>JFK</td>\n",
       "      <td>NaN</td>\n",
       "      <td>...</td>\n",
       "      <td>2569</td>\n",
       "      <td>NaN</td>\n",
       "      <td>NaN</td>\n",
       "      <td>1</td>\n",
       "      <td>B</td>\n",
       "      <td>NaN</td>\n",
       "      <td>NaN</td>\n",
       "      <td>NaN</td>\n",
       "      <td>NaN</td>\n",
       "      <td>NaN</td>\n",
       "    </tr>\n",
       "    <tr>\n",
       "      <th>2458520</th>\n",
       "      <td>2019-07-31 23:09:00</td>\n",
       "      <td>NaT</td>\n",
       "      <td>0 days 05:00:00</td>\n",
       "      <td>NaT</td>\n",
       "      <td>B6</td>\n",
       "      <td>994</td>\n",
       "      <td>N595JB</td>\n",
       "      <td>DEN</td>\n",
       "      <td>BOS</td>\n",
       "      <td>NaN</td>\n",
       "      <td>...</td>\n",
       "      <td>1754</td>\n",
       "      <td>NaN</td>\n",
       "      <td>NaN</td>\n",
       "      <td>1</td>\n",
       "      <td>C</td>\n",
       "      <td>NaN</td>\n",
       "      <td>NaN</td>\n",
       "      <td>NaN</td>\n",
       "      <td>NaN</td>\n",
       "      <td>NaN</td>\n",
       "    </tr>\n",
       "    <tr>\n",
       "      <th>2458558</th>\n",
       "      <td>2019-07-31 23:29:00</td>\n",
       "      <td>NaT</td>\n",
       "      <td>0 days 02:16:00</td>\n",
       "      <td>NaT</td>\n",
       "      <td>B6</td>\n",
       "      <td>551</td>\n",
       "      <td>N589JB</td>\n",
       "      <td>TPA</td>\n",
       "      <td>SJU</td>\n",
       "      <td>NaN</td>\n",
       "      <td>...</td>\n",
       "      <td>1237</td>\n",
       "      <td>NaN</td>\n",
       "      <td>NaN</td>\n",
       "      <td>1</td>\n",
       "      <td>A</td>\n",
       "      <td>NaN</td>\n",
       "      <td>NaN</td>\n",
       "      <td>NaN</td>\n",
       "      <td>NaN</td>\n",
       "      <td>NaN</td>\n",
       "    </tr>\n",
       "    <tr>\n",
       "      <th>2458597</th>\n",
       "      <td>2019-07-31 23:55:00</td>\n",
       "      <td>NaT</td>\n",
       "      <td>0 days 05:45:00</td>\n",
       "      <td>NaT</td>\n",
       "      <td>NK</td>\n",
       "      <td>654</td>\n",
       "      <td>N519NK</td>\n",
       "      <td>PDX</td>\n",
       "      <td>ORD</td>\n",
       "      <td>NaN</td>\n",
       "      <td>...</td>\n",
       "      <td>1739</td>\n",
       "      <td>NaN</td>\n",
       "      <td>NaN</td>\n",
       "      <td>1</td>\n",
       "      <td>A</td>\n",
       "      <td>NaN</td>\n",
       "      <td>NaN</td>\n",
       "      <td>NaN</td>\n",
       "      <td>NaN</td>\n",
       "      <td>NaN</td>\n",
       "    </tr>\n",
       "  </tbody>\n",
       "</table>\n",
       "<p>32528 rows × 25 columns</p>\n",
       "</div>"
      ],
      "text/plain": [
       "        SCHEDULED_DEPARTURE DEPARTURE_TIME SCHEDULED_ARRIVAL ARRIVAL_TIME  \\\n",
       "2       2019-03-01 00:01:00            NaT   0 days 01:53:00          NaT   \n",
       "24      2019-03-01 00:07:00         0 days   0 days 02:35:00          NaT   \n",
       "29      2019-03-01 00:08:00            NaT   0 days 02:39:00          NaT   \n",
       "37      2019-03-01 00:11:00            NaT   0 days 02:59:00          NaT   \n",
       "38      2019-03-01 00:11:00            NaT   0 days 03:38:00          NaT   \n",
       "...                     ...            ...               ...          ...   \n",
       "2458496 2019-07-31 22:59:00            NaT   0 days 00:25:00          NaT   \n",
       "2458519 2019-07-31 23:06:00            NaT   0 days 07:40:00          NaT   \n",
       "2458520 2019-07-31 23:09:00            NaT   0 days 05:00:00          NaT   \n",
       "2458558 2019-07-31 23:29:00            NaT   0 days 02:16:00          NaT   \n",
       "2458597 2019-07-31 23:55:00            NaT   0 days 05:45:00          NaT   \n",
       "\n",
       "        AIRLINE  FLIGHT_NUMBER TAIL_NUMBER ORIGIN_AIRPORT DESTINATION_AIRPORT  \\\n",
       "2            EV           4682      N15910            ORD                 BHM   \n",
       "24           OO           6315      N745SK            DEN                 ICT   \n",
       "29           OO           6378      N957SW            DEN                 LBB   \n",
       "37           UA           1881         NaN            ORD                 IAD   \n",
       "38           UA           1489         NaN            DEN                 MEM   \n",
       "...         ...            ...         ...            ...                 ...   \n",
       "2458496      B6           2002      N565JB            JFK                 BUF   \n",
       "2458519      B6            670      N612JB            SJC                 JFK   \n",
       "2458520      B6            994      N595JB            DEN                 BOS   \n",
       "2458558      B6            551      N589JB            TPA                 SJU   \n",
       "2458597      NK            654      N519NK            PDX                 ORD   \n",
       "\n",
       "         DEPARTURE_DELAY  ...  DISTANCE  WHEELS_ON TAXI_IN  CANCELLED  \\\n",
       "2                    NaN  ...       584        NaN     NaN          1   \n",
       "24                  -7.0  ...       420        NaN     NaN          1   \n",
       "29                   NaN  ...       456        NaN     NaN          1   \n",
       "37                   NaN  ...       588        NaN     NaN          1   \n",
       "38                   NaN  ...       872        NaN     NaN          1   \n",
       "...                  ...  ...       ...        ...     ...        ...   \n",
       "2458496              NaN  ...       301        NaN     NaN          1   \n",
       "2458519              NaN  ...      2569        NaN     NaN          1   \n",
       "2458520              NaN  ...      1754        NaN     NaN          1   \n",
       "2458558              NaN  ...      1237        NaN     NaN          1   \n",
       "2458597              NaN  ...      1739        NaN     NaN          1   \n",
       "\n",
       "         CANCELLATION_REASON  AIR_SYSTEM_DELAY  SECURITY_DELAY  AIRLINE_DELAY  \\\n",
       "2                          B               NaN             NaN            NaN   \n",
       "24                         B               NaN             NaN            NaN   \n",
       "29                         B               NaN             NaN            NaN   \n",
       "37                         A               NaN             NaN            NaN   \n",
       "38                         B               NaN             NaN            NaN   \n",
       "...                      ...               ...             ...            ...   \n",
       "2458496                    C               NaN             NaN            NaN   \n",
       "2458519                    B               NaN             NaN            NaN   \n",
       "2458520                    C               NaN             NaN            NaN   \n",
       "2458558                    A               NaN             NaN            NaN   \n",
       "2458597                    A               NaN             NaN            NaN   \n",
       "\n",
       "         LATE_AIRCRAFT_DELAY WEATHER_DELAY  \n",
       "2                        NaN           NaN  \n",
       "24                       NaN           NaN  \n",
       "29                       NaN           NaN  \n",
       "37                       NaN           NaN  \n",
       "38                       NaN           NaN  \n",
       "...                      ...           ...  \n",
       "2458496                  NaN           NaN  \n",
       "2458519                  NaN           NaN  \n",
       "2458520                  NaN           NaN  \n",
       "2458558                  NaN           NaN  \n",
       "2458597                  NaN           NaN  \n",
       "\n",
       "[32528 rows x 25 columns]"
      ]
     },
     "execution_count": 43,
     "metadata": {},
     "output_type": "execute_result"
    }
   ],
   "source": [
    "df_hdata[df_hdata.CANCELLED ==1]"
   ]
  },
  {
   "cell_type": "code",
   "execution_count": 45,
   "id": "812fafb1",
   "metadata": {
    "scrolled": true
   },
   "outputs": [
    {
     "data": {
      "text/plain": [
       "AIRLINE\n",
       "WN    6508\n",
       "EV    5811\n",
       "MQ    4686\n",
       "OO    4623\n",
       "AA    4043\n",
       "dtype: int64"
      ]
     },
     "execution_count": 45,
     "metadata": {},
     "output_type": "execute_result"
    }
   ],
   "source": [
    "df_hdata[df_hdata['CANCELLED'] ==1].groupby('AIRLINE').size().nlargest(5)"
   ]
  },
  {
   "cell_type": "code",
   "execution_count": 51,
   "id": "bda5428a",
   "metadata": {},
   "outputs": [],
   "source": [
    "delay = df_hdata[df_hdata['ARRIVAL_TIME'].notnull()]"
   ]
  },
  {
   "cell_type": "code",
   "execution_count": 52,
   "id": "696e5fee",
   "metadata": {},
   "outputs": [
    {
     "data": {
      "text/plain": [
       "AIRLINE\n",
       "WN    529941\n",
       "DL    375048\n",
       "AA    314913\n",
       "OO    242845\n",
       "EV    227583\n",
       "dtype: int64"
      ]
     },
     "execution_count": 52,
     "metadata": {},
     "output_type": "execute_result"
    }
   ],
   "source": [
    "delay[delay['ARRIVAL_TIME'] > delay['SCHEDULED_TIME']].groupby('AIRLINE').size().nlargest(5)"
   ]
  },
  {
   "cell_type": "code",
   "execution_count": 29,
   "id": "df61eb86",
   "metadata": {},
   "outputs": [
    {
     "ename": "NameError",
     "evalue": "name 'count' is not defined",
     "output_type": "error",
     "traceback": [
      "\u001b[0;31m---------------------------------------------------------------------------\u001b[0m",
      "\u001b[0;31mNameError\u001b[0m                                 Traceback (most recent call last)",
      "Input \u001b[0;32mIn [29]\u001b[0m, in \u001b[0;36m<cell line: 1>\u001b[0;34m()\u001b[0m\n\u001b[0;32m----> 1\u001b[0m plt\u001b[38;5;241m.\u001b[39mbar(df_hdata[\u001b[38;5;124m'\u001b[39m\u001b[38;5;124mAIRLINE\u001b[39m\u001b[38;5;124m'\u001b[39m], \u001b[43mcount\u001b[49m(df_hdata[\u001b[38;5;124m'\u001b[39m\u001b[38;5;124mCANCELLED\u001b[39m\u001b[38;5;124m'\u001b[39m]))\n",
      "\u001b[0;31mNameError\u001b[0m: name 'count' is not defined"
     ]
    }
   ],
   "source": [
    "plt.bar(df_hdata['AIRLINE'], count(df_hdata['CANCELLED']))"
   ]
  },
  {
   "cell_type": "code",
   "execution_count": null,
   "id": "2bcce5ce",
   "metadata": {},
   "outputs": [],
   "source": []
  },
  {
   "cell_type": "code",
   "execution_count": null,
   "id": "b64669f5",
   "metadata": {},
   "outputs": [],
   "source": []
  },
  {
   "cell_type": "code",
   "execution_count": null,
   "id": "cf5112c8",
   "metadata": {},
   "outputs": [],
   "source": []
  },
  {
   "cell_type": "code",
   "execution_count": null,
   "id": "4647cd9e",
   "metadata": {},
   "outputs": [],
   "source": []
  },
  {
   "cell_type": "code",
   "execution_count": 7,
   "id": "bfef9539",
   "metadata": {},
   "outputs": [],
   "source": [
    "#dropping the rows with cancelled flights\n",
    "df_hdata=df_hdata[df_hdata.CANCELLED ==0]"
   ]
  },
  {
   "cell_type": "code",
   "execution_count": 8,
   "id": "aba1c15c",
   "metadata": {},
   "outputs": [],
   "source": [
    "df_hdata=df_hdata.drop(columns=['DEPARTURE_TIME', 'DEPARTURE_DELAY', 'CANCELLED', 'CANCELLATION_REASON', 'TAXI_OUT', 'WHEELS_OFF', 'ELAPSED_TIME', 'AIR_TIME','WHEELS_ON', 'TAXI_IN', 'AIR_SYSTEM_DELAY', 'SECURITY_DELAY', 'AIRLINE_DELAY', 'LATE_AIRCRAFT_DELAY', 'WEATHER_DELAY'])"
   ]
  },
  {
   "cell_type": "code",
   "execution_count": 9,
   "id": "9eb5ec45",
   "metadata": {},
   "outputs": [],
   "source": [
    "df_hdata=df_hdata.dropna(subset=['ARRIVAL_TIME'])"
   ]
  },
  {
   "cell_type": "code",
   "execution_count": 10,
   "id": "1210264b",
   "metadata": {},
   "outputs": [
    {
     "data": {
      "text/plain": [
       "SCHEDULED_DEPARTURE    0\n",
       "SCHEDULED_ARRIVAL      0\n",
       "ARRIVAL_TIME           0\n",
       "AIRLINE                0\n",
       "FLIGHT_NUMBER          0\n",
       "TAIL_NUMBER            0\n",
       "ORIGIN_AIRPORT         0\n",
       "DESTINATION_AIRPORT    0\n",
       "SCHEDULED_TIME         0\n",
       "DISTANCE               0\n",
       "dtype: int64"
      ]
     },
     "execution_count": 10,
     "metadata": {},
     "output_type": "execute_result"
    }
   ],
   "source": [
    "df_hdata.isna().sum()"
   ]
  },
  {
   "cell_type": "code",
   "execution_count": 11,
   "id": "544b83f8",
   "metadata": {},
   "outputs": [],
   "source": [
    "Y = df_hdata['ARRIVAL_TIME']\n",
    "X = df_hdata.loc[:, df_hdata.columns!='ARRIVAL_TIME']"
   ]
  },
  {
   "cell_type": "code",
   "execution_count": 12,
   "id": "5344a9f4",
   "metadata": {},
   "outputs": [],
   "source": [
    "X_train, X_test, y_train, y_test = train_test_split(X, Y, test_size=0.2)\n"
   ]
  },
  {
   "cell_type": "code",
   "execution_count": 13,
   "id": "1b5d0862",
   "metadata": {},
   "outputs": [],
   "source": [
    "categorical_cols = ['AIRLINE', 'FLIGHT_NUMBER', 'TAIL_NUMBER', 'ORIGIN_AIRPORT', 'DESTINATION_AIRPORT']"
   ]
  },
  {
   "cell_type": "code",
   "execution_count": 20,
   "id": "d2c323d8",
   "metadata": {},
   "outputs": [
    {
     "data": {
      "text/html": [
       "<div>\n",
       "<style scoped>\n",
       "    .dataframe tbody tr th:only-of-type {\n",
       "        vertical-align: middle;\n",
       "    }\n",
       "\n",
       "    .dataframe tbody tr th {\n",
       "        vertical-align: top;\n",
       "    }\n",
       "\n",
       "    .dataframe thead th {\n",
       "        text-align: right;\n",
       "    }\n",
       "</style>\n",
       "<table border=\"1\" class=\"dataframe\">\n",
       "  <thead>\n",
       "    <tr style=\"text-align: right;\">\n",
       "      <th></th>\n",
       "      <th>SCHEDULED_DEPARTURE</th>\n",
       "      <th>SCHEDULED_ARRIVAL</th>\n",
       "      <th>AIRLINE</th>\n",
       "      <th>FLIGHT_NUMBER</th>\n",
       "      <th>TAIL_NUMBER</th>\n",
       "      <th>ORIGIN_AIRPORT</th>\n",
       "      <th>DESTINATION_AIRPORT</th>\n",
       "      <th>SCHEDULED_TIME</th>\n",
       "      <th>DISTANCE</th>\n",
       "    </tr>\n",
       "  </thead>\n",
       "  <tbody>\n",
       "    <tr>\n",
       "      <th>1598366</th>\n",
       "      <td>2019-06-09 12:56:00</td>\n",
       "      <td>0 days 15:53:00</td>\n",
       "      <td>AA</td>\n",
       "      <td>372</td>\n",
       "      <td>N566AA</td>\n",
       "      <td>DEN</td>\n",
       "      <td>DFW</td>\n",
       "      <td>0 days 00:00:00.000000117</td>\n",
       "      <td>641</td>\n",
       "    </tr>\n",
       "    <tr>\n",
       "      <th>7080</th>\n",
       "      <td>2019-03-01 12:15:00</td>\n",
       "      <td>0 days 13:25:00</td>\n",
       "      <td>WN</td>\n",
       "      <td>967</td>\n",
       "      <td>N734SA</td>\n",
       "      <td>BUR</td>\n",
       "      <td>OAK</td>\n",
       "      <td>0 days 00:00:00.000000070</td>\n",
       "      <td>325</td>\n",
       "    </tr>\n",
       "    <tr>\n",
       "      <th>1505315</th>\n",
       "      <td>2019-06-03 18:48:00</td>\n",
       "      <td>0 days 21:19:00</td>\n",
       "      <td>OO</td>\n",
       "      <td>2792</td>\n",
       "      <td>N907SW</td>\n",
       "      <td>PHX</td>\n",
       "      <td>GJT</td>\n",
       "      <td>0 days 00:00:00.000000091</td>\n",
       "      <td>438</td>\n",
       "    </tr>\n",
       "    <tr>\n",
       "      <th>1833593</th>\n",
       "      <td>2019-06-23 14:40:00</td>\n",
       "      <td>0 days 15:25:00</td>\n",
       "      <td>WN</td>\n",
       "      <td>227</td>\n",
       "      <td>N419WN</td>\n",
       "      <td>GSP</td>\n",
       "      <td>MDW</td>\n",
       "      <td>0 days 00:00:00.000000105</td>\n",
       "      <td>562</td>\n",
       "    </tr>\n",
       "    <tr>\n",
       "      <th>969587</th>\n",
       "      <td>2019-05-02 10:55:00</td>\n",
       "      <td>0 days 12:45:00</td>\n",
       "      <td>WN</td>\n",
       "      <td>3439</td>\n",
       "      <td>N456WN</td>\n",
       "      <td>ABQ</td>\n",
       "      <td>PDX</td>\n",
       "      <td>0 days 00:00:00.000000170</td>\n",
       "      <td>1111</td>\n",
       "    </tr>\n",
       "    <tr>\n",
       "      <th>...</th>\n",
       "      <td>...</td>\n",
       "      <td>...</td>\n",
       "      <td>...</td>\n",
       "      <td>...</td>\n",
       "      <td>...</td>\n",
       "      <td>...</td>\n",
       "      <td>...</td>\n",
       "      <td>...</td>\n",
       "      <td>...</td>\n",
       "    </tr>\n",
       "    <tr>\n",
       "      <th>997663</th>\n",
       "      <td>2019-05-04 07:00:00</td>\n",
       "      <td>0 days 09:41:00</td>\n",
       "      <td>EV</td>\n",
       "      <td>3843</td>\n",
       "      <td>N15912</td>\n",
       "      <td>ORD</td>\n",
       "      <td>ROC</td>\n",
       "      <td>0 days 00:00:00.000000101</td>\n",
       "      <td>528</td>\n",
       "    </tr>\n",
       "    <tr>\n",
       "      <th>865604</th>\n",
       "      <td>2019-04-26 06:40:00</td>\n",
       "      <td>0 days 09:05:00</td>\n",
       "      <td>DL</td>\n",
       "      <td>2050</td>\n",
       "      <td>N823DN</td>\n",
       "      <td>ORD</td>\n",
       "      <td>DTW</td>\n",
       "      <td>0 days 00:00:00.000000085</td>\n",
       "      <td>235</td>\n",
       "    </tr>\n",
       "    <tr>\n",
       "      <th>375148</th>\n",
       "      <td>2019-03-25 06:50:00</td>\n",
       "      <td>0 days 08:00:00</td>\n",
       "      <td>WN</td>\n",
       "      <td>2854</td>\n",
       "      <td>N8657B</td>\n",
       "      <td>MCI</td>\n",
       "      <td>LAS</td>\n",
       "      <td>0 days 00:00:00.000000190</td>\n",
       "      <td>1139</td>\n",
       "    </tr>\n",
       "    <tr>\n",
       "      <th>1763776</th>\n",
       "      <td>2019-06-19 11:45:00</td>\n",
       "      <td>0 days 13:05:00</td>\n",
       "      <td>AS</td>\n",
       "      <td>55</td>\n",
       "      <td>N768AS</td>\n",
       "      <td>BRW</td>\n",
       "      <td>FAI</td>\n",
       "      <td>0 days 00:00:00.000000080</td>\n",
       "      <td>503</td>\n",
       "    </tr>\n",
       "    <tr>\n",
       "      <th>2406816</th>\n",
       "      <td>2019-07-28 16:47:00</td>\n",
       "      <td>0 days 19:29:00</td>\n",
       "      <td>DL</td>\n",
       "      <td>1374</td>\n",
       "      <td>N362NW</td>\n",
       "      <td>OAK</td>\n",
       "      <td>SLC</td>\n",
       "      <td>0 days 00:00:00.000000102</td>\n",
       "      <td>588</td>\n",
       "    </tr>\n",
       "  </tbody>\n",
       "</table>\n",
       "<p>1939864 rows × 9 columns</p>\n",
       "</div>"
      ],
      "text/plain": [
       "        SCHEDULED_DEPARTURE SCHEDULED_ARRIVAL AIRLINE  FLIGHT_NUMBER  \\\n",
       "1598366 2019-06-09 12:56:00   0 days 15:53:00      AA            372   \n",
       "7080    2019-03-01 12:15:00   0 days 13:25:00      WN            967   \n",
       "1505315 2019-06-03 18:48:00   0 days 21:19:00      OO           2792   \n",
       "1833593 2019-06-23 14:40:00   0 days 15:25:00      WN            227   \n",
       "969587  2019-05-02 10:55:00   0 days 12:45:00      WN           3439   \n",
       "...                     ...               ...     ...            ...   \n",
       "997663  2019-05-04 07:00:00   0 days 09:41:00      EV           3843   \n",
       "865604  2019-04-26 06:40:00   0 days 09:05:00      DL           2050   \n",
       "375148  2019-03-25 06:50:00   0 days 08:00:00      WN           2854   \n",
       "1763776 2019-06-19 11:45:00   0 days 13:05:00      AS             55   \n",
       "2406816 2019-07-28 16:47:00   0 days 19:29:00      DL           1374   \n",
       "\n",
       "        TAIL_NUMBER ORIGIN_AIRPORT DESTINATION_AIRPORT  \\\n",
       "1598366      N566AA            DEN                 DFW   \n",
       "7080         N734SA            BUR                 OAK   \n",
       "1505315      N907SW            PHX                 GJT   \n",
       "1833593      N419WN            GSP                 MDW   \n",
       "969587       N456WN            ABQ                 PDX   \n",
       "...             ...            ...                 ...   \n",
       "997663       N15912            ORD                 ROC   \n",
       "865604       N823DN            ORD                 DTW   \n",
       "375148       N8657B            MCI                 LAS   \n",
       "1763776      N768AS            BRW                 FAI   \n",
       "2406816      N362NW            OAK                 SLC   \n",
       "\n",
       "                   SCHEDULED_TIME  DISTANCE  \n",
       "1598366 0 days 00:00:00.000000117       641  \n",
       "7080    0 days 00:00:00.000000070       325  \n",
       "1505315 0 days 00:00:00.000000091       438  \n",
       "1833593 0 days 00:00:00.000000105       562  \n",
       "969587  0 days 00:00:00.000000170      1111  \n",
       "...                           ...       ...  \n",
       "997663  0 days 00:00:00.000000101       528  \n",
       "865604  0 days 00:00:00.000000085       235  \n",
       "375148  0 days 00:00:00.000000190      1139  \n",
       "1763776 0 days 00:00:00.000000080       503  \n",
       "2406816 0 days 00:00:00.000000102       588  \n",
       "\n",
       "[1939864 rows x 9 columns]"
      ]
     },
     "execution_count": 20,
     "metadata": {},
     "output_type": "execute_result"
    }
   ],
   "source": [
    "X_train"
   ]
  },
  {
   "cell_type": "code",
   "execution_count": 14,
   "id": "9e105635",
   "metadata": {},
   "outputs": [
    {
     "ename": "MemoryError",
     "evalue": "Unable to allocate 8.52 GiB for an array with shape (4718, 1939864) and data type uint8",
     "output_type": "error",
     "traceback": [
      "\u001b[0;31m---------------------------------------------------------------------------\u001b[0m",
      "\u001b[0;31mMemoryError\u001b[0m                               Traceback (most recent call last)",
      "Input \u001b[0;32mIn [14]\u001b[0m, in \u001b[0;36m<cell line: 1>\u001b[0;34m()\u001b[0m\n\u001b[0;32m----> 1\u001b[0m one_hot_columns \u001b[38;5;241m=\u001b[39m \u001b[43mpd\u001b[49m\u001b[38;5;241;43m.\u001b[39;49m\u001b[43mget_dummies\u001b[49m\u001b[43m(\u001b[49m\u001b[43mX_train\u001b[49m\u001b[43m[\u001b[49m\u001b[43mcategorical_cols\u001b[49m\u001b[43m]\u001b[49m\u001b[43m)\u001b[49m\n\u001b[1;32m      2\u001b[0m one_hot_columns\u001b[38;5;241m.\u001b[39mhead()\n",
      "File \u001b[0;32m~/venv1/lib/python3.8/site-packages/pandas/core/reshape/reshape.py:977\u001b[0m, in \u001b[0;36mget_dummies\u001b[0;34m(data, prefix, prefix_sep, dummy_na, columns, sparse, drop_first, dtype)\u001b[0m\n\u001b[1;32m    973\u001b[0m     with_dummies \u001b[38;5;241m=\u001b[39m [data\u001b[38;5;241m.\u001b[39mselect_dtypes(exclude\u001b[38;5;241m=\u001b[39mdtypes_to_encode)]\n\u001b[1;32m    975\u001b[0m \u001b[38;5;28;01mfor\u001b[39;00m (col, pre, sep) \u001b[38;5;129;01min\u001b[39;00m \u001b[38;5;28mzip\u001b[39m(data_to_encode\u001b[38;5;241m.\u001b[39mitems(), prefix, prefix_sep):\n\u001b[1;32m    976\u001b[0m     \u001b[38;5;66;03m# col is (column_name, column), use just column data here\u001b[39;00m\n\u001b[0;32m--> 977\u001b[0m     dummy \u001b[38;5;241m=\u001b[39m \u001b[43m_get_dummies_1d\u001b[49m\u001b[43m(\u001b[49m\n\u001b[1;32m    978\u001b[0m \u001b[43m        \u001b[49m\u001b[43mcol\u001b[49m\u001b[43m[\u001b[49m\u001b[38;5;241;43m1\u001b[39;49m\u001b[43m]\u001b[49m\u001b[43m,\u001b[49m\n\u001b[1;32m    979\u001b[0m \u001b[43m        \u001b[49m\u001b[43mprefix\u001b[49m\u001b[38;5;241;43m=\u001b[39;49m\u001b[43mpre\u001b[49m\u001b[43m,\u001b[49m\n\u001b[1;32m    980\u001b[0m \u001b[43m        \u001b[49m\u001b[43mprefix_sep\u001b[49m\u001b[38;5;241;43m=\u001b[39;49m\u001b[43msep\u001b[49m\u001b[43m,\u001b[49m\n\u001b[1;32m    981\u001b[0m \u001b[43m        \u001b[49m\u001b[43mdummy_na\u001b[49m\u001b[38;5;241;43m=\u001b[39;49m\u001b[43mdummy_na\u001b[49m\u001b[43m,\u001b[49m\n\u001b[1;32m    982\u001b[0m \u001b[43m        \u001b[49m\u001b[43msparse\u001b[49m\u001b[38;5;241;43m=\u001b[39;49m\u001b[43msparse\u001b[49m\u001b[43m,\u001b[49m\n\u001b[1;32m    983\u001b[0m \u001b[43m        \u001b[49m\u001b[43mdrop_first\u001b[49m\u001b[38;5;241;43m=\u001b[39;49m\u001b[43mdrop_first\u001b[49m\u001b[43m,\u001b[49m\n\u001b[1;32m    984\u001b[0m \u001b[43m        \u001b[49m\u001b[43mdtype\u001b[49m\u001b[38;5;241;43m=\u001b[39;49m\u001b[43mdtype\u001b[49m\u001b[43m,\u001b[49m\n\u001b[1;32m    985\u001b[0m \u001b[43m    \u001b[49m\u001b[43m)\u001b[49m\n\u001b[1;32m    986\u001b[0m     with_dummies\u001b[38;5;241m.\u001b[39mappend(dummy)\n\u001b[1;32m    987\u001b[0m result \u001b[38;5;241m=\u001b[39m concat(with_dummies, axis\u001b[38;5;241m=\u001b[39m\u001b[38;5;241m1\u001b[39m)\n",
      "File \u001b[0;32m~/venv1/lib/python3.8/site-packages/pandas/core/reshape/reshape.py:1096\u001b[0m, in \u001b[0;36m_get_dummies_1d\u001b[0;34m(data, prefix, prefix_sep, dummy_na, sparse, drop_first, dtype)\u001b[0m\n\u001b[1;32m   1092\u001b[0m     \u001b[38;5;28;01mreturn\u001b[39;00m concat(sparse_series, axis\u001b[38;5;241m=\u001b[39m\u001b[38;5;241m1\u001b[39m, copy\u001b[38;5;241m=\u001b[39m\u001b[38;5;28;01mFalse\u001b[39;00m)\n\u001b[1;32m   1094\u001b[0m \u001b[38;5;28;01melse\u001b[39;00m:\n\u001b[1;32m   1095\u001b[0m     \u001b[38;5;66;03m# take on axis=1 + transpose to ensure ndarray layout is column-major\u001b[39;00m\n\u001b[0;32m-> 1096\u001b[0m     dummy_mat \u001b[38;5;241m=\u001b[39m \u001b[43mnp\u001b[49m\u001b[38;5;241;43m.\u001b[39;49m\u001b[43meye\u001b[49m\u001b[43m(\u001b[49m\u001b[43mnumber_of_cols\u001b[49m\u001b[43m,\u001b[49m\u001b[43m \u001b[49m\u001b[43mdtype\u001b[49m\u001b[38;5;241;43m=\u001b[39;49m\u001b[43mdtype\u001b[49m\u001b[43m)\u001b[49m\u001b[38;5;241;43m.\u001b[39;49m\u001b[43mtake\u001b[49m\u001b[43m(\u001b[49m\u001b[43mcodes\u001b[49m\u001b[43m,\u001b[49m\u001b[43m \u001b[49m\u001b[43maxis\u001b[49m\u001b[38;5;241;43m=\u001b[39;49m\u001b[38;5;241;43m1\u001b[39;49m\u001b[43m)\u001b[49m\u001b[38;5;241m.\u001b[39mT\n\u001b[1;32m   1098\u001b[0m     \u001b[38;5;28;01mif\u001b[39;00m \u001b[38;5;129;01mnot\u001b[39;00m dummy_na:\n\u001b[1;32m   1099\u001b[0m         \u001b[38;5;66;03m# reset NaN GH4446\u001b[39;00m\n\u001b[1;32m   1100\u001b[0m         dummy_mat[codes \u001b[38;5;241m==\u001b[39m \u001b[38;5;241m-\u001b[39m\u001b[38;5;241m1\u001b[39m] \u001b[38;5;241m=\u001b[39m \u001b[38;5;241m0\u001b[39m\n",
      "\u001b[0;31mMemoryError\u001b[0m: Unable to allocate 8.52 GiB for an array with shape (4718, 1939864) and data type uint8"
     ]
    }
   ],
   "source": [
    "\n",
    "one_hot_columns = pd.get_dummies(X_train[categorical_cols])\n",
    "one_hot_columns.head()"
   ]
  },
  {
   "cell_type": "code",
   "execution_count": null,
   "id": "89e13f57",
   "metadata": {},
   "outputs": [],
   "source": []
  },
  {
   "cell_type": "code",
   "execution_count": null,
   "id": "5256b5da",
   "metadata": {},
   "outputs": [],
   "source": []
  },
  {
   "cell_type": "code",
   "execution_count": null,
   "id": "419ca043",
   "metadata": {},
   "outputs": [],
   "source": []
  },
  {
   "cell_type": "markdown",
   "id": "bb1ff927",
   "metadata": {},
   "source": [
    "# Data Preprocessing with Pandas\n",
    "Preprocessing is the process of doing a pre-analysis of data, in order to transform them into a standard and normalized format.\n",
    "Preprocessing involves the following aspects:\n",
    "- missing values\n",
    "- data formatting\n",
    "- data standardization\n",
    "- data normalization\n",
    "- data binning\n"
   ]
  },
  {
   "cell_type": "markdown",
   "id": "8a7e3f9b",
   "metadata": {},
   "source": [
    "#Missing Values"
   ]
  },
  {
   "cell_type": "code",
   "execution_count": null,
   "id": "df2c7c9b",
   "metadata": {},
   "outputs": [],
   "source": [
    "X_train.isna().sum()"
   ]
  },
  {
   "cell_type": "code",
   "execution_count": null,
   "id": "4d65ef11",
   "metadata": {},
   "outputs": [],
   "source": [
    "df_hdata.shape"
   ]
  },
  {
   "cell_type": "markdown",
   "id": "4dc393e9",
   "metadata": {},
   "source": [
    "#Drop Missing Values"
   ]
  },
  {
   "cell_type": "code",
   "execution_count": null,
   "id": "3f1fa5dc",
   "metadata": {},
   "outputs": [],
   "source": [
    "drop_data = df_hdata.dropna(thresh=0.8*len(df_hdata), axis = 1)\n",
    "#axis=0 drop row while axis=1 drop coulm \n",
    "#inplace = True to store changes in the original dataframe"
   ]
  },
  {
   "cell_type": "code",
   "execution_count": null,
   "id": "fbeff0eb",
   "metadata": {},
   "outputs": [],
   "source": [
    "print('Dimensions of the dataset:',df_hdata.shape)\n",
    "print('Dimensions after removing columns:',drop_data.shape)"
   ]
  },
  {
   "cell_type": "markdown",
   "id": "3e1c48d8",
   "metadata": {},
   "source": [
    "#Replace missing values"
   ]
  },
  {
   "cell_type": "code",
   "execution_count": null,
   "id": "a87d6eed",
   "metadata": {},
   "outputs": [],
   "source": [
    "df_hdata.dtypes"
   ]
  },
  {
   "cell_type": "markdown",
   "id": "b42c2237",
   "metadata": {},
   "source": [
    "#Numerical Columns"
   ]
  },
  {
   "cell_type": "code",
   "execution_count": null,
   "id": "99aa8da7",
   "metadata": {},
   "outputs": [],
   "source": [
    "import numpy as np\n",
    "numeric = df_hdata.select_dtypes(include=np.number)\n",
    "numeric_columns = numeric.columns\n",
    "print(numeric_columns)"
   ]
  },
  {
   "cell_type": "code",
   "execution_count": null,
   "id": "a87481f5",
   "metadata": {},
   "outputs": [],
   "source": [
    "df_rp= df_hdata\n",
    "df_rp[numeric_columns]= df_rp[numeric_columns].fillna(df_rp[numeric_columns].mean())\n",
    "#replace numeric data with its column mean"
   ]
  },
  {
   "cell_type": "code",
   "execution_count": null,
   "id": "c48081a6",
   "metadata": {},
   "outputs": [],
   "source": [
    "df_rp.isna().sum()"
   ]
  },
  {
   "cell_type": "markdown",
   "id": "98f1bedc",
   "metadata": {},
   "source": [
    "#categorical columns"
   ]
  },
  {
   "cell_type": "code",
   "execution_count": null,
   "id": "9cbcf36e",
   "metadata": {},
   "outputs": [],
   "source": [
    "boolean_columns = df_rp.select_dtypes(include=object).columns.tolist()\n",
    "\n",
    "print(boolean_columns)\n",
    "df_rp[boolean_columns] = df_rp[boolean_columns].astype('bool')"
   ]
  },
  {
   "cell_type": "code",
   "execution_count": null,
   "id": "b24e748d",
   "metadata": {},
   "outputs": [],
   "source": [
    "df_rp[boolean_columns]= df_rp[boolean_columns].fillna(df_rp[boolean_columns].mode())"
   ]
  },
  {
   "cell_type": "code",
   "execution_count": null,
   "id": "c4ec6971",
   "metadata": {
    "scrolled": false
   },
   "outputs": [],
   "source": [
    "df_rp.isna().sum()"
   ]
  },
  {
   "cell_type": "code",
   "execution_count": null,
   "id": "0c8a065b",
   "metadata": {},
   "outputs": [],
   "source": [
    "df_rp.head()"
   ]
  },
  {
   "cell_type": "code",
   "execution_count": null,
   "id": "f3ad0bc3",
   "metadata": {},
   "outputs": [],
   "source": [
    "df_rp[df_rp.duplicated(keep=False)]"
   ]
  }
 ],
 "metadata": {
  "kernelspec": {
   "display_name": "Python 3 (ipykernel)",
   "language": "python",
   "name": "python3"
  },
  "language_info": {
   "codemirror_mode": {
    "name": "ipython",
    "version": 3
   },
   "file_extension": ".py",
   "mimetype": "text/x-python",
   "name": "python",
   "nbconvert_exporter": "python",
   "pygments_lexer": "ipython3",
   "version": "3.8.10"
  }
 },
 "nbformat": 4,
 "nbformat_minor": 5
}
