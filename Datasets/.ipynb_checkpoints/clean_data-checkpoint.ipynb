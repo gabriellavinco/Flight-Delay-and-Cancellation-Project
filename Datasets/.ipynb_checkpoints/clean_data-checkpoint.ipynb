{
 "cells": [
  {
   "cell_type": "markdown",
   "metadata": {},
   "source": [
    "# Travel Agency - Delay Prediction"
   ]
  },
  {
   "cell_type": "markdown",
   "metadata": {},
   "source": [
    "## Load packages and data"
   ]
  },
  {
   "cell_type": "markdown",
   "metadata": {},
   "source": [
    "Change your path here:"
   ]
  },
  {
   "cell_type": "code",
   "execution_count": 1,
   "metadata": {},
   "outputs": [
    {
     "name": "stdout",
     "output_type": "stream",
     "text": [
      "D:\\KU Leuven\\2022 Spring\\statistical consulting\\Group Project\\data_travel_agency\n"
     ]
    }
   ],
   "source": [
    "cd \"D:\\KU Leuven\\2022 Spring\\statistical consulting\\Group Project\\data_travel_agency\""
   ]
  },
  {
   "cell_type": "code",
   "execution_count": 2,
   "metadata": {},
   "outputs": [
    {
     "name": "stdout",
     "output_type": "stream",
     "text": [
      "Requirement already satisfied: seaborn in d:\\anaconda\\lib\\site-packages (0.10.1)\n",
      "Requirement already satisfied: pandas>=0.22.0 in d:\\anaconda\\lib\\site-packages (from seaborn) (1.0.5)\n",
      "Requirement already satisfied: numpy>=1.13.3 in d:\\anaconda\\lib\\site-packages (from seaborn) (1.22.3)\n",
      "Requirement already satisfied: scipy>=1.0.1 in d:\\anaconda\\lib\\site-packages (from seaborn) (1.5.0)\n",
      "Requirement already satisfied: matplotlib>=2.1.2 in d:\\anaconda\\lib\\site-packages (from seaborn) (3.2.2)\n",
      "Requirement already satisfied: pytz>=2017.2 in d:\\anaconda\\lib\\site-packages (from pandas>=0.22.0->seaborn) (2020.1)\n",
      "Requirement already satisfied: python-dateutil>=2.6.1 in d:\\anaconda\\lib\\site-packages (from pandas>=0.22.0->seaborn) (2.8.1)\n",
      "Requirement already satisfied: pyparsing!=2.0.4,!=2.1.2,!=2.1.6,>=2.0.1 in d:\\anaconda\\lib\\site-packages (from matplotlib>=2.1.2->seaborn) (2.4.7)\n",
      "Requirement already satisfied: cycler>=0.10 in d:\\anaconda\\lib\\site-packages (from matplotlib>=2.1.2->seaborn) (0.10.0)\n",
      "Requirement already satisfied: kiwisolver>=1.0.1 in d:\\anaconda\\lib\\site-packages (from matplotlib>=2.1.2->seaborn) (1.2.0)\n",
      "Requirement already satisfied: six>=1.5 in d:\\anaconda\\lib\\site-packages (from python-dateutil>=2.6.1->pandas>=0.22.0->seaborn) (1.15.0)\n"
     ]
    }
   ],
   "source": [
    "!pip install seaborn"
   ]
  },
  {
   "cell_type": "code",
   "execution_count": 48,
   "metadata": {},
   "outputs": [],
   "source": [
    "import pandas as pd\n",
    "import numpy as np\n",
    "import seaborn as sns\n",
    "import matplotlib as mpl\n",
    "import matplotlib.pyplot as plt\n",
    "\n",
    "import datetime as dt\n",
    "from datetime import datetime, timedelta\n",
    "from dateutil.relativedelta import relativedelta\n",
    "\n",
    "from sklearn.svm import SVC\n",
    "from sklearn.linear_model import LinearRegression\n",
    "from sklearn.model_selection import train_test_split\n",
    "from sklearn.compose import ColumnTransformer\n",
    "from sklearn.preprocessing import OneHotEncoder\n",
    "from sklearn.preprocessing import StandardScaler\n",
    "from sklearn.preprocessing import OrdinalEncoder\n",
    "from sklearn.preprocessing import LabelEncoder\n",
    "from sklearn.preprocessing import Normalizer"
   ]
  },
  {
   "cell_type": "markdown",
   "metadata": {},
   "source": [
    "Load the four datasets provided."
   ]
  },
  {
   "cell_type": "code",
   "execution_count": 49,
   "metadata": {},
   "outputs": [
    {
     "data": {
      "text/html": [
       "<div>\n",
       "<style scoped>\n",
       "    .dataframe tbody tr th:only-of-type {\n",
       "        vertical-align: middle;\n",
       "    }\n",
       "\n",
       "    .dataframe tbody tr th {\n",
       "        vertical-align: top;\n",
       "    }\n",
       "\n",
       "    .dataframe thead th {\n",
       "        text-align: right;\n",
       "    }\n",
       "</style>\n",
       "<table border=\"1\" class=\"dataframe\">\n",
       "  <thead>\n",
       "    <tr style=\"text-align: right;\">\n",
       "      <th></th>\n",
       "      <th>IATA_CODE,AIRLINE</th>\n",
       "    </tr>\n",
       "  </thead>\n",
       "  <tbody>\n",
       "    <tr>\n",
       "      <th>0</th>\n",
       "      <td>UA,United Air Lines Inc.</td>\n",
       "    </tr>\n",
       "    <tr>\n",
       "      <th>1</th>\n",
       "      <td>AA,American Airlines Inc.</td>\n",
       "    </tr>\n",
       "    <tr>\n",
       "      <th>2</th>\n",
       "      <td>US,US Airways Inc.</td>\n",
       "    </tr>\n",
       "    <tr>\n",
       "      <th>3</th>\n",
       "      <td>F9,Frontier Airlines Inc.</td>\n",
       "    </tr>\n",
       "    <tr>\n",
       "      <th>4</th>\n",
       "      <td>B6,JetBlue Airways</td>\n",
       "    </tr>\n",
       "  </tbody>\n",
       "</table>\n",
       "</div>"
      ],
      "text/plain": [
       "           IATA_CODE,AIRLINE\n",
       "0   UA,United Air Lines Inc.\n",
       "1  AA,American Airlines Inc.\n",
       "2         US,US Airways Inc.\n",
       "3  F9,Frontier Airlines Inc.\n",
       "4         B6,JetBlue Airways"
      ]
     },
     "execution_count": 49,
     "metadata": {},
     "output_type": "execute_result"
    }
   ],
   "source": [
    "df_airlines = pd.read_csv('airlines.csv', thousands=',', delimiter=';', na_values=' ')\n",
    "df_airlines.head()"
   ]
  },
  {
   "cell_type": "code",
   "execution_count": 50,
   "metadata": {},
   "outputs": [
    {
     "data": {
      "text/html": [
       "<div>\n",
       "<style scoped>\n",
       "    .dataframe tbody tr th:only-of-type {\n",
       "        vertical-align: middle;\n",
       "    }\n",
       "\n",
       "    .dataframe tbody tr th {\n",
       "        vertical-align: top;\n",
       "    }\n",
       "\n",
       "    .dataframe thead th {\n",
       "        text-align: right;\n",
       "    }\n",
       "</style>\n",
       "<table border=\"1\" class=\"dataframe\">\n",
       "  <thead>\n",
       "    <tr style=\"text-align: right;\">\n",
       "      <th></th>\n",
       "      <th>IATA_CODE</th>\n",
       "      <th>AIRPORT</th>\n",
       "      <th>CITY</th>\n",
       "      <th>STATE</th>\n",
       "      <th>COUNTRY</th>\n",
       "      <th>LATITUDE</th>\n",
       "      <th>LONGITUDE</th>\n",
       "    </tr>\n",
       "  </thead>\n",
       "  <tbody>\n",
       "    <tr>\n",
       "      <th>0</th>\n",
       "      <td>ABE</td>\n",
       "      <td>Lehigh Valley International Airport</td>\n",
       "      <td>Allentown</td>\n",
       "      <td>PA</td>\n",
       "      <td>USA</td>\n",
       "      <td>40.65236</td>\n",
       "      <td>-75.44040</td>\n",
       "    </tr>\n",
       "    <tr>\n",
       "      <th>1</th>\n",
       "      <td>ABI</td>\n",
       "      <td>Abilene Regional Airport</td>\n",
       "      <td>Abilene</td>\n",
       "      <td>TX</td>\n",
       "      <td>USA</td>\n",
       "      <td>32.41132</td>\n",
       "      <td>-99.68190</td>\n",
       "    </tr>\n",
       "    <tr>\n",
       "      <th>2</th>\n",
       "      <td>ABQ</td>\n",
       "      <td>Albuquerque International Sunport</td>\n",
       "      <td>Albuquerque</td>\n",
       "      <td>NM</td>\n",
       "      <td>USA</td>\n",
       "      <td>35.04022</td>\n",
       "      <td>-106.60919</td>\n",
       "    </tr>\n",
       "    <tr>\n",
       "      <th>3</th>\n",
       "      <td>ABR</td>\n",
       "      <td>Aberdeen Regional Airport</td>\n",
       "      <td>Aberdeen</td>\n",
       "      <td>SD</td>\n",
       "      <td>USA</td>\n",
       "      <td>45.44906</td>\n",
       "      <td>-98.42183</td>\n",
       "    </tr>\n",
       "    <tr>\n",
       "      <th>4</th>\n",
       "      <td>ABY</td>\n",
       "      <td>Southwest Georgia Regional Airport</td>\n",
       "      <td>Albany</td>\n",
       "      <td>GA</td>\n",
       "      <td>USA</td>\n",
       "      <td>31.53552</td>\n",
       "      <td>-84.19447</td>\n",
       "    </tr>\n",
       "  </tbody>\n",
       "</table>\n",
       "</div>"
      ],
      "text/plain": [
       "  IATA_CODE                              AIRPORT         CITY STATE COUNTRY  \\\n",
       "0       ABE  Lehigh Valley International Airport    Allentown    PA     USA   \n",
       "1       ABI             Abilene Regional Airport      Abilene    TX     USA   \n",
       "2       ABQ    Albuquerque International Sunport  Albuquerque    NM     USA   \n",
       "3       ABR            Aberdeen Regional Airport     Aberdeen    SD     USA   \n",
       "4       ABY   Southwest Georgia Regional Airport       Albany    GA     USA   \n",
       "\n",
       "   LATITUDE  LONGITUDE  \n",
       "0  40.65236  -75.44040  \n",
       "1  32.41132  -99.68190  \n",
       "2  35.04022 -106.60919  \n",
       "3  45.44906  -98.42183  \n",
       "4  31.53552  -84.19447  "
      ]
     },
     "execution_count": 50,
     "metadata": {},
     "output_type": "execute_result"
    }
   ],
   "source": [
    "df_airports = pd.read_csv('airports.csv')\n",
    "df_airports.head()"
   ]
  },
  {
   "cell_type": "code",
   "execution_count": 51,
   "metadata": {},
   "outputs": [
    {
     "data": {
      "text/html": [
       "<div>\n",
       "<style scoped>\n",
       "    .dataframe tbody tr th:only-of-type {\n",
       "        vertical-align: middle;\n",
       "    }\n",
       "\n",
       "    .dataframe tbody tr th {\n",
       "        vertical-align: top;\n",
       "    }\n",
       "\n",
       "    .dataframe thead th {\n",
       "        text-align: right;\n",
       "    }\n",
       "</style>\n",
       "<table border=\"1\" class=\"dataframe\">\n",
       "  <thead>\n",
       "    <tr style=\"text-align: right;\">\n",
       "      <th></th>\n",
       "      <th>SCHEDULED_DEPARTURE</th>\n",
       "      <th>DEPARTURE_TIME</th>\n",
       "      <th>SCHEDULED_ARRIVAL</th>\n",
       "      <th>ARRIVAL_TIME</th>\n",
       "      <th>AIRLINE</th>\n",
       "      <th>FLIGHT_NUMBER</th>\n",
       "      <th>TAIL_NUMBER</th>\n",
       "      <th>ORIGIN_AIRPORT</th>\n",
       "      <th>DESTINATION_AIRPORT</th>\n",
       "      <th>DEPARTURE_DELAY</th>\n",
       "      <th>...</th>\n",
       "      <th>DISTANCE</th>\n",
       "      <th>WHEELS_ON</th>\n",
       "      <th>TAXI_IN</th>\n",
       "      <th>CANCELLED</th>\n",
       "      <th>CANCELLATION_REASON</th>\n",
       "      <th>AIR_SYSTEM_DELAY</th>\n",
       "      <th>SECURITY_DELAY</th>\n",
       "      <th>AIRLINE_DELAY</th>\n",
       "      <th>LATE_AIRCRAFT_DELAY</th>\n",
       "      <th>WEATHER_DELAY</th>\n",
       "    </tr>\n",
       "  </thead>\n",
       "  <tbody>\n",
       "    <tr>\n",
       "      <th>0</th>\n",
       "      <td>2019-03-01 00:01:00</td>\n",
       "      <td>00:02:00</td>\n",
       "      <td>01:37:00</td>\n",
       "      <td>01:20:00</td>\n",
       "      <td>UA</td>\n",
       "      <td>1238</td>\n",
       "      <td>N812UA</td>\n",
       "      <td>DEN</td>\n",
       "      <td>BIL</td>\n",
       "      <td>1.0</td>\n",
       "      <td>...</td>\n",
       "      <td>455</td>\n",
       "      <td>117.0</td>\n",
       "      <td>3.0</td>\n",
       "      <td>0</td>\n",
       "      <td>NaN</td>\n",
       "      <td>NaN</td>\n",
       "      <td>NaN</td>\n",
       "      <td>NaN</td>\n",
       "      <td>NaN</td>\n",
       "      <td>NaN</td>\n",
       "    </tr>\n",
       "    <tr>\n",
       "      <th>1</th>\n",
       "      <td>2019-03-01 00:01:00</td>\n",
       "      <td>00:29:00</td>\n",
       "      <td>01:33:00</td>\n",
       "      <td>01:52:00</td>\n",
       "      <td>EV</td>\n",
       "      <td>6134</td>\n",
       "      <td>N14171</td>\n",
       "      <td>ORD</td>\n",
       "      <td>BNA</td>\n",
       "      <td>28.0</td>\n",
       "      <td>...</td>\n",
       "      <td>409</td>\n",
       "      <td>144.0</td>\n",
       "      <td>8.0</td>\n",
       "      <td>0</td>\n",
       "      <td>NaN</td>\n",
       "      <td>0.0</td>\n",
       "      <td>0.0</td>\n",
       "      <td>19.0</td>\n",
       "      <td>0.0</td>\n",
       "      <td>0.0</td>\n",
       "    </tr>\n",
       "    <tr>\n",
       "      <th>2</th>\n",
       "      <td>2019-03-01 00:01:00</td>\n",
       "      <td>NaN</td>\n",
       "      <td>01:53:00</td>\n",
       "      <td>NaN</td>\n",
       "      <td>EV</td>\n",
       "      <td>4682</td>\n",
       "      <td>N15910</td>\n",
       "      <td>ORD</td>\n",
       "      <td>BHM</td>\n",
       "      <td>NaN</td>\n",
       "      <td>...</td>\n",
       "      <td>584</td>\n",
       "      <td>NaN</td>\n",
       "      <td>NaN</td>\n",
       "      <td>1</td>\n",
       "      <td>B</td>\n",
       "      <td>NaN</td>\n",
       "      <td>NaN</td>\n",
       "      <td>NaN</td>\n",
       "      <td>NaN</td>\n",
       "      <td>NaN</td>\n",
       "    </tr>\n",
       "    <tr>\n",
       "      <th>3</th>\n",
       "      <td>2019-03-01 00:02:00</td>\n",
       "      <td>23:59:00</td>\n",
       "      <td>03:04:00</td>\n",
       "      <td>02:56:00</td>\n",
       "      <td>UA</td>\n",
       "      <td>1550</td>\n",
       "      <td>N822UA</td>\n",
       "      <td>ORD</td>\n",
       "      <td>BTV</td>\n",
       "      <td>-3.0</td>\n",
       "      <td>...</td>\n",
       "      <td>763</td>\n",
       "      <td>252.0</td>\n",
       "      <td>4.0</td>\n",
       "      <td>0</td>\n",
       "      <td>NaN</td>\n",
       "      <td>NaN</td>\n",
       "      <td>NaN</td>\n",
       "      <td>NaN</td>\n",
       "      <td>NaN</td>\n",
       "      <td>NaN</td>\n",
       "    </tr>\n",
       "    <tr>\n",
       "      <th>4</th>\n",
       "      <td>2019-03-01 00:02:00</td>\n",
       "      <td>00:36:00</td>\n",
       "      <td>03:22:00</td>\n",
       "      <td>03:30:00</td>\n",
       "      <td>UA</td>\n",
       "      <td>1502</td>\n",
       "      <td>N33262</td>\n",
       "      <td>ORD</td>\n",
       "      <td>BOS</td>\n",
       "      <td>34.0</td>\n",
       "      <td>...</td>\n",
       "      <td>867</td>\n",
       "      <td>326.0</td>\n",
       "      <td>4.0</td>\n",
       "      <td>0</td>\n",
       "      <td>NaN</td>\n",
       "      <td>NaN</td>\n",
       "      <td>NaN</td>\n",
       "      <td>NaN</td>\n",
       "      <td>NaN</td>\n",
       "      <td>NaN</td>\n",
       "    </tr>\n",
       "  </tbody>\n",
       "</table>\n",
       "<p>5 rows × 25 columns</p>\n",
       "</div>"
      ],
      "text/plain": [
       "   SCHEDULED_DEPARTURE DEPARTURE_TIME SCHEDULED_ARRIVAL ARRIVAL_TIME AIRLINE  \\\n",
       "0  2019-03-01 00:01:00       00:02:00          01:37:00     01:20:00      UA   \n",
       "1  2019-03-01 00:01:00       00:29:00          01:33:00     01:52:00      EV   \n",
       "2  2019-03-01 00:01:00            NaN          01:53:00          NaN      EV   \n",
       "3  2019-03-01 00:02:00       23:59:00          03:04:00     02:56:00      UA   \n",
       "4  2019-03-01 00:02:00       00:36:00          03:22:00     03:30:00      UA   \n",
       "\n",
       "   FLIGHT_NUMBER TAIL_NUMBER ORIGIN_AIRPORT DESTINATION_AIRPORT  \\\n",
       "0           1238      N812UA            DEN                 BIL   \n",
       "1           6134      N14171            ORD                 BNA   \n",
       "2           4682      N15910            ORD                 BHM   \n",
       "3           1550      N822UA            ORD                 BTV   \n",
       "4           1502      N33262            ORD                 BOS   \n",
       "\n",
       "   DEPARTURE_DELAY  ...  DISTANCE  WHEELS_ON  TAXI_IN  CANCELLED  \\\n",
       "0              1.0  ...       455      117.0      3.0          0   \n",
       "1             28.0  ...       409      144.0      8.0          0   \n",
       "2              NaN  ...       584        NaN      NaN          1   \n",
       "3             -3.0  ...       763      252.0      4.0          0   \n",
       "4             34.0  ...       867      326.0      4.0          0   \n",
       "\n",
       "   CANCELLATION_REASON  AIR_SYSTEM_DELAY  SECURITY_DELAY  AIRLINE_DELAY  \\\n",
       "0                  NaN               NaN             NaN            NaN   \n",
       "1                  NaN               0.0             0.0           19.0   \n",
       "2                    B               NaN             NaN            NaN   \n",
       "3                  NaN               NaN             NaN            NaN   \n",
       "4                  NaN               NaN             NaN            NaN   \n",
       "\n",
       "   LATE_AIRCRAFT_DELAY WEATHER_DELAY  \n",
       "0                  NaN           NaN  \n",
       "1                  0.0           0.0  \n",
       "2                  NaN           NaN  \n",
       "3                  NaN           NaN  \n",
       "4                  NaN           NaN  \n",
       "\n",
       "[5 rows x 25 columns]"
      ]
     },
     "execution_count": 51,
     "metadata": {},
     "output_type": "execute_result"
    }
   ],
   "source": [
    "df_hdata = pd.read_csv('historic_data.csv', low_memory = False)\n",
    "df_hdata.head()"
   ]
  },
  {
   "cell_type": "code",
   "execution_count": 52,
   "metadata": {},
   "outputs": [
    {
     "data": {
      "text/html": [
       "<div>\n",
       "<style scoped>\n",
       "    .dataframe tbody tr th:only-of-type {\n",
       "        vertical-align: middle;\n",
       "    }\n",
       "\n",
       "    .dataframe tbody tr th {\n",
       "        vertical-align: top;\n",
       "    }\n",
       "\n",
       "    .dataframe thead th {\n",
       "        text-align: right;\n",
       "    }\n",
       "</style>\n",
       "<table border=\"1\" class=\"dataframe\">\n",
       "  <thead>\n",
       "    <tr style=\"text-align: right;\">\n",
       "      <th></th>\n",
       "      <th>SCHEDULED_DEPARTURE</th>\n",
       "      <th>SCHEDULED_ARRIVAL</th>\n",
       "      <th>AIRLINE</th>\n",
       "      <th>FLIGHT_NUMBER</th>\n",
       "      <th>TAIL_NUMBER</th>\n",
       "      <th>ORIGIN_AIRPORT</th>\n",
       "      <th>DESTINATION_AIRPORT</th>\n",
       "      <th>DISTANCE</th>\n",
       "    </tr>\n",
       "  </thead>\n",
       "  <tbody>\n",
       "    <tr>\n",
       "      <th>0</th>\n",
       "      <td>2022-08-01 00:05:00</td>\n",
       "      <td>04:54:00</td>\n",
       "      <td>AA</td>\n",
       "      <td>2400</td>\n",
       "      <td>N3LNAA</td>\n",
       "      <td>LAX</td>\n",
       "      <td>DFW</td>\n",
       "      <td>1235</td>\n",
       "    </tr>\n",
       "    <tr>\n",
       "      <th>1</th>\n",
       "      <td>2022-08-01 00:15:00</td>\n",
       "      <td>06:00:00</td>\n",
       "      <td>US</td>\n",
       "      <td>2020</td>\n",
       "      <td>N547UW</td>\n",
       "      <td>PHX</td>\n",
       "      <td>CLT</td>\n",
       "      <td>1773</td>\n",
       "    </tr>\n",
       "    <tr>\n",
       "      <th>2</th>\n",
       "      <td>2022-08-01 00:15:00</td>\n",
       "      <td>05:40:00</td>\n",
       "      <td>F9</td>\n",
       "      <td>1298</td>\n",
       "      <td>N922FR</td>\n",
       "      <td>PHX</td>\n",
       "      <td>CVG</td>\n",
       "      <td>1569</td>\n",
       "    </tr>\n",
       "    <tr>\n",
       "      <th>3</th>\n",
       "      <td>2022-08-01 00:20:00</td>\n",
       "      <td>08:04:00</td>\n",
       "      <td>AA</td>\n",
       "      <td>258</td>\n",
       "      <td>N3HRAA</td>\n",
       "      <td>LAX</td>\n",
       "      <td>MIA</td>\n",
       "      <td>2342</td>\n",
       "    </tr>\n",
       "    <tr>\n",
       "      <th>4</th>\n",
       "      <td>2022-08-01 00:25:00</td>\n",
       "      <td>05:26:00</td>\n",
       "      <td>NK</td>\n",
       "      <td>612</td>\n",
       "      <td>N631NK</td>\n",
       "      <td>LAS</td>\n",
       "      <td>MSP</td>\n",
       "      <td>1299</td>\n",
       "    </tr>\n",
       "  </tbody>\n",
       "</table>\n",
       "</div>"
      ],
      "text/plain": [
       "   SCHEDULED_DEPARTURE SCHEDULED_ARRIVAL AIRLINE  FLIGHT_NUMBER TAIL_NUMBER  \\\n",
       "0  2022-08-01 00:05:00          04:54:00      AA           2400      N3LNAA   \n",
       "1  2022-08-01 00:15:00          06:00:00      US           2020      N547UW   \n",
       "2  2022-08-01 00:15:00          05:40:00      F9           1298      N922FR   \n",
       "3  2022-08-01 00:20:00          08:04:00      AA            258      N3HRAA   \n",
       "4  2022-08-01 00:25:00          05:26:00      NK            612      N631NK   \n",
       "\n",
       "  ORIGIN_AIRPORT DESTINATION_AIRPORT  DISTANCE  \n",
       "0            LAX                 DFW      1235  \n",
       "1            PHX                 CLT      1773  \n",
       "2            PHX                 CVG      1569  \n",
       "3            LAX                 MIA      2342  \n",
       "4            LAS                 MSP      1299  "
      ]
     },
     "execution_count": 52,
     "metadata": {},
     "output_type": "execute_result"
    }
   ],
   "source": [
    "df_fdata = pd.read_csv('future_data.csv', low_memory = False)\n",
    "df_fdata.head()"
   ]
  },
  {
   "cell_type": "markdown",
   "metadata": {},
   "source": [
    "Based on the observation of dataframes:\n",
    "1. In the model, the only variables we can use to predict are the ones in \"future_data\": scheduled_departure, scheduled_arrival, airline, flight_number, Tail_number, origin_airport, destination_airport, distance.\n",
    "\n",
    "2. Airline dataset: no added value information --> not used\n",
    "\n",
    "3. Airports dataset: latitude and longitude of airport, country, city, state of the airport --> should merge into both training and predicting datasets\n",
    "\n",
    "4. Historic data - to predict: 1. arrival delay (main one and need to be constructed); 2. cancellation dummy; 3. cancellation reasons; 4. delay reasons\n",
    "\n",
    "5. Additionally, we can also see the most important factor for delay or cancellation."
   ]
  },
  {
   "cell_type": "markdown",
   "metadata": {},
   "source": [
    "## Initial exploration"
   ]
  },
  {
   "cell_type": "code",
   "execution_count": 53,
   "metadata": {},
   "outputs": [
    {
     "data": {
      "text/plain": [
       "<matplotlib.axes._subplots.AxesSubplot at 0x2ac9f372430>"
      ]
     },
     "execution_count": 53,
     "metadata": {},
     "output_type": "execute_result"
    },
    {
     "data": {
      "image/png": "[encoded data removed]",
      "text/plain": [
       "<Figure size 432x288 with 2 Axes>"
      ]
     },
     "metadata": {
      "needs_background": "light"
     },
     "output_type": "display_data"
    }
   ],
   "source": [
    "corr = df_hdata.corr()\n",
    "sns.heatmap(corr, \n",
    "            xticklabels=corr.columns.values,\n",
    "            yticklabels=corr.columns.values)"
   ]
  },
  {
   "cell_type": "markdown",
   "metadata": {},
   "source": [
    "## Data Preprocessing"
   ]
  },
  {
   "cell_type": "markdown",
   "metadata": {},
   "source": [
    "What variables can be used in prediction?\n",
    "1. scheduled departure\n",
    "2. scheduled arrival\n",
    "3. airline\n",
    "4. flight number\n",
    "5. tail number\n",
    "6. origin airport\n",
    "7. destination airport\n",
    "8. distance\n",
    "\n",
    "Available after merging:\n",
    "1. origin country/city/state/latitude/longitude\n",
    "2. destination country/city/state/latitude/longitude\n",
    "\n",
    "Available after construction: scheduled duration\n",
    "\n",
    "Note: datetime variables cannot be used, extract days and hours, maybe weekend dummy."
   ]
  },
  {
   "cell_type": "markdown",
   "metadata": {},
   "source": [
    "### Merge Airports dataset"
   ]
  },
  {
   "cell_type": "markdown",
   "metadata": {},
   "source": [
    "Visualise the airports in the dataset."
   ]
  },
  {
   "cell_type": "markdown",
   "metadata": {},
   "source": [
    "Rename airports columns: OR is short for \"origin\"; DES is short for \"DESTINATION\""
   ]
  },
  {
   "cell_type": "code",
   "execution_count": 54,
   "metadata": {},
   "outputs": [],
   "source": [
    "df_air_or = df_airports.rename(columns={'IATA_CODE':'ORIGIN_AIRPORT', 'CITY': 'OR_CITY', 'STATE': 'OR_STATE', 'COUNTRY': 'OR_COUNTRY', 'LATITUDE': 'OR_LATITUDE', 'LONGITUDE': 'OR_LONGITUDE'}, index={'ONE': 'Row_1'})\n",
    "df_air_des = df_airports.rename(columns={'IATA_CODE':'DESTINATION_AIRPORT', 'CITY': 'DES_CITY', 'STATE': 'DES_STATE', 'COUNTRY': 'DES_COUNTRY', 'LATITUDE': 'DES_LATITUDE', 'LONGITUDE': 'DES_LONGITUDE'}, index={'ONE': 'Row_1'})"
   ]
  },
  {
   "cell_type": "markdown",
   "metadata": {},
   "source": [
    "Merge historic data with airport dataset"
   ]
  },
  {
   "cell_type": "code",
   "execution_count": 55,
   "metadata": {},
   "outputs": [],
   "source": [
    "df_final1 = df_hdata.merge(df_air_or, how='left', on='ORIGIN_AIRPORT', left_index=False, right_index=False, sort=False, suffixes=('_x', '_y'), copy=True, indicator=False, validate=None)\n",
    "df_final2 = df_final1.merge(df_air_des, how='left', on='DESTINATION_AIRPORT', left_index=False, right_index=False, sort=False, suffixes=('_x', '_y'), copy=True, indicator=False, validate=None)"
   ]
  },
  {
   "cell_type": "code",
   "execution_count": 56,
   "metadata": {},
   "outputs": [
    {
     "data": {
      "text/html": [
       "<div>\n",
       "<style scoped>\n",
       "    .dataframe tbody tr th:only-of-type {\n",
       "        vertical-align: middle;\n",
       "    }\n",
       "\n",
       "    .dataframe tbody tr th {\n",
       "        vertical-align: top;\n",
       "    }\n",
       "\n",
       "    .dataframe thead th {\n",
       "        text-align: right;\n",
       "    }\n",
       "</style>\n",
       "<table border=\"1\" class=\"dataframe\">\n",
       "  <thead>\n",
       "    <tr style=\"text-align: right;\">\n",
       "      <th></th>\n",
       "      <th>SCHEDULED_DEPARTURE</th>\n",
       "      <th>DEPARTURE_TIME</th>\n",
       "      <th>SCHEDULED_ARRIVAL</th>\n",
       "      <th>ARRIVAL_TIME</th>\n",
       "      <th>AIRLINE</th>\n",
       "      <th>FLIGHT_NUMBER</th>\n",
       "      <th>TAIL_NUMBER</th>\n",
       "      <th>ORIGIN_AIRPORT</th>\n",
       "      <th>DESTINATION_AIRPORT</th>\n",
       "      <th>DEPARTURE_DELAY</th>\n",
       "      <th>...</th>\n",
       "      <th>OR_CITY</th>\n",
       "      <th>OR_STATE</th>\n",
       "      <th>OR_COUNTRY</th>\n",
       "      <th>OR_LATITUDE</th>\n",
       "      <th>OR_LONGITUDE</th>\n",
       "      <th>DES_CITY</th>\n",
       "      <th>DES_STATE</th>\n",
       "      <th>DES_COUNTRY</th>\n",
       "      <th>DES_LATITUDE</th>\n",
       "      <th>DES_LONGITUDE</th>\n",
       "    </tr>\n",
       "  </thead>\n",
       "  <tbody>\n",
       "    <tr>\n",
       "      <th>0</th>\n",
       "      <td>2019-03-01 00:01:00</td>\n",
       "      <td>00:02:00</td>\n",
       "      <td>01:37:00</td>\n",
       "      <td>01:20:00</td>\n",
       "      <td>UA</td>\n",
       "      <td>1238</td>\n",
       "      <td>N812UA</td>\n",
       "      <td>DEN</td>\n",
       "      <td>BIL</td>\n",
       "      <td>1.0</td>\n",
       "      <td>...</td>\n",
       "      <td>Denver</td>\n",
       "      <td>CO</td>\n",
       "      <td>USA</td>\n",
       "      <td>39.85841</td>\n",
       "      <td>-104.66700</td>\n",
       "      <td>Billings</td>\n",
       "      <td>MT</td>\n",
       "      <td>USA</td>\n",
       "      <td>45.80766</td>\n",
       "      <td>-108.54286</td>\n",
       "    </tr>\n",
       "    <tr>\n",
       "      <th>1</th>\n",
       "      <td>2019-03-01 00:01:00</td>\n",
       "      <td>00:29:00</td>\n",
       "      <td>01:33:00</td>\n",
       "      <td>01:52:00</td>\n",
       "      <td>EV</td>\n",
       "      <td>6134</td>\n",
       "      <td>N14171</td>\n",
       "      <td>ORD</td>\n",
       "      <td>BNA</td>\n",
       "      <td>28.0</td>\n",
       "      <td>...</td>\n",
       "      <td>Chicago</td>\n",
       "      <td>IL</td>\n",
       "      <td>USA</td>\n",
       "      <td>41.97960</td>\n",
       "      <td>-87.90446</td>\n",
       "      <td>Nashville</td>\n",
       "      <td>TN</td>\n",
       "      <td>USA</td>\n",
       "      <td>36.12448</td>\n",
       "      <td>-86.67818</td>\n",
       "    </tr>\n",
       "    <tr>\n",
       "      <th>2</th>\n",
       "      <td>2019-03-01 00:01:00</td>\n",
       "      <td>NaN</td>\n",
       "      <td>01:53:00</td>\n",
       "      <td>NaN</td>\n",
       "      <td>EV</td>\n",
       "      <td>4682</td>\n",
       "      <td>N15910</td>\n",
       "      <td>ORD</td>\n",
       "      <td>BHM</td>\n",
       "      <td>NaN</td>\n",
       "      <td>...</td>\n",
       "      <td>Chicago</td>\n",
       "      <td>IL</td>\n",
       "      <td>USA</td>\n",
       "      <td>41.97960</td>\n",
       "      <td>-87.90446</td>\n",
       "      <td>Birmingham</td>\n",
       "      <td>AL</td>\n",
       "      <td>USA</td>\n",
       "      <td>33.56294</td>\n",
       "      <td>-86.75355</td>\n",
       "    </tr>\n",
       "    <tr>\n",
       "      <th>3</th>\n",
       "      <td>2019-03-01 00:02:00</td>\n",
       "      <td>23:59:00</td>\n",
       "      <td>03:04:00</td>\n",
       "      <td>02:56:00</td>\n",
       "      <td>UA</td>\n",
       "      <td>1550</td>\n",
       "      <td>N822UA</td>\n",
       "      <td>ORD</td>\n",
       "      <td>BTV</td>\n",
       "      <td>-3.0</td>\n",
       "      <td>...</td>\n",
       "      <td>Chicago</td>\n",
       "      <td>IL</td>\n",
       "      <td>USA</td>\n",
       "      <td>41.97960</td>\n",
       "      <td>-87.90446</td>\n",
       "      <td>Burlington</td>\n",
       "      <td>VT</td>\n",
       "      <td>USA</td>\n",
       "      <td>44.47300</td>\n",
       "      <td>-73.15031</td>\n",
       "    </tr>\n",
       "    <tr>\n",
       "      <th>4</th>\n",
       "      <td>2019-03-01 00:02:00</td>\n",
       "      <td>00:36:00</td>\n",
       "      <td>03:22:00</td>\n",
       "      <td>03:30:00</td>\n",
       "      <td>UA</td>\n",
       "      <td>1502</td>\n",
       "      <td>N33262</td>\n",
       "      <td>ORD</td>\n",
       "      <td>BOS</td>\n",
       "      <td>34.0</td>\n",
       "      <td>...</td>\n",
       "      <td>Chicago</td>\n",
       "      <td>IL</td>\n",
       "      <td>USA</td>\n",
       "      <td>41.97960</td>\n",
       "      <td>-87.90446</td>\n",
       "      <td>Boston</td>\n",
       "      <td>MA</td>\n",
       "      <td>USA</td>\n",
       "      <td>42.36435</td>\n",
       "      <td>-71.00518</td>\n",
       "    </tr>\n",
       "  </tbody>\n",
       "</table>\n",
       "<p>5 rows × 35 columns</p>\n",
       "</div>"
      ],
      "text/plain": [
       "   SCHEDULED_DEPARTURE DEPARTURE_TIME SCHEDULED_ARRIVAL ARRIVAL_TIME AIRLINE  \\\n",
       "0  2019-03-01 00:01:00       00:02:00          01:37:00     01:20:00      UA   \n",
       "1  2019-03-01 00:01:00       00:29:00          01:33:00     01:52:00      EV   \n",
       "2  2019-03-01 00:01:00            NaN          01:53:00          NaN      EV   \n",
       "3  2019-03-01 00:02:00       23:59:00          03:04:00     02:56:00      UA   \n",
       "4  2019-03-01 00:02:00       00:36:00          03:22:00     03:30:00      UA   \n",
       "\n",
       "   FLIGHT_NUMBER TAIL_NUMBER ORIGIN_AIRPORT DESTINATION_AIRPORT  \\\n",
       "0           1238      N812UA            DEN                 BIL   \n",
       "1           6134      N14171            ORD                 BNA   \n",
       "2           4682      N15910            ORD                 BHM   \n",
       "3           1550      N822UA            ORD                 BTV   \n",
       "4           1502      N33262            ORD                 BOS   \n",
       "\n",
       "   DEPARTURE_DELAY  ...  OR_CITY  OR_STATE  OR_COUNTRY  OR_LATITUDE  \\\n",
       "0              1.0  ...   Denver        CO         USA     39.85841   \n",
       "1             28.0  ...  Chicago        IL         USA     41.97960   \n",
       "2              NaN  ...  Chicago        IL         USA     41.97960   \n",
       "3             -3.0  ...  Chicago        IL         USA     41.97960   \n",
       "4             34.0  ...  Chicago        IL         USA     41.97960   \n",
       "\n",
       "   OR_LONGITUDE    DES_CITY  DES_STATE  DES_COUNTRY  DES_LATITUDE  \\\n",
       "0    -104.66700    Billings         MT          USA      45.80766   \n",
       "1     -87.90446   Nashville         TN          USA      36.12448   \n",
       "2     -87.90446  Birmingham         AL          USA      33.56294   \n",
       "3     -87.90446  Burlington         VT          USA      44.47300   \n",
       "4     -87.90446      Boston         MA          USA      42.36435   \n",
       "\n",
       "  DES_LONGITUDE  \n",
       "0    -108.54286  \n",
       "1     -86.67818  \n",
       "2     -86.75355  \n",
       "3     -73.15031  \n",
       "4     -71.00518  \n",
       "\n",
       "[5 rows x 35 columns]"
      ]
     },
     "execution_count": 56,
     "metadata": {},
     "output_type": "execute_result"
    }
   ],
   "source": [
    "df_final = df_final2.drop(['AIRPORT_y','AIRPORT_x'], axis = 1)\n",
    "df_final.head()"
   ]
  },
  {
   "cell_type": "markdown",
   "metadata": {},
   "source": [
    "### Datetime"
   ]
  },
  {
   "cell_type": "code",
   "execution_count": 57,
   "metadata": {},
   "outputs": [],
   "source": [
    "df_final['SCHEDULED_DEPARTURE'] = pd.to_datetime(df_final['SCHEDULED_DEPARTURE'], format='%Y-%m-%d %H:%M:%S')\n",
    "df_final['SCHEDULED_ARRIVAL'] = pd.to_datetime(df_final['SCHEDULED_ARRIVAL'], format='%H:%M:%S')"
   ]
  },
  {
   "cell_type": "code",
   "execution_count": 58,
   "metadata": {},
   "outputs": [],
   "source": [
    "df_final['TIME_AR'] = df_final['SCHEDULED_ARRIVAL'].dt.time"
   ]
  },
  {
   "cell_type": "code",
   "execution_count": 59,
   "metadata": {},
   "outputs": [],
   "source": [
    "df_final['TIME_DE'] = df_final['SCHEDULED_DEPARTURE'].dt.time"
   ]
  },
  {
   "cell_type": "code",
   "execution_count": 60,
   "metadata": {},
   "outputs": [],
   "source": [
    "df_final['YEAR_DE'] = df_final['SCHEDULED_DEPARTURE'].dt.year"
   ]
  },
  {
   "cell_type": "code",
   "execution_count": 61,
   "metadata": {},
   "outputs": [
    {
     "data": {
      "text/plain": [
       "0          2019\n",
       "1          2019\n",
       "2          2019\n",
       "3          2019\n",
       "4          2019\n",
       "           ... \n",
       "2458623    2019\n",
       "2458624    2019\n",
       "2458625    2019\n",
       "2458626    2019\n",
       "2458627    2019\n",
       "Name: YEAR_DE, Length: 2458628, dtype: int64"
      ]
     },
     "execution_count": 61,
     "metadata": {},
     "output_type": "execute_result"
    }
   ],
   "source": [
    "df_final['YEAR_DE'] "
   ]
  },
  {
   "cell_type": "markdown",
   "metadata": {},
   "source": [
    "All observations come from the same year, then not useful in the model."
   ]
  },
  {
   "cell_type": "code",
   "execution_count": 62,
   "metadata": {},
   "outputs": [],
   "source": [
    "df_final['MONTH_DE'] = df_final['SCHEDULED_DEPARTURE'].dt.month"
   ]
  },
  {
   "cell_type": "code",
   "execution_count": 63,
   "metadata": {},
   "outputs": [
    {
     "data": {
      "text/plain": [
       "0          3\n",
       "1          3\n",
       "2          3\n",
       "3          3\n",
       "4          3\n",
       "          ..\n",
       "2458623    7\n",
       "2458624    7\n",
       "2458625    7\n",
       "2458626    7\n",
       "2458627    7\n",
       "Name: MONTH_DE, Length: 2458628, dtype: int64"
      ]
     },
     "execution_count": 63,
     "metadata": {},
     "output_type": "execute_result"
    }
   ],
   "source": [
    "df_final['MONTH_DE']"
   ]
  },
  {
   "cell_type": "markdown",
   "metadata": {},
   "source": [
    "Month varies from 3 to 7, avoid the summer or winter vacation already, then maybe not that useful."
   ]
  },
  {
   "cell_type": "code",
   "execution_count": 64,
   "metadata": {},
   "outputs": [],
   "source": [
    "df_final['DAY_DE'] = df_final['SCHEDULED_DEPARTURE'].dt.day"
   ]
  },
  {
   "cell_type": "code",
   "execution_count": 65,
   "metadata": {},
   "outputs": [
    {
     "data": {
      "text/plain": [
       "0           1\n",
       "1           1\n",
       "2           1\n",
       "3           1\n",
       "4           1\n",
       "           ..\n",
       "2458623    31\n",
       "2458624    31\n",
       "2458625    31\n",
       "2458626    31\n",
       "2458627    31\n",
       "Name: DAY_DE, Length: 2458628, dtype: int64"
      ]
     },
     "execution_count": 65,
     "metadata": {},
     "output_type": "execute_result"
    }
   ],
   "source": [
    "df_final['DAY_DE']"
   ]
  },
  {
   "cell_type": "markdown",
   "metadata": {},
   "source": [
    "Weekend dummy maybe more relavent."
   ]
  },
  {
   "cell_type": "code",
   "execution_count": 66,
   "metadata": {},
   "outputs": [],
   "source": [
    "df_final['WEEKDAY_DE'] = df_final['SCHEDULED_DEPARTURE'].dt.weekday"
   ]
  },
  {
   "cell_type": "code",
   "execution_count": 67,
   "metadata": {},
   "outputs": [
    {
     "data": {
      "text/plain": [
       "0          4\n",
       "1          4\n",
       "2          4\n",
       "3          4\n",
       "4          4\n",
       "          ..\n",
       "2458623    2\n",
       "2458624    2\n",
       "2458625    2\n",
       "2458626    2\n",
       "2458627    2\n",
       "Name: WEEKDAY_DE, Length: 2458628, dtype: int64"
      ]
     },
     "execution_count": 67,
     "metadata": {},
     "output_type": "execute_result"
    }
   ],
   "source": [
    "df_final['WEEKDAY_DE']"
   ]
  },
  {
   "cell_type": "code",
   "execution_count": 68,
   "metadata": {},
   "outputs": [],
   "source": [
    "df_final['WEEKEND_DE'] = df_final['WEEKDAY_DE'].apply(lambda x: 1 if x >= 6 else 0)"
   ]
  },
  {
   "cell_type": "code",
   "execution_count": 69,
   "metadata": {},
   "outputs": [
    {
     "data": {
      "text/plain": [
       "0          0\n",
       "1          0\n",
       "2          0\n",
       "3          0\n",
       "4          0\n",
       "          ..\n",
       "2458623    0\n",
       "2458624    0\n",
       "2458625    0\n",
       "2458626    0\n",
       "2458627    0\n",
       "Name: WEEKEND_DE, Length: 2458628, dtype: int64"
      ]
     },
     "execution_count": 69,
     "metadata": {},
     "output_type": "execute_result"
    }
   ],
   "source": [
    "df_final['WEEKEND_DE'] "
   ]
  },
  {
   "cell_type": "code",
   "execution_count": 70,
   "metadata": {},
   "outputs": [],
   "source": [
    "df_final['HOUR_DE'] = df_final['SCHEDULED_DEPARTURE'].dt.hour"
   ]
  },
  {
   "cell_type": "code",
   "execution_count": 71,
   "metadata": {},
   "outputs": [
    {
     "data": {
      "text/plain": [
       "0           0\n",
       "1           0\n",
       "2           0\n",
       "3           0\n",
       "4           0\n",
       "           ..\n",
       "2458623    23\n",
       "2458624    23\n",
       "2458625    23\n",
       "2458626    23\n",
       "2458627    23\n",
       "Name: HOUR_DE, Length: 2458628, dtype: int64"
      ]
     },
     "execution_count": 71,
     "metadata": {},
     "output_type": "execute_result"
    }
   ],
   "source": [
    "df_final['HOUR_DE']"
   ]
  },
  {
   "cell_type": "markdown",
   "metadata": {},
   "source": [
    "### Delayed Variable -- arrival delay (dummy, continous, ordinal, different delay threshold...)"
   ]
  },
  {
   "cell_type": "code",
   "execution_count": 72,
   "metadata": {},
   "outputs": [],
   "source": [
    "max_departure = max(df_final['DEPARTURE_DELAY'])"
   ]
  },
  {
   "cell_type": "code",
   "execution_count": 73,
   "metadata": {},
   "outputs": [
    {
     "name": "stdout",
     "output_type": "stream",
     "text": [
      "1878.0\n"
     ]
    }
   ],
   "source": [
    "print(max_departure)"
   ]
  },
  {
   "cell_type": "code",
   "execution_count": 74,
   "metadata": {},
   "outputs": [],
   "source": [
    "max_schedule = max(df_final['SCHEDULED_TIME'])"
   ]
  },
  {
   "cell_type": "markdown",
   "metadata": {},
   "source": [
    "The maximum flying time is 11.75 hours."
   ]
  },
  {
   "cell_type": "code",
   "execution_count": 75,
   "metadata": {},
   "outputs": [
    {
     "name": "stdout",
     "output_type": "stream",
     "text": [
      "705.0\n"
     ]
    }
   ],
   "source": [
    "print(max_schedule)"
   ]
  },
  {
   "cell_type": "markdown",
   "metadata": {},
   "source": [
    "The departure delay can be over 24 hours (a day and 7.3 hours). Then the calculation of arrival delay comes down to get the exact date of arrival:\n",
    "\n",
    "1. to get the date and time of expected arrival time --> scheduled departure + expected flying time (scheduled time) \n",
    "2. to get the date and time of actual arrival time --> acutal departure time + ELAPSED time\n",
    "3. calculate the arrival delay"
   ]
  },
  {
   "cell_type": "code",
   "execution_count": 76,
   "metadata": {},
   "outputs": [],
   "source": [
    "fmt=\"%Y/%m/%d %H:%M:%S\"\n",
    "fmt2=\"%H:%M:%S\""
   ]
  },
  {
   "cell_type": "markdown",
   "metadata": {},
   "source": [
    "To build dates on each flight stage"
   ]
  },
  {
   "cell_type": "markdown",
   "metadata": {},
   "source": [
    "1) actual departure time"
   ]
  },
  {
   "cell_type": "code",
   "execution_count": 77,
   "metadata": {},
   "outputs": [],
   "source": [
    "df_final['DEP_DATE_TIME']=pd.to_datetime(df_final['SCHEDULED_DEPARTURE'], format = fmt) + pd.to_timedelta(df_final['DEPARTURE_DELAY'], 'm')"
   ]
  },
  {
   "cell_type": "markdown",
   "metadata": {},
   "source": [
    "2) arrival_time: DEP_date_time + tax_out (min) +airtime (min) + tax_in (min)"
   ]
  },
  {
   "cell_type": "code",
   "execution_count": 78,
   "metadata": {},
   "outputs": [],
   "source": [
    "df_final['ARR_DATE_TIME']=df_final['DEP_DATE_TIME']+ pd.to_timedelta(df_final['TAXI_IN'],'m') + pd.to_timedelta(df_final['TAXI_OUT'], 'm') + pd.to_timedelta(df_final['AIR_TIME'], 'm')"
   ]
  },
  {
   "cell_type": "markdown",
   "metadata": {},
   "source": [
    "3) compute the date of schedule arrival: SCHEDULED_DEPARTURE+SCHEDULED_TIME (min)\n"
   ]
  },
  {
   "cell_type": "code",
   "execution_count": 79,
   "metadata": {},
   "outputs": [],
   "source": [
    "df_final['SCH_ARR_DATE_TIME']=pd.to_datetime(df_final['SCHEDULED_DEPARTURE'], format = fmt) + pd.to_timedelta(df_final['SCHEDULED_TIME'], 'm')"
   ]
  },
  {
   "cell_type": "markdown",
   "metadata": {},
   "source": [
    "4) compute arrival delay: schedule arrival - ARR_DATE_TIME"
   ]
  },
  {
   "cell_type": "code",
   "execution_count": 80,
   "metadata": {},
   "outputs": [],
   "source": [
    "df_final['ARRIVAL_DELAY_v1']=(df_final['ARR_DATE_TIME'] - df_final['SCH_ARR_DATE_TIME']).astype('timedelta64[m]')"
   ]
  },
  {
   "cell_type": "markdown",
   "metadata": {},
   "source": [
    "To compare with the initial delay version\n"
   ]
  },
  {
   "cell_type": "code",
   "execution_count": 81,
   "metadata": {},
   "outputs": [],
   "source": [
    "df_final['ARRIVAL_DELAY_v2']=(pd.to_datetime(df_final['ARRIVAL_TIME'], format=fmt2) - pd.to_datetime(df_final['SCHEDULED_ARRIVAL'], format = fmt2)).astype('timedelta64[m]')"
   ]
  },
  {
   "cell_type": "code",
   "execution_count": 82,
   "metadata": {},
   "outputs": [
    {
     "data": {
      "text/html": [
       "<div>\n",
       "<style scoped>\n",
       "    .dataframe tbody tr th:only-of-type {\n",
       "        vertical-align: middle;\n",
       "    }\n",
       "\n",
       "    .dataframe tbody tr th {\n",
       "        vertical-align: top;\n",
       "    }\n",
       "\n",
       "    .dataframe thead th {\n",
       "        text-align: right;\n",
       "    }\n",
       "</style>\n",
       "<table border=\"1\" class=\"dataframe\">\n",
       "  <thead>\n",
       "    <tr style=\"text-align: right;\">\n",
       "      <th></th>\n",
       "      <th>SCHEDULED_DEPARTURE</th>\n",
       "      <th>DEPARTURE_TIME</th>\n",
       "      <th>SCHEDULED_ARRIVAL</th>\n",
       "      <th>ARRIVAL_TIME</th>\n",
       "      <th>AIRLINE</th>\n",
       "      <th>FLIGHT_NUMBER</th>\n",
       "      <th>TAIL_NUMBER</th>\n",
       "      <th>ORIGIN_AIRPORT</th>\n",
       "      <th>DESTINATION_AIRPORT</th>\n",
       "      <th>DEPARTURE_DELAY</th>\n",
       "      <th>...</th>\n",
       "      <th>MONTH_DE</th>\n",
       "      <th>DAY_DE</th>\n",
       "      <th>WEEKDAY_DE</th>\n",
       "      <th>WEEKEND_DE</th>\n",
       "      <th>HOUR_DE</th>\n",
       "      <th>DEP_DATE_TIME</th>\n",
       "      <th>ARR_DATE_TIME</th>\n",
       "      <th>SCH_ARR_DATE_TIME</th>\n",
       "      <th>ARRIVAL_DELAY_v1</th>\n",
       "      <th>ARRIVAL_DELAY_v2</th>\n",
       "    </tr>\n",
       "  </thead>\n",
       "  <tbody>\n",
       "    <tr>\n",
       "      <th>0</th>\n",
       "      <td>2019-03-01 00:01:00</td>\n",
       "      <td>00:02:00</td>\n",
       "      <td>1900-01-01 01:37:00</td>\n",
       "      <td>01:20:00</td>\n",
       "      <td>UA</td>\n",
       "      <td>1238</td>\n",
       "      <td>N812UA</td>\n",
       "      <td>DEN</td>\n",
       "      <td>BIL</td>\n",
       "      <td>1.0</td>\n",
       "      <td>...</td>\n",
       "      <td>3</td>\n",
       "      <td>1</td>\n",
       "      <td>4</td>\n",
       "      <td>0</td>\n",
       "      <td>0</td>\n",
       "      <td>2019-03-01 00:02:00</td>\n",
       "      <td>2019-03-01 01:20:00</td>\n",
       "      <td>2019-03-01 01:37:00</td>\n",
       "      <td>-17.0</td>\n",
       "      <td>-17.0</td>\n",
       "    </tr>\n",
       "    <tr>\n",
       "      <th>1</th>\n",
       "      <td>2019-03-01 00:01:00</td>\n",
       "      <td>00:29:00</td>\n",
       "      <td>1900-01-01 01:33:00</td>\n",
       "      <td>01:52:00</td>\n",
       "      <td>EV</td>\n",
       "      <td>6134</td>\n",
       "      <td>N14171</td>\n",
       "      <td>ORD</td>\n",
       "      <td>BNA</td>\n",
       "      <td>28.0</td>\n",
       "      <td>...</td>\n",
       "      <td>3</td>\n",
       "      <td>1</td>\n",
       "      <td>4</td>\n",
       "      <td>0</td>\n",
       "      <td>0</td>\n",
       "      <td>2019-03-01 00:29:00</td>\n",
       "      <td>2019-03-01 01:52:00</td>\n",
       "      <td>2019-03-01 01:33:00</td>\n",
       "      <td>19.0</td>\n",
       "      <td>19.0</td>\n",
       "    </tr>\n",
       "    <tr>\n",
       "      <th>2</th>\n",
       "      <td>2019-03-01 00:01:00</td>\n",
       "      <td>NaN</td>\n",
       "      <td>1900-01-01 01:53:00</td>\n",
       "      <td>NaN</td>\n",
       "      <td>EV</td>\n",
       "      <td>4682</td>\n",
       "      <td>N15910</td>\n",
       "      <td>ORD</td>\n",
       "      <td>BHM</td>\n",
       "      <td>NaN</td>\n",
       "      <td>...</td>\n",
       "      <td>3</td>\n",
       "      <td>1</td>\n",
       "      <td>4</td>\n",
       "      <td>0</td>\n",
       "      <td>0</td>\n",
       "      <td>NaT</td>\n",
       "      <td>NaT</td>\n",
       "      <td>2019-03-01 01:53:00</td>\n",
       "      <td>NaN</td>\n",
       "      <td>NaN</td>\n",
       "    </tr>\n",
       "    <tr>\n",
       "      <th>3</th>\n",
       "      <td>2019-03-01 00:02:00</td>\n",
       "      <td>23:59:00</td>\n",
       "      <td>1900-01-01 03:04:00</td>\n",
       "      <td>02:56:00</td>\n",
       "      <td>UA</td>\n",
       "      <td>1550</td>\n",
       "      <td>N822UA</td>\n",
       "      <td>ORD</td>\n",
       "      <td>BTV</td>\n",
       "      <td>-3.0</td>\n",
       "      <td>...</td>\n",
       "      <td>3</td>\n",
       "      <td>1</td>\n",
       "      <td>4</td>\n",
       "      <td>0</td>\n",
       "      <td>0</td>\n",
       "      <td>2019-02-28 23:59:00</td>\n",
       "      <td>2019-03-01 01:56:00</td>\n",
       "      <td>2019-03-01 02:04:00</td>\n",
       "      <td>-8.0</td>\n",
       "      <td>-8.0</td>\n",
       "    </tr>\n",
       "    <tr>\n",
       "      <th>4</th>\n",
       "      <td>2019-03-01 00:02:00</td>\n",
       "      <td>00:36:00</td>\n",
       "      <td>1900-01-01 03:22:00</td>\n",
       "      <td>03:30:00</td>\n",
       "      <td>UA</td>\n",
       "      <td>1502</td>\n",
       "      <td>N33262</td>\n",
       "      <td>ORD</td>\n",
       "      <td>BOS</td>\n",
       "      <td>34.0</td>\n",
       "      <td>...</td>\n",
       "      <td>3</td>\n",
       "      <td>1</td>\n",
       "      <td>4</td>\n",
       "      <td>0</td>\n",
       "      <td>0</td>\n",
       "      <td>2019-03-01 00:36:00</td>\n",
       "      <td>2019-03-01 02:30:00</td>\n",
       "      <td>2019-03-01 02:22:00</td>\n",
       "      <td>8.0</td>\n",
       "      <td>8.0</td>\n",
       "    </tr>\n",
       "  </tbody>\n",
       "</table>\n",
       "<p>5 rows × 48 columns</p>\n",
       "</div>"
      ],
      "text/plain": [
       "  SCHEDULED_DEPARTURE DEPARTURE_TIME   SCHEDULED_ARRIVAL ARRIVAL_TIME AIRLINE  \\\n",
       "0 2019-03-01 00:01:00       00:02:00 1900-01-01 01:37:00     01:20:00      UA   \n",
       "1 2019-03-01 00:01:00       00:29:00 1900-01-01 01:33:00     01:52:00      EV   \n",
       "2 2019-03-01 00:01:00            NaN 1900-01-01 01:53:00          NaN      EV   \n",
       "3 2019-03-01 00:02:00       23:59:00 1900-01-01 03:04:00     02:56:00      UA   \n",
       "4 2019-03-01 00:02:00       00:36:00 1900-01-01 03:22:00     03:30:00      UA   \n",
       "\n",
       "   FLIGHT_NUMBER TAIL_NUMBER ORIGIN_AIRPORT DESTINATION_AIRPORT  \\\n",
       "0           1238      N812UA            DEN                 BIL   \n",
       "1           6134      N14171            ORD                 BNA   \n",
       "2           4682      N15910            ORD                 BHM   \n",
       "3           1550      N822UA            ORD                 BTV   \n",
       "4           1502      N33262            ORD                 BOS   \n",
       "\n",
       "   DEPARTURE_DELAY  ...  MONTH_DE  DAY_DE  WEEKDAY_DE  WEEKEND_DE  HOUR_DE  \\\n",
       "0              1.0  ...         3       1           4           0        0   \n",
       "1             28.0  ...         3       1           4           0        0   \n",
       "2              NaN  ...         3       1           4           0        0   \n",
       "3             -3.0  ...         3       1           4           0        0   \n",
       "4             34.0  ...         3       1           4           0        0   \n",
       "\n",
       "        DEP_DATE_TIME       ARR_DATE_TIME   SCH_ARR_DATE_TIME  \\\n",
       "0 2019-03-01 00:02:00 2019-03-01 01:20:00 2019-03-01 01:37:00   \n",
       "1 2019-03-01 00:29:00 2019-03-01 01:52:00 2019-03-01 01:33:00   \n",
       "2                 NaT                 NaT 2019-03-01 01:53:00   \n",
       "3 2019-02-28 23:59:00 2019-03-01 01:56:00 2019-03-01 02:04:00   \n",
       "4 2019-03-01 00:36:00 2019-03-01 02:30:00 2019-03-01 02:22:00   \n",
       "\n",
       "   ARRIVAL_DELAY_v1 ARRIVAL_DELAY_v2  \n",
       "0             -17.0            -17.0  \n",
       "1              19.0             19.0  \n",
       "2               NaN              NaN  \n",
       "3              -8.0             -8.0  \n",
       "4               8.0              8.0  \n",
       "\n",
       "[5 rows x 48 columns]"
      ]
     },
     "execution_count": 82,
     "metadata": {},
     "output_type": "execute_result"
    }
   ],
   "source": [
    "df_final.head()"
   ]
  },
  {
   "cell_type": "markdown",
   "metadata": {},
   "source": [
    "Approach as classification problem: \"A flight os counted as \"on time\" if it operated less than 15 minutes later than the scheduled time shown in the carriers' Computerozed Researvation Systems (CRS)\""
   ]
  },
  {
   "cell_type": "code",
   "execution_count": 83,
   "metadata": {},
   "outputs": [],
   "source": [
    "# approach as classification problem \n",
    "df_final['ARRIVAL_DELAY'] = (df_final['ARRIVAL_DELAY_v1'] > 15).astype(int)"
   ]
  },
  {
   "cell_type": "markdown",
   "metadata": {},
   "source": [
    "### Additional Constructed Variable: (expected/scheduled) speed"
   ]
  },
  {
   "cell_type": "code",
   "execution_count": 84,
   "metadata": {},
   "outputs": [],
   "source": [
    "df_final['SPEED'] = df_final['DISTANCE']/df_final['SCHEDULED_TIME']"
   ]
  },
  {
   "cell_type": "markdown",
   "metadata": {},
   "source": [
    "### Drop Irrelavent Variables"
   ]
  },
  {
   "cell_type": "code",
   "execution_count": 85,
   "metadata": {},
   "outputs": [
    {
     "data": {
      "text/plain": [
       "SCHEDULED_DEPARTURE    datetime64[ns]\n",
       "DEPARTURE_TIME                 object\n",
       "SCHEDULED_ARRIVAL      datetime64[ns]\n",
       "ARRIVAL_TIME                   object\n",
       "AIRLINE                        object\n",
       "FLIGHT_NUMBER                   int64\n",
       "TAIL_NUMBER                    object\n",
       "ORIGIN_AIRPORT                 object\n",
       "DESTINATION_AIRPORT            object\n",
       "DEPARTURE_DELAY               float64\n",
       "TAXI_OUT                      float64\n",
       "WHEELS_OFF                    float64\n",
       "SCHEDULED_TIME                float64\n",
       "ELAPSED_TIME                  float64\n",
       "AIR_TIME                      float64\n",
       "DISTANCE                        int64\n",
       "WHEELS_ON                     float64\n",
       "TAXI_IN                       float64\n",
       "CANCELLED                       int64\n",
       "CANCELLATION_REASON            object\n",
       "AIR_SYSTEM_DELAY              float64\n",
       "SECURITY_DELAY                float64\n",
       "AIRLINE_DELAY                 float64\n",
       "LATE_AIRCRAFT_DELAY           float64\n",
       "WEATHER_DELAY                 float64\n",
       "OR_CITY                        object\n",
       "OR_STATE                       object\n",
       "OR_COUNTRY                     object\n",
       "OR_LATITUDE                   float64\n",
       "OR_LONGITUDE                  float64\n",
       "DES_CITY                       object\n",
       "DES_STATE                      object\n",
       "DES_COUNTRY                    object\n",
       "DES_LATITUDE                  float64\n",
       "DES_LONGITUDE                 float64\n",
       "TIME_AR                        object\n",
       "TIME_DE                        object\n",
       "YEAR_DE                         int64\n",
       "MONTH_DE                        int64\n",
       "DAY_DE                          int64\n",
       "WEEKDAY_DE                      int64\n",
       "WEEKEND_DE                      int64\n",
       "HOUR_DE                         int64\n",
       "DEP_DATE_TIME          datetime64[ns]\n",
       "ARR_DATE_TIME          datetime64[ns]\n",
       "SCH_ARR_DATE_TIME      datetime64[ns]\n",
       "ARRIVAL_DELAY_v1              float64\n",
       "ARRIVAL_DELAY_v2              float64\n",
       "ARRIVAL_DELAY                   int32\n",
       "SPEED                         float64\n",
       "dtype: object"
      ]
     },
     "execution_count": 85,
     "metadata": {},
     "output_type": "execute_result"
    }
   ],
   "source": [
    "df_final.dtypes"
   ]
  },
  {
   "cell_type": "markdown",
   "metadata": {},
   "source": [
    "Drop the variables not in the future dataset:"
   ]
  },
  {
   "cell_type": "code",
   "execution_count": 86,
   "metadata": {},
   "outputs": [
    {
     "data": {
      "text/html": [
       "<div>\n",
       "<style scoped>\n",
       "    .dataframe tbody tr th:only-of-type {\n",
       "        vertical-align: middle;\n",
       "    }\n",
       "\n",
       "    .dataframe tbody tr th {\n",
       "        vertical-align: top;\n",
       "    }\n",
       "\n",
       "    .dataframe thead th {\n",
       "        text-align: right;\n",
       "    }\n",
       "</style>\n",
       "<table border=\"1\" class=\"dataframe\">\n",
       "  <thead>\n",
       "    <tr style=\"text-align: right;\">\n",
       "      <th></th>\n",
       "      <th>AIRLINE</th>\n",
       "      <th>FLIGHT_NUMBER</th>\n",
       "      <th>TAIL_NUMBER</th>\n",
       "      <th>ORIGIN_AIRPORT</th>\n",
       "      <th>DESTINATION_AIRPORT</th>\n",
       "      <th>DEPARTURE_DELAY</th>\n",
       "      <th>SCHEDULED_TIME</th>\n",
       "      <th>DISTANCE</th>\n",
       "      <th>CANCELLED</th>\n",
       "      <th>CANCELLATION_REASON</th>\n",
       "      <th>...</th>\n",
       "      <th>OR_LONGITUDE</th>\n",
       "      <th>DES_CITY</th>\n",
       "      <th>DES_STATE</th>\n",
       "      <th>DES_LATITUDE</th>\n",
       "      <th>DES_LONGITUDE</th>\n",
       "      <th>WEEKEND_DE</th>\n",
       "      <th>HOUR_DE</th>\n",
       "      <th>ARRIVAL_DELAY_v1</th>\n",
       "      <th>ARRIVAL_DELAY</th>\n",
       "      <th>SPEED</th>\n",
       "    </tr>\n",
       "  </thead>\n",
       "  <tbody>\n",
       "    <tr>\n",
       "      <th>0</th>\n",
       "      <td>UA</td>\n",
       "      <td>1238</td>\n",
       "      <td>N812UA</td>\n",
       "      <td>DEN</td>\n",
       "      <td>BIL</td>\n",
       "      <td>1.0</td>\n",
       "      <td>96.0</td>\n",
       "      <td>455</td>\n",
       "      <td>0</td>\n",
       "      <td>NaN</td>\n",
       "      <td>...</td>\n",
       "      <td>-104.66700</td>\n",
       "      <td>Billings</td>\n",
       "      <td>MT</td>\n",
       "      <td>45.80766</td>\n",
       "      <td>-108.54286</td>\n",
       "      <td>0</td>\n",
       "      <td>0</td>\n",
       "      <td>-17.0</td>\n",
       "      <td>0</td>\n",
       "      <td>4.739583</td>\n",
       "    </tr>\n",
       "    <tr>\n",
       "      <th>1</th>\n",
       "      <td>EV</td>\n",
       "      <td>6134</td>\n",
       "      <td>N14171</td>\n",
       "      <td>ORD</td>\n",
       "      <td>BNA</td>\n",
       "      <td>28.0</td>\n",
       "      <td>92.0</td>\n",
       "      <td>409</td>\n",
       "      <td>0</td>\n",
       "      <td>NaN</td>\n",
       "      <td>...</td>\n",
       "      <td>-87.90446</td>\n",
       "      <td>Nashville</td>\n",
       "      <td>TN</td>\n",
       "      <td>36.12448</td>\n",
       "      <td>-86.67818</td>\n",
       "      <td>0</td>\n",
       "      <td>0</td>\n",
       "      <td>19.0</td>\n",
       "      <td>1</td>\n",
       "      <td>4.445652</td>\n",
       "    </tr>\n",
       "    <tr>\n",
       "      <th>2</th>\n",
       "      <td>EV</td>\n",
       "      <td>4682</td>\n",
       "      <td>N15910</td>\n",
       "      <td>ORD</td>\n",
       "      <td>BHM</td>\n",
       "      <td>NaN</td>\n",
       "      <td>112.0</td>\n",
       "      <td>584</td>\n",
       "      <td>1</td>\n",
       "      <td>B</td>\n",
       "      <td>...</td>\n",
       "      <td>-87.90446</td>\n",
       "      <td>Birmingham</td>\n",
       "      <td>AL</td>\n",
       "      <td>33.56294</td>\n",
       "      <td>-86.75355</td>\n",
       "      <td>0</td>\n",
       "      <td>0</td>\n",
       "      <td>NaN</td>\n",
       "      <td>0</td>\n",
       "      <td>5.214286</td>\n",
       "    </tr>\n",
       "    <tr>\n",
       "      <th>3</th>\n",
       "      <td>UA</td>\n",
       "      <td>1550</td>\n",
       "      <td>N822UA</td>\n",
       "      <td>ORD</td>\n",
       "      <td>BTV</td>\n",
       "      <td>-3.0</td>\n",
       "      <td>122.0</td>\n",
       "      <td>763</td>\n",
       "      <td>0</td>\n",
       "      <td>NaN</td>\n",
       "      <td>...</td>\n",
       "      <td>-87.90446</td>\n",
       "      <td>Burlington</td>\n",
       "      <td>VT</td>\n",
       "      <td>44.47300</td>\n",
       "      <td>-73.15031</td>\n",
       "      <td>0</td>\n",
       "      <td>0</td>\n",
       "      <td>-8.0</td>\n",
       "      <td>0</td>\n",
       "      <td>6.254098</td>\n",
       "    </tr>\n",
       "    <tr>\n",
       "      <th>4</th>\n",
       "      <td>UA</td>\n",
       "      <td>1502</td>\n",
       "      <td>N33262</td>\n",
       "      <td>ORD</td>\n",
       "      <td>BOS</td>\n",
       "      <td>34.0</td>\n",
       "      <td>140.0</td>\n",
       "      <td>867</td>\n",
       "      <td>0</td>\n",
       "      <td>NaN</td>\n",
       "      <td>...</td>\n",
       "      <td>-87.90446</td>\n",
       "      <td>Boston</td>\n",
       "      <td>MA</td>\n",
       "      <td>42.36435</td>\n",
       "      <td>-71.00518</td>\n",
       "      <td>0</td>\n",
       "      <td>0</td>\n",
       "      <td>8.0</td>\n",
       "      <td>0</td>\n",
       "      <td>6.192857</td>\n",
       "    </tr>\n",
       "  </tbody>\n",
       "</table>\n",
       "<p>5 rows × 28 columns</p>\n",
       "</div>"
      ],
      "text/plain": [
       "  AIRLINE  FLIGHT_NUMBER TAIL_NUMBER ORIGIN_AIRPORT DESTINATION_AIRPORT  \\\n",
       "0      UA           1238      N812UA            DEN                 BIL   \n",
       "1      EV           6134      N14171            ORD                 BNA   \n",
       "2      EV           4682      N15910            ORD                 BHM   \n",
       "3      UA           1550      N822UA            ORD                 BTV   \n",
       "4      UA           1502      N33262            ORD                 BOS   \n",
       "\n",
       "   DEPARTURE_DELAY  SCHEDULED_TIME  DISTANCE  CANCELLED CANCELLATION_REASON  \\\n",
       "0              1.0            96.0       455          0                 NaN   \n",
       "1             28.0            92.0       409          0                 NaN   \n",
       "2              NaN           112.0       584          1                   B   \n",
       "3             -3.0           122.0       763          0                 NaN   \n",
       "4             34.0           140.0       867          0                 NaN   \n",
       "\n",
       "   ...  OR_LONGITUDE    DES_CITY  DES_STATE  DES_LATITUDE  DES_LONGITUDE  \\\n",
       "0  ...    -104.66700    Billings         MT      45.80766     -108.54286   \n",
       "1  ...     -87.90446   Nashville         TN      36.12448      -86.67818   \n",
       "2  ...     -87.90446  Birmingham         AL      33.56294      -86.75355   \n",
       "3  ...     -87.90446  Burlington         VT      44.47300      -73.15031   \n",
       "4  ...     -87.90446      Boston         MA      42.36435      -71.00518   \n",
       "\n",
       "  WEEKEND_DE HOUR_DE  ARRIVAL_DELAY_v1  ARRIVAL_DELAY     SPEED  \n",
       "0          0       0             -17.0              0  4.739583  \n",
       "1          0       0              19.0              1  4.445652  \n",
       "2          0       0               NaN              0  5.214286  \n",
       "3          0       0              -8.0              0  6.254098  \n",
       "4          0       0               8.0              0  6.192857  \n",
       "\n",
       "[5 rows x 28 columns]"
      ]
     },
     "execution_count": 86,
     "metadata": {},
     "output_type": "execute_result"
    }
   ],
   "source": [
    "df_final = df_final.drop(['SCHEDULED_DEPARTURE','SCHEDULED_ARRIVAL','DEPARTURE_TIME','ARRIVAL_TIME','TAXI_OUT','WHEELS_OFF','ELAPSED_TIME','AIR_TIME','WHEELS_ON','OR_COUNTRY','DES_COUNTRY','TAXI_IN','TIME_AR','TIME_DE','YEAR_DE','MONTH_DE','DAY_DE','WEEKDAY_DE','DEP_DATE_TIME','ARR_DATE_TIME','SCH_ARR_DATE_TIME', 'ARRIVAL_DELAY_v2'], axis = 1)\n",
    "df_final.head()"
   ]
  },
  {
   "cell_type": "markdown",
   "metadata": {},
   "source": [
    "### Missing values"
   ]
  },
  {
   "cell_type": "code",
   "execution_count": 87,
   "metadata": {},
   "outputs": [
    {
     "data": {
      "text/plain": [
       "AIRLINE                 object\n",
       "FLIGHT_NUMBER            int64\n",
       "TAIL_NUMBER             object\n",
       "ORIGIN_AIRPORT          object\n",
       "DESTINATION_AIRPORT     object\n",
       "DEPARTURE_DELAY        float64\n",
       "SCHEDULED_TIME         float64\n",
       "DISTANCE                 int64\n",
       "CANCELLED                int64\n",
       "CANCELLATION_REASON     object\n",
       "AIR_SYSTEM_DELAY       float64\n",
       "SECURITY_DELAY         float64\n",
       "AIRLINE_DELAY          float64\n",
       "LATE_AIRCRAFT_DELAY    float64\n",
       "WEATHER_DELAY          float64\n",
       "OR_CITY                 object\n",
       "OR_STATE                object\n",
       "OR_LATITUDE            float64\n",
       "OR_LONGITUDE           float64\n",
       "DES_CITY                object\n",
       "DES_STATE               object\n",
       "DES_LATITUDE           float64\n",
       "DES_LONGITUDE          float64\n",
       "WEEKEND_DE               int64\n",
       "HOUR_DE                  int64\n",
       "ARRIVAL_DELAY_v1       float64\n",
       "ARRIVAL_DELAY            int32\n",
       "SPEED                  float64\n",
       "dtype: object"
      ]
     },
     "execution_count": 87,
     "metadata": {},
     "output_type": "execute_result"
    }
   ],
   "source": [
    "df_final.dtypes"
   ]
  },
  {
   "cell_type": "markdown",
   "metadata": {},
   "source": [
    "Observe if the final dataset has missing values.\n",
    "\n",
    "count total NaN at each column in a DataFrame"
   ]
  },
  {
   "cell_type": "code",
   "execution_count": 88,
   "metadata": {},
   "outputs": [
    {
     "name": "stdout",
     "output_type": "stream",
     "text": [
      " \n",
      "Count total NaN at each column in a DataFrame : \n",
      "\n",
      " AIRLINE                      0\n",
      "FLIGHT_NUMBER                0\n",
      "TAIL_NUMBER               4557\n",
      "ORIGIN_AIRPORT               0\n",
      "DESTINATION_AIRPORT          0\n",
      "DEPARTURE_DELAY          30771\n",
      "SCHEDULED_TIME               2\n",
      "DISTANCE                     0\n",
      "CANCELLED                    0\n",
      "CANCELLATION_REASON    2426100\n",
      "AIR_SYSTEM_DELAY       1991785\n",
      "SECURITY_DELAY         1991785\n",
      "AIRLINE_DELAY          1991785\n",
      "LATE_AIRCRAFT_DELAY    1991785\n",
      "WEATHER_DELAY          1991785\n",
      "OR_CITY                      0\n",
      "OR_STATE                     0\n",
      "OR_LATITUDE               2222\n",
      "OR_LONGITUDE              2222\n",
      "DES_CITY                     0\n",
      "DES_STATE                    0\n",
      "DES_LATITUDE              2224\n",
      "DES_LONGITUDE             2224\n",
      "WEEKEND_DE                   0\n",
      "HOUR_DE                      0\n",
      "ARRIVAL_DELAY_v1         40100\n",
      "ARRIVAL_DELAY                0\n",
      "SPEED                        2\n",
      "dtype: int64\n"
     ]
    }
   ],
   "source": [
    "print(\" \\nCount total NaN at each column in a DataFrame : \\n\\n\",\n",
    "      df_final.isnull().sum())"
   ]
  },
  {
   "cell_type": "markdown",
   "metadata": {},
   "source": [
    "We observe that:\n",
    "1. there are several missing values in Tail_number --> will try to model with and without the variable\n",
    "2. missing values for departure delay means no delay --> recode as 0\n",
    "3. cancellation_reason missing means not canceled --> recode as 0\n",
    "4. delayed_reason missing means not delayed for it --> recode as 0\n",
    "5. missing values for latitude and longitude --> drop for now, but we can impute by looking up the latitude and longitude of the city"
   ]
  },
  {
   "cell_type": "code",
   "execution_count": 89,
   "metadata": {},
   "outputs": [],
   "source": [
    "# Replace missing values\n",
    "df_final['DEPARTURE_DELAY'] = df_final['DEPARTURE_DELAY'].fillna(0)\n",
    "df_final['CANCELLATION_REASON'] = df_final['CANCELLATION_REASON'].fillna(0)\n",
    "df_final['AIR_SYSTEM_DELAY'] = df_final['AIR_SYSTEM_DELAY'].fillna(0)\n",
    "df_final['SECURITY_DELAY'] = df_final['SECURITY_DELAY'].fillna(0)\n",
    "df_final['AIRLINE_DELAY'] = df_final['AIRLINE_DELAY'].fillna(0)\n",
    "df_final['LATE_AIRCRAFT_DELAY'] = df_final['LATE_AIRCRAFT_DELAY'].fillna(0)\n",
    "df_final['WEATHER_DELAY'] = df_final['WEATHER_DELAY'].fillna(0)\n",
    "df_final['ARRIVAL_DELAY_v1'] = df_final['ARRIVAL_DELAY_v1'].fillna(0)"
   ]
  },
  {
   "cell_type": "code",
   "execution_count": 90,
   "metadata": {},
   "outputs": [
    {
     "name": "stdout",
     "output_type": "stream",
     "text": [
      " \n",
      "Count total NaN at each column in a DataFrame : \n",
      "\n",
      " AIRLINE                   0\n",
      "FLIGHT_NUMBER             0\n",
      "TAIL_NUMBER            4557\n",
      "ORIGIN_AIRPORT            0\n",
      "DESTINATION_AIRPORT       0\n",
      "DEPARTURE_DELAY           0\n",
      "SCHEDULED_TIME            2\n",
      "DISTANCE                  0\n",
      "CANCELLED                 0\n",
      "CANCELLATION_REASON       0\n",
      "AIR_SYSTEM_DELAY          0\n",
      "SECURITY_DELAY            0\n",
      "AIRLINE_DELAY             0\n",
      "LATE_AIRCRAFT_DELAY       0\n",
      "WEATHER_DELAY             0\n",
      "OR_CITY                   0\n",
      "OR_STATE                  0\n",
      "OR_LATITUDE            2222\n",
      "OR_LONGITUDE           2222\n",
      "DES_CITY                  0\n",
      "DES_STATE                 0\n",
      "DES_LATITUDE           2224\n",
      "DES_LONGITUDE          2224\n",
      "WEEKEND_DE                0\n",
      "HOUR_DE                   0\n",
      "ARRIVAL_DELAY_v1          0\n",
      "ARRIVAL_DELAY             0\n",
      "SPEED                     2\n",
      "dtype: int64\n"
     ]
    }
   ],
   "source": [
    "# Count total NaN at each column in a DataFrame\n",
    "print(\" \\nCount total NaN at each column in a DataFrame : \\n\\n\",\n",
    "      df_final.isnull().sum())"
   ]
  },
  {
   "cell_type": "code",
   "execution_count": 91,
   "metadata": {},
   "outputs": [
    {
     "data": {
      "text/html": [
       "<div>\n",
       "<style scoped>\n",
       "    .dataframe tbody tr th:only-of-type {\n",
       "        vertical-align: middle;\n",
       "    }\n",
       "\n",
       "    .dataframe tbody tr th {\n",
       "        vertical-align: top;\n",
       "    }\n",
       "\n",
       "    .dataframe thead th {\n",
       "        text-align: right;\n",
       "    }\n",
       "</style>\n",
       "<table border=\"1\" class=\"dataframe\">\n",
       "  <thead>\n",
       "    <tr style=\"text-align: right;\">\n",
       "      <th></th>\n",
       "      <th>AIRLINE</th>\n",
       "      <th>FLIGHT_NUMBER</th>\n",
       "      <th>TAIL_NUMBER</th>\n",
       "      <th>ORIGIN_AIRPORT</th>\n",
       "      <th>DESTINATION_AIRPORT</th>\n",
       "      <th>DEPARTURE_DELAY</th>\n",
       "      <th>SCHEDULED_TIME</th>\n",
       "      <th>DISTANCE</th>\n",
       "      <th>CANCELLED</th>\n",
       "      <th>CANCELLATION_REASON</th>\n",
       "      <th>...</th>\n",
       "      <th>OR_LONGITUDE</th>\n",
       "      <th>DES_CITY</th>\n",
       "      <th>DES_STATE</th>\n",
       "      <th>DES_LATITUDE</th>\n",
       "      <th>DES_LONGITUDE</th>\n",
       "      <th>WEEKEND_DE</th>\n",
       "      <th>HOUR_DE</th>\n",
       "      <th>ARRIVAL_DELAY_v1</th>\n",
       "      <th>ARRIVAL_DELAY</th>\n",
       "      <th>SPEED</th>\n",
       "    </tr>\n",
       "  </thead>\n",
       "  <tbody>\n",
       "    <tr>\n",
       "      <th>0</th>\n",
       "      <td>UA</td>\n",
       "      <td>1238</td>\n",
       "      <td>N812UA</td>\n",
       "      <td>DEN</td>\n",
       "      <td>BIL</td>\n",
       "      <td>1.0</td>\n",
       "      <td>96.0</td>\n",
       "      <td>455</td>\n",
       "      <td>0</td>\n",
       "      <td>0</td>\n",
       "      <td>...</td>\n",
       "      <td>-104.66700</td>\n",
       "      <td>Billings</td>\n",
       "      <td>MT</td>\n",
       "      <td>45.80766</td>\n",
       "      <td>-108.54286</td>\n",
       "      <td>0</td>\n",
       "      <td>0</td>\n",
       "      <td>-17.0</td>\n",
       "      <td>0</td>\n",
       "      <td>4.739583</td>\n",
       "    </tr>\n",
       "    <tr>\n",
       "      <th>1</th>\n",
       "      <td>EV</td>\n",
       "      <td>6134</td>\n",
       "      <td>N14171</td>\n",
       "      <td>ORD</td>\n",
       "      <td>BNA</td>\n",
       "      <td>28.0</td>\n",
       "      <td>92.0</td>\n",
       "      <td>409</td>\n",
       "      <td>0</td>\n",
       "      <td>0</td>\n",
       "      <td>...</td>\n",
       "      <td>-87.90446</td>\n",
       "      <td>Nashville</td>\n",
       "      <td>TN</td>\n",
       "      <td>36.12448</td>\n",
       "      <td>-86.67818</td>\n",
       "      <td>0</td>\n",
       "      <td>0</td>\n",
       "      <td>19.0</td>\n",
       "      <td>1</td>\n",
       "      <td>4.445652</td>\n",
       "    </tr>\n",
       "    <tr>\n",
       "      <th>2</th>\n",
       "      <td>EV</td>\n",
       "      <td>4682</td>\n",
       "      <td>N15910</td>\n",
       "      <td>ORD</td>\n",
       "      <td>BHM</td>\n",
       "      <td>0.0</td>\n",
       "      <td>112.0</td>\n",
       "      <td>584</td>\n",
       "      <td>1</td>\n",
       "      <td>B</td>\n",
       "      <td>...</td>\n",
       "      <td>-87.90446</td>\n",
       "      <td>Birmingham</td>\n",
       "      <td>AL</td>\n",
       "      <td>33.56294</td>\n",
       "      <td>-86.75355</td>\n",
       "      <td>0</td>\n",
       "      <td>0</td>\n",
       "      <td>0.0</td>\n",
       "      <td>0</td>\n",
       "      <td>5.214286</td>\n",
       "    </tr>\n",
       "    <tr>\n",
       "      <th>3</th>\n",
       "      <td>UA</td>\n",
       "      <td>1550</td>\n",
       "      <td>N822UA</td>\n",
       "      <td>ORD</td>\n",
       "      <td>BTV</td>\n",
       "      <td>-3.0</td>\n",
       "      <td>122.0</td>\n",
       "      <td>763</td>\n",
       "      <td>0</td>\n",
       "      <td>0</td>\n",
       "      <td>...</td>\n",
       "      <td>-87.90446</td>\n",
       "      <td>Burlington</td>\n",
       "      <td>VT</td>\n",
       "      <td>44.47300</td>\n",
       "      <td>-73.15031</td>\n",
       "      <td>0</td>\n",
       "      <td>0</td>\n",
       "      <td>-8.0</td>\n",
       "      <td>0</td>\n",
       "      <td>6.254098</td>\n",
       "    </tr>\n",
       "    <tr>\n",
       "      <th>4</th>\n",
       "      <td>UA</td>\n",
       "      <td>1502</td>\n",
       "      <td>N33262</td>\n",
       "      <td>ORD</td>\n",
       "      <td>BOS</td>\n",
       "      <td>34.0</td>\n",
       "      <td>140.0</td>\n",
       "      <td>867</td>\n",
       "      <td>0</td>\n",
       "      <td>0</td>\n",
       "      <td>...</td>\n",
       "      <td>-87.90446</td>\n",
       "      <td>Boston</td>\n",
       "      <td>MA</td>\n",
       "      <td>42.36435</td>\n",
       "      <td>-71.00518</td>\n",
       "      <td>0</td>\n",
       "      <td>0</td>\n",
       "      <td>8.0</td>\n",
       "      <td>0</td>\n",
       "      <td>6.192857</td>\n",
       "    </tr>\n",
       "  </tbody>\n",
       "</table>\n",
       "<p>5 rows × 28 columns</p>\n",
       "</div>"
      ],
      "text/plain": [
       "  AIRLINE  FLIGHT_NUMBER TAIL_NUMBER ORIGIN_AIRPORT DESTINATION_AIRPORT  \\\n",
       "0      UA           1238      N812UA            DEN                 BIL   \n",
       "1      EV           6134      N14171            ORD                 BNA   \n",
       "2      EV           4682      N15910            ORD                 BHM   \n",
       "3      UA           1550      N822UA            ORD                 BTV   \n",
       "4      UA           1502      N33262            ORD                 BOS   \n",
       "\n",
       "   DEPARTURE_DELAY  SCHEDULED_TIME  DISTANCE  CANCELLED CANCELLATION_REASON  \\\n",
       "0              1.0            96.0       455          0                   0   \n",
       "1             28.0            92.0       409          0                   0   \n",
       "2              0.0           112.0       584          1                   B   \n",
       "3             -3.0           122.0       763          0                   0   \n",
       "4             34.0           140.0       867          0                   0   \n",
       "\n",
       "   ...  OR_LONGITUDE    DES_CITY  DES_STATE  DES_LATITUDE  DES_LONGITUDE  \\\n",
       "0  ...    -104.66700    Billings         MT      45.80766     -108.54286   \n",
       "1  ...     -87.90446   Nashville         TN      36.12448      -86.67818   \n",
       "2  ...     -87.90446  Birmingham         AL      33.56294      -86.75355   \n",
       "3  ...     -87.90446  Burlington         VT      44.47300      -73.15031   \n",
       "4  ...     -87.90446      Boston         MA      42.36435      -71.00518   \n",
       "\n",
       "  WEEKEND_DE HOUR_DE  ARRIVAL_DELAY_v1  ARRIVAL_DELAY     SPEED  \n",
       "0          0       0             -17.0              0  4.739583  \n",
       "1          0       0              19.0              1  4.445652  \n",
       "2          0       0               0.0              0  5.214286  \n",
       "3          0       0              -8.0              0  6.254098  \n",
       "4          0       0               8.0              0  6.192857  \n",
       "\n",
       "[5 rows x 28 columns]"
      ]
     },
     "execution_count": 91,
     "metadata": {},
     "output_type": "execute_result"
    }
   ],
   "source": [
    "df_final = df_final.dropna(axis=0, how='any')\n",
    "df_final.head()"
   ]
  },
  {
   "cell_type": "code",
   "execution_count": 92,
   "metadata": {},
   "outputs": [],
   "source": [
    "#df_final.to_csv(index=False)"
   ]
  },
  {
   "cell_type": "code",
   "execution_count": null,
   "metadata": {},
   "outputs": [],
   "source": []
  },
  {
   "cell_type": "code",
   "execution_count": null,
   "metadata": {},
   "outputs": [],
   "source": []
  }
 ],
 "metadata": {
  "kernelspec": {
   "display_name": "Python 3 (ipykernel)",
   "language": "python",
   "name": "python3"
  },
  "language_info": {
   "codemirror_mode": {
    "name": "ipython",
    "version": 3
   },
   "file_extension": ".py",
   "mimetype": "text/x-python",
   "name": "python",
   "nbconvert_exporter": "python",
   "pygments_lexer": "ipython3",
   "version": "3.8.10"
  },
  "toc": {
   "base_numbering": 1,
   "nav_menu": {},
   "number_sections": true,
   "sideBar": true,
   "skip_h1_title": false,
   "title_cell": "Table of Contents",
   "title_sidebar": "Contents",
   "toc_cell": false,
   "toc_position": {},
   "toc_section_display": true,
   "toc_window_display": false
  },
  "varInspector": {
   "cols": {
    "lenName": 16,
    "lenType": 16,
    "lenVar": 40
   },
   "kernels_config": {
    "python": {
     "delete_cmd_postfix": "",
     "delete_cmd_prefix": "del ",
     "library": "var_list.py",
     "varRefreshCmd": "print(var_dic_list())"
    },
    "r": {
     "delete_cmd_postfix": ") ",
     "delete_cmd_prefix": "rm(",
     "library": "var_list.r",
     "varRefreshCmd": "cat(var_dic_list()) "
    }
   },
   "types_to_exclude": [
    "module",
    "function",
    "builtin_function_or_method",
    "instance",
    "_Feature"
   ],
   "window_display": false
  }
 },
 "nbformat": 4,
 "nbformat_minor": 2
}
